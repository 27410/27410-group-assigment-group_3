{
 "cells": [
  {
   "cell_type": "markdown",
   "metadata": {},
   "source": [
    "Indehold:\n",
    "\n",
    " - Assess your predicted strain designs using simulations and pathway visualizations\n",
    " - Assess manually derived strain designs using model simulations\n",
    " - Based on your computations, provide a top 10 list of most promising cell factory designs. The criteria for \"most promising\" are the number of modifications, yield, growth rate and others you might define"
   ]
  }
 ],
 "metadata": {
  "language_info": {
   "name": "python"
  },
  "orig_nbformat": 4
 },
 "nbformat": 4,
 "nbformat_minor": 2
}
