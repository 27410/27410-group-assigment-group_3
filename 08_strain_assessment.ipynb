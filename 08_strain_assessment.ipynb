{
 "cells": [
  {
   "cell_type": "markdown",
   "metadata": {},
   "source": [
    "# Strain assesment"
   ]
  },
  {
   "cell_type": "markdown",
   "metadata": {},
   "source": [
    "Indehold:\n",
    "\n",
    " - Assess your predicted strain designs using simulations and pathway visualizations\n",
    " - Assess manually derived strain designs using model simulations\n",
    " - Based on your computations, provide a top 10 list of most promising cell factory designs. The criteria for \"most promising\" are the number of modifications, yield, growth rate and others you might define"
   ]
  },
  {
   "cell_type": "markdown",
   "metadata": {},
   "source": [
    "## Quantitative strains assessment"
   ]
  },
  {
   "cell_type": "markdown",
   "metadata": {},
   "source": [
    "Three different pathways; pathway 1, the manual obtained, and the combined pathway (Section 02_heterologous_pathway_implementation), were loaded. For each of them models were made containing; the model with no further modification, no NAD(+)/NADPH producing cycling (Section 05_knockout_analysis), coswap1 (Section 06_co-factor_swap), and combinations of these:"
   ]
  },
  {
   "cell_type": "code",
   "execution_count": 6,
   "metadata": {},
   "outputs": [],
   "source": [
    "# Load libraries\n",
    "from cobra.io import read_sbml_model\n",
    "from cobra import Reaction\n",
    "from cobra.core.gene import GPR\n",
    "from matplotlib import pyplot as plt"
   ]
  },
  {
   "cell_type": "code",
   "execution_count": 7,
   "metadata": {},
   "outputs": [
    {
     "name": "stdout",
     "output_type": "stream",
     "text": [
      "Making models:\n",
      "Model 1: iMM904_progesterone\n",
      "Model 2: iMM904_progesterone_noNAD/NADPH_cycling\n",
      "Model 3: iMM904_progesterone_coswap1\n",
      "Model 4: iMM904_progesterone_noNAD/NADPH_cycling_coswap1\n",
      "Model 5: iMM904_progesterone_manual\n",
      "Model 6: iMM904_progesterone_manual_noNAD/NADPH_cycling\n",
      "Model 7: iMM904_progesterone_manual_coswap1\n",
      "Model 8: iMM904_progesterone_manual_noNAD/NADPH_cycling_coswap1\n",
      "Model 9: iMM904_progesterone_pathway_combine\n",
      "Model 10: iMM904_progesterone_pathway_combine_noNAD/NADPH_cycling\n",
      "Model 11: iMM904_progesterone_pathway_combine_coswap1\n",
      "Model 12: iMM904_progesterone_pathway_combine_noNAD/NADPH_cycling_coswap1\n"
     ]
    }
   ],
   "source": [
    "# Making models\n",
    "modelnames = {'':['p'],\n",
    "              '_manual':['p'],\n",
    "              '_pathway_combine':['p'],\n",
    "              '_coswap1':['c',\"YJL052W\",\"YJR009C\",\"YGR192C\"],\n",
    "              '_noNAD/NADPH_cycling':[\"k\",\"G3PT\"]\n",
    "              }\n",
    "\n",
    "def making_KOs(model, pkc_list, new_model_name, count):\n",
    "    tmp_m = model.copy()\n",
    "    tmp_m.id = model.id + new_model_name\n",
    "    print(f'Model {count}: {tmp_m.id}')\n",
    "    count += 1\n",
    "    for KO in pkc_list[1:]:\n",
    "        tmp_m.genes.get_by_id(KO).knock_out()\n",
    "        if tmp_m.genes.get_by_id(KO).functional != False:\n",
    "            print(f\"Error in knocking {tmp_m.genes.get_by_id(KO).name} out in model {tmp_m.id}!\")\n",
    "    return tmp_m, count\n",
    "\n",
    "def remove_reaction(model, pkc_list, new_model_name, count):\n",
    "    tmp_m = model.copy()\n",
    "    tmp_m.id = model.id + new_model_name\n",
    "    print(f'Model {count}: {tmp_m.id}')\n",
    "    count += 1\n",
    "    for KO in pkc_list[1:]:\n",
    "        tmp_m.reactions.get_by_id(KO).lower_bound = 0\n",
    "        tmp_m.reactions.get_by_id(KO).upper_bound = 0\n",
    "    return tmp_m, count\n",
    "\n",
    "def import_reactions(model,infilename):\n",
    "    with open(infilename,\"r\") as infile:\n",
    "        infile.readline()\n",
    "        for line in infile:\n",
    "            line = line.rstrip().split(\",\")\n",
    "            r = Reaction(line[0])\n",
    "            r.name = line[2]\n",
    "            if line[3] != \"\":\n",
    "                r.subsystem = line[3]\n",
    "            r.lower_bound = float(line[4])\n",
    "            r.upper_bound = float(line[5])\n",
    "            if line[1] != \"\":\n",
    "                r.gpr = GPR.from_string(line[1])\n",
    "            for i in range(int(len(line[6:])/2)):\n",
    "                metaboliteID = line[6+i*2]\n",
    "                if metaboliteID != \"\":\n",
    "                    metaboliteID = m.metabolites.get_by_id(metaboliteID)\n",
    "                    bin = float(line[7+i*2])\n",
    "                    r.add_metabolites({metaboliteID:bin})\n",
    "            model.add_reactions([r])\n",
    "            try:\n",
    "                model.reactions.get_by_id(r.id)\n",
    "            except:\n",
    "                print(f\"Error in importing reaction {r} to {model.id}\")\n",
    "\n",
    "\n",
    "print(\"Making models:\")\n",
    "count = 1\n",
    "models = {}\n",
    "for model_p, pkc_id in modelnames.items():\n",
    "    if pkc_id[0] == \"p\":\n",
    "        infilename = \"iMM904_progesterone\"+model_p\n",
    "        print(f\"Model {count}: {infilename}\")\n",
    "        count += 1\n",
    "        m_p = read_sbml_model(\"models/\"+infilename+\".xml\")\n",
    "        tmp_models = [m_p]\n",
    "        models[model_p] = m_p\n",
    "        for model_k, pkc_id in modelnames.items():\n",
    "            if pkc_id[0] == \"k\":\n",
    "                tmp_m, count = remove_reaction(m_p, pkc_id, model_k, count)\n",
    "                models[model_p+model_k] = tmp_m\n",
    "                tmp_models.append(tmp_m)\n",
    "        for m in tmp_models:\n",
    "            for model_c, pkc_id in modelnames.items():\n",
    "                if pkc_id[0] == \"c\":\n",
    "                    tmp_m, count = making_KOs(m, pkc_id, model_c, count)\n",
    "                    import_reactions(tmp_m, \"data/co-factor_swap_reactions.csv\")\n",
    "                    models[m.id.split(\".\")[0].split(\"progesterone\")[1] + model_c] = tmp_m\n",
    "\n"
   ]
  },
  {
   "cell_type": "markdown",
   "metadata": {},
   "source": []
  },
  {
   "cell_type": "code",
   "execution_count": 8,
   "metadata": {},
   "outputs": [
    {
     "name": "stdout",
     "output_type": "stream",
     "text": [
      "['Model 1', 'Model 2', 'Model 3', 'Model 4', 'Model 5', 'Model 6', 'Model 7', 'Model 8', 'Model 9', 'Model 10', 'Model 11', 'Model 12']\n"
     ]
    }
   ],
   "source": [
    "legends = []\n",
    "for i in range(len(models.keys())):\n",
    "    legends.append(\"Model \"+str(i+1))\n",
    "print(legends)"
   ]
  },
  {
   "cell_type": "code",
   "execution_count": null,
   "metadata": {},
   "outputs": [],
   "source": [
    "# Phase plane of \n",
    "legends = []\n",
    "for i in range(len(models.keys())):\n",
    "    legends.append(\"Model \"+str(i+1))\n",
    "for name, model in models.keys():\n",
    "    with model:\n",
    "        model.objective = model.reactions.DM_progesterone_c\n",
    "        model.optimize()\n",
    "        max_prog = model.reactions.DM_progesterone_c.flux\n",
    "        model.objective = model.reactions.BIOMASS_SC5_notrace\n",
    "        len = 100\n",
    "        pp = []\n",
    "        biomass = []\n",
    "        for i in range(len):\n",
    "            pp.append((i/(len-1))*max_prog)\n",
    "            m.reactions.DM_progesterone_c.lower_bound = pp[i]\n",
    "            biomass.append(m.optimize().objective_value)\n",
    "        plt.plot(biomass,pp)        \n",
    "plt.legend(legends)\n",
    "plt.xlabel(\"BIOMASS\")\n",
    "plt.ylabel(\"PROGESTERONE\")\n",
    "plt.title(\"PHASE PLANE\")\n",
    "plt.show()\n",
    "\n",
    "\n",
    "for model in legends:\n",
    "    with model as m:\n",
    "        if legend == \"No NAD(+)/NADPH producing cycling\":\n",
    "            m.reactions.G3PT.upper_bound = 0\n",
    "        m.objective = m.reactions.DM_progesterone_c\n",
    "        m.optimize()\n",
    "        max_prog = m.reactions.DM_progesterone_c.flux\n",
    "        m.objective = m.reactions.BIOMASS_SC5_notrace\n",
    "        len = 100\n",
    "        pp = []\n",
    "        biomass = []\n",
    "        for i in range(len):\n",
    "            pp.append((i/(len-1))*max_prog)\n",
    "            m.reactions.DM_progesterone_c.lower_bound = pp[i]\n",
    "            biomass.append(m.optimize().objective_value)\n",
    "        plt.plot(biomass,pp)\n",
    "plt.legend(legends)\n",
    "plt.xlabel(\"BIOMASS\")\n",
    "plt.ylabel(\"PROGESTERONE\")\n",
    "plt.title(\"PHASE PLANE\")\n",
    "plt.show()"
   ]
  },
  {
   "cell_type": "code",
   "execution_count": 30,
   "metadata": {},
   "outputs": [
    {
     "name": "stdout",
     "output_type": "stream",
     "text": [
      "For model iMM904_progesterone:\n",
      "Maximum growth: 0.2878657037040168 gDW/h\n",
      "Maximum progesterone productivity: 0.16666666666666666 mmol/gDW*h\n",
      "For model iMM904_progesterone_KO1:\n",
      "Maximum growth: 0.2878657037040168 gDW/h\n",
      "Maximum progesterone productivity: 0.16666666666666666 mmol/gDW*h\n",
      "For model iMM904_progesterone_coswap1:\n",
      "Maximum growth: 0.29373393760455824 gDW/h\n",
      "Maximum progesterone productivity: 0.16666666666666666 mmol/gDW*h\n",
      "For model iMM904_progesterone_KO1_coswap1:\n",
      "Maximum growth: 0.29373393760455824 gDW/h\n",
      "Maximum progesterone productivity: 0.16666666666666666 mmol/gDW*h\n",
      "For model iMM904_progesterone_manual:\n",
      "Maximum growth: 0.287865703704016 gDW/h\n",
      "Maximum progesterone productivity: 0.14285714285714285 mmol/gDW*h\n",
      "For model iMM904_progesterone_manual_KO1:\n",
      "Maximum growth: 0.287865703704016 gDW/h\n",
      "Maximum progesterone productivity: 0.14285714285714285 mmol/gDW*h\n",
      "For model iMM904_progesterone_manual_coswap1:\n",
      "Maximum growth: 0.29373393760455674 gDW/h\n",
      "Maximum progesterone productivity: 0.14285714285714285 mmol/gDW*h\n",
      "For model iMM904_progesterone_manual_KO1_coswap1:\n",
      "Maximum growth: 0.29373393760455674 gDW/h\n",
      "Maximum progesterone productivity: 0.14285714285714285 mmol/gDW*h\n",
      "For model iMM904_progesterone_pathway_combine:\n",
      "Maximum growth: 0.28786570370401676 gDW/h\n",
      "Maximum progesterone productivity: 0.16666666666666666 mmol/gDW*h\n",
      "For model iMM904_progesterone_pathway_combine_KO1:\n",
      "Maximum growth: 0.28786570370401676 gDW/h\n",
      "Maximum progesterone productivity: 0.16666666666666666 mmol/gDW*h\n",
      "For model iMM904_progesterone_pathway_combine_coswap1:\n",
      "Maximum growth: 0.29373393760455796 gDW/h\n",
      "Maximum progesterone productivity: 0.16666666666666674 mmol/gDW*h\n",
      "For model iMM904_progesterone_pathway_combine_KO1_coswap1:\n",
      "Maximum growth: 0.29373393760455796 gDW/h\n",
      "Maximum progesterone productivity: 0.16666666666666674 mmol/gDW*h\n"
     ]
    }
   ],
   "source": [
    "baseline_max_growth = []\n",
    "baseline_max_production = []\n",
    "for name, model in models.items():\n",
    "    with model:\n",
    "        max_growth = model.optimize().objective_value\n",
    "        baseline_max_growth.append(max_growth)\n",
    "        model.objective = model.reactions.DM_progesterone_c\n",
    "        max_production = model.optimize().objective_value\n",
    "        baseline_max_production.append(max_production)\n",
    "    print(f\"For model iMM904_progesterone{name}:\")\n",
    "    print(f\"Maximum growth: {max_growth} /h\")\n",
    "    print(f\"Maximum progesterone productivity: {max_production} mmol/gDW*h\")"
   ]
  },
  {
   "cell_type": "code",
   "execution_count": 31,
   "metadata": {},
   "outputs": [],
   "source": [
    "zymst = models[\"\"].metabolites.zymst_c"
   ]
  },
  {
   "cell_type": "code",
   "execution_count": 32,
   "metadata": {},
   "outputs": [],
   "source": [
    "fluxes = models[\"\"].optimize().fluxes"
   ]
  },
  {
   "cell_type": "code",
   "execution_count": 33,
   "metadata": {},
   "outputs": [
    {
     "name": "stdout",
     "output_type": "stream",
     "text": [
      "R07498: h_c + nadph_c + zymst_c <=> cholesta8en3betaol_c + nadp_c\n",
      "CHLSTI: amet_c + o2_c + zymst_c --> ahcys_c + ergtetrol_c + 2.0 h2o_c + h_c\n",
      "ZYMSTESTH_SC: h2o_c + 0.01 zymstest_SC_c --> h_c + 0.02 hdca_c + 0.655 hdcea_c + 0.01 hexc_c + 0.03 ocdca_c + 0.27 ocdcea_c + 0.015 ttdca_c + 0.01 zymst_c\n",
      "ZYMSTAT_SC: 0.655 hdcoa_c + 0.01 hexccoa_c + 0.27 odecoa_c + 0.02 pmtcoa_c + 0.03 stcoa_c + 0.015 tdcoa_c + 0.01 zymst_c --> coa_c + 0.01 zymstest_SC_c\n",
      "ZYMSTt: zymst_e <=> zymst_c\n",
      "BIOMASS_SC5_notrace: 1.1348 13BDglcn_c + 0.4588 ala__L_c + 0.046 amp_c + 0.1607 arg__L_c + 0.1017 asn__L_c + 0.2975 asp__L_c + 59.276 atp_c + 0.0447 cmp_c + 0.0066 cys__L_c + 0.0036 damp_c + 0.0024 dcmp_c + 0.0024 dgmp_c + 0.0036 dtmp_c + 0.0007 ergst_c + 0.1054 gln__L_c + 0.3018 glu__L_c + 0.2904 gly_c + 0.5185 glycogen_c + 0.046 gmp_c + 59.276 h2o_c + 0.0663 his__L_c + 0.1927 ile__L_c + 0.2964 leu__L_c + 0.2862 lys__L_c + 0.8079 mannan_c + 0.0507 met__L_c + 6e-06 pa_SC_c + 6e-05 pc_SC_c + 4.5e-05 pe_SC_c + 0.1339 phe__L_c + 0.1647 pro__L_c + 1.7e-05 ps_SC_c + 5.3e-05 ptd1ino_SC_c + 0.00099 ribflv_c + 0.1854 ser__L_c + 0.02 so4_c + 0.1914 thr__L_c + 0.0234 tre_c + 6.6e-05 triglyc_SC_c + 0.0284 trp__L_c + 0.102 tyr__L_c + 0.0599 ump_c + 0.2646 val__L_c + 0.0015 zymst_c --> 59.276 adp_c + 58.70001 h_c + 59.305 pi_c\n",
      "C3STKR2: h_c + nadph_c + zym_int2_c --> nadp_c + zymst_c\n",
      "R04804: zymst_c --> cholesta724dien3betaol_c\n",
      "SAM24MT: amet_c + zymst_c --> ahcys_c + fecost_c + h_c\n"
     ]
    }
   ],
   "source": [
    "for reac in zymst.reactions:\n",
    "    print(reac)"
   ]
  },
  {
   "cell_type": "code",
   "execution_count": 34,
   "metadata": {},
   "outputs": [
    {
     "data": {
      "text/html": [
       "\n",
       "        <table>\n",
       "            <tr>\n",
       "                <td><strong>Reaction identifier</strong></td><td>C3STKR2</td>\n",
       "            </tr><tr>\n",
       "                <td><strong>Name</strong></td><td>C 3 sterol keto reductase zymosterol</td>\n",
       "            </tr><tr>\n",
       "                <td><strong>Memory address</strong></td>\n",
       "                <td>0x07fc42aae79a0</td>\n",
       "            </tr><tr>\n",
       "                <td><strong>Stoichiometry</strong></td>\n",
       "                <td>\n",
       "                    <p style='text-align:right'>h_c + nadph_c + zym_int2_c --> nadp_c + zymst_c</p>\n",
       "                    <p style='text-align:right'>H+ + Nicotinamide adenine dinucleotide phosphate - reduced + Zymosterol intermediate 2 C27H42O --> Nicotinamide adenine dinucleotide phosphate + Zymosterol C27H44O</p>\n",
       "                </td>\n",
       "            </tr><tr>\n",
       "                <td><strong>GPR</strong></td><td>YLR100W</td>\n",
       "            </tr><tr>\n",
       "                <td><strong>Lower bound</strong></td><td>0.0</td>\n",
       "            </tr><tr>\n",
       "                <td><strong>Upper bound</strong></td><td>999999.0</td>\n",
       "            </tr>\n",
       "        </table>\n",
       "        "
      ],
      "text/plain": [
       "<Reaction C3STKR2 at 0x7fc42aae79a0>"
      ]
     },
     "execution_count": 34,
     "metadata": {},
     "output_type": "execute_result"
    }
   ],
   "source": [
    "models[\"\"].reactions.C3STKR2"
   ]
  },
  {
   "cell_type": "code",
   "execution_count": 35,
   "metadata": {},
   "outputs": [
    {
     "name": "stdout",
     "output_type": "stream",
     "text": [
      "BIO: 4.31798555556026\n",
      "R07498 0.0 | h_c + nadph_c + zymst_c <=> cholesta8en3betaol_c + nadp_c\n",
      "CHLSTI 2.015059925928121 | amet_c + o2_c + zymst_c --> ahcys_c + ergtetrol_c + 2.0 h2o_c + h_c\n",
      "ZYMSTESTH_SC 0.0 | h2o_c + 0.01 zymstest_SC_c --> h_c + 0.02 hdca_c + 0.655 hdcea_c + 0.01 hexc_c + 0.03 ocdca_c + 0.27 ocdcea_c + 0.015 ttdca_c + 0.01 zymst_c\n",
      "ZYMSTAT_SC 0.0 | 0.655 hdcoa_c + 0.01 hexccoa_c + 0.27 odecoa_c + 0.02 pmtcoa_c + 0.03 stcoa_c + 0.015 tdcoa_c + 0.01 zymst_c --> coa_c + 0.01 zymstest_SC_c\n",
      "ZYMSTt 0.0 | zymst_e <=> zymst_c\n",
      "BIOMASS_SC5_notrace 2878.6570370401732 | 1.1348 13BDglcn_c + 0.4588 ala__L_c + 0.046 amp_c + 0.1607 arg__L_c + 0.1017 asn__L_c + 0.2975 asp__L_c + 59.276 atp_c + 0.0447 cmp_c + 0.0066 cys__L_c + 0.0036 damp_c + 0.0024 dcmp_c + 0.0024 dgmp_c + 0.0036 dtmp_c + 0.0007 ergst_c + 0.1054 gln__L_c + 0.3018 glu__L_c + 0.2904 gly_c + 0.5185 glycogen_c + 0.046 gmp_c + 59.276 h2o_c + 0.0663 his__L_c + 0.1927 ile__L_c + 0.2964 leu__L_c + 0.2862 lys__L_c + 0.8079 mannan_c + 0.0507 met__L_c + 6e-06 pa_SC_c + 6e-05 pc_SC_c + 4.5e-05 pe_SC_c + 0.1339 phe__L_c + 0.1647 pro__L_c + 1.7e-05 ps_SC_c + 5.3e-05 ptd1ino_SC_c + 0.00099 ribflv_c + 0.1854 ser__L_c + 0.02 so4_c + 0.1914 thr__L_c + 0.0234 tre_c + 6.6e-05 triglyc_SC_c + 0.0284 trp__L_c + 0.102 tyr__L_c + 0.0599 ump_c + 0.2646 val__L_c + 0.0015 zymst_c --> 59.276 adp_c + 58.70001 h_c + 59.305 pi_c\n",
      "C3STKR2 6.333045481488382 | h_c + nadph_c + zym_int2_c --> nadp_c + zymst_c\n",
      "R04804 0.0 | zymst_c --> cholesta724dien3betaol_c\n",
      "SAM24MT 0.0 | amet_c + zymst_c --> ahcys_c + fecost_c + h_c\n"
     ]
    }
   ],
   "source": [
    "print(\"BIOMASS:\",models[''].optimize().fluxes[\"BIOMASS_SC5_notrace\"]*0.0015*10000)\n",
    "for reac in zymst.reactions:\n",
    "    print(reac.id, models[''].optimize().fluxes[reac.id]*10000,\"|\",reac.reaction)"
   ]
  },
  {
   "cell_type": "code",
   "execution_count": 36,
   "metadata": {},
   "outputs": [],
   "source": [
    "# with model: \n",
    "#     Glucose_exchange = model.reactions.get_by_id('EX_glc__D_e') #define glucose reaction\n",
    "#     medium = model.medium\n",
    "#     model.objective = {model.reactions.get_by_id('BIOMASS_SC5_notrace'): baseline_max_production, \n",
    "#                     model.reactions.get_by_id('DM_progesterone_c'): baseline_max_growth} # objective is to lead flux through the reaction producing progesterone top maximise production\n",
    "#     solution = model.optimize()\n",
    "#     progesterone_production = solution.fluxes['DM_progesterone_c']\n",
    "#     glucose_flux = model.reactions.EX_glc__D_e.flux\n",
    "#     max_yield = progesterone_production/(-1 * glucose_flux)\n",
    "#     print('Glucose concentration: ',format(medium[Glucose_exchange.id]))\n",
    "#     print('Maximum theoretical biomass productivity: ', round(solution.fluxes['BIOMASS_SC5_notrace'],5), 'gDW/h')\n",
    "#     print('Maximum theoretical productivity of progesterone on glucose: ', round(progesterone_production,5), 'mmol/gDW*h') # calculate productivity\n",
    "#     print('Maximum theoretical yield of progesterone on glucose: ', round(max_yield,5), 'mmol progesterone/mmol glucose') # calculate yield on galactose"
   ]
  },
  {
   "cell_type": "code",
   "execution_count": 37,
   "metadata": {},
   "outputs": [
    {
     "name": "stdout",
     "output_type": "stream",
     "text": [
      "Maximize\n",
      "1.0*BIOMASS_SC5_notrace - 1.0*BIOMASS_SC5_notrace_reverse_93090\n",
      "før 0.007110282881489255\n",
      "BIO 0.28786570370401837\n",
      "zymst 0.0006333045481488405\n",
      "efter 7.37037037037036\n"
     ]
    }
   ],
   "source": [
    "kage = models[\"\"].copy()\n",
    "# kage.reactions.G3PD1ir.lower_bound = 1\n",
    "flux = kage.optimize().fluxes\n",
    "kage.reactions.G3PD1ir\n",
    "\n",
    "print(kage.objective)\n",
    "baseline_max_growth = kage.optimize().objective_value\n",
    "# model.objective = model.reactions.DM_progesterone_c\n",
    "\n",
    "\n",
    "\n",
    "print(\"Flux before\",flux[\"G3PD1ir\"])\n",
    "print(\"BIOMASS\",flux[\"BIOMASS_SC5_notrace\"])\n",
    "print(\"Flux zymst\",flux[\"C3STKR2\"])\n",
    "with kage as k:\n",
    "    k.objective = k.reactions.DM_progesterone_c\n",
    "    baseline_max_production = k.optimize().objective_value\n",
    "    flux_efter = kage.optimize().fluxes\n",
    "    print(\"efter\",flux_efter[\"G3PD1ir\"])"
   ]
  },
  {
   "cell_type": "code",
   "execution_count": 41,
   "metadata": {},
   "outputs": [
    {
     "name": "stdout",
     "output_type": "stream",
     "text": [
      "Maximum theoretical biomass productivity:  0.26631 gDW/h\n",
      "Maximum theoretical productivity of progesterone on glucose:  0.02724 mmol/gDW*h\n",
      "Maximum theoretical yield of progesterone on glucose:  0.00272 mmol progesterone/mmol glucose\n"
     ]
    }
   ],
   "source": [
    "with kage as model: \n",
    "\n",
    "\n",
    "    model.objective = {model.reactions.get_by_id('BIOMASS_SC5_notrace'): 1, \n",
    "                    model.reactions.get_by_id('DM_progesterone_c'): 1} # objective is to lead flux through the reaction producing progesterone top maximise production\n",
    "    solution = model.optimize()\n",
    "    progesterone_production = solution.fluxes['DM_progesterone_c']\n",
    "    glucose_flux = model.reactions.EX_glc__D_e.flux\n",
    "    max_yield = progesterone_production/(-1 * glucose_flux)\n",
    "    # print('Glucose concentration: ',format(medium[Glucose_exchange.id]))\n",
    "    print('Maximum growth:', round(solution.fluxes['BIOMASS_SC5_notrace'],3), '/h')\n",
    "    print('Maximum progesterone productivity:', round(progesterone_production,3), 'mmol/gDW*h') # calculate productivity\n",
    "    print('Maximum progesterone yield:', round(max_yield,3), 'mmol progesterone/mmol glucose') # calculate yield on galactose\n",
    "    "
   ]
  },
  {
   "cell_type": "code",
   "execution_count": 42,
   "metadata": {},
   "outputs": [
    {
     "name": "stdout",
     "output_type": "stream",
     "text": [
      "Maximum theoretical biomass productivity:  0.24241 gDW/h\n",
      "Maximum theoretical productivity of progesterone on glucose:  0.04822 mmol/gDW*h\n",
      "Maximum theoretical yield of progesterone on glucose:  0.00482 mmol progesterone/mmol glucose\n"
     ]
    }
   ],
   "source": [
    "with kage as model: \n",
    "    kage.reactions.G3PD1ir.lower_bound = 4\n",
    "\n",
    "    model.objective = {model.reactions.get_by_id('BIOMASS_SC5_notrace'): 1, \n",
    "                    model.reactions.get_by_id('DM_progesterone_c'): 1} # objective is to lead flux through the reaction producing progesterone top maximise production\n",
    "    solution = model.optimize()\n",
    "    progesterone_production = solution.fluxes['DM_progesterone_c']\n",
    "    glucose_flux = model.reactions.EX_glc__D_e.flux\n",
    "    max_yield = progesterone_production/(-1 * glucose_flux)\n",
    "    # print('Glucose concentration: ',format(medium[Glucose_exchange.id]))\n",
    "    print('Maximum growth:', round(solution.fluxes['BIOMASS_SC5_notrace'],3), '/h')\n",
    "    print('Maximum progesterone productivity:', round(progesterone_production,3), 'mmol/gDW*h') # calculate productivity\n",
    "    print('Maximum progesterone yield:', round(max_yield,3), 'mmol progesterone/mmol glucose') # calculate yield on galactose"
   ]
  },
  {
   "cell_type": "code",
   "execution_count": 51,
   "metadata": {},
   "outputs": [
    {
     "name": "stdout",
     "output_type": "stream",
     "text": [
      "før 0.0\n",
      "BIO 0.28014440931761936\n",
      "zymst 0.0006163177004987626\n"
     ]
    }
   ],
   "source": [
    "kage.reactions.ME2m.upper_bound = 0\n",
    "flux = kage.optimize().fluxes\n",
    "kage.reactions.ME2m\n",
    "print(\"Flux before\",flux[\"ME2m\"])\n",
    "print(\"BIOMASS\",flux[\"BIOMASS_SC5_notrace\"])\n",
    "print(\"Flux zymst\",flux[\"C3STKR2\"])\n"
   ]
  },
  {
   "cell_type": "code",
   "execution_count": null,
   "metadata": {},
   "outputs": [],
   "source": [
    "mmmm.metabolites"
   ]
  },
  {
   "cell_type": "code",
   "execution_count": 28,
   "metadata": {},
   "outputs": [
    {
     "name": "stdout",
     "output_type": "stream",
     "text": [
      "GAPD: g3p_c + nad_c + pi_c <=> 13dpg_c + h_c + nadh_c\n"
     ]
    },
    {
     "data": {
      "text/plain": [
       "'GAPD'"
      ]
     },
     "execution_count": 28,
     "metadata": {},
     "output_type": "execute_result"
    }
   ],
   "source": [
    "print(mmmm.reactions.GAPD)\n",
    "mmmm.reactions.GAPD.id"
   ]
  },
  {
   "cell_type": "code",
   "execution_count": null,
   "metadata": {},
   "outputs": [],
   "source": [
    "# Recreates KOs on models with KOs\n",
    "model_KOs = {models[0]:[\"YJL052W\",\"YJR009C\",\"YGR192C\"],\n",
    "             models[0]:[\"YJL052W\",\"YJR009C\",\"YGR192C\"],\n",
    "             models[0]:[\"YJL052W\",\"YJR009C\",\"YGR192C\"]}\n",
    "\n",
    "for m, KOs in model_KOs.items():\n",
    "    print(f\"For model {m.id}:\")\n",
    "    for KO in KOs:\n",
    "        m.genes.get_by_id(KO).knock_out()\n",
    "        if m.genes.get_by_id(KO).functional == False:\n",
    "            print(f\"{m.genes.get_by_id(KO).name} were successfully knocked out\")  \n",
    "        else:\n",
    "            print(f\"Error in knocking {m.genes.get_by_id(KO).name} out!\")"
   ]
  },
  {
   "cell_type": "markdown",
   "metadata": {},
   "source": [
    "## Metabolic pathway visualisation using Escher"
   ]
  },
  {
   "cell_type": "markdown",
   "metadata": {},
   "source": [
    "The addition or deletion of genes, e.g., when implmenting a heterologous pathway, will change the normal flux balances. Online programs like Escher can be used for visualisation of these changes."
   ]
  },
  {
   "cell_type": "code",
   "execution_count": 3,
   "metadata": {},
   "outputs": [],
   "source": [
    "# Load relevant packages\n",
    "from IPython.display import Image\n",
    "from cobra.io import read_sbml_model \n",
    "from cobra import Model, Reaction, Metabolite\n",
    "import escher"
   ]
  },
  {
   "cell_type": "markdown",
   "metadata": {},
   "source": [
    "## Import of model"
   ]
  },
  {
   "cell_type": "code",
   "execution_count": 4,
   "metadata": {},
   "outputs": [],
   "source": [
    "model = read_sbml_model('models/iMM904_progesterone.xml') # Load model"
   ]
  },
  {
   "cell_type": "code",
   "execution_count": 27,
   "metadata": {},
   "outputs": [
    {
     "name": "stdout",
     "output_type": "stream",
     "text": [
      "Adding reaction progesterone demand: progesterone_c --> \n"
     ]
    }
   ],
   "source": [
    "model.add_boundary(model.metabolites.get_by_id(\"progesterone_c\"), type=\"demand\") # Because it is a reversible reaction, we need to set a demand for production of progesterone \n",
    "print(f'Adding reaction {model.reactions.DM_progesterone_c.name}: {model.reactions.DM_progesterone_c.reaction}') "
   ]
  },
  {
   "cell_type": "markdown",
   "metadata": {},
   "source": [
    "## See available maps in Escher for pathway visualisations"
   ]
  },
  {
   "cell_type": "code",
   "execution_count": 18,
   "metadata": {},
   "outputs": [
    {
     "data": {
      "text/plain": [
       "[{'organism': 'Saccharomyces cerevisiae',\n",
       "  'map_name': 'iMM904.Central carbon metabolism'},\n",
       " {'organism': 'Homo sapiens',\n",
       "  'map_name': 'RECON1.Inositol retinol metabolism'},\n",
       " {'organism': 'Homo sapiens', 'map_name': 'RECON1.Glycolysis TCA PPP'},\n",
       " {'organism': 'Homo sapiens', 'map_name': 'RECON1.Tryptophan metabolism'},\n",
       " {'organism': 'Homo sapiens', 'map_name': 'RECON1.Carbohydrate metabolism'},\n",
       " {'organism': 'Homo sapiens',\n",
       "  'map_name': 'RECON1.Amino acid metabolism (partial)'},\n",
       " {'organism': 'Escherichia coli', 'map_name': 'iJO1366.Nucleotide metabolism'},\n",
       " {'organism': 'Escherichia coli',\n",
       "  'map_name': 'iJO1366.Fatty acid biosynthesis (saturated)'},\n",
       " {'organism': 'Escherichia coli',\n",
       "  'map_name': 'iJO1366.Nucleotide and histidine biosynthesis'},\n",
       " {'organism': 'Escherichia coli', 'map_name': 'e_coli_core.Core metabolism'},\n",
       " {'organism': 'Escherichia coli', 'map_name': 'iJO1366.Central metabolism'},\n",
       " {'organism': 'Escherichia coli',\n",
       "  'map_name': 'iJO1366.Fatty acid beta-oxidation'}]"
      ]
     },
     "execution_count": 18,
     "metadata": {},
     "output_type": "execute_result"
    }
   ],
   "source": [
    "escher.list_available_maps() # see available maps in escher"
   ]
  },
  {
   "cell_type": "markdown",
   "metadata": {},
   "source": [
    "It can be seen that the only available map for *Saccharomyces cerevisiae* is the iMM904 central carbon metabolism. When implementing out heterologous pathway, the normally occuring fluxes are altered; The alterations on the central carbon metabolism can be visulased using Escher on the available map in *S. cerevisiae*."
   ]
  },
  {
   "cell_type": "markdown",
   "metadata": {},
   "source": [
    "## Visualisation of computed fluxes on central carbon metabolism map"
   ]
  },
  {
   "cell_type": "code",
   "execution_count": 5,
   "metadata": {},
   "outputs": [],
   "source": [
    "solution = model.optimize() # simulate model\n",
    "fluxes=solution.fluxes[solution.fluxes != 0.] # filter to only non-zero values\n"
   ]
  },
  {
   "cell_type": "code",
   "execution_count": 19,
   "metadata": {},
   "outputs": [
    {
     "data": {
      "image/png": "[encoded data removed]",
      "text/plain": [
       "<Figure size 640x480 with 1 Axes>"
      ]
     },
     "metadata": {},
     "output_type": "display_data"
    }
   ],
   "source": [
    "fig = solution.fluxes.hist() # Make histogram of distribution of fluxes\n",
    "fig.set_xlabel('Flux $[mmol/gDW*h]$') # X-axis label\n",
    "fig.set_ylabel('Frequency'); # Y-axis label"
   ]
  },
  {
   "cell_type": "code",
   "execution_count": 41,
   "metadata": {},
   "outputs": [],
   "source": [
    "#escher.Builder(model = model, map_json = 'model.json', reaction_data = fluxes.to_dict())"
   ]
  },
  {
   "cell_type": "code",
   "execution_count": 40,
   "metadata": {},
   "outputs": [],
   "source": [
    "#escher.Builder(model = model, map_json = 'progesterone_yeast_model.json', reaction_data = fluxes[0:10])"
   ]
  },
  {
   "cell_type": "code",
   "execution_count": null,
   "metadata": {},
   "outputs": [],
   "source": [
    "escher.Builder('iMM904.Central carbon metabolism',\n",
    "               reaction_data=fluxes.to_dict()) # Adding our fluxes to the iMM904 model and watch how they change"
   ]
  }
 ],
 "metadata": {
  "kernelspec": {
   "display_name": "Python 3.9.13 ('base')",
   "language": "python",
   "name": "python3"
  },
  "language_info": {
   "codemirror_mode": {
    "name": "ipython",
    "version": 3
   },
   "file_extension": ".py",
   "mimetype": "text/x-python",
   "name": "python",
   "nbconvert_exporter": "python",
   "pygments_lexer": "ipython3",
   "version": "3.9.13"
  },
  "orig_nbformat": 4,
  "vscode": {
   "interpreter": {
    "hash": "1c61bb7f5e5b8317d1eec5b8bcaa12241e8a88d5b6ba26b6e318bf21311ddd01"
   }
  }
 },
 "nbformat": 4,
 "nbformat_minor": 2
}
