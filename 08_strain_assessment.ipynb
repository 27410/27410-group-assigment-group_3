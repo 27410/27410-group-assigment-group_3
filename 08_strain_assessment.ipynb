{
 "cells": [
  {
   "cell_type": "markdown",
   "metadata": {},
   "source": [
    "Indehold:\n",
    "\n",
    " - Assess your predicted strain designs using simulations and pathway visualizations\n",
    " - Assess manually derived strain designs using model simulations\n",
    " - Based on your computations, provide a top 10 list of most promising cell factory designs. The criteria for \"most promising\" are the number of modifications, yield, growth rate and others you might define"
   ]
  },
  {
   "cell_type": "code",
   "execution_count": 139,
   "metadata": {},
   "outputs": [],
   "source": [
    "# Load relevant packages\n",
    "import cobra\n",
    "from cobra.io import read_sbml_model \n",
    "from cobra import Model, Reaction, Metabolite\n",
    "import escher\n",
    "from escher import Builder\n",
    "import json"
   ]
  },
  {
   "cell_type": "code",
   "execution_count": 140,
   "metadata": {},
   "outputs": [],
   "source": [
    "model = read_sbml_model('models/iMM904_progesterone_fixed.xml') # Load model"
   ]
  },
  {
   "cell_type": "code",
   "execution_count": 141,
   "metadata": {},
   "outputs": [
    {
     "data": {
      "text/html": [
       "\n",
       "        <table>\n",
       "            <tr>\n",
       "                <td><strong>Reaction identifier</strong></td><td>DM_progesterone_c</td>\n",
       "            </tr><tr>\n",
       "                <td><strong>Name</strong></td><td>progesterone demand</td>\n",
       "            </tr><tr>\n",
       "                <td><strong>Memory address</strong></td>\n",
       "                <td>0x13c316da0</td>\n",
       "            </tr><tr>\n",
       "                <td><strong>Stoichiometry</strong></td>\n",
       "                <td>\n",
       "                    <p style='text-align:right'>progesterone_c --></p>\n",
       "                    <p style='text-align:right'>progesterone --></p>\n",
       "                </td>\n",
       "            </tr><tr>\n",
       "                <td><strong>GPR</strong></td><td></td>\n",
       "            </tr><tr>\n",
       "                <td><strong>Lower bound</strong></td><td>0</td>\n",
       "            </tr><tr>\n",
       "                <td><strong>Upper bound</strong></td><td>1000.0</td>\n",
       "            </tr>\n",
       "        </table>\n",
       "        "
      ],
      "text/plain": [
       "<Reaction DM_progesterone_c at 0x13c316da0>"
      ]
     },
     "execution_count": 141,
     "metadata": {},
     "output_type": "execute_result"
    }
   ],
   "source": [
    "model.add_boundary(model.metabolites.get_by_id(\"progesterone_c\"), type=\"demand\") # Because it is a reversible reaction, we need to set a demand for production of progesterone "
   ]
  },
  {
   "cell_type": "code",
   "execution_count": 142,
   "metadata": {},
   "outputs": [
    {
     "name": "stdout",
     "output_type": "stream",
     "text": [
      "Downloading Map from https://escher.github.io/1-0-0/6/maps/Saccharomyces%20cerevisiae/iMM904.Central%20carbon%20metabolism.json\n"
     ]
    },
    {
     "data": {
      "application/vnd.jupyter.widget-view+json": {
       "model_id": "bd289b7218b4467c9b1d303f6275cf80",
       "version_major": 2,
       "version_minor": 0
      },
      "text/plain": [
       "Builder()"
      ]
     },
     "metadata": {},
     "output_type": "display_data"
    }
   ],
   "source": [
    "escher.Builder('iMM904.Central carbon metabolism') # Use escher to visualise the iMM904 model (central metabolism - only one available on escher)"
   ]
  },
  {
   "cell_type": "code",
   "execution_count": 143,
   "metadata": {},
   "outputs": [],
   "source": [
    "solution = model.optimize() # simulate model\n",
    "fluxes=solution.fluxes[solution.fluxes != 0.] # filter tonon-zero values\n"
   ]
  },
  {
   "cell_type": "code",
   "execution_count": 144,
   "metadata": {},
   "outputs": [
    {
     "name": "stdout",
     "output_type": "stream",
     "text": [
      "Downloading Map from https://escher.github.io/1-0-0/6/maps/Saccharomyces%20cerevisiae/iMM904.Central%20carbon%20metabolism.json\n"
     ]
    },
    {
     "data": {
      "application/vnd.jupyter.widget-view+json": {
       "model_id": "a57d5240e1814d7ea32746c88f305b84",
       "version_major": 2,
       "version_minor": 0
      },
      "text/plain": [
       "Builder(reaction_data={'13GS': 0.32667000056331613, 'ACCOAC': 0.11445540379271635, 'AGAT_SC': 0.00711028288148…"
      ]
     },
     "metadata": {},
     "output_type": "display_data"
    }
   ],
   "source": [
    "escher.Builder('iMM904.Central carbon metabolism',\n",
    "               reaction_data=fluxes.to_dict()) # Adding our fluxes to the iMM904 model and watch how they change"
   ]
  },
  {
   "cell_type": "markdown",
   "metadata": {},
   "source": [
    "It can be seen that changing the model affects the central metabolism in several different ways: Pathways with a high flux are shown in red ([10;max]), whereas pahtways with little flux is shown in blue ([0;10]). Pathways with zero flux ([=0]) are shown in grey."
   ]
  }
 ],
 "metadata": {
  "kernelspec": {
   "display_name": "Python 3.10.6 64-bit",
   "language": "python",
   "name": "python3"
  },
  "language_info": {
   "codemirror_mode": {
    "name": "ipython",
    "version": 3
   },
   "file_extension": ".py",
   "mimetype": "text/x-python",
   "name": "python",
   "nbconvert_exporter": "python",
   "pygments_lexer": "ipython3",
   "version": "3.10.6"
  },
  "orig_nbformat": 4,
  "vscode": {
   "interpreter": {
    "hash": "aee8b7b246df8f9039afb4144a1f6fd8d2ca17a180786b69acc140d282b71a49"
   }
  }
 },
 "nbformat": 4,
 "nbformat_minor": 2
}
