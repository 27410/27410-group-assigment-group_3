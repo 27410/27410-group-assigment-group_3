{
 "cells": [
  {
   "cell_type": "markdown",
   "metadata": {},
   "source": [
    "Indehold:\n",
    "\n",
    " - Assess your predicted strain designs using simulations and pathway visualizations\n",
    " - Assess manually derived strain designs using model simulations\n",
    " - Based on your computations, provide a top 10 list of most promising cell factory designs. The criteria for \"most promising\" are the number of modifications, yield, growth rate and others you might define"
   ]
  },
  {
   "cell_type": "code",
   "execution_count": 3,
   "metadata": {},
   "outputs": [],
   "source": [
    "from cobra.io import read_sbml_model \n",
    "from cobra import Model, Reaction, Metabolite\n",
    "import escher"
   ]
  },
  {
   "cell_type": "code",
   "execution_count": 4,
   "metadata": {},
   "outputs": [],
   "source": [
    "model = read_sbml_model('models/iMM904_progesterone_fixed.xml') # Load model"
   ]
  },
  {
   "cell_type": "code",
   "execution_count": 5,
   "metadata": {},
   "outputs": [
    {
     "data": {
      "text/html": [
       "\n",
       "        <table>\n",
       "            <tr>\n",
       "                <td><strong>Reaction identifier</strong></td><td>DM_progesterone_c</td>\n",
       "            </tr><tr>\n",
       "                <td><strong>Name</strong></td><td>progesterone demand</td>\n",
       "            </tr><tr>\n",
       "                <td><strong>Memory address</strong></td>\n",
       "                <td>0x13154cca0</td>\n",
       "            </tr><tr>\n",
       "                <td><strong>Stoichiometry</strong></td>\n",
       "                <td>\n",
       "                    <p style='text-align:right'>progesterone_c --></p>\n",
       "                    <p style='text-align:right'>progesterone --></p>\n",
       "                </td>\n",
       "            </tr><tr>\n",
       "                <td><strong>GPR</strong></td><td></td>\n",
       "            </tr><tr>\n",
       "                <td><strong>Lower bound</strong></td><td>0</td>\n",
       "            </tr><tr>\n",
       "                <td><strong>Upper bound</strong></td><td>1000.0</td>\n",
       "            </tr>\n",
       "        </table>\n",
       "        "
      ],
      "text/plain": [
       "<Reaction DM_progesterone_c at 0x13154cca0>"
      ]
     },
     "execution_count": 5,
     "metadata": {},
     "output_type": "execute_result"
    }
   ],
   "source": [
    "model.add_boundary(model.metabolites.get_by_id(\"progesterone_c\"), type=\"demand\") # Because it is a reversible reaction, we need to set a demand for production of progesterone "
   ]
  },
  {
   "cell_type": "code",
   "execution_count": 6,
   "metadata": {},
   "outputs": [
    {
     "data": {
      "text/plain": [
       "13GS        0.326670\n",
       "ACCOAC      0.114455\n",
       "AGAT_SC     0.007110\n",
       "AGPRim      0.046260\n",
       "AGTi        0.015001\n",
       "             ...    \n",
       "PSP_L       0.164049\n",
       "PStm_SC     0.000030\n",
       "URIDK2r    -0.001727\n",
       "PYK        17.721990\n",
       "PYRDC      15.946051\n",
       "Name: fluxes, Length: 305, dtype: float64"
      ]
     },
     "execution_count": 6,
     "metadata": {},
     "output_type": "execute_result"
    }
   ],
   "source": [
    "model2 = model.optimize()\n",
    "model2.fluxes[model2.fluxes != 0.]"
   ]
  },
  {
   "cell_type": "code",
   "execution_count": 8,
   "metadata": {},
   "outputs": [
    {
     "ename": "Exception",
     "evalue": "Could not find the map iMM904_progesterone_fixed.Central carbon metabolism on the server",
     "output_type": "error",
     "traceback": [
      "\u001b[0;31m---------------------------------------------------------------------------\u001b[0m",
      "\u001b[0;31mException\u001b[0m                                 Traceback (most recent call last)",
      "Cell \u001b[0;32mIn [8], line 1\u001b[0m\n\u001b[0;32m----> 1\u001b[0m escher\u001b[39m.\u001b[39;49mBuilder(\u001b[39m'\u001b[39;49m\u001b[39miMM904_progesterone_fixed.Central carbon metabolism\u001b[39;49m\u001b[39m'\u001b[39;49m,reaction_data \u001b[39m=\u001b[39;49m model2\u001b[39m.\u001b[39;49mfluxes\u001b[39m.\u001b[39;49mto_dict())\u001b[39m.\u001b[39mdisplay_in_notebook()\n",
      "File \u001b[0;32m/Library/Frameworks/Python.framework/Versions/3.10/lib/python3.10/site-packages/escher/plots.py:540\u001b[0m, in \u001b[0;36mBuilder.__init__\u001b[0;34m(self, map_name, map_json, model, model_name, model_json, **kwargs)\u001b[0m\n\u001b[1;32m    538\u001b[0m     \u001b[39mself\u001b[39m\u001b[39m.\u001b[39mmap_json \u001b[39m=\u001b[39m map_json\n\u001b[1;32m    539\u001b[0m \u001b[39melse\u001b[39;00m:\n\u001b[0;32m--> 540\u001b[0m     \u001b[39mself\u001b[39;49m\u001b[39m.\u001b[39;49mmap_name \u001b[39m=\u001b[39m map_name\n\u001b[1;32m    542\u001b[0m \u001b[39mif\u001b[39;00m model:\n\u001b[1;32m    543\u001b[0m     \u001b[39mif\u001b[39;00m model_name:\n",
      "File \u001b[0;32m~/Library/Python/3.10/lib/python/site-packages/traitlets/traitlets.py:715\u001b[0m, in \u001b[0;36mTraitType.__set__\u001b[0;34m(self, obj, value)\u001b[0m\n\u001b[1;32m    713\u001b[0m     \u001b[39mraise\u001b[39;00m TraitError(\u001b[39m'\u001b[39m\u001b[39mThe \u001b[39m\u001b[39m\"\u001b[39m\u001b[39m%s\u001b[39;00m\u001b[39m\"\u001b[39m\u001b[39m trait is read-only.\u001b[39m\u001b[39m'\u001b[39m \u001b[39m%\u001b[39m \u001b[39mself\u001b[39m\u001b[39m.\u001b[39mname)\n\u001b[1;32m    714\u001b[0m \u001b[39melse\u001b[39;00m:\n\u001b[0;32m--> 715\u001b[0m     \u001b[39mself\u001b[39;49m\u001b[39m.\u001b[39;49mset(obj, value)\n",
      "File \u001b[0;32m~/Library/Python/3.10/lib/python/site-packages/traitlets/traitlets.py:704\u001b[0m, in \u001b[0;36mTraitType.set\u001b[0;34m(self, obj, value)\u001b[0m\n\u001b[1;32m    700\u001b[0m     silent \u001b[39m=\u001b[39m \u001b[39mFalse\u001b[39;00m\n\u001b[1;32m    701\u001b[0m \u001b[39mif\u001b[39;00m silent \u001b[39mis\u001b[39;00m \u001b[39mnot\u001b[39;00m \u001b[39mTrue\u001b[39;00m:\n\u001b[1;32m    702\u001b[0m     \u001b[39m# we explicitly compare silent to True just in case the equality\u001b[39;00m\n\u001b[1;32m    703\u001b[0m     \u001b[39m# comparison above returns something other than True/False\u001b[39;00m\n\u001b[0;32m--> 704\u001b[0m     obj\u001b[39m.\u001b[39;49m_notify_trait(\u001b[39mself\u001b[39;49m\u001b[39m.\u001b[39;49mname, old_value, new_value)\n",
      "File \u001b[0;32m~/Library/Python/3.10/lib/python/site-packages/traitlets/traitlets.py:1374\u001b[0m, in \u001b[0;36mHasTraits._notify_trait\u001b[0;34m(self, name, old_value, new_value)\u001b[0m\n\u001b[1;32m   1373\u001b[0m \u001b[39mdef\u001b[39;00m \u001b[39m_notify_trait\u001b[39m(\u001b[39mself\u001b[39m, name, old_value, new_value):\n\u001b[0;32m-> 1374\u001b[0m     \u001b[39mself\u001b[39;49m\u001b[39m.\u001b[39;49mnotify_change(\n\u001b[1;32m   1375\u001b[0m         Bunch(\n\u001b[1;32m   1376\u001b[0m             name\u001b[39m=\u001b[39;49mname,\n\u001b[1;32m   1377\u001b[0m             old\u001b[39m=\u001b[39;49mold_value,\n\u001b[1;32m   1378\u001b[0m             new\u001b[39m=\u001b[39;49mnew_value,\n\u001b[1;32m   1379\u001b[0m             owner\u001b[39m=\u001b[39;49m\u001b[39mself\u001b[39;49m,\n\u001b[1;32m   1380\u001b[0m             \u001b[39mtype\u001b[39;49m\u001b[39m=\u001b[39;49m\u001b[39m\"\u001b[39;49m\u001b[39mchange\u001b[39;49m\u001b[39m\"\u001b[39;49m,\n\u001b[1;32m   1381\u001b[0m         )\n\u001b[1;32m   1382\u001b[0m     )\n",
      "File \u001b[0;32m/Library/Frameworks/Python.framework/Versions/3.10/lib/python3.10/site-packages/ipywidgets/widgets/widget.py:686\u001b[0m, in \u001b[0;36mWidget.notify_change\u001b[0;34m(self, change)\u001b[0m\n\u001b[1;32m    683\u001b[0m     \u001b[39mif\u001b[39;00m name \u001b[39min\u001b[39;00m \u001b[39mself\u001b[39m\u001b[39m.\u001b[39mkeys \u001b[39mand\u001b[39;00m \u001b[39mself\u001b[39m\u001b[39m.\u001b[39m_should_send_property(name, \u001b[39mgetattr\u001b[39m(\u001b[39mself\u001b[39m, name)):\n\u001b[1;32m    684\u001b[0m         \u001b[39m# Send new state to front-end\u001b[39;00m\n\u001b[1;32m    685\u001b[0m         \u001b[39mself\u001b[39m\u001b[39m.\u001b[39msend_state(key\u001b[39m=\u001b[39mname)\n\u001b[0;32m--> 686\u001b[0m \u001b[39msuper\u001b[39;49m(Widget, \u001b[39mself\u001b[39;49m)\u001b[39m.\u001b[39;49mnotify_change(change)\n",
      "File \u001b[0;32m~/Library/Python/3.10/lib/python/site-packages/traitlets/traitlets.py:1386\u001b[0m, in \u001b[0;36mHasTraits.notify_change\u001b[0;34m(self, change)\u001b[0m\n\u001b[1;32m   1384\u001b[0m \u001b[39mdef\u001b[39;00m \u001b[39mnotify_change\u001b[39m(\u001b[39mself\u001b[39m, change):\n\u001b[1;32m   1385\u001b[0m     \u001b[39m\"\"\"Notify observers of a change event\"\"\"\u001b[39;00m\n\u001b[0;32m-> 1386\u001b[0m     \u001b[39mreturn\u001b[39;00m \u001b[39mself\u001b[39;49m\u001b[39m.\u001b[39;49m_notify_observers(change)\n",
      "File \u001b[0;32m~/Library/Python/3.10/lib/python/site-packages/traitlets/traitlets.py:1431\u001b[0m, in \u001b[0;36mHasTraits._notify_observers\u001b[0;34m(self, event)\u001b[0m\n\u001b[1;32m   1428\u001b[0m \u001b[39melif\u001b[39;00m \u001b[39misinstance\u001b[39m(c, EventHandler) \u001b[39mand\u001b[39;00m c\u001b[39m.\u001b[39mname \u001b[39mis\u001b[39;00m \u001b[39mnot\u001b[39;00m \u001b[39mNone\u001b[39;00m:\n\u001b[1;32m   1429\u001b[0m     c \u001b[39m=\u001b[39m \u001b[39mgetattr\u001b[39m(\u001b[39mself\u001b[39m, c\u001b[39m.\u001b[39mname)\n\u001b[0;32m-> 1431\u001b[0m c(event)\n",
      "File \u001b[0;32m/Library/Frameworks/Python.framework/Versions/3.10/lib/python3.10/site-packages/escher/plots.py:339\u001b[0m, in \u001b[0;36mBuilder._observe_map_name\u001b[0;34m(self, change)\u001b[0m\n\u001b[1;32m    336\u001b[0m \u001b[39m@observe\u001b[39m(\u001b[39m'\u001b[39m\u001b[39mmap_name\u001b[39m\u001b[39m'\u001b[39m)\n\u001b[1;32m    337\u001b[0m \u001b[39mdef\u001b[39;00m \u001b[39m_observe_map_name\u001b[39m(\u001b[39mself\u001b[39m, change):\n\u001b[1;32m    338\u001b[0m     \u001b[39mif\u001b[39;00m change\u001b[39m.\u001b[39mnew:\n\u001b[0;32m--> 339\u001b[0m         \u001b[39mself\u001b[39m\u001b[39m.\u001b[39m_loaded_map_json \u001b[39m=\u001b[39m map_json_for_name(change\u001b[39m.\u001b[39;49mnew)\n\u001b[1;32m    340\u001b[0m     \u001b[39melse\u001b[39;00m:\n\u001b[1;32m    341\u001b[0m         \u001b[39mself\u001b[39m\u001b[39m.\u001b[39m_loaded_map_json \u001b[39m=\u001b[39m \u001b[39mNone\u001b[39;00m\n",
      "File \u001b[0;32m/Library/Frameworks/Python.framework/Versions/3.10/lib/python3.10/site-packages/escher/plots.py:92\u001b[0m, in \u001b[0;36mmap_json_for_name\u001b[0;34m(map_name)\u001b[0m\n\u001b[1;32m     91\u001b[0m \u001b[39mdef\u001b[39;00m \u001b[39mmap_json_for_name\u001b[39m(map_name):\n\u001b[0;32m---> 92\u001b[0m     \u001b[39mreturn\u001b[39;00m _json_for_name(map_name, \u001b[39m'\u001b[39;49m\u001b[39mmap\u001b[39;49m\u001b[39m'\u001b[39;49m)\n",
      "File \u001b[0;32m/Library/Frameworks/Python.framework/Versions/3.10/lib/python3.10/site-packages/escher/plots.py:71\u001b[0m, in \u001b[0;36m_json_for_name\u001b[0;34m(name, kind)\u001b[0m\n\u001b[1;32m     69\u001b[0m match \u001b[39m=\u001b[39m match_in_index(name, server_index(), kind)\n\u001b[1;32m     70\u001b[0m \u001b[39mif\u001b[39;00m \u001b[39mlen\u001b[39m(match) \u001b[39m==\u001b[39m \u001b[39m0\u001b[39m:\n\u001b[0;32m---> 71\u001b[0m     \u001b[39mraise\u001b[39;00m \u001b[39mException\u001b[39;00m(\u001b[39m'\u001b[39m\u001b[39mCould not find the \u001b[39m\u001b[39m{kind}\u001b[39;00m\u001b[39m \u001b[39m\u001b[39m{name}\u001b[39;00m\u001b[39m on the server\u001b[39m\u001b[39m'\u001b[39m\n\u001b[1;32m     72\u001b[0m                     \u001b[39m.\u001b[39mformat(kind\u001b[39m=\u001b[39mkind, name\u001b[39m=\u001b[39mname))\n\u001b[1;32m     73\u001b[0m org, name \u001b[39m=\u001b[39m match[\u001b[39m0\u001b[39m]\n\u001b[1;32m     74\u001b[0m url \u001b[39m=\u001b[39m (\n\u001b[1;32m     75\u001b[0m     get_url(kind \u001b[39m+\u001b[39m \u001b[39m'\u001b[39m\u001b[39m_download\u001b[39m\u001b[39m'\u001b[39m) \u001b[39m+\u001b[39m\n\u001b[1;32m     76\u001b[0m     \u001b[39m'\u001b[39m\u001b[39m/\u001b[39m\u001b[39m'\u001b[39m\u001b[39m.\u001b[39mjoin([url_escape(x) \u001b[39mfor\u001b[39;00m x \u001b[39min\u001b[39;00m [org, name \u001b[39m+\u001b[39m \u001b[39m'\u001b[39m\u001b[39m.json\u001b[39m\u001b[39m'\u001b[39m]])\n\u001b[1;32m     77\u001b[0m )\n",
      "\u001b[0;31mException\u001b[0m: Could not find the map iMM904_progesterone_fixed.Central carbon metabolism on the server"
     ]
    }
   ],
   "source": [
    "escher.Builder('iMM904_progesterone_fixed.Central carbon metabolism',reaction_data = model2.fluxes.to_dict()).display_in_notebook()"
   ]
  }
 ],
 "metadata": {
  "kernelspec": {
   "display_name": "Python 3.10.6 64-bit",
   "language": "python",
   "name": "python3"
  },
  "language_info": {
   "codemirror_mode": {
    "name": "ipython",
    "version": 3
   },
   "file_extension": ".py",
   "mimetype": "text/x-python",
   "name": "python",
   "nbconvert_exporter": "python",
   "pygments_lexer": "ipython3",
   "version": "3.10.6"
  },
  "orig_nbformat": 4,
  "vscode": {
   "interpreter": {
    "hash": "aee8b7b246df8f9039afb4144a1f6fd8d2ca17a180786b69acc140d282b71a49"
   }
  }
 },
 "nbformat": 4,
 "nbformat_minor": 2
}
