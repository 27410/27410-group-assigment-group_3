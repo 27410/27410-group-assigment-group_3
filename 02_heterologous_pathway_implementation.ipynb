{
 "cells": [
  {
   "cell_type": "markdown",
   "metadata": {},
   "source": [
    "# Heterologous pathway implementation"
   ]
  },
  {
   "cell_type": "markdown",
   "metadata": {},
   "source": [
    "Yeast cells naturally produce steroids. The main steroid in yeast is ergosterol which is produced in a long biosynthetic pathway from the precursor squalene. In this pathway the intermediates zymosterol and 5-dehydroepisterol are produced. Interestingly, from these compounds it should be theoretically possible to produce progesterone through the implementation of new pathways. However, the biosynthesis of progesterone from 5-dehydroepisterol rely on an enzymatic reaction that to our knowledge is not validated. Therefore, the production of progesterone from zymosterol is of most interest.\n",
    "\n",
    "In order to produce progesterone in yeast a new pathway needs to be established. This pathway rely on four heterologous enzymes with origin from mammals and two naturally yeast enzymes. Zymosterol is converted into lathosterol via the yeast enzyme ERG2 and DHCR24 in random order forming a diamond shaped path. The yeast enzyme ERG3 converts lathosteol into 7-dehydrocholsterol and subsequently three mammalian enzymes convert 7-dehydrocholsterol into progesterone. 7-dehydrocholsterol in converted to cholesterol by DHCR7, cholesterol is converted to pregnenolone by CYP11A1, and finally HSD3B converts pregnenolone into progesterone."
   ]
  },
  {
   "cell_type": "markdown",
   "metadata": {},
   "source": [
    "![figures/pathway_med_strukturer_v3.png](figures/pathway_med_strukturer_v3.png)"
   ]
  },
  {
   "cell_type": "code",
   "execution_count": 9,
   "metadata": {},
   "outputs": [],
   "source": [
    "# Load libraries\n",
    "import numpy as np\n",
    "from cobra.io import read_sbml_model, write_sbml_model\n",
    "from cobra.util import create_stoichiometric_matrix\n",
    "from cobra import Reaction, Metabolite\n",
    "from cobra.core.gene import GPR"
   ]
  },
  {
   "cell_type": "code",
   "execution_count": 10,
   "metadata": {},
   "outputs": [
    {
     "name": "stdout",
     "output_type": "stream",
     "text": [
      "Loading models/iMM904.xml\n"
     ]
    }
   ],
   "source": [
    "# Loading model\n",
    "infilename = 'models/iMM904.xml'\n",
    "print(f\"Loading {infilename}\")\n",
    "model = read_sbml_model(infilename)"
   ]
  },
  {
   "cell_type": "code",
   "execution_count": 11,
   "metadata": {},
   "outputs": [
    {
     "name": "stdout",
     "output_type": "stream",
     "text": [
      "Metabolites: 1226\n",
      "Reactions: 1577\n",
      "Genes: 905\n"
     ]
    }
   ],
   "source": [
    "# Model statistics\n",
    "before_add = {\"metabolites\": len(model.metabolites), \"reactions\": len(model.reactions), \"genes\": len(model.genes)}\n",
    "print(\"Metabolites:\", before_add['metabolites']) #1226\n",
    "print(\"Reactions:\", before_add['reactions']) #1577\n",
    "print(\"Genes:\", before_add['genes']) #905"
   ]
  },
  {
   "cell_type": "code",
   "execution_count": 12,
   "metadata": {},
   "outputs": [
    {
     "name": "stdout",
     "output_type": "stream",
     "text": [
      "Adding metabolite cholesterol (id: cholesterol_c)\n",
      "Adding metabolite 7-dehydrocholesterol (id: dehydrocholesterol_c)\n",
      "Adding metabolite pregnenolone (id: pregnenolone_c)\n",
      "Adding metabolite progesterone (id: progesterone_c)\n",
      "Adding metabolite 5alpha-Cholesta-7_24-dien-3beta-ol (id: cholesta724dien3betaol_c)\n",
      "Adding metabolite 5alpha-Cholest-8-en-3beta-ol (id: cholesta8en3betaol_c)\n",
      "Adding metabolite lathosterol (id: lathosterol_c)\n",
      "Adding metabolite 4-methylpentanal (id: methylpentanal_c)\n"
     ]
    }
   ],
   "source": [
    "# Add all new metabolites from metabolites.csv\n",
    "new_metabolites = dict()\n",
    "with open(\"data/metabolites.csv\",\"r\") as infile:\n",
    "    infile.readline()\n",
    "    for line in infile:\n",
    "        line = line.rstrip().split(\",\")\n",
    "        m = Metabolite(\n",
    "            line[0],\n",
    "            formula=line[1],\n",
    "            name=line[2],\n",
    "            compartment=line[3])\n",
    "        print(f'Adding metabolite {m.name} (id: {m})')\n",
    "        new_metabolites[line[0]] = m"
   ]
  },
  {
   "cell_type": "code",
   "execution_count": 13,
   "metadata": {},
   "outputs": [
    {
     "name": "stdout",
     "output_type": "stream",
     "text": [
      "Adding reaction R07498: h_c + nadph_c + zymst_c <=> cholesta8en3betaol_c + nadp_c | enzyme DHCR24\n",
      "Adding reaction R05703: cholesta724dien3betaol_c + h_c + nadph_c <=> lathosterol_c + nadp_c | enzyme DHCR24\n",
      "Adding reaction R01456: dehydrocholesterol_c + h_c + nadph_c --> cholesterol_c + nadp_c | enzyme DHCR7\n",
      "Adding reaction ECYP11A1: cholesterol_c + 6.0 h_c + 6.0 nadph_c + 3.0 o2_c --> 4.0 h2o_c + methylpentanal_c + 6.0 nadp_c + pregnenolone_c | enzyme CYP11A1\n",
      "Adding reaction R02216: nad_c + pregnenolone_c <=> h_c + nadh_c + progesterone_c | enzyme HSD3B\n",
      "Adding reaction R03353: cholesta8en3betaol_c --> lathosterol_c | enzyme YMR202W\n",
      "Adding reaction R07215: h_c + lathosterol_c + nadph_c + o2_c --> dehydrocholesterol_c + 2.0 h2o_c + nadp_c | enzyme YLR056W\n",
      "Adding reaction R04804: zymst_c --> cholesta724dien3betaol_c | enzyme YMR202W\n"
     ]
    },
    {
     "data": {
      "text/html": [
       "\n",
       "        <table>\n",
       "            <tr>\n",
       "                <td><strong>Reaction identifier</strong></td><td>SK_methylpentanal_c</td>\n",
       "            </tr><tr>\n",
       "                <td><strong>Name</strong></td><td>4-methylpentanal sink</td>\n",
       "            </tr><tr>\n",
       "                <td><strong>Memory address</strong></td>\n",
       "                <td>0x07fed3fa32760</td>\n",
       "            </tr><tr>\n",
       "                <td><strong>Stoichiometry</strong></td>\n",
       "                <td>\n",
       "                    <p style='text-align:right'>methylpentanal_c <=></p>\n",
       "                    <p style='text-align:right'>4-methylpentanal <=></p>\n",
       "                </td>\n",
       "            </tr><tr>\n",
       "                <td><strong>GPR</strong></td><td></td>\n",
       "            </tr><tr>\n",
       "                <td><strong>Lower bound</strong></td><td>-1000.0</td>\n",
       "            </tr><tr>\n",
       "                <td><strong>Upper bound</strong></td><td>1000.0</td>\n",
       "            </tr>\n",
       "        </table>\n",
       "        "
      ],
      "text/plain": [
       "<Reaction SK_methylpentanal_c at 0x7fed3fa32760>"
      ]
     },
     "execution_count": 13,
     "metadata": {},
     "output_type": "execute_result"
    }
   ],
   "source": [
    "# Add all new reactions from reactions.csv\n",
    "with open(\"data/reactions.csv\",\"r\") as infile:\n",
    "    infile.readline()\n",
    "    for line in infile:\n",
    "        line = line.rstrip().split(\",\")\n",
    "        r = Reaction(line[0])\n",
    "        r.name = line[2]\n",
    "        if line[3] != \"\":\n",
    "            r.subsystem = line[3]\n",
    "        r.lower_bound = float(line[4])\n",
    "        r.upper_bound = float(line[5])\n",
    "        if line[1] != \"\":\n",
    "            r.gpr = GPR.from_string(line[1])\n",
    "        for i in range(int(len(line[6:])/2)):\n",
    "            metaboliteID = line[6+i*2]\n",
    "            if metaboliteID != \"\":\n",
    "                if metaboliteID in model.metabolites:\n",
    "                    metaboliteID = model.metabolites.get_by_id(metaboliteID)\n",
    "                else:\n",
    "                    metaboliteID = new_metabolites[metaboliteID]\n",
    "                bin = float(line[7+i*2])\n",
    "                r.add_metabolites({metaboliteID:bin})\n",
    "        print(f'Adding reaction {r} | enzyme {r.gpr}')\n",
    "        model.add_reactions([r])\n",
    "\n",
    "model.add_boundary(model.metabolites.get_by_id(\"methylpentanal_c\"), type=\"sink\")"
   ]
  },
  {
   "cell_type": "code",
   "execution_count": 14,
   "metadata": {},
   "outputs": [
    {
     "name": "stdout",
     "output_type": "stream",
     "text": [
      "Metabolites: 1234 (change: 8)\n",
      "Reactions: 1586 (change: 9)\n",
      "Genes: 909 (change: 4)\n"
     ]
    }
   ],
   "source": [
    "# New model statistics\n",
    "print(\"Metabolites:\", len(model.metabolites), f\"(change: {len(model.metabolites) - before_add['metabolites']})\") \n",
    "print(\"Reactions:\", len(model.reactions), f\"(change: {len(model.reactions) - before_add['reactions']})\") \n",
    "print(\"Genes:\",len(model.genes), f\"(change: {len(model.genes) - before_add['genes']})\") "
   ]
  },
  {
   "cell_type": "code",
   "execution_count": 15,
   "metadata": {},
   "outputs": [
    {
     "name": "stdout",
     "output_type": "stream",
     "text": [
      "Saving to models/iMM904_progesterone.xml\n"
     ]
    }
   ],
   "source": [
    "# Saving new model\n",
    "outfilename = \"models/iMM904_progesterone.xml\"\n",
    "model.id = outfilename.split(\"/\")[-1].split(\".\")[0]\n",
    "print(f\"Saving to {outfilename}\")\n",
    "write_sbml_model(model, outfilename)"
   ]
  }
 ],
 "metadata": {
  "kernelspec": {
   "display_name": "Python 3.9.13 ('base')",
   "language": "python",
   "name": "python3"
  },
  "language_info": {
   "codemirror_mode": {
    "name": "ipython",
    "version": 3
   },
   "file_extension": ".py",
   "mimetype": "text/x-python",
   "name": "python",
   "nbconvert_exporter": "python",
   "pygments_lexer": "ipython3",
   "version": "3.9.13"
  },
  "orig_nbformat": 4,
  "vscode": {
   "interpreter": {
    "hash": "1c61bb7f5e5b8317d1eec5b8bcaa12241e8a88d5b6ba26b6e318bf21311ddd01"
   }
  }
 },
 "nbformat": 4,
 "nbformat_minor": 2
}
