{
 "cells": [
  {
   "cell_type": "markdown",
   "metadata": {},
   "source": [
    "# Heterologous pathway implementation"
   ]
  },
  {
   "cell_type": "markdown",
   "metadata": {},
   "source": [
    "Yeast cells naturally produce steroids. The main steroid in yeast is ergosterol which is produced in a long biosynthetic pathway from the precursor squalene (**Figure 2.1**). In this pathway the intermediates zymosterol and 5-dehydroepisterol are produced. Interestingly, from these compounds it should be theoretically possible to produce progesterone through the implementation of new pathways. However, the biosynthesis of progesterone from 5-dehydroepisterol rely on an enzymatic reaction that to our knowledge is not validated. Therefore, the production of progesterone from zymosterol is of most interest.\n",
    "\n",
    "In order to produce progesterone in yeast a new pathway needs to be established. This pathway rely on four heterologous enzymes with origin from mammals and two naturally yeast enzymes. Zymosterol is converted into lathosterol via the yeast enzyme ERG2 and DHCR24 in random order forming a diamond shaped path. The yeast enzyme ERG3 converts lathosteol into 7-dehydrocholsterol and subsequently three mammalian enzymes convert 7-dehydrocholsterol into progesterone. 7-dehydrocholsterol in converted to cholesterol by DHCR7, cholesterol is converted to pregnenolone by CYP11A1, and finally HSD3B converts pregnenolone into progesterone.\n",
    "\n",
    "The co-enzymes NADP(H) and NAD(H) are used multiple times either directly or indirectly by enzymes in the progesterone pathway. However, for simplification we have treated all co-enzymes as direct substrates of the enzymes. Furthermore, the mammalian CYP11A1 enzyme which converts cholesterol into pregnenolone in three independent reactions were simplified to one comprehensive reaction. "
   ]
  },
  {
   "cell_type": "markdown",
   "metadata": {},
   "source": [
    "![figures/pathway_med_strukturer_v3.png](figures/pathway_med_strukturer_v3.png)\n",
    "**Figure 2.1.** Steroid biosynthesis. Natural ergosterol pathway is shown with a green box and implemented progesterone pathway is shown with a blue box. The enzymes are represented by their gene name where endogenous yeast genes are represented in black and heterologous genes are represented in red. Arrows indicate the direction of reaction. Co-enzymes and co-substrates are shown in light grey."
   ]
  },
  {
   "cell_type": "markdown",
   "metadata": {},
   "source": [
    "The new reactions and metabolites needed in the iMM904 model in order to implement the progesterone pathway were added to the reactions.csv and metabolites.csv files in the data folder. Subsequently, the following code were used to load the model, add the reactions and metabolites from the csv files, and finally save a new model:"
   ]
  },
  {
   "cell_type": "code",
   "execution_count": 1,
   "metadata": {},
   "outputs": [],
   "source": [
    "# Load libraries\n",
    "import numpy as np\n",
    "from cobra.io import read_sbml_model, write_sbml_model\n",
    "from cobra.util import create_stoichiometric_matrix\n",
    "from cobra import Reaction, Metabolite\n",
    "from cobra.core.gene import GPR"
   ]
  },
  {
   "cell_type": "code",
   "execution_count": 2,
   "metadata": {},
   "outputs": [
    {
     "name": "stdout",
     "output_type": "stream",
     "text": [
      "Loading models/iMM904.xml\n"
     ]
    }
   ],
   "source": [
    "# Loading model\n",
    "infilename = 'models/iMM904.xml'\n",
    "print(f\"Loading {infilename}\")\n",
    "model = read_sbml_model(infilename)"
   ]
  },
  {
   "cell_type": "code",
   "execution_count": 3,
   "metadata": {},
   "outputs": [
    {
     "name": "stdout",
     "output_type": "stream",
     "text": [
      "Metabolites: 1226\n",
      "Reactions: 1577\n",
      "Genes: 905\n"
     ]
    }
   ],
   "source": [
    "# Model statistics\n",
    "before_add = {\"metabolites\": len(model.metabolites), \"reactions\": len(model.reactions), \"genes\": len(model.genes)}\n",
    "print(\"Metabolites:\", before_add['metabolites']) #1226\n",
    "print(\"Reactions:\", before_add['reactions']) #1577\n",
    "print(\"Genes:\", before_add['genes']) #905"
   ]
  },
  {
   "cell_type": "code",
   "execution_count": 4,
   "metadata": {},
   "outputs": [
    {
     "name": "stdout",
     "output_type": "stream",
     "text": [
      "Adding metabolite cholesterol (id: cholesterol_c)\n",
      "Adding metabolite 7-dehydrocholesterol (id: dehydrocholesterol_c)\n",
      "Adding metabolite pregnenolone (id: pregnenolone_c)\n",
      "Adding metabolite progesterone (id: progesterone_c)\n",
      "Adding metabolite 5alpha-Cholesta-7_24-dien-3beta-ol (id: cholesta724dien3betaol_c)\n",
      "Adding metabolite 5alpha-Cholest-8-en-3beta-ol (id: cholesta8en3betaol_c)\n",
      "Adding metabolite lathosterol (id: lathosterol_c)\n",
      "Adding metabolite 4-methylpentanal (id: methylpentanal_c)\n"
     ]
    }
   ],
   "source": [
    "# Add all new metabolites from metabolites.csv\n",
    "new_metabolites = dict()\n",
    "with open(\"data/metabolites.csv\",\"r\") as infile:\n",
    "    infile.readline()\n",
    "    for line in infile:\n",
    "        line = line.rstrip().split(\",\")\n",
    "        m = Metabolite(\n",
    "            line[0],\n",
    "            formula=line[1],\n",
    "            name=line[2],\n",
    "            compartment=line[3])\n",
    "        print(f'Adding metabolite {m.name} (id: {m})')\n",
    "        new_metabolites[line[0]] = m"
   ]
  },
  {
   "cell_type": "code",
   "execution_count": 5,
   "metadata": {},
   "outputs": [
    {
     "name": "stdout",
     "output_type": "stream",
     "text": [
      "For model iMM904:\n",
      "Adding reaction R07498: h_c + nadph_c + zymst_c <=> cholesta8en3betaol_c + nadp_c | enzyme DHCR24\n",
      "Adding reaction R05703: cholesta724dien3betaol_c + h_c + nadph_c <=> lathosterol_c + nadp_c | enzyme DHCR24\n",
      "Adding reaction R01456: dehydrocholesterol_c + h_c + nadph_c --> cholesterol_c + nadp_c | enzyme DHCR7\n",
      "Adding reaction ECYP11A1: cholesterol_c + 6.0 h_c + 6.0 nadph_c + 3.0 o2_c --> 4.0 h2o_c + methylpentanal_c + 6.0 nadp_c + pregnenolone_c | enzyme CYP11A1\n",
      "Adding reaction R02216: nad_c + pregnenolone_c <=> h_c + nadh_c + progesterone_c | enzyme HSD3B\n",
      "Adding reaction R03353: cholesta8en3betaol_c --> lathosterol_c | enzyme YMR202W\n",
      "Adding reaction R07215: h_c + lathosterol_c + nadph_c + o2_c --> dehydrocholesterol_c + 2.0 h2o_c + nadp_c | enzyme YLR056W\n",
      "Adding reaction R04804: zymst_c --> cholesta724dien3betaol_c | enzyme YMR202W\n",
      "Adding gene annotation (EBP) to reaction: CHLSTI: amet_c + o2_c + zymst_c --> ahcys_c + ergtetrol_c + 2.0 h2o_c + h_c\n",
      "Adding reaction 4-methylpentanal sink: methylpentanal_c <=> \n"
     ]
    }
   ],
   "source": [
    "# Add new reactions from reactions.csv\n",
    "def import_reactions(reaction_dict,metabolite_dict,infilename):\n",
    "    for m, reactions in reaction_dict.items():\n",
    "        print(f\"For model {m.id}:\")\n",
    "        with open(infilename,\"r\") as infile:\n",
    "            infile.readline()\n",
    "            for line in infile:\n",
    "                line = line.rstrip().split(\",\")\n",
    "                if line[0] in reactions:\n",
    "                    r = Reaction(line[0])\n",
    "                    r.name = line[2]\n",
    "                    if line[3] != \"\":\n",
    "                        r.subsystem = line[3]\n",
    "                    r.lower_bound = float(line[4])\n",
    "                    r.upper_bound = float(line[5])\n",
    "                    if line[1] != \"\":\n",
    "                        r.gpr = GPR.from_string(line[1])\n",
    "                    for i in range(int(len(line[6:])/2)):\n",
    "                        metaboliteID = line[6+i*2]\n",
    "                        if metaboliteID != \"\":\n",
    "                            if metaboliteID in m.metabolites:\n",
    "                                metaboliteID = m.metabolites.get_by_id(metaboliteID)\n",
    "                            else:\n",
    "                                metaboliteID = metabolite_dict[metaboliteID]\n",
    "                            bin = float(line[7+i*2])\n",
    "                            r.add_metabolites({metaboliteID:bin})\n",
    "                    print(f'Adding reaction {r} | enzyme {r.gpr}')\n",
    "                    m.add_reactions([r])\n",
    "        m.reactions.CHLSTI.gpr = GPR.from_string(\"EBP\")\n",
    "        print(f'Adding gene annotation (EBP) to reaction: {m.reactions.CHLSTI}')\n",
    "        m.add_boundary(m.metabolites.get_by_id(\"methylpentanal_c\"), type=\"sink\")\n",
    "        print(f'Adding reaction {m.reactions.SK_methylpentanal_c.name}: {m.reactions.SK_methylpentanal_c.reaction}')\n",
    "\n",
    "\n",
    "reaction_dict = {model:(\"R07498\",\"R05703\",\"R01456\",\"ECYP11A1\",\"R02216\",\"R03353\",\"R07215\",\"R04804\")}\n",
    "import_reactions(reaction_dict,new_metabolites,\"data/reactions.csv\")\n"
   ]
  },
  {
   "cell_type": "code",
   "execution_count": 6,
   "metadata": {},
   "outputs": [
    {
     "name": "stdout",
     "output_type": "stream",
     "text": [
      "Metabolites: 1234 (change: 8)\n",
      "Reactions: 1586 (change: 9)\n",
      "Genes: 910 (change: 5)\n"
     ]
    }
   ],
   "source": [
    "# New model statistics\n",
    "print(\"Metabolites:\", len(model.metabolites), f\"(change: {len(model.metabolites) - before_add['metabolites']})\") \n",
    "print(\"Reactions:\", len(model.reactions), f\"(change: {len(model.reactions) - before_add['reactions']})\") \n",
    "print(\"Genes:\",len(model.genes), f\"(change: {len(model.genes) - before_add['genes']})\") "
   ]
  },
  {
   "cell_type": "code",
   "execution_count": 7,
   "metadata": {},
   "outputs": [
    {
     "name": "stdout",
     "output_type": "stream",
     "text": [
      "Saving to models/iMM904_progesterone_manual.xml\n"
     ]
    }
   ],
   "source": [
    "# Saving new model\n",
    "outfilename = \"models/iMM904_progesterone_manual.xml\"\n",
    "model.id = outfilename.split(\"/\")[-1].split(\".\")[0]\n",
    "print(f\"Saving to {outfilename}\")\n",
    "write_sbml_model(model, outfilename)"
   ]
  },
  {
   "cell_type": "markdown",
   "metadata": {},
   "source": [
    "As seen from the code output and from the statistics of the new model, we successfully implemented eighth new metabolites, nine new reactions, and four new genes to the model. \n",
    "\n",
    "## Alternative pathways\n",
    "\n",
    "\n",
    "The \"pathway_prediction\" algorithm from cameo was used to find four different heterlogous pathways producing progesterone using the iMM904 model."
   ]
  },
  {
   "cell_type": "code",
   "execution_count": 8,
   "metadata": {},
   "outputs": [],
   "source": [
    "# Generating progesterone pathways with cameo\n",
    "# from cameo import models\n",
    "# from cameo.strain_design import pathway_prediction\n",
    "\n",
    "# bigg_model = models.bigg.iMM904\n",
    "\n",
    "# predictor = pathway_prediction.PathwayPredictor(bigg_model)\n",
    "\n",
    "# pathways = predictor.run(product=\"progesterone\", max_predictions=4)"
   ]
  },
  {
   "cell_type": "markdown",
   "metadata": {},
   "source": [
    "The reactions from the above pathways were extracted and the ones that differentiate from the already implemented reactions were visualized (**Figure 2.2**). Reactions containing the FAD(H2) co-factor are not included since FADH2 does exists in the cytoplasm in model iMM904. \n",
    "\n",
    "\n",
    "All cameo pathways agree with the implemented pathway in the way that zymosterol is in four steps converted into cholesterol which is afterwards converted by two steps to progesterone. However, different paths towards cholesterol are used. Together it shows a grid pathway structure (**Figure 2.2**). Therefore, to test which way through the grid is optimal, new models were constructed with pathway 1, 2, 3, or all combined. Pathway 2 goes from zymosterol via 7-dehydrodesmosterol and 7-dehydrocholesterol towards cholesterol and pathway 3 goes from zymosterol via desmosterol towards cholesterol (**Figure 2.2**). Interestingly, cameo have found another reaction (MNXR4011) between cholesterol and pregnenolone where only one NADP(H), instead of six in the manually implemented pathway, is needed. Therefore, this reaction was implemented instead of the existing reaction (CYP11A1).\n",
    "To avoid futile cycling all reactions pointing downwards in figure 2.2 are unidirectional.\n"
   ]
  },
  {
   "cell_type": "markdown",
   "metadata": {},
   "source": [
    "![figures/heterologous_new.png](figures/heterologous_new.png)\n",
    "**Figure 2.2.** Hetrologous pathways. The enzymes are represented by their gene name where implemented genes are represented in black and genes found using the cameo PathwayPredictor algorithm which differs from the impemented genes are represented in red. Arrows indicate the direction of reaction. Co-enzymes and co-substrates are shown in light grey. Large blue, green, and yellow arrows indicate the path of pathway 1, 2, and 3, respectively."
   ]
  },
  {
   "cell_type": "code",
   "execution_count": 9,
   "metadata": {},
   "outputs": [
    {
     "name": "stdout",
     "output_type": "stream",
     "text": [
      "Loading models/iMM904.xml\n"
     ]
    }
   ],
   "source": [
    "# Loading model\n",
    "infilename = 'models/iMM904.xml'\n",
    "print(f\"Loading {infilename}\")\n",
    "iMM904 = read_sbml_model(infilename)\n"
   ]
  },
  {
   "cell_type": "code",
   "execution_count": 10,
   "metadata": {},
   "outputs": [
    {
     "name": "stdout",
     "output_type": "stream",
     "text": [
      "Model iMM904_progesterone_pathway1 were made as a copy of iMM904\n",
      "Model iMM904_progesterone_pathway2 were made as a copy of iMM904\n",
      "Model iMM904_progesterone_pathway3 were made as a copy of iMM904\n",
      "Model iMM904_progesterone_pathway_combine were made as a copy of iMM904\n"
     ]
    }
   ],
   "source": [
    "# Copying models\n",
    "model_pathway1 = iMM904.copy()\n",
    "model_pathway2 = iMM904.copy()\n",
    "model_pathway3 = iMM904.copy()\n",
    "model_pathway_combine = iMM904.copy()\n",
    "model_pathway1.id = \"iMM904_progesterone_pathway1\"\n",
    "model_pathway2.id = \"iMM904_progesterone_pathway2\"\n",
    "model_pathway3.id = \"iMM904_progesterone_pathway3\"\n",
    "model_pathway_combine.id = \"iMM904_progesterone_pathway_combine\"\n",
    "print(f\"Model {model_pathway1.id} were made as a copy of {iMM904.id}\")\n",
    "print(f\"Model {model_pathway2.id} were made as a copy of {iMM904.id}\")\n",
    "print(f\"Model {model_pathway3.id} were made as a copy of {iMM904.id}\")\n",
    "print(f\"Model {model_pathway_combine.id} were made as a copy of {iMM904.id}\")"
   ]
  },
  {
   "cell_type": "code",
   "execution_count": 11,
   "metadata": {},
   "outputs": [
    {
     "name": "stdout",
     "output_type": "stream",
     "text": [
      "Adding metabolite 7-dehydrodesmosterol (id: dehydrodesmosterol_c)\n",
      "Adding metabolite desmosterol (id: desmosterol_c)\n"
     ]
    }
   ],
   "source": [
    "# Add all new metabolites from metabolites_new.csv\n",
    "with open(\"data/metabolites_new.csv\",\"r\") as infile:\n",
    "    infile.readline()\n",
    "    for line in infile:\n",
    "        line = line.rstrip().split(\",\")\n",
    "        m = Metabolite(\n",
    "            line[0],\n",
    "            formula=line[1],\n",
    "            name=line[2],\n",
    "            compartment=line[3])\n",
    "        print(f'Adding metabolite {m.name} (id: {m})')\n",
    "        new_metabolites[line[0]] = m"
   ]
  },
  {
   "cell_type": "code",
   "execution_count": 12,
   "metadata": {},
   "outputs": [
    {
     "name": "stdout",
     "output_type": "stream",
     "text": [
      "For model iMM904_progesterone_pathway1:\n",
      "Adding reaction R07498: h_c + nadph_c + zymst_c <=> cholesta8en3betaol_c + nadp_c | enzyme DHCR24\n",
      "Adding reaction R05703: cholesta724dien3betaol_c + h_c + nadph_c <=> lathosterol_c + nadp_c | enzyme DHCR24\n",
      "Adding reaction R01456: dehydrocholesterol_c + h_c + nadph_c --> cholesterol_c + nadp_c | enzyme DHCR7\n",
      "Adding reaction R02216: nad_c + pregnenolone_c <=> h_c + nadh_c + progesterone_c | enzyme HSD3B\n",
      "Adding reaction R03353: cholesta8en3betaol_c --> lathosterol_c | enzyme YMR202W\n",
      "Adding reaction R07215: h_c + lathosterol_c + nadph_c + o2_c --> dehydrocholesterol_c + 2.0 h2o_c + nadp_c | enzyme YLR056W\n",
      "Adding reaction R04804: zymst_c --> cholesta724dien3betaol_c | enzyme YMR202W\n",
      "Adding reaction MNXR4011: cholesterol_c + h_c + nadph_c + o2_c <=> 2.0 h2o_c + methylpentanal_c + nadp_c + pregnenolone_c | enzyme MNXR4011\n",
      "Adding gene annotation (EBP) to reaction: CHLSTI: amet_c + o2_c + zymst_c --> ahcys_c + ergtetrol_c + 2.0 h2o_c + h_c\n",
      "Adding reaction 4-methylpentanal sink: methylpentanal_c <=> \n",
      "For model iMM904_progesterone_pathway2:\n",
      "Adding reaction R01456: dehydrocholesterol_c + h_c + nadph_c --> cholesterol_c + nadp_c | enzyme DHCR7\n",
      "Adding reaction R02216: nad_c + pregnenolone_c <=> h_c + nadh_c + progesterone_c | enzyme HSD3B\n",
      "Adding reaction R04804: zymst_c --> cholesta724dien3betaol_c | enzyme YMR202W\n",
      "Adding reaction MNXR11345: dehydrodesmosterol_c + h_c + nadph_c <=> dehydrocholesterol_c + nadp_c | enzyme MNXR11345\n",
      "Adding reaction MNXR3338: cholesta724dien3betaol_c + h_c + nadph_c + o2_c --> dehydrodesmosterol_c + 2.0 h2o_c + nadp_c | enzyme MNXR3338\n",
      "Adding reaction MNXR4011: cholesterol_c + h_c + nadph_c + o2_c <=> 2.0 h2o_c + methylpentanal_c + nadp_c + pregnenolone_c | enzyme MNXR4011\n",
      "Adding gene annotation (EBP) to reaction: CHLSTI: amet_c + o2_c + zymst_c --> ahcys_c + ergtetrol_c + 2.0 h2o_c + h_c\n",
      "Adding reaction 4-methylpentanal sink: methylpentanal_c <=> \n",
      "For model iMM904_progesterone_pathway3:\n",
      "Adding reaction R02216: nad_c + pregnenolone_c <=> h_c + nadh_c + progesterone_c | enzyme HSD3B\n",
      "Adding reaction R04804: zymst_c --> cholesta724dien3betaol_c | enzyme YMR202W\n",
      "Adding reaction MNXR1551: dehydrodesmosterol_c + h_c + nadph_c --> desmosterol_c + nadp_c | enzyme MNXR1551\n",
      "Adding reaction MNXR5471: desmosterol_c + h_c + nadph_c <=> cholesterol_c + nadp_c | enzyme MNXR5471\n",
      "Adding reaction MNXR3338: cholesta724dien3betaol_c + h_c + nadph_c + o2_c --> dehydrodesmosterol_c + 2.0 h2o_c + nadp_c | enzyme MNXR3338\n",
      "Adding reaction MNXR4011: cholesterol_c + h_c + nadph_c + o2_c <=> 2.0 h2o_c + methylpentanal_c + nadp_c + pregnenolone_c | enzyme MNXR4011\n",
      "Adding gene annotation (EBP) to reaction: CHLSTI: amet_c + o2_c + zymst_c --> ahcys_c + ergtetrol_c + 2.0 h2o_c + h_c\n",
      "Adding reaction 4-methylpentanal sink: methylpentanal_c <=> \n",
      "For model iMM904_progesterone_pathway_combine:\n",
      "Adding reaction R07498: h_c + nadph_c + zymst_c <=> cholesta8en3betaol_c + nadp_c | enzyme DHCR24\n",
      "Adding reaction R05703: cholesta724dien3betaol_c + h_c + nadph_c <=> lathosterol_c + nadp_c | enzyme DHCR24\n",
      "Adding reaction R01456: dehydrocholesterol_c + h_c + nadph_c --> cholesterol_c + nadp_c | enzyme DHCR7\n",
      "Adding reaction R02216: nad_c + pregnenolone_c <=> h_c + nadh_c + progesterone_c | enzyme HSD3B\n",
      "Adding reaction R03353: cholesta8en3betaol_c --> lathosterol_c | enzyme YMR202W\n",
      "Adding reaction R07215: h_c + lathosterol_c + nadph_c + o2_c --> dehydrocholesterol_c + 2.0 h2o_c + nadp_c | enzyme YLR056W\n",
      "Adding reaction R04804: zymst_c --> cholesta724dien3betaol_c | enzyme YMR202W\n",
      "Adding reaction MNXR1551: dehydrodesmosterol_c + h_c + nadph_c --> desmosterol_c + nadp_c | enzyme MNXR1551\n",
      "Adding reaction MNXR11345: dehydrodesmosterol_c + h_c + nadph_c <=> dehydrocholesterol_c + nadp_c | enzyme MNXR11345\n",
      "Adding reaction MNXR5471: desmosterol_c + h_c + nadph_c <=> cholesterol_c + nadp_c | enzyme MNXR5471\n",
      "Adding reaction MNXR3338: cholesta724dien3betaol_c + h_c + nadph_c + o2_c --> dehydrodesmosterol_c + 2.0 h2o_c + nadp_c | enzyme MNXR3338\n",
      "Adding reaction MNXR4011: cholesterol_c + h_c + nadph_c + o2_c <=> 2.0 h2o_c + methylpentanal_c + nadp_c + pregnenolone_c | enzyme MNXR4011\n",
      "Adding gene annotation (EBP) to reaction: CHLSTI: amet_c + o2_c + zymst_c --> ahcys_c + ergtetrol_c + 2.0 h2o_c + h_c\n",
      "Adding reaction 4-methylpentanal sink: methylpentanal_c <=> \n"
     ]
    }
   ],
   "source": [
    "# Add new reactions from reactions.csv\n",
    "model_pathway1\n",
    "model_pathway_combine\n",
    "reaction_dict = {model_pathway1:(\"MNXR4011\",\"R07498\",\"R05703\",\"R01456\",\"R02216\",\"R03353\",\"R07215\",\"R04804\"),\n",
    "                 model_pathway2:(\"MNXR4011\",\"R01456\",\"R02216\",\"R04804\",\"MNXR3338\",\"MNXR11345\"),\n",
    "                 model_pathway3:(\"MNXR4011\",\"R02216\",\"R04804\",\"MNXR3338\",\"MNXR1551\",\"MNXR5471\"),\n",
    "                 model_pathway_combine:(\"MNXR4011\",\"R07498\",\"R05703\",\"R01456\",\"R02216\",\"R03353\",\"R07215\",\"R04804\",\"MNXR3338\",\"MNXR1551\",\"MNXR5471\",\"MNXR11345\")\n",
    "}\n",
    "import_reactions(reaction_dict,new_metabolites,\"data/reactions.csv\")"
   ]
  },
  {
   "cell_type": "code",
   "execution_count": 13,
   "metadata": {},
   "outputs": [
    {
     "name": "stdout",
     "output_type": "stream",
     "text": [
      "Model iMM904_progesterone_manual: Adding reaction progesterone demand: progesterone_c --> \n",
      "Model iMM904_progesterone_pathway1: Adding reaction progesterone demand: progesterone_c --> \n",
      "Model iMM904_progesterone_pathway2: Adding reaction progesterone demand: progesterone_c --> \n",
      "Model iMM904_progesterone_pathway3: Adding reaction progesterone demand: progesterone_c --> \n",
      "Model iMM904_progesterone_pathway_combine: Adding reaction progesterone demand: progesterone_c --> \n"
     ]
    }
   ],
   "source": [
    "# Add demand reaction for progesterone\n",
    "models = [model,model_pathway1,model_pathway2,model_pathway3,model_pathway_combine]\n",
    "for m in models:\n",
    "    m.add_boundary(m.metabolites.get_by_id('progesterone_c'), type='demand')\n",
    "    print(f'Model {m.id}: Adding reaction {m.reactions.DM_progesterone_c.name}: {m.reactions.DM_progesterone_c.reaction}')"
   ]
  },
  {
   "cell_type": "code",
   "execution_count": 14,
   "metadata": {},
   "outputs": [
    {
     "name": "stdout",
     "output_type": "stream",
     "text": [
      "iMM904_progesterone_manual | Maximum growth: 0.288 gDW/h\n",
      "iMM904_progesterone_pathway1 | Maximum growth: 0.288 gDW/h\n",
      "iMM904_progesterone_pathway2 | Maximum growth: 0.288 gDW/h\n",
      "iMM904_progesterone_pathway3 | Maximum growth: 0.288 gDW/h\n",
      "iMM904_progesterone_pathway_combine | Maximum growth: 0.288 gDW/h\n"
     ]
    }
   ],
   "source": [
    "# Calculate maximum growth\n",
    "biomass = []\n",
    "for i, m in enumerate(models):\n",
    "    biomass.append(m.optimize().objective_value)\n",
    "    print(f'{m.id} | Maximum growth: {round(biomass[i],3)} gDW/h')"
   ]
  },
  {
   "cell_type": "code",
   "execution_count": 15,
   "metadata": {},
   "outputs": [
    {
     "name": "stdout",
     "output_type": "stream",
     "text": [
      "iMM904_progesterone_manual | Maximum progesterone productivity: 0.143 mmol/gDW*h\n",
      "iMM904_progesterone_pathway1 | Maximum progesterone productivity: 0.167 mmol/gDW*h\n",
      "iMM904_progesterone_pathway2 | Maximum progesterone productivity: 0.167 mmol/gDW*h\n",
      "iMM904_progesterone_pathway3 | Maximum progesterone productivity: 0.167 mmol/gDW*h\n",
      "iMM904_progesterone_pathway_combine | Maximum progesterone productivity: 0.167 mmol/gDW*h\n"
     ]
    }
   ],
   "source": [
    "# Calculate maximum progesterone productivity\n",
    "pp = []\n",
    "for i, m in enumerate(models):\n",
    "    with m:\n",
    "        objective_reaction = m.reactions.DM_progesterone_c\n",
    "        m.objective = objective_reaction\n",
    "        pp.append(m.optimize().objective_value)\n",
    "    print(f'{m.id} | Maximum progesterone productivity: {round(pp[i],3)} mmol/gDW*h')"
   ]
  },
  {
   "cell_type": "code",
   "execution_count": 16,
   "metadata": {},
   "outputs": [
    {
     "name": "stdout",
     "output_type": "stream",
     "text": [
      "Procentage increase in progesterone productivity: 16.67%\n"
     ]
    }
   ],
   "source": [
    "# Calculate procentage increase in progesterone productivity\n",
    "print(f\"Procentage increase in progesterone productivity: {round((pp[1]/pp[0]-1)*100,2)}%\")"
   ]
  },
  {
   "cell_type": "markdown",
   "metadata": {},
   "source": [
    "From the results it is clear that no matter how the pathways go through the “grid” from zymosterol to cholesterol, neither maximum growth rate nor flux towards progesterone are chanced. However, when swapping the CYP11A1 enzyme with MNXR4011 an increase of 16.67% in progesterone productivity is obtained. Therefore, we will be using one of the new models for the further research. Since pathway 1 is the pathway closest to the manually obtained pathway where only CYP11A1 is substituted with MNXR4011, we choose that for further research. The pathway 1 model is saved as “iMM904_progesterone.xml”:"
   ]
  },
  {
   "cell_type": "code",
   "execution_count": 17,
   "metadata": {},
   "outputs": [
    {
     "name": "stdout",
     "output_type": "stream",
     "text": [
      "Saving to models/iMM904_progesterone_manual.xml\n",
      "Saving to models/iMM904_progesterone.xml\n",
      "Saving to models/iMM904_progesterone_pathway2.xml\n",
      "Saving to models/iMM904_progesterone_pathway3.xml\n",
      "Saving to models/iMM904_progesterone_pathway_combine.xml\n"
     ]
    }
   ],
   "source": [
    "# Saving new model\n",
    "model_pathway1.id = \"iMM904_progesterone\"\n",
    "for m in models:\n",
    "    outfilename = 'models/'+m.id+'.xml'\n",
    "    print(f\"Saving to {outfilename}\")\n",
    "    write_sbml_model(m, outfilename)"
   ]
  }
 ],
 "metadata": {
  "kernelspec": {
   "display_name": "Python 3.9.13 ('base')",
   "language": "python",
   "name": "python3"
  },
  "language_info": {
   "codemirror_mode": {
    "name": "ipython",
    "version": 3
   },
   "file_extension": ".py",
   "mimetype": "text/x-python",
   "name": "python",
   "nbconvert_exporter": "python",
   "pygments_lexer": "ipython3",
   "version": "3.9.13"
  },
  "orig_nbformat": 4,
  "vscode": {
   "interpreter": {
    "hash": "1c61bb7f5e5b8317d1eec5b8bcaa12241e8a88d5b6ba26b6e318bf21311ddd01"
   }
  }
 },
 "nbformat": 4,
 "nbformat_minor": 2
}
