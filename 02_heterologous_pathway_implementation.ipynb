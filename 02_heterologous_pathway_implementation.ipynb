{
 "cells": [
  {
   "cell_type": "markdown",
   "metadata": {},
   "source": [
    "# Heterologous pathway implementation"
   ]
  },
  {
   "cell_type": "markdown",
   "metadata": {},
   "source": [
    "Yeast cells naturally produce steroids. The main steroid in yeast is ergosterol which is produced in a long biosynthetic pathway from the precursor squalene (Figure 2.1). In this pathway the intermediates zymosterol and 5-dehydroepisterol are produced. Interestingly, from these compounds it should be theoretically possible to produce progesterone through the implementation of new pathways. However, the biosynthesis of progesterone from 5-dehydroepisterol rely on an enzymatic reaction that to our knowledge is not validated. Therefore, the production of progesterone from zymosterol is of most interest.\n",
    "\n",
    "In order to produce progesterone in yeast a new pathway needs to be established. This pathway rely on four heterologous enzymes with origin from mammals and two naturally yeast enzymes. Zymosterol is converted into lathosterol via the yeast enzyme ERG2 and DHCR24 in random order forming a diamond shaped path. The yeast enzyme ERG3 converts lathosteol into 7-dehydrocholsterol and subsequently three mammalian enzymes convert 7-dehydrocholsterol into progesterone. 7-dehydrocholsterol in converted to cholesterol by DHCR7, cholesterol is converted to pregnenolone by CYP11A1, and finally HSD3B converts pregnenolone into progesterone.\n",
    "\n",
    "The co-enzymes NADP(H) and NAD(H) are used multiple times either directly or indirectly by enzymes in the progesterone pathway. However, for simplification we have treated all co-enzymes as direct substrates of the enzymes. Furthermore, the mammalian CYP11A1 enzyme which converts cholesterol into pregnenolone in three independent reactions were simplified to one comprehensive reaction. "
   ]
  },
  {
   "cell_type": "markdown",
   "metadata": {},
   "source": [
    "![figures/pathway_med_strukturer_v3.png](figures/pathway_med_strukturer_v3.png)\n",
    "**Figure 2.1.** Steroid biosynthesis. Natural ergosterol pathway is shown with a green box and implemented progesterone pathway is shown with a blue box. The enzymes are represented by their gene name where endogenous yeast genes are represented in black and heterologous genes are represented in red. Arrows indicate the direction of reaction. Co-enzymes and co-substrates are shown in light grey."
   ]
  },
  {
   "cell_type": "markdown",
   "metadata": {},
   "source": [
    "The new reactions and metabolites needed in the iMM904 model in order to implement the progesterone pathway were added to the reactions.csv and metabolites.csv files in the data folder. Subsequently, the following code were used to load the model, add the reactions and metabolites from the csv files, and finally save a new model:"
   ]
  },
  {
   "cell_type": "code",
   "execution_count": 125,
   "metadata": {},
   "outputs": [],
   "source": [
    "# Load libraries\n",
    "import numpy as np\n",
    "from cobra.io import read_sbml_model, write_sbml_model\n",
    "from cobra.util import create_stoichiometric_matrix\n",
    "from cobra import Reaction, Metabolite\n",
    "from cobra.core.gene import GPR"
   ]
  },
  {
   "cell_type": "code",
   "execution_count": 126,
   "metadata": {},
   "outputs": [
    {
     "name": "stdout",
     "output_type": "stream",
     "text": [
      "Loading models/iMM904.xml\n"
     ]
    }
   ],
   "source": [
    "# Loading model\n",
    "infilename = 'models/iMM904.xml'\n",
    "print(f\"Loading {infilename}\")\n",
    "model = read_sbml_model(infilename)"
   ]
  },
  {
   "cell_type": "code",
   "execution_count": 127,
   "metadata": {},
   "outputs": [
    {
     "name": "stdout",
     "output_type": "stream",
     "text": [
      "Metabolites: 1226\n",
      "Reactions: 1577\n",
      "Genes: 905\n"
     ]
    }
   ],
   "source": [
    "# Model statistics\n",
    "before_add = {\"metabolites\": len(model.metabolites), \"reactions\": len(model.reactions), \"genes\": len(model.genes)}\n",
    "print(\"Metabolites:\", before_add['metabolites']) #1226\n",
    "print(\"Reactions:\", before_add['reactions']) #1577\n",
    "print(\"Genes:\", before_add['genes']) #905"
   ]
  },
  {
   "cell_type": "code",
   "execution_count": 128,
   "metadata": {},
   "outputs": [
    {
     "name": "stdout",
     "output_type": "stream",
     "text": [
      "Adding metabolite cholesterol (id: cholesterol_c)\n",
      "Adding metabolite 7-dehydrocholesterol (id: dehydrocholesterol_c)\n",
      "Adding metabolite pregnenolone (id: pregnenolone_c)\n",
      "Adding metabolite progesterone (id: progesterone_c)\n",
      "Adding metabolite 5alpha-Cholesta-7_24-dien-3beta-ol (id: cholesta724dien3betaol_c)\n",
      "Adding metabolite 5alpha-Cholest-8-en-3beta-ol (id: cholesta8en3betaol_c)\n",
      "Adding metabolite lathosterol (id: lathosterol_c)\n",
      "Adding metabolite 4-methylpentanal (id: methylpentanal_c)\n"
     ]
    }
   ],
   "source": [
    "# Add all new metabolites from metabolites.csv\n",
    "new_metabolites = dict()\n",
    "with open(\"data/metabolites.csv\",\"r\") as infile:\n",
    "    infile.readline()\n",
    "    for line in infile:\n",
    "        line = line.rstrip().split(\",\")\n",
    "        m = Metabolite(\n",
    "            line[0],\n",
    "            formula=line[1],\n",
    "            name=line[2],\n",
    "            compartment=line[3])\n",
    "        print(f'Adding metabolite {m.name} (id: {m})')\n",
    "        new_metabolites[line[0]] = m"
   ]
  },
  {
   "cell_type": "code",
   "execution_count": 129,
   "metadata": {},
   "outputs": [
    {
     "name": "stdout",
     "output_type": "stream",
     "text": [
      "Adding reaction R07498: h_c + nadph_c + zymst_c <=> cholesta8en3betaol_c + nadp_c | enzyme DHCR24\n",
      "Adding reaction R05703: cholesta724dien3betaol_c + h_c + nadph_c <=> lathosterol_c + nadp_c | enzyme DHCR24\n",
      "Adding reaction R01456: dehydrocholesterol_c + h_c + nadph_c --> cholesterol_c + nadp_c | enzyme DHCR7\n",
      "Adding reaction ECYP11A1: cholesterol_c + 6.0 h_c + 6.0 nadph_c + 3.0 o2_c --> 4.0 h2o_c + methylpentanal_c + 6.0 nadp_c + pregnenolone_c | enzyme CYP11A1\n",
      "Adding reaction R02216: nad_c + pregnenolone_c <=> h_c + nadh_c + progesterone_c | enzyme HSD3B\n",
      "Adding reaction R03353: cholesta8en3betaol_c --> lathosterol_c | enzyme YMR202W\n",
      "Adding reaction R07215: h_c + lathosterol_c + nadph_c + o2_c --> dehydrocholesterol_c + 2.0 h2o_c + nadp_c | enzyme YLR056W\n",
      "Adding reaction R04804: zymst_c --> cholesta724dien3betaol_c | enzyme YMR202W\n",
      "Adding gene annotation (EBP) to reaction: CHLSTI: amet_c + o2_c + zymst_c --> ahcys_c + ergtetrol_c + 2.0 h2o_c + h_c\n",
      "Adding reaction 4-methylpentanal sink: methylpentanal_c <=> \n"
     ]
    }
   ],
   "source": [
    "# Add all new reactions from reactions.csv\n",
    "with open(\"data/reactions.csv\",\"r\") as infile:\n",
    "    infile.readline()\n",
    "    for line in infile:\n",
    "        line = line.rstrip().split(\",\")\n",
    "        r = Reaction(line[0])\n",
    "        r.name = line[2]\n",
    "        if line[3] != \"\":\n",
    "            r.subsystem = line[3]\n",
    "        r.lower_bound = float(line[4])\n",
    "        r.upper_bound = float(line[5])\n",
    "        if line[1] != \"\":\n",
    "            r.gpr = GPR.from_string(line[1])\n",
    "        for i in range(int(len(line[6:])/2)):\n",
    "            metaboliteID = line[6+i*2]\n",
    "            if metaboliteID != \"\":\n",
    "                if metaboliteID in model.metabolites:\n",
    "                    metaboliteID = model.metabolites.get_by_id(metaboliteID)\n",
    "                else:\n",
    "                    metaboliteID = new_metabolites[metaboliteID]\n",
    "                bin = float(line[7+i*2])\n",
    "                r.add_metabolites({metaboliteID:bin})\n",
    "        print(f'Adding reaction {r} | enzyme {r.gpr}')\n",
    "        model.add_reactions([r])\n",
    "\n",
    "model.reactions.CHLSTI.gpr = GPR.from_string(\"EBP\")\n",
    "print(f'Adding gene annotation (EBP) to reaction: {model.reactions.CHLSTI}')\n",
    "\n",
    "model.add_boundary(model.metabolites.get_by_id(\"methylpentanal_c\"), type=\"sink\")\n",
    "print(f'Adding reaction {model.reactions.SK_methylpentanal_c.name}: {model.reactions.SK_methylpentanal_c.reaction}')\n"
   ]
  },
  {
   "cell_type": "code",
   "execution_count": 130,
   "metadata": {},
   "outputs": [
    {
     "name": "stdout",
     "output_type": "stream",
     "text": [
      "Metabolites: 1234 (change: 8)\n",
      "Reactions: 1586 (change: 9)\n",
      "Genes: 910 (change: 5)\n"
     ]
    }
   ],
   "source": [
    "# New model statistics\n",
    "print(\"Metabolites:\", len(model.metabolites), f\"(change: {len(model.metabolites) - before_add['metabolites']})\") \n",
    "print(\"Reactions:\", len(model.reactions), f\"(change: {len(model.reactions) - before_add['reactions']})\") \n",
    "print(\"Genes:\",len(model.genes), f\"(change: {len(model.genes) - before_add['genes']})\") "
   ]
  },
  {
   "cell_type": "code",
   "execution_count": 131,
   "metadata": {},
   "outputs": [
    {
     "name": "stdout",
     "output_type": "stream",
     "text": [
      "Saving to models/iMM904_progesterone.xml\n"
     ]
    }
   ],
   "source": [
    "# Saving new model\n",
    "outfilename = \"models/iMM904_progesterone.xml\"\n",
    "model.id = outfilename.split(\"/\")[-1].split(\".\")[0]\n",
    "print(f\"Saving to {outfilename}\")\n",
    "write_sbml_model(model, outfilename)"
   ]
  },
  {
   "cell_type": "markdown",
   "metadata": {},
   "source": [
    "As seen from the code output and from the statistics of the new model, we successfully implemented eighth new metabolites, nine new reactions, and four new genes to the model. \n",
    "\n",
    "## Alternative pathways\n",
    "\n",
    "\n",
    "The \"pathway_prediction\" algorithm from cameo was used to find four different heterlogous pathways producing progesterone using the iMM904 model."
   ]
  },
  {
   "cell_type": "code",
   "execution_count": 132,
   "metadata": {},
   "outputs": [
    {
     "data": {
      "text/html": [
       "<span>Pathway 1</span>"
      ],
      "text/plain": [
       "<IPython.core.display.HTML object>"
      ]
     },
     "metadata": {},
     "output_type": "display_data"
    },
    {
     "data": {
      "text/html": [
       "<div>\n",
       "<style scoped>\n",
       "    .dataframe tbody tr th:only-of-type {\n",
       "        vertical-align: middle;\n",
       "    }\n",
       "\n",
       "    .dataframe tbody tr th {\n",
       "        vertical-align: top;\n",
       "    }\n",
       "\n",
       "    .dataframe thead th {\n",
       "        text-align: right;\n",
       "    }\n",
       "</style>\n",
       "<table border=\"1\" class=\"dataframe\">\n",
       "  <thead>\n",
       "    <tr style=\"text-align: right;\">\n",
       "      <th></th>\n",
       "      <th>equation</th>\n",
       "      <th>lower_bound</th>\n",
       "      <th>upper_bound</th>\n",
       "    </tr>\n",
       "  </thead>\n",
       "  <tbody>\n",
       "    <tr>\n",
       "      <th>MNXR82275</th>\n",
       "      <td>H(+) + cholesterol + FAD &lt;=&gt; FADH2 + cholesta-...</td>\n",
       "      <td>-1000.0</td>\n",
       "      <td>1000.0</td>\n",
       "    </tr>\n",
       "    <tr>\n",
       "      <th>MNXR1551</th>\n",
       "      <td>H(+) + NADPH + cholesta-5,7,24-trien-3beta-ol ...</td>\n",
       "      <td>-1000.0</td>\n",
       "      <td>1000.0</td>\n",
       "    </tr>\n",
       "    <tr>\n",
       "      <th>MNXR82170</th>\n",
       "      <td>H(+) + FAD + 5alpha-cholesta-7,24-dien-3beta-o...</td>\n",
       "      <td>-1000.0</td>\n",
       "      <td>1000.0</td>\n",
       "    </tr>\n",
       "    <tr>\n",
       "      <th>MNXR1851</th>\n",
       "      <td>5alpha-cholesta-8,24-dien-3beta-ol &lt;=&gt; 5alpha-...</td>\n",
       "      <td>-1000.0</td>\n",
       "      <td>1000.0</td>\n",
       "    </tr>\n",
       "    <tr>\n",
       "      <th>MNXR3037</th>\n",
       "      <td>H(+) + NADH + progesterone &lt;=&gt; pregnenolone + ...</td>\n",
       "      <td>-1000.0</td>\n",
       "      <td>1000.0</td>\n",
       "    </tr>\n",
       "    <tr>\n",
       "      <th>MNXR4011</th>\n",
       "      <td>H(+) + cholesterol + 2.0 O2 + NADPH &lt;=&gt; 2.0 H2...</td>\n",
       "      <td>-1000.0</td>\n",
       "      <td>1000.0</td>\n",
       "    </tr>\n",
       "  </tbody>\n",
       "</table>\n",
       "</div>"
      ],
      "text/plain": [
       "                                                    equation  lower_bound  \\\n",
       "MNXR82275  H(+) + cholesterol + FAD <=> FADH2 + cholesta-...      -1000.0   \n",
       "MNXR1551   H(+) + NADPH + cholesta-5,7,24-trien-3beta-ol ...      -1000.0   \n",
       "MNXR82170  H(+) + FAD + 5alpha-cholesta-7,24-dien-3beta-o...      -1000.0   \n",
       "MNXR1851   5alpha-cholesta-8,24-dien-3beta-ol <=> 5alpha-...      -1000.0   \n",
       "MNXR3037   H(+) + NADH + progesterone <=> pregnenolone + ...      -1000.0   \n",
       "MNXR4011   H(+) + cholesterol + 2.0 O2 + NADPH <=> 2.0 H2...      -1000.0   \n",
       "\n",
       "           upper_bound  \n",
       "MNXR82275       1000.0  \n",
       "MNXR1551        1000.0  \n",
       "MNXR82170       1000.0  \n",
       "MNXR1851        1000.0  \n",
       "MNXR3037        1000.0  \n",
       "MNXR4011        1000.0  "
      ]
     },
     "metadata": {},
     "output_type": "display_data"
    },
    {
     "data": {
      "text/html": [
       "<span>Pathway 2</span>"
      ],
      "text/plain": [
       "<IPython.core.display.HTML object>"
      ]
     },
     "metadata": {},
     "output_type": "display_data"
    },
    {
     "data": {
      "text/html": [
       "<div>\n",
       "<style scoped>\n",
       "    .dataframe tbody tr th:only-of-type {\n",
       "        vertical-align: middle;\n",
       "    }\n",
       "\n",
       "    .dataframe tbody tr th {\n",
       "        vertical-align: top;\n",
       "    }\n",
       "\n",
       "    .dataframe thead th {\n",
       "        text-align: right;\n",
       "    }\n",
       "</style>\n",
       "<table border=\"1\" class=\"dataframe\">\n",
       "  <thead>\n",
       "    <tr style=\"text-align: right;\">\n",
       "      <th></th>\n",
       "      <th>equation</th>\n",
       "      <th>lower_bound</th>\n",
       "      <th>upper_bound</th>\n",
       "    </tr>\n",
       "  </thead>\n",
       "  <tbody>\n",
       "    <tr>\n",
       "      <th>MNXR1552</th>\n",
       "      <td>cholesterol + NADP(+) &lt;=&gt; H(+) + NADPH + chole...</td>\n",
       "      <td>-1000.0</td>\n",
       "      <td>1000.0</td>\n",
       "    </tr>\n",
       "    <tr>\n",
       "      <th>MNXR82170</th>\n",
       "      <td>H(+) + FAD + 5alpha-cholesta-7,24-dien-3beta-o...</td>\n",
       "      <td>-1000.0</td>\n",
       "      <td>1000.0</td>\n",
       "    </tr>\n",
       "    <tr>\n",
       "      <th>MNXR1851</th>\n",
       "      <td>5alpha-cholesta-8,24-dien-3beta-ol &lt;=&gt; 5alpha-...</td>\n",
       "      <td>-1000.0</td>\n",
       "      <td>1000.0</td>\n",
       "    </tr>\n",
       "    <tr>\n",
       "      <th>MNXR3037</th>\n",
       "      <td>H(+) + NADH + progesterone &lt;=&gt; pregnenolone + ...</td>\n",
       "      <td>-1000.0</td>\n",
       "      <td>1000.0</td>\n",
       "    </tr>\n",
       "    <tr>\n",
       "      <th>MNXR11345</th>\n",
       "      <td>H(+) + NADPH + cholesta-5,7,24-trien-3beta-ol ...</td>\n",
       "      <td>-1000.0</td>\n",
       "      <td>1000.0</td>\n",
       "    </tr>\n",
       "    <tr>\n",
       "      <th>MNXR4011</th>\n",
       "      <td>H(+) + cholesterol + 2.0 O2 + NADPH &lt;=&gt; 2.0 H2...</td>\n",
       "      <td>-1000.0</td>\n",
       "      <td>1000.0</td>\n",
       "    </tr>\n",
       "  </tbody>\n",
       "</table>\n",
       "</div>"
      ],
      "text/plain": [
       "                                                    equation  lower_bound  \\\n",
       "MNXR1552   cholesterol + NADP(+) <=> H(+) + NADPH + chole...      -1000.0   \n",
       "MNXR82170  H(+) + FAD + 5alpha-cholesta-7,24-dien-3beta-o...      -1000.0   \n",
       "MNXR1851   5alpha-cholesta-8,24-dien-3beta-ol <=> 5alpha-...      -1000.0   \n",
       "MNXR3037   H(+) + NADH + progesterone <=> pregnenolone + ...      -1000.0   \n",
       "MNXR11345  H(+) + NADPH + cholesta-5,7,24-trien-3beta-ol ...      -1000.0   \n",
       "MNXR4011   H(+) + cholesterol + 2.0 O2 + NADPH <=> 2.0 H2...      -1000.0   \n",
       "\n",
       "           upper_bound  \n",
       "MNXR1552        1000.0  \n",
       "MNXR82170       1000.0  \n",
       "MNXR1851        1000.0  \n",
       "MNXR3037        1000.0  \n",
       "MNXR11345       1000.0  \n",
       "MNXR4011        1000.0  "
      ]
     },
     "metadata": {},
     "output_type": "display_data"
    },
    {
     "data": {
      "text/html": [
       "<span>Pathway 3</span>"
      ],
      "text/plain": [
       "<IPython.core.display.HTML object>"
      ]
     },
     "metadata": {},
     "output_type": "display_data"
    },
    {
     "data": {
      "text/html": [
       "<div>\n",
       "<style scoped>\n",
       "    .dataframe tbody tr th:only-of-type {\n",
       "        vertical-align: middle;\n",
       "    }\n",
       "\n",
       "    .dataframe tbody tr th {\n",
       "        vertical-align: top;\n",
       "    }\n",
       "\n",
       "    .dataframe thead th {\n",
       "        text-align: right;\n",
       "    }\n",
       "</style>\n",
       "<table border=\"1\" class=\"dataframe\">\n",
       "  <thead>\n",
       "    <tr style=\"text-align: right;\">\n",
       "      <th></th>\n",
       "      <th>equation</th>\n",
       "      <th>lower_bound</th>\n",
       "      <th>upper_bound</th>\n",
       "    </tr>\n",
       "  </thead>\n",
       "  <tbody>\n",
       "    <tr>\n",
       "      <th>MNXR5471</th>\n",
       "      <td>cholesterol + NADP(+) &lt;=&gt; H(+) + NADPH + chole...</td>\n",
       "      <td>-1000.0</td>\n",
       "      <td>1000.0</td>\n",
       "    </tr>\n",
       "    <tr>\n",
       "      <th>MNXR82170</th>\n",
       "      <td>H(+) + FAD + 5alpha-cholesta-7,24-dien-3beta-o...</td>\n",
       "      <td>-1000.0</td>\n",
       "      <td>1000.0</td>\n",
       "    </tr>\n",
       "    <tr>\n",
       "      <th>MNXR82403</th>\n",
       "      <td>H(+) + FAD + cholesta-5,24-dien-3beta-ol &lt;=&gt; F...</td>\n",
       "      <td>-1000.0</td>\n",
       "      <td>1000.0</td>\n",
       "    </tr>\n",
       "    <tr>\n",
       "      <th>MNXR1851</th>\n",
       "      <td>5alpha-cholesta-8,24-dien-3beta-ol &lt;=&gt; 5alpha-...</td>\n",
       "      <td>-1000.0</td>\n",
       "      <td>1000.0</td>\n",
       "    </tr>\n",
       "    <tr>\n",
       "      <th>MNXR3037</th>\n",
       "      <td>H(+) + NADH + progesterone &lt;=&gt; pregnenolone + ...</td>\n",
       "      <td>-1000.0</td>\n",
       "      <td>1000.0</td>\n",
       "    </tr>\n",
       "    <tr>\n",
       "      <th>MNXR4011</th>\n",
       "      <td>H(+) + cholesterol + 2.0 O2 + NADPH &lt;=&gt; 2.0 H2...</td>\n",
       "      <td>-1000.0</td>\n",
       "      <td>1000.0</td>\n",
       "    </tr>\n",
       "  </tbody>\n",
       "</table>\n",
       "</div>"
      ],
      "text/plain": [
       "                                                    equation  lower_bound  \\\n",
       "MNXR5471   cholesterol + NADP(+) <=> H(+) + NADPH + chole...      -1000.0   \n",
       "MNXR82170  H(+) + FAD + 5alpha-cholesta-7,24-dien-3beta-o...      -1000.0   \n",
       "MNXR82403  H(+) + FAD + cholesta-5,24-dien-3beta-ol <=> F...      -1000.0   \n",
       "MNXR1851   5alpha-cholesta-8,24-dien-3beta-ol <=> 5alpha-...      -1000.0   \n",
       "MNXR3037   H(+) + NADH + progesterone <=> pregnenolone + ...      -1000.0   \n",
       "MNXR4011   H(+) + cholesterol + 2.0 O2 + NADPH <=> 2.0 H2...      -1000.0   \n",
       "\n",
       "           upper_bound  \n",
       "MNXR5471        1000.0  \n",
       "MNXR82170       1000.0  \n",
       "MNXR82403       1000.0  \n",
       "MNXR1851        1000.0  \n",
       "MNXR3037        1000.0  \n",
       "MNXR4011        1000.0  "
      ]
     },
     "metadata": {},
     "output_type": "display_data"
    },
    {
     "data": {
      "text/html": [
       "<span>Pathway 4</span>"
      ],
      "text/plain": [
       "<IPython.core.display.HTML object>"
      ]
     },
     "metadata": {},
     "output_type": "display_data"
    },
    {
     "data": {
      "text/html": [
       "<div>\n",
       "<style scoped>\n",
       "    .dataframe tbody tr th:only-of-type {\n",
       "        vertical-align: middle;\n",
       "    }\n",
       "\n",
       "    .dataframe tbody tr th {\n",
       "        vertical-align: top;\n",
       "    }\n",
       "\n",
       "    .dataframe thead th {\n",
       "        text-align: right;\n",
       "    }\n",
       "</style>\n",
       "<table border=\"1\" class=\"dataframe\">\n",
       "  <thead>\n",
       "    <tr style=\"text-align: right;\">\n",
       "      <th></th>\n",
       "      <th>equation</th>\n",
       "      <th>lower_bound</th>\n",
       "      <th>upper_bound</th>\n",
       "    </tr>\n",
       "  </thead>\n",
       "  <tbody>\n",
       "    <tr>\n",
       "      <th>MNXR1552</th>\n",
       "      <td>cholesterol + NADP(+) &lt;=&gt; H(+) + NADPH + chole...</td>\n",
       "      <td>-1000.0</td>\n",
       "      <td>1000.0</td>\n",
       "    </tr>\n",
       "    <tr>\n",
       "      <th>MNXR3338</th>\n",
       "      <td>H(+) + O2 + NADPH + 5alpha-cholesta-7,24-dien-...</td>\n",
       "      <td>-1000.0</td>\n",
       "      <td>1000.0</td>\n",
       "    </tr>\n",
       "    <tr>\n",
       "      <th>MNXR1851</th>\n",
       "      <td>5alpha-cholesta-8,24-dien-3beta-ol &lt;=&gt; 5alpha-...</td>\n",
       "      <td>-1000.0</td>\n",
       "      <td>1000.0</td>\n",
       "    </tr>\n",
       "    <tr>\n",
       "      <th>MNXR3037</th>\n",
       "      <td>H(+) + NADH + progesterone &lt;=&gt; pregnenolone + ...</td>\n",
       "      <td>-1000.0</td>\n",
       "      <td>1000.0</td>\n",
       "    </tr>\n",
       "    <tr>\n",
       "      <th>MNXR11345</th>\n",
       "      <td>H(+) + NADPH + cholesta-5,7,24-trien-3beta-ol ...</td>\n",
       "      <td>-1000.0</td>\n",
       "      <td>1000.0</td>\n",
       "    </tr>\n",
       "    <tr>\n",
       "      <th>MNXR4011</th>\n",
       "      <td>H(+) + cholesterol + 2.0 O2 + NADPH &lt;=&gt; 2.0 H2...</td>\n",
       "      <td>-1000.0</td>\n",
       "      <td>1000.0</td>\n",
       "    </tr>\n",
       "  </tbody>\n",
       "</table>\n",
       "</div>"
      ],
      "text/plain": [
       "                                                    equation  lower_bound  \\\n",
       "MNXR1552   cholesterol + NADP(+) <=> H(+) + NADPH + chole...      -1000.0   \n",
       "MNXR3338   H(+) + O2 + NADPH + 5alpha-cholesta-7,24-dien-...      -1000.0   \n",
       "MNXR1851   5alpha-cholesta-8,24-dien-3beta-ol <=> 5alpha-...      -1000.0   \n",
       "MNXR3037   H(+) + NADH + progesterone <=> pregnenolone + ...      -1000.0   \n",
       "MNXR11345  H(+) + NADPH + cholesta-5,7,24-trien-3beta-ol ...      -1000.0   \n",
       "MNXR4011   H(+) + cholesterol + 2.0 O2 + NADPH <=> 2.0 H2...      -1000.0   \n",
       "\n",
       "           upper_bound  \n",
       "MNXR1552        1000.0  \n",
       "MNXR3338        1000.0  \n",
       "MNXR1851        1000.0  \n",
       "MNXR3037        1000.0  \n",
       "MNXR11345       1000.0  \n",
       "MNXR4011        1000.0  "
      ]
     },
     "metadata": {},
     "output_type": "display_data"
    }
   ],
   "source": [
    "# Generating progesterone pathways with cameo\n",
    "from cameo import models\n",
    "from cameo.strain_design import pathway_prediction\n",
    "\n",
    "bigg_model = models.bigg.iMM904\n",
    "\n",
    "predictor = pathway_prediction.PathwayPredictor(bigg_model)\n",
    "\n",
    "pathways = predictor.run(product=\"progesterone\", max_predictions=4)"
   ]
  },
  {
   "cell_type": "markdown",
   "metadata": {},
   "source": [
    "The reactions from the above pathways were extracted and the ones that differentiate from the already implemented reactions were visualized (Figure 2.2). Reactions containing the FAD(H2) co-factor are not included since FADH2 does exists in the cytoplasm in model iMM904. \n",
    "Interestingly, cameo have found another reaction (MNXR4011) between cholesterol and pregnenolone where only one NADP(H), instead of three in the implemented pathway, is needed. Therefore, this reaction was in a new model (iMM904_progesterone_pathway1) implemented instead of the existing reaction (CYP11A1).\n"
   ]
  },
  {
   "cell_type": "markdown",
   "metadata": {},
   "source": [
    "![figures/heterologous_new.png](figures/heterologous_new.png)\n",
    "**Figure 2.2.** Hetrologous pathways. The enzymes are represented by their gene name where implemented genes are represented in black and genes found using the cameo PathwayPredictor algorithm which differs from the impemented genes are represented in red. Arrows indicate the direction of reaction. Co-enzymes and co-substrates are shown in light grey. Large blue, green, and yellow arrows indicate the path of pathway 1, 2, and 3, respectively."
   ]
  },
  {
   "cell_type": "code",
   "execution_count": 133,
   "metadata": {},
   "outputs": [
    {
     "name": "stdout",
     "output_type": "stream",
     "text": [
      "Model iMM904_progesterone_pathway1 were made as a copy of iMM904_progesterone\n",
      "For model iMM904_progesterone_pathway1:\n",
      "CYP11A1 were knocked out\n"
     ]
    }
   ],
   "source": [
    "# Knock out of CYP11A1 gene\n",
    "KOs = [\"CYP11A1\"]\n",
    "model_pathway1 = model.copy()\n",
    "model_pathway1.id = \"iMM904_progesterone_pathway1\"\n",
    "print(f\"Model {model_pathway1.id} were made as a copy of {model.id}\")\n",
    "print(f\"For model {model_pathway1.id}:\")\n",
    "for KO in KOs:\n",
    "    model_pathway1.genes.get_by_id(KO).knock_out()\n",
    "    print(f\"{KO} were knocked out\")"
   ]
  },
  {
   "cell_type": "code",
   "execution_count": 134,
   "metadata": {},
   "outputs": [
    {
     "name": "stdout",
     "output_type": "stream",
     "text": [
      "Adding metabolite 7-dehydrodesmosterol (id: dehydrodesmosterol_c)\n",
      "Adding metabolite desmosterol (id: desmosterol_c)\n"
     ]
    }
   ],
   "source": [
    "# Add all new metabolites from metabolites_new.csv\n",
    "new_metabolites = dict()\n",
    "with open(\"data/metabolites_new.csv\",\"r\") as infile:\n",
    "    infile.readline()\n",
    "    for line in infile:\n",
    "        line = line.rstrip().split(\",\")\n",
    "        m = Metabolite(\n",
    "            line[0],\n",
    "            formula=line[1],\n",
    "            name=line[2],\n",
    "            compartment=line[3])\n",
    "        print(f'Adding metabolite {m.name} (id: {m})')\n",
    "        new_metabolites[line[0]] = m"
   ]
  },
  {
   "cell_type": "code",
   "execution_count": 135,
   "metadata": {},
   "outputs": [
    {
     "name": "stdout",
     "output_type": "stream",
     "text": [
      "For model iMM904_progesterone_pathway1:\n",
      "Adding reaction MNXR4011: cholesterol_c + h_c + nadph_c + o2_c <=> 2.0 h2o_c + methylpentanal_c + nadp_c + pregnenolone_c | enzyme MNXR4011\n"
     ]
    }
   ],
   "source": [
    "# Add the MNXR4011 reaction\n",
    "print(f\"For model {model_pathway1.id}:\")\n",
    "import_reactions = (\"MNXR4011\")\n",
    "with open(\"data/reactions_new.csv\",\"r\") as infile:\n",
    "    infile.readline()\n",
    "    for line in infile:\n",
    "        line = line.rstrip().split(\",\")\n",
    "        r = Reaction(line[0])\n",
    "        if line[0] in import_reactions:\n",
    "            r.name = line[2]\n",
    "            if line[3] != \"\":\n",
    "                r.subsystem = line[3]\n",
    "            r.lower_bound = float(line[4])\n",
    "            r.upper_bound = float(line[5])\n",
    "            if line[1] != \"\":\n",
    "                r.gpr = GPR.from_string(line[1])\n",
    "            for i in range(int(len(line[6:])/2)):\n",
    "                metaboliteID = line[6+i*2]\n",
    "                if metaboliteID != \"\":\n",
    "                    if metaboliteID in model_pathway1.metabolites:\n",
    "                        metaboliteID = model_pathway1.metabolites.get_by_id(metaboliteID)\n",
    "                    else:\n",
    "                        metaboliteID = new_metabolites[metaboliteID]\n",
    "                    bin = float(line[7+i*2])\n",
    "                    r.add_metabolites({metaboliteID:bin})\n",
    "            print(f'Adding reaction {r} | enzyme {r.gpr}')\n",
    "            model_pathway1.add_reactions([r])"
   ]
  },
  {
   "cell_type": "markdown",
   "metadata": {},
   "source": [
    "All cameo pathways agree with the implemented pathway in the way that zymosterol is in four steps converted into cholesterol which is afterwards converted by two steps to progesterone. However, different paths towards cholesterol are used. Together it shows a grid pathway structure (Figure 2.2). Therefore, to test which way through the grid is optimal, new models were constructed with pathway 1, 2, 3, or all combined. Pathway 2 goes from zymosterol via 7-dehydrodesmosterol and 7-dehydrocholesterol towards cholesterol and pathway 3 goes from zymosterol via desmosterol towards cholesterol (Figure 2.2). All new models contain the MNXR4011 reaction instead of CYP11A1. \n",
    "To avoid futile cycling all reactions pointing downwards in figure 2.2 are unidirectional.\n"
   ]
  },
  {
   "cell_type": "code",
   "execution_count": 136,
   "metadata": {},
   "outputs": [
    {
     "name": "stdout",
     "output_type": "stream",
     "text": [
      "Model iMM904_progesterone_pathway2 were made as a copy of iMM904_progesterone_pathway1\n",
      "Model iMM904_progesterone_pathway3 were made as a copy of iMM904_progesterone_pathway1\n",
      "Model iMM904_progesterone_pathway_combine were made as a copy of iMM904_progesterone_pathway1\n",
      "For model iMM904_progesterone_pathway2:\n",
      "DHCR24 were knocked out\n",
      "ERG3 were knocked out\n",
      "For model iMM904_progesterone_pathway3:\n",
      "DHCR24 were knocked out\n",
      "ERG3 were knocked out\n",
      "DHCR7 were knocked out\n"
     ]
    }
   ],
   "source": [
    "# Knock out genes in pathway 2 and 3 models\n",
    "model_pathway2 = model_pathway1.copy()\n",
    "model_pathway3 = model_pathway1.copy()\n",
    "model_pathway_combine = model_pathway1.copy()\n",
    "model_pathway2.id = \"iMM904_progesterone_pathway2\"\n",
    "model_pathway3.id = \"iMM904_progesterone_pathway3\"\n",
    "model_pathway_combine.id = \"iMM904_progesterone_pathway_combine\"\n",
    "print(f\"Model {model_pathway2.id} were made as a copy of {model_pathway1.id}\")\n",
    "print(f\"Model {model_pathway3.id} were made as a copy of {model_pathway1.id}\")\n",
    "print(f\"Model {model_pathway_combine.id} were made as a copy of {model_pathway1.id}\")\n",
    "models = [model_pathway2,model_pathway3,model_pathway_combine]\n",
    "KOs_p2 = [\"DHCR24\",\"YLR056W\"]\n",
    "KOs_p3 = [\"DHCR24\",\"YLR056W\",\"DHCR7\"]\n",
    "print(f\"For model {model_pathway2.id}:\")\n",
    "for KO in KOs_p2:\n",
    "    model_pathway2.genes.get_by_id(KO).knock_out()\n",
    "    if KO == \"YLR056W\":\n",
    "        print(f\"ERG3 were knocked out\")\n",
    "    else:\n",
    "        print(f\"{KO} were knocked out\")\n",
    "print(f\"For model {model_pathway3.id}:\")\n",
    "for KO in KOs_p3:\n",
    "    model_pathway3.genes.get_by_id(KO).knock_out()\n",
    "    if KO == \"YLR056W\":\n",
    "        print(f\"ERG3 were knocked out\")\n",
    "    else:\n",
    "        print(f\"{KO} were knocked out\")"
   ]
  },
  {
   "cell_type": "code",
   "execution_count": 137,
   "metadata": {},
   "outputs": [
    {
     "name": "stdout",
     "output_type": "stream",
     "text": [
      "For model iMM904_progesterone_pathway2:\n",
      "Adding reaction MNXR11345: dehydrodesmosterol_c + h_c + nadph_c <=> dehydrocholesterol_c + nadp_c | enzyme MNXR11345\n",
      "Adding reaction MNXR3338: cholesta724dien3betaol_c + h_c + nadph_c + o2_c --> dehydrodesmosterol_c + 2.0 h2o_c + nadp_c | enzyme MNXR3338\n",
      "For model iMM904_progesterone_pathway3:\n",
      "Adding reaction MNXR1551: dehydrodesmosterol_c + h_c + nadph_c --> desmosterol_c + nadp_c | enzyme MNXR1551\n",
      "Adding reaction MNXR5471: desmosterol_c + h_c + nadph_c <=> cholesterol_c + nadp_c | enzyme MNXR5471\n",
      "Adding reaction MNXR3338: cholesta724dien3betaol_c + h_c + nadph_c + o2_c --> dehydrodesmosterol_c + 2.0 h2o_c + nadp_c | enzyme MNXR3338\n",
      "For model iMM904_progesterone_pathway_combine:\n",
      "Adding reaction MNXR1551: dehydrodesmosterol_c + h_c + nadph_c --> desmosterol_c + nadp_c | enzyme MNXR1551\n",
      "Adding reaction MNXR11345: dehydrodesmosterol_c + h_c + nadph_c <=> dehydrocholesterol_c + nadp_c | enzyme MNXR11345\n",
      "Adding reaction MNXR5471: desmosterol_c + h_c + nadph_c <=> cholesterol_c + nadp_c | enzyme MNXR5471\n",
      "Adding reaction MNXR3338: cholesta724dien3betaol_c + h_c + nadph_c + o2_c --> dehydrodesmosterol_c + 2.0 h2o_c + nadp_c | enzyme MNXR3338\n"
     ]
    }
   ],
   "source": [
    "# Add reactionas for pathway 2, 3, and combined\n",
    "models = {model_pathway2:['MNXR3338','MNXR11345'],model_pathway3:['MNXR3338','MNXR1551','MNXR5471'],model_pathway_combine:['MNXR3338','MNXR1551','MNXR5471','MNXR11345']}\n",
    "for m, import_reactions in models.items():\n",
    "    print(f\"For model {m.id}:\")\n",
    "    with open(\"data/reactions_new.csv\",\"r\") as infile:\n",
    "        infile.readline()\n",
    "        for line in infile:\n",
    "            line = line.rstrip().split(\",\")\n",
    "            r = Reaction(line[0])\n",
    "            if line[0] in import_reactions:\n",
    "                r.name = line[2]\n",
    "                if line[3] != \"\":\n",
    "                    r.subsystem = line[3]\n",
    "                r.lower_bound = float(line[4])\n",
    "                r.upper_bound = float(line[5])\n",
    "                if line[1] != \"\":\n",
    "                    r.gpr = GPR.from_string(line[1])\n",
    "                for i in range(int(len(line[6:])/2)):\n",
    "                    metaboliteID = line[6+i*2]\n",
    "                    if metaboliteID != \"\":\n",
    "                        if metaboliteID in m.metabolites:\n",
    "                            metaboliteID = m.metabolites.get_by_id(metaboliteID)\n",
    "                        else:\n",
    "                            metaboliteID = new_metabolites[metaboliteID]\n",
    "                        bin = float(line[7+i*2])\n",
    "                        r.add_metabolites({metaboliteID:bin})\n",
    "                print(f'Adding reaction {r} | enzyme {r.gpr}')\n",
    "                m.add_reactions([r])"
   ]
  },
  {
   "cell_type": "code",
   "execution_count": 138,
   "metadata": {},
   "outputs": [
    {
     "name": "stdout",
     "output_type": "stream",
     "text": [
      "Saving to models/iMM904_progesterone_pathway1.xml\n",
      "Saving to models/iMM904_progesterone_pathway2.xml\n",
      "Saving to models/iMM904_progesterone_pathway3.xml\n",
      "Saving to models/iMM904_progesterone_pathway_combine.xml\n"
     ]
    }
   ],
   "source": [
    "# Saving new model\n",
    "models = [model_pathway1,model_pathway2,model_pathway3,model_pathway_combine]\n",
    "for m in models:\n",
    "    outfilename = 'models/'+m.id+'.xml'\n",
    "    print(f\"Saving to {outfilename}\")\n",
    "    write_sbml_model(m, outfilename)"
   ]
  },
  {
   "cell_type": "code",
   "execution_count": 139,
   "metadata": {},
   "outputs": [
    {
     "name": "stdout",
     "output_type": "stream",
     "text": [
      "Model iMM904_progesterone: Adding reaction progesterone demand: progesterone_c --> \n",
      "Model iMM904_progesterone_pathway1: Adding reaction progesterone demand: progesterone_c --> \n",
      "Model iMM904_progesterone_pathway2: Adding reaction progesterone demand: progesterone_c --> \n",
      "Model iMM904_progesterone_pathway3: Adding reaction progesterone demand: progesterone_c --> \n",
      "Model iMM904_progesterone_pathway_combine: Adding reaction progesterone demand: progesterone_c --> \n"
     ]
    }
   ],
   "source": [
    "# Add demand reaction for progesterone\n",
    "models = [model,model_pathway1,model_pathway2,model_pathway3,model_pathway_combine]\n",
    "for m in models:\n",
    "    m.add_boundary(m.metabolites.get_by_id('progesterone_c'), type='demand')\n",
    "    print(f'Model {m.id}: Adding reaction {m.reactions.DM_progesterone_c.name}: {m.reactions.DM_progesterone_c.reaction}')"
   ]
  },
  {
   "cell_type": "code",
   "execution_count": 140,
   "metadata": {},
   "outputs": [
    {
     "name": "stdout",
     "output_type": "stream",
     "text": [
      "iMM904_progesterone: µ = 0.28786570370401837\n",
      "iMM904_progesterone_pathway1: µ = 0.2878657037040172\n",
      "iMM904_progesterone_pathway2: µ = 0.28786570370401404\n",
      "iMM904_progesterone_pathway3: µ = 0.287865703704016\n",
      "iMM904_progesterone_pathway_combine: µ = 0.28786570370401654\n"
     ]
    }
   ],
   "source": [
    "# Calculate µ\n",
    "biomass = []\n",
    "for i, m in enumerate(models):\n",
    "    biomass.append(m.optimize().objective_value)\n",
    "    print(f'{m.id}: µ = {biomass[i]}')"
   ]
  },
  {
   "cell_type": "code",
   "execution_count": 141,
   "metadata": {},
   "outputs": [
    {
     "name": "stdout",
     "output_type": "stream",
     "text": [
      "iMM904_progesterone: progesterone flux = 0.14285714285714285\n",
      "iMM904_progesterone_pathway1: progesterone flux = 0.16666666666666666\n",
      "iMM904_progesterone_pathway2: progesterone flux = 0.16666666666666666\n",
      "iMM904_progesterone_pathway3: progesterone flux = 0.16666666666666666\n",
      "iMM904_progesterone_pathway_combine: progesterone flux = 0.16666666666666666\n"
     ]
    }
   ],
   "source": [
    "# Calculate flux towards progesterone\n",
    "pp = []\n",
    "for i, m in enumerate(models):\n",
    "    with m:\n",
    "        objective_reaction = m.reactions.R02216\n",
    "        m.objective = objective_reaction\n",
    "        pp.append(m.optimize().objective_value)\n",
    "    print(f'{m.id}: progesterone flux = {pp[i]}')"
   ]
  },
  {
   "cell_type": "code",
   "execution_count": 142,
   "metadata": {},
   "outputs": [
    {
     "name": "stdout",
     "output_type": "stream",
     "text": [
      "Procentage increase in flux towards progesterone: 16.67%\n"
     ]
    }
   ],
   "source": [
    "# Calculate procentage increase in flux towards progesterone\n",
    "print(f\"Procentage increase in flux towards progesterone: {round((pp[1]/pp[0]-1)*100,2)}%\")"
   ]
  },
  {
   "cell_type": "markdown",
   "metadata": {},
   "source": [
    "From the results it is clear that no matter how the pathways go through the “grid” from zymosterol to cholesterol, neither growth rate nor flux towards progesterone are chanced. However, when swapping the CYP11A1 enzyme with MNXR4011 an increase of 16.67% in flux towards progesterone is obtained."
   ]
  }
 ],
 "metadata": {
  "kernelspec": {
   "display_name": "Python 3.9.13 ('base')",
   "language": "python",
   "name": "python3"
  },
  "language_info": {
   "codemirror_mode": {
    "name": "ipython",
    "version": 3
   },
   "file_extension": ".py",
   "mimetype": "text/x-python",
   "name": "python",
   "nbconvert_exporter": "python",
   "pygments_lexer": "ipython3",
   "version": "3.9.13"
  },
  "orig_nbformat": 4,
  "vscode": {
   "interpreter": {
    "hash": "1c61bb7f5e5b8317d1eec5b8bcaa12241e8a88d5b6ba26b6e318bf21311ddd01"
   }
  }
 },
 "nbformat": 4,
 "nbformat_minor": 2
}
