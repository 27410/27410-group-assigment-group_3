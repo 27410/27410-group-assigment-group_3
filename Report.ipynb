{
 "cells": [
  {
   "cell_type": "markdown",
   "metadata": {},
   "source": [
    "Still only very much draft. Fix references.\n",
    "\n",
    "Trine Bertram note: Maybe mentioned in the intro, that microbes were first used to bioconversion before cell factories.\n",
    "And that cell factories for steroid production are still a developing field. And then: To the best of our knowledge/surprise, no progesterone producting strains has been developed."
   ]
  },
  {
   "cell_type": "markdown",
   "metadata": {},
   "source": [
    "# Progesterone production in *Saccharomyces cerevisiae* "
   ]
  },
  {
   "cell_type": "code",
   "execution_count": 2,
   "metadata": {},
   "outputs": [],
   "source": [
    "from IPython.display import FileLink, FileLinks, Image # load packages for inserting files and images in the report"
   ]
  },
  {
   "cell_type": "markdown",
   "metadata": {},
   "source": [
    "## 1. Introduction"
   ]
  },
  {
   "cell_type": "markdown",
   "metadata": {},
   "source": [
    "### 1.1 Literature review of the compound (<500 words) (almost done, needs revision)\n",
    "\n",
    "Steroids are ring-structured lipophilic compounds serving various functions in cells. They are of huge pharmaceutical interest, as they are used to treat various diseases and manage both male and female fertility [1]. Progesterone (**Figure 1**), a female sex hormone, is among the most valuable steroid drugs [2]. It is mainly used as a contraceptive, which has been on the market for decades [3,4].\n",
    "\n",
    "The market size for progesterone alone is currently estimated to be USD $800 million but is expected to reach a staggering USD $1569 million by 2027; in other words, the market size will nearly double within the next five years, due to the increasing progesterone demand (Market Data Forecast, 2022). "
   ]
  },
  {
   "cell_type": "markdown",
   "metadata": {},
   "source": [
    "![figures/progesterone.png](figures/progesterone.png)\n",
    "**Figure 1.** The structure of progesterone (C21H30O2); a steroidal female sex hormone. (CARO COMMENT: hedder det steroidal??)"
   ]
  },
  {
   "cell_type": "markdown",
   "metadata": {},
   "source": [
    "The chemical synthesis of steroids was a highly competitive research field during the middle of the 20th century [7]. In 1940, Bachmann and Wilds produced the sex hormone equilenin as the first complex molecule to be chemically synthesized [6]. In the following decades, many other steroids, including progesterone, were fully chemically synthesized with RB Woodward revolutionizing the field in 1952 [11,9]. He later won the Nobel prize for this work [12]. \n",
    "\n",
    "Despite the great efforts in the chemical synthesis of steroids, the structural complexity of steroids complicates their synthesis which often requires harsh conditions and contributes to heavy environmental pollution [1]. Therefore, most steroid drugs are (CARO COMMENT: nowadays) produced semi-synthetically, using a naturally abundant complex precursor as a starting point. Diosgenin, a steroidal sapogenin, is commonly used as a precursor and can be extracted from plants of the *Dioscorea* genus [8,9,10]. For example, progesterone can be produced from diosgenin via the so-called Marker synthesis [9]. However, the protection and limited availability of these plants have caused increasing market prices of diosgenin. Collectively, the obstacles in the synthesis of steroids pushed researchers to look towards alternative production methods, namely through natural biosynthesis using microbial cell factories [1]! Mild reaction conditions, lower chemical pollution, and higher conversion rates are among the advantages of using microbial cell factories in steroid production as compared to chemical synthesis. To our knowledge (and surprise), no cell factory has been reported to produce progesterone. (CARO COMMENT: This will contribute to the important transistion to a biobased economy.)\n"
   ]
  },
  {
   "cell_type": "markdown",
   "metadata": {},
   "source": [
    "### 1.2 Literature review of the cell factory (<500 words) (VERY much draft, mainly some thoughts for now)\n",
    "\n",
    "When designing a cell factory, the first crucial decision to make is which cell to pick as the chassis. The cell host must be culturable. To integrate a heterologous pathway, the cell must be genetically engineerable as well. Additionally, it is a huge advantage if the cell host is well-known in the industry, has status as GRAS (generally regarded as safe), and naturally produces the compound of CARO COMMET: interest) or a suitable precursor. Sometimes, (CARO COMMENT: delete 'some') enzymes required in the heterologous pathway depend on certain features, such as eukaryotic organelles, which is the case for progesterone production, precluding prokayrotes (**can be better**). After considering various cell hosts – including the mammalian CHO-cells, microalgae, and the yeast *Yarrowia lipolytica* – our final choice ended on baker’s yeast, *Saccharomyces cerevisiae*.\n",
    "\n",
    "\n",
    "*S. cerevisiae* is the most studied eukaryote and lives up to all the above-mentioned requirements except that it does not produce progesterone naturally [13]. It does, however, produce squalene; a triterpenoid precursor in steroid biosynthesis. During the mevalonate pathway, several enzymatic steps result in the cyclization of squalene, establishing the foundation of all steroids [5] (**Can be better written here**).\n",
    "\n",
    "S. cerevisiae is already considered a promising cell factory for squalene many publications have focused on engineering S. cerevisiae to overproduce squalene [14,15]. This is despite the fact that **MENTION THAT HYDROPHOBIC COMPOUNDS CAN BE TOXIC**. Therefore, non-conventional cell hosts, such as the oleaginous yeast Yarrowia lipolytica, have gained attention as well. Nonetheless, the extensive research of S. cerevisiae recently enabled researchers to generate a strain producing a staggering 21 g squalene pr. L, placing S. cerevisiae at the forefront of squalene-producing cell factories [14,15]. \n",
    "\n",
    "**MENTION SOMETHING HERE GOOD BRIDGE**\n",
    "\n",
    "Fortunately for this project, a variety of decent genome-scale models for S. cerevisiae exists, which is important in order to reliably design progesterone cell factories computationally."
   ]
  },
  {
   "cell_type": "markdown",
   "metadata": {},
   "source": [
    "## 2. Problem definition (<300 words)\n",
    "\n",
    "Current production methods of steroid drugs rely on the extraction of precursors from plants combined with chemical synthesis, which causes a burden to the environment. Due to the increasing demand for steroid drugs, the development of efficient and sustainable production methods is a highly relevant and important topic.\n",
    "\n",
    "**In this project, we aim to design a cell factory of *S. cerevisiae* producing the steroid drug, progesterone.**\n",
    "\n",
    "First, we will analyze different genome-scale models (GSMs) of *S. cerevisiae* to use for our computer-aided analysis and design. We will identify and implement the necessary heterologous pathways into our model. This model will serve as the foundation to identify reaction targets for knock-outs, over-expression, and knock-downs. Additionally, we perform a co-factor swapping analysis to test the effect on growth and progesterone production when swapping nadh and nadph in the identified reactions. To understand the effect on growth and progesterone production of our implemented alterations, we generate phenotypic phase plane plots, calculate maximum theoretical yields and fluxes, can perform a dynamic flux balance analysis of a batch fermentation.Lastly, we will assess several **MENTION EXACT NUMBER** of the strains we have designed to conclude which of them that are most likely to be the best progesterone-producing cell factory. \n"
   ]
  },
  {
   "cell_type": "markdown",
   "metadata": {},
   "source": [
    "## 3. Selection and assessment of existing GSM (<500 words)"
   ]
  },
  {
   "cell_type": "markdown",
   "metadata": {},
   "source": [
    "## 4. Computer-Aided Cell Factory Engineering (<1500 words)"
   ]
  },
  {
   "cell_type": "markdown",
   "metadata": {},
   "source": [
    "**Cell factory engineering strategies**\n",
    "\n",
    "Cell factories can be engineered in various ways in order to make them stable and productive. \n",
    "\n",
    "Using computer-aided cell factory design, we have investigated different cell factory engineering strategies for improving the progesterone producing S. cerevisiae strain (iMM904_progesterone)."
   ]
  },
  {
   "cell_type": "markdown",
   "metadata": {},
   "source": [
    "**1. Knocking out ERG5 and ERG6**\n",
    "The heterologous pathway for production of progesterone starts from zymosterol which naturally is an important precursor for ergosterol (SEE FIG!!). Therefore, it has been suggested that flux towards progesterone through cholersterol can be improved by knocking out ERG5 and ERG6 [16]. A pathway overview is seen in **05_knockout_analysis Figure 1**.\n",
    "\n",
    "To our surprise, knocking out ERG5 and ERG6 had no effect on cell growth (µ = 0.119 mmol/gDW*h) or progesterone production (0.156 mmol/gDW * h). \n",
    "\n",
    "We investigated this further. First, it was confirmed that the knockouts worked because knocking out HSD3B resulted in no progesterone flux. "
   ]
  },
  {
   "cell_type": "markdown",
   "metadata": {},
   "source": [
    "**2. Prediction of gene knockouts using OptGene**"
   ]
  },
  {
   "cell_type": "markdown",
   "metadata": {},
   "source": [
    "**3. Prediction of up- and downregulation targets using FSEOF**"
   ]
  },
  {
   "cell_type": "markdown",
   "metadata": {},
   "source": [
    "## 5. Discussion (<500 words)"
   ]
  },
  {
   "cell_type": "markdown",
   "metadata": {},
   "source": [
    "## 6. Conclusion (<200 words)"
   ]
  },
  {
   "cell_type": "markdown",
   "metadata": {},
   "source": [
    "## References"
   ]
  },
  {
   "cell_type": "markdown",
   "metadata": {},
   "source": [
    "[1] Tong, Wang-Yu, and Xiang Dong. \"Microbial biotransformation: recent developments on steroid drugs.\" Recent patents on biotechnology 3.2 (2009): 141-153.\n",
    "\n",
    "[2] Batth, Rituraj, et al. \"Biosynthesis and industrial production of androsteroids.\" Plants 9.9 (2020): 1144.\n",
    "\n",
    "[3] Howie, Peter W. \"The progestogen-only pill.\" British journal of obstetrics and gynaecology 92.10 (1985): 1001-1002.\n",
    "\n",
    "[4] Nath, Anita, and Regine Sitruk-Ware. \"Progesterone vaginal ring for contraceptive use during lactation.\" Contraception 82.5 (2010): 428-434.\n",
    "\n",
    "[5] Buhaescu, Irina, and Hassane Izzedine. \"Mevalonate pathway: a review of clinical and therapeutical implications.\" Clinical biochemistry 40.9-10 (2007): 575-584.\n",
    "\n",
    "[6] Bachmann, W. E., Wayne Cole, and A. L. Wilds. \"The total synthesis of the sex hormone equilenin and its stereoisomers.\" Journal of the American Chemical Society 62.4 (1940): 824-839.\n",
    "\n",
    "[7] Slater, Leo B. \"Industry and academy: The synthesis of steroids.\" Historical studies in the physical and biological sciences 30.2 (2000): 443-480.\n",
    "\n",
    "[8] Jesus, Mafalda, et al. \"Diosgenin: recent highlights on pharmacology and analytical methodology.\" Journal of analytical methods in chemistry 2016 (2016).\n",
    "\n",
    "[9] Al Jasem, Yosef, et al. \"Preparation of steroidal hormones with an emphasis on transformations of phytosterols and cholesterol-a review.\" Mediterranean Journal of Chemistry 3.2 (2014): 796-830.\n",
    "\n",
    "[10] Dong, Jingzhou, et al. \"Direct biotransformation of dioscin into diosgenin in rhizome of Dioscorea zingiberensis by Penicillium dioscin.\" Indian journal of microbiology 55.2 (2015): 200-206.\n",
    "\n",
    "[11] Woodward, R. B., et al. \"The total synthesis of steroids1.\" Journal of the American Chemical Society 74.17 (1952): 4223-4251.\n",
    "\n",
    "[12] Bartlett, Paul D., Frank Henry Westheimer, and G. Büchi. \"Robert Burns Woodward, Nobel Prize in Chemistry for 1965.\" Science 150.3696 (1965): 585-587.\n",
    "\n",
    "[13] Parapouli, Maria, et al. \"Saccharomyces cerevisiae and its industrial applications.\" AIMS microbiology 6.1 (2020): 1.\n",
    "\n",
    "[14] Paramasivan, Kalaivani, and Sarma Mutturi. \"Recent advances in the microbial production of squalene.\" World Journal of Microbiology and Biotechnology 38.5 (2022): 1-21.\n",
    "\n",
    "[15] Zhu, Zhan-Tao, et al. \"Metabolic compartmentalization in yeast mitochondria: Burden and solution for squalene overproduction.\" Metabolic engineering 68 (2021): 232-245.\n",
    "\n",
    "[16] Jiang, Yi-qi, and Jian-ping Lin. \"Recent progress in strategies for steroid production in yeasts.\" World Journal of Microbiology and Biotechnology 38.6 (2022): 1-14.\n"
   ]
  }
 ],
 "metadata": {
  "kernelspec": {
   "display_name": "Python 3.9.7 ('thedream')",
   "language": "python",
   "name": "python3"
  },
  "language_info": {
   "codemirror_mode": {
    "name": "ipython",
    "version": 3
   },
   "file_extension": ".py",
   "mimetype": "text/x-python",
   "name": "python",
   "nbconvert_exporter": "python",
   "pygments_lexer": "ipython3",
   "version": "3.9.7"
  },
  "vscode": {
   "interpreter": {
    "hash": "a96b71695c3a24f59fc54de2491e8242c06dac6267a835f95230714e92db40c4"
   }
  }
 },
 "nbformat": 4,
 "nbformat_minor": 4
}
