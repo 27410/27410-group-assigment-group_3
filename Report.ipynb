{
 "cells": [
  {
   "cell_type": "markdown",
   "metadata": {},
   "source": [
    "Still only very much draft. Fix references.\n",
    "\n",
    "Trine Bertram note: Maybe mentioned in the intro, that microbes were first used to bioconversion before cell factories.\n",
    "And that cell factories for steroid production are still a developing field. And then: To the best of our knowledge/surprise, no progesterone producting strains has been developed."
   ]
  },
  {
   "cell_type": "markdown",
   "metadata": {},
   "source": [
    "# Progesterone production in *Saccharomyces cerevisiae* "
   ]
  },
  {
   "cell_type": "code",
   "execution_count": 1,
   "metadata": {},
   "outputs": [],
   "source": [
    "from IPython.display import FileLink, FileLinks, Image # load packages for inserting files and images in the report"
   ]
  },
  {
   "cell_type": "markdown",
   "metadata": {},
   "source": [
    "## 1. Introduction"
   ]
  },
  {
   "cell_type": "markdown",
   "metadata": {},
   "source": [
    "### 1.1 Literature review of the compound (<500 words) (almost done, needs revision)\n",
    "\n",
    "Steroids are ring-structured lipophilic compounds serving various functions in cells. They are of huge pharmaceutical interest, as they are used to treat various diseases and manage both male and female fertility (Tong et al. 2009). Progesterone (**Figure 1**), a female sex hormone, is among the most valuable steroid drugs (Batth et al. 2020) . It is mainly used as a contraceptive, which has been on the market for decades (Howie 1985; Nath et al. 2010)\n",
    "\n",
    "The market size for progesterone alone is currently estimated to be USD $800 million but is expected to reach a staggering USD $1569 million by 2027; In other words, the market size will nearly double within the next five years, due to the increasing progesterone demand (Market Data Forecast, 2022). \n"
   ]
  },
  {
   "cell_type": "markdown",
   "metadata": {},
   "source": [
    "![figures/progesterone.png](figures/progesterone.png)\n",
    "**Figure 1.** The structure of progesterone (C21H30O2); a steroidal female sex hormone. (CARO COMMENT: hedder det steroidal??)"
   ]
  },
  {
   "cell_type": "markdown",
   "metadata": {},
   "source": [
    "The chemical synthesis of steroids was a highly competitive research field during the 20th century (Slater 2000). In 1940, Bachmann and Wilds produced the sex hormone equilenin as the first complex molecule to be chemically synthesized (Bachmann et al. 1940). In the following decades, many other steroids, including progesterone, were fully chemically synthesized with RB Woodward revolutionizing the field in 1952 (Woodward et al. 1952; Al Jasem 2014). He later won the Nobel prize for this work (Bartlett et al. 1965). \n",
    "\n",
    "Despite the great efforts in the chemical synthesis of steroids, the structural complexity of steroids complicates their synthesis which often requires harsh conditions and contributes to heavy environmental pollution (Tong et al. 2009). Therefore, most steroid drugs are produced semi-synthetically, using a naturally abundant complex precursor as a starting point. Diosgenin, a steroidal sapogenin, is commonly used as a precursor and can be extracted from plants of the Dioscorea genus (Jesus et al. 2016; Al Jasem 2014; Dong et al. 2015). For example, progesterone can be produced from diosgenin via the so-called Marker synthesis (Al Jasem 2014). However, the protection and limited availability of these Dioscorea plants have caused increasing market prices of diosgenin. \n",
    "\n",
    "Collectively, the obstacles in the synthesis of steroids pushed researchers to look towards alternative production methods, namely through natural biosynthesis using microbial cell factories (Tong et al. 2009)! Mild reaction conditions, lower chemical pollution, and higher conversion rates are among the advantages of using microbial cell factories in steroid production as compared to chemical synthesis (Tong et al. 2009). To our knowledge, no progesterone-producing cell factory has been published. Therefore, we decided to design one.\n",
    "\n",
    "Understanding the biosynthetic pathway of progesterone is crucial to design a cell factory since it aids in choosing a suitable type of cell host for the cell factory. The biosynthesis of all steroids starts in the production of the triterpenoid precursor, squalene, in the mevalonate pathway. Through several enzymatic steps, squalene can then be cyclized to establish the foundation of all steroids (**FIGURE OF NATURAL PATHWAY?**) (Buhaescu et al. 2007). With this knowledge, it seemed reasonable to choose a cell host already skilled at producing squalene as the starting point.\n",
    "\n",
    "\n"
   ]
  },
  {
   "cell_type": "markdown",
   "metadata": {},
   "source": [
    "### 1.2 Literature review of the cell factory (<500 words) (VERY much draft, mainly some thoughts for now)\n",
    "\n",
    "When designing a cell factory, the first decisive decision to make is which cell to pick as the chassis. The cell host must be culturable. To integrate a heterologous pathway, the cell must be genetically engineerable as well. Additionally, it is a huge advantage if the cell host is well-known in the industry, has status as GRAS (generally regarded as safe), and naturally produces the compound of interest or a suitable precursor. Sometimes, some enzymes required in the heterologous pathway depend on certain features, such as eukaryotic organelles, which is the case for progesterone production, precluding prokaryotes. After considering various cell hosts – including the mammalian CHO-cells, microalgae, and non-conventional yeasts– our final choice ended at baker’s yeast, *Saccharomyces cerevisiae*.\n",
    "\n",
    "\n",
    "Saccharomyces cerevisiae is the most studied eukaryote that lives up to all the above-mentioned requirements except it does not produce progesterone naturally (Parapouli et al. 2020). It does, however, produce squalene, which is used to produce the steroid, ergosterol (Xu et al. 2020). Extensive research of S. cerevisiae recently enabled researchers to generate a strain producing a staggering 21 g squalene pr. L, placing S. cerevisiae at the forefront of squalene-producing cell factories (Paramasivan et al. 2022; Zhu et al. 2021). Overproduction of the squalene is a good starting point for the overproduction of steroids as well, as more precursors will be available. \n",
    "\n",
    "Several issues challenge the production of steroids with *S. cerevisiae*. One issue is that many steroids are non-exportable and might cause toxic effects when accumulating in the cell. Using non-conventional yeasts, like *Yarrowia lipolytica* or *Pichia pastoris*, might aid in solving these issues. For example, *Y. lipolytica* also efficiently produces steroid precursors and is known for its ability to accumulate lipids and lipophilic compounds, and therefore maybe also steroids (Xu et al. 2020; Worland et al. 2020; Adrio 2017). *P. pastoris* holds an efficient secretion system, which has been suggested to allow extracellular steroid synthesis to overcome the toxic effect of steroid accumulation (Xu et al. 2020; Ahmad et al. 2014). The downside of these non-conventional strains is that they are much less studied compared to *S. cerevisiae*. As designing cell factories computationally heavily rely on representative and detailed models, we still decided to use *S. cerevisiae* as our model organism. Nonetheless, we believe that the findings for *S. cerevisiae* in this report will still be applicable for other yeast strains.\n",
    "\n"
   ]
  },
  {
   "cell_type": "markdown",
   "metadata": {},
   "source": [
    "## 2. Problem definition (<300 words)\n",
    "\n",
    "Current production methods of steroid drugs rely on the extraction of precursors from plants combined with chemical synthesis, which causes a burden to the environment. Due to the increasing demand for steroid drugs, the development of efficient and sustainable production methods is a highly relevant and important topic.\n",
    "\n",
    "**In this project, we aim to design a cell factory of *S. cerevisiae* that is optimized to produce the steroid drug, progesterone.**\n",
    "\n",
    "First, we will analyze different genome-scale models (GSMs) of *S. cerevisiae* to use for our computer-aided analysis and design. We will identify and implement the necessary heterologous pathways into our model. This model will serve as the foundation to identify reaction targets for knock-outs, over-expression, and knock-downs, in order to improve the progesterone yield (**or flux or productivity or titre?**). Additionally, we perform a co-factor swapping analysis to test the effect on growth and progesterone production when swapping NADH with NADPH in the identified reactions. To understand the effect on growth and progesterone production of our implemented alterations, we generate phenotypic phase plane plots, calculate maximum theoretical yields and fluxes, can perform a dynamic flux balance analysis of a batch fermentation.\n",
    "Lastly, we will assess several **XX** of the strains we have designed to conclude which of them that are most likely to be the best progesterone-producing cell factory. \n"
   ]
  },
  {
   "cell_type": "markdown",
   "metadata": {},
   "source": [
    "## 3. Selection and assessment of existing GSM (<500 words)"
   ]
  },
  {
   "cell_type": "markdown",
   "metadata": {},
   "source": [
    "Our choice of host organism, *Saccharomyces cerevisiae*, is a very common and well-researched organism, thus multiple genome-scale metabolic models (GSMs) exist. GSM models can be used to computationally calculate predicted outcomes, which can then be verified experimentally. From BIGG and EMBL-EBI's BioModels we found four candidate GSMs: iFF708, iMM904, iND750, and yeast-GEM (version 8.6.2 newest on GitHub). iND750 is an improved version of the model iFF708, containing more genes, metabolites, and reactions (25).\n",
    "\n",
    "Using `memote`, it is possible to assess different quality measures of the GSM models, including stochiometry, annotation, and reaction/metabolite statistics. Each model was individually tested using `memote` and the results of the `memote` runs can be seen in the `models/memote` folder. The results are summarised in the table below.\n",
    "\n",
    "*Table X shows the `memote` results evaluating the four GSMs (iFF708, iMM904, iND750, and yeast8.6.2).*\n",
    "| Measure | iMM904 | yeast8.6.2 | iFF708 | iND750 |\n",
    "| ---- | ---- | - | - | - |\n",
    "| Total Metabolites | 1,226 | 2,744 | 796 | 1,059 |\n",
    "| Total Reactions | 1,577 | 4,063 | 1,379 | 1.266 |\n",
    "| Total Genes | 905 | 1,160 | 619 | 750 |\n",
    "|  Stochiometric Consistency  | 100.0% | 0.0% | 0.0% | 100.0% |\n",
    "|  Mass Balance  | 96.0% | 93.7% | 0.0% | 97.3% |\n",
    "|  Charge Balance  | 98.5% | 98.2% | 100.0% | 100.0% |\n",
    "|  Metabolite Connectivity  | 100.0% | 100.0% | 100.0% | 100.0% |\n",
    "|  Unbounded Flux In Default Medium | 76.2% | 58.8% | 71.7% | 83.0% |\n",
    "|  Metabolite Annotation | 80% | 68% | 25% | 80% |\n",
    "|  Reaction Annotation | 82% | 65% | 25% | 83% |\n",
    "|  Gene Annotation | 43% | 54% | 0% | 43% |\n",
    "|  **Total score** | 85% | 68% | 19% | 86% |\n",
    "\n",
    "\n",
    "As seen in Table X, yeast8.6.2 contains by far the most metabolites, reactions, and genes. The difference is largest for the number of reactions and metabolites, of which it has approximately two times the number, compared to the other GSMs. iMM904, IFF708, and iND750 have a more similar number of reactions, with iMM904 having the most metabolites annotated. For the measure of stoichiometric consistency, the best models are iMM904 and iND750, which both have a consistency score of 100%. At last, iND750 has the highest total score (= 86%), with iMM904 coming just second (= 85%), followed by yeast8.6.2 (= 68%), and iFF708 (= 19%). \n",
    "\n",
    "We decided that the stochiometric consistency was a more important parameter than the number of reactions, as we expect the data generated using GSMs with a stochiometric consistency of 100% to be more reliable than using GSMs with a stochiometric consistency of 0%; In that way, we eliminated yeast8.6.2 and iFF708 as GSMs. This left us with either iMM904 or iND750 to choose from. Since the scores of these two GSMs are so close, we decided to go for iMM904, as it contains the most reactions, metabolites, and genes, which we expect will provide us with a better result that, again, will provide us with more reliable data when simulating using this model."
   ]
  },
  {
   "cell_type": "code",
   "execution_count": 9,
   "metadata": {},
   "outputs": [
    {
     "data": {
      "text/html": [
       "<a href='01_GSM_Comparison.ipynb' target='_blank'>01_GSM_Comparison.ipynb</a><br>"
      ],
      "text/plain": [
       "/Users/trine/github-classroom/27410/27410-group-assigment-group_3/01_GSM_Comparison.ipynb"
      ]
     },
     "execution_count": 9,
     "metadata": {},
     "output_type": "execute_result"
    }
   ],
   "source": [
    "FileLink('01_GSM_Comparison.ipynb')"
   ]
  },
  {
   "cell_type": "markdown",
   "metadata": {},
   "source": [
    "## 4. Computer-Aided Cell Factory Engineering (<1500 words)"
   ]
  },
  {
   "cell_type": "markdown",
   "metadata": {},
   "source": [
    "#### **Implementation and characterization of the cell factory**"
   ]
  },
  {
   "cell_type": "markdown",
   "metadata": {},
   "source": [
    "**Implementation of the heterologous pathway**"
   ]
  },
  {
   "cell_type": "markdown",
   "metadata": {},
   "source": []
  },
  {
   "cell_type": "code",
   "execution_count": 8,
   "metadata": {},
   "outputs": [
    {
     "data": {
      "text/html": [
       "<a href='02_heterologous_pathway_implementation.ipynb' target='_blank'>02_heterologous_pathway_implementation.ipynb</a><br>"
      ],
      "text/plain": [
       "/Users/trine/github-classroom/27410/27410-group-assigment-group_3/02_heterologous_pathway_implementation.ipynb"
      ]
     },
     "execution_count": 8,
     "metadata": {},
     "output_type": "execute_result"
    }
   ],
   "source": [
    "FileLink('02_heterologous_pathway_implementation.ipynb')"
   ]
  },
  {
   "cell_type": "markdown",
   "metadata": {},
   "source": [
    "**Calculating the maximum theoretical yield and productivity on default and alternative carbon sources**"
   ]
  },
  {
   "cell_type": "markdown",
   "metadata": {},
   "source": [
    "At an uptake rate of 10 mmol/gDWh glucose, the maximum theoretical growth rate for the strain was 0.288 gDW/h (objective set at growth), the maximum theoretical productivity of progesterone was 0.167 mmol/gDWh, and the maximum theoretical progesterone yield was 0.017 mmol progesterone/mmol glucose (objective set at progesterone production). When the objective was changed to account for both maximum growth and maximum production of progesterone, the values changed; Maximum possible growth was 0.119 gDW/h, the maximum progesterone productivity was 0.156 mmol/gDW*h, and the maximum progesterone yield was 0.016 mmol progesterone/mmol glucose.\n",
    "\n",
    "We found that by increasing the availability of glucose in the medium, the maximum theoretical productivity of progesterone only slightly changed, whereas the maximum theoretical progesterone yield was drastically reduced. As the yield is defined as product over substrate, the substrate concentration is increased but the productivity is the same, thus, the yield will be significantly lowered. From this, it could be concluded that only increasing the glucose concentration is not a valid approach for increasing progesterone yield; This makes sense, as there are two limiting exchanges in the medium (glucose and O2), and it is possible that both need to be changed to increase the productivity."
   ]
  },
  {
   "cell_type": "code",
   "execution_count": 6,
   "metadata": {},
   "outputs": [
    {
     "data": {
      "text/html": [
       "<a href='03_maximum_theoretical_yield.ipynb' target='_blank'>03_maximum_theoretical_yield.ipynb</a><br>"
      ],
      "text/plain": [
       "/Users/trine/github-classroom/27410/27410-group-assigment-group_3/03_maximum_theoretical_yield.ipynb"
      ]
     },
     "execution_count": 6,
     "metadata": {},
     "output_type": "execute_result"
    }
   ],
   "source": [
    "FileLink('03_maximum_theoretical_yield.ipynb')"
   ]
  },
  {
   "cell_type": "markdown",
   "metadata": {},
   "source": [
    "**Phenotypic phase plane analysis using cameo**"
   ]
  },
  {
   "cell_type": "markdown",
   "metadata": {},
   "source": []
  },
  {
   "cell_type": "code",
   "execution_count": 7,
   "metadata": {},
   "outputs": [
    {
     "data": {
      "text/html": [
       "<a href='04_phenotypic_phase_plane_analysis.ipynb' target='_blank'>04_phenotypic_phase_plane_analysis.ipynb</a><br>"
      ],
      "text/plain": [
       "/Users/trine/github-classroom/27410/27410-group-assigment-group_3/04_phenotypic_phase_plane_analysis.ipynb"
      ]
     },
     "execution_count": 7,
     "metadata": {},
     "output_type": "execute_result"
    }
   ],
   "source": [
    "FileLink('04_phenotypic_phase_plane_analysis.ipynb')"
   ]
  },
  {
   "cell_type": "markdown",
   "metadata": {},
   "source": [
    "#### **Cell factory engineering strategies**\n",
    "\n",
    "Cell factories can be engineered in various ways in order to make them stable and productive. \n",
    "\n",
    "Using computer-aided cell factory design, we have investigated different cell factory engineering strategies for improving the progesterone producing *S. cerevisiae* strain (iMM904_progesterone)."
   ]
  },
  {
   "cell_type": "markdown",
   "metadata": {},
   "source": [
    "**1. Knocking out ERG5 and ERG6**\n",
    "\n",
    "The heterologous pathway for production of progesterone starts from zymosterol (SEE FIG!!) which naturally is an important precursor for ergosterol (**05_knockout_analysis Figure 1**). It is a common engineering strategy to knockout ERG5 and ERG6 to improve the production of cholesterol and similar steroids that are produced from a precursor in the ergosterol pathway (Jiang, Yi-qi, and Jian-ping Lin. 2022; Xu, Shanhui, and Yanran Li. 2020). Therefore, we have investigated if knocking out ERG5 and ERG6 in our model improves the progesterone production.\n",
    "\n",
    "Surprisingly, our simulation showed that knocking out ERG5 and ERG6 had no effect on cell growth (µ = 0.119) or progesterone production (0.156 mmol/gDW * h) when biomass and progesterone were set to be the objective. We investigated this result further. \n",
    "\n",
    "It was confirmed that the knockout function worked as intended because knocking out HSD3B resulted in no progesterone flux (0.0 mmol/gDW*h) and maximum growth (µ = 0.288). HSD3B is the enzyme that catalyze the reaction where pregnenolone is converted to progesterone (SEE FIG).\n",
    "\n",
    "Knocking out ERG5 and ERG6 was found to change the flux of 61 reactions when the objective was set to biomass (default) confirming that it influences the cell to knockout ERG5 and ERG6. The flux was significantly changed in 9 of the 61 reactions, and these reactions are mainly a part of the glycolysis.\n",
    "\n",
    "Finally, by going through the ergosterol pathway in our model (**05_knockout_analysis Table 1**), we found that ergosta-5,7,22,24,28-tetraen-3b-ol is also produced directly from zymosterol by the enzyme EBP. This could be the reason that it had no effect to knockout ERG5 and ERG6 because zymosterol is still used to produce ergosterol. Knocking out EBP on top of ERG5 and ERG6 resulted in no ergosterol production (0.0 mmol/gDW * h), the highest possible progesterone production (0.167 mmol/gDW*h), but also no growth (µ=0.0). A reason that the strain cannot grow without the production of ergosterol is the fact that ergosterol is an essential compound in the cellular membrane of S. cerevisiae (Jordá, Tania, and Sergi Puig 2020).\n",
    "\n",
    "In conclusion, the strain needs to be able to produce ergosterol for growth meaning that it is not appropiate to knockout EBP, ERG5, and ERG6. We could not simulate a difference in progesterone production (0.156 mmol/gDW * h) when knocking out ERG5 and ERG6 compared to the complete model, but based on literature (Jiang, Yi-qi, and Jian-ping Lin. 2022; Xu, Shanhui, and Yanran Li. 2020), we hypothesize that it will improve the progesterone production. A reason why we cannot simulate an effect is due to the fact that growth and progesterone production is already optimized as much as possible because they are set to be the objective. This reflects reality where it is of interest to get the highest possible production of progesterone and the most optimal growth. It does not make sense to set either of them to be the objective because this would result in only growth and no progesterone production or only progesterone production and no growth. "
   ]
  },
  {
   "cell_type": "code",
   "execution_count": 2,
   "metadata": {},
   "outputs": [
    {
     "data": {
      "text/html": [
       "<a href='05_gene_target_analysis.ipynb' target='_blank'>05_gene_target_analysis.ipynb</a><br>"
      ],
      "text/plain": [
       "/home/carolinetp/github-classroom/27410/27410-group-assigment-group_3/05_gene_target_analysis.ipynb"
      ]
     },
     "execution_count": 2,
     "metadata": {},
     "output_type": "execute_result"
    }
   ],
   "source": [
    "FileLink('05_gene_target_analysis.ipynb')"
   ]
  },
  {
   "cell_type": "markdown",
   "metadata": {},
   "source": [
    "**2. Gene knockouts using OptGene**\n",
    "\n",
    "Optgene is an evolutionary programming based tool to find knockout targets (Patil, Kiran Raosaheb, et al. 2005). Unfortuantely, we did not identified any knockout targets using OptGene."
   ]
  },
  {
   "cell_type": "code",
   "execution_count": 3,
   "metadata": {},
   "outputs": [
    {
     "data": {
      "text/html": [
       "<a href='05_gene_target_analysis.ipynb' target='_blank'>05_gene_target_analysis.ipynb</a><br>"
      ],
      "text/plain": [
       "/home/carolinetp/github-classroom/27410/27410-group-assigment-group_3/05_gene_target_analysis.ipynb"
      ]
     },
     "execution_count": 3,
     "metadata": {},
     "output_type": "execute_result"
    }
   ],
   "source": [
    "FileLink('05_gene_target_analysis.ipynb')"
   ]
  },
  {
   "cell_type": "markdown",
   "metadata": {},
   "source": [
    "**3. Up- and downregulation targets using FSEOF**\n",
    "\n",
    "Flux scanning based on enforced objective flux (FSEOF) analysis is a tool for identification of gene amplification targets (Choi, Hyung Seok, et al. 2010). The flux is increased for a compound of interest (enforced objective) at the same time of maximizing biomass formation flux. The output is reactions of which the flux changes when increasing the flux towards the compound of interest making these reactions good targets for up- or downregulation. \n",
    "\n",
    "We performed the analysis on our model (iMM904_progesterone) setting the enforced objective to be progesterone. The flux of 110 reactions changed as a result of an increasing flux towards progesterone. Reactions which are a part of the heterologous pathway were removed because they are not relevant targets. It is obvious that their increase in flux follows the same as the enforced increased progesterone flux. Also, reactions which flux was close to 0 were not of interest.\n",
    "\n",
    "Figure X shows the 20 reactions (including DM_progesterone_c reference) with the highest relative flux change when increasing the progesterone flux. These reactions are promising targets for up- or downregulation. The most up-regulated reactions are G3PD1ir, GLYCDy, G3PT, and DHAK. Their flux increases with 4.58 mmol/gDW*h. These reactions form a cycle where NAD(+) and NADPH are formed. By increasing the flux through this cycle, the concentration of NAD(+) and NADPH are increased in the cell. Since these co-factors are used to produce progesterone (see FIG!!), it makes sense that when these co-factors are increased then the flux through progesterone is increased as well.\n",
    "\n",
    "![figures/05_flux_of_upregulated_genes.png](figures/05_flux_of_upregulated_genes.png)\n",
    "**Figure X** The 20 reactions (including DM_progesterone_c reference) with the highest relative flux change when increasing progesterone flux. The x-axis shows an increasing progesterone flux over 10 steps. The progesterone flux is increased with 0.015 mmol/gDW*h per step. In total, the progesterone flux is increased 0.135 mmol/gDW * h.\n",
    "\n",
    "We investigated the influence of this reaction cycle (G3PD1ir, GLYCDy, G3PT, and DHAK) on the production of progesterone (**Figure X**). Having the optimized reaction cycle in the model resulted in an 3.91% increase in maximum progesterone productivity when µ=0.1187.\n",
    "\n",
    "![figures/05_phase_plane.png](figures/05_phase_plane.png)"
   ]
  },
  {
   "cell_type": "code",
   "execution_count": 4,
   "metadata": {},
   "outputs": [
    {
     "data": {
      "text/html": [
       "<a href='05_gene_target_analysis.ipynb' target='_blank'>05_gene_target_analysis.ipynb</a><br>"
      ],
      "text/plain": [
       "/home/carolinetp/github-classroom/27410/27410-group-assigment-group_3/05_gene_target_analysis.ipynb"
      ]
     },
     "execution_count": 4,
     "metadata": {},
     "output_type": "execute_result"
    }
   ],
   "source": [
    "FileLink('05_gene_target_analysis.ipynb')"
   ]
  },
  {
   "cell_type": "markdown",
   "metadata": {},
   "source": [
    "**4. Co-factor swap targets**"
   ]
  },
  {
   "cell_type": "markdown",
   "metadata": {},
   "source": []
  },
  {
   "cell_type": "code",
   "execution_count": 10,
   "metadata": {},
   "outputs": [
    {
     "data": {
      "text/html": [
       "<a href='06_co-factor_swap.ipynb' target='_blank'>06_co-factor_swap.ipynb</a><br>"
      ],
      "text/plain": [
       "/Users/trine/github-classroom/27410/27410-group-assigment-group_3/06_co-factor_swap.ipynb"
      ]
     },
     "execution_count": 10,
     "metadata": {},
     "output_type": "execute_result"
    }
   ],
   "source": [
    "FileLink('06_co-factor_swap.ipynb')"
   ]
  },
  {
   "cell_type": "markdown",
   "metadata": {},
   "source": [
    "#### **Promising cell factory designs**"
   ]
  },
  {
   "cell_type": "markdown",
   "metadata": {},
   "source": []
  },
  {
   "cell_type": "code",
   "execution_count": null,
   "metadata": {},
   "outputs": [],
   "source": [
    "Image('figures/New_model.png') # see image of pathway fluxes"
   ]
  },
  {
   "cell_type": "markdown",
   "metadata": {},
   "source": [
    "The computed fluxes can be seen on the central carbon metabolism map, and shows that changing the model affects the central metabolism in several different ways: Pathways with a high flux are shown in red ([10;max]), whereas pahtways with little flux is shown in blue ([0;10]). Pathways with zero flux ([=0]) or no data are shown in grey. The stronger the color, the higher the flux, i.e. bright red are the pathways with the strongest flux, and bright blue are the pathways with fluxes just under 10.0."
   ]
  },
  {
   "cell_type": "code",
   "execution_count": 11,
   "metadata": {},
   "outputs": [
    {
     "data": {
      "text/html": [
       "<a href='08_strain_assessment.ipynb' target='_blank'>08_strain_assessment.ipynb</a><br>"
      ],
      "text/plain": [
       "/Users/trine/github-classroom/27410/27410-group-assigment-group_3/08_strain_assessment.ipynb"
      ]
     },
     "execution_count": 11,
     "metadata": {},
     "output_type": "execute_result"
    }
   ],
   "source": [
    "FileLink('08_strain_assessment.ipynb')"
   ]
  },
  {
   "cell_type": "markdown",
   "metadata": {},
   "source": [
    "## 5. Discussion (<500 words)"
   ]
  },
  {
   "cell_type": "markdown",
   "metadata": {},
   "source": [
    "- could have used OptKnock"
   ]
  },
  {
   "cell_type": "markdown",
   "metadata": {},
   "source": [
    "## 6. Conclusion (<200 words)\n",
    "\n",
    "Our work indicates that it is possible to produce the heterologous steroid progesterone using S. cerevisiae as host and that the production can be optimized computationally, to find the best strategies for maximizing the yield obtained. Such a production would be more sustainable than the current production and, thus, contribute to several of the UN sustainable development goals (SDG); These goals describe the steps necessary to ensure a sustainable future for all.  Our work is related to SDGs 3 (by promoting health), 9 (by being innovative), and 12 (by ensuring responsible production), and if successful, will provide a better alternative for steroid production and contribute to a sustainable tomorrow."
   ]
  },
  {
   "cell_type": "markdown",
   "metadata": {},
   "source": [
    "![figures/SDGs.png](figures/SDGs.png)\n",
    "**Figure ???? (add last).** Our project contributes to SDG3 - Good health and well-being (by promoting good health), SDG9 - Industry, innovation and infrastructure (by being innovative), and SDG12 - Responsible consumption and production (by ensuring sustainable production)."
   ]
  },
  {
   "cell_type": "markdown",
   "metadata": {},
   "source": [
    "## References"
   ]
  },
  {
   "cell_type": "markdown",
   "metadata": {},
   "source": [
    "[1] Tong, Wang-Yu, and Xiang Dong. \"Microbial biotransformation: recent developments on steroid drugs.\" Recent patents on biotechnology 3.2 (2009): 141-153.\n",
    "\n",
    "[2] Batth, Rituraj, et al. \"Biosynthesis and industrial production of androsteroids.\" Plants 9.9 (2020): 1144.\n",
    "\n",
    "[3] Howie, Peter W. \"The progestogen-only pill.\" British journal of obstetrics and gynaecology 92.10 (1985): 1001-1002.\n",
    "\n",
    "[4] Nath, Anita, and Regine Sitruk-Ware. \"Progesterone vaginal ring for contraceptive use during lactation.\" Contraception 82.5 (2010): 428-434.\n",
    "\n",
    "[5] Buhaescu, Irina, and Hassane Izzedine. \"Mevalonate pathway: a review of clinical and therapeutical implications.\" Clinical biochemistry 40.9-10 (2007): 575-584.\n",
    "\n",
    "[6] Bachmann, W. E., Wayne Cole, and A. L. Wilds. \"The total synthesis of the sex hormone equilenin and its stereoisomers.\" Journal of the American Chemical Society 62.4 (1940): 824-839.\n",
    "\n",
    "[7] Slater, Leo B. \"Industry and academy: The synthesis of steroids.\" Historical studies in the physical and biological sciences 30.2 (2000): 443-480.\n",
    "\n",
    "[8] Jesus, Mafalda, et al. \"Diosgenin: recent highlights on pharmacology and analytical methodology.\" Journal of analytical methods in chemistry 2016 (2016).\n",
    "\n",
    "[9] Al Jasem, Yosef, et al. \"Preparation of steroidal hormones with an emphasis on transformations of phytosterols and cholesterol-a review.\" Mediterranean Journal of Chemistry 3.2 (2014): 796-830.\n",
    "\n",
    "[10] Dong, Jingzhou, et al. \"Direct biotransformation of dioscin into diosgenin in rhizome of Dioscorea zingiberensis by Penicillium dioscin.\" Indian journal of microbiology 55.2 (2015): 200-206.\n",
    "\n",
    "[11] Woodward, R. B., et al. \"The total synthesis of steroids1.\" Journal of the American Chemical Society 74.17 (1952): 4223-4251.\n",
    "\n",
    "[12] Bartlett, Paul D., Frank Henry Westheimer, and G. Büchi. \"Robert Burns Woodward, Nobel Prize in Chemistry for 1965.\" Science 150.3696 (1965): 585-587.\n",
    "\n",
    "[13] Parapouli, Maria, et al. \"Saccharomyces cerevisiae and its industrial applications.\" AIMS microbiology 6.1 (2020): 1.\n",
    "\n",
    "[14] Paramasivan, Kalaivani, and Sarma Mutturi. \"Recent advances in the microbial production of squalene.\" World Journal of Microbiology and Biotechnology 38.5 (2022): 1-21.\n",
    "\n",
    "[15] Zhu, Zhan-Tao, et al. \"Metabolic compartmentalization in yeast mitochondria: Burden and solution for squalene overproduction.\" Metabolic engineering 68 (2021): 232-245.\n",
    "\n",
    "Choi, Hyung Seok, et al. \"In silico identification of gene amplification targets for improvement of lycopene production.\" Applied and environmental microbiology 76.10 (2010): 3097-3105.\n",
    "\n",
    "Jiang, Yi-qi, and Jian-ping Lin. \"Recent progress in strategies for steroid production in yeasts.\" World Journal of Microbiology and Biotechnology 38.6 (2022): 1-14.\n",
    "\n",
    "Xu, Shanhui, and Yanran Li. \"Yeast as a promising heterologous host for steroid bioproduction.\" Journal of Industrial Microbiology & Biotechnology: Official Journal of the Society for Industrial Microbiology and Biotechnology 47.9-10 (2020): 829-843.\n",
    "\n",
    "Jordá, Tania, and Sergi Puig. \"Regulation of ergosterol biosynthesis in Saccharomyces cerevisiae.\" Genes 11.7 (2020): 795.\n",
    "\n",
    "Patil, Kiran Raosaheb, et al. \"Evolutionary programming as a platform for in silico metabolic engineering.\" BMC bioinformatics 6.1 (2005): 1-12.\n",
    "\n",
    "[25] Duarte NC, Herrgård MJ, Palsson BØ. Reconstruction and validation of Saccharomyces cerevisiae iND750, a fully compartmentalized genome-scale metabolic model. Genome Res. 2004 Jul;14(7):1298-309. doi: 10.1101/gr.2250904. Epub 2004 Jun 14. PMID: 15197165; PMCID: PMC442145. "
   ]
  }
 ],
 "metadata": {
  "kernelspec": {
   "display_name": "Python 3.9.7 ('thedream')",
   "language": "python",
   "name": "python3"
  },
  "language_info": {
   "codemirror_mode": {
    "name": "ipython",
    "version": 3
   },
   "file_extension": ".py",
   "mimetype": "text/x-python",
   "name": "python",
   "nbconvert_exporter": "python",
   "pygments_lexer": "ipython3",
   "version": "3.9.7"
  },
  "vscode": {
   "interpreter": {
    "hash": "a96b71695c3a24f59fc54de2491e8242c06dac6267a835f95230714e92db40c4"
   }
  }
 },
 "nbformat": 4,
 "nbformat_minor": 4
}
