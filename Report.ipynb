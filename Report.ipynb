{
 "cells": [
  {
   "cell_type": "markdown",
   "metadata": {},
   "source": [
    "Still only very much draft. Fix references.\n",
    "\n",
    "Trine Bertram note: Maybe mentioned in the intro, that microbes were first used to bioconversion before cell factories.\n",
    "And that cell factories for steroid production are still a developing field. And then: To the best of our knowledge/surprise, no progesterone producting strains has been developed."
   ]
  },
  {
   "cell_type": "markdown",
   "metadata": {},
   "source": [
    "# Progesterone production in *Saccharomyces cerevisiae* "
   ]
  },
  {
   "cell_type": "code",
   "execution_count": 2,
   "metadata": {},
   "outputs": [],
   "source": [
    "from IPython.display import FileLink, FileLinks, Image # load packages for inserting files and images in the report"
   ]
  },
  {
   "cell_type": "markdown",
   "metadata": {},
   "source": [
    "## 1. Introduction"
   ]
  },
  {
   "cell_type": "markdown",
   "metadata": {},
   "source": [
    "### 1.1 Literature review of the compound (<500 words) (almost done, needs revision)\n",
    "\n",
    "Steroids are ring-structured lipophilic compounds serving various functions in cells. They are of huge pharmaceutical interest, as they are used to treat various diseases and manage both male and female fertility [1]. Progesterone (**Figure 1**), a female sex hormone, is among the most valuable steroid drugs [2]. It is mainly used as a contraceptive, which has been on the market for decades [3,4].\n",
    "\n",
    "The market size for progesterone alone is currently estimated to be USD $800 million but is expected to reach a staggering USD $1569 million by 2027; in other words, the market size will nearly double within the next five years, due to the increasing progesterone demand (Market Data Forecast, 2022). "
   ]
  },
  {
   "cell_type": "markdown",
   "metadata": {},
   "source": [
    "![figures/progesterone.png](figures/progesterone.png)\n",
    "**Figure 1.** The structure of progesterone (C21H30O2); a steroidal female sex hormone."
   ]
  },
  {
   "cell_type": "markdown",
   "metadata": {},
   "source": [
    "The chemical synthesis of steroids was a highly competitive research field during the middle of the 20th century [7]. In 1940, Bachmann and Wilds produced the sex hormone equilenin as the first complex molecule to be chemically synthesized [6]. In the following decades, many other steroids, including progesterone, were fully chemically synthesized with RB Woodward revolutionizing the field in 1952 [11,9]. He later won the Nobel prize for this work [12]. \n",
    "\n",
    "Despite the great efforts in the chemical synthesis of steroids, the structural complexity of steroids complicates their synthesis which often requires harsh conditions and contributes to heavy environmental pollution [1]. Therefore, most steroid drugs are produced semi-synthetically, using a naturally abundant complex precursor as a starting point. Diosgenin, a steroidal sapogenin, is commonly used as a precursor and can be extracted from plants of the *Dioscorea* genus [8,9,10]. For example, progesterone can be produced from diosgenin via the so-called Marker synthesis [9]. However, the protection and limited availability of these plants have caused increasing market prices of diosgenin. Collectively, the obstacles in the synthesis of steroids pushed researchers to look towards alternative production methods, namely through natural biosynthesis using microbial cell factories [1]! Mild reaction conditions, lower chemical pollution, and higher conversion rates are among the advantages of using microbial cell factories in steroid production as compared to chemical synthesis. To our knowledge (and surprise), no cell factory has been reported to produce progesterone.\n"
   ]
  },
  {
   "cell_type": "markdown",
   "metadata": {},
   "source": []
  },
  {
   "cell_type": "markdown",
   "metadata": {},
   "source": [
    "## 2. Problem definition (<300 words)\n",
    "\n",
    "-\tCan progesterone be produced in S. cerevisiae?\n",
    "-\tCan we improve the yield/flux/titre?\n",
    "-   something?"
   ]
  },
  {
   "cell_type": "markdown",
   "metadata": {},
   "source": [
    "## 3. Selection and assessment of existing GSM (<500 words)"
   ]
  },
  {
   "cell_type": "markdown",
   "metadata": {},
   "source": [
    "## 4. Computer-Aided Cell Factory Engineering (<1500 words)"
   ]
  },
  {
   "cell_type": "markdown",
   "metadata": {},
   "source": [
    "## 5. Discussion (<500 words)"
   ]
  },
  {
   "cell_type": "markdown",
   "metadata": {},
   "source": [
    "## 6. Conclusion (<200 words)"
   ]
  },
  {
   "cell_type": "markdown",
   "metadata": {},
   "source": [
    "## References"
   ]
  },
  {
   "cell_type": "markdown",
   "metadata": {},
   "source": [
    "[1] Tong, Wang-Yu, and Xiang Dong. \"Microbial biotransformation: recent developments on steroid drugs.\" Recent patents on biotechnology 3.2 (2009): 141-153.\n",
    "\n",
    "[2] Batth, Rituraj, et al. \"Biosynthesis and industrial production of androsteroids.\" Plants 9.9 (2020): 1144.\n",
    "\n",
    "[3] Howie, Peter W. \"The progestogen-only pill.\" British journal of obstetrics and gynaecology 92.10 (1985): 1001-1002.\n",
    "\n",
    "[4] Nath, Anita, and Regine Sitruk-Ware. \"Progesterone vaginal ring for contraceptive use during lactation.\" Contraception 82.5 (2010): 428-434.\n",
    "\n",
    "[5] Buhaescu, Irina, and Hassane Izzedine. \"Mevalonate pathway: a review of clinical and therapeutical implications.\" Clinical biochemistry 40.9-10 (2007): 575-584.\n",
    "\n",
    "[6] Bachmann, W. E., Wayne Cole, and A. L. Wilds. \"The total synthesis of the sex hormone equilenin and its stereoisomers.\" Journal of the American Chemical Society 62.4 (1940): 824-839.\n",
    "\n",
    "[7] Slater, Leo B. \"Industry and academy: The synthesis of steroids.\" Historical studies in the physical and biological sciences 30.2 (2000): 443-480.\n",
    "\n",
    "[8] Jesus, Mafalda, et al. \"Diosgenin: recent highlights on pharmacology and analytical methodology.\" Journal of analytical methods in chemistry 2016 (2016).\n",
    "\n",
    "[9] Al Jasem, Yosef, et al. \"Preparation of steroidal hormones with an emphasis on transformations of phytosterols and cholesterol-a review.\" Mediterranean Journal of Chemistry 3.2 (2014): 796-830.\n",
    "\n",
    "[10] Dong, Jingzhou, et al. \"Direct biotransformation of dioscin into diosgenin in rhizome of Dioscorea zingiberensis by Penicillium dioscin.\" Indian journal of microbiology 55.2 (2015): 200-206.\n",
    "\n",
    "[11] Woodward, R. B., et al. \"The total synthesis of steroids1.\" Journal of the American Chemical Society 74.17 (1952): 4223-4251.\n",
    "\n",
    "[12] Bartlett, Paul D., Frank Henry Westheimer, and G. Büchi. \"Robert Burns Woodward, Nobel Prize in Chemistry for 1965.\" Science 150.3696 (1965): 585-587.\n",
    "\n",
    "[13] Parapouli, Maria, et al. \"Saccharomyces cerevisiae and its industrial applications.\" AIMS microbiology 6.1 (2020): 1.\n",
    "\n",
    "[14] Paramasivan, Kalaivani, and Sarma Mutturi. \"Recent advances in the microbial production of squalene.\" World Journal of Microbiology and Biotechnology 38.5 (2022): 1-21.\n",
    "\n",
    "[15] Zhu, Zhan-Tao, et al. \"Metabolic compartmentalization in yeast mitochondria: Burden and solution for squalene overproduction.\" Metabolic engineering 68 (2021): 232-245.\n"
   ]
  }
 ],
 "metadata": {
  "kernelspec": {
   "display_name": "Python 3.7.15 ('dfba')",
   "language": "python",
   "name": "python3"
  },
  "language_info": {
   "codemirror_mode": {
    "name": "ipython",
    "version": 3
   },
   "file_extension": ".py",
   "mimetype": "text/x-python",
   "name": "python",
   "nbconvert_exporter": "python",
   "pygments_lexer": "ipython3",
   "version": "3.7.15"
  },
  "vscode": {
   "interpreter": {
    "hash": "42a0797e525a8ae3ad7e804c95ca6b98bbcaff3906d674ada8ed94b80acfad2f"
   }
  }
 },
 "nbformat": 4,
 "nbformat_minor": 4
}
