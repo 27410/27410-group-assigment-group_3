{
 "cells": [
  {
   "cell_type": "markdown",
   "metadata": {},
   "source": [
    "Still only very much draft. Fix references."
   ]
  },
  {
   "cell_type": "markdown",
   "metadata": {},
   "source": [
    "# Progesterone production in *Saccharomyces cerevisiae* "
   ]
  },
  {
   "cell_type": "code",
   "execution_count": 1,
   "metadata": {},
   "outputs": [],
   "source": [
    "from IPython.display import FileLink, FileLinks, Image # load packages for inserting files and images in the report"
   ]
  },
  {
   "cell_type": "markdown",
   "metadata": {},
   "source": [
    "## 1. Introduction"
   ]
  },
  {
   "cell_type": "markdown",
   "metadata": {},
   "source": [
    "### 1.1 Literature review of the compound (<500 words)\n",
    "\n",
    "Steroids are ring-structured lipophilic compounds serving various functions in cells. For example, cholesterol in humans do this and that and hormones this and that. (mention mention mention) (REF).\n",
    "Steroids are also of huge pharmaceutical interest, as they are used to treat various diseases and manage both male and female fertility [1]. Progesterone (**Figure 1**), a female sex hormone, is among the most valuable steroid drugs [2]. It is mainly used as a contraceptive, which has been on the market for decades [3,4]\n"
   ]
  },
  {
   "cell_type": "code",
   "execution_count": 1,
   "metadata": {},
   "outputs": [
    {
     "name": "stdout",
     "output_type": "stream",
     "text": [
      "/bin/bash: -c: line 0: syntax error near unexpected token `figures/progesterone.png'\n",
      "/bin/bash: -c: line 0: `[figures/progesterone.png](figures/progesterone.png)'\n"
     ]
    }
   ],
   "source": [
    "![figures/progesterone.png](figures/progesterone.png)"
   ]
  },
  {
   "cell_type": "markdown",
   "metadata": {},
   "source": [
    "\n",
    "The market size for progesterone alone is currently estimated to be USD $800 million but is expected to reach a staggering USD $1569 million by 2027; In other words, the market size will nearly double within the next five years, due to the increasing progesterone demand (Market Data Forecast, 2022). \n",
    "\n",
    "The structural complexity of steroids complicates their chemical synthesis. Nonetheless, both full and partial chemical syntheses of steroids were a highly competitive research field during the 20th century [7]. In 1940, Bachmann and Wilds produced the sex hormone equilenin as the first complex molecule to be chemically synthesized [6]. In the following decades, the chemical synthesis of other steroids was invented with the XX revolutionizing the field. However (write that chemical synthesis is carried out at harsh conditions not very efficient other downsides). Write that is why microbial production is more cool! And that is the bridge to next section.\n",
    "\n",
    "Steroids are produced via the mevalonate pathway, where several enzymatic steps result in the cyclization of the triterpenoid precursor, squalene [5]. "
   ]
  },
  {
   "cell_type": "markdown",
   "metadata": {},
   "source": [
    "### 1.2 Literature review of the cell factory (<500 words)"
   ]
  },
  {
   "cell_type": "markdown",
   "metadata": {},
   "source": [
    "## 2. Problem definition (<300 words)"
   ]
  },
  {
   "cell_type": "markdown",
   "metadata": {},
   "source": [
    "## 3. Selection and assessment of existing GSM (<500 words)"
   ]
  },
  {
   "cell_type": "markdown",
   "metadata": {},
   "source": [
    "## 4. Computer-Aided Cell Factory Engineering (<1500 words)"
   ]
  },
  {
   "cell_type": "markdown",
   "metadata": {},
   "source": [
    "## 5. Discussion (<500 words)"
   ]
  },
  {
   "cell_type": "markdown",
   "metadata": {},
   "source": [
    "## 6. Conclusion (<200 words)"
   ]
  },
  {
   "cell_type": "markdown",
   "metadata": {},
   "source": [
    "## References"
   ]
  },
  {
   "cell_type": "code",
   "execution_count": null,
   "metadata": {},
   "outputs": [],
   "source": []
  }
 ],
 "metadata": {
  "kernelspec": {
   "display_name": "Python 3.9.13 ('base')",
   "language": "python",
   "name": "python3"
  },
  "language_info": {
   "codemirror_mode": {
    "name": "ipython",
    "version": 3
   },
   "file_extension": ".py",
   "mimetype": "text/x-python",
   "name": "python",
   "nbconvert_exporter": "python",
   "pygments_lexer": "ipython3",
   "version": "3.9.13"
  },
  "vscode": {
   "interpreter": {
    "hash": "af0991ae4618b7e40aeffd4f5030c33b1dfac82aaa22e8d2e7e54204fdff3243"
   }
  }
 },
 "nbformat": 4,
 "nbformat_minor": 4
}
