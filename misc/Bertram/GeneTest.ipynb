{
 "cells": [
  {
   "cell_type": "markdown",
   "metadata": {},
   "source": [
    "# TEST TEST TEST"
   ]
  },
  {
   "cell_type": "code",
   "execution_count": 51,
   "metadata": {},
   "outputs": [],
   "source": [
    "# Load libraries\n",
    "\n",
    "import numpy as np\n",
    "from cobra.io import read_sbml_model\n",
    "from cobra.util import create_stoichiometric_matrix\n",
    "from cobra import Reaction, Metabolite\n",
    "from cobra.core.gene import GPR"
   ]
  },
  {
   "cell_type": "code",
   "execution_count": 43,
   "metadata": {},
   "outputs": [],
   "source": [
    "\n",
    "model = read_sbml_model('../../models/iMM904.xml')\n",
    "# Create stoichiometric matrix\n",
    "#S = create_stoichiometric_matrix(model)"
   ]
  },
  {
   "cell_type": "code",
   "execution_count": 44,
   "metadata": {},
   "outputs": [
    {
     "name": "stdout",
     "output_type": "stream",
     "text": [
      "metabolites: 1226\n",
      "reactions: 1577\n",
      "genes: 905\n"
     ]
    }
   ],
   "source": [
    "print(\"metabolites:\",len(model.metabolites)) #1226\n",
    "print(\"reactions:\",len(model.reactions)) #1577\n",
    "print(\"genes:\",len(model.genes)) #905"
   ]
  },
  {
   "cell_type": "code",
   "execution_count": 45,
   "metadata": {},
   "outputs": [],
   "source": [
    "#add all new metabolites from metabolites.csv\n",
    "new_metabolites = dict()\n",
    "with open(\"metabolites.csv\",\"r\") as infile:\n",
    "    infile.readline()\n",
    "    for line in infile:\n",
    "        line = line.rstrip().split(\",\")\n",
    "        new_metabolites[line[0]] = Metabolite(\n",
    "            line[0],\n",
    "            formula=line[1],\n",
    "            name=line[2],\n",
    "            compartment=line[3])"
   ]
  },
  {
   "cell_type": "code",
   "execution_count": 55,
   "metadata": {},
   "outputs": [
    {
     "name": "stdout",
     "output_type": "stream",
     "text": [
      "['R07498', 'DHCR24', 'Delta(24)-sterol reductase', 'steroid biosynthesis', '-1000', '1000', 'zymst_c', '-1', 'nadph_c', '-1', 'h_c', '-1', 'cholesta8en3betaol_c', '1', 'nadp_c', '1', '', '', '', '', '', '']\n",
      "['R05703', 'DHCR24', 'Delta(24)-sterol reductase', 'steroid biosynthesis', '-1000', '1000', 'cholesta724dien3betaol_c', '-1', 'nadph_c', '-1', 'h_c', '-1', 'lathosterol_c', '1', 'nadp_c', '1', '', '', '', '', '', '']\n",
      "['R01456', 'DHCR7', 'Cholesterol:NAD+ delta7-oxidoreductase', 'steroid biosynthesis', '0', '1000', 'dehydrocholesterol_c', '-1', 'nadph_c', '-1', 'h_c', '-1', 'cholesterol_c', '1', 'nadp_c', '1', '', '', '', '', '', '']\n",
      "['ECYP11A1', 'CYP11A1', 'Cholesterol monooxygenase (side-chain-cleaving)', 'steroid biosynthesis', '0', '1000', 'cholesterol_c', '-1', 'o2_c', '-3', 'h_c', '-6', 'nadph_c', '-6', 'pregnenolone_c', '1', 'methylpentanal_c', '1', 'nadp_c', '6', 'h2o_c', '4']\n",
      "['R02216', '3bHSD', '3beta-hydroxy-Delta5-steroid dehydrogenase', 'steroid biosynthesis', '-1000', '1000', 'pregnenolone_c', '-1', 'nad_c', '-1', 'progesterone_c', '1', 'nadh_c', '1', 'h_c', '1', '', '', '', '', '', '']\n",
      "['R03353', 'YMR202W', 'C-8 sterol isomerase ERG2', 'Steroid biosynthesis', '0', '1000', 'lathosterol_c', '1', 'cholesta8en3betaol_c', '-1', '', '', '', '', '', '', '', '', '', '', '', '']\n",
      "['R07215', 'YLR056W', 'Delta(7)-sterol 5(6)-desaturase ERG3', 'Steroid biosynthesis', '0', '1000', 'lathosterol_c', '-1', 'nadph_c', '-1', 'o2_c', '-1', 'h_c', '-1', 'dehydrocholesterol_c', '1', 'nadp_c', '1', 'h2o_c', '2', '', '']\n",
      "['R04804', 'YMR202W', 'C-8 sterol isomerase ERG2', 'Steroid biosynthesis', '0', '1000', 'zymst_c', '-1', 'cholesta724dien3betaol_c', '1', '', '', '', '', '', '', '', '', '', '', '', '']\n"
     ]
    }
   ],
   "source": [
    "#add all new reactions from reactions.csv\n",
    "with open(\"reactions.csv\",\"r\") as infile:\n",
    "    infile.readline()\n",
    "    for line in infile:\n",
    "        line = line.rstrip().split(\",\")\n",
    "        r = Reaction(line[0])\n",
    "        r.name = line[2]\n",
    "        r.subsystem = line[3]\n",
    "        r.lower_bound = float(line[4])\n",
    "        r.upper_bound = float(line[5])\n",
    "        r.gpr = GPR.from_string(line[1])\n",
    "        for i in range(int(len(line[6:])/2)):\n",
    "            metaboliteID = line[6+i*2]\n",
    "            if metaboliteID != \"\":\n",
    "                if metaboliteID in model.metabolites:\n",
    "                    metaboliteID = model.metabolites.get_by_id(metaboliteID)\n",
    "                else:\n",
    "                    metaboliteID = new_metabolites[metaboliteID]\n",
    "                bin = float(line[7+i*2])\n",
    "                r.add_metabolites({metaboliteID:bin})\n",
    "        model.add_reactions([r])\n",
    "\n",
    "        "
   ]
  },
  {
   "cell_type": "code",
   "execution_count": 56,
   "metadata": {},
   "outputs": [
    {
     "name": "stdout",
     "output_type": "stream",
     "text": [
      "metabolites: 1234\n",
      "reactions: 1585\n",
      "genes: 909\n"
     ]
    }
   ],
   "source": [
    "print(\"metabolites:\",len(model.metabolites)) #\n",
    "print(\"reactions:\",len(model.reactions)) #\n",
    "print(\"genes:\",len(model.genes)) #"
   ]
  },
  {
   "cell_type": "code",
   "execution_count": null,
   "metadata": {},
   "outputs": [],
   "source": [
    "model.metabolites\n",
    "for metabolite in model.metabolites:\n",
    "    print(metabolite)"
   ]
  },
  {
   "cell_type": "code",
   "execution_count": 37,
   "metadata": {},
   "outputs": [
    {
     "data": {
      "text/html": [
       "\n",
       "        <table>\n",
       "            <tr>\n",
       "                <td><strong>Metabolite identifier</strong></td><td>cholesterol_c</td>\n",
       "            </tr><tr>\n",
       "                <td><strong>Name</strong></td><td>cholesterol</td>\n",
       "            </tr><tr>\n",
       "                <td><strong>Memory address</strong></td>\n",
       "                <td>0x7ff2d27309a0</td>\n",
       "            </tr><tr>\n",
       "                <td><strong>Formula</strong></td><td>C27H46O</td>\n",
       "            </tr><tr>\n",
       "                <td><strong>Compartment</strong></td><td>c</td>\n",
       "            </tr><tr>\n",
       "                <td><strong>In 1 reaction(s)</strong></td><td>\n",
       "                    R01451\n",
       "                    </td>\n",
       "            </tr>\n",
       "        </table>"
      ],
      "text/plain": [
       "<Metabolite cholesterol_c at 0x7ff2d27309a0>"
      ]
     },
     "execution_count": 37,
     "metadata": {},
     "output_type": "execute_result"
    }
   ],
   "source": [
    "model.reactions.get_by_id('R01451')\n",
    "model.metabolites.get_by_id('cholesterol_c')\n",
    "model.metabolites.get_by_id('dehydrochole')"
   ]
  }
 ],
 "metadata": {
  "kernelspec": {
   "display_name": "Python 3.9.12 ('base')",
   "language": "python",
   "name": "python3"
  },
  "language_info": {
   "codemirror_mode": {
    "name": "ipython",
    "version": 3
   },
   "file_extension": ".py",
   "mimetype": "text/x-python",
   "name": "python",
   "nbconvert_exporter": "python",
   "pygments_lexer": "ipython3",
   "version": "3.9.12"
  },
  "orig_nbformat": 4,
  "vscode": {
   "interpreter": {
    "hash": "5323ce42ff688e178a1d30604e0f1782152914084b3865fe5f1139bf2c2ca9a4"
   }
  }
 },
 "nbformat": 4,
 "nbformat_minor": 2
}
