{
 "cells": [
  {
   "cell_type": "markdown",
   "metadata": {},
   "source": [
    "# TEST TEST TEST"
   ]
  },
  {
   "cell_type": "code",
   "execution_count": 4,
   "metadata": {},
   "outputs": [],
   "source": [
    "# Load libraries\n",
    "\n",
    "import numpy as np\n",
    "from cobra.io import read_sbml_model\n",
    "from cobra.util import create_stoichiometric_matrix\n",
    "from cobra import Reaction, Metabolite"
   ]
  },
  {
   "cell_type": "code",
   "execution_count": 5,
   "metadata": {},
   "outputs": [],
   "source": [
    "\n",
    "model = read_sbml_model('../../models/iMM904.xml')\n",
    "# Create stoichiometric matrix\n",
    "#S = create_stoichiometric_matrix(model)"
   ]
  },
  {
   "cell_type": "code",
   "execution_count": 6,
   "metadata": {},
   "outputs": [
    {
     "data": {
      "text/plain": [
       "905"
      ]
     },
     "execution_count": 6,
     "metadata": {},
     "output_type": "execute_result"
    }
   ],
   "source": [
    "len(model.metabolites) #1226\n",
    "len(model.reactions) #1577\n",
    "len(model.genes) #905"
   ]
  },
  {
   "cell_type": "code",
   "execution_count": 17,
   "metadata": {},
   "outputs": [],
   "source": [
    "#add all new metabolites from metabolite.txt\n",
    "\n",
    "new_metabolites = dict()\n",
    "with open(\"metabolites.txt\",\"r\") as infile:\n",
    "    infile.readline()\n",
    "    for line in infile:\n",
    "        line = line.rstrip().split(\",\")\n",
    "        new_metabolites[line[0]] = Metabolite(\n",
    "            line[0],\n",
    "            formula=line[1],\n",
    "            name=line[2],\n",
    "            compartment=line[3])"
   ]
  },
  {
   "cell_type": "code",
   "execution_count": null,
   "metadata": {},
   "outputs": [],
   "source": [
    "model.metabolites\n",
    "for metabolite in model.metabolites:\n",
    "    print(metabolite)"
   ]
  },
  {
   "cell_type": "code",
   "execution_count": 34,
   "metadata": {},
   "outputs": [
    {
     "data": {
      "text/html": [
       "\n",
       "        <table>\n",
       "            <tr>\n",
       "                <td><strong>Reaction identifier</strong></td><td>R01451</td>\n",
       "            </tr><tr>\n",
       "                <td><strong>Name</strong></td><td>Cholesterol:NAD+ delta7-oxidoreductase</td>\n",
       "            </tr><tr>\n",
       "                <td><strong>Memory address</strong></td>\n",
       "                <td>0x7ff2d27309d0</td>\n",
       "            </tr><tr>\n",
       "                <td><strong>Stoichiometry</strong></td>\n",
       "                <td>\n",
       "                    <p style='text-align:right'>cholesterol_c + nad_c <=> 7-dehydrocholesterol_c + h_c + nadh_c</p>\n",
       "                    <p style='text-align:right'>cholesterol + Nicotinamide adenine dinucleotide <=> 7-dehydrocholesterol + H+ + Nicotinamide adenine dinucleotide - reduced</p>\n",
       "                </td>\n",
       "            </tr><tr>\n",
       "                <td><strong>GPR</strong></td><td></td>\n",
       "            </tr><tr>\n",
       "                <td><strong>Lower bound</strong></td><td>-1000.0</td>\n",
       "            </tr><tr>\n",
       "                <td><strong>Upper bound</strong></td><td>1000.0</td>\n",
       "            </tr>\n",
       "        </table>\n",
       "        "
      ],
      "text/plain": [
       "<Reaction R01451 at 0x7ff2d27309d0>"
      ]
     },
     "execution_count": 34,
     "metadata": {},
     "output_type": "execute_result"
    }
   ],
   "source": [
    "# add the gene DHCR7 reactions. \n",
    "# We choose NAD instead of NADP\n",
    "\n",
    "#Import new reaction R01451\n",
    "reaction = Reaction('R01451')\n",
    "reaction.name = 'Cholesterol:NAD+ delta7-oxidoreductase'\n",
    "reaction.subsystem = 'Steroid biosynthesis'\n",
    "reaction.lower_bound = -1000.\n",
    "reaction.upper_bound = 1000.\n",
    "\n",
    "\n",
    "#Importing reaction metabolites\n",
    "reaction.add_metabolites({\n",
    "    model.metabolites.get_by_id(\"nad_c\"):-1.0,\n",
    "    model.metabolites.get_by_id(\"nadh_c\"):1.0,\n",
    "    model.metabolites.get_by_id(\"h_c\"):1.0,\n",
    "    cholesterol_c:-1.0,\n",
    "    dehydrocholesterol_c:1.0\n",
    "})\n",
    "\n",
    "reaction\n"
   ]
  },
  {
   "cell_type": "code",
   "execution_count": 35,
   "metadata": {},
   "outputs": [
    {
     "name": "stdout",
     "output_type": "stream",
     "text": [
      "1578 reactions\n",
      "1228 metabolites\n",
      "905 genes\n"
     ]
    }
   ],
   "source": [
    "#model.reactions.get_by_id('Cholesterol:NAD+ delta7-oxidoreductase')\n",
    "\n",
    "\n",
    "model.add_reactions([reaction])\n",
    "\n",
    "# The objects have been added to the model\n",
    "print(f'{len(model.reactions)} reactions')\n",
    "print(f'{len(model.metabolites)} metabolites')\n",
    "print(f'{len(model.genes)} genes')"
   ]
  },
  {
   "cell_type": "code",
   "execution_count": 37,
   "metadata": {},
   "outputs": [
    {
     "data": {
      "text/html": [
       "\n",
       "        <table>\n",
       "            <tr>\n",
       "                <td><strong>Metabolite identifier</strong></td><td>cholesterol_c</td>\n",
       "            </tr><tr>\n",
       "                <td><strong>Name</strong></td><td>cholesterol</td>\n",
       "            </tr><tr>\n",
       "                <td><strong>Memory address</strong></td>\n",
       "                <td>0x7ff2d27309a0</td>\n",
       "            </tr><tr>\n",
       "                <td><strong>Formula</strong></td><td>C27H46O</td>\n",
       "            </tr><tr>\n",
       "                <td><strong>Compartment</strong></td><td>c</td>\n",
       "            </tr><tr>\n",
       "                <td><strong>In 1 reaction(s)</strong></td><td>\n",
       "                    R01451\n",
       "                    </td>\n",
       "            </tr>\n",
       "        </table>"
      ],
      "text/plain": [
       "<Metabolite cholesterol_c at 0x7ff2d27309a0>"
      ]
     },
     "execution_count": 37,
     "metadata": {},
     "output_type": "execute_result"
    }
   ],
   "source": [
    "model.reactions.get_by_id('R01451')\n",
    "model.metabolites.get_by_id('cholesterol_c')\n",
    "model.metabolites.get_by_id('dehydrochole')"
   ]
  }
 ],
 "metadata": {
  "kernelspec": {
   "display_name": "Python 3.9.13 ('base')",
   "language": "python",
   "name": "python3"
  },
  "language_info": {
   "codemirror_mode": {
    "name": "ipython",
    "version": 3
   },
   "file_extension": ".py",
   "mimetype": "text/x-python",
   "name": "python",
   "nbconvert_exporter": "python",
   "pygments_lexer": "ipython3",
   "version": "3.9.13"
  },
  "orig_nbformat": 4,
  "vscode": {
   "interpreter": {
    "hash": "1c61bb7f5e5b8317d1eec5b8bcaa12241e8a88d5b6ba26b6e318bf21311ddd01"
   }
  }
 },
 "nbformat": 4,
 "nbformat_minor": 2
}
