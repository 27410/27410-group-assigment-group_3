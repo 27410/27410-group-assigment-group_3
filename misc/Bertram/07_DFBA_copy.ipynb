{
 "cells": [
  {
   "cell_type": "markdown",
   "metadata": {},
   "source": [
    "Forklar at vi bliver nødt til at have objective til biomasse og bagefter 'force' fluxen for progesteron til noget bestemt. Så det er ikke 100p troværdigt fordi at progesteron ikke falder til sidst med biomassen. "
   ]
  },
  {
   "cell_type": "markdown",
   "metadata": {},
   "source": [
    "## Dynamic Flux Based Analysis\n",
    "\n",
    "Calculating a single number for the progesterone yield and flux - as we mostly do during this report - gives little information about what the final titres will be. \n",
    "To get a better idea of how the progesterone and biomass titres change over time, it can be insightful to mimick real conditions by simulating a simple batch fermentation. This is the purpose of Dynamic Flux Based Analysis (DFBA)\n",
    "\n",
    "We used cobra and dfba packages to make a DFBA and simulate a batch fermentation in defined intitial conditions."
   ]
  },
  {
   "cell_type": "code",
   "execution_count": 1,
   "metadata": {},
   "outputs": [],
   "source": [
    "# Load libraries\n",
    "from cobra.io import read_sbml_model\n",
    "from dfba.plot.matplotlib import *\n",
    "from dfba import DfbaModel, ExchangeFlux, KineticVariable"
   ]
  },
  {
   "cell_type": "code",
   "execution_count": 2,
   "metadata": {},
   "outputs": [
    {
     "name": "stdout",
     "output_type": "stream",
     "text": [
      "Loading ../../models/iMM904_progesterone.xml\n"
     ]
    }
   ],
   "source": [
    "# Loading model\n",
    "infilename = '../../models/iMM904_progesterone.xml'\n",
    "print(f\"Loading {infilename}\")\n",
    "model = read_sbml_model(infilename)"
   ]
  },
  {
   "cell_type": "code",
   "execution_count": 3,
   "metadata": {},
   "outputs": [
    {
     "data": {
      "text/html": [
       "\n",
       "        <table>\n",
       "            <tr>\n",
       "                <td><strong>Metabolite identifier</strong></td><td>sql_c</td>\n",
       "            </tr><tr>\n",
       "                <td><strong>Name</strong></td><td>Squalene C30H50</td>\n",
       "            </tr><tr>\n",
       "                <td><strong>Memory address</strong></td>\n",
       "                <td>0x07fa5ca6a0ed0</td>\n",
       "            </tr><tr>\n",
       "                <td><strong>Formula</strong></td><td>C30H50</td>\n",
       "            </tr><tr>\n",
       "                <td><strong>Compartment</strong></td><td>c</td>\n",
       "            </tr><tr>\n",
       "                <td><strong>In 2 reaction(s)</strong></td><td>\n",
       "                    SQLter, SQLS</td>\n",
       "            </tr>\n",
       "        </table>"
      ],
      "text/plain": [
       "<Metabolite sql_c at 0x7fa5ca6a0ed0>"
      ]
     },
     "execution_count": 3,
     "metadata": {},
     "output_type": "execute_result"
    }
   ],
   "source": [
    "model.metabolites.sql_c"
   ]
  },
  {
   "cell_type": "code",
   "execution_count": 4,
   "metadata": {},
   "outputs": [
    {
     "data": {
      "text/html": [
       "\n",
       "        <table>\n",
       "            <tr>\n",
       "                <td><strong>Reaction identifier</strong></td><td>SQLS</td>\n",
       "            </tr><tr>\n",
       "                <td><strong>Name</strong></td><td>Squalene synthase</td>\n",
       "            </tr><tr>\n",
       "                <td><strong>Memory address</strong></td>\n",
       "                <td>0x07fa5c15ea3d0</td>\n",
       "            </tr><tr>\n",
       "                <td><strong>Stoichiometry</strong></td>\n",
       "                <td>\n",
       "                    <p style='text-align:right'>2.0 frdp_c + h_c + nadph_c --> nadp_c + 2.0 ppi_c + sql_c</p>\n",
       "                    <p style='text-align:right'>2.0 Farnesyl diphosphate + H+ + Nicotinamide adenine dinucleotide phosphate - reduced --> Nicotinamide adenine dinucleotide phosphate + 2.0 Diphosphate + Squalene C30H50</p>\n",
       "                </td>\n",
       "            </tr><tr>\n",
       "                <td><strong>GPR</strong></td><td>YHR190W</td>\n",
       "            </tr><tr>\n",
       "                <td><strong>Lower bound</strong></td><td>0.0</td>\n",
       "            </tr><tr>\n",
       "                <td><strong>Upper bound</strong></td><td>999999.0</td>\n",
       "            </tr>\n",
       "        </table>\n",
       "        "
      ],
      "text/plain": [
       "<Reaction SQLS at 0x7fa5c15ea3d0>"
      ]
     },
     "execution_count": 4,
     "metadata": {},
     "output_type": "execute_result"
    }
   ],
   "source": [
    "model.reactions.SQLS"
   ]
  },
  {
   "cell_type": "markdown",
   "metadata": {},
   "source": [
    "To ensure that our strain can grow while producing progesterone, we find the optimal progesterone productivity and growth rate (see 03_maximum theoretical yield). To simulate the optimal model in steady state, we define a progesterone productivity from the obtained results:"
   ]
  },
  {
   "cell_type": "code",
   "execution_count": 5,
   "metadata": {},
   "outputs": [
    {
     "name": "stdout",
     "output_type": "stream",
     "text": [
      "Maximum growth rate: 0.287865703704015 gDW/h\n",
      "Maximum sqr production: 0.45769764216366254 mmol/gDW*h\n"
     ]
    }
   ],
   "source": [
    "# max growth rate and max progesterone productivity\n",
    "with model:\n",
    "    baseline_max_growth = model.optimize().objective_value\n",
    "    model.objective = model.reactions.SQLS\n",
    "    baseline_max_production = model.optimize().objective_value\n",
    "print(f\"Maximum growth rate: {baseline_max_growth} gDW/h\")\n",
    "print(f\"Maximum sqr production: {baseline_max_production} mmol/gDW*h\")"
   ]
  },
  {
   "cell_type": "code",
   "execution_count": 6,
   "metadata": {},
   "outputs": [
    {
     "name": "stdout",
     "output_type": "stream",
     "text": [
      "Growth rate in complete model: 0.21963704713440324 gDW/h\n",
      "Progesterone productivity in complete model: 0.12554955278174207 mmol/gDW*h\n",
      "oxygen uptake: -2.0\n",
      "glc uptake: -10.0\n"
     ]
    }
   ],
   "source": [
    "# growth and progesterone productivity when both are set to be objective\n",
    "with model:\n",
    "    model.objective = {model.reactions.get_by_id('BIOMASS_SC5_notrace'): baseline_max_production, \n",
    "                    model.reactions.get_by_id('SQLS'): baseline_max_growth} # objective is to lead flux through the reaction producing progesterone top maximise production\n",
    "    solution = model.optimize()\n",
    "    growth = solution.fluxes['BIOMASS_SC5_notrace']\n",
    "    progesterone = solution.fluxes['SQLS']\n",
    "    o_uptake = solution.fluxes['EX_o2_e']\n",
    "    glc_uptake = solution.fluxes['EX_glc__D_e']\n",
    "    print(f\"Growth rate in complete model: {growth} gDW/h\")\n",
    "    print(f\"Progesterone productivity in complete model: {progesterone} mmol/gDW*h\")\n",
    "    print(f\"oxygen uptake: {o_uptake}\")\n",
    "    print(f\"glc uptake: {glc_uptake}\")"
   ]
  },
  {
   "cell_type": "code",
   "execution_count": 7,
   "metadata": {},
   "outputs": [
    {
     "name": "stdout",
     "output_type": "stream",
     "text": [
      "Setting progesterone as objective and biomass production to: 0.12554955278174207 g/gDW*h\n"
     ]
    }
   ],
   "source": [
    "# Setting progesterone productivity constant\n",
    "# progesterone_gh = progesterone * 1000 / 314.46 # calculate progesterone productivity in g/gDW*h\n",
    "# print(f\"Optimal progesterone production: {progesterone_gh} g/gDW*h\")\n",
    "# progesterone_gh = baseline_max_production * 1000 / 314.46 # calculate progesterone productivity in g/gDW*h\n",
    "# print(f\"Theoretical max progesterone production: {progesterone_gh} g/gDW*h\")\n",
    "# progesterone_gh = 0.225 * 1000 / 314.46 # calculate progesterone productivity in g/gDW*h\n",
    "\n",
    "model.objective = model.reactions.BIOMASS_SC5_notrace\n",
    "model.reactions.SQLS.lower_bound = progesterone\n",
    "print(f\"Setting progesterone as objective and biomass production to: {progesterone} g/gDW*h\")\n",
    "#model.reactions.DM_progesterone_c.lower_bound = progesterone_gh"
   ]
  },
  {
   "cell_type": "code",
   "execution_count": 8,
   "metadata": {},
   "outputs": [],
   "source": [
    "model.solver = \"glpk\"\n",
    "dfba_model = DfbaModel(model)"
   ]
  },
  {
   "cell_type": "code",
   "execution_count": 9,
   "metadata": {},
   "outputs": [],
   "source": [
    "# instances of KineticVariable\n",
    "X = KineticVariable(\"Biomass\")\n",
    "Gluc = KineticVariable(\"Glucose\")\n",
    "Sqr = KineticVariable(\"Squalene\")\n",
    "Oxy = KineticVariable(\"Oxygen\")\n",
    "\n",
    "# add kinetic variables to dfba_model\n",
    "dfba_model.add_kinetic_variables([X, Gluc, Sqr, Oxy])"
   ]
  },
  {
   "cell_type": "code",
   "execution_count": 10,
   "metadata": {},
   "outputs": [],
   "source": [
    "# instances of ExchangeFlux\n",
    "\n",
    "mu = ExchangeFlux(\"BIOMASS_SC5_notrace\")\n",
    "v_G = ExchangeFlux(\"EX_glc__D_e\")\n",
    "v_O = ExchangeFlux(\"EX_o2_e\")\n",
    "v_P = ExchangeFlux(\"SQLS\")\n",
    "\n",
    "# add exchange fluxes to dfba_model\n",
    "dfba_model.add_exchange_fluxes([mu, v_G, v_O, v_P])"
   ]
  },
  {
   "cell_type": "code",
   "execution_count": 11,
   "metadata": {},
   "outputs": [],
   "source": [
    "# add rhs expressions for kinetic variables in dfba_model\n",
    "#ENHEDER?\n",
    "Vgmax = 8.5\n",
    "Kg = 0.5\n",
    "Gin = 100.0\n",
    "Vomax = 8.0\n",
    "\n",
    "#This is flux terms:\n",
    "#dfba_model.add_rhs_expression(\"Volume\", D)\n",
    "dfba_model.add_rhs_expression(\"Oxygen\", 0) #keep O2 constant\n",
    "dfba_model.add_rhs_expression(\"Biomass\", mu * X )\n",
    "dfba_model.add_rhs_expression(\"Glucose\", v_G * X )#* 180.1559 / 1000 ) #+ D * (Gin - Gluc) / V\n",
    "dfba_model.add_rhs_expression(\"Squalene\", v_P * X)#* 314.46 / 1000 ) # - D * Pro / V"
   ]
  },
  {
   "cell_type": "code",
   "execution_count": 12,
   "metadata": {},
   "outputs": [],
   "source": [
    "# add lower/upper bound expressions for exchange fluxes in dfba_model together\n",
    "# with expression that must be non-negative for correct evaluation of bounds\n",
    "dfba_model.add_exchange_flux_lb(\"EX_glc__D_e\", Vgmax * (Gluc / (Kg + Gluc)), Gluc)\n",
    "\n",
    "#Oxy = 2\n",
    "vmax_o2 = 15 # [mmol gDW^-1 h^-1]\n",
    "Ko = 0.024 # mmol/L O2 Michaelis-Mentent constant\n",
    "dfba_model.add_exchange_flux_lb(\"EX_o2_e\", vmax_o2 * (Oxy / (Ko + Oxy)), Oxy)\n",
    "dfba_model.add_exchange_flux_lb(\"EX_glc__D_e\", Vgmax * (Gluc / (Kg + Gluc)), Gluc)"
   ]
  },
  {
   "cell_type": "code",
   "execution_count": 13,
   "metadata": {},
   "outputs": [],
   "source": [
    "# add initial conditions for kinetic variables in dfba_model biomass (gDW/L),\n",
    "# metabolites (mmol/L)\n",
    "\n",
    "dfba_model.add_initial_conditions(\n",
    "    {\n",
    "        \"Biomass\": 0.05,\n",
    "        \"Glucose\": 10.0,\n",
    "        \"Squalene\": 0, \n",
    "        \"Oxygen\": 2\n",
    "    }\n",
    ")"
   ]
  },
  {
   "cell_type": "code",
   "execution_count": 14,
   "metadata": {},
   "outputs": [
    {
     "name": "stderr",
     "output_type": "stream",
     "text": [
      "Ignoring reaction SQLR since it does not correspondto a reaction in the model.\n",
      "cc1plus: warning: command line option '-Wstrict-prototypes' is valid for C/ObjC but not for C++\n"
     ]
    },
    {
     "name": "stdout",
     "output_type": "stream",
     "text": [
      "\n",
      "\n",
      "Final Run Statistics: \n",
      "\n",
      "Number of steps                    = 28\n",
      "Number of residual evaluations     = 100\n",
      "Number of Jacobian evaluations     = 16\n",
      "Number of nonlinear iterations     = 48\n",
      "Number of error test failures      = 5\n",
      "Number of nonlinear conv. failures = 0\n",
      "Number of root fn. evaluations     = 80\n",
      "\n",
      "\n",
      "Final Run Statistics: \n",
      "\n",
      "Number of steps                    = 2\n",
      "Number of residual evaluations     = 6\n",
      "Number of Jacobian evaluations     = 1\n",
      "Number of nonlinear iterations     = 3\n",
      "Number of error test failures      = 0\n",
      "Number of nonlinear conv. failures = 0\n",
      "Number of root fn. evaluations     = 12\n",
      "\n",
      "\n",
      "Final Run Statistics: \n",
      "\n",
      "Number of steps                    = 25\n",
      "Number of residual evaluations     = 66\n",
      "Number of Jacobian evaluations     = 9\n",
      "Number of nonlinear iterations     = 33\n",
      "Number of error test failures      = 0\n",
      "Number of nonlinear conv. failures = 0\n",
      "Number of root fn. evaluations     = 45\n",
      "\n",
      "\n",
      "Final Run Statistics: \n",
      "\n",
      "Number of steps                    = 1\n",
      "Number of residual evaluations     = 4\n",
      "Number of Jacobian evaluations     = 1\n",
      "Number of nonlinear iterations     = 2\n",
      "Number of error test failures      = 0\n",
      "Number of nonlinear conv. failures = 0\n",
      "Number of root fn. evaluations     = 12\n",
      "\n",
      "\n",
      "Final Run Statistics: \n",
      "\n",
      "Number of steps                    = 9\n",
      "Number of residual evaluations     = 24\n",
      "Number of Jacobian evaluations     = 7\n",
      "Number of nonlinear iterations     = 12\n",
      "Number of error test failures      = 0\n",
      "Number of nonlinear conv. failures = 0\n",
      "Number of root fn. evaluations     = 20\n",
      "\n",
      "\n",
      "Final Run Statistics: \n",
      "\n",
      "Number of steps                    = 7\n",
      "Number of residual evaluations     = 16\n",
      "Number of Jacobian evaluations     = 5\n",
      "Number of nonlinear iterations     = 8\n",
      "Number of error test failures      = 0\n",
      "Number of nonlinear conv. failures = 0\n",
      "Number of root fn. evaluations     = 16\n",
      "\n",
      "\n",
      "Final Run Statistics: \n",
      "\n",
      "Number of steps                    = 7\n",
      "Number of residual evaluations     = 16\n",
      "Number of Jacobian evaluations     = 5\n",
      "Number of nonlinear iterations     = 8\n",
      "Number of error test failures      = 0\n",
      "Number of nonlinear conv. failures = 0\n",
      "Number of root fn. evaluations     = 17\n",
      "\n",
      "\n",
      "Final Run Statistics: \n",
      "\n",
      "Number of steps                    = 2\n",
      "Number of residual evaluations     = 6\n",
      "Number of Jacobian evaluations     = 1\n",
      "Number of nonlinear iterations     = 3\n",
      "Number of error test failures      = 0\n",
      "Number of nonlinear conv. failures = 0\n",
      "Number of root fn. evaluations     = 13\n",
      "\n",
      "\n",
      "Final Run Statistics: \n",
      "\n",
      "Number of steps                    = 6\n",
      "Number of residual evaluations     = 20\n",
      "Number of Jacobian evaluations     = 6\n",
      "Number of nonlinear iterations     = 10\n",
      "Number of error test failures      = 1\n",
      "Number of nonlinear conv. failures = 0\n",
      "Number of root fn. evaluations     = 18\n",
      "\n",
      "\n",
      "Final Run Statistics: \n",
      "\n",
      "Number of steps                    = 1\n",
      "Number of residual evaluations     = 8\n",
      "Number of Jacobian evaluations     = 2\n",
      "Number of nonlinear iterations     = 4\n",
      "Number of error test failures      = 1\n",
      "Number of nonlinear conv. failures = 0\n",
      "Number of root fn. evaluations     = 9\n",
      "\n",
      "\n",
      "Final Run Statistics: \n",
      "\n",
      "Number of steps                    = 4\n",
      "Number of residual evaluations     = 10\n",
      "Number of Jacobian evaluations     = 2\n",
      "Number of nonlinear iterations     = 5\n",
      "Number of error test failures      = 0\n",
      "Number of nonlinear conv. failures = 0\n",
      "Number of root fn. evaluations     = 11\n",
      "\n",
      "\n",
      "Final Run Statistics: \n",
      "\n",
      "Number of steps                    = 6\n",
      "Number of residual evaluations     = 20\n",
      "Number of Jacobian evaluations     = 5\n",
      "Number of nonlinear iterations     = 10\n",
      "Number of error test failures      = 1\n",
      "Number of nonlinear conv. failures = 0\n",
      "Number of root fn. evaluations     = 17\n",
      "\n",
      "\n",
      "Final Run Statistics: \n",
      "\n",
      "Number of steps                    = 1\n",
      "Number of residual evaluations     = 8\n",
      "Number of Jacobian evaluations     = 2\n",
      "Number of nonlinear iterations     = 4\n",
      "Number of error test failures      = 1\n",
      "Number of nonlinear conv. failures = 0\n",
      "Number of root fn. evaluations     = 12\n",
      "\n",
      "\n",
      "Final Run Statistics: \n",
      "\n",
      "Number of steps                    = 4\n",
      "Number of residual evaluations     = 14\n",
      "Number of Jacobian evaluations     = 3\n",
      "Number of nonlinear iterations     = 7\n",
      "Number of error test failures      = 1\n",
      "Number of nonlinear conv. failures = 0\n",
      "Number of root fn. evaluations     = 15\n",
      "\n",
      "\n",
      "Final Run Statistics: \n",
      "\n",
      "Number of steps                    = 1\n",
      "Number of residual evaluations     = 4\n",
      "Number of Jacobian evaluations     = 1\n",
      "Number of nonlinear iterations     = 2\n",
      "Number of error test failures      = 0\n",
      "Number of nonlinear conv. failures = 0\n",
      "Number of root fn. evaluations     = 12\n",
      "\n",
      "\n",
      "Final Run Statistics: \n",
      "\n",
      "Number of steps                    = 13\n",
      "Number of residual evaluations     = 34\n",
      "Number of Jacobian evaluations     = 7\n",
      "Number of nonlinear iterations     = 17\n",
      "Number of error test failures      = 0\n",
      "Number of nonlinear conv. failures = 0\n",
      "Number of root fn. evaluations     = 26\n",
      "\n",
      "\n",
      "Final Run Statistics: \n",
      "\n",
      "Number of steps                    = 5\n",
      "Number of residual evaluations     = 12\n",
      "Number of Jacobian evaluations     = 3\n",
      "Number of nonlinear iterations     = 6\n",
      "Number of error test failures      = 0\n",
      "Number of nonlinear conv. failures = 0\n",
      "Number of root fn. evaluations     = 12\n",
      "\n",
      "\n",
      "Final Run Statistics: \n",
      "\n",
      "Number of steps                    = 6\n",
      "Number of residual evaluations     = 14\n",
      "Number of Jacobian evaluations     = 4\n",
      "Number of nonlinear iterations     = 7\n",
      "Number of error test failures      = 0\n",
      "Number of nonlinear conv. failures = 0\n",
      "Number of root fn. evaluations     = 14\n",
      "\n",
      "\n",
      "Final Run Statistics: \n",
      "\n",
      "Number of steps                    = 10\n",
      "Number of residual evaluations     = 22\n",
      "Number of Jacobian evaluations     = 8\n",
      "Number of nonlinear iterations     = 11\n",
      "Number of error test failures      = 0\n",
      "Number of nonlinear conv. failures = 0\n",
      "Number of root fn. evaluations     = 21\n",
      "\n",
      "Basis not feasible with primal status 4\n",
      "\n",
      "Final Run Statistics: \n",
      "\n",
      "Number of steps                    = 10\n",
      "Number of residual evaluations     = 22\n",
      "Number of Jacobian evaluations     = 8\n",
      "Number of nonlinear iterations     = 11\n",
      "Number of error test failures      = 0\n",
      "Number of nonlinear conv. failures = 0\n",
      "Number of root fn. evaluations     = 21\n",
      "\n",
      "Total simulation time was 9.54688 seconds\n",
      "\n"
     ]
    },
    {
     "ename": "ValueError",
     "evalue": "9 columns passed, passed data had 8 columns",
     "output_type": "error",
     "traceback": [
      "\u001b[0;31m---------------------------------------------------------------------------\u001b[0m",
      "\u001b[0;31mAssertionError\u001b[0m                            Traceback (most recent call last)",
      "\u001b[0;32m~/miniconda3/envs/dfba/lib/python3.7/site-packages/pandas/core/internals/construction.py\u001b[0m in \u001b[0;36m_finalize_columns_and_data\u001b[0;34m(content, columns, dtype)\u001b[0m\n\u001b[1;32m    905\u001b[0m     \u001b[0;32mtry\u001b[0m\u001b[0;34m:\u001b[0m\u001b[0;34m\u001b[0m\u001b[0;34m\u001b[0m\u001b[0m\n\u001b[0;32m--> 906\u001b[0;31m         \u001b[0mcolumns\u001b[0m \u001b[0;34m=\u001b[0m \u001b[0m_validate_or_indexify_columns\u001b[0m\u001b[0;34m(\u001b[0m\u001b[0mcontents\u001b[0m\u001b[0;34m,\u001b[0m \u001b[0mcolumns\u001b[0m\u001b[0;34m)\u001b[0m\u001b[0;34m\u001b[0m\u001b[0;34m\u001b[0m\u001b[0m\n\u001b[0m\u001b[1;32m    907\u001b[0m     \u001b[0;32mexcept\u001b[0m \u001b[0mAssertionError\u001b[0m \u001b[0;32mas\u001b[0m \u001b[0merr\u001b[0m\u001b[0;34m:\u001b[0m\u001b[0;34m\u001b[0m\u001b[0;34m\u001b[0m\u001b[0m\n",
      "\u001b[0;32m~/miniconda3/envs/dfba/lib/python3.7/site-packages/pandas/core/internals/construction.py\u001b[0m in \u001b[0;36m_validate_or_indexify_columns\u001b[0;34m(content, columns)\u001b[0m\n\u001b[1;32m    954\u001b[0m             raise AssertionError(\n\u001b[0;32m--> 955\u001b[0;31m                 \u001b[0;34mf\"{len(columns)} columns passed, passed data had \"\u001b[0m\u001b[0;34m\u001b[0m\u001b[0;34m\u001b[0m\u001b[0m\n\u001b[0m\u001b[1;32m    956\u001b[0m                 \u001b[0;34mf\"{len(content)} columns\"\u001b[0m\u001b[0;34m\u001b[0m\u001b[0;34m\u001b[0m\u001b[0m\n",
      "\u001b[0;31mAssertionError\u001b[0m: 9 columns passed, passed data had 8 columns",
      "\nThe above exception was the direct cause of the following exception:\n",
      "\u001b[0;31mValueError\u001b[0m                                Traceback (most recent call last)",
      "\u001b[0;32m/tmp/ipykernel_6313/2345189762.py\u001b[0m in \u001b[0;36m<module>\u001b[0;34m\u001b[0m\n\u001b[1;32m      1\u001b[0m \u001b[0;31m# simulate model across interval t = [0.0,16.0](hours) with outputs for plotting\u001b[0m\u001b[0;34m\u001b[0m\u001b[0;34m\u001b[0m\u001b[0;34m\u001b[0m\u001b[0m\n\u001b[1;32m      2\u001b[0m \u001b[0;31m# every 0.1h\u001b[0m\u001b[0;34m\u001b[0m\u001b[0;34m\u001b[0m\u001b[0;34m\u001b[0m\u001b[0m\n\u001b[0;32m----> 3\u001b[0;31m \u001b[0mconcentrations\u001b[0m\u001b[0;34m,\u001b[0m \u001b[0mtrajectories\u001b[0m \u001b[0;34m=\u001b[0m \u001b[0mdfba_model\u001b[0m\u001b[0;34m.\u001b[0m\u001b[0msimulate\u001b[0m\u001b[0;34m(\u001b[0m\u001b[0;36m0.0\u001b[0m\u001b[0;34m,\u001b[0m \u001b[0;36m100\u001b[0m\u001b[0;34m,\u001b[0m \u001b[0;36m0.1\u001b[0m\u001b[0;34m,\u001b[0m \u001b[0;34m[\u001b[0m\u001b[0;34m\"BIOMASS_SC5_notrace\"\u001b[0m\u001b[0;34m,\u001b[0m \u001b[0;34m\"EX_glc__D_e\"\u001b[0m\u001b[0;34m,\u001b[0m \u001b[0;34m\"SQLR\"\u001b[0m\u001b[0;34m,\u001b[0m \u001b[0;34m\"EX_o2_e\"\u001b[0m\u001b[0;34m]\u001b[0m\u001b[0;34m)\u001b[0m\u001b[0;34m\u001b[0m\u001b[0;34m\u001b[0m\u001b[0m\n\u001b[0m",
      "\u001b[0;32m~/miniconda3/envs/dfba/lib/python3.7/site-packages/dfba/model.py\u001b[0m in \u001b[0;36msimulate\u001b[0;34m(self, tstart, tstop, tout, output_fluxes)\u001b[0m\n\u001b[1;32m    397\u001b[0m             \u001b[0mkv_ids\u001b[0m \u001b[0;34m=\u001b[0m \u001b[0;34m[\u001b[0m\u001b[0mkv\u001b[0m\u001b[0;34m.\u001b[0m\u001b[0mid\u001b[0m \u001b[0;32mfor\u001b[0m \u001b[0mkv\u001b[0m \u001b[0;32min\u001b[0m \u001b[0mself\u001b[0m\u001b[0;34m.\u001b[0m\u001b[0mkinetic_variables\u001b[0m\u001b[0;34m]\u001b[0m\u001b[0;34m\u001b[0m\u001b[0;34m\u001b[0m\u001b[0m\n\u001b[1;32m    398\u001b[0m             \u001b[0mheader\u001b[0m \u001b[0;34m=\u001b[0m \u001b[0;34m[\u001b[0m\u001b[0;34m\"time\"\u001b[0m\u001b[0;34m]\u001b[0m \u001b[0;34m+\u001b[0m \u001b[0mkv_ids\u001b[0m \u001b[0;34m+\u001b[0m \u001b[0moutput_fluxes\u001b[0m\u001b[0;34m\u001b[0m\u001b[0;34m\u001b[0m\u001b[0m\n\u001b[0;32m--> 399\u001b[0;31m             \u001b[0mdf_results\u001b[0m \u001b[0;34m=\u001b[0m \u001b[0mpd\u001b[0m\u001b[0;34m.\u001b[0m\u001b[0mDataFrame\u001b[0m\u001b[0;34m(\u001b[0m\u001b[0mresults\u001b[0m\u001b[0;34m,\u001b[0m \u001b[0mcolumns\u001b[0m\u001b[0;34m=\u001b[0m\u001b[0mheader\u001b[0m\u001b[0;34m)\u001b[0m\u001b[0;34m\u001b[0m\u001b[0;34m\u001b[0m\u001b[0m\n\u001b[0m\u001b[1;32m    400\u001b[0m \u001b[0;34m\u001b[0m\u001b[0m\n\u001b[1;32m    401\u001b[0m         return (\n",
      "\u001b[0;32m~/miniconda3/envs/dfba/lib/python3.7/site-packages/pandas/core/frame.py\u001b[0m in \u001b[0;36m__init__\u001b[0;34m(self, data, index, columns, dtype, copy)\u001b[0m\n\u001b[1;32m    698\u001b[0m                         \u001b[0mcolumns\u001b[0m\u001b[0;34m,\u001b[0m\u001b[0;34m\u001b[0m\u001b[0;34m\u001b[0m\u001b[0m\n\u001b[1;32m    699\u001b[0m                         \u001b[0mindex\u001b[0m\u001b[0;34m,\u001b[0m  \u001b[0;31m# type: ignore[arg-type]\u001b[0m\u001b[0;34m\u001b[0m\u001b[0;34m\u001b[0m\u001b[0m\n\u001b[0;32m--> 700\u001b[0;31m                         \u001b[0mdtype\u001b[0m\u001b[0;34m,\u001b[0m\u001b[0;34m\u001b[0m\u001b[0;34m\u001b[0m\u001b[0m\n\u001b[0m\u001b[1;32m    701\u001b[0m                     )\n\u001b[1;32m    702\u001b[0m                     mgr = arrays_to_mgr(\n",
      "\u001b[0;32m~/miniconda3/envs/dfba/lib/python3.7/site-packages/pandas/core/internals/construction.py\u001b[0m in \u001b[0;36mnested_data_to_arrays\u001b[0;34m(data, columns, index, dtype)\u001b[0m\n\u001b[1;32m    481\u001b[0m         \u001b[0mcolumns\u001b[0m \u001b[0;34m=\u001b[0m \u001b[0mensure_index\u001b[0m\u001b[0;34m(\u001b[0m\u001b[0mdata\u001b[0m\u001b[0;34m[\u001b[0m\u001b[0;36m0\u001b[0m\u001b[0;34m]\u001b[0m\u001b[0;34m.\u001b[0m\u001b[0m_fields\u001b[0m\u001b[0;34m)\u001b[0m\u001b[0;34m\u001b[0m\u001b[0;34m\u001b[0m\u001b[0m\n\u001b[1;32m    482\u001b[0m \u001b[0;34m\u001b[0m\u001b[0m\n\u001b[0;32m--> 483\u001b[0;31m     \u001b[0marrays\u001b[0m\u001b[0;34m,\u001b[0m \u001b[0mcolumns\u001b[0m \u001b[0;34m=\u001b[0m \u001b[0mto_arrays\u001b[0m\u001b[0;34m(\u001b[0m\u001b[0mdata\u001b[0m\u001b[0;34m,\u001b[0m \u001b[0mcolumns\u001b[0m\u001b[0;34m,\u001b[0m \u001b[0mdtype\u001b[0m\u001b[0;34m=\u001b[0m\u001b[0mdtype\u001b[0m\u001b[0;34m)\u001b[0m\u001b[0;34m\u001b[0m\u001b[0;34m\u001b[0m\u001b[0m\n\u001b[0m\u001b[1;32m    484\u001b[0m     \u001b[0mcolumns\u001b[0m \u001b[0;34m=\u001b[0m \u001b[0mensure_index\u001b[0m\u001b[0;34m(\u001b[0m\u001b[0mcolumns\u001b[0m\u001b[0;34m)\u001b[0m\u001b[0;34m\u001b[0m\u001b[0;34m\u001b[0m\u001b[0m\n\u001b[1;32m    485\u001b[0m \u001b[0;34m\u001b[0m\u001b[0m\n",
      "\u001b[0;32m~/miniconda3/envs/dfba/lib/python3.7/site-packages/pandas/core/internals/construction.py\u001b[0m in \u001b[0;36mto_arrays\u001b[0;34m(data, columns, dtype)\u001b[0m\n\u001b[1;32m    805\u001b[0m         \u001b[0marr\u001b[0m \u001b[0;34m=\u001b[0m \u001b[0m_list_to_arrays\u001b[0m\u001b[0;34m(\u001b[0m\u001b[0mdata\u001b[0m\u001b[0;34m)\u001b[0m\u001b[0;34m\u001b[0m\u001b[0;34m\u001b[0m\u001b[0m\n\u001b[1;32m    806\u001b[0m \u001b[0;34m\u001b[0m\u001b[0m\n\u001b[0;32m--> 807\u001b[0;31m     \u001b[0mcontent\u001b[0m\u001b[0;34m,\u001b[0m \u001b[0mcolumns\u001b[0m \u001b[0;34m=\u001b[0m \u001b[0m_finalize_columns_and_data\u001b[0m\u001b[0;34m(\u001b[0m\u001b[0marr\u001b[0m\u001b[0;34m,\u001b[0m \u001b[0mcolumns\u001b[0m\u001b[0;34m,\u001b[0m \u001b[0mdtype\u001b[0m\u001b[0;34m)\u001b[0m\u001b[0;34m\u001b[0m\u001b[0;34m\u001b[0m\u001b[0m\n\u001b[0m\u001b[1;32m    808\u001b[0m     \u001b[0;32mreturn\u001b[0m \u001b[0mcontent\u001b[0m\u001b[0;34m,\u001b[0m \u001b[0mcolumns\u001b[0m\u001b[0;34m\u001b[0m\u001b[0;34m\u001b[0m\u001b[0m\n\u001b[1;32m    809\u001b[0m \u001b[0;34m\u001b[0m\u001b[0m\n",
      "\u001b[0;32m~/miniconda3/envs/dfba/lib/python3.7/site-packages/pandas/core/internals/construction.py\u001b[0m in \u001b[0;36m_finalize_columns_and_data\u001b[0;34m(content, columns, dtype)\u001b[0m\n\u001b[1;32m    907\u001b[0m     \u001b[0;32mexcept\u001b[0m \u001b[0mAssertionError\u001b[0m \u001b[0;32mas\u001b[0m \u001b[0merr\u001b[0m\u001b[0;34m:\u001b[0m\u001b[0;34m\u001b[0m\u001b[0;34m\u001b[0m\u001b[0m\n\u001b[1;32m    908\u001b[0m         \u001b[0;31m# GH#26429 do not raise user-facing AssertionError\u001b[0m\u001b[0;34m\u001b[0m\u001b[0;34m\u001b[0m\u001b[0;34m\u001b[0m\u001b[0m\n\u001b[0;32m--> 909\u001b[0;31m         \u001b[0;32mraise\u001b[0m \u001b[0mValueError\u001b[0m\u001b[0;34m(\u001b[0m\u001b[0merr\u001b[0m\u001b[0;34m)\u001b[0m \u001b[0;32mfrom\u001b[0m \u001b[0merr\u001b[0m\u001b[0;34m\u001b[0m\u001b[0;34m\u001b[0m\u001b[0m\n\u001b[0m\u001b[1;32m    910\u001b[0m \u001b[0;34m\u001b[0m\u001b[0m\n\u001b[1;32m    911\u001b[0m     \u001b[0;32mif\u001b[0m \u001b[0mlen\u001b[0m\u001b[0;34m(\u001b[0m\u001b[0mcontents\u001b[0m\u001b[0;34m)\u001b[0m \u001b[0;32mand\u001b[0m \u001b[0mcontents\u001b[0m\u001b[0;34m[\u001b[0m\u001b[0;36m0\u001b[0m\u001b[0;34m]\u001b[0m\u001b[0;34m.\u001b[0m\u001b[0mdtype\u001b[0m \u001b[0;34m==\u001b[0m \u001b[0mnp\u001b[0m\u001b[0;34m.\u001b[0m\u001b[0mobject_\u001b[0m\u001b[0;34m:\u001b[0m\u001b[0;34m\u001b[0m\u001b[0;34m\u001b[0m\u001b[0m\n",
      "\u001b[0;31mValueError\u001b[0m: 9 columns passed, passed data had 8 columns"
     ]
    }
   ],
   "source": [
    "# simulate model across interval t = [0.0,16.0](hours) with outputs for plotting\n",
    "# every 0.1h\n",
    "concentrations, trajectories = dfba_model.simulate(0.0, 100, 0.1, [\"BIOMASS_SC5_notrace\", \"EX_glc__D_e\", \"SQLR\", \"EX_o2_e\"])"
   ]
  },
  {
   "cell_type": "code",
   "execution_count": null,
   "metadata": {},
   "outputs": [
    {
     "ename": "NameError",
     "evalue": "name 'concentrations' is not defined",
     "output_type": "error",
     "traceback": [
      "\u001b[0;31m---------------------------------------------------------------------------\u001b[0m",
      "\u001b[0;31mNameError\u001b[0m                                 Traceback (most recent call last)",
      "\u001b[0;32m/tmp/ipykernel_5170/4078543967.py\u001b[0m in \u001b[0;36m<module>\u001b[0;34m\u001b[0m\n\u001b[1;32m      1\u001b[0m \u001b[0;31m# plotting concentration in steady state\u001b[0m\u001b[0;34m\u001b[0m\u001b[0;34m\u001b[0m\u001b[0;34m\u001b[0m\u001b[0m\n\u001b[0;32m----> 2\u001b[0;31m \u001b[0mplot_concentrations\u001b[0m\u001b[0;34m(\u001b[0m\u001b[0mconcentrations\u001b[0m\u001b[0;34m)\u001b[0m\u001b[0;34m\u001b[0m\u001b[0;34m\u001b[0m\u001b[0m\n\u001b[0m\u001b[1;32m      3\u001b[0m \u001b[0mplt\u001b[0m\u001b[0;34m.\u001b[0m\u001b[0mtitle\u001b[0m\u001b[0;34m(\u001b[0m\u001b[0;34m\" \\n Batch fermentation simulation \\n\"\u001b[0m\u001b[0;34m,\u001b[0m \u001b[0msize\u001b[0m\u001b[0;34m=\u001b[0m\u001b[0;36m15\u001b[0m\u001b[0;34m)\u001b[0m\u001b[0;34m\u001b[0m\u001b[0;34m\u001b[0m\u001b[0m\n",
      "\u001b[0;31mNameError\u001b[0m: name 'concentrations' is not defined"
     ]
    }
   ],
   "source": [
    "# plotting concentration in steady state\n",
    "plot_concentrations(concentrations)\n",
    "plt.title(\" \\n Batch fermentation simulation \\n\", size=15)"
   ]
  },
  {
   "cell_type": "code",
   "execution_count": null,
   "metadata": {},
   "outputs": [
    {
     "data": {
      "text/html": [
       "<div>\n",
       "<style scoped>\n",
       "    .dataframe tbody tr th:only-of-type {\n",
       "        vertical-align: middle;\n",
       "    }\n",
       "\n",
       "    .dataframe tbody tr th {\n",
       "        vertical-align: top;\n",
       "    }\n",
       "\n",
       "    .dataframe thead th {\n",
       "        text-align: right;\n",
       "    }\n",
       "</style>\n",
       "<table border=\"1\" class=\"dataframe\">\n",
       "  <thead>\n",
       "    <tr style=\"text-align: right;\">\n",
       "      <th></th>\n",
       "      <th>time</th>\n",
       "      <th>Biomass</th>\n",
       "      <th>Glucose</th>\n",
       "      <th>Oxygen</th>\n",
       "      <th>Progesterone</th>\n",
       "    </tr>\n",
       "  </thead>\n",
       "  <tbody>\n",
       "    <tr>\n",
       "      <th>0</th>\n",
       "      <td>0.0</td>\n",
       "      <td>0.050000</td>\n",
       "      <td>10.000000</td>\n",
       "      <td>2.0</td>\n",
       "      <td>0.000000</td>\n",
       "    </tr>\n",
       "    <tr>\n",
       "      <th>1</th>\n",
       "      <td>0.1</td>\n",
       "      <td>0.050597</td>\n",
       "      <td>9.959286</td>\n",
       "      <td>2.0</td>\n",
       "      <td>0.003113</td>\n",
       "    </tr>\n",
       "    <tr>\n",
       "      <th>2</th>\n",
       "      <td>0.2</td>\n",
       "      <td>0.051201</td>\n",
       "      <td>9.918093</td>\n",
       "      <td>2.0</td>\n",
       "      <td>0.006263</td>\n",
       "    </tr>\n",
       "    <tr>\n",
       "      <th>3</th>\n",
       "      <td>0.3</td>\n",
       "      <td>0.051813</td>\n",
       "      <td>9.876413</td>\n",
       "      <td>2.0</td>\n",
       "      <td>0.009451</td>\n",
       "    </tr>\n",
       "    <tr>\n",
       "      <th>4</th>\n",
       "      <td>0.4</td>\n",
       "      <td>0.052432</td>\n",
       "      <td>9.834243</td>\n",
       "      <td>2.0</td>\n",
       "      <td>0.012676</td>\n",
       "    </tr>\n",
       "    <tr>\n",
       "      <th>...</th>\n",
       "      <td>...</td>\n",
       "      <td>...</td>\n",
       "      <td>...</td>\n",
       "      <td>...</td>\n",
       "      <td>...</td>\n",
       "    </tr>\n",
       "    <tr>\n",
       "      <th>121</th>\n",
       "      <td>12.1</td>\n",
       "      <td>0.210631</td>\n",
       "      <td>0.285111</td>\n",
       "      <td>2.0</td>\n",
       "      <td>0.773832</td>\n",
       "    </tr>\n",
       "    <tr>\n",
       "      <th>122</th>\n",
       "      <td>12.2</td>\n",
       "      <td>0.213146</td>\n",
       "      <td>0.224504</td>\n",
       "      <td>2.0</td>\n",
       "      <td>0.777595</td>\n",
       "    </tr>\n",
       "    <tr>\n",
       "      <th>123</th>\n",
       "      <td>12.3</td>\n",
       "      <td>0.215694</td>\n",
       "      <td>0.173459</td>\n",
       "      <td>2.0</td>\n",
       "      <td>0.780256</td>\n",
       "    </tr>\n",
       "    <tr>\n",
       "      <th>124</th>\n",
       "      <td>12.4</td>\n",
       "      <td>0.218271</td>\n",
       "      <td>0.130923</td>\n",
       "      <td>2.0</td>\n",
       "      <td>0.781935</td>\n",
       "    </tr>\n",
       "    <tr>\n",
       "      <th>125</th>\n",
       "      <td>12.5</td>\n",
       "      <td>0.220878</td>\n",
       "      <td>0.096544</td>\n",
       "      <td>2.0</td>\n",
       "      <td>0.782672</td>\n",
       "    </tr>\n",
       "  </tbody>\n",
       "</table>\n",
       "<p>126 rows × 5 columns</p>\n",
       "</div>"
      ],
      "text/plain": [
       "     time   Biomass    Glucose  Oxygen  Progesterone\n",
       "0     0.0  0.050000  10.000000     2.0      0.000000\n",
       "1     0.1  0.050597   9.959286     2.0      0.003113\n",
       "2     0.2  0.051201   9.918093     2.0      0.006263\n",
       "3     0.3  0.051813   9.876413     2.0      0.009451\n",
       "4     0.4  0.052432   9.834243     2.0      0.012676\n",
       "..    ...       ...        ...     ...           ...\n",
       "121  12.1  0.210631   0.285111     2.0      0.773832\n",
       "122  12.2  0.213146   0.224504     2.0      0.777595\n",
       "123  12.3  0.215694   0.173459     2.0      0.780256\n",
       "124  12.4  0.218271   0.130923     2.0      0.781935\n",
       "125  12.5  0.220878   0.096544     2.0      0.782672\n",
       "\n",
       "[126 rows x 5 columns]"
      ]
     },
     "execution_count": 16,
     "metadata": {},
     "output_type": "execute_result"
    }
   ],
   "source": [
    "# printing concentrations in steady state\n",
    "concentrations"
   ]
  },
  {
   "cell_type": "code",
   "execution_count": null,
   "metadata": {},
   "outputs": [
    {
     "data": {
      "text/plain": [
       "0.19182059999999998"
      ]
     },
     "execution_count": 17,
     "metadata": {},
     "output_type": "execute_result"
    }
   ],
   "source": [
    "0.61/1000 * 314.46   # mol/L * g/mol = g/L"
   ]
  },
  {
   "cell_type": "markdown",
   "metadata": {},
   "source": [
    "As seen in the figure and table above, the batch fermentaiton ran for 7.8 hours before all of the glucose was consumed. The final progesterone titre reached 0.61 mmol/L (corresponding to 0.19 g/L)\n",
    "The biomass reached 0.33 gDW."
   ]
  },
  {
   "cell_type": "code",
   "execution_count": null,
   "metadata": {},
   "outputs": [
    {
     "data": {
      "text/plain": [
       "Text(0.5, 1.0, '\\n Fluxes for batch fermentation simulation \\n')"
      ]
     },
     "execution_count": 18,
     "metadata": {},
     "output_type": "execute_result"
    },
    {
     "data": {
      "image/png": "[encoded data removed]",
      "text/plain": [
       "<Figure size 640x480 with 1 Axes>"
      ]
     },
     "metadata": {},
     "output_type": "display_data"
    }
   ],
   "source": [
    "# Plotting fluxes at steady state\n",
    "plot_trajectories(trajectories)\n",
    "plt.title(\"\\n Fluxes for batch fermentation simulation \\n\", size=15)"
   ]
  },
  {
   "cell_type": "code",
   "execution_count": null,
   "metadata": {},
   "outputs": [
    {
     "data": {
      "text/html": [
       "\n",
       "        <table>\n",
       "            <tr>\n",
       "                <td><strong>Metabolite identifier</strong></td><td>cit_c</td>\n",
       "            </tr><tr>\n",
       "                <td><strong>Name</strong></td><td>Citrate</td>\n",
       "            </tr><tr>\n",
       "                <td><strong>Memory address</strong></td>\n",
       "                <td>0x07fef8e824790</td>\n",
       "            </tr><tr>\n",
       "                <td><strong>Formula</strong></td><td>C6H5O7</td>\n",
       "            </tr><tr>\n",
       "                <td><strong>Compartment</strong></td><td>c</td>\n",
       "            </tr><tr>\n",
       "                <td><strong>In 7 reaction(s)</strong></td><td>\n",
       "                    CITtcp, CITtam, CITtap, CITtbm, ACONT, CITtcm, CITt2r</td>\n",
       "            </tr>\n",
       "        </table>"
      ],
      "text/plain": [
       "<Metabolite cit_c at 0x7fef8e824790>"
      ]
     },
     "execution_count": 22,
     "metadata": {},
     "output_type": "execute_result"
    }
   ],
   "source": [
    "model.metabolites.cit_c"
   ]
  },
  {
   "cell_type": "code",
   "execution_count": null,
   "metadata": {},
   "outputs": [
    {
     "data": {
      "text/html": [
       "\n",
       "        <table>\n",
       "            <tr>\n",
       "                <td><strong>Metabolite identifier</strong></td><td>accoa_c</td>\n",
       "            </tr><tr>\n",
       "                <td><strong>Name</strong></td><td>Acetyl-CoA</td>\n",
       "            </tr><tr>\n",
       "                <td><strong>Memory address</strong></td>\n",
       "                <td>0x07fef8e8dbad0</td>\n",
       "            </tr><tr>\n",
       "                <td><strong>Formula</strong></td><td>C23H34N7O17P3S</td>\n",
       "            </tr><tr>\n",
       "                <td><strong>Compartment</strong></td><td>c</td>\n",
       "            </tr><tr>\n",
       "                <td><strong>In 23 reaction(s)</strong></td><td>\n",
       "                    HSERTA, MALS, ACCOAtn, IPPS, OHACT2, ACOATA, HMGCOAS, OHACT3, SPMDAT1, OHACT1, ACS, ACACT1r, SERAT, OHACT4, PEPAT, FAS80COA_L, DIAT, OHACT5, FAS80_L, ACGAM6PS, ACCOAC, GLYAT, CSNATr</td>\n",
       "            </tr>\n",
       "        </table>"
      ],
      "text/plain": [
       "<Metabolite accoa_c at 0x7fef8e8dbad0>"
      ]
     },
     "execution_count": 49,
     "metadata": {},
     "output_type": "execute_result"
    }
   ],
   "source": [
    "model.metabolites.accoa_c"
   ]
  },
  {
   "cell_type": "code",
   "execution_count": null,
   "metadata": {},
   "outputs": [
    {
     "data": {
      "text/html": [
       "\n",
       "        <table>\n",
       "            <tr>\n",
       "                <td><strong>Metabolite identifier</strong></td><td>cit_c</td>\n",
       "            </tr><tr>\n",
       "                <td><strong>Name</strong></td><td>Citrate</td>\n",
       "            </tr><tr>\n",
       "                <td><strong>Memory address</strong></td>\n",
       "                <td>0x07fef8e824790</td>\n",
       "            </tr><tr>\n",
       "                <td><strong>Formula</strong></td><td>C6H5O7</td>\n",
       "            </tr><tr>\n",
       "                <td><strong>Compartment</strong></td><td>c</td>\n",
       "            </tr><tr>\n",
       "                <td><strong>In 7 reaction(s)</strong></td><td>\n",
       "                    CITtcp, CITtam, CITtap, CITtbm, ACONT, CITtcm, CITt2r</td>\n",
       "            </tr>\n",
       "        </table>"
      ],
      "text/plain": [
       "<Metabolite cit_c at 0x7fef8e824790>"
      ]
     },
     "execution_count": 61,
     "metadata": {},
     "output_type": "execute_result"
    }
   ],
   "source": [
    "model.metabolites.cit_c\n"
   ]
  },
  {
   "cell_type": "code",
   "execution_count": null,
   "metadata": {},
   "outputs": [],
   "source": [
    "model.metabolites.accoa_c"
   ]
  },
  {
   "cell_type": "code",
   "execution_count": null,
   "metadata": {},
   "outputs": [
    {
     "name": "stdout",
     "output_type": "stream",
     "text": [
      "HSERTA: accoa_c + hom__L_c <=> achms_c + coa_c | 0.006802823460445801\n",
      "MALS: accoa_c + glx_c + h2o_c --> coa_c + h_c + mal__L_c | 0.0\n",
      "ACCOAtn: accoa_c <=> accoa_n | 0.0\n",
      "IPPS: 3mob_c + accoa_c + h2o_c --> 3c3hmp_c + coa_c + h_c | -5.85436729397935e-13\n",
      "OHACT2: accoa_c + iamoh_c --> coa_c + iamac_c | 0.0\n",
      "ACOATA: ACP_c + accoa_c <=> acACP_c + coa_c | 0.0\n",
      "HMGCOAS: coa_c + h_c + hmgcoa_c <=> aacoa_c + accoa_c + h2o_c | 0.0\n",
      "OHACT3: 2mbtoh_c + accoa_c --> 2mbac_c + coa_c | 0.0\n",
      "SPMDAT1: accoa_c + spmd_c --> N1aspmd_c + coa_c + h_c | 0.0\n",
      "OHACT1: accoa_c + etoh_c --> aces_c + coa_c | 0.0\n",
      "ACS: ac_c + atp_c + coa_c --> accoa_c + amp_c + ppi_c | 0.06065554111532661\n",
      "ACACT1r: 2.0 accoa_c --> aacoa_c + coa_c | 0.0\n",
      "SERAT: accoa_c + ser__L_c --> acser_c + coa_c | 0.0\n",
      "OHACT4: accoa_c + ibutoh_c --> coa_c + ibutac_c | 0.0\n",
      "PEPAT: accoa_c + pepd_c --> apep_c + coa_c + h_c | 0.0\n",
      "FAS80COA_L: accoa_c + 9.0 h_c + 3.0 malcoa_c + 6.0 nadph_c --> 3.0 co2_c + 3.0 coa_c + 3.0 h2o_c + 6.0 nadp_c + occoa_c | 0.006648483661168671\n",
      "DIAT: accoa_c + sprm_c --> N1sprm_c + coa_c + h_c | 0.0\n",
      "OHACT5: 2phetoh_c + accoa_c --> coa_c + pheac_c | 0.0\n",
      "FAS80_L: accoa_c + 8.0 h_c + 3.0 malcoa_c + 6.0 nadph_c --> 3.0 co2_c + 4.0 coa_c + 2.0 h2o_c + 6.0 nadp_c + octa_c | 0.0\n",
      "ACGAM6PS: accoa_c + gam6p_c <=> acgam6p_c + coa_c + h_c | 0.0\n",
      "ACCOAC: accoa_c + atp_c + hco3_c <=> adp_c + h_c + malcoa_c + pi_c | 0.04720423399429757\n",
      "GLYAT: accoa_c + gly_c <-- 2aobut_c + coa_c | 0.0\n",
      "CSNATr: accoa_c + crn_c <=> acrn_c + coa_c | 0.0\n"
     ]
    }
   ],
   "source": [
    "for reac in model.metabolites.accoa_c.reactions:\n",
    "    print(reac,\"|\",reac.flux)"
   ]
  },
  {
   "cell_type": "code",
   "execution_count": null,
   "metadata": {},
   "outputs": [
    {
     "data": {
      "text/html": [
       "<div>\n",
       "<style scoped>\n",
       "    .dataframe tbody tr th:only-of-type {\n",
       "        vertical-align: middle;\n",
       "    }\n",
       "\n",
       "    .dataframe tbody tr th {\n",
       "        vertical-align: top;\n",
       "    }\n",
       "\n",
       "    .dataframe thead th {\n",
       "        text-align: right;\n",
       "    }\n",
       "</style>\n",
       "<table border=\"1\" class=\"dataframe\">\n",
       "  <thead>\n",
       "    <tr style=\"text-align: right;\">\n",
       "      <th></th>\n",
       "      <th>time</th>\n",
       "      <th>BIOMASS_SC5_notrace</th>\n",
       "      <th>EX_glc__D_e</th>\n",
       "      <th>DM_progesterone_c</th>\n",
       "    </tr>\n",
       "  </thead>\n",
       "  <tbody>\n",
       "    <tr>\n",
       "      <th>0</th>\n",
       "      <td>0.0</td>\n",
       "      <td>0.000000</td>\n",
       "      <td>0.000000</td>\n",
       "      <td>0.000000</td>\n",
       "    </tr>\n",
       "    <tr>\n",
       "      <th>1</th>\n",
       "      <td>0.1</td>\n",
       "      <td>0.118723</td>\n",
       "      <td>-8.093663</td>\n",
       "      <td>0.618862</td>\n",
       "    </tr>\n",
       "    <tr>\n",
       "      <th>2</th>\n",
       "      <td>0.2</td>\n",
       "      <td>0.118723</td>\n",
       "      <td>-8.092056</td>\n",
       "      <td>0.618830</td>\n",
       "    </tr>\n",
       "    <tr>\n",
       "      <th>3</th>\n",
       "      <td>0.3</td>\n",
       "      <td>0.118723</td>\n",
       "      <td>-8.090417</td>\n",
       "      <td>0.618798</td>\n",
       "    </tr>\n",
       "    <tr>\n",
       "      <th>4</th>\n",
       "      <td>0.4</td>\n",
       "      <td>0.118723</td>\n",
       "      <td>-8.088746</td>\n",
       "      <td>0.618765</td>\n",
       "    </tr>\n",
       "    <tr>\n",
       "      <th>...</th>\n",
       "      <td>...</td>\n",
       "      <td>...</td>\n",
       "      <td>...</td>\n",
       "      <td>...</td>\n",
       "    </tr>\n",
       "    <tr>\n",
       "      <th>121</th>\n",
       "      <td>12.1</td>\n",
       "      <td>0.118723</td>\n",
       "      <td>-3.086751</td>\n",
       "      <td>0.202349</td>\n",
       "    </tr>\n",
       "    <tr>\n",
       "      <th>122</th>\n",
       "      <td>12.2</td>\n",
       "      <td>0.118723</td>\n",
       "      <td>-2.633917</td>\n",
       "      <td>0.152437</td>\n",
       "    </tr>\n",
       "    <tr>\n",
       "      <th>123</th>\n",
       "      <td>12.3</td>\n",
       "      <td>0.118723</td>\n",
       "      <td>-2.189297</td>\n",
       "      <td>0.102941</td>\n",
       "    </tr>\n",
       "    <tr>\n",
       "      <th>124</th>\n",
       "      <td>12.4</td>\n",
       "      <td>0.118723</td>\n",
       "      <td>-1.763837</td>\n",
       "      <td>0.055579</td>\n",
       "    </tr>\n",
       "    <tr>\n",
       "      <th>125</th>\n",
       "      <td>12.5</td>\n",
       "      <td>0.118723</td>\n",
       "      <td>-1.375630</td>\n",
       "      <td>0.012363</td>\n",
       "    </tr>\n",
       "  </tbody>\n",
       "</table>\n",
       "<p>126 rows × 4 columns</p>\n",
       "</div>"
      ],
      "text/plain": [
       "     time  BIOMASS_SC5_notrace  EX_glc__D_e  DM_progesterone_c\n",
       "0     0.0             0.000000     0.000000           0.000000\n",
       "1     0.1             0.118723    -8.093663           0.618862\n",
       "2     0.2             0.118723    -8.092056           0.618830\n",
       "3     0.3             0.118723    -8.090417           0.618798\n",
       "4     0.4             0.118723    -8.088746           0.618765\n",
       "..    ...                  ...          ...                ...\n",
       "121  12.1             0.118723    -3.086751           0.202349\n",
       "122  12.2             0.118723    -2.633917           0.152437\n",
       "123  12.3             0.118723    -2.189297           0.102941\n",
       "124  12.4             0.118723    -1.763837           0.055579\n",
       "125  12.5             0.118723    -1.375630           0.012363\n",
       "\n",
       "[126 rows x 4 columns]"
      ]
     },
     "execution_count": 19,
     "metadata": {},
     "output_type": "execute_result"
    }
   ],
   "source": [
    "# printing fluxes at steady state\n",
    "trajectories"
   ]
  },
  {
   "cell_type": "markdown",
   "metadata": {},
   "source": [
    "In this simulation, the fluxes changes rapidly in the beginning, representing the speed of which glucose is consumed while biomass and progesterone is produced. The negative value for glucose means that it is removed from the media when it is consumed by *S. cerevisiae*. In constrast, the positive values for biomass and progesterone means that it is produced. \n",
    "\n",
    "When glucose starts to become limited after 5 hours, the glucose flux increases, i.e. it is consumed at a lower rate. It doesn't seem to affect the growth until after approximately 7 hours. \n",
    "\n",
    "Progesterone is produced at low levels with a constant flux of approximately 0.5. **WHY** **Fordi den er defineret til det. Så man kan sige at vi kun kan regne med plottet så længe der er steady state. Altså growth rate er konstant**"
   ]
  }
 ],
 "metadata": {
  "kernelspec": {
   "display_name": "Python 3.7.15 ('dfba')",
   "language": "python",
   "name": "python3"
  },
  "language_info": {
   "codemirror_mode": {
    "name": "ipython",
    "version": 3
   },
   "file_extension": ".py",
   "mimetype": "text/x-python",
   "name": "python",
   "nbconvert_exporter": "python",
   "pygments_lexer": "ipython3",
   "version": "3.7.15"
  },
  "orig_nbformat": 4,
  "vscode": {
   "interpreter": {
    "hash": "42a0797e525a8ae3ad7e804c95ca6b98bbcaff3906d674ada8ed94b80acfad2f"
   }
  }
 },
 "nbformat": 4,
 "nbformat_minor": 2
}
