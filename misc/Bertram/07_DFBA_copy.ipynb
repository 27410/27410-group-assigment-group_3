{
 "cells": [
  {
   "cell_type": "markdown",
   "metadata": {},
   "source": [
    "Forklar at vi bliver nødt til at have objective til biomasse og bagefter 'force' fluxen for progesteron til noget bestemt. Så det er ikke 100p troværdigt fordi at progesteron ikke falder til sidst med biomassen. "
   ]
  },
  {
   "cell_type": "markdown",
   "metadata": {},
   "source": [
    "## Dynamic Flux Based Analysis\n",
    "\n",
    "Calculating a single number for the progesterone yield and flux - as we mostly do during this report - gives little information about what the final titres will be. \n",
    "To get a better idea of how the progesterone and biomass titres change over time, it can be insightful to mimick real conditions by simulating a simple batch fermentation. This is the purpose of Dynamic Flux Based Analysis (DFBA)\n",
    "\n",
    "We used cobra and dfba packages to make a DFBA and simulate a batch fermentation in defined intitial conditions."
   ]
  },
  {
   "cell_type": "code",
   "execution_count": 1,
   "metadata": {},
   "outputs": [],
   "source": [
    "# Load libraries\n",
    "from cobra.io import read_sbml_model\n",
    "from dfba.plot.matplotlib import *\n",
    "from dfba import DfbaModel, ExchangeFlux, KineticVariable"
   ]
  },
  {
   "cell_type": "code",
   "execution_count": 2,
   "metadata": {},
   "outputs": [
    {
     "name": "stdout",
     "output_type": "stream",
     "text": [
      "Loading ../../models/iMM904_progesterone.xml\n"
     ]
    }
   ],
   "source": [
    "# Loading model\n",
    "infilename = '../../models/iMM904_progesterone.xml'\n",
    "print(f\"Loading {infilename}\")\n",
    "model = read_sbml_model(infilename)"
   ]
  },
  {
   "cell_type": "markdown",
   "metadata": {},
   "source": [
    "To ensure that our strain can grow while producing progesterone, we find the optimal progesterone productivity and growth rate (see 03_maximum theoretical yield). To simulate the optimal model in steady state, we define a progesterone productivity from the obtained results:"
   ]
  },
  {
   "cell_type": "code",
   "execution_count": 3,
   "metadata": {},
   "outputs": [
    {
     "name": "stdout",
     "output_type": "stream",
     "text": [
      "Maximum growth rate: 0.287865703704015 gDW/h\n",
      "Maximum progesterone production: 0.16666666666666655 mmol/gDW*h\n"
     ]
    }
   ],
   "source": [
    "# max growth rate and max progesterone productivity\n",
    "with model:\n",
    "    baseline_max_growth = model.optimize().objective_value\n",
    "    model.objective = model.reactions.DM_progesterone_c\n",
    "    baseline_max_production = model.optimize().objective_value\n",
    "print(f\"Maximum growth rate: {baseline_max_growth} gDW/h\")\n",
    "print(f\"Maximum progesterone production: {baseline_max_production} mmol/gDW*h\")"
   ]
  },
  {
   "cell_type": "code",
   "execution_count": 4,
   "metadata": {},
   "outputs": [
    {
     "name": "stdout",
     "output_type": "stream",
     "text": [
      "Growth rate in complete model: 0.11872292252086913 gDW/h\n",
      "Progesterone productivity in complete model: 0.15620047742340093 mmol/gDW*h\n",
      "oxygen uptake: -2.0\n",
      "glc uptake: -10.0\n"
     ]
    }
   ],
   "source": [
    "# growth and progesterone productivity when both are set to be objective\n",
    "with model:\n",
    "    model.objective = {model.reactions.get_by_id('BIOMASS_SC5_notrace'): baseline_max_production, \n",
    "                    model.reactions.get_by_id('DM_progesterone_c'): baseline_max_growth} # objective is to lead flux through the reaction producing progesterone top maximise production\n",
    "    solution = model.optimize()\n",
    "    growth = solution.fluxes['BIOMASS_SC5_notrace']\n",
    "    progesterone = solution.fluxes['DM_progesterone_c']\n",
    "    o_uptake = solution.fluxes['EX_o2_e']\n",
    "    glc_uptake = solution.fluxes['EX_glc__D_e']\n",
    "    print(f\"Growth rate in complete model: {growth} gDW/h\")\n",
    "    print(f\"Progesterone productivity in complete model: {progesterone} mmol/gDW*h\")\n",
    "    print(f\"oxygen uptake: {o_uptake}\")\n",
    "    print(f\"glc uptake: {glc_uptake}\")"
   ]
  },
  {
   "cell_type": "code",
   "execution_count": 5,
   "metadata": {},
   "outputs": [
    {
     "name": "stdout",
     "output_type": "stream",
     "text": [
      "Optimal progesterone production: 0.4967260618946796 g/gDW*h\n",
      "Theoretical max progesterone production: 0.5300091161567976 g/gDW*h\n",
      "Setting progesterone productivity to: 0.7155123068116772 g/gDW*h\n"
     ]
    }
   ],
   "source": [
    "# Setting progesterone productivity constant\n",
    "progesterone_gh = progesterone * 1000 / 314.46 # calculate progesterone productivity in g/gDW*h\n",
    "print(f\"Optimal progesterone production: {progesterone_gh} g/gDW*h\")\n",
    "progesterone_gh = baseline_max_production * 1000 / 314.46 # calculate progesterone productivity in g/gDW*h\n",
    "print(f\"Theoretical max progesterone production: {progesterone_gh} g/gDW*h\")\n",
    "progesterone_gh = 0.225 * 1000 / 314.46 # calculate progesterone productivity in g/gDW*h\n",
    "print(f\"Setting progesterone productivity to: {progesterone_gh} g/gDW*h\")\n",
    "model.reactions.DM_progesterone_c.lower_bound = progesterone_gh"
   ]
  },
  {
   "cell_type": "code",
   "execution_count": 6,
   "metadata": {},
   "outputs": [],
   "source": [
    "model.solver = \"glpk\"\n",
    "dfba_model = DfbaModel(model)"
   ]
  },
  {
   "cell_type": "code",
   "execution_count": 7,
   "metadata": {},
   "outputs": [],
   "source": [
    "# instances of KineticVariable\n",
    "X = KineticVariable(\"Biomass\")\n",
    "Gluc = KineticVariable(\"Glucose\")\n",
    "Pro = KineticVariable(\"Progesterone\")\n",
    "Oxy = KineticVariable(\"Oxygen\")\n",
    "\n",
    "# add kinetic variables to dfba_model\n",
    "dfba_model.add_kinetic_variables([X, Gluc, Pro, Oxy])"
   ]
  },
  {
   "cell_type": "code",
   "execution_count": 8,
   "metadata": {},
   "outputs": [],
   "source": [
    "# instances of ExchangeFlux\n",
    "\n",
    "mu = ExchangeFlux(\"BIOMASS_SC5_notrace\")\n",
    "v_G = ExchangeFlux(\"EX_glc__D_e\")\n",
    "v_O = ExchangeFlux(\"EX_o2_e\")\n",
    "v_P = ExchangeFlux(\"DM_progesterone_c\")\n",
    "\n",
    "# add exchange fluxes to dfba_model\n",
    "dfba_model.add_exchange_fluxes([mu, v_G, v_O, v_P])"
   ]
  },
  {
   "cell_type": "code",
   "execution_count": 9,
   "metadata": {},
   "outputs": [],
   "source": [
    "# add rhs expressions for kinetic variables in dfba_model\n",
    "#ENHEDER?\n",
    "Vgmax = 8.5\n",
    "Kg = 0.5\n",
    "Gin = 100.0\n",
    "Vomax = 8.0\n",
    "\n",
    "#This is flux terms:\n",
    "#dfba_model.add_rhs_expression(\"Volume\", D)\n",
    "dfba_model.add_rhs_expression(\"Oxygen\", 0) #keep O2 constant\n",
    "dfba_model.add_rhs_expression(\"Biomass\", mu * X )\n",
    "dfba_model.add_rhs_expression(\"Glucose\", v_G * X )#* 180.1559 / 1000 ) #+ D * (Gin - Gluc) / V\n",
    "dfba_model.add_rhs_expression(\"Progesterone\", v_P * X )#* 314.46 / 1000 ) # - D * Pro / V"
   ]
  },
  {
   "cell_type": "code",
   "execution_count": 10,
   "metadata": {},
   "outputs": [],
   "source": [
    "# add lower/upper bound expressions for exchange fluxes in dfba_model together\n",
    "# with expression that must be non-negative for correct evaluation of bounds\n",
    "dfba_model.add_exchange_flux_lb(\"EX_glc__D_e\", Vgmax * (Gluc / (Kg + Gluc)), Gluc)\n",
    "\n",
    "#Oxy = 2\n",
    "vmax_o2 = 15 # [mmol gDW^-1 h^-1]\n",
    "Ko = 0.024 # mmol/L O2 Michaelis-Mentent constant\n",
    "dfba_model.add_exchange_flux_lb(\"EX_o2_e\", vmax_o2 * (Oxy / (Ko + Oxy)), Oxy)\n",
    "dfba_model.add_exchange_flux_lb(\"EX_glc__D_e\", Vgmax * (Gluc / (Kg + Gluc)), Gluc)"
   ]
  },
  {
   "cell_type": "code",
   "execution_count": 11,
   "metadata": {},
   "outputs": [
    {
     "data": {
      "text/plain": [
       "8.5*yval[1]/(0.5 + yval[1])"
      ]
     },
     "execution_count": 11,
     "metadata": {},
     "output_type": "execute_result"
    }
   ],
   "source": [
    "Vgmax * (Gluc / (Kg + Gluc))"
   ]
  },
  {
   "cell_type": "code",
   "execution_count": 12,
   "metadata": {},
   "outputs": [
    {
     "name": "stderr",
     "output_type": "stream",
     "text": [
      "/home/trinebera/miniconda3/envs/dfba/lib/python3.7/site-packages/cobra/util/solver.py:554: UserWarning: Solver status is 'infeasible'.\n",
      "  warn(f\"Solver status is '{status}'.\", UserWarning)\n"
     ]
    },
    {
     "data": {
      "text/html": [
       "<strong><em>infeasible</em> solution</strong>"
      ],
      "text/plain": [
       "<Solution infeasible at 0x7f7298b91d90>"
      ]
     },
     "execution_count": 12,
     "metadata": {},
     "output_type": "execute_result"
    }
   ],
   "source": [
    "model.optimize()"
   ]
  },
  {
   "cell_type": "code",
   "execution_count": 23,
   "metadata": {},
   "outputs": [],
   "source": [
    "# add initial conditions for kinetic variables in dfba_model biomass (gDW/L),\n",
    "# metabolites (mmol/L)\n",
    "\n",
    "dfba_model.add_initial_conditions(\n",
    "    {\n",
    "        \"Biomass\": 0.05,\n",
    "        \"Glucose\": 10.0,\n",
    "        \"Progesterone\": 0, \n",
    "        \"Oxygen\": 2\n",
    "    }\n",
    ")"
   ]
  },
  {
   "cell_type": "code",
   "execution_count": 24,
   "metadata": {},
   "outputs": [
    {
     "name": "stderr",
     "output_type": "stream",
     "text": [
      "cc1plus: warning: command line option '-Wstrict-prototypes' is valid for C/ObjC but not for C++\n"
     ]
    },
    {
     "name": "stdout",
     "output_type": "stream",
     "text": [
      "\n",
      "\n",
      "Final Run Statistics: \n",
      "\n",
      "Number of steps                    = 23\n",
      "Number of residual evaluations     = 54\n",
      "Number of Jacobian evaluations     = 16\n",
      "Number of nonlinear iterations     = 25\n",
      "Number of error test failures      = 0\n",
      "Number of nonlinear conv. failures = 0\n",
      "Number of root fn. evaluations     = 168\n",
      "\n",
      "\n",
      "Final Run Statistics: \n",
      "\n",
      "Number of steps                    = 8\n",
      "Number of residual evaluations     = 16\n",
      "Number of Jacobian evaluations     = 6\n",
      "Number of nonlinear iterations     = 8\n",
      "Number of error test failures      = 0\n",
      "Number of nonlinear conv. failures = 0\n",
      "Number of root fn. evaluations     = 14\n",
      "\n",
      "Basis not feasible with primal status 4\n",
      "\n",
      "Final Run Statistics: \n",
      "\n",
      "Number of steps                    = 8\n",
      "Number of residual evaluations     = 16\n",
      "Number of Jacobian evaluations     = 6\n",
      "Number of nonlinear iterations     = 8\n",
      "Number of error test failures      = 0\n",
      "Number of nonlinear conv. failures = 0\n",
      "Number of root fn. evaluations     = 14\n",
      "\n",
      "Total simulation time was 2.54687 seconds\n",
      "\n"
     ]
    }
   ],
   "source": [
    "# simulate model across interval t = [0.0,16.0](hours) with outputs for plotting\n",
    "# every 0.1h\n",
    "concentrations, trajectories = dfba_model.simulate(0.0, 100, 0.1, [\"BIOMASS_SC5_notrace\", \"EX_glc__D_e\", \"DM_progesterone_c\"])"
   ]
  },
  {
   "cell_type": "code",
   "execution_count": 25,
   "metadata": {},
   "outputs": [
    {
     "data": {
      "text/plain": [
       "Text(0.5, 1.0, ' \\n Batch fermentation simulation \\n')"
      ]
     },
     "execution_count": 25,
     "metadata": {},
     "output_type": "execute_result"
    },
    {
     "data": {
      "image/png": "[encoded data removed]",
      "text/plain": [
       "<Figure size 640x480 with 2 Axes>"
      ]
     },
     "metadata": {},
     "output_type": "display_data"
    }
   ],
   "source": [
    "# plotting concentration in steady state\n",
    "plot_concentrations(concentrations)\n",
    "plt.title(\" \\n Batch fermentation simulation \\n\", size=15)"
   ]
  },
  {
   "cell_type": "code",
   "execution_count": 16,
   "metadata": {},
   "outputs": [
    {
     "data": {
      "text/html": [
       "<div>\n",
       "<style scoped>\n",
       "    .dataframe tbody tr th:only-of-type {\n",
       "        vertical-align: middle;\n",
       "    }\n",
       "\n",
       "    .dataframe tbody tr th {\n",
       "        vertical-align: top;\n",
       "    }\n",
       "\n",
       "    .dataframe thead th {\n",
       "        text-align: right;\n",
       "    }\n",
       "</style>\n",
       "<table border=\"1\" class=\"dataframe\">\n",
       "  <thead>\n",
       "    <tr style=\"text-align: right;\">\n",
       "      <th></th>\n",
       "      <th>time</th>\n",
       "      <th>Biomass</th>\n",
       "      <th>Glucose</th>\n",
       "      <th>Oxygen</th>\n",
       "      <th>Progesterone</th>\n",
       "    </tr>\n",
       "  </thead>\n",
       "  <tbody>\n",
       "    <tr>\n",
       "      <th>0</th>\n",
       "      <td>0.0</td>\n",
       "      <td>0.050000</td>\n",
       "      <td>10.000000</td>\n",
       "      <td>2.0</td>\n",
       "      <td>0.000000</td>\n",
       "    </tr>\n",
       "    <tr>\n",
       "      <th>1</th>\n",
       "      <td>0.1</td>\n",
       "      <td>0.050054</td>\n",
       "      <td>9.959506</td>\n",
       "      <td>2.0</td>\n",
       "      <td>0.003579</td>\n",
       "    </tr>\n",
       "    <tr>\n",
       "      <th>2</th>\n",
       "      <td>0.2</td>\n",
       "      <td>0.050108</td>\n",
       "      <td>9.918976</td>\n",
       "      <td>2.0</td>\n",
       "      <td>0.007163</td>\n",
       "    </tr>\n",
       "    <tr>\n",
       "      <th>3</th>\n",
       "      <td>0.3</td>\n",
       "      <td>0.050162</td>\n",
       "      <td>9.878411</td>\n",
       "      <td>2.0</td>\n",
       "      <td>0.010750</td>\n",
       "    </tr>\n",
       "    <tr>\n",
       "      <th>4</th>\n",
       "      <td>0.4</td>\n",
       "      <td>0.050215</td>\n",
       "      <td>9.837810</td>\n",
       "      <td>2.0</td>\n",
       "      <td>0.014341</td>\n",
       "    </tr>\n",
       "    <tr>\n",
       "      <th>...</th>\n",
       "      <td>...</td>\n",
       "      <td>...</td>\n",
       "      <td>...</td>\n",
       "      <td>...</td>\n",
       "      <td>...</td>\n",
       "    </tr>\n",
       "    <tr>\n",
       "      <th>132</th>\n",
       "      <td>13.2</td>\n",
       "      <td>0.054856</td>\n",
       "      <td>4.466204</td>\n",
       "      <td>2.0</td>\n",
       "      <td>0.499874</td>\n",
       "    </tr>\n",
       "    <tr>\n",
       "      <th>133</th>\n",
       "      <td>13.3</td>\n",
       "      <td>0.054860</td>\n",
       "      <td>4.424325</td>\n",
       "      <td>2.0</td>\n",
       "      <td>0.503798</td>\n",
       "    </tr>\n",
       "    <tr>\n",
       "      <th>134</th>\n",
       "      <td>13.4</td>\n",
       "      <td>0.054863</td>\n",
       "      <td>4.382485</td>\n",
       "      <td>2.0</td>\n",
       "      <td>0.507722</td>\n",
       "    </tr>\n",
       "    <tr>\n",
       "      <th>135</th>\n",
       "      <td>13.5</td>\n",
       "      <td>0.054865</td>\n",
       "      <td>4.340684</td>\n",
       "      <td>2.0</td>\n",
       "      <td>0.511645</td>\n",
       "    </tr>\n",
       "    <tr>\n",
       "      <th>136</th>\n",
       "      <td>13.6</td>\n",
       "      <td>0.054866</td>\n",
       "      <td>4.298924</td>\n",
       "      <td>2.0</td>\n",
       "      <td>0.515569</td>\n",
       "    </tr>\n",
       "  </tbody>\n",
       "</table>\n",
       "<p>137 rows × 5 columns</p>\n",
       "</div>"
      ],
      "text/plain": [
       "     time   Biomass    Glucose  Oxygen  Progesterone\n",
       "0     0.0  0.050000  10.000000     2.0      0.000000\n",
       "1     0.1  0.050054   9.959506     2.0      0.003579\n",
       "2     0.2  0.050108   9.918976     2.0      0.007163\n",
       "3     0.3  0.050162   9.878411     2.0      0.010750\n",
       "4     0.4  0.050215   9.837810     2.0      0.014341\n",
       "..    ...       ...        ...     ...           ...\n",
       "132  13.2  0.054856   4.466204     2.0      0.499874\n",
       "133  13.3  0.054860   4.424325     2.0      0.503798\n",
       "134  13.4  0.054863   4.382485     2.0      0.507722\n",
       "135  13.5  0.054865   4.340684     2.0      0.511645\n",
       "136  13.6  0.054866   4.298924     2.0      0.515569\n",
       "\n",
       "[137 rows x 5 columns]"
      ]
     },
     "execution_count": 16,
     "metadata": {},
     "output_type": "execute_result"
    }
   ],
   "source": [
    "# printing concentrations in steady state\n",
    "concentrations"
   ]
  },
  {
   "cell_type": "code",
   "execution_count": 17,
   "metadata": {},
   "outputs": [
    {
     "data": {
      "text/plain": [
       "0.19182059999999998"
      ]
     },
     "execution_count": 17,
     "metadata": {},
     "output_type": "execute_result"
    }
   ],
   "source": [
    "0.61/1000 * 314.46   # mol/L * g/mol = g/L"
   ]
  },
  {
   "cell_type": "markdown",
   "metadata": {},
   "source": [
    "As seen in the figure and table above, the batch fermentaiton ran for 7.8 hours before all of the glucose was consumed. The final progesterone titre reached 0.61 mmol/L (corresponding to 0.19 g/L)\n",
    "The biomass reached 0.33 gDW."
   ]
  },
  {
   "cell_type": "code",
   "execution_count": 18,
   "metadata": {},
   "outputs": [
    {
     "data": {
      "text/plain": [
       "Text(0.5, 1.0, '\\n Fluxes for batch fermentation simulation \\n')"
      ]
     },
     "execution_count": 18,
     "metadata": {},
     "output_type": "execute_result"
    },
    {
     "data": {
      "image/png": "[encoded data removed]",
      "text/plain": [
       "<Figure size 640x480 with 1 Axes>"
      ]
     },
     "metadata": {},
     "output_type": "display_data"
    }
   ],
   "source": [
    "# Plotting fluxes at steady state\n",
    "plot_trajectories(trajectories)\n",
    "plt.title(\"\\n Fluxes for batch fermentation simulation \\n\", size=15)"
   ]
  },
  {
   "cell_type": "code",
   "execution_count": 19,
   "metadata": {},
   "outputs": [
    {
     "data": {
      "text/html": [
       "<div>\n",
       "<style scoped>\n",
       "    .dataframe tbody tr th:only-of-type {\n",
       "        vertical-align: middle;\n",
       "    }\n",
       "\n",
       "    .dataframe tbody tr th {\n",
       "        vertical-align: top;\n",
       "    }\n",
       "\n",
       "    .dataframe thead th {\n",
       "        text-align: right;\n",
       "    }\n",
       "</style>\n",
       "<table border=\"1\" class=\"dataframe\">\n",
       "  <thead>\n",
       "    <tr style=\"text-align: right;\">\n",
       "      <th></th>\n",
       "      <th>time</th>\n",
       "      <th>BIOMASS_SC5_notrace</th>\n",
       "      <th>EX_glc__D_e</th>\n",
       "      <th>DM_progesterone_c</th>\n",
       "    </tr>\n",
       "  </thead>\n",
       "  <tbody>\n",
       "    <tr>\n",
       "      <th>0</th>\n",
       "      <td>0.0</td>\n",
       "      <td>0.000000</td>\n",
       "      <td>0.000000</td>\n",
       "      <td>0.000000</td>\n",
       "    </tr>\n",
       "    <tr>\n",
       "      <th>1</th>\n",
       "      <td>0.1</td>\n",
       "      <td>0.010771</td>\n",
       "      <td>-8.093671</td>\n",
       "      <td>0.715512</td>\n",
       "    </tr>\n",
       "    <tr>\n",
       "      <th>2</th>\n",
       "      <td>0.2</td>\n",
       "      <td>0.010736</td>\n",
       "      <td>-8.092090</td>\n",
       "      <td>0.715512</td>\n",
       "    </tr>\n",
       "    <tr>\n",
       "      <th>3</th>\n",
       "      <td>0.3</td>\n",
       "      <td>0.010701</td>\n",
       "      <td>-8.090496</td>\n",
       "      <td>0.715512</td>\n",
       "    </tr>\n",
       "    <tr>\n",
       "      <th>4</th>\n",
       "      <td>0.4</td>\n",
       "      <td>0.010665</td>\n",
       "      <td>-8.088888</td>\n",
       "      <td>0.715512</td>\n",
       "    </tr>\n",
       "    <tr>\n",
       "      <th>...</th>\n",
       "      <td>...</td>\n",
       "      <td>...</td>\n",
       "      <td>...</td>\n",
       "      <td>...</td>\n",
       "    </tr>\n",
       "    <tr>\n",
       "      <th>132</th>\n",
       "      <td>13.2</td>\n",
       "      <td>0.000830</td>\n",
       "      <td>-7.644216</td>\n",
       "      <td>0.715512</td>\n",
       "    </tr>\n",
       "    <tr>\n",
       "      <th>133</th>\n",
       "      <td>13.3</td>\n",
       "      <td>0.000669</td>\n",
       "      <td>-7.636938</td>\n",
       "      <td>0.715512</td>\n",
       "    </tr>\n",
       "    <tr>\n",
       "      <th>134</th>\n",
       "      <td>13.4</td>\n",
       "      <td>0.000505</td>\n",
       "      <td>-7.629542</td>\n",
       "      <td>0.715512</td>\n",
       "    </tr>\n",
       "    <tr>\n",
       "      <th>135</th>\n",
       "      <td>13.5</td>\n",
       "      <td>0.000339</td>\n",
       "      <td>-7.622025</td>\n",
       "      <td>0.715512</td>\n",
       "    </tr>\n",
       "    <tr>\n",
       "      <th>136</th>\n",
       "      <td>13.6</td>\n",
       "      <td>0.000170</td>\n",
       "      <td>-7.614385</td>\n",
       "      <td>0.715512</td>\n",
       "    </tr>\n",
       "  </tbody>\n",
       "</table>\n",
       "<p>137 rows × 4 columns</p>\n",
       "</div>"
      ],
      "text/plain": [
       "     time  BIOMASS_SC5_notrace  EX_glc__D_e  DM_progesterone_c\n",
       "0     0.0             0.000000     0.000000           0.000000\n",
       "1     0.1             0.010771    -8.093671           0.715512\n",
       "2     0.2             0.010736    -8.092090           0.715512\n",
       "3     0.3             0.010701    -8.090496           0.715512\n",
       "4     0.4             0.010665    -8.088888           0.715512\n",
       "..    ...                  ...          ...                ...\n",
       "132  13.2             0.000830    -7.644216           0.715512\n",
       "133  13.3             0.000669    -7.636938           0.715512\n",
       "134  13.4             0.000505    -7.629542           0.715512\n",
       "135  13.5             0.000339    -7.622025           0.715512\n",
       "136  13.6             0.000170    -7.614385           0.715512\n",
       "\n",
       "[137 rows x 4 columns]"
      ]
     },
     "execution_count": 19,
     "metadata": {},
     "output_type": "execute_result"
    }
   ],
   "source": [
    "# printing fluxes at steady state\n",
    "trajectories"
   ]
  },
  {
   "cell_type": "markdown",
   "metadata": {},
   "source": [
    "In this simulation, the fluxes changes rapidly in the beginning, representing the speed of which glucose is consumed while biomass and progesterone is produced. The negative value for glucose means that it is removed from the media when it is consumed by *S. cerevisiae*. In constrast, the positive values for biomass and progesterone means that it is produced. \n",
    "\n",
    "When glucose starts to become limited after 5 hours, the glucose flux increases, i.e. it is consumed at a lower rate. It doesn't seem to affect the growth until after approximately 7 hours. \n",
    "\n",
    "Progesterone is produced at low levels with a constant flux of approximately 0.5. **WHY** **Fordi den er defineret til det. Så man kan sige at vi kun kan regne med plottet så længe der er steady state. Altså growth rate er konstant**"
   ]
  }
 ],
 "metadata": {
  "kernelspec": {
   "display_name": "Python 3.7.15 ('dfba')",
   "language": "python",
   "name": "python3"
  },
  "language_info": {
   "codemirror_mode": {
    "name": "ipython",
    "version": 3
   },
   "file_extension": ".py",
   "mimetype": "text/x-python",
   "name": "python",
   "nbconvert_exporter": "python",
   "pygments_lexer": "ipython3",
   "version": "3.7.15"
  },
  "orig_nbformat": 4,
  "vscode": {
   "interpreter": {
    "hash": "42a0797e525a8ae3ad7e804c95ca6b98bbcaff3906d674ada8ed94b80acfad2f"
   }
  }
 },
 "nbformat": 4,
 "nbformat_minor": 2
}
