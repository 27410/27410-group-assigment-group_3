{
 "cells": [
  {
   "cell_type": "code",
   "execution_count": 1,
   "metadata": {},
   "outputs": [],
   "source": [
    "# Load libraries\n",
    "import numpy as np\n",
    "from cobra.io import read_sbml_model, write_sbml_model\n",
    "from cobra.util import create_stoichiometric_matrix\n",
    "from cobra import Reaction, Metabolite\n",
    "from cobra.core.gene import GPR\n",
    "\n",
    "\n",
    "#From Marks report\n",
    "from cameo.strain_design.heuristic.evolutionary.objective_functions import product_yield\n",
    "from cameo.strain_design.heuristic.evolutionary_based import CofactorSwapOptimization\n",
    "#from cobra.io import read_sbml_model\n",
    "#model = read_sbml_model('models/yeast_lyco.xml')"
   ]
  },
  {
   "cell_type": "code",
   "execution_count": 2,
   "metadata": {},
   "outputs": [],
   "source": [
    "from cameo.strain_design.heuristic.evolutionary.optimization import CofactorSwapOptimization\n",
    "from cameo.strain_design.heuristic.evolutionary.objective_functions import product_yield\n",
    "from cameo.strain_design.heuristic.evolutionary.objective_functions import biomass_product_coupled_yield\n",
    "from cameo.util import TimeMachine\n",
    "from cameo.flux_analysis.analysis import flux_variability_analysis as fva"
   ]
  },
  {
   "cell_type": "code",
   "execution_count": 3,
   "metadata": {},
   "outputs": [
    {
     "name": "stdout",
     "output_type": "stream",
     "text": [
      "Loading ../../models/iMM904_progesterone.xml\n"
     ]
    }
   ],
   "source": [
    "# Loading model\n",
    "infilename = '../../models/iMM904_progesterone.xml'\n",
    "print(f\"Loading {infilename}\")\n",
    "model = read_sbml_model(infilename)"
   ]
  },
  {
   "cell_type": "code",
   "execution_count": 4,
   "metadata": {},
   "outputs": [
    {
     "data": {
      "text/html": [
       "\n",
       "        <table>\n",
       "            <tr>\n",
       "                <td><strong>Reaction identifier</strong></td><td>DM_progesterone_c</td>\n",
       "            </tr><tr>\n",
       "                <td><strong>Name</strong></td><td>progesterone demand</td>\n",
       "            </tr><tr>\n",
       "                <td><strong>Memory address</strong></td>\n",
       "                <td>0x07f99c2bbcb20</td>\n",
       "            </tr><tr>\n",
       "                <td><strong>Stoichiometry</strong></td>\n",
       "                <td>\n",
       "                    <p style='text-align:right'>progesterone_c --></p>\n",
       "                    <p style='text-align:right'>progesterone --></p>\n",
       "                </td>\n",
       "            </tr><tr>\n",
       "                <td><strong>GPR</strong></td><td></td>\n",
       "            </tr><tr>\n",
       "                <td><strong>Lower bound</strong></td><td>0</td>\n",
       "            </tr><tr>\n",
       "                <td><strong>Upper bound</strong></td><td>1000.0</td>\n",
       "            </tr>\n",
       "        </table>\n",
       "        "
      ],
      "text/plain": [
       "<Reaction DM_progesterone_c at 0x7f99c2bbcb20>"
      ]
     },
     "execution_count": 4,
     "metadata": {},
     "output_type": "execute_result"
    }
   ],
   "source": [
    "# Make a demand for progesterone\n",
    "# This information is needed to make the model produce progesterone. Otherwise, no progesterone is produced. \n",
    "\n",
    "model.add_boundary(model.metabolites.get_by_id('progesterone_c'), type='demand')"
   ]
  },
  {
   "cell_type": "code",
   "execution_count": 5,
   "metadata": {},
   "outputs": [
    {
     "data": {
      "text/html": [
       "<strong><em>Optimal</em> solution with objective value 0.288</strong><br><div>\n",
       "<style scoped>\n",
       "    .dataframe tbody tr th:only-of-type {\n",
       "        vertical-align: middle;\n",
       "    }\n",
       "\n",
       "    .dataframe tbody tr th {\n",
       "        vertical-align: top;\n",
       "    }\n",
       "\n",
       "    .dataframe thead th {\n",
       "        text-align: right;\n",
       "    }\n",
       "</style>\n",
       "<table border=\"1\" class=\"dataframe\">\n",
       "  <thead>\n",
       "    <tr style=\"text-align: right;\">\n",
       "      <th></th>\n",
       "      <th>fluxes</th>\n",
       "      <th>reduced_costs</th>\n",
       "    </tr>\n",
       "  </thead>\n",
       "  <tbody>\n",
       "    <tr>\n",
       "      <th>CITtcp</th>\n",
       "      <td>0.00000</td>\n",
       "      <td>0.000000</td>\n",
       "    </tr>\n",
       "    <tr>\n",
       "      <th>13BGH</th>\n",
       "      <td>0.00000</td>\n",
       "      <td>-0.047516</td>\n",
       "    </tr>\n",
       "    <tr>\n",
       "      <th>13BGHe</th>\n",
       "      <td>0.00000</td>\n",
       "      <td>0.000000</td>\n",
       "    </tr>\n",
       "    <tr>\n",
       "      <th>13GS</th>\n",
       "      <td>0.32667</td>\n",
       "      <td>0.000000</td>\n",
       "    </tr>\n",
       "    <tr>\n",
       "      <th>16GS</th>\n",
       "      <td>0.00000</td>\n",
       "      <td>0.000000</td>\n",
       "    </tr>\n",
       "    <tr>\n",
       "      <th>...</th>\n",
       "      <td>...</td>\n",
       "      <td>...</td>\n",
       "    </tr>\n",
       "    <tr>\n",
       "      <th>R03353</th>\n",
       "      <td>0.00000</td>\n",
       "      <td>0.000000</td>\n",
       "    </tr>\n",
       "    <tr>\n",
       "      <th>R07215</th>\n",
       "      <td>0.00000</td>\n",
       "      <td>0.000000</td>\n",
       "    </tr>\n",
       "    <tr>\n",
       "      <th>R04804</th>\n",
       "      <td>0.00000</td>\n",
       "      <td>0.000000</td>\n",
       "    </tr>\n",
       "    <tr>\n",
       "      <th>SK_methylpentanal_c</th>\n",
       "      <td>0.00000</td>\n",
       "      <td>0.000000</td>\n",
       "    </tr>\n",
       "    <tr>\n",
       "      <th>DM_progesterone_c</th>\n",
       "      <td>0.00000</td>\n",
       "      <td>-1.617116</td>\n",
       "    </tr>\n",
       "  </tbody>\n",
       "</table>\n",
       "<p>1587 rows × 2 columns</p>\n",
       "</div>"
      ],
      "text/plain": [
       "<Solution 0.288 at 0x7f9a397799d0>"
      ]
     },
     "execution_count": 5,
     "metadata": {},
     "output_type": "execute_result"
    }
   ],
   "source": [
    "# What is this: optimize the model. How?\n",
    "Fluxes=model.optimize()\n",
    "Fluxes"
   ]
  },
  {
   "cell_type": "code",
   "execution_count": 6,
   "metadata": {},
   "outputs": [],
   "source": [
    "#Choose the reaction that produced progesterone as the objective.\n",
    "model.objective = model.reactions.R02216"
   ]
  },
  {
   "cell_type": "code",
   "execution_count": 10,
   "metadata": {},
   "outputs": [
    {
     "data": {
      "text/html": [
       "\n",
       "        <table>\n",
       "            <tr>\n",
       "                <td><strong>Reaction identifier</strong></td><td>EX_glc__D_e</td>\n",
       "            </tr><tr>\n",
       "                <td><strong>Name</strong></td><td>D-Glucose exchange</td>\n",
       "            </tr><tr>\n",
       "                <td><strong>Memory address</strong></td>\n",
       "                <td>0x07f99c2227a30</td>\n",
       "            </tr><tr>\n",
       "                <td><strong>Stoichiometry</strong></td>\n",
       "                <td>\n",
       "                    <p style='text-align:right'>glc__D_e <=></p>\n",
       "                    <p style='text-align:right'>D-Glucose <=></p>\n",
       "                </td>\n",
       "            </tr><tr>\n",
       "                <td><strong>GPR</strong></td><td></td>\n",
       "            </tr><tr>\n",
       "                <td><strong>Lower bound</strong></td><td>-10.0</td>\n",
       "            </tr><tr>\n",
       "                <td><strong>Upper bound</strong></td><td>999999.0</td>\n",
       "            </tr>\n",
       "        </table>\n",
       "        "
      ],
      "text/plain": [
       "<Reaction EX_glc__D_e at 0x7f99c2227a30>"
      ]
     },
     "execution_count": 10,
     "metadata": {},
     "output_type": "execute_result"
    }
   ],
   "source": [
    "model.reactions.EX_glc__D_e"
   ]
  },
  {
   "cell_type": "code",
   "execution_count": 9,
   "metadata": {},
   "outputs": [
    {
     "data": {
      "text/html": [
       "\n",
       "        <table>\n",
       "            <tr>\n",
       "                <td><strong>Reaction identifier</strong></td><td>EX_glc__D_e</td>\n",
       "            </tr><tr>\n",
       "                <td><strong>Name</strong></td><td>D-Glucose exchange</td>\n",
       "            </tr><tr>\n",
       "                <td><strong>Memory address</strong></td>\n",
       "                <td>0x07f99c2227a30</td>\n",
       "            </tr><tr>\n",
       "                <td><strong>Stoichiometry</strong></td>\n",
       "                <td>\n",
       "                    <p style='text-align:right'>glc__D_e <=></p>\n",
       "                    <p style='text-align:right'>D-Glucose <=></p>\n",
       "                </td>\n",
       "            </tr><tr>\n",
       "                <td><strong>GPR</strong></td><td></td>\n",
       "            </tr><tr>\n",
       "                <td><strong>Lower bound</strong></td><td>-10.0</td>\n",
       "            </tr><tr>\n",
       "                <td><strong>Upper bound</strong></td><td>999999.0</td>\n",
       "            </tr>\n",
       "        </table>\n",
       "        "
      ],
      "text/plain": [
       "<Reaction EX_glc__D_e at 0x7f99c2227a30>"
      ]
     },
     "execution_count": 9,
     "metadata": {},
     "output_type": "execute_result"
    }
   ],
   "source": [
    "model.exchanges.EX_glc__D_e"
   ]
  },
  {
   "cell_type": "code",
   "execution_count": 7,
   "metadata": {},
   "outputs": [
    {
     "data": {
      "text/plain": [
       "[<Reaction EX_epistest_SC_e at 0x7f99c262dcd0>,\n",
       " <Reaction EX_epist_e at 0x7f99c262ddc0>,\n",
       " <Reaction EX_ergst_e at 0x7f99c2205700>,\n",
       " <Reaction EX_ergstest_SC_e at 0x7f99c2275400>,\n",
       " <Reaction EX_13BDglcn_e at 0x7f99c2205790>,\n",
       " <Reaction EX_etha_e at 0x7f99c2205df0>,\n",
       " <Reaction EX_2hb_e at 0x7f99c2205e80>,\n",
       " <Reaction EX_etoh_e at 0x7f99c2205c70>,\n",
       " <Reaction EX_fe2_e at 0x7f99c2205bb0>,\n",
       " <Reaction EX_fecost_e at 0x7f99c2205670>,\n",
       " <Reaction EX_2mbac_e at 0x7f99c2205ca0>,\n",
       " <Reaction EX_2mbald_e at 0x7f99c2205cd0>,\n",
       " <Reaction EX_2mbtoh_e at 0x7f99c22172e0>,\n",
       " <Reaction EX_2mppal_e at 0x7f99c2217340>,\n",
       " <Reaction EX_2phetoh_e at 0x7f99c2217400>,\n",
       " <Reaction EX_fecostest_SC_e at 0x7f99c22174c0>,\n",
       " <Reaction EX_fmn_e at 0x7f99c2217580>,\n",
       " <Reaction EX_3c3hmp_e at 0x7f99c2217640>,\n",
       " <Reaction EX_3mbald_e at 0x7f99c22177c0>,\n",
       " <Reaction EX_for_e at 0x7f99c2217940>,\n",
       " <Reaction EX_fru_e at 0x7f99c2217b20>,\n",
       " <Reaction EX_3mop_e at 0x7f99c2217160>,\n",
       " <Reaction EX_4abut_e at 0x7f99c2217bb0>,\n",
       " <Reaction EX_fum_e at 0x7f99c2205940>,\n",
       " <Reaction EX_g3pc_e at 0x7f99c22172b0>,\n",
       " <Reaction EX_4abz_e at 0x7f99c2217f40>,\n",
       " <Reaction EX_5aop_e at 0x7f99c2217f70>,\n",
       " <Reaction EX_g3pi_e at 0x7f99c2217040>,\n",
       " <Reaction EX_gal_e at 0x7f99c2217fa0>,\n",
       " <Reaction EX_8aonn_e at 0x7f99c22273d0>,\n",
       " <Reaction EX_Nbfortyr_e at 0x7f99c2227400>,\n",
       " <Reaction EX_abt_e at 0x7f99c22274f0>,\n",
       " <Reaction EX_ac_e at 0x7f99c22275b0>,\n",
       " <Reaction EX_acald_e at 0x7f99c2227670>,\n",
       " <Reaction EX_aces_e at 0x7f99c2227730>,\n",
       " <Reaction EX_galur_e at 0x7f99c22277f0>,\n",
       " <Reaction EX_gam6p_e at 0x7f99c22278b0>,\n",
       " <Reaction EX_gcald_e at 0x7f99c2227970>,\n",
       " <Reaction EX_glc__D_e at 0x7f99c2227a30>,\n",
       " <Reaction EX_gln__L_e at 0x7f99c2227af0>,\n",
       " <Reaction EX_glu__L_e at 0x7f99c2227bb0>,\n",
       " <Reaction EX_glx_e at 0x7f99c2227c70>,\n",
       " <Reaction EX_ade_e at 0x7f99c2227d30>,\n",
       " <Reaction EX_adn_e at 0x7f99c2227df0>,\n",
       " <Reaction EX_akg_e at 0x7f99c2227460>,\n",
       " <Reaction EX_ala__L_e at 0x7f99c2227430>,\n",
       " <Reaction EX_gly_e at 0x7f99c2227310>,\n",
       " <Reaction EX_glyc_e at 0x7f99c2227190>,\n",
       " <Reaction EX_gsn_e at 0x7f99c22392e0>,\n",
       " <Reaction EX_gthox_e at 0x7f99c22396d0>,\n",
       " <Reaction EX_gthrd_e at 0x7f99c2239700>,\n",
       " <Reaction EX_alltn_e at 0x7f99c22390d0>,\n",
       " <Reaction EX_alltt_e at 0x7f99c22396a0>,\n",
       " <Reaction EX_amet_e at 0x7f99c2239790>,\n",
       " <Reaction EX_arab__D_e at 0x7f99c2239850>,\n",
       " <Reaction EX_arab__L_e at 0x7f99c2239910>,\n",
       " <Reaction EX_gua_e at 0x7f99c22399d0>,\n",
       " <Reaction EX_arg__L_e at 0x7f99c2239a90>,\n",
       " <Reaction EX_h2o_e at 0x7f99c2239b50>,\n",
       " <Reaction EX_h_e at 0x7f99c2239cd0>,\n",
       " <Reaction EX_hdca_e at 0x7f99c2217f10>,\n",
       " <Reaction EX_hdcea_e at 0x7f99c22270a0>,\n",
       " <Reaction EX_asn__L_e at 0x7f99c2239e50>,\n",
       " <Reaction EX_asp__L_e at 0x7f99c2239130>,\n",
       " <Reaction EX_btd_RR_e at 0x7f99c2239040>,\n",
       " <Reaction EX_btn_e at 0x7f99c2239670>,\n",
       " <Reaction EX_hexc_e at 0x7f99c21d0580>,\n",
       " <Reaction EX_his__L_e at 0x7f99c21d06a0>,\n",
       " <Reaction EX_hxan_e at 0x7f99c21d0b20>,\n",
       " <Reaction EX_iamac_e at 0x7f99c21d0940>,\n",
       " <Reaction EX_iamoh_e at 0x7f99c21d0e20>,\n",
       " <Reaction EX_ibutac_e at 0x7f99c21d0c40>,\n",
       " <Reaction EX_chol_e at 0x7f99c21d0970>,\n",
       " <Reaction EX_cit_e at 0x7f99c21d0d30>,\n",
       " <Reaction EX_co2_e at 0x7f99c21d0310>,\n",
       " <Reaction EX_crn_e at 0x7f99c21d03d0>,\n",
       " <Reaction EX_csn_e at 0x7f99c21d0b50>,\n",
       " <Reaction EX_cys__L_e at 0x7f99c21d0c10>,\n",
       " <Reaction EX_cytd_e at 0x7f99c21e0250>,\n",
       " <Reaction EX_dad_2_e at 0x7f99c21e02b0>,\n",
       " <Reaction EX_dann_e at 0x7f99c21e0370>,\n",
       " <Reaction EX_ibutoh_e at 0x7f99c21e0430>,\n",
       " <Reaction EX_id3acald_e at 0x7f99c21e04f0>,\n",
       " <Reaction EX_ile__L_e at 0x7f99c21e05b0>,\n",
       " <Reaction EX_ind3eth_e at 0x7f99c21e0670>,\n",
       " <Reaction EX_inost_e at 0x7f99c21e0730>,\n",
       " <Reaction EX_dca_e at 0x7f99c21e07f0>,\n",
       " <Reaction EX_dcyt_e at 0x7f99c21e08b0>,\n",
       " <Reaction EX_ddca_e at 0x7f99c21e0970>,\n",
       " <Reaction EX_ins_e at 0x7f99c21e0a30>,\n",
       " <Reaction EX_k_e at 0x7f99c21e0af0>,\n",
       " <Reaction EX_dgsn_e at 0x7f99c21e0bb0>,\n",
       " <Reaction EX_din_e at 0x7f99c21e0c70>,\n",
       " <Reaction EX_lac__D_e at 0x7f99c21e0d30>,\n",
       " <Reaction EX_lac__L_e at 0x7f99c21e0eb0>,\n",
       " <Reaction EX_lanost_e at 0x7f99c21e0070>,\n",
       " <Reaction EX_lanostest_SC_e at 0x7f99c21e0100>,\n",
       " <Reaction EX_dttp_e at 0x7f99c21e01f0>,\n",
       " <Reaction EX_duri_e at 0x7f99c21f72e0>,\n",
       " <Reaction EX_leu__L_e at 0x7f99c21f7340>,\n",
       " <Reaction EX_lys__L_e at 0x7f99c21f74c0>,\n",
       " <Reaction EX_mal__L_e at 0x7f99c21d0ac0>,\n",
       " <Reaction EX_malt_e at 0x7f99c21f7100>,\n",
       " <Reaction EX_ribflv_e at 0x7f99c21f79d0>,\n",
       " <Reaction EX_sbt__D_e at 0x7f99c21f7a60>,\n",
       " <Reaction EX_man_e at 0x7f99c21f7850>,\n",
       " <Reaction EX_melib_e at 0x7f99c21f7af0>,\n",
       " <Reaction EX_met__L_e at 0x7f99c21f7c70>,\n",
       " <Reaction EX_mmet_e at 0x7f99c21f7e50>,\n",
       " <Reaction EX_na1_e at 0x7f99c21f7040>,\n",
       " <Reaction EX_nac_e at 0x7f99c21f7bb0>,\n",
       " <Reaction EX_sbt__L_e at 0x7f99c21f78b0>,\n",
       " <Reaction EX_ser__L_e at 0x7f99c21f7880>,\n",
       " <Reaction EX_so3_e at 0x7f99c21f70d0>,\n",
       " <Reaction EX_so4_e at 0x7f99c21f7ee0>,\n",
       " <Reaction EX_spmd_e at 0x7f99c218d280>,\n",
       " <Reaction EX_sprm_e at 0x7f99c218d2e0>,\n",
       " <Reaction EX_srb__L_e at 0x7f99c218d3a0>,\n",
       " <Reaction EX_succ_e at 0x7f99c218d460>,\n",
       " <Reaction EX_nadp_e at 0x7f99c218d520>,\n",
       " <Reaction EX_nh4_e at 0x7f99c218d5e0>,\n",
       " <Reaction EX_nmn_e at 0x7f99c218d6a0>,\n",
       " <Reaction EX_sucr_e at 0x7f99c218d760>,\n",
       " <Reaction EX_o2_e at 0x7f99c218d820>,\n",
       " <Reaction EX_taur_e at 0x7f99c218d8e0>,\n",
       " <Reaction EX_thm_e at 0x7f99c218da60>,\n",
       " <Reaction EX_oaa_e at 0x7f99c21f7820>,\n",
       " <Reaction EX_ocdca_e at 0x7f99c218d130>,\n",
       " <Reaction EX_ocdcea_e at 0x7f99c218de50>,\n",
       " <Reaction EX_ocdcya_e at 0x7f99c218dee0>,\n",
       " <Reaction EX_orn_e at 0x7f99c218dfa0>,\n",
       " <Reaction EX_thmmp_e at 0x7f99c218ddf0>,\n",
       " <Reaction EX_thmpp_e at 0x7f99c218de20>,\n",
       " <Reaction EX_thr__L_e at 0x7f99c218df70>,\n",
       " <Reaction EX_thym_e at 0x7f99c219f3a0>,\n",
       " <Reaction EX_pacald_e at 0x7f99c219f6a0>,\n",
       " <Reaction EX_pap_e at 0x7f99c219f310>,\n",
       " <Reaction EX_thymd_e at 0x7f99c219f370>,\n",
       " <Reaction EX_tre_e at 0x7f99c219fa60>,\n",
       " <Reaction EX_trp__L_e at 0x7f99c219fe20>,\n",
       " <Reaction EX_pc_SC_e at 0x7f99c219fd30>,\n",
       " <Reaction EX_pectin_e at 0x7f99c219ff40>,\n",
       " <Reaction EX_pepd_e at 0x7f99c219fe80>,\n",
       " <Reaction EX_phe__L_e at 0x7f99c219f5e0>,\n",
       " <Reaction EX_pheac_e at 0x7f99c219f610>,\n",
       " <Reaction EX_pi_e at 0x7f99c219f640>,\n",
       " <Reaction EX_pnto__R_e at 0x7f99c219f250>,\n",
       " <Reaction EX_ttdca_e at 0x7f99c21b1280>,\n",
       " <Reaction EX_tyr__L_e at 0x7f99c21b12e0>,\n",
       " <Reaction EX_ura_e at 0x7f99c21b13a0>,\n",
       " <Reaction EX_urea_e at 0x7f99c21b1460>,\n",
       " <Reaction EX_uri_e at 0x7f99c21b1520>,\n",
       " <Reaction EX_val__L_e at 0x7f99c21b15e0>,\n",
       " <Reaction EX_xan_e at 0x7f99c21b16a0>,\n",
       " <Reaction EX_xtsn_e at 0x7f99c21b1760>,\n",
       " <Reaction EX_pro__L_e at 0x7f99c21b1820>,\n",
       " <Reaction EX_ptd1ino_SC_e at 0x7f99c21b18e0>,\n",
       " <Reaction EX_ptrc_e at 0x7f99c21b19a0>,\n",
       " <Reaction EX_pyr_e at 0x7f99c21b1a60>,\n",
       " <Reaction EX_xyl__D_e at 0x7f99c21b1b20>,\n",
       " <Reaction EX_xylt_e at 0x7f99c21b1be0>,\n",
       " <Reaction EX_rib__D_e at 0x7f99c21b1ca0>,\n",
       " <Reaction EX_zymst_e at 0x7f99c21b1e20>,\n",
       " <Reaction EX_zymstest_SC_e at 0x7f99c219fee0>]"
      ]
     },
     "execution_count": 7,
     "metadata": {},
     "output_type": "execute_result"
    }
   ],
   "source": [
    "model.exchanges.EX"
   ]
  },
  {
   "cell_type": "code",
   "execution_count": 11,
   "metadata": {},
   "outputs": [],
   "source": [
    "#Calculate the product yield \n",
    "\n",
    "\n",
    "p_yield = product_yield(model.reactions.R02216, model.exchanges.EX_glc__D_e)\n",
    "optswap = CofactorSwapOptimization(model=model, objective_function = p_yield)"
   ]
  },
  {
   "cell_type": "code",
   "execution_count": 10,
   "metadata": {},
   "outputs": [
    {
     "data": {
      "text/plain": [
       "<cameo.strain_design.heuristic.evolutionary.optimization.CofactorSwapOptimization at 0x7f1347ab7850>"
      ]
     },
     "execution_count": 10,
     "metadata": {},
     "output_type": "execute_result"
    }
   ],
   "source": [
    "swap_optimization = CofactorSwapOptimization(model=model, cofactor_id_swaps=([\"nad_c\",\"nadh_c\"],[\"fad_c\",\"fadh2_m\"]),objective_function=py)\n",
    "# VIRKER!!!!!!!!!!!!!!!!!!!!!!!!!!!!!\n",
    "\n",
    "#swap_optimization = CofactorSwapOptimization(model=model,objective_function=py)\n",
    "swap_optimization"
   ]
  },
  {
   "cell_type": "code",
   "execution_count": 11,
   "metadata": {},
   "outputs": [
    {
     "name": "stdout",
     "output_type": "stream",
     "text": [
      "Starting optimization at Thu, 17 Nov 2022 18:25:39\n"
     ]
    },
    {
     "name": "stderr",
     "output_type": "stream",
     "text": [
      "/home/trinebera/miniconda3/envs/thedream/lib/python3.9/site-packages/cameo/strain_design/heuristic/evolutionary/objective_functions.py:353: RuntimeWarning: invalid value encountered in double_scalars\n",
      "  return round(product_flux / substrate_flux, config.ndecimals)\n",
      "/home/trinebera/miniconda3/envs/thedream/lib/python3.9/site-packages/cameo/strain_design/heuristic/evolutionary/objective_functions.py:353: RuntimeWarning: invalid value encountered in double_scalars\n",
      "  return round(product_flux / substrate_flux, config.ndecimals)\n",
      "/home/trinebera/miniconda3/envs/thedream/lib/python3.9/site-packages/cameo/strain_design/heuristic/evolutionary/objective_functions.py:353: RuntimeWarning: invalid value encountered in double_scalars\n",
      "  return round(product_flux / substrate_flux, config.ndecimals)\n",
      "/home/trinebera/miniconda3/envs/thedream/lib/python3.9/site-packages/cameo/strain_design/heuristic/evolutionary/objective_functions.py:353: RuntimeWarning: invalid value encountered in double_scalars\n",
      "  return round(product_flux / substrate_flux, config.ndecimals)\n",
      "/home/trinebera/miniconda3/envs/thedream/lib/python3.9/site-packages/cameo/strain_design/heuristic/evolutionary/objective_functions.py:353: RuntimeWarning: invalid value encountered in double_scalars\n",
      "  return round(product_flux / substrate_flux, config.ndecimals)\n",
      "/home/trinebera/miniconda3/envs/thedream/lib/python3.9/site-packages/cameo/strain_design/heuristic/evolutionary/objective_functions.py:353: RuntimeWarning: invalid value encountered in double_scalars\n",
      "  return round(product_flux / substrate_flux, config.ndecimals)\n"
     ]
    },
    {
     "data": {
      "application/vnd.jupyter.widget-view+json": {
       "model_id": "4f2808c501dd4fdb98bf6a82b6b441b3",
       "version_major": 2,
       "version_minor": 0
      },
      "text/plain": [
       "HBox()"
      ]
     },
     "metadata": {},
     "output_type": "display_data"
    },
    {
     "name": "stdout",
     "output_type": "stream",
     "text": [
      "Finished after 00:00:52\n"
     ]
    },
    {
     "name": "stderr",
     "output_type": "stream",
     "text": [
      "/home/trinebera/miniconda3/envs/thedream/lib/python3.9/site-packages/cameo/strain_design/heuristic/evolutionary/objective_functions.py:353: RuntimeWarning: invalid value encountered in double_scalars\n",
      "  return round(product_flux / substrate_flux, config.ndecimals)\n",
      "/home/trinebera/miniconda3/envs/thedream/lib/python3.9/site-packages/cameo/strain_design/heuristic/evolutionary/objective_functions.py:353: RuntimeWarning: invalid value encountered in double_scalars\n",
      "  return round(product_flux / substrate_flux, config.ndecimals)\n",
      "/home/trinebera/miniconda3/envs/thedream/lib/python3.9/site-packages/cameo/strain_design/heuristic/evolutionary/objective_functions.py:353: RuntimeWarning: invalid value encountered in double_scalars\n",
      "  return round(product_flux / substrate_flux, config.ndecimals)\n",
      "/home/trinebera/miniconda3/envs/thedream/lib/python3.9/site-packages/cameo/strain_design/heuristic/evolutionary/objective_functions.py:353: RuntimeWarning: invalid value encountered in double_scalars\n",
      "  return round(product_flux / substrate_flux, config.ndecimals)\n",
      "/home/trinebera/miniconda3/envs/thedream/lib/python3.9/site-packages/cameo/strain_design/heuristic/evolutionary/objective_functions.py:353: RuntimeWarning: invalid value encountered in double_scalars\n",
      "  return round(product_flux / substrate_flux, config.ndecimals)\n"
     ]
    }
   ],
   "source": [
    "solution=swap_optimization.run(max_size=10)"
   ]
  },
  {
   "cell_type": "code",
   "execution_count": 12,
   "metadata": {},
   "outputs": [
    {
     "data": {
      "text/html": [
       "\n",
       "        <h4>Result:</h4>\n",
       "        <ul>\n",
       "            <li>model: iMM904</li>\n",
       "            <li>heuristic: GA</li>\n",
       "            <li>objective function: $$yield = \\frac{R02216}{ECYP11A1}$$</li>\n",
       "            <li>simulation method: pfba</li>\n",
       "            <li>target type: cofactor-swap</li>\n",
       "        <ul>\n",
       "        <div>\n",
       "<style scoped>\n",
       "    .dataframe tbody tr th:only-of-type {\n",
       "        vertical-align: middle;\n",
       "    }\n",
       "\n",
       "    .dataframe tbody tr th {\n",
       "        vertical-align: top;\n",
       "    }\n",
       "\n",
       "    .dataframe thead th {\n",
       "        text-align: right;\n",
       "    }\n",
       "</style>\n",
       "<table border=\"1\" class=\"dataframe\">\n",
       "  <thead>\n",
       "    <tr style=\"text-align: right;\">\n",
       "      <th></th>\n",
       "      <th>index</th>\n",
       "      <th>targets</th>\n",
       "      <th>fitness</th>\n",
       "    </tr>\n",
       "  </thead>\n",
       "  <tbody>\n",
       "    <tr>\n",
       "      <th>0</th>\n",
       "      <td>0</td>\n",
       "      <td>(MDH, R02216)</td>\n",
       "      <td>0.999999</td>\n",
       "    </tr>\n",
       "    <tr>\n",
       "      <th>1</th>\n",
       "      <td>1</td>\n",
       "      <td>(R02216, HSDxi)</td>\n",
       "      <td>0.999999</td>\n",
       "    </tr>\n",
       "    <tr>\n",
       "      <th>2</th>\n",
       "      <td>2</td>\n",
       "      <td>(R02216, LNS14DMx)</td>\n",
       "      <td>0.999999</td>\n",
       "    </tr>\n",
       "    <tr>\n",
       "      <th>3</th>\n",
       "      <td>3</td>\n",
       "      <td>(LNS14DMx, R02216)</td>\n",
       "      <td>0.999999</td>\n",
       "    </tr>\n",
       "    <tr>\n",
       "      <th>4</th>\n",
       "      <td>4</td>\n",
       "      <td>(GLUSx, R02216)</td>\n",
       "      <td>0.999999</td>\n",
       "    </tr>\n",
       "    <tr>\n",
       "      <th>5</th>\n",
       "      <td>5</td>\n",
       "      <td>(ALCD23xi, R02216)</td>\n",
       "      <td>0.999999</td>\n",
       "    </tr>\n",
       "    <tr>\n",
       "      <th>6</th>\n",
       "      <td>7</td>\n",
       "      <td>(R02216, MDH)</td>\n",
       "      <td>0.999999</td>\n",
       "    </tr>\n",
       "    <tr>\n",
       "      <th>7</th>\n",
       "      <td>8</td>\n",
       "      <td>(GAPD,)</td>\n",
       "      <td>0.875007</td>\n",
       "    </tr>\n",
       "    <tr>\n",
       "      <th>8</th>\n",
       "      <td>11</td>\n",
       "      <td>(ALCD26xi,)</td>\n",
       "      <td>0.874999</td>\n",
       "    </tr>\n",
       "    <tr>\n",
       "      <th>9</th>\n",
       "      <td>12</td>\n",
       "      <td>(G3PD1ir,)</td>\n",
       "      <td>0.874999</td>\n",
       "    </tr>\n",
       "  </tbody>\n",
       "</table>\n",
       "</div>"
      ],
      "text/plain": [
       "<cameo.strain_design.heuristic.evolutionary.optimization.TargetOptimizationResult at 0x7f1347778cd0>"
      ]
     },
     "execution_count": 12,
     "metadata": {},
     "output_type": "execute_result"
    }
   ],
   "source": [
    "solution"
   ]
  },
  {
   "cell_type": "code",
   "execution_count": 13,
   "metadata": {},
   "outputs": [
    {
     "data": {
      "text/plain": [
       "0         (MDH, R02216)\n",
       "1       (R02216, HSDxi)\n",
       "2    (R02216, LNS14DMx)\n",
       "3    (LNS14DMx, R02216)\n",
       "4       (GLUSx, R02216)\n",
       "5    (ALCD23xi, R02216)\n",
       "6         (R02216, MDH)\n",
       "7               (GAPD,)\n",
       "8           (ALCD26xi,)\n",
       "9            (G3PD1ir,)\n",
       "Name: targets, dtype: object"
      ]
     },
     "execution_count": 13,
     "metadata": {},
     "output_type": "execute_result"
    }
   ],
   "source": [
    "reactions=solution.data_frame.targets\n",
    "reactions"
   ]
  },
  {
   "cell_type": "code",
   "execution_count": 14,
   "metadata": {},
   "outputs": [
    {
     "name": "stdout",
     "output_type": "stream",
     "text": [
      "Reactions:\n",
      "L-Malate + Nicotinamide adenine dinucleotide ==> H+ + Oxaloacetate + Nicotinamide adenine dinucleotide - reduced\n",
      "\n",
      "pregnenolone + Nicotinamide adenine dinucleotide ==> progesterone + H+ + Nicotinamide adenine dinucleotide - reduced\n",
      "\n",
      "Reactions:\n",
      "pregnenolone + Nicotinamide adenine dinucleotide ==> progesterone + H+ + Nicotinamide adenine dinucleotide - reduced\n",
      "\n",
      "L-Aspartate 4-semialdehyde + H+ + Nicotinamide adenine dinucleotide - reduced ==> L-Homoserine + Nicotinamide adenine dinucleotide\n",
      "\n",
      "Reactions:\n",
      "pregnenolone + Nicotinamide adenine dinucleotide ==> progesterone + H+ + Nicotinamide adenine dinucleotide - reduced\n",
      "\n",
      "H+ + Lanosterol C30H50O + O2 O2 + Nicotinamide adenine dinucleotide - reduced ==> 4 4 dimethylcholesta 8 14 24 trienol C29H46O + Formate + H2O H2O + Nicotinamide adenine dinucleotide\n",
      "\n",
      "Reactions:\n",
      "H+ + Lanosterol C30H50O + O2 O2 + Nicotinamide adenine dinucleotide - reduced ==> 4 4 dimethylcholesta 8 14 24 trienol C29H46O + Formate + H2O H2O + Nicotinamide adenine dinucleotide\n",
      "\n",
      "pregnenolone + Nicotinamide adenine dinucleotide ==> progesterone + H+ + Nicotinamide adenine dinucleotide - reduced\n",
      "\n",
      "Reactions:\n",
      "2-Oxoglutarate + L-Glutamine + H+ + Nicotinamide adenine dinucleotide - reduced ==> L-Glutamate + Nicotinamide adenine dinucleotide\n",
      "\n",
      "pregnenolone + Nicotinamide adenine dinucleotide ==> progesterone + H+ + Nicotinamide adenine dinucleotide - reduced\n",
      "\n",
      "Reactions:\n",
      "2 methylpropanal C4H8O + H+ + Nicotinamide adenine dinucleotide - reduced ==> Isobutyl alcohol C4H10O + Nicotinamide adenine dinucleotide\n",
      "\n",
      "pregnenolone + Nicotinamide adenine dinucleotide ==> progesterone + H+ + Nicotinamide adenine dinucleotide - reduced\n",
      "\n",
      "Reactions:\n",
      "pregnenolone + Nicotinamide adenine dinucleotide ==> progesterone + H+ + Nicotinamide adenine dinucleotide - reduced\n",
      "\n",
      "L-Malate + Nicotinamide adenine dinucleotide ==> H+ + Oxaloacetate + Nicotinamide adenine dinucleotide - reduced\n",
      "\n",
      "Reactions:\n",
      "Glyceraldehyde 3-phosphate + Phosphate + Nicotinamide adenine dinucleotide ==> 3-Phospho-D-glyceroyl phosphate + H+ + Nicotinamide adenine dinucleotide - reduced\n",
      "\n",
      "Reactions:\n",
      "H+ + Indole 3 acetaldehyde C10H9NO + Nicotinamide adenine dinucleotide - reduced ==> Indole 3 ethanol C10H11NO + Nicotinamide adenine dinucleotide\n",
      "\n",
      "Reactions:\n",
      "Dihydroxyacetone phosphate + H+ + Nicotinamide adenine dinucleotide - reduced ==> Glycerol 3-phosphate + Nicotinamide adenine dinucleotide\n",
      "\n"
     ]
    }
   ],
   "source": [
    "for t in reactions:\n",
    "    print(\"Reactions:\")\n",
    "    for id in t:\n",
    "        r=model.reactions.get_by_id(id)\n",
    "        #print(r.name, id+\",\",\"Fitness:\", solution.data_frame.fitness[id][10])\n",
    "        s=\"\"\n",
    "        for rea in range(len(r.reactants)):\n",
    "            if rea==len(r.reactants)-1:\n",
    "                s+=r.reactants[rea].name+\" ==> \"\n",
    "            else:\n",
    "                s+=r.reactants[rea].name+\" + \"\n",
    "        for p in range(len(r.products)):\n",
    "            if p==len(r.products)-1:\n",
    "                s+=r.products[p].name\n",
    "            else:\n",
    "                s+=r.products[p].name+\" + \"\n",
    "        print(s)\n",
    "        print()"
   ]
  }
 ],
 "metadata": {
  "kernelspec": {
   "display_name": "Python 3.9.13 ('base')",
   "language": "python",
   "name": "python3"
  },
  "language_info": {
   "codemirror_mode": {
    "name": "ipython",
    "version": 3
   },
   "file_extension": ".py",
   "mimetype": "text/x-python",
   "name": "python",
   "nbconvert_exporter": "python",
   "pygments_lexer": "ipython3",
   "version": "3.9.13"
  },
  "orig_nbformat": 4,
  "vscode": {
   "interpreter": {
    "hash": "1c61bb7f5e5b8317d1eec5b8bcaa12241e8a88d5b6ba26b6e318bf21311ddd01"
   }
  }
 },
 "nbformat": 4,
 "nbformat_minor": 2
}
