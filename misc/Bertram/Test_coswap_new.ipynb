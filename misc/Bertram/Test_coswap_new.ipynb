{
 "cells": [
  {
   "cell_type": "code",
   "execution_count": 1,
   "metadata": {},
   "outputs": [],
   "source": [
    "# Load libraries\n",
    "import numpy as np\n",
    "from cobra.io import read_sbml_model, write_sbml_model\n",
    "from cobra.util import create_stoichiometric_matrix\n",
    "from cobra import Reaction, Metabolite\n",
    "from cobra.core.gene import GPR\n",
    "\n",
    "\n",
    "#From Marks report\n",
    "from cameo.strain_design.heuristic.evolutionary.objective_functions import product_yield\n",
    "from cameo.strain_design.heuristic.evolutionary_based import CofactorSwapOptimization\n",
    "#from cobra.io import read_sbml_model\n",
    "#model = read_sbml_model('models/yeast_lyco.xml')"
   ]
  },
  {
   "cell_type": "code",
   "execution_count": 2,
   "metadata": {},
   "outputs": [],
   "source": [
    "from cameo.strain_design.heuristic.evolutionary.optimization import CofactorSwapOptimization\n",
    "from cameo.strain_design.heuristic.evolutionary.objective_functions import product_yield\n",
    "from cameo.strain_design.heuristic.evolutionary.objective_functions import biomass_product_coupled_yield\n",
    "from cameo.util import TimeMachine\n",
    "from cameo.flux_analysis.analysis import flux_variability_analysis as fva"
   ]
  },
  {
   "cell_type": "code",
   "execution_count": 3,
   "metadata": {},
   "outputs": [
    {
     "name": "stdout",
     "output_type": "stream",
     "text": [
      "Loading ../../models/iMM904_progesterone_fixed.xml\n"
     ]
    }
   ],
   "source": [
    "# Loading model\n",
    "infilename = '../../models/iMM904_progesterone_fixed.xml'\n",
    "print(f\"Loading {infilename}\")\n",
    "model = read_sbml_model(infilename)\n",
    "#model2 = load_model(infilename)"
   ]
  },
  {
   "cell_type": "code",
   "execution_count": 4,
   "metadata": {},
   "outputs": [
    {
     "data": {
      "text/html": [
       "\n",
       "        <table>\n",
       "            <tr>\n",
       "                <td><strong>Reaction identifier</strong></td><td>DM_progesterone_c</td>\n",
       "            </tr><tr>\n",
       "                <td><strong>Name</strong></td><td>progesterone demand</td>\n",
       "            </tr><tr>\n",
       "                <td><strong>Memory address</strong></td>\n",
       "                <td>0x07f134cd2bc10</td>\n",
       "            </tr><tr>\n",
       "                <td><strong>Stoichiometry</strong></td>\n",
       "                <td>\n",
       "                    <p style='text-align:right'>progesterone_c --></p>\n",
       "                    <p style='text-align:right'>progesterone --></p>\n",
       "                </td>\n",
       "            </tr><tr>\n",
       "                <td><strong>GPR</strong></td><td></td>\n",
       "            </tr><tr>\n",
       "                <td><strong>Lower bound</strong></td><td>0</td>\n",
       "            </tr><tr>\n",
       "                <td><strong>Upper bound</strong></td><td>1000.0</td>\n",
       "            </tr>\n",
       "        </table>\n",
       "        "
      ],
      "text/plain": [
       "<Reaction DM_progesterone_c at 0x7f134cd2bc10>"
      ]
     },
     "execution_count": 4,
     "metadata": {},
     "output_type": "execute_result"
    }
   ],
   "source": [
    "# This information is needed to make the model produce progesterone. Otherwise, no progesterone is produced. \n",
    "\n",
    "model.add_boundary(model.metabolites.get_by_id('progesterone_c'), type='demand')"
   ]
  },
  {
   "cell_type": "code",
   "execution_count": 7,
   "metadata": {},
   "outputs": [
    {
     "data": {
      "text/html": [
       "<strong><em>Optimal</em> solution with objective value 0.143</strong><br><div>\n",
       "<style scoped>\n",
       "    .dataframe tbody tr th:only-of-type {\n",
       "        vertical-align: middle;\n",
       "    }\n",
       "\n",
       "    .dataframe tbody tr th {\n",
       "        vertical-align: top;\n",
       "    }\n",
       "\n",
       "    .dataframe thead th {\n",
       "        text-align: right;\n",
       "    }\n",
       "</style>\n",
       "<table border=\"1\" class=\"dataframe\">\n",
       "  <thead>\n",
       "    <tr style=\"text-align: right;\">\n",
       "      <th></th>\n",
       "      <th>fluxes</th>\n",
       "      <th>reduced_costs</th>\n",
       "    </tr>\n",
       "  </thead>\n",
       "  <tbody>\n",
       "    <tr>\n",
       "      <th>CITtcp</th>\n",
       "      <td>0.000000e+00</td>\n",
       "      <td>-0.000000e+00</td>\n",
       "    </tr>\n",
       "    <tr>\n",
       "      <th>13BGH</th>\n",
       "      <td>0.000000e+00</td>\n",
       "      <td>1.783417e-18</td>\n",
       "    </tr>\n",
       "    <tr>\n",
       "      <th>13BGHe</th>\n",
       "      <td>0.000000e+00</td>\n",
       "      <td>-1.925930e-34</td>\n",
       "    </tr>\n",
       "    <tr>\n",
       "      <th>13GS</th>\n",
       "      <td>-1.333313e-16</td>\n",
       "      <td>-4.622232e-33</td>\n",
       "    </tr>\n",
       "    <tr>\n",
       "      <th>16GS</th>\n",
       "      <td>0.000000e+00</td>\n",
       "      <td>3.566833e-18</td>\n",
       "    </tr>\n",
       "    <tr>\n",
       "      <th>...</th>\n",
       "      <td>...</td>\n",
       "      <td>...</td>\n",
       "    </tr>\n",
       "    <tr>\n",
       "      <th>R07215</th>\n",
       "      <td>1.428571e-01</td>\n",
       "      <td>6.626363e-17</td>\n",
       "    </tr>\n",
       "    <tr>\n",
       "      <th>R04804</th>\n",
       "      <td>1.428571e-01</td>\n",
       "      <td>-5.551115e-16</td>\n",
       "    </tr>\n",
       "    <tr>\n",
       "      <th>R_methylpentanal_t</th>\n",
       "      <td>1.428571e-01</td>\n",
       "      <td>-5.986817e-17</td>\n",
       "    </tr>\n",
       "    <tr>\n",
       "      <th>SK_methylpentanal_e</th>\n",
       "      <td>1.428571e-01</td>\n",
       "      <td>-1.797603e-16</td>\n",
       "    </tr>\n",
       "    <tr>\n",
       "      <th>DM_progesterone_c</th>\n",
       "      <td>1.428571e-01</td>\n",
       "      <td>0.000000e+00</td>\n",
       "    </tr>\n",
       "  </tbody>\n",
       "</table>\n",
       "<p>1588 rows × 2 columns</p>\n",
       "</div>"
      ],
      "text/plain": [
       "<Solution 0.143 at 0x7f1347ab70d0>"
      ]
     },
     "execution_count": 7,
     "metadata": {},
     "output_type": "execute_result"
    }
   ],
   "source": [
    "# What is this: optimize the model. How?\n",
    "Fluxes=model.optimize()\n",
    "Fluxes"
   ]
  },
  {
   "cell_type": "code",
   "execution_count": 8,
   "metadata": {},
   "outputs": [],
   "source": [
    "#Choose the reaction that produced progesterone as the objective.\n",
    "model.objective = model.reactions.R02216"
   ]
  },
  {
   "cell_type": "code",
   "execution_count": 9,
   "metadata": {},
   "outputs": [],
   "source": [
    "#Calculate the product yield \n",
    "\n",
    "\n",
    "py = product_yield(model.reactions.R02216, model.reactions.ECYP11A1)\n",
    "optswap = CofactorSwapOptimization(model=model, objective_function=py)"
   ]
  },
  {
   "cell_type": "code",
   "execution_count": 10,
   "metadata": {},
   "outputs": [
    {
     "data": {
      "text/plain": [
       "<cameo.strain_design.heuristic.evolutionary.optimization.CofactorSwapOptimization at 0x7f1347ab7850>"
      ]
     },
     "execution_count": 10,
     "metadata": {},
     "output_type": "execute_result"
    }
   ],
   "source": [
    "swap_optimization = CofactorSwapOptimization(model=model, cofactor_id_swaps=([\"nad_c\",\"nadh_c\"],[\"fad_c\",\"fadh2_m\"]),objective_function=py)\n",
    "# VIRKER!!!!!!!!!!!!!!!!!!!!!!!!!!!!!\n",
    "\n",
    "#swap_optimization = CofactorSwapOptimization(model=model,objective_function=py)\n",
    "swap_optimization"
   ]
  },
  {
   "cell_type": "code",
   "execution_count": 11,
   "metadata": {},
   "outputs": [
    {
     "name": "stdout",
     "output_type": "stream",
     "text": [
      "Starting optimization at Thu, 17 Nov 2022 18:25:39\n"
     ]
    },
    {
     "name": "stderr",
     "output_type": "stream",
     "text": [
      "/home/trinebera/miniconda3/envs/thedream/lib/python3.9/site-packages/cameo/strain_design/heuristic/evolutionary/objective_functions.py:353: RuntimeWarning: invalid value encountered in double_scalars\n",
      "  return round(product_flux / substrate_flux, config.ndecimals)\n",
      "/home/trinebera/miniconda3/envs/thedream/lib/python3.9/site-packages/cameo/strain_design/heuristic/evolutionary/objective_functions.py:353: RuntimeWarning: invalid value encountered in double_scalars\n",
      "  return round(product_flux / substrate_flux, config.ndecimals)\n",
      "/home/trinebera/miniconda3/envs/thedream/lib/python3.9/site-packages/cameo/strain_design/heuristic/evolutionary/objective_functions.py:353: RuntimeWarning: invalid value encountered in double_scalars\n",
      "  return round(product_flux / substrate_flux, config.ndecimals)\n",
      "/home/trinebera/miniconda3/envs/thedream/lib/python3.9/site-packages/cameo/strain_design/heuristic/evolutionary/objective_functions.py:353: RuntimeWarning: invalid value encountered in double_scalars\n",
      "  return round(product_flux / substrate_flux, config.ndecimals)\n",
      "/home/trinebera/miniconda3/envs/thedream/lib/python3.9/site-packages/cameo/strain_design/heuristic/evolutionary/objective_functions.py:353: RuntimeWarning: invalid value encountered in double_scalars\n",
      "  return round(product_flux / substrate_flux, config.ndecimals)\n",
      "/home/trinebera/miniconda3/envs/thedream/lib/python3.9/site-packages/cameo/strain_design/heuristic/evolutionary/objective_functions.py:353: RuntimeWarning: invalid value encountered in double_scalars\n",
      "  return round(product_flux / substrate_flux, config.ndecimals)\n"
     ]
    },
    {
     "data": {
      "application/vnd.jupyter.widget-view+json": {
       "model_id": "4f2808c501dd4fdb98bf6a82b6b441b3",
       "version_major": 2,
       "version_minor": 0
      },
      "text/plain": [
       "HBox()"
      ]
     },
     "metadata": {},
     "output_type": "display_data"
    },
    {
     "name": "stdout",
     "output_type": "stream",
     "text": [
      "Finished after 00:00:52\n"
     ]
    },
    {
     "name": "stderr",
     "output_type": "stream",
     "text": [
      "/home/trinebera/miniconda3/envs/thedream/lib/python3.9/site-packages/cameo/strain_design/heuristic/evolutionary/objective_functions.py:353: RuntimeWarning: invalid value encountered in double_scalars\n",
      "  return round(product_flux / substrate_flux, config.ndecimals)\n",
      "/home/trinebera/miniconda3/envs/thedream/lib/python3.9/site-packages/cameo/strain_design/heuristic/evolutionary/objective_functions.py:353: RuntimeWarning: invalid value encountered in double_scalars\n",
      "  return round(product_flux / substrate_flux, config.ndecimals)\n",
      "/home/trinebera/miniconda3/envs/thedream/lib/python3.9/site-packages/cameo/strain_design/heuristic/evolutionary/objective_functions.py:353: RuntimeWarning: invalid value encountered in double_scalars\n",
      "  return round(product_flux / substrate_flux, config.ndecimals)\n",
      "/home/trinebera/miniconda3/envs/thedream/lib/python3.9/site-packages/cameo/strain_design/heuristic/evolutionary/objective_functions.py:353: RuntimeWarning: invalid value encountered in double_scalars\n",
      "  return round(product_flux / substrate_flux, config.ndecimals)\n",
      "/home/trinebera/miniconda3/envs/thedream/lib/python3.9/site-packages/cameo/strain_design/heuristic/evolutionary/objective_functions.py:353: RuntimeWarning: invalid value encountered in double_scalars\n",
      "  return round(product_flux / substrate_flux, config.ndecimals)\n"
     ]
    }
   ],
   "source": [
    "solution=swap_optimization.run(max_size=10)"
   ]
  },
  {
   "cell_type": "code",
   "execution_count": 12,
   "metadata": {},
   "outputs": [
    {
     "data": {
      "text/html": [
       "\n",
       "        <h4>Result:</h4>\n",
       "        <ul>\n",
       "            <li>model: iMM904</li>\n",
       "            <li>heuristic: GA</li>\n",
       "            <li>objective function: $$yield = \\frac{R02216}{ECYP11A1}$$</li>\n",
       "            <li>simulation method: pfba</li>\n",
       "            <li>target type: cofactor-swap</li>\n",
       "        <ul>\n",
       "        <div>\n",
       "<style scoped>\n",
       "    .dataframe tbody tr th:only-of-type {\n",
       "        vertical-align: middle;\n",
       "    }\n",
       "\n",
       "    .dataframe tbody tr th {\n",
       "        vertical-align: top;\n",
       "    }\n",
       "\n",
       "    .dataframe thead th {\n",
       "        text-align: right;\n",
       "    }\n",
       "</style>\n",
       "<table border=\"1\" class=\"dataframe\">\n",
       "  <thead>\n",
       "    <tr style=\"text-align: right;\">\n",
       "      <th></th>\n",
       "      <th>index</th>\n",
       "      <th>targets</th>\n",
       "      <th>fitness</th>\n",
       "    </tr>\n",
       "  </thead>\n",
       "  <tbody>\n",
       "    <tr>\n",
       "      <th>0</th>\n",
       "      <td>0</td>\n",
       "      <td>(MDH, R02216)</td>\n",
       "      <td>0.999999</td>\n",
       "    </tr>\n",
       "    <tr>\n",
       "      <th>1</th>\n",
       "      <td>1</td>\n",
       "      <td>(R02216, HSDxi)</td>\n",
       "      <td>0.999999</td>\n",
       "    </tr>\n",
       "    <tr>\n",
       "      <th>2</th>\n",
       "      <td>2</td>\n",
       "      <td>(R02216, LNS14DMx)</td>\n",
       "      <td>0.999999</td>\n",
       "    </tr>\n",
       "    <tr>\n",
       "      <th>3</th>\n",
       "      <td>3</td>\n",
       "      <td>(LNS14DMx, R02216)</td>\n",
       "      <td>0.999999</td>\n",
       "    </tr>\n",
       "    <tr>\n",
       "      <th>4</th>\n",
       "      <td>4</td>\n",
       "      <td>(GLUSx, R02216)</td>\n",
       "      <td>0.999999</td>\n",
       "    </tr>\n",
       "    <tr>\n",
       "      <th>5</th>\n",
       "      <td>5</td>\n",
       "      <td>(ALCD23xi, R02216)</td>\n",
       "      <td>0.999999</td>\n",
       "    </tr>\n",
       "    <tr>\n",
       "      <th>6</th>\n",
       "      <td>7</td>\n",
       "      <td>(R02216, MDH)</td>\n",
       "      <td>0.999999</td>\n",
       "    </tr>\n",
       "    <tr>\n",
       "      <th>7</th>\n",
       "      <td>8</td>\n",
       "      <td>(GAPD,)</td>\n",
       "      <td>0.875007</td>\n",
       "    </tr>\n",
       "    <tr>\n",
       "      <th>8</th>\n",
       "      <td>11</td>\n",
       "      <td>(ALCD26xi,)</td>\n",
       "      <td>0.874999</td>\n",
       "    </tr>\n",
       "    <tr>\n",
       "      <th>9</th>\n",
       "      <td>12</td>\n",
       "      <td>(G3PD1ir,)</td>\n",
       "      <td>0.874999</td>\n",
       "    </tr>\n",
       "  </tbody>\n",
       "</table>\n",
       "</div>"
      ],
      "text/plain": [
       "<cameo.strain_design.heuristic.evolutionary.optimization.TargetOptimizationResult at 0x7f1347778cd0>"
      ]
     },
     "execution_count": 12,
     "metadata": {},
     "output_type": "execute_result"
    }
   ],
   "source": [
    "solution"
   ]
  },
  {
   "cell_type": "code",
   "execution_count": 13,
   "metadata": {},
   "outputs": [
    {
     "data": {
      "text/plain": [
       "0         (MDH, R02216)\n",
       "1       (R02216, HSDxi)\n",
       "2    (R02216, LNS14DMx)\n",
       "3    (LNS14DMx, R02216)\n",
       "4       (GLUSx, R02216)\n",
       "5    (ALCD23xi, R02216)\n",
       "6         (R02216, MDH)\n",
       "7               (GAPD,)\n",
       "8           (ALCD26xi,)\n",
       "9            (G3PD1ir,)\n",
       "Name: targets, dtype: object"
      ]
     },
     "execution_count": 13,
     "metadata": {},
     "output_type": "execute_result"
    }
   ],
   "source": [
    "reactions=solution.data_frame.targets\n",
    "reactions"
   ]
  },
  {
   "cell_type": "code",
   "execution_count": 14,
   "metadata": {},
   "outputs": [
    {
     "name": "stdout",
     "output_type": "stream",
     "text": [
      "Reactions:\n",
      "L-Malate + Nicotinamide adenine dinucleotide ==> H+ + Oxaloacetate + Nicotinamide adenine dinucleotide - reduced\n",
      "\n",
      "pregnenolone + Nicotinamide adenine dinucleotide ==> progesterone + H+ + Nicotinamide adenine dinucleotide - reduced\n",
      "\n",
      "Reactions:\n",
      "pregnenolone + Nicotinamide adenine dinucleotide ==> progesterone + H+ + Nicotinamide adenine dinucleotide - reduced\n",
      "\n",
      "L-Aspartate 4-semialdehyde + H+ + Nicotinamide adenine dinucleotide - reduced ==> L-Homoserine + Nicotinamide adenine dinucleotide\n",
      "\n",
      "Reactions:\n",
      "pregnenolone + Nicotinamide adenine dinucleotide ==> progesterone + H+ + Nicotinamide adenine dinucleotide - reduced\n",
      "\n",
      "H+ + Lanosterol C30H50O + O2 O2 + Nicotinamide adenine dinucleotide - reduced ==> 4 4 dimethylcholesta 8 14 24 trienol C29H46O + Formate + H2O H2O + Nicotinamide adenine dinucleotide\n",
      "\n",
      "Reactions:\n",
      "H+ + Lanosterol C30H50O + O2 O2 + Nicotinamide adenine dinucleotide - reduced ==> 4 4 dimethylcholesta 8 14 24 trienol C29H46O + Formate + H2O H2O + Nicotinamide adenine dinucleotide\n",
      "\n",
      "pregnenolone + Nicotinamide adenine dinucleotide ==> progesterone + H+ + Nicotinamide adenine dinucleotide - reduced\n",
      "\n",
      "Reactions:\n",
      "2-Oxoglutarate + L-Glutamine + H+ + Nicotinamide adenine dinucleotide - reduced ==> L-Glutamate + Nicotinamide adenine dinucleotide\n",
      "\n",
      "pregnenolone + Nicotinamide adenine dinucleotide ==> progesterone + H+ + Nicotinamide adenine dinucleotide - reduced\n",
      "\n",
      "Reactions:\n",
      "2 methylpropanal C4H8O + H+ + Nicotinamide adenine dinucleotide - reduced ==> Isobutyl alcohol C4H10O + Nicotinamide adenine dinucleotide\n",
      "\n",
      "pregnenolone + Nicotinamide adenine dinucleotide ==> progesterone + H+ + Nicotinamide adenine dinucleotide - reduced\n",
      "\n",
      "Reactions:\n",
      "pregnenolone + Nicotinamide adenine dinucleotide ==> progesterone + H+ + Nicotinamide adenine dinucleotide - reduced\n",
      "\n",
      "L-Malate + Nicotinamide adenine dinucleotide ==> H+ + Oxaloacetate + Nicotinamide adenine dinucleotide - reduced\n",
      "\n",
      "Reactions:\n",
      "Glyceraldehyde 3-phosphate + Phosphate + Nicotinamide adenine dinucleotide ==> 3-Phospho-D-glyceroyl phosphate + H+ + Nicotinamide adenine dinucleotide - reduced\n",
      "\n",
      "Reactions:\n",
      "H+ + Indole 3 acetaldehyde C10H9NO + Nicotinamide adenine dinucleotide - reduced ==> Indole 3 ethanol C10H11NO + Nicotinamide adenine dinucleotide\n",
      "\n",
      "Reactions:\n",
      "Dihydroxyacetone phosphate + H+ + Nicotinamide adenine dinucleotide - reduced ==> Glycerol 3-phosphate + Nicotinamide adenine dinucleotide\n",
      "\n"
     ]
    }
   ],
   "source": [
    "for t in reactions:\n",
    "    print(\"Reactions:\")\n",
    "    for id in t:\n",
    "        r=model.reactions.get_by_id(id)\n",
    "        #print(r.name, id+\",\",\"Fitness:\", solution.data_frame.fitness[id][10])\n",
    "        s=\"\"\n",
    "        for rea in range(len(r.reactants)):\n",
    "            if rea==len(r.reactants)-1:\n",
    "                s+=r.reactants[rea].name+\" ==> \"\n",
    "            else:\n",
    "                s+=r.reactants[rea].name+\" + \"\n",
    "        for p in range(len(r.products)):\n",
    "            if p==len(r.products)-1:\n",
    "                s+=r.products[p].name\n",
    "            else:\n",
    "                s+=r.products[p].name+\" + \"\n",
    "        print(s)\n",
    "        print()"
   ]
  }
 ],
 "metadata": {
  "kernelspec": {
   "display_name": "Python 3.9.7 ('thedream')",
   "language": "python",
   "name": "python3"
  },
  "language_info": {
   "codemirror_mode": {
    "name": "ipython",
    "version": 3
   },
   "file_extension": ".py",
   "mimetype": "text/x-python",
   "name": "python",
   "nbconvert_exporter": "python",
   "pygments_lexer": "ipython3",
   "version": "3.9.7"
  },
  "orig_nbformat": 4,
  "vscode": {
   "interpreter": {
    "hash": "fda4ecd6cc57b5afa512adcd7f6c6e5bba31f69455292c4ced40ed9bda2cf5eb"
   }
  }
 },
 "nbformat": 4,
 "nbformat_minor": 2
}
