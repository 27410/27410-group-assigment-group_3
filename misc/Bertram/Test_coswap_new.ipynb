{
 "cells": [
  {
   "cell_type": "code",
   "execution_count": 15,
   "metadata": {},
   "outputs": [],
   "source": [
    "# Load libraries\n",
    "import numpy as np\n",
    "from cobra.io import read_sbml_model, write_sbml_model\n",
    "from cobra.util import create_stoichiometric_matrix\n",
    "from cobra import Reaction, Metabolite\n",
    "from cobra.core.gene import GPR\n",
    "\n",
    "#From Marks report\n",
    "from cameo.strain_design.heuristic.evolutionary.objective_functions import product_yield\n",
    "from cameo.strain_design.heuristic.evolutionary_based import CofactorSwapOptimization"
   ]
  },
  {
   "cell_type": "code",
   "execution_count": 16,
   "metadata": {},
   "outputs": [],
   "source": [
    "from cameo.strain_design.heuristic.evolutionary.optimization import CofactorSwapOptimization\n",
    "from cameo.strain_design.heuristic.evolutionary.objective_functions import product_yield\n",
    "from cameo.strain_design.heuristic.evolutionary.objective_functions import biomass_product_coupled_yield\n",
    "from cameo.util import TimeMachine\n",
    "from cameo.flux_analysis.analysis import flux_variability_analysis as fva"
   ]
  },
  {
   "cell_type": "code",
   "execution_count": 55,
   "metadata": {},
   "outputs": [
    {
     "name": "stdout",
     "output_type": "stream",
     "text": [
      "Loading ../../models/iMM904_progesterone_fixed.xml\n"
     ]
    }
   ],
   "source": [
    "from cameo import load_model\n",
    "\n",
    "infilename = '../../models/iMM904_progesterone_fixed.xml'\n",
    "print(f\"Loading {infilename}\")\n",
    "#model = read_sbml_model(infilename)\n",
    "model = load_model(infilename)"
   ]
  },
  {
   "cell_type": "code",
   "execution_count": 56,
   "metadata": {},
   "outputs": [
    {
     "data": {
      "text/html": [
       "\n",
       "        <table>\n",
       "            <tr>\n",
       "                <td><strong>Reaction identifier</strong></td><td>DM_progesterone_c</td>\n",
       "            </tr><tr>\n",
       "                <td><strong>Name</strong></td><td>progesterone demand</td>\n",
       "            </tr><tr>\n",
       "                <td><strong>Memory address</strong></td>\n",
       "                <td>0x07f134775d2e0</td>\n",
       "            </tr><tr>\n",
       "                <td><strong>Stoichiometry</strong></td>\n",
       "                <td>\n",
       "                    <p style='text-align:right'>progesterone_c --></p>\n",
       "                    <p style='text-align:right'>progesterone --></p>\n",
       "                </td>\n",
       "            </tr><tr>\n",
       "                <td><strong>GPR</strong></td><td></td>\n",
       "            </tr><tr>\n",
       "                <td><strong>Lower bound</strong></td><td>0</td>\n",
       "            </tr><tr>\n",
       "                <td><strong>Upper bound</strong></td><td>1000.0</td>\n",
       "            </tr>\n",
       "        </table>\n",
       "        "
      ],
      "text/plain": [
       "<Reaction DM_progesterone_c at 0x7f134775d2e0>"
      ]
     },
     "execution_count": 56,
     "metadata": {},
     "output_type": "execute_result"
    }
   ],
   "source": [
    "# This information is needed to make the model produce progesterone. Otherwise, no progesterone is produced. \n",
    "model.add_boundary(model.metabolites.get_by_id('progesterone_c'), type='demand')"
   ]
  },
  {
   "cell_type": "code",
   "execution_count": 19,
   "metadata": {},
   "outputs": [
    {
     "data": {
      "text/html": [
       "<strong><em>Optimal</em> solution with objective value 0.288</strong><br><div>\n",
       "<style scoped>\n",
       "    .dataframe tbody tr th:only-of-type {\n",
       "        vertical-align: middle;\n",
       "    }\n",
       "\n",
       "    .dataframe tbody tr th {\n",
       "        vertical-align: top;\n",
       "    }\n",
       "\n",
       "    .dataframe thead th {\n",
       "        text-align: right;\n",
       "    }\n",
       "</style>\n",
       "<table border=\"1\" class=\"dataframe\">\n",
       "  <thead>\n",
       "    <tr style=\"text-align: right;\">\n",
       "      <th></th>\n",
       "      <th>fluxes</th>\n",
       "      <th>reduced_costs</th>\n",
       "    </tr>\n",
       "  </thead>\n",
       "  <tbody>\n",
       "    <tr>\n",
       "      <th>CITtcp</th>\n",
       "      <td>0.00000</td>\n",
       "      <td>-0.000000e+00</td>\n",
       "    </tr>\n",
       "    <tr>\n",
       "      <th>13BGH</th>\n",
       "      <td>0.00000</td>\n",
       "      <td>-4.751566e-02</td>\n",
       "    </tr>\n",
       "    <tr>\n",
       "      <th>13BGHe</th>\n",
       "      <td>0.00000</td>\n",
       "      <td>1.040834e-17</td>\n",
       "    </tr>\n",
       "    <tr>\n",
       "      <th>13GS</th>\n",
       "      <td>0.32667</td>\n",
       "      <td>-6.938894e-18</td>\n",
       "    </tr>\n",
       "    <tr>\n",
       "      <th>16GS</th>\n",
       "      <td>0.00000</td>\n",
       "      <td>-9.503132e-02</td>\n",
       "    </tr>\n",
       "    <tr>\n",
       "      <th>...</th>\n",
       "      <td>...</td>\n",
       "      <td>...</td>\n",
       "    </tr>\n",
       "    <tr>\n",
       "      <th>R07215</th>\n",
       "      <td>0.00000</td>\n",
       "      <td>-6.612596e-02</td>\n",
       "    </tr>\n",
       "    <tr>\n",
       "      <th>R04804</th>\n",
       "      <td>0.00000</td>\n",
       "      <td>-1.332418e+00</td>\n",
       "    </tr>\n",
       "    <tr>\n",
       "      <th>R_methylpentanal_t</th>\n",
       "      <td>0.00000</td>\n",
       "      <td>0.000000e+00</td>\n",
       "    </tr>\n",
       "    <tr>\n",
       "      <th>SK_methylpentanal_e</th>\n",
       "      <td>0.00000</td>\n",
       "      <td>0.000000e+00</td>\n",
       "    </tr>\n",
       "    <tr>\n",
       "      <th>DM_progesterone_c</th>\n",
       "      <td>0.00000</td>\n",
       "      <td>0.000000e+00</td>\n",
       "    </tr>\n",
       "  </tbody>\n",
       "</table>\n",
       "<p>1588 rows × 2 columns</p>\n",
       "</div>"
      ],
      "text/plain": [
       "<Solution 0.288 at 0x7f13477bac40>"
      ]
     },
     "execution_count": 19,
     "metadata": {},
     "output_type": "execute_result"
    }
   ],
   "source": [
    "# Finding the optimal fluxes through each reaction when the objective is biomass production \n",
    "Fluxes=model.optimize()\n",
    "Fluxes"
   ]
  },
  {
   "cell_type": "code",
   "execution_count": 20,
   "metadata": {},
   "outputs": [],
   "source": [
    "#Choose the reaction that produced progesterone as the objective.\n",
    "model.objective = model.reactions.R02216"
   ]
  },
  {
   "cell_type": "code",
   "execution_count": 58,
   "metadata": {},
   "outputs": [],
   "source": [
    "# Calculate the progesterone yield from glucose as substrate\n",
    "py = product_yield(model.reactions.R02216, model.exchanges.EX_glc__D_e)\n",
    "\n",
    "#optswap = CofactorSwapOptimization(model=model, objective_function=py)"
   ]
  },
  {
   "cell_type": "code",
   "execution_count": 59,
   "metadata": {},
   "outputs": [
    {
     "data": {
      "text/plain": [
       "<cameo.strain_design.heuristic.evolutionary.optimization.CofactorSwapOptimization at 0x7f131e60c7f0>"
      ]
     },
     "execution_count": 59,
     "metadata": {},
     "output_type": "execute_result"
    }
   ],
   "source": [
    "#optswap"
   ]
  },
  {
   "cell_type": "code",
   "execution_count": 61,
   "metadata": {},
   "outputs": [
    {
     "data": {
      "text/plain": [
       "<cameo.strain_design.heuristic.evolutionary.optimization.CofactorSwapOptimization at 0x7f131e60fc40>"
      ]
     },
     "execution_count": 61,
     "metadata": {},
     "output_type": "execute_result"
    }
   ],
   "source": [
    "# Find reactions that all have the targeted co-factor pairs and add reactions that have the co-factors seapped.\n",
    "swap_optimization = CofactorSwapOptimization(model=model, cofactor_id_swaps=([\"nad_c\",\"nadh_c\"],[\"fad_c\",\"fadh2_m\"]),objective_function=py)\n",
    "# VIRKER!!!!!!!!!!!!!!!!!!!!!!!!!!!!!\n",
    "swap_optimization"
   ]
  },
  {
   "cell_type": "code",
   "execution_count": 36,
   "metadata": {},
   "outputs": [
    {
     "name": "stdout",
     "output_type": "stream",
     "text": [
      "Starting optimization at Fri, 18 Nov 2022 11:02:40\n"
     ]
    },
    {
     "data": {
      "application/vnd.jupyter.widget-view+json": {
       "model_id": "92a9881f6e384240a3af32b689214a38",
       "version_major": 2,
       "version_minor": 0
      },
      "text/plain": [
       "HBox()"
      ]
     },
     "metadata": {},
     "output_type": "display_data"
    },
    {
     "name": "stdout",
     "output_type": "stream",
     "text": [
      "Finished after 00:00:52\n"
     ]
    }
   ],
   "source": [
    "# Identify the reactions that when swapped to another co-factor improve the production of progesterone\n",
    "solution=swap_optimization.run(max_size=20)"
   ]
  },
  {
   "cell_type": "code",
   "execution_count": 37,
   "metadata": {},
   "outputs": [
    {
     "data": {
      "text/html": [
       "\n",
       "        <h4>Result:</h4>\n",
       "        <ul>\n",
       "            <li>model: iMM904</li>\n",
       "            <li>heuristic: GA</li>\n",
       "            <li>objective function: $$yield = \\frac{R02216}{EX\\_glc\\_\\_D\\_e}$$</li>\n",
       "            <li>simulation method: pfba</li>\n",
       "            <li>target type: cofactor-swap</li>\n",
       "        <ul>\n",
       "        <div>\n",
       "<style scoped>\n",
       "    .dataframe tbody tr th:only-of-type {\n",
       "        vertical-align: middle;\n",
       "    }\n",
       "\n",
       "    .dataframe tbody tr th {\n",
       "        vertical-align: top;\n",
       "    }\n",
       "\n",
       "    .dataframe thead th {\n",
       "        text-align: right;\n",
       "    }\n",
       "</style>\n",
       "<table border=\"1\" class=\"dataframe\">\n",
       "  <thead>\n",
       "    <tr style=\"text-align: right;\">\n",
       "      <th></th>\n",
       "      <th>index</th>\n",
       "      <th>targets</th>\n",
       "      <th>fitness</th>\n",
       "    </tr>\n",
       "  </thead>\n",
       "  <tbody>\n",
       "    <tr>\n",
       "      <th>0</th>\n",
       "      <td>0</td>\n",
       "      <td>(R02216, GAPD)</td>\n",
       "      <td>0.561771</td>\n",
       "    </tr>\n",
       "    <tr>\n",
       "      <th>1</th>\n",
       "      <td>1</td>\n",
       "      <td>(GAPD,)</td>\n",
       "      <td>0.519898</td>\n",
       "    </tr>\n",
       "    <tr>\n",
       "      <th>2</th>\n",
       "      <td>5</td>\n",
       "      <td>(ALCD23xi, ALCD2ir, ALCD2x_copy2, R02216, BTDD...</td>\n",
       "      <td>0.414508</td>\n",
       "    </tr>\n",
       "    <tr>\n",
       "      <th>3</th>\n",
       "      <td>9</td>\n",
       "      <td>(G3PD1ir, ALCD2ir, ALCD2x_copy2, GLUSx, MDH)</td>\n",
       "      <td>0.313230</td>\n",
       "    </tr>\n",
       "    <tr>\n",
       "      <th>4</th>\n",
       "      <td>10</td>\n",
       "      <td>(ALCD2x_copy2, R02216)</td>\n",
       "      <td>0.237624</td>\n",
       "    </tr>\n",
       "    <tr>\n",
       "      <th>5</th>\n",
       "      <td>11</td>\n",
       "      <td>(NADH2_u6cm, R02216)</td>\n",
       "      <td>0.237624</td>\n",
       "    </tr>\n",
       "    <tr>\n",
       "      <th>6</th>\n",
       "      <td>13</td>\n",
       "      <td>(R02216, C3STDH1, C3STDH2, LNS14DMx)</td>\n",
       "      <td>0.237624</td>\n",
       "    </tr>\n",
       "    <tr>\n",
       "      <th>7</th>\n",
       "      <td>18</td>\n",
       "      <td>(R02216, GLUSx)</td>\n",
       "      <td>0.234146</td>\n",
       "    </tr>\n",
       "    <tr>\n",
       "      <th>8</th>\n",
       "      <td>19</td>\n",
       "      <td>(R02216, LNS14DMx)</td>\n",
       "      <td>0.230769</td>\n",
       "    </tr>\n",
       "    <tr>\n",
       "      <th>9</th>\n",
       "      <td>20</td>\n",
       "      <td>(GLUSx, R02216)</td>\n",
       "      <td>0.230769</td>\n",
       "    </tr>\n",
       "    <tr>\n",
       "      <th>10</th>\n",
       "      <td>22</td>\n",
       "      <td>(ALCD2x_copy2,)</td>\n",
       "      <td>0.207921</td>\n",
       "    </tr>\n",
       "    <tr>\n",
       "      <th>11</th>\n",
       "      <td>23</td>\n",
       "      <td>(ALCD2x_copy1,)</td>\n",
       "      <td>0.207921</td>\n",
       "    </tr>\n",
       "    <tr>\n",
       "      <th>12</th>\n",
       "      <td>24</td>\n",
       "      <td>(NADH2_u6cm,)</td>\n",
       "      <td>0.207921</td>\n",
       "    </tr>\n",
       "    <tr>\n",
       "      <th>13</th>\n",
       "      <td>25</td>\n",
       "      <td>(ALCD22xi,)</td>\n",
       "      <td>0.205882</td>\n",
       "    </tr>\n",
       "    <tr>\n",
       "      <th>14</th>\n",
       "      <td>26</td>\n",
       "      <td>(C3STDH2, LNS14DMx)</td>\n",
       "      <td>0.201923</td>\n",
       "    </tr>\n",
       "    <tr>\n",
       "      <th>15</th>\n",
       "      <td>27</td>\n",
       "      <td>(HSDxi,)</td>\n",
       "      <td>0.201923</td>\n",
       "    </tr>\n",
       "  </tbody>\n",
       "</table>\n",
       "</div>"
      ],
      "text/plain": [
       "<cameo.strain_design.heuristic.evolutionary.optimization.TargetOptimizationResult at 0x7f133d86b520>"
      ]
     },
     "execution_count": 37,
     "metadata": {},
     "output_type": "execute_result"
    }
   ],
   "source": [
    "solution"
   ]
  },
  {
   "cell_type": "code",
   "execution_count": 38,
   "metadata": {},
   "outputs": [
    {
     "data": {
      "text/plain": [
       "0                                        (R02216, GAPD)\n",
       "1                                               (GAPD,)\n",
       "2     (ALCD23xi, ALCD2ir, ALCD2x_copy2, R02216, BTDD...\n",
       "3          (G3PD1ir, ALCD2ir, ALCD2x_copy2, GLUSx, MDH)\n",
       "4                                (ALCD2x_copy2, R02216)\n",
       "5                                  (NADH2_u6cm, R02216)\n",
       "6                  (R02216, C3STDH1, C3STDH2, LNS14DMx)\n",
       "7                                       (R02216, GLUSx)\n",
       "8                                    (R02216, LNS14DMx)\n",
       "9                                       (GLUSx, R02216)\n",
       "10                                      (ALCD2x_copy2,)\n",
       "11                                      (ALCD2x_copy1,)\n",
       "12                                        (NADH2_u6cm,)\n",
       "13                                          (ALCD22xi,)\n",
       "14                                  (C3STDH2, LNS14DMx)\n",
       "15                                             (HSDxi,)\n",
       "Name: targets, dtype: object"
      ]
     },
     "execution_count": 38,
     "metadata": {},
     "output_type": "execute_result"
    }
   ],
   "source": [
    "reactions=solution.data_frame.targets\n",
    "reactions"
   ]
  },
  {
   "cell_type": "code",
   "execution_count": 44,
   "metadata": {},
   "outputs": [
    {
     "name": "stdout",
     "output_type": "stream",
     "text": [
      "Reactions:\n",
      "pregnenolone + Nicotinamide adenine dinucleotide ==> progesterone + Nicotinamide adenine dinucleotide - reduced + H+\n",
      "\n",
      "Glyceraldehyde 3-phosphate + Nicotinamide adenine dinucleotide + Phosphate ==> 3-Phospho-D-glyceroyl phosphate + H+ + Nicotinamide adenine dinucleotide - reduced\n",
      "\n",
      "Reactions:\n",
      "Glyceraldehyde 3-phosphate + Nicotinamide adenine dinucleotide + Phosphate ==> 3-Phospho-D-glyceroyl phosphate + H+ + Nicotinamide adenine dinucleotide - reduced\n",
      "\n",
      "Reactions:\n",
      "2 methylpropanal C4H8O + H+ + Nicotinamide adenine dinucleotide - reduced ==> Isobutyl alcohol C4H10O + Nicotinamide adenine dinucleotide\n",
      "\n",
      "Acetaldehyde + H+ + Nicotinamide adenine dinucleotide - reduced ==> Ethanol + Nicotinamide adenine dinucleotide\n",
      "\n",
      "Ethanol + Nicotinamide adenine dinucleotide ==> Acetaldehyde + H+ + Nicotinamide adenine dinucleotide - reduced\n",
      "\n",
      "pregnenolone + Nicotinamide adenine dinucleotide ==> progesterone + Nicotinamide adenine dinucleotide - reduced + H+\n",
      "\n",
      " R R  2 3 Butanediol C4H10O2 + Nicotinamide adenine dinucleotide ==>  R  Acetoin C4H8O2 + H+ + Nicotinamide adenine dinucleotide - reduced\n",
      "\n",
      "L-Malate + Nicotinamide adenine dinucleotide ==> H+ + Nicotinamide adenine dinucleotide - reduced + Oxaloacetate\n",
      "\n",
      "Reactions:\n",
      "Dihydroxyacetone phosphate + H+ + Nicotinamide adenine dinucleotide - reduced ==> Glycerol 3-phosphate + Nicotinamide adenine dinucleotide\n",
      "\n",
      "Acetaldehyde + H+ + Nicotinamide adenine dinucleotide - reduced ==> Ethanol + Nicotinamide adenine dinucleotide\n",
      "\n",
      "Ethanol + Nicotinamide adenine dinucleotide ==> Acetaldehyde + H+ + Nicotinamide adenine dinucleotide - reduced\n",
      "\n",
      "2-Oxoglutarate + L-Glutamine + H+ + Nicotinamide adenine dinucleotide - reduced ==> L-Glutamate + Nicotinamide adenine dinucleotide\n",
      "\n",
      "L-Malate + Nicotinamide adenine dinucleotide ==> H+ + Nicotinamide adenine dinucleotide - reduced + Oxaloacetate\n",
      "\n",
      "Reactions:\n",
      "Ethanol + Nicotinamide adenine dinucleotide ==> Acetaldehyde + H+ + Nicotinamide adenine dinucleotide - reduced\n",
      "\n",
      "pregnenolone + Nicotinamide adenine dinucleotide ==> progesterone + Nicotinamide adenine dinucleotide - reduced + H+\n",
      "\n",
      "Reactions:\n",
      "H+ + Nicotinamide adenine dinucleotide - reduced + Ubiquinone 6 C39H58O4 ==> Nicotinamide adenine dinucleotide + Ubiquinol 6 C39H60O4\n",
      "\n",
      "pregnenolone + Nicotinamide adenine dinucleotide ==> progesterone + Nicotinamide adenine dinucleotide - reduced + H+\n",
      "\n",
      "Reactions:\n",
      "pregnenolone + Nicotinamide adenine dinucleotide ==> progesterone + Nicotinamide adenine dinucleotide - reduced + H+\n",
      "\n",
      "4 Methylzymosterol intermediate 1 C29H46O3 + Nicotinamide adenine dinucleotide ==> 4 Methylzymosterol intermediate 2 C28H44O + CO2 CO2 + H+ + Nicotinamide adenine dinucleotide - reduced\n",
      "\n",
      "Nicotinamide adenine dinucleotide + Zymosterol intermediate 1 C28H44O3 ==> CO2 CO2 + H+ + Nicotinamide adenine dinucleotide - reduced + Zymosterol intermediate 2 C27H42O\n",
      "\n",
      "H+ + Lanosterol C30H50O + Nicotinamide adenine dinucleotide - reduced + O2 O2 ==> 4 4 dimethylcholesta 8 14 24 trienol C29H46O + Formate + H2O H2O + Nicotinamide adenine dinucleotide\n",
      "\n",
      "Reactions:\n",
      "pregnenolone + Nicotinamide adenine dinucleotide ==> progesterone + Nicotinamide adenine dinucleotide - reduced + H+\n",
      "\n",
      "2-Oxoglutarate + L-Glutamine + H+ + Nicotinamide adenine dinucleotide - reduced ==> L-Glutamate + Nicotinamide adenine dinucleotide\n",
      "\n",
      "Reactions:\n",
      "pregnenolone + Nicotinamide adenine dinucleotide ==> progesterone + Nicotinamide adenine dinucleotide - reduced + H+\n",
      "\n",
      "H+ + Lanosterol C30H50O + Nicotinamide adenine dinucleotide - reduced + O2 O2 ==> 4 4 dimethylcholesta 8 14 24 trienol C29H46O + Formate + H2O H2O + Nicotinamide adenine dinucleotide\n",
      "\n",
      "Reactions:\n",
      "2-Oxoglutarate + L-Glutamine + H+ + Nicotinamide adenine dinucleotide - reduced ==> L-Glutamate + Nicotinamide adenine dinucleotide\n",
      "\n",
      "pregnenolone + Nicotinamide adenine dinucleotide ==> progesterone + Nicotinamide adenine dinucleotide - reduced + H+\n",
      "\n",
      "Reactions:\n",
      "Ethanol + Nicotinamide adenine dinucleotide ==> Acetaldehyde + H+ + Nicotinamide adenine dinucleotide - reduced\n",
      "\n",
      "Reactions:\n",
      "Ethanol + Nicotinamide adenine dinucleotide ==> Acetaldehyde + H+ + Nicotinamide adenine dinucleotide - reduced\n",
      "\n",
      "Reactions:\n",
      "H+ + Nicotinamide adenine dinucleotide - reduced + Ubiquinone 6 C39H58O4 ==> Nicotinamide adenine dinucleotide + Ubiquinol 6 C39H60O4\n",
      "\n",
      "Reactions:\n",
      "2 methylbutyraldehyde C5H10O + H+ + Nicotinamide adenine dinucleotide - reduced ==> 2 methyl 1 butanol C5H12O + Nicotinamide adenine dinucleotide\n",
      "\n",
      "Reactions:\n",
      "Nicotinamide adenine dinucleotide + Zymosterol intermediate 1 C28H44O3 ==> CO2 CO2 + H+ + Nicotinamide adenine dinucleotide - reduced + Zymosterol intermediate 2 C27H42O\n",
      "\n",
      "H+ + Lanosterol C30H50O + Nicotinamide adenine dinucleotide - reduced + O2 O2 ==> 4 4 dimethylcholesta 8 14 24 trienol C29H46O + Formate + H2O H2O + Nicotinamide adenine dinucleotide\n",
      "\n",
      "Reactions:\n",
      "L-Aspartate 4-semialdehyde + H+ + Nicotinamide adenine dinucleotide - reduced ==> L-Homoserine + Nicotinamide adenine dinucleotide\n",
      "\n"
     ]
    }
   ],
   "source": [
    "for t in reactions:\n",
    "    print(\"Reactions:\")\n",
    "    for id in t:\n",
    "        r=model.reactions.get_by_id(id)\n",
    "        #print(r.name, id+\",\",\"Fitness:\", solution.data_frame.fitness[id][10])\n",
    "        s=\"\"\n",
    "        for rea in range(len(r.reactants)):\n",
    "            if rea==len(r.reactants)-1:\n",
    "                s+=r.reactants[rea].name+\" ==> \"\n",
    "            else:\n",
    "                s+=r.reactants[rea].name+\" + \"\n",
    "        for p in range(len(r.products)):\n",
    "            if p==len(r.products)-1:\n",
    "                s+=r.products[p].name\n",
    "            else:\n",
    "                s+=r.products[p].name+\" + \"\n",
    "        print(s)\n",
    "        print()"
   ]
  }
 ],
 "metadata": {
  "kernelspec": {
   "display_name": "Python 3.9.7 ('thedream')",
   "language": "python",
   "name": "python3"
  },
  "language_info": {
   "codemirror_mode": {
    "name": "ipython",
    "version": 3
   },
   "file_extension": ".py",
   "mimetype": "text/x-python",
   "name": "python",
   "nbconvert_exporter": "python",
   "pygments_lexer": "ipython3",
   "version": "3.9.7"
  },
  "orig_nbformat": 4,
  "vscode": {
   "interpreter": {
    "hash": "fda4ecd6cc57b5afa512adcd7f6c6e5bba31f69455292c4ced40ed9bda2cf5eb"
   }
  }
 },
 "nbformat": 4,
 "nbformat_minor": 2
}
