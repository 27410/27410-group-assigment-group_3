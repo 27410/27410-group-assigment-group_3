{
 "cells": [
  {
   "cell_type": "markdown",
   "metadata": {},
   "source": [
    "## Test cameo cofactor swapping\n",
    "\n",
    "Read about cameo publication here: \n",
    "https://pubs.acs.org/doi/full/10.1021/acssynbio.7b00423\n",
    "\n",
    "Some cameo code:\n",
    "https://pythonhosted.org/cameo/apidoc_output/cameo.core.html\n",
    "\n",
    "Co-factor swap by Mark et al:\n",
    "https://github.com/27410/group-assignment-2021-Group-69420-lycopene-production-in-S.cerevisiae/blob/main/06_cofactor_swap.ipynb\n",
    "\n",
    "\n",
    "IMPORTANT: to run this, do it from Freds environment, \"thedream\". \n",
    "\n",
    "OptSwap article about NAD and NADH :D \n",
    "https://www.sciencedirect.com/science/article/pii/S1096717614000688\n"
   ]
  },
  {
   "cell_type": "code",
   "execution_count": 22,
   "metadata": {},
   "outputs": [],
   "source": [
    "# Load libraries\n",
    "import numpy as np\n",
    "from cobra.io import read_sbml_model, write_sbml_model\n",
    "from cobra.util import create_stoichiometric_matrix\n",
    "from cobra import Reaction, Metabolite\n",
    "from cobra.core.gene import GPR\n",
    "\n",
    "\n",
    "#From Marks report\n",
    "from cameo.strain_design.heuristic.evolutionary.objective_functions import product_yield\n",
    "from cameo.strain_design.heuristic.evolutionary_based import CofactorSwapOptimization\n",
    "#from cobra.io import read_sbml_model\n",
    "#model = read_sbml_model('models/yeast_lyco.xml')"
   ]
  },
  {
   "cell_type": "code",
   "execution_count": 59,
   "metadata": {},
   "outputs": [],
   "source": [
    "from cameo.strain_design.heuristic.evolutionary.optimization import CofactorSwapOptimization\n",
    "from cameo.strain_design.heuristic.evolutionary.objective_functions import product_yield\n",
    "from cameo.strain_design.heuristic.evolutionary.objective_functions import biomass_product_coupled_yield\n",
    "from cameo.util import TimeMachine\n",
    "from cameo.flux_analysis.analysis import flux_variability_analysis as fva"
   ]
  },
  {
   "cell_type": "code",
   "execution_count": 23,
   "metadata": {},
   "outputs": [],
   "source": [
    "from cameo import load_model"
   ]
  },
  {
   "cell_type": "code",
   "execution_count": 73,
   "metadata": {},
   "outputs": [
    {
     "name": "stdout",
     "output_type": "stream",
     "text": [
      "Loading ../../models/iMM904_progesterone_fixed.xml\n"
     ]
    }
   ],
   "source": [
    "# Loading model\n",
    "infilename = '../../models/iMM904_progesterone_fixed.xml'\n",
    "print(f\"Loading {infilename}\")\n",
    "model = read_sbml_model(infilename)\n",
    "#model2 = load_model(infilename)"
   ]
  },
  {
   "cell_type": "code",
   "execution_count": 74,
   "metadata": {},
   "outputs": [
    {
     "data": {
      "text/html": [
       "\n",
       "        <table>\n",
       "            <tr>\n",
       "                <td><strong>Reaction identifier</strong></td><td>DM_progesterone_c</td>\n",
       "            </tr><tr>\n",
       "                <td><strong>Name</strong></td><td>progesterone demand</td>\n",
       "            </tr><tr>\n",
       "                <td><strong>Memory address</strong></td>\n",
       "                <td>0x07f9758b090a0</td>\n",
       "            </tr><tr>\n",
       "                <td><strong>Stoichiometry</strong></td>\n",
       "                <td>\n",
       "                    <p style='text-align:right'>progesterone_c --></p>\n",
       "                    <p style='text-align:right'>progesterone --></p>\n",
       "                </td>\n",
       "            </tr><tr>\n",
       "                <td><strong>GPR</strong></td><td></td>\n",
       "            </tr><tr>\n",
       "                <td><strong>Lower bound</strong></td><td>0</td>\n",
       "            </tr><tr>\n",
       "                <td><strong>Upper bound</strong></td><td>1000.0</td>\n",
       "            </tr>\n",
       "        </table>\n",
       "        "
      ],
      "text/plain": [
       "<Reaction DM_progesterone_c at 0x7f9758b090a0>"
      ]
     },
     "execution_count": 74,
     "metadata": {},
     "output_type": "execute_result"
    }
   ],
   "source": [
    "# This information is needed to make the model produce progesterone. Otherwise, no progesterone is produced. \n",
    "\n",
    "model.add_boundary(model.metabolites.get_by_id('progesterone_c'), type='demand')"
   ]
  },
  {
   "cell_type": "code",
   "execution_count": 75,
   "metadata": {},
   "outputs": [
    {
     "data": {
      "text/html": [
       "<strong><em>Optimal</em> solution with objective value 0.288</strong><br><div>\n",
       "<style scoped>\n",
       "    .dataframe tbody tr th:only-of-type {\n",
       "        vertical-align: middle;\n",
       "    }\n",
       "\n",
       "    .dataframe tbody tr th {\n",
       "        vertical-align: top;\n",
       "    }\n",
       "\n",
       "    .dataframe thead th {\n",
       "        text-align: right;\n",
       "    }\n",
       "</style>\n",
       "<table border=\"1\" class=\"dataframe\">\n",
       "  <thead>\n",
       "    <tr style=\"text-align: right;\">\n",
       "      <th></th>\n",
       "      <th>fluxes</th>\n",
       "      <th>reduced_costs</th>\n",
       "    </tr>\n",
       "  </thead>\n",
       "  <tbody>\n",
       "    <tr>\n",
       "      <th>CITtcp</th>\n",
       "      <td>0.00000</td>\n",
       "      <td>-0.000000e+00</td>\n",
       "    </tr>\n",
       "    <tr>\n",
       "      <th>13BGH</th>\n",
       "      <td>0.00000</td>\n",
       "      <td>-4.751566e-02</td>\n",
       "    </tr>\n",
       "    <tr>\n",
       "      <th>13BGHe</th>\n",
       "      <td>0.00000</td>\n",
       "      <td>1.040834e-17</td>\n",
       "    </tr>\n",
       "    <tr>\n",
       "      <th>13GS</th>\n",
       "      <td>0.32667</td>\n",
       "      <td>-6.938894e-18</td>\n",
       "    </tr>\n",
       "    <tr>\n",
       "      <th>16GS</th>\n",
       "      <td>0.00000</td>\n",
       "      <td>-9.503132e-02</td>\n",
       "    </tr>\n",
       "    <tr>\n",
       "      <th>...</th>\n",
       "      <td>...</td>\n",
       "      <td>...</td>\n",
       "    </tr>\n",
       "    <tr>\n",
       "      <th>R07215</th>\n",
       "      <td>0.00000</td>\n",
       "      <td>-6.612596e-02</td>\n",
       "    </tr>\n",
       "    <tr>\n",
       "      <th>R04804</th>\n",
       "      <td>0.00000</td>\n",
       "      <td>-1.332418e+00</td>\n",
       "    </tr>\n",
       "    <tr>\n",
       "      <th>R_methylpentanal_t</th>\n",
       "      <td>0.00000</td>\n",
       "      <td>0.000000e+00</td>\n",
       "    </tr>\n",
       "    <tr>\n",
       "      <th>SK_methylpentanal_e</th>\n",
       "      <td>0.00000</td>\n",
       "      <td>0.000000e+00</td>\n",
       "    </tr>\n",
       "    <tr>\n",
       "      <th>DM_progesterone_c</th>\n",
       "      <td>0.00000</td>\n",
       "      <td>0.000000e+00</td>\n",
       "    </tr>\n",
       "  </tbody>\n",
       "</table>\n",
       "<p>1588 rows × 2 columns</p>\n",
       "</div>"
      ],
      "text/plain": [
       "<Solution 0.288 at 0x7f9749b903a0>"
      ]
     },
     "execution_count": 75,
     "metadata": {},
     "output_type": "execute_result"
    }
   ],
   "source": [
    "# What is this: optimize the model. How?\n",
    "Fluxes=model.optimize()\n",
    "Fluxes"
   ]
  },
  {
   "cell_type": "code",
   "execution_count": 88,
   "metadata": {},
   "outputs": [],
   "source": [
    "#Choose the reaction that produced progesterone as the objective.\n",
    "model.objective = model.reactions.R02216"
   ]
  },
  {
   "cell_type": "code",
   "execution_count": 98,
   "metadata": {},
   "outputs": [],
   "source": [
    "#Calculate the product yield \n",
    "\n",
    "py = product_yield(model.reactions.R02216, model.reactions.ECYP11A1)\n",
    "optswap = CofactorSwapOptimization(model=model, objective_function=py)"
   ]
  },
  {
   "cell_type": "code",
   "execution_count": 78,
   "metadata": {},
   "outputs": [
    {
     "data": {
      "text/plain": [
       "<cameo.strain_design.heuristic.evolutionary.optimization.CofactorSwapOptimization at 0x7f973fae0ac0>"
      ]
     },
     "execution_count": 78,
     "metadata": {},
     "output_type": "execute_result"
    }
   ],
   "source": [
    "optswap"
   ]
  },
  {
   "cell_type": "code",
   "execution_count": 99,
   "metadata": {},
   "outputs": [
    {
     "name": "stdout",
     "output_type": "stream",
     "text": [
      "Starting optimization at Thu, 17 Nov 2022 18:06:19\n"
     ]
    },
    {
     "data": {
      "application/vnd.jupyter.widget-view+json": {
       "model_id": "17854a1528244c748b960f77f38f3eaf",
       "version_major": 2,
       "version_minor": 0
      },
      "text/plain": [
       "HBox()"
      ]
     },
     "metadata": {},
     "output_type": "display_data"
    },
    {
     "name": "stdout",
     "output_type": "stream",
     "text": [
      "Finished after 00:00:25\n"
     ]
    }
   ],
   "source": [
    "solution = optswap.run()"
   ]
  },
  {
   "cell_type": "code",
   "execution_count": 100,
   "metadata": {},
   "outputs": [
    {
     "data": {
      "text/html": [
       "\n",
       "        <h4>Result:</h4>\n",
       "        <ul>\n",
       "            <li>model: iMM904</li>\n",
       "            <li>heuristic: GA</li>\n",
       "            <li>objective function: $$yield = \\frac{R02216}{ECYP11A1}$$</li>\n",
       "            <li>simulation method: pfba</li>\n",
       "            <li>target type: cofactor-swap</li>\n",
       "        <ul>\n",
       "        <div>\n",
       "<style scoped>\n",
       "    .dataframe tbody tr th:only-of-type {\n",
       "        vertical-align: middle;\n",
       "    }\n",
       "\n",
       "    .dataframe tbody tr th {\n",
       "        vertical-align: top;\n",
       "    }\n",
       "\n",
       "    .dataframe thead th {\n",
       "        text-align: right;\n",
       "    }\n",
       "</style>\n",
       "<table border=\"1\" class=\"dataframe\">\n",
       "  <thead>\n",
       "    <tr style=\"text-align: right;\">\n",
       "      <th></th>\n",
       "      <th>index</th>\n",
       "      <th>targets</th>\n",
       "      <th>fitness</th>\n",
       "    </tr>\n",
       "  </thead>\n",
       "  <tbody>\n",
       "  </tbody>\n",
       "</table>\n",
       "</div>"
      ],
      "text/plain": [
       "<cameo.strain_design.heuristic.evolutionary.optimization.TargetOptimizationResult at 0x7f972de73370>"
      ]
     },
     "execution_count": 100,
     "metadata": {},
     "output_type": "execute_result"
    }
   ],
   "source": [
    "solution"
   ]
  },
  {
   "cell_type": "code",
   "execution_count": null,
   "metadata": {},
   "outputs": [],
   "source": [
    "?optswap\n",
    "\n",
    "# As suggested in [1]_, flux through a given reaction can sometimes be optimized by swapping complementary\n",
    "# co-factor. This class implements a search for reactions when swapped improve the given objective. Briefly,\n",
    "# the approach is to\n",
    "\n",
    "# - find reactions that have all the targeted co-factor pairs e.g. (nad_c -> nadp_c, nadh_c -> nadph_c)\n",
    "\n",
    "# - add reactions that have the co-factors swapped and then by a search algorithm switching one off in favor of the\n",
    "#   other"
   ]
  },
  {
   "cell_type": "code",
   "execution_count": 35,
   "metadata": {},
   "outputs": [
    {
     "data": {
      "text/latex": [
       "$$yield = \\frac{R02216}{ECYP11A1}$$"
      ],
      "text/plain": [
       "<cameo.strain_design.heuristic.evolutionary.objective_functions.product_yield at 0x7f972dae1940>"
      ]
     },
     "execution_count": 35,
     "metadata": {},
     "output_type": "execute_result"
    }
   ],
   "source": [
    "py = product_yield(model.reactions.R02216, model.reactions.ECYP11A1)\n",
    "py"
   ]
  },
  {
   "cell_type": "code",
   "execution_count": 109,
   "metadata": {},
   "outputs": [
    {
     "data": {
      "text/plain": [
       "<cameo.strain_design.heuristic.evolutionary.optimization.CofactorSwapOptimization at 0x7f972de27c10>"
      ]
     },
     "execution_count": 109,
     "metadata": {},
     "output_type": "execute_result"
    }
   ],
   "source": [
    "swap_optimization = CofactorSwapOptimization(model=model, cofactor_id_swaps=([\"nad_c\",\"nadh_c\"],[\"fad_c\",\"fadh2_m\"]),objective_function=py)\n",
    "# VIRKER!!!!!!!!!!!!!!!!!!!!!!!!!!!!!\n",
    "\n",
    "#swap_optimization = CofactorSwapOptimization(model=model,objective_function=py)\n",
    "swap_optimization"
   ]
  },
  {
   "cell_type": "code",
   "execution_count": 110,
   "metadata": {},
   "outputs": [
    {
     "name": "stdout",
     "output_type": "stream",
     "text": [
      "Starting optimization at Thu, 17 Nov 2022 18:12:53\n"
     ]
    },
    {
     "name": "stderr",
     "output_type": "stream",
     "text": [
      "/home/trinebera/miniconda3/envs/thedream/lib/python3.9/site-packages/cameo/strain_design/heuristic/evolutionary/objective_functions.py:353: RuntimeWarning: invalid value encountered in double_scalars\n",
      "  return round(product_flux / substrate_flux, config.ndecimals)\n",
      "/home/trinebera/miniconda3/envs/thedream/lib/python3.9/site-packages/cameo/strain_design/heuristic/evolutionary/objective_functions.py:353: RuntimeWarning: invalid value encountered in double_scalars\n",
      "  return round(product_flux / substrate_flux, config.ndecimals)\n"
     ]
    },
    {
     "data": {
      "application/vnd.jupyter.widget-view+json": {
       "model_id": "d0996f1c6818473d953b20ebda7b59ed",
       "version_major": 2,
       "version_minor": 0
      },
      "text/plain": [
       "HBox()"
      ]
     },
     "metadata": {},
     "output_type": "display_data"
    },
    {
     "name": "stdout",
     "output_type": "stream",
     "text": [
      "Finished after 00:00:24\n"
     ]
    },
    {
     "name": "stderr",
     "output_type": "stream",
     "text": [
      "/home/trinebera/miniconda3/envs/thedream/lib/python3.9/site-packages/cameo/strain_design/heuristic/evolutionary/objective_functions.py:353: RuntimeWarning: invalid value encountered in double_scalars\n",
      "  return round(product_flux / substrate_flux, config.ndecimals)\n",
      "/home/trinebera/miniconda3/envs/thedream/lib/python3.9/site-packages/cameo/strain_design/heuristic/evolutionary/objective_functions.py:353: RuntimeWarning: invalid value encountered in double_scalars\n",
      "  return round(product_flux / substrate_flux, config.ndecimals)\n",
      "/home/trinebera/miniconda3/envs/thedream/lib/python3.9/site-packages/cameo/strain_design/heuristic/evolutionary/objective_functions.py:353: RuntimeWarning: invalid value encountered in double_scalars\n",
      "  return round(product_flux / substrate_flux, config.ndecimals)\n",
      "/home/trinebera/miniconda3/envs/thedream/lib/python3.9/site-packages/cameo/strain_design/heuristic/evolutionary/objective_functions.py:353: RuntimeWarning: invalid value encountered in double_scalars\n",
      "  return round(product_flux / substrate_flux, config.ndecimals)\n",
      "/home/trinebera/miniconda3/envs/thedream/lib/python3.9/site-packages/cameo/strain_design/heuristic/evolutionary/objective_functions.py:353: RuntimeWarning: invalid value encountered in double_scalars\n",
      "  return round(product_flux / substrate_flux, config.ndecimals)\n",
      "/home/trinebera/miniconda3/envs/thedream/lib/python3.9/site-packages/cameo/strain_design/heuristic/evolutionary/objective_functions.py:353: RuntimeWarning: invalid value encountered in double_scalars\n",
      "  return round(product_flux / substrate_flux, config.ndecimals)\n",
      "/home/trinebera/miniconda3/envs/thedream/lib/python3.9/site-packages/cameo/strain_design/heuristic/evolutionary/objective_functions.py:353: RuntimeWarning: invalid value encountered in double_scalars\n",
      "  return round(product_flux / substrate_flux, config.ndecimals)\n",
      "/home/trinebera/miniconda3/envs/thedream/lib/python3.9/site-packages/cameo/strain_design/heuristic/evolutionary/objective_functions.py:353: RuntimeWarning: invalid value encountered in double_scalars\n",
      "  return round(product_flux / substrate_flux, config.ndecimals)\n",
      "/home/trinebera/miniconda3/envs/thedream/lib/python3.9/site-packages/cameo/strain_design/heuristic/evolutionary/objective_functions.py:353: RuntimeWarning: invalid value encountered in double_scalars\n",
      "  return round(product_flux / substrate_flux, config.ndecimals)\n"
     ]
    }
   ],
   "source": [
    "solution=swap_optimization.run(max_size=10)"
   ]
  },
  {
   "cell_type": "code",
   "execution_count": 111,
   "metadata": {},
   "outputs": [
    {
     "data": {
      "text/html": [
       "\n",
       "        <h4>Result:</h4>\n",
       "        <ul>\n",
       "            <li>model: iMM904</li>\n",
       "            <li>heuristic: GA</li>\n",
       "            <li>objective function: $$yield = \\frac{R02216}{ECYP11A1}$$</li>\n",
       "            <li>simulation method: pfba</li>\n",
       "            <li>target type: cofactor-swap</li>\n",
       "        <ul>\n",
       "        <div>\n",
       "<style scoped>\n",
       "    .dataframe tbody tr th:only-of-type {\n",
       "        vertical-align: middle;\n",
       "    }\n",
       "\n",
       "    .dataframe tbody tr th {\n",
       "        vertical-align: top;\n",
       "    }\n",
       "\n",
       "    .dataframe thead th {\n",
       "        text-align: right;\n",
       "    }\n",
       "</style>\n",
       "<table border=\"1\" class=\"dataframe\">\n",
       "  <thead>\n",
       "    <tr style=\"text-align: right;\">\n",
       "      <th></th>\n",
       "      <th>index</th>\n",
       "      <th>targets</th>\n",
       "      <th>fitness</th>\n",
       "    </tr>\n",
       "  </thead>\n",
       "  <tbody>\n",
       "    <tr>\n",
       "      <th>0</th>\n",
       "      <td>0</td>\n",
       "      <td>(GLUSx, R02216)</td>\n",
       "      <td>0.999999</td>\n",
       "    </tr>\n",
       "    <tr>\n",
       "      <th>1</th>\n",
       "      <td>1</td>\n",
       "      <td>(ALCD2x_copy2, R02216)</td>\n",
       "      <td>0.999999</td>\n",
       "    </tr>\n",
       "    <tr>\n",
       "      <th>2</th>\n",
       "      <td>2</td>\n",
       "      <td>(ALCD25xi, R02216)</td>\n",
       "      <td>0.999999</td>\n",
       "    </tr>\n",
       "    <tr>\n",
       "      <th>3</th>\n",
       "      <td>3</td>\n",
       "      <td>(GAPD, R02216)</td>\n",
       "      <td>0.999999</td>\n",
       "    </tr>\n",
       "    <tr>\n",
       "      <th>4</th>\n",
       "      <td>4</td>\n",
       "      <td>(R02216, LNS14DMx)</td>\n",
       "      <td>0.999999</td>\n",
       "    </tr>\n",
       "    <tr>\n",
       "      <th>5</th>\n",
       "      <td>5</td>\n",
       "      <td>(ALCD2ir, R02216)</td>\n",
       "      <td>0.999999</td>\n",
       "    </tr>\n",
       "    <tr>\n",
       "      <th>6</th>\n",
       "      <td>6</td>\n",
       "      <td>(LNS14DMx, R02216)</td>\n",
       "      <td>0.999999</td>\n",
       "    </tr>\n",
       "    <tr>\n",
       "      <th>7</th>\n",
       "      <td>7</td>\n",
       "      <td>(R02216, C22STDSx)</td>\n",
       "      <td>0.999999</td>\n",
       "    </tr>\n",
       "    <tr>\n",
       "      <th>8</th>\n",
       "      <td>8</td>\n",
       "      <td>(R02216, G5SD2)</td>\n",
       "      <td>0.999999</td>\n",
       "    </tr>\n",
       "    <tr>\n",
       "      <th>9</th>\n",
       "      <td>11</td>\n",
       "      <td>(ALCD23xi, R02216)</td>\n",
       "      <td>0.999999</td>\n",
       "    </tr>\n",
       "    <tr>\n",
       "      <th>10</th>\n",
       "      <td>12</td>\n",
       "      <td>(R02216, AASAD2)</td>\n",
       "      <td>0.999999</td>\n",
       "    </tr>\n",
       "    <tr>\n",
       "      <th>11</th>\n",
       "      <td>13</td>\n",
       "      <td>(GAPD,)</td>\n",
       "      <td>0.875007</td>\n",
       "    </tr>\n",
       "    <tr>\n",
       "      <th>12</th>\n",
       "      <td>19</td>\n",
       "      <td>(BTDD_RR,)</td>\n",
       "      <td>0.874999</td>\n",
       "    </tr>\n",
       "  </tbody>\n",
       "</table>\n",
       "</div>"
      ],
      "text/plain": [
       "<cameo.strain_design.heuristic.evolutionary.optimization.TargetOptimizationResult at 0x7f972e12b970>"
      ]
     },
     "execution_count": 111,
     "metadata": {},
     "output_type": "execute_result"
    }
   ],
   "source": [
    "solution"
   ]
  },
  {
   "cell_type": "code",
   "execution_count": 85,
   "metadata": {},
   "outputs": [
    {
     "data": {
      "text/plain": [
       "0    (R02216, LNS14DMx)\n",
       "1      (FAS120, R02216)\n",
       "2      (AASAD2, R02216)\n",
       "3     (R02216, BTDD_RR)\n",
       "4    (R02216, ALCD26xi)\n",
       "5     (ALCD2ir, R02216)\n",
       "6               (GAPD,)\n",
       "Name: targets, dtype: object"
      ]
     },
     "execution_count": 85,
     "metadata": {},
     "output_type": "execute_result"
    }
   ],
   "source": [
    "reactions=solution.data_frame.targets\n",
    "reactions"
   ]
  },
  {
   "cell_type": "code",
   "execution_count": 87,
   "metadata": {},
   "outputs": [
    {
     "data": {
      "text/html": [
       "\n",
       "        <table>\n",
       "            <tr>\n",
       "                <td><strong>Reaction identifier</strong></td><td>LNS14DMx</td>\n",
       "            </tr><tr>\n",
       "                <td><strong>Name</strong></td><td>Cytochrome P450 lanosterol 14 alpha demethylase NAD</td>\n",
       "            </tr><tr>\n",
       "                <td><strong>Memory address</strong></td>\n",
       "                <td>0x07f9725cea130</td>\n",
       "            </tr><tr>\n",
       "                <td><strong>Stoichiometry</strong></td>\n",
       "                <td>\n",
       "                    <p style='text-align:right'>2.0 h_c + lanost_c + 3.0 nadh_c + 3.0 o2_c --> 44mctr_c + for_c + 4.0 h2o_c + 3.0 nad_c</p>\n",
       "                    <p style='text-align:right'>2.0 H+ + Lanosterol C30H50O + 3.0 Nicotinamide adenine dinucleotide - reduced + 3.0 O2 O2 --> 4 4 dimethylcholesta 8 14 24 trienol C29H46O + Formate + 4.0 H2O H2O + 3.0 Nicotinamide adenine...</p>\n",
       "                </td>\n",
       "            </tr><tr>\n",
       "                <td><strong>GPR</strong></td><td>(YNL111C and YHR007C and YKL150W) or (YIL043C and YNL111C and YHR007C)</td>\n",
       "            </tr><tr>\n",
       "                <td><strong>Lower bound</strong></td><td>0.0</td>\n",
       "            </tr><tr>\n",
       "                <td><strong>Upper bound</strong></td><td>999999.0</td>\n",
       "            </tr>\n",
       "        </table>\n",
       "        "
      ],
      "text/plain": [
       "<Reaction LNS14DMx at 0x7f9725cea130>"
      ]
     },
     "execution_count": 87,
     "metadata": {},
     "output_type": "execute_result"
    }
   ],
   "source": [
    "model.reactions.LNS14DMx"
   ]
  },
  {
   "cell_type": "code",
   "execution_count": 86,
   "metadata": {},
   "outputs": [
    {
     "name": "stdout",
     "output_type": "stream",
     "text": [
      "Reactions:\n",
      "pregnenolone + Nicotinamide adenine dinucleotide ==> progesterone + H+ + Nicotinamide adenine dinucleotide - reduced\n",
      "\n",
      "H+ + Lanosterol C30H50O + O2 O2 + Nicotinamide adenine dinucleotide - reduced ==> 4 4 dimethylcholesta 8 14 24 trienol C29H46O + Formate + H2O H2O + Nicotinamide adenine dinucleotide\n",
      "\n",
      "Reactions:\n",
      "Decanoate (n-C10:0) + H+ + Malonyl CoA C24H33N7O19P3S + Nicotinamide adenine dinucleotide - reduced ==> CO2 CO2 + Coenzyme A + Dodecanoate (n-C12:0) + H2O H2O + Nicotinamide adenine dinucleotide\n",
      "\n",
      "pregnenolone + Nicotinamide adenine dinucleotide ==> progesterone + H+ + Nicotinamide adenine dinucleotide - reduced\n",
      "\n",
      "Reactions:\n",
      "L 2 Aminoadipate C6H10NO4 + ATP C10H12N5O13P3 + H+ + Nicotinamide adenine dinucleotide - reduced ==> L 2 Aminoadipate 6 semialdehyde C6H11NO3 + AMP C10H12N5O7P + Diphosphate + Nicotinamide adenine dinucleotide\n",
      "\n",
      "pregnenolone + Nicotinamide adenine dinucleotide ==> progesterone + H+ + Nicotinamide adenine dinucleotide - reduced\n",
      "\n",
      "Reactions:\n",
      "pregnenolone + Nicotinamide adenine dinucleotide ==> progesterone + H+ + Nicotinamide adenine dinucleotide - reduced\n",
      "\n",
      " R R  2 3 Butanediol C4H10O2 + Nicotinamide adenine dinucleotide ==>  R  Acetoin C4H8O2 + H+ + Nicotinamide adenine dinucleotide - reduced\n",
      "\n",
      "Reactions:\n",
      "pregnenolone + Nicotinamide adenine dinucleotide ==> progesterone + H+ + Nicotinamide adenine dinucleotide - reduced\n",
      "\n",
      "H+ + Indole 3 acetaldehyde C10H9NO + Nicotinamide adenine dinucleotide - reduced ==> Indole 3 ethanol C10H11NO + Nicotinamide adenine dinucleotide\n",
      "\n",
      "Reactions:\n",
      "Acetaldehyde + H+ + Nicotinamide adenine dinucleotide - reduced ==> Ethanol + Nicotinamide adenine dinucleotide\n",
      "\n",
      "pregnenolone + Nicotinamide adenine dinucleotide ==> progesterone + H+ + Nicotinamide adenine dinucleotide - reduced\n",
      "\n",
      "Reactions:\n",
      "Glyceraldehyde 3-phosphate + Phosphate + Nicotinamide adenine dinucleotide ==> 3-Phospho-D-glyceroyl phosphate + H+ + Nicotinamide adenine dinucleotide - reduced\n",
      "\n"
     ]
    }
   ],
   "source": [
    "for t in reactions:\n",
    "    print(\"Reactions:\")\n",
    "    for id in t:\n",
    "        r=model.reactions.get_by_id(id)\n",
    "        #print(r.name, id+\",\",\"Fitness:\", solution.data_frame.fitness[id][10])\n",
    "        s=\"\"\n",
    "        for rea in range(len(r.reactants)):\n",
    "            if rea==len(r.reactants)-1:\n",
    "                s+=r.reactants[rea].name+\" ==> \"\n",
    "            else:\n",
    "                s+=r.reactants[rea].name+\" + \"\n",
    "        for p in range(len(r.products)):\n",
    "            if p==len(r.products)-1:\n",
    "                s+=r.products[p].name\n",
    "            else:\n",
    "                s+=r.products[p].name+\" + \"\n",
    "        print(s)\n",
    "        print()\n"
   ]
  },
  {
   "cell_type": "code",
   "execution_count": 8,
   "metadata": {},
   "outputs": [
    {
     "name": "stdout",
     "output_type": "stream",
     "text": [
      "CPU times: user 125 ms, sys: 0 ns, total: 125 ms\n",
      "Wall time: 117 ms\n"
     ]
    }
   ],
   "source": [
    "from cameo import fba\n",
    "%time fba_result = fba(model2)"
   ]
  },
  {
   "cell_type": "code",
   "execution_count": 9,
   "metadata": {},
   "outputs": [
    {
     "data": {
      "text/html": [
       "<div>\n",
       "<style scoped>\n",
       "    .dataframe tbody tr th:only-of-type {\n",
       "        vertical-align: middle;\n",
       "    }\n",
       "\n",
       "    .dataframe tbody tr th {\n",
       "        vertical-align: top;\n",
       "    }\n",
       "\n",
       "    .dataframe thead th {\n",
       "        text-align: right;\n",
       "    }\n",
       "</style>\n",
       "<table border=\"1\" class=\"dataframe\">\n",
       "  <thead>\n",
       "    <tr style=\"text-align: right;\">\n",
       "      <th></th>\n",
       "      <th>flux</th>\n",
       "    </tr>\n",
       "  </thead>\n",
       "  <tbody>\n",
       "    <tr>\n",
       "      <th>CITtcp</th>\n",
       "      <td>0.000000e+00</td>\n",
       "    </tr>\n",
       "    <tr>\n",
       "      <th>13BGH</th>\n",
       "      <td>0.000000e+00</td>\n",
       "    </tr>\n",
       "    <tr>\n",
       "      <th>13BGHe</th>\n",
       "      <td>0.000000e+00</td>\n",
       "    </tr>\n",
       "    <tr>\n",
       "      <th>13GS</th>\n",
       "      <td>3.266700e-01</td>\n",
       "    </tr>\n",
       "    <tr>\n",
       "      <th>16GS</th>\n",
       "      <td>0.000000e+00</td>\n",
       "    </tr>\n",
       "    <tr>\n",
       "      <th>...</th>\n",
       "      <td>...</td>\n",
       "    </tr>\n",
       "    <tr>\n",
       "      <th>PYDXO</th>\n",
       "      <td>0.000000e+00</td>\n",
       "    </tr>\n",
       "    <tr>\n",
       "      <th>PYK</th>\n",
       "      <td>1.772199e+01</td>\n",
       "    </tr>\n",
       "    <tr>\n",
       "      <th>PYNP2r</th>\n",
       "      <td>4.707470e-19</td>\n",
       "    </tr>\n",
       "    <tr>\n",
       "      <th>PYR5CDm</th>\n",
       "      <td>1.947497e-17</td>\n",
       "    </tr>\n",
       "    <tr>\n",
       "      <th>PYRDC</th>\n",
       "      <td>1.594605e+01</td>\n",
       "    </tr>\n",
       "  </tbody>\n",
       "</table>\n",
       "<p>1577 rows × 1 columns</p>\n",
       "</div>"
      ],
      "text/plain": [
       "                 flux\n",
       "CITtcp   0.000000e+00\n",
       "13BGH    0.000000e+00\n",
       "13BGHe   0.000000e+00\n",
       "13GS     3.266700e-01\n",
       "16GS     0.000000e+00\n",
       "...               ...\n",
       "PYDXO    0.000000e+00\n",
       "PYK      1.772199e+01\n",
       "PYNP2r   4.707470e-19\n",
       "PYR5CDm  1.947497e-17\n",
       "PYRDC    1.594605e+01\n",
       "\n",
       "[1577 rows x 1 columns]"
      ]
     },
     "execution_count": 9,
     "metadata": {},
     "output_type": "execute_result"
    }
   ],
   "source": [
    "fba_result.data_frame"
   ]
  },
  {
   "cell_type": "code",
   "execution_count": 13,
   "metadata": {},
   "outputs": [
    {
     "name": "stdout",
     "output_type": "stream",
     "text": [
      "Downloading Map from https://escher.github.io/1-0-0/6/maps/Escherichia%20coli/iJO1366.Central%20metabolism.json\n"
     ]
    },
    {
     "data": {
      "application/vnd.jupyter.widget-view+json": {
       "model_id": "eeb614f071ee4468b8a1424136f21326",
       "version_major": 2,
       "version_minor": 0
      },
      "text/plain": [
       "Builder(reaction_data={'13GS': 0.32667, 'ACCOAC': 0.114455, 'AGAT_SC': 0.00711, 'AGPRim': 0.04626, 'AGTi': 0.0…"
      ]
     },
     "metadata": {},
     "output_type": "display_data"
    }
   ],
   "source": [
    "fba_result.display_on_map(\"iJO1366.Central metabolism\")"
   ]
  },
  {
   "cell_type": "code",
   "execution_count": 11,
   "metadata": {},
   "outputs": [
    {
     "data": {
      "text/html": [
       "\n",
       "        <table>\n",
       "            <tr>\n",
       "                <td><strong>Name</strong></td>\n",
       "                <td>iMM904</td>\n",
       "            </tr><tr>\n",
       "                <td><strong>Memory address</strong></td>\n",
       "                <td>0x07f96fc3458e0</td>\n",
       "            </tr><tr>\n",
       "                <td><strong>Number of metabolites</strong></td>\n",
       "                <td>1226</td>\n",
       "            </tr><tr>\n",
       "                <td><strong>Number of reactions</strong></td>\n",
       "                <td>1577</td>\n",
       "            </tr><tr>\n",
       "                <td><strong>Number of groups</strong></td>\n",
       "                <td>0</td>\n",
       "            </tr><tr>\n",
       "                <td><strong>Objective expression</strong></td>\n",
       "                <td>1.0*BIOMASS_SC5_notrace - 1.0*BIOMASS_SC5_notrace_reverse_93090</td>\n",
       "            </tr><tr>\n",
       "                <td><strong>Compartments</strong></td>\n",
       "                <td>cytosol, extracellular space, mitochondria, peroxisome/glyoxysome, endoplasmic reticulum, vacuole, golgi apparatus, nucleus</td>\n",
       "            </tr>\n",
       "          </table>"
      ],
      "text/plain": [
       "<Model iMM904 at 0x7f96fc3458e0>"
      ]
     },
     "execution_count": 11,
     "metadata": {},
     "output_type": "execute_result"
    }
   ],
   "source": [
    "model2"
   ]
  },
  {
   "cell_type": "code",
   "execution_count": 12,
   "metadata": {},
   "outputs": [
    {
     "ename": "Exception",
     "evalue": "Could not find the map iMM904.Central metabolism on the server",
     "output_type": "error",
     "traceback": [
      "\u001b[0;31m---------------------------------------------------------------------------\u001b[0m",
      "\u001b[0;31mException\u001b[0m                                 Traceback (most recent call last)",
      "Cell \u001b[0;32mIn [12], line 1\u001b[0m\n\u001b[0;32m----> 1\u001b[0m fba_result\u001b[39m.\u001b[39;49mdisplay_on_map(\u001b[39m'\u001b[39;49m\u001b[39miMM904.Central metabolism\u001b[39;49m\u001b[39m'\u001b[39;49m)\n",
      "File \u001b[0;32m~/miniconda3/envs/thedream/lib/python3.9/site-packages/cameo/flux_analysis/simulation.py:516\u001b[0m, in \u001b[0;36mFluxDistributionResult.display_on_map\u001b[0;34m(self, map_name, palette)\u001b[0m\n\u001b[1;32m    513\u001b[0m active_fluxes[\u001b[39m'\u001b[39m\u001b[39mmin\u001b[39m\u001b[39m'\u001b[39m] \u001b[39m=\u001b[39m \u001b[39mmin\u001b[39m(values)\n\u001b[1;32m    514\u001b[0m active_fluxes[\u001b[39m'\u001b[39m\u001b[39mmax\u001b[39m\u001b[39m'\u001b[39m] \u001b[39m=\u001b[39m \u001b[39mmax\u001b[39m(values)\n\u001b[0;32m--> 516\u001b[0m builder \u001b[39m=\u001b[39m escher\u001b[39m.\u001b[39;49mBuilder(map_name\u001b[39m=\u001b[39;49mmap_name, map_json\u001b[39m=\u001b[39;49mmap_json, reaction_data\u001b[39m=\u001b[39;49mactive_fluxes,\n\u001b[1;32m    517\u001b[0m                          reaction_scale\u001b[39m=\u001b[39;49mreaction_scale)\n\u001b[1;32m    519\u001b[0m \u001b[39mif\u001b[39;00m in_ipnb():\n\u001b[1;32m    520\u001b[0m     \u001b[39mfrom\u001b[39;00m \u001b[39mIPython\u001b[39;00m\u001b[39m.\u001b[39;00m\u001b[39mdisplay\u001b[39;00m \u001b[39mimport\u001b[39;00m display\n",
      "File \u001b[0;32m~/miniconda3/envs/thedream/lib/python3.9/site-packages/escher/plots.py:540\u001b[0m, in \u001b[0;36mBuilder.__init__\u001b[0;34m(self, map_name, map_json, model, model_name, model_json, **kwargs)\u001b[0m\n\u001b[1;32m    538\u001b[0m     \u001b[39mself\u001b[39m\u001b[39m.\u001b[39mmap_json \u001b[39m=\u001b[39m map_json\n\u001b[1;32m    539\u001b[0m \u001b[39melse\u001b[39;00m:\n\u001b[0;32m--> 540\u001b[0m     \u001b[39mself\u001b[39;49m\u001b[39m.\u001b[39;49mmap_name \u001b[39m=\u001b[39m map_name\n\u001b[1;32m    542\u001b[0m \u001b[39mif\u001b[39;00m model:\n\u001b[1;32m    543\u001b[0m     \u001b[39mif\u001b[39;00m model_name:\n",
      "File \u001b[0;32m~/miniconda3/envs/thedream/lib/python3.9/site-packages/traitlets/traitlets.py:715\u001b[0m, in \u001b[0;36mTraitType.__set__\u001b[0;34m(self, obj, value)\u001b[0m\n\u001b[1;32m    713\u001b[0m     \u001b[39mraise\u001b[39;00m TraitError(\u001b[39m'\u001b[39m\u001b[39mThe \u001b[39m\u001b[39m\"\u001b[39m\u001b[39m%s\u001b[39;00m\u001b[39m\"\u001b[39m\u001b[39m trait is read-only.\u001b[39m\u001b[39m'\u001b[39m \u001b[39m%\u001b[39m \u001b[39mself\u001b[39m\u001b[39m.\u001b[39mname)\n\u001b[1;32m    714\u001b[0m \u001b[39melse\u001b[39;00m:\n\u001b[0;32m--> 715\u001b[0m     \u001b[39mself\u001b[39;49m\u001b[39m.\u001b[39;49mset(obj, value)\n",
      "File \u001b[0;32m~/miniconda3/envs/thedream/lib/python3.9/site-packages/traitlets/traitlets.py:704\u001b[0m, in \u001b[0;36mTraitType.set\u001b[0;34m(self, obj, value)\u001b[0m\n\u001b[1;32m    700\u001b[0m     silent \u001b[39m=\u001b[39m \u001b[39mFalse\u001b[39;00m\n\u001b[1;32m    701\u001b[0m \u001b[39mif\u001b[39;00m silent \u001b[39mis\u001b[39;00m \u001b[39mnot\u001b[39;00m \u001b[39mTrue\u001b[39;00m:\n\u001b[1;32m    702\u001b[0m     \u001b[39m# we explicitly compare silent to True just in case the equality\u001b[39;00m\n\u001b[1;32m    703\u001b[0m     \u001b[39m# comparison above returns something other than True/False\u001b[39;00m\n\u001b[0;32m--> 704\u001b[0m     obj\u001b[39m.\u001b[39;49m_notify_trait(\u001b[39mself\u001b[39;49m\u001b[39m.\u001b[39;49mname, old_value, new_value)\n",
      "File \u001b[0;32m~/miniconda3/envs/thedream/lib/python3.9/site-packages/traitlets/traitlets.py:1374\u001b[0m, in \u001b[0;36mHasTraits._notify_trait\u001b[0;34m(self, name, old_value, new_value)\u001b[0m\n\u001b[1;32m   1373\u001b[0m \u001b[39mdef\u001b[39;00m \u001b[39m_notify_trait\u001b[39m(\u001b[39mself\u001b[39m, name, old_value, new_value):\n\u001b[0;32m-> 1374\u001b[0m     \u001b[39mself\u001b[39;49m\u001b[39m.\u001b[39;49mnotify_change(\n\u001b[1;32m   1375\u001b[0m         Bunch(\n\u001b[1;32m   1376\u001b[0m             name\u001b[39m=\u001b[39;49mname,\n\u001b[1;32m   1377\u001b[0m             old\u001b[39m=\u001b[39;49mold_value,\n\u001b[1;32m   1378\u001b[0m             new\u001b[39m=\u001b[39;49mnew_value,\n\u001b[1;32m   1379\u001b[0m             owner\u001b[39m=\u001b[39;49m\u001b[39mself\u001b[39;49m,\n\u001b[1;32m   1380\u001b[0m             \u001b[39mtype\u001b[39;49m\u001b[39m=\u001b[39;49m\u001b[39m\"\u001b[39;49m\u001b[39mchange\u001b[39;49m\u001b[39m\"\u001b[39;49m,\n\u001b[1;32m   1381\u001b[0m         )\n\u001b[1;32m   1382\u001b[0m     )\n",
      "File \u001b[0;32m~/miniconda3/envs/thedream/lib/python3.9/site-packages/ipywidgets/widgets/widget.py:686\u001b[0m, in \u001b[0;36mWidget.notify_change\u001b[0;34m(self, change)\u001b[0m\n\u001b[1;32m    683\u001b[0m     \u001b[39mif\u001b[39;00m name \u001b[39min\u001b[39;00m \u001b[39mself\u001b[39m\u001b[39m.\u001b[39mkeys \u001b[39mand\u001b[39;00m \u001b[39mself\u001b[39m\u001b[39m.\u001b[39m_should_send_property(name, \u001b[39mgetattr\u001b[39m(\u001b[39mself\u001b[39m, name)):\n\u001b[1;32m    684\u001b[0m         \u001b[39m# Send new state to front-end\u001b[39;00m\n\u001b[1;32m    685\u001b[0m         \u001b[39mself\u001b[39m\u001b[39m.\u001b[39msend_state(key\u001b[39m=\u001b[39mname)\n\u001b[0;32m--> 686\u001b[0m \u001b[39msuper\u001b[39;49m(Widget, \u001b[39mself\u001b[39;49m)\u001b[39m.\u001b[39;49mnotify_change(change)\n",
      "File \u001b[0;32m~/miniconda3/envs/thedream/lib/python3.9/site-packages/traitlets/traitlets.py:1386\u001b[0m, in \u001b[0;36mHasTraits.notify_change\u001b[0;34m(self, change)\u001b[0m\n\u001b[1;32m   1384\u001b[0m \u001b[39mdef\u001b[39;00m \u001b[39mnotify_change\u001b[39m(\u001b[39mself\u001b[39m, change):\n\u001b[1;32m   1385\u001b[0m     \u001b[39m\"\"\"Notify observers of a change event\"\"\"\u001b[39;00m\n\u001b[0;32m-> 1386\u001b[0m     \u001b[39mreturn\u001b[39;00m \u001b[39mself\u001b[39;49m\u001b[39m.\u001b[39;49m_notify_observers(change)\n",
      "File \u001b[0;32m~/miniconda3/envs/thedream/lib/python3.9/site-packages/traitlets/traitlets.py:1431\u001b[0m, in \u001b[0;36mHasTraits._notify_observers\u001b[0;34m(self, event)\u001b[0m\n\u001b[1;32m   1428\u001b[0m \u001b[39melif\u001b[39;00m \u001b[39misinstance\u001b[39m(c, EventHandler) \u001b[39mand\u001b[39;00m c\u001b[39m.\u001b[39mname \u001b[39mis\u001b[39;00m \u001b[39mnot\u001b[39;00m \u001b[39mNone\u001b[39;00m:\n\u001b[1;32m   1429\u001b[0m     c \u001b[39m=\u001b[39m \u001b[39mgetattr\u001b[39m(\u001b[39mself\u001b[39m, c\u001b[39m.\u001b[39mname)\n\u001b[0;32m-> 1431\u001b[0m c(event)\n",
      "File \u001b[0;32m~/miniconda3/envs/thedream/lib/python3.9/site-packages/escher/plots.py:339\u001b[0m, in \u001b[0;36mBuilder._observe_map_name\u001b[0;34m(self, change)\u001b[0m\n\u001b[1;32m    336\u001b[0m \u001b[39m@observe\u001b[39m(\u001b[39m'\u001b[39m\u001b[39mmap_name\u001b[39m\u001b[39m'\u001b[39m)\n\u001b[1;32m    337\u001b[0m \u001b[39mdef\u001b[39;00m \u001b[39m_observe_map_name\u001b[39m(\u001b[39mself\u001b[39m, change):\n\u001b[1;32m    338\u001b[0m     \u001b[39mif\u001b[39;00m change\u001b[39m.\u001b[39mnew:\n\u001b[0;32m--> 339\u001b[0m         \u001b[39mself\u001b[39m\u001b[39m.\u001b[39m_loaded_map_json \u001b[39m=\u001b[39m map_json_for_name(change\u001b[39m.\u001b[39;49mnew)\n\u001b[1;32m    340\u001b[0m     \u001b[39melse\u001b[39;00m:\n\u001b[1;32m    341\u001b[0m         \u001b[39mself\u001b[39m\u001b[39m.\u001b[39m_loaded_map_json \u001b[39m=\u001b[39m \u001b[39mNone\u001b[39;00m\n",
      "File \u001b[0;32m~/miniconda3/envs/thedream/lib/python3.9/site-packages/escher/plots.py:92\u001b[0m, in \u001b[0;36mmap_json_for_name\u001b[0;34m(map_name)\u001b[0m\n\u001b[1;32m     91\u001b[0m \u001b[39mdef\u001b[39;00m \u001b[39mmap_json_for_name\u001b[39m(map_name):\n\u001b[0;32m---> 92\u001b[0m     \u001b[39mreturn\u001b[39;00m _json_for_name(map_name, \u001b[39m'\u001b[39;49m\u001b[39mmap\u001b[39;49m\u001b[39m'\u001b[39;49m)\n",
      "File \u001b[0;32m~/miniconda3/envs/thedream/lib/python3.9/site-packages/escher/plots.py:71\u001b[0m, in \u001b[0;36m_json_for_name\u001b[0;34m(name, kind)\u001b[0m\n\u001b[1;32m     69\u001b[0m match \u001b[39m=\u001b[39m match_in_index(name, server_index(), kind)\n\u001b[1;32m     70\u001b[0m \u001b[39mif\u001b[39;00m \u001b[39mlen\u001b[39m(match) \u001b[39m==\u001b[39m \u001b[39m0\u001b[39m:\n\u001b[0;32m---> 71\u001b[0m     \u001b[39mraise\u001b[39;00m \u001b[39mException\u001b[39;00m(\u001b[39m'\u001b[39m\u001b[39mCould not find the \u001b[39m\u001b[39m{kind}\u001b[39;00m\u001b[39m \u001b[39m\u001b[39m{name}\u001b[39;00m\u001b[39m on the server\u001b[39m\u001b[39m'\u001b[39m\n\u001b[1;32m     72\u001b[0m                     \u001b[39m.\u001b[39mformat(kind\u001b[39m=\u001b[39mkind, name\u001b[39m=\u001b[39mname))\n\u001b[1;32m     73\u001b[0m org, name \u001b[39m=\u001b[39m match[\u001b[39m0\u001b[39m]\n\u001b[1;32m     74\u001b[0m url \u001b[39m=\u001b[39m (\n\u001b[1;32m     75\u001b[0m     get_url(kind \u001b[39m+\u001b[39m \u001b[39m'\u001b[39m\u001b[39m_download\u001b[39m\u001b[39m'\u001b[39m) \u001b[39m+\u001b[39m\n\u001b[1;32m     76\u001b[0m     \u001b[39m'\u001b[39m\u001b[39m/\u001b[39m\u001b[39m'\u001b[39m\u001b[39m.\u001b[39mjoin([url_escape(x) \u001b[39mfor\u001b[39;00m x \u001b[39min\u001b[39;00m [org, name \u001b[39m+\u001b[39m \u001b[39m'\u001b[39m\u001b[39m.json\u001b[39m\u001b[39m'\u001b[39m]])\n\u001b[1;32m     77\u001b[0m )\n",
      "\u001b[0;31mException\u001b[0m: Could not find the map iMM904.Central metabolism on the server"
     ]
    }
   ],
   "source": [
    "fba_result.display_on_map('iMM904.Central metabolism')"
   ]
  }
 ],
 "metadata": {
  "kernelspec": {
   "display_name": "Python 3.9.7 ('thedream')",
   "language": "python",
   "name": "python3"
  },
  "language_info": {
   "codemirror_mode": {
    "name": "ipython",
    "version": 3
   },
   "file_extension": ".py",
   "mimetype": "text/x-python",
   "name": "python",
   "nbconvert_exporter": "python",
   "pygments_lexer": "ipython3",
   "version": "3.9.7"
  },
  "orig_nbformat": 4,
  "vscode": {
   "interpreter": {
    "hash": "fda4ecd6cc57b5afa512adcd7f6c6e5bba31f69455292c4ced40ed9bda2cf5eb"
   }
  }
 },
 "nbformat": 4,
 "nbformat_minor": 2
}
