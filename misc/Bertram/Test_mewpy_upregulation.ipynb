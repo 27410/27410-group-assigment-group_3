{
 "cells": [
  {
   "cell_type": "markdown",
   "metadata": {},
   "source": [
    "## Testing mewpy gene upregulation\n",
    "\n",
    "This notebook exemplifies how MEWpy may be used in strain optimization tasks. We will consider the as goal to increase the production of succinate in E. coli in anaerobic conditions."
   ]
  },
  {
   "cell_type": "code",
   "execution_count": 26,
   "metadata": {},
   "outputs": [],
   "source": [
    "%matplotlib inline\n",
    "from cobra.io.sbml import read_sbml_model\n",
    "model = read_sbml_model(\"e_coli_core.xml.gz\")"
   ]
  },
  {
   "cell_type": "markdown",
   "metadata": {},
   "source": [
    "Analyse the model's default medium"
   ]
  },
  {
   "cell_type": "code",
   "execution_count": 27,
   "metadata": {},
   "outputs": [
    {
     "data": {
      "text/html": [
       "<div>\n",
       "<style scoped>\n",
       "    .dataframe tbody tr th:only-of-type {\n",
       "        vertical-align: middle;\n",
       "    }\n",
       "\n",
       "    .dataframe tbody tr th {\n",
       "        vertical-align: top;\n",
       "    }\n",
       "\n",
       "    .dataframe thead th {\n",
       "        text-align: right;\n",
       "    }\n",
       "</style>\n",
       "<table border=\"1\" class=\"dataframe\">\n",
       "  <thead>\n",
       "    <tr style=\"text-align: right;\">\n",
       "      <th></th>\n",
       "      <th>lb</th>\n",
       "      <th>ub</th>\n",
       "    </tr>\n",
       "  </thead>\n",
       "  <tbody>\n",
       "    <tr>\n",
       "      <th>EX_co2_e</th>\n",
       "      <td>-10.0</td>\n",
       "      <td>inf</td>\n",
       "    </tr>\n",
       "    <tr>\n",
       "      <th>EX_glc__D_e</th>\n",
       "      <td>-10.0</td>\n",
       "      <td>inf</td>\n",
       "    </tr>\n",
       "    <tr>\n",
       "      <th>EX_h_e</th>\n",
       "      <td>-10.0</td>\n",
       "      <td>inf</td>\n",
       "    </tr>\n",
       "    <tr>\n",
       "      <th>EX_h2o_e</th>\n",
       "      <td>-10.0</td>\n",
       "      <td>inf</td>\n",
       "    </tr>\n",
       "    <tr>\n",
       "      <th>EX_nh4_e</th>\n",
       "      <td>-10.0</td>\n",
       "      <td>inf</td>\n",
       "    </tr>\n",
       "    <tr>\n",
       "      <th>EX_o2_e</th>\n",
       "      <td>-10.0</td>\n",
       "      <td>inf</td>\n",
       "    </tr>\n",
       "    <tr>\n",
       "      <th>EX_pi_e</th>\n",
       "      <td>-10.0</td>\n",
       "      <td>inf</td>\n",
       "    </tr>\n",
       "  </tbody>\n",
       "</table>\n",
       "</div>"
      ],
      "text/plain": [
       "               lb   ub\n",
       "EX_co2_e    -10.0  inf\n",
       "EX_glc__D_e -10.0  inf\n",
       "EX_h_e      -10.0  inf\n",
       "EX_h2o_e    -10.0  inf\n",
       "EX_nh4_e    -10.0  inf\n",
       "EX_o2_e     -10.0  inf\n",
       "EX_pi_e     -10.0  inf"
      ]
     },
     "execution_count": 27,
     "metadata": {},
     "output_type": "execute_result"
    }
   ],
   "source": [
    "from mewpy.simulation.environment import Environment\n",
    "import pandas as pd\n",
    "\n",
    "medium = Environment.from_model(model).get_compounds()\n",
    "env = Environment.from_compounds(medium)\n",
    "pd.DataFrame(env,index=['lb','ub']).T"
   ]
  },
  {
   "cell_type": "markdown",
   "metadata": {},
   "source": [
    "Commercial solvers are better suited to address optimization tasks, such, as stain designs. As such, you might want to check the linear programming solvers available on your system:"
   ]
  },
  {
   "cell_type": "code",
   "execution_count": 28,
   "metadata": {},
   "outputs": [],
   "source": [
    "#from mewpy.simulation import solvers\n",
    "#solvers"
   ]
  },
  {
   "cell_type": "markdown",
   "metadata": {},
   "source": [
    "## Optimization problem\n",
    "\n",
    "Before running any optimization let us verify the production rate as well as the theoretic maximum rate of succinate in anaerobic conditions. To ease the script reutilization we will define some reaction identifiers as constants:"
   ]
  },
  {
   "cell_type": "code",
   "execution_count": 29,
   "metadata": {},
   "outputs": [],
   "source": [
    "BIOMASS = 'BIOMASS_Ecoli_core_w_GAM'\n",
    "PRODUCT = 'EX_succ_e'\n",
    "O2 = 'EX_o2_e'\n",
    "GLC = 'EX_glc__D_e'"
   ]
  },
  {
   "cell_type": "code",
   "execution_count": 30,
   "metadata": {},
   "outputs": [],
   "source": [
    "anaerobic = {O2: (0, 0)}"
   ]
  },
  {
   "cell_type": "code",
   "execution_count": 31,
   "metadata": {},
   "outputs": [
    {
     "data": {
      "text/html": [
       "<div>\n",
       "<style scoped>\n",
       "    .dataframe tbody tr th:only-of-type {\n",
       "        vertical-align: middle;\n",
       "    }\n",
       "\n",
       "    .dataframe tbody tr th {\n",
       "        vertical-align: top;\n",
       "    }\n",
       "\n",
       "    .dataframe thead th {\n",
       "        text-align: right;\n",
       "    }\n",
       "</style>\n",
       "<table border=\"1\" class=\"dataframe\">\n",
       "  <thead>\n",
       "    <tr style=\"text-align: right;\">\n",
       "      <th></th>\n",
       "      <th>Minimum</th>\n",
       "      <th>Maximum</th>\n",
       "    </tr>\n",
       "    <tr>\n",
       "      <th>Reaction ID</th>\n",
       "      <th></th>\n",
       "      <th></th>\n",
       "    </tr>\n",
       "  </thead>\n",
       "  <tbody>\n",
       "    <tr>\n",
       "      <th>EX_succ_e</th>\n",
       "      <td>0.0</td>\n",
       "      <td>1.911</td>\n",
       "    </tr>\n",
       "  </tbody>\n",
       "</table>\n",
       "</div>"
      ],
      "text/plain": [
       "             Minimum  Maximum\n",
       "Reaction ID                  \n",
       "EX_succ_e        0.0    1.911"
      ]
     },
     "execution_count": 31,
     "metadata": {},
     "output_type": "execute_result"
    }
   ],
   "source": [
    "from mewpy.simulation import get_simulator\n",
    "sim = get_simulator(model,envcond=anaerobic)\n",
    "sim.FVA(reactions=[PRODUCT],format='df')"
   ]
  },
  {
   "cell_type": "code",
   "execution_count": 32,
   "metadata": {},
   "outputs": [
    {
     "data": {
      "text/html": [
       "<div>\n",
       "<style scoped>\n",
       "    .dataframe tbody tr th:only-of-type {\n",
       "        vertical-align: middle;\n",
       "    }\n",
       "\n",
       "    .dataframe tbody tr th {\n",
       "        vertical-align: top;\n",
       "    }\n",
       "\n",
       "    .dataframe thead th {\n",
       "        text-align: right;\n",
       "    }\n",
       "</style>\n",
       "<table border=\"1\" class=\"dataframe\">\n",
       "  <thead>\n",
       "    <tr style=\"text-align: right;\">\n",
       "      <th></th>\n",
       "      <th>Flux rate</th>\n",
       "    </tr>\n",
       "    <tr>\n",
       "      <th>Reaction ID</th>\n",
       "      <th></th>\n",
       "    </tr>\n",
       "  </thead>\n",
       "  <tbody>\n",
       "    <tr>\n",
       "      <th>BIOMASS_Ecoli_core_w_GAM</th>\n",
       "      <td>0.211663</td>\n",
       "    </tr>\n",
       "    <tr>\n",
       "      <th>EX_succ_e</th>\n",
       "      <td>0.000000</td>\n",
       "    </tr>\n",
       "  </tbody>\n",
       "</table>\n",
       "</div>"
      ],
      "text/plain": [
       "                          Flux rate\n",
       "Reaction ID                        \n",
       "BIOMASS_Ecoli_core_w_GAM   0.211663\n",
       "EX_succ_e                  0.000000"
      ]
     },
     "execution_count": 32,
     "metadata": {},
     "output_type": "execute_result"
    }
   ],
   "source": [
    "sim.simulate(method='pFBA').find([BIOMASS,PRODUCT])\n"
   ]
  },
  {
   "cell_type": "markdown",
   "metadata": {},
   "source": [
    "The optimization problem requires the definition of one or more objective functions. In the next example, we define as objective the maximization of the Biomass-Product coupled yield and the maximization of the targeted product. MEWpy makes available other optimization objectives, please refer to the documentation.\n",
    "\n"
   ]
  },
  {
   "cell_type": "code",
   "execution_count": 33,
   "metadata": {},
   "outputs": [],
   "source": [
    "from mewpy.optimization.evaluation import BPCY, TargetFlux\n",
    "\n",
    "objs = [ \n",
    "    BPCY(BIOMASS, PRODUCT),\n",
    "    TargetFlux(PRODUCT)\n",
    "]"
   ]
  },
  {
   "cell_type": "markdown",
   "metadata": {},
   "source": [
    "We can now define the growth medium and select the type of modification. We will begin by performing gene deletion (GKO) by selecting the appropriate problem instance, GKOProblem."
   ]
  },
  {
   "cell_type": "code",
   "execution_count": 34,
   "metadata": {},
   "outputs": [],
   "source": [
    "from mewpy.problems import GKOProblem, GOUProblem\n",
    "\n",
    "problem = GOUProblem(model, objs, envcond=anaerobic, candidate_max_size=6)"
   ]
  },
  {
   "cell_type": "markdown",
   "metadata": {},
   "source": [
    "Other optimization methods/strategies may be used:\n",
    "\n",
    " - Reaction deletion: RKOProblem\n",
    " - Reaction under or over expression: ROUProblem\n",
    " - Gene under or over expression: GOUProblem\n",
    "\n",
    "A problem may include other parameters, such as the maximum number of genetic modification, a list of specitic targets, or non-targets (reactions/genes not to be modified)."
   ]
  },
  {
   "cell_type": "markdown",
   "metadata": {},
   "source": [
    "## Optimization algorithm\n",
    "\n",
    "An optimization engine to solve the problem need to be instanciated. MEWpy uses Evolutionary Algorithms (EA) for this task.\n",
    "\n",
    "EAs are algorithms that mimic the Darwinian evolutionary process, where a population of solutions evolves generation after generation. In the example we define a maximum of 50 generations.\n"
   ]
  },
  {
   "cell_type": "code",
   "execution_count": 35,
   "metadata": {},
   "outputs": [],
   "source": [
    "from mewpy.optimization import EA\n",
    "ea = EA(problem, max_generations=50)"
   ]
  },
  {
   "cell_type": "markdown",
   "metadata": {},
   "source": [
    "For informations on additional options you may use the help command"
   ]
  },
  {
   "cell_type": "code",
   "execution_count": null,
   "metadata": {},
   "outputs": [],
   "source": [
    "help(EA)"
   ]
  },
  {
   "cell_type": "markdown",
   "metadata": {},
   "source": [
    "The EA may contemplate aditional parameters such as the identification of a specific algorithm (e.g. SPEA2, NSGAII, NSGAIII, GDE3, etc.), multiprocessing options, initial seeding, etc.\n",
    "To start the optimization process invoke the run method:"
   ]
  },
  {
   "cell_type": "code",
   "execution_count": 37,
   "metadata": {},
   "outputs": [
    {
     "name": "stdout",
     "output_type": "stream",
     "text": [
      "Running NSGAII\n",
      "Eval(s)|     Worst      Best    Median   Average   Std Dev|     Worst      Best    Median   Average   Std Dev|\n",
      "    100|  0.000000  0.841615  0.000000  0.021327  0.120942|  0.000000  7.055392  0.000000  0.167121  1.000278|\n",
      "    200|  0.000000  0.841615  0.000000  0.021810  0.120952|  0.000000  7.055392  0.000000  0.169482  1.000159|\n",
      "    300|  0.000000  0.841615  0.000000  0.025951  0.121919|  0.000000  7.055392  0.000000  0.190773  1.002185|\n",
      "    400|  0.000000  0.841615  0.000000  0.049235  0.167153|  0.000000  7.055392  0.000000  0.365018  1.385995|\n",
      "    500|  0.000000  0.841615  0.048208  0.127443  0.247424|  0.000000  7.055392  0.236123  0.941980  2.076139|\n",
      "    600|  0.048208  0.841615  0.134651  0.348757  0.329221|  0.236123  7.344176  0.708368  2.690671  2.950607|\n",
      "    700|  0.266637  0.841615  0.841615  0.737644  0.204088|  1.652859  7.344176  7.055392  6.224178  1.922777|\n",
      "    800|  0.741052  0.841615  0.841615  0.833299  0.022805|  7.055392  7.589800  7.055392  7.087801  0.096793|\n",
      "    900|  0.057262  0.841615  0.841615  0.831479  0.078952|  7.055392  7.589800  7.055392  7.071095  0.079862|\n",
      "   1000|  0.057262  0.841615  0.841615  0.820618  0.111134|  7.055392  7.589800  7.055392  7.091711  0.126388|\n",
      "   1100|  0.057262  0.841615  0.841615  0.817963  0.111696|  7.055392  7.589800  7.055392  7.105287  0.146114|\n",
      "   1200|  0.057262  0.841615  0.841615  0.806982  0.113447|  7.055392  7.589800  7.055392  7.162047  0.201665|\n",
      "   1300|  0.057262  0.841615  0.841615  0.783650  0.113752|  7.055392  7.589800  7.055392  7.283368  0.247708|\n",
      "   1400|  0.741052  0.841615  0.741052  0.759330  0.030327|  7.055392  7.589800  7.589800  7.480033  0.169923|\n",
      "   1500|  0.741052  0.841615  0.741052  0.760473  0.031398|  7.055392  7.589800  7.589800  7.474670  0.174370|\n",
      "   1600|  0.741052  0.841615  0.741052  0.753084  0.031012|  7.055392  7.589800  7.589800  7.526296  0.164170|\n",
      "   1700|  0.741052  0.841615  0.741052  0.753638  0.031280|  7.055392  7.589800  7.589800  7.523701  0.165237|\n",
      "   1800|  0.741052  0.841615  0.741052  0.758427  0.034579|  7.055392  7.589800  7.589800  7.498995  0.182145|\n",
      "   1900|  0.741052  0.841615  0.741052  0.761670  0.036095|  7.055392  7.589800  7.589800  7.482352  0.189820|\n",
      "   2000|  0.741052  0.841615  0.741052  0.764372  0.037219|  7.055392  7.589800  7.589800  7.468430  0.195602|\n",
      "   2100|  0.741052  0.841615  0.741052  0.768521  0.038564|  7.055392  7.589800  7.589800  7.447028  0.202551|\n",
      "   2200|  0.741052  0.841615  0.741052  0.773636  0.039821|  7.055392  7.589800  7.589800  7.420526  0.209231|\n",
      "   2300|  0.741052  0.841615  0.781834  0.778750  0.040398|  7.055392  7.589800  7.387539  7.394024  0.212424|\n",
      "   2400|  0.741052  0.841615  0.788480  0.783689  0.040126|  7.055392  7.589800  7.352673  7.368542  0.211143|\n",
      "   2500|  0.741052  0.841615  0.795126  0.788695  0.040983|  7.055392  7.589800  7.317806  7.341901  0.215612|\n",
      "   2600|  0.741052  0.841615  0.795126  0.795094  0.039531|  7.055392  7.589800  7.317806  7.308599  0.208335|\n",
      "   2700|  0.741052  0.841615  0.819916  0.798158  0.039001|  7.055392  7.589800  7.181809  7.292392  0.205745|\n",
      "   2800|  0.741052  0.841615  0.819916  0.800550  0.038003|  7.055392  7.589800  7.181809  7.279926  0.200698|\n",
      "   2900|  0.734599  0.841615  0.819916  0.800275  0.038113|  7.055392  7.620373  7.181809  7.281365  0.201251|\n",
      "   3000|  0.734599  0.841615  0.819916  0.801206  0.037959|  7.055392  7.620373  7.181809  7.276378  0.200652|\n",
      "   3100|  0.734599  0.841615  0.819916  0.801358  0.038235|  7.055392  7.620373  7.181809  7.275419  0.202139|\n",
      "   3200|  0.734599  0.841615  0.819916  0.801827  0.038608|  7.055392  7.620373  7.181809  7.272696  0.204148|\n",
      "   3300|  0.734599  0.841615  0.819916  0.801725  0.038531|  7.055392  7.620373  7.181809  7.273301  0.203554|\n",
      "   3400|  0.734599  0.841615  0.837525  0.817081  0.034980|  7.055392  8.549470  7.079811  7.204519  0.229970|\n",
      "   3500|  0.734599  0.877589  0.834491  0.812757  0.037280|  7.055392  8.549470  7.113810  7.244145  0.265812|\n",
      "   3600|  0.734599  0.877589  0.837525  0.824810  0.032516|  7.055392  8.549470  7.079811  7.207374  0.319190|\n",
      "   3700|  0.836701  0.915066  0.837525  0.840940  0.010821|  7.055392  8.549470  7.079811  7.259798  0.485593|\n",
      "   3800|  0.741052  0.915066  0.837525  0.842744  0.025559|  7.055392  8.549470  7.079811  7.487616  0.637270|\n",
      "   3900|  0.536446  0.915066  0.838178  0.852328  0.050981|  7.055392  8.700666  8.473872  8.203431  0.549129|\n",
      "   4000|  0.752342  0.915066  0.877589  0.879336  0.039501|  8.403136  8.700666  8.473872  8.469855  0.072947|\n",
      "   4100|  0.752342  0.915066  0.877589  0.872293  0.049567|  8.403136  8.700666  8.473872  8.482583  0.091329|\n",
      "   4200|  0.752342  0.915066  0.877589  0.871760  0.044599|  8.403136  8.700666  8.473872  8.483798  0.082245|\n",
      "   4300|  0.752342  0.915066  0.877589  0.880762  0.049073|  8.403136  8.700666  8.473872  8.466799  0.089835|\n",
      "   4400|  0.752342  0.915066  0.877589  0.859818  0.045882|  8.403136  8.700666  8.473872  8.505958  0.083218|\n",
      "   4500|  0.752342  0.915066  0.877589  0.843339  0.061203|  8.403136  8.700666  8.473872  8.535593  0.111228|\n",
      "   4600|  0.752342  0.915066  0.752342  0.804766  0.063914|  8.403136  8.700666  8.700666  8.605607  0.116129|\n",
      "   4700|  0.752342  0.915066  0.877589  0.852928  0.059440|  8.403136  8.700666  8.473872  8.518022  0.108510|\n",
      "   4800|  0.752342  0.915066  0.897709  0.875137  0.039211|  8.403136  8.700666  8.436073  8.477712  0.072510|\n",
      "   4900|  0.752342  0.915066  0.836701  0.856163  0.039833|  8.403136  8.700666  8.549470  8.512930  0.073686|\n",
      "   5000|  0.752342  0.915066  0.915066  0.891044  0.044688|  8.403136  8.700666  8.403136  8.447684  0.082088|\n"
     ]
    }
   ],
   "source": [
    "solutions = ea.run()"
   ]
  },
  {
   "cell_type": "markdown",
   "metadata": {},
   "source": [
    "We can now list the set of solutions:"
   ]
  },
  {
   "cell_type": "code",
   "execution_count": 38,
   "metadata": {},
   "outputs": [
    {
     "data": {
      "text/html": [
       "<div>\n",
       "<style scoped>\n",
       "    .dataframe tbody tr th:only-of-type {\n",
       "        vertical-align: middle;\n",
       "    }\n",
       "\n",
       "    .dataframe tbody tr th {\n",
       "        vertical-align: top;\n",
       "    }\n",
       "\n",
       "    .dataframe thead th {\n",
       "        text-align: right;\n",
       "    }\n",
       "</style>\n",
       "<table border=\"1\" class=\"dataframe\">\n",
       "  <thead>\n",
       "    <tr style=\"text-align: right;\">\n",
       "      <th></th>\n",
       "      <th>Modification</th>\n",
       "      <th>Size</th>\n",
       "      <th>BPCY</th>\n",
       "      <th>TargetFlux</th>\n",
       "    </tr>\n",
       "  </thead>\n",
       "  <tbody>\n",
       "    <tr>\n",
       "      <th>0</th>\n",
       "      <td>{'b2914': 2, 'b1297': 2, 'b3956': 16}</td>\n",
       "      <td>3</td>\n",
       "      <td>0.907689</td>\n",
       "      <td>8.417174</td>\n",
       "    </tr>\n",
       "    <tr>\n",
       "      <th>1</th>\n",
       "      <td>{'b2914': 2, 'b3956': 16}</td>\n",
       "      <td>2</td>\n",
       "      <td>0.915066</td>\n",
       "      <td>8.403136</td>\n",
       "    </tr>\n",
       "  </tbody>\n",
       "</table>\n",
       "</div>"
      ],
      "text/plain": [
       "                            Modification  Size      BPCY  TargetFlux\n",
       "0  {'b2914': 2, 'b1297': 2, 'b3956': 16}     3  0.907689    8.417174\n",
       "1              {'b2914': 2, 'b3956': 16}     2  0.915066    8.403136"
      ]
     },
     "execution_count": 38,
     "metadata": {},
     "output_type": "execute_result"
    }
   ],
   "source": [
    "df=ea.dataframe()\n",
    "df"
   ]
  },
  {
   "cell_type": "markdown",
   "metadata": {},
   "source": [
    "Or view the best solutions on the objective space, the so called Pareto front:"
   ]
  },
  {
   "cell_type": "code",
   "execution_count": 55,
   "metadata": {},
   "outputs": [
    {
     "data": {
      "text/html": [
       "\n",
       "        <table>\n",
       "            <tr>\n",
       "                <td><strong>Gene identifier</strong></td><td>b2914</td>\n",
       "            </tr><tr>\n",
       "                <td><strong>Name</strong></td><td>rpiA</td>\n",
       "            </tr><tr>\n",
       "                <td><strong>Memory address</strong></td>\n",
       "                <td>0x07f6f781d9d30</td>\n",
       "            </tr><tr>\n",
       "                <td><strong>Functional</strong></td><td>True</td>\n",
       "            </tr><tr>\n",
       "                <td><strong>In 1 reaction(s)</strong></td><td>\n",
       "                    RPI</td>\n",
       "            </tr>\n",
       "        </table>"
      ],
      "text/plain": [
       "<Gene b2914 at 0x7f6f781d9d30>"
      ]
     },
     "execution_count": 55,
     "metadata": {},
     "output_type": "execute_result"
    }
   ],
   "source": [
    "model.genes.b2914"
   ]
  },
  {
   "cell_type": "code",
   "execution_count": 52,
   "metadata": {},
   "outputs": [],
   "source": [
    "#ea.plot()"
   ]
  },
  {
   "cell_type": "markdown",
   "metadata": {},
   "source": [
    "We can save the solutions to file:\n",
    "#df.to_csv('solutions.csv')\n",
    "\n",
    "or performe additional analysis on the solutions by retreiving the simulator used during the optimization.\n"
   ]
  },
  {
   "cell_type": "markdown",
   "metadata": {},
   "source": [
    "## Working with solutions\n",
    "\n",
    "Let us select the first solution:"
   ]
  },
  {
   "cell_type": "code",
   "execution_count": 40,
   "metadata": {},
   "outputs": [
    {
     "data": {
      "text/plain": [
       "[0.9076888428553501, 8.417173586140708];{'b2914': 2, 'b1297': 2, 'b3956': 16}"
      ]
     },
     "execution_count": 40,
     "metadata": {},
     "output_type": "execute_result"
    }
   ],
   "source": [
    "solution = solutions[0]\n",
    "solution"
   ]
  },
  {
   "cell_type": "markdown",
   "metadata": {},
   "source": [
    "The solution is converted to metabolict constraints to be applied to the model. We can access these constrains using solution.constraints"
   ]
  },
  {
   "cell_type": "code",
   "execution_count": 41,
   "metadata": {},
   "outputs": [
    {
     "data": {
      "text/plain": [
       "{'GLNS': (0.10824443249463758, 10000),\n",
       " 'PPC': (9.704661580184071, 10000),\n",
       " 'RPI': (-10000, -0.30428665653948195)}"
      ]
     },
     "execution_count": 41,
     "metadata": {},
     "output_type": "execute_result"
    }
   ],
   "source": [
    "solution.constraints"
   ]
  },
  {
   "cell_type": "markdown",
   "metadata": {},
   "source": [
    "We may run phenotypic simulations with the solution using those constraints. Note that there is no need to redefine the medium as they are persistent in the simulator instance.\n"
   ]
  },
  {
   "cell_type": "code",
   "execution_count": 42,
   "metadata": {},
   "outputs": [
    {
     "data": {
      "text/plain": [
       "objective: 0.0\n",
       "Status: OPTIMAL\n",
       "Constraints: OrderedDict([('EX_o2_e', (0, 0)), ('GLNS', (0.10824443249463758, 10000)), ('PPC', (9.704661580184071, 10000)), ('RPI', (-10000, -0.30428665653948195))])\n",
       "Method:ROOM"
      ]
     },
     "execution_count": 42,
     "metadata": {},
     "output_type": "execute_result"
    }
   ],
   "source": [
    "sim = problem.simulator\n",
    "res=sim.simulate(constraints=solution.constraints,method='ROOM')\n",
    "res"
   ]
  },
  {
   "cell_type": "code",
   "execution_count": 43,
   "metadata": {},
   "outputs": [
    {
     "data": {
      "text/html": [
       "<div>\n",
       "<style scoped>\n",
       "    .dataframe tbody tr th:only-of-type {\n",
       "        vertical-align: middle;\n",
       "    }\n",
       "\n",
       "    .dataframe tbody tr th {\n",
       "        vertical-align: top;\n",
       "    }\n",
       "\n",
       "    .dataframe thead th {\n",
       "        text-align: right;\n",
       "    }\n",
       "</style>\n",
       "<table border=\"1\" class=\"dataframe\">\n",
       "  <thead>\n",
       "    <tr style=\"text-align: right;\">\n",
       "      <th></th>\n",
       "      <th>Flux rate</th>\n",
       "    </tr>\n",
       "    <tr>\n",
       "      <th>Reaction ID</th>\n",
       "      <th></th>\n",
       "    </tr>\n",
       "  </thead>\n",
       "  <tbody>\n",
       "    <tr>\n",
       "      <th>ACALD</th>\n",
       "      <td>-1.270923</td>\n",
       "    </tr>\n",
       "    <tr>\n",
       "      <th>ACALDt</th>\n",
       "      <td>0.000000</td>\n",
       "    </tr>\n",
       "    <tr>\n",
       "      <th>ACKr</th>\n",
       "      <td>-8.435232</td>\n",
       "    </tr>\n",
       "    <tr>\n",
       "      <th>ACONTa</th>\n",
       "      <td>0.115941</td>\n",
       "    </tr>\n",
       "    <tr>\n",
       "      <th>ACONTb</th>\n",
       "      <td>0.115941</td>\n",
       "    </tr>\n",
       "    <tr>\n",
       "      <th>...</th>\n",
       "      <td>...</td>\n",
       "    </tr>\n",
       "    <tr>\n",
       "      <th>TALA</th>\n",
       "      <td>0.207818</td>\n",
       "    </tr>\n",
       "    <tr>\n",
       "      <th>THD2</th>\n",
       "      <td>0.000000</td>\n",
       "    </tr>\n",
       "    <tr>\n",
       "      <th>TKT1</th>\n",
       "      <td>0.207818</td>\n",
       "    </tr>\n",
       "    <tr>\n",
       "      <th>TKT2</th>\n",
       "      <td>0.169024</td>\n",
       "    </tr>\n",
       "    <tr>\n",
       "      <th>TPI</th>\n",
       "      <td>9.655682</td>\n",
       "    </tr>\n",
       "  </tbody>\n",
       "</table>\n",
       "<p>95 rows × 1 columns</p>\n",
       "</div>"
      ],
      "text/plain": [
       "             Flux rate\n",
       "Reaction ID           \n",
       "ACALD        -1.270923\n",
       "ACALDt        0.000000\n",
       "ACKr         -8.435232\n",
       "ACONTa        0.115941\n",
       "ACONTb        0.115941\n",
       "...                ...\n",
       "TALA          0.207818\n",
       "THD2          0.000000\n",
       "TKT1          0.207818\n",
       "TKT2          0.169024\n",
       "TPI           9.655682\n",
       "\n",
       "[95 rows x 1 columns]"
      ]
     },
     "execution_count": 43,
     "metadata": {},
     "output_type": "execute_result"
    }
   ],
   "source": [
    "res.dataframe"
   ]
  },
  {
   "cell_type": "code",
   "execution_count": 44,
   "metadata": {},
   "outputs": [
    {
     "data": {
      "text/html": [
       "<div>\n",
       "<style scoped>\n",
       "    .dataframe tbody tr th:only-of-type {\n",
       "        vertical-align: middle;\n",
       "    }\n",
       "\n",
       "    .dataframe tbody tr th {\n",
       "        vertical-align: top;\n",
       "    }\n",
       "\n",
       "    .dataframe thead th {\n",
       "        text-align: right;\n",
       "    }\n",
       "</style>\n",
       "<table border=\"1\" class=\"dataframe\">\n",
       "  <thead>\n",
       "    <tr style=\"text-align: right;\">\n",
       "      <th></th>\n",
       "      <th>Flux rate</th>\n",
       "    </tr>\n",
       "    <tr>\n",
       "      <th>Reaction ID</th>\n",
       "      <th></th>\n",
       "    </tr>\n",
       "  </thead>\n",
       "  <tbody>\n",
       "    <tr>\n",
       "      <th>BIOMASS_Ecoli_core_w_GAM</th>\n",
       "      <td>0.107462</td>\n",
       "    </tr>\n",
       "    <tr>\n",
       "      <th>EX_succ_e</th>\n",
       "      <td>8.412776</td>\n",
       "    </tr>\n",
       "  </tbody>\n",
       "</table>\n",
       "</div>"
      ],
      "text/plain": [
       "                          Flux rate\n",
       "Reaction ID                        \n",
       "BIOMASS_Ecoli_core_w_GAM   0.107462\n",
       "EX_succ_e                  8.412776"
      ]
     },
     "execution_count": 44,
     "metadata": {},
     "output_type": "execute_result"
    }
   ],
   "source": [
    "res.find([PRODUCT,BIOMASS])"
   ]
  },
  {
   "cell_type": "code",
   "execution_count": 51,
   "metadata": {},
   "outputs": [
    {
     "data": {
      "image/png": "[encoded data removed]",
      "text/plain": [
       "<Figure size 640x480 with 1 Axes>"
      ]
     },
     "metadata": {},
     "output_type": "display_data"
    }
   ],
   "source": [
    "from mewpy.visualization.envelope import plot_flux_envelope\n",
    "plot_flux_envelope(sim,BIOMASS,PRODUCT,constraints = solution.constraints)\n",
    "\n",
    "# importing library\n",
    "import matplotlib.pyplot as plt\n",
    "  \n",
    "# specifying horizontal line type\n",
    "plt.axhline(y = 8.412776, color = 'r', linestyle = '-')\n",
    "plt.axvline(x = 0.107462, color = 'r', linestyle = '-')\n",
    "\n",
    "# rendering the plot\n",
    "plt.show()"
   ]
  },
  {
   "cell_type": "markdown",
   "metadata": {},
   "source": [
    "## Optimization Problem"
   ]
  },
  {
   "cell_type": "code",
   "execution_count": 62,
   "metadata": {},
   "outputs": [],
   "source": [
    "# load the model\n",
    "#from reframed.io.sbml import load_cbmodel\n",
    "#model = load_cbmodel('iJO1366SL.xml', flavor='cobra')\n",
    "\n",
    "# Define the target\n",
    "#PRODUCT_ID = 'R_EX_tyr_DASH_L_LPAREN_e_RPAREN_'\n",
    "#BIOMASS_ID = 'R_Ec_biomass_iJO1366_core_53p95M'\n",
    "\n",
    "BIOMASS_ID = 'BIOMASS_Ecoli_core_w_GAM'\n",
    "PRODUCT_ID = 'EX_succ_e'\n",
    "#O2 = 'EX_o2_e'\n",
    "#GLC = 'EX_glc__D_e'\n",
    "\n",
    "# environmental conditions\n",
    "#envcond = {'R_EX_o2_LPAREN_e_RPAREN_'  : (-9.66, 100000.0),\n",
    "#           'R_EX_glc_LPAREN_e_RPAREN_' : (-12.5,100000.0)}\n",
    "\n",
    "envcond = anaerobic\n",
    "\n",
    "# Optimization objectives\n",
    "from mewpy.optimization.evaluation import  BPCY, WYIELD\n",
    "evaluator_1 = BPCY(BIOMASS_ID, PRODUCT_ID, method='lMOMA')\n",
    "evaluator_2 = WYIELD(BIOMASS_ID, PRODUCT_ID)"
   ]
  },
  {
   "cell_type": "code",
   "execution_count": 63,
   "metadata": {},
   "outputs": [],
   "source": [
    "from mewpy.problems import ROUProblem\n",
    "problem = ROUProblem(model, \n",
    "               fevaluation=[evaluator_1, evaluator_2], \n",
    "               envcond=envcond)"
   ]
  },
  {
   "cell_type": "code",
   "execution_count": 66,
   "metadata": {},
   "outputs": [
    {
     "name": "stdout",
     "output_type": "stream",
     "text": [
      "Running NSGAII\n",
      "Eval(s)|     Worst      Best    Median   Average   Std Dev|     Worst      Best    Median   Average   Std Dev|\n",
      "    100|  -0.000000  0.842784  0.000000  0.008831  0.083868|  0.000000  5.830126  0.000000  0.105063  0.639129|\n",
      "    200|  -0.000000  0.842784  0.000000  0.011064  0.084870|  0.000000  5.830126  0.051864  0.232690  0.851600|\n",
      "    300|  -0.000000  0.842784  0.000000  0.028260  0.122760|  0.016080  5.830126  0.066885  0.785476  1.424050|\n",
      "    400|  -0.000000  0.842784  0.000432  0.086457  0.205137|  0.000000  7.489273  0.567490  1.889727  1.914397|\n",
      "    500|  -0.000000  0.853981  0.032807  0.228628  0.313353|  0.262920  149.921184  3.517183  5.151748  14.645973|\n",
      "    600|  -0.000000  0.853981  0.491410  0.490368  0.344996|  2.181884  153.318001  5.827167  13.613638  34.621854|\n",
      "    700|  0.000000  1.050701  0.842200  0.608185  0.293379|  5.827167  153.318001  5.963180  17.978348  39.168540|\n",
      "    800|  0.000000  396.629180  0.842784  6.962069  45.613395|  5.685929  154.123690  6.156655  28.600149  51.629495|\n",
      "    900|  0.000000  726.801158  0.842784  38.988323  141.978147|  5.685929  154.743125  6.544137  38.772617  58.075070|\n",
      "   1000|  0.128393  726.801158  0.514312  107.646554  224.273161|  5.685929  154.743125  56.495236  79.679940  67.363032|\n",
      "   1100|  0.158842  726.801158  0.183009  203.746152  279.851669|  17.712516  158.044894  154.123690  111.507198  53.238027|\n",
      "   1200|  0.158842  743.864214  0.216037  290.834160  351.536296|  42.829475  158.044894  154.123690  112.998961  48.344970|\n",
      "   1300|  0.183009  1175.414254  726.801158  426.292112  365.292676|  56.495236  158.044894  56.495236  96.811514  47.555120|\n",
      "   1400|  0.183009  1175.414254  0.307083  362.532112  394.471661|  56.495236  158.978720  128.015919  108.971096  47.606812|\n",
      "   1500|  0.216037  1175.414254  0.307083  306.839146  433.794373|  56.495236  158.978720  155.681547  123.268882  43.095496|\n",
      "   1600|  0.218493  1175.414254  0.307083  321.462381  471.343425|  57.026077  170.859754  158.044894  129.118409  39.981325|\n",
      "   1700|  0.307083  1585.048614  0.691596  394.716307  535.377492|  69.928974  171.249231  158.044894  133.870255  37.322653|\n",
      "   1800|  0.343102  1585.048614  0.902585  574.576328  600.193342|  90.058796  180.173508  152.998809  130.841475  38.195711|\n",
      "   1900|  0.902585  1753.290106  1.023017  583.164547  641.397371|  90.058796  201.821948  171.249231  137.925680  38.839095|\n",
      "   2000|  0.902585  1753.290106  1.802531  568.783304  706.980888|  90.058796  201.821948  171.249231  149.570343  34.196739|\n",
      "   2100|  0.902585  2338.570296  515.572880  784.507645  792.589450|  103.321838  235.026121  169.385696  155.062729  34.643310|\n",
      "   2200|  2.058117  2338.570296  1585.048614  982.672419  808.828401|  122.706168  235.026121  135.645082  156.203489  38.932313|\n",
      "   2300|  2.058117  2338.570296  3.602425  668.366619  901.744742|  122.706168  235.026121  187.808242  178.193605  34.494557|\n",
      "   2400|  2.958064  2482.265458  10.580331  919.328802  1010.434314|  135.645082  265.598838  187.808242  183.353612  40.342463|\n",
      "   2500|  3.602425  2482.265458  19.009106  1064.806496  1149.491327|  135.645082  265.598838  201.434879  214.639158  30.419989|\n",
      "   2600|  3.602425  3582.625506  2338.570296  1334.356950  1179.178728|  188.000914  315.887904  194.146241  221.248908  36.937730|\n",
      "   2700|  4.757958  3582.625506  1178.794209  1234.668708  1240.787299|  188.000914  350.634691  265.211769  233.373000  40.728295|\n",
      "   2800|  4.757958  3582.625506  2338.570296  1321.120158  1303.266277|  188.000914  350.634691  265.211769  242.151709  44.184516|\n",
      "   2900|  4.757958  3582.625506  2482.265458  1524.983078  1381.894614|  200.291569  350.634691  265.211769  251.430150  51.621074|\n",
      "   3000|  4.757958  3582.625506  2482.265458  2093.222733  1437.870638|  200.291569  350.634691  315.887904  277.636567  60.141690|\n",
      "   3100|  8.357746  3582.625506  3500.075603  2589.025157  1569.884749|  315.887904  350.634691  320.026025  327.163359  14.640254|\n",
      "   3200|  8.357746  3582.625506  3548.912482  2594.452536  1573.091143|  315.887904  350.634691  315.922593  326.428210  14.977093|\n",
      "   3300|  8.357746  3582.625506  3548.912482  2558.004296  1590.301449|  315.887904  350.634691  315.922593  326.695344  15.166102|\n",
      "   3400|  8.357746  3582.625506  3548.912482  2810.074831  1444.580891|  315.887904  350.634691  315.922593  323.692502  14.020772|\n",
      "   3500|  8.357746  3582.625506  3548.912482  3026.410798  1267.466832|  315.887904  350.634691  315.922593  321.684599  12.326770|\n",
      "   3600|  8.357746  3582.625506  3582.625506  3168.826117  1110.465825|  315.887904  350.654372  315.887904  320.375356  10.849787|\n",
      "   3700|  8.357746  3582.625506  3548.912482  2978.539581  1295.191734|  315.887904  350.654372  315.922593  322.932934  12.453055|\n",
      "   3800|  8.358498  3582.625506  3515.266481  3219.646147  1009.123075|  315.887904  350.654372  315.957282  320.918144  9.923647|\n",
      "   3900|  8.358498  3582.625506  3515.266481  3252.465772  955.466210|  315.887904  350.654372  315.957282  320.564274  9.465753|\n",
      "   4000|  8.358498  3582.625506  3515.266481  3066.400644  1180.084454|  315.887904  350.654372  315.957282  323.277118  11.178993|\n",
      "   4100|  8.358498  3582.625506  3500.908230  3031.044329  1217.620881|  315.887904  350.654372  319.653164  323.705485  11.456800|\n",
      "   4200|  8.358498  3582.625506  3485.297761  3131.425052  1097.118334|  315.887904  350.654372  324.075606  323.304280  10.332018|\n",
      "   4300|  8.358498  3582.625506  3485.297761  3130.635863  1096.576204|  315.887904  350.654372  324.075606  323.538800  10.248287|\n",
      "   4400|  8.358498  3582.625506  3485.297761  3026.874533  1217.093168|  315.887904  350.654372  324.075606  324.173357  11.308180|\n",
      "   4500|  8.358498  3582.625506  3485.297761  3054.321662  1176.351117|  315.887904  350.654372  324.075606  324.813698  10.625192|\n",
      "   4600|  8.358498  3582.625506  3485.297761  3017.974554  1213.212516|  315.887904  350.654372  324.075606  325.234669  10.855568|\n",
      "   4700|  8.358498  3582.625506  3485.297761  3018.830705  1213.550325|  315.887904  350.654372  324.075606  324.977444  10.964328|\n",
      "   4800|  8.358498  3582.625506  3485.297761  2983.185232  1248.625397|  315.887904  350.654372  324.075606  325.574979  11.099423|\n",
      "   4900|  8.358498  3582.625506  3485.297761  3121.125473  1092.825529|  315.887904  350.654372  324.075606  324.548598  9.813135|\n",
      "   5000|  8.358498  3582.625506  3485.297761  3085.755746  1134.947581|  315.887904  350.654372  324.075606  324.874167  10.114893|\n",
      "   5100|  8.358498  3582.625506  3485.297761  3155.559230  1048.323749|  315.887904  350.654372  324.075606  324.165055  9.496016|\n",
      "   5200|  8.358498  3582.625506  3485.297761  3083.457918  1134.566394|  315.887904  350.654372  324.075606  324.849747  10.091409|\n",
      "   5300|  8.358498  3582.625506  3485.297761  2977.336998  1245.815334|  315.887904  350.654372  324.075606  325.756706  10.940393|\n",
      "   5400|  8.358498  3582.625506  3486.549980  2908.445626  1310.926697|  315.887904  350.654372  323.349045  326.031036  11.575735|\n",
      "   5500|  8.358498  3582.625506  3486.549980  2836.490052  1367.972377|  315.887904  350.654372  323.349045  326.711231  11.970147|\n",
      "   5600|  8.358498  3582.625506  3486.549980  2800.825988  1394.505277|  315.887904  350.654372  323.349045  327.182768  12.084521|\n",
      "   5700|  8.358498  3582.625506  3486.549980  2661.150029  1488.719847|  315.887904  350.654372  323.349045  328.392739  12.797193|\n",
      "   5800|  8.358498  3582.625506  3486.601310  2800.228168  1393.978239|  315.887904  350.654372  323.346650  327.137019  12.080326|\n",
      "   5900|  8.358498  3582.625506  3486.960593  2800.264209  1393.775725|  315.887904  350.654372  323.329883  326.952827  12.161229|\n",
      "   6000|  8.358498  3582.625506  3488.609647  2835.370299  1367.173464|  315.887904  350.654372  322.581764  326.444525  12.019063|\n",
      "   6100|  8.358498  3582.625506  3488.864722  2973.764593  1243.966620|  315.887904  350.654372  322.569788  325.361000  10.934578|\n",
      "   6200|  8.358498  3582.625506  3488.966747  2973.960284  1244.048438|  315.887904  350.654372  322.564998  325.261733  10.984666|\n",
      "   6300|  8.358498  3582.625506  3488.762697  2938.822762  1277.252116|  315.887904  350.654372  322.574579  325.712940  11.182170|\n",
      "   6400|  8.358498  3582.625506  3488.966747  3043.266658  1171.548604|  315.887904  350.654372  322.564998  324.814935  10.325932|\n",
      "   6500|  8.358498  3582.625506  3488.966747  3147.680604  1044.912581|  315.887904  350.654372  322.564998  323.914997  9.316355|\n",
      "   6600|  8.358498  3582.625506  3488.966747  3147.487666  1044.848649|  315.887904  350.654372  322.564998  324.020812  9.271579|\n",
      "   6700|  8.358498  3582.625506  3488.966747  3216.906946  945.074153|  315.887904  350.654372  322.564998  323.408812  8.479703|\n",
      "   6800|  8.358498  3582.625506  3488.966747  3286.602484  827.709885|  315.887904  350.654372  322.564998  322.724743  7.605359|\n",
      "   6900|  8.358498  3582.625506  3488.966747  3287.027054  827.834437|  315.887904  350.654372  322.564998  322.744612  7.613684|\n",
      "   7000|  8.358498  3582.625506  3488.762697  3252.157542  889.142830|  315.887904  350.654372  322.574579  323.109414  8.075798|\n",
      "   7100|  8.358498  3582.625506  3488.966747  3251.658814  888.989692|  315.887904  350.654372  322.564998  323.135687  8.046783|\n",
      "   7200|  8.358498  3582.625506  3489.170769  3252.744567  889.328443|  315.887904  350.654372  322.555417  323.031254  8.085066|\n",
      "   7300|  8.358498  3582.625506  3488.966747  3252.436718  889.242802|  315.887904  350.654372  322.564998  323.112820  8.054297|\n",
      "   7400|  8.358498  3582.625506  3488.966747  3252.933675  889.394403|  315.887904  350.654372  322.564998  323.097224  8.063845|\n",
      "   7500|  8.358498  3582.625506  3488.966747  3252.901435  889.385295|  315.887904  350.654372  322.564998  323.119371  8.044608|\n",
      "   7600|  8.358498  3582.625506  3489.374792  3287.854995  827.733041|  315.887904  350.654372  322.545836  322.760166  7.577168|\n",
      "   7700|  8.358498  3582.625506  3488.966747  3253.183610  888.482946|  315.887904  350.654372  322.564998  323.095901  8.049615|\n",
      "   7800|  8.358498  3582.625506  3488.966747  3251.548366  888.187378|  315.887904  350.654372  322.564998  323.182245  8.046140|\n",
      "   7900|  8.358498  3582.625506  3488.864722  3213.791811  943.096237|  315.887904  350.654372  322.569788  323.591886  8.504811|\n",
      "   8000|  8.358498  3582.625506  3488.711682  3178.969483  994.212887|  315.887904  350.654372  322.576974  324.009439  8.855028|\n",
      "   8100|  8.358498  3582.625506  3488.711682  3178.940496  994.203818|  315.887904  350.654372  322.576974  324.026122  8.850738|\n",
      "   8200|  8.358498  3582.625506  3488.609647  3175.758861  993.468003|  315.887904  350.654372  322.581764  324.145416  8.885935|\n",
      "   8300|  8.358498  3582.625506  3488.375312  3072.209307  1126.411503|  315.887904  350.654372  322.928279  324.829475  9.662505|\n",
      "   8400|  8.358498  3582.625506  3488.558629  3105.622692  1083.701344|  315.887904  350.654372  322.584160  324.388758  9.049801|\n",
      "   8500|  8.358498  3582.625506  3488.191995  3069.543143  1123.904390|  315.887904  350.654372  323.272398  324.678589  9.102729|\n",
      "   8600|  8.358498  3582.625506  3488.191995  3100.522099  1082.266090|  315.887904  350.654372  323.272398  324.713638  9.091563|\n",
      "   8700|  8.358498  3582.625506  3488.375312  3135.257836  1037.551954|  315.887904  350.654372  322.928279  324.424570  8.719692|\n",
      "   8800|  8.358498  3582.625506  3488.375312  3102.549638  1081.417099|  315.887904  350.654372  322.928279  324.516006  8.727427|\n",
      "   8900|  8.358498  3582.625506  3488.375312  3105.660791  1082.292947|  315.887904  350.654372  322.928279  324.422218  8.712439|\n",
      "   9000|  8.358498  3582.625506  3487.781565  3068.141834  1122.122770|  315.887904  350.654372  323.291559  324.707336  8.806078|\n",
      "   9100|  8.358498  3582.625506  3487.781565  3100.185089  1080.696923|  315.887904  350.654372  323.291559  324.719452  8.734899|\n",
      "   9200|  8.358498  3582.625506  3488.609647  2995.984946  1195.818659|  315.887904  350.654372  322.581764  325.137579  9.259414|\n",
      "   9300|  8.358498  3582.625506  3488.375312  2957.898745  1229.889298|  315.887904  350.654372  322.928279  325.609164  9.568631|\n",
      "   9400|  8.358498  3615.628714  3484.781452  2595.154222  1481.330100|  315.887904  350.654372  324.109140  329.364363  11.398073|\n",
      "   9500|  8.358498  3748.721917  3321.478005  1771.634455  1671.171070|  315.887904  350.654372  331.350548  337.083790  10.353960|\n",
      "   9600|  8.358498  3748.721917  62.032270  1567.820287  1669.362747|  324.909571  350.654372  335.024288  339.500576  9.814174|\n",
      "   9700|  8.358498  3763.802171  33.420280  1017.956575  1557.587484|  329.107825  467.628264  350.326346  345.763012  14.957555|\n",
      "   9800|  8.358498  3763.802171  16.714710  581.069510  1332.349335|  336.904252  467.628264  350.545030  353.737247  23.543375|\n",
      "   9900|  8.358498  3763.802171  22.240911  880.189240  1570.909171|  336.904252  467.628264  350.545030  359.220636  33.243129|\n",
      "  10000|  8.358878  3778.780212  44.425653  1484.434908  1817.531177|  336.904252  468.284872  350.395790  380.235348  51.439341|\n"
     ]
    }
   ],
   "source": [
    "# run the optimization\n",
    "from mewpy.optimization import EA\n",
    "ea = EA(problem, max_generations= 100)\n",
    "final_pop = ea.run()"
   ]
  },
  {
   "cell_type": "code",
   "execution_count": 67,
   "metadata": {},
   "outputs": [],
   "source": [
    "final_pop1 = final_pop[0]"
   ]
  },
  {
   "cell_type": "code",
   "execution_count": 68,
   "metadata": {},
   "outputs": [
    {
     "data": {
      "text/plain": [
       "{'EX_for_e': (0, 0),\n",
       " 'EX_h_e': (977.7349845627958, 10000),\n",
       " 'ACONTa': (7.307621007021649, 10000),\n",
       " 'ACt2r': (-10000, -136.05736444738312),\n",
       " 'EX_glc__D_e': (-10000, -20.0),\n",
       " 'ICDHyr': (0, 0.11418157823471328)}"
      ]
     },
     "execution_count": 68,
     "metadata": {},
     "output_type": "execute_result"
    }
   ],
   "source": [
    "final_pop1.constraints"
   ]
  }
 ],
 "metadata": {
  "kernelspec": {
   "display_name": "Python 3.9.7 ('thedream')",
   "language": "python",
   "name": "python3"
  },
  "language_info": {
   "codemirror_mode": {
    "name": "ipython",
    "version": 3
   },
   "file_extension": ".py",
   "mimetype": "text/x-python",
   "name": "python",
   "nbconvert_exporter": "python",
   "pygments_lexer": "ipython3",
   "version": "3.9.7"
  },
  "orig_nbformat": 4,
  "vscode": {
   "interpreter": {
    "hash": "fda4ecd6cc57b5afa512adcd7f6c6e5bba31f69455292c4ced40ed9bda2cf5eb"
   }
  }
 },
 "nbformat": 4,
 "nbformat_minor": 2
}
