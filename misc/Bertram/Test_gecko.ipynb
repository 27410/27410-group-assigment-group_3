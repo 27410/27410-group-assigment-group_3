{
 "cells": [
  {
   "cell_type": "markdown",
   "metadata": {},
   "source": [
    "## generating a gecko model\n",
    "\n",
    "https://github.com/tibbdc/ECMpy"
   ]
  },
  {
   "cell_type": "code",
   "execution_count": 6,
   "metadata": {},
   "outputs": [],
   "source": [
    "from os.path import join, pardir\n",
    "\n",
    "import geckopy\n",
    "\n",
    "ROOT = pardir\n",
    "DATA = join(ROOT, \"tests\", \"data\")\n"
   ]
  },
  {
   "cell_type": "code",
   "execution_count": 4,
   "metadata": {},
   "outputs": [
    {
     "name": "stdout",
     "output_type": "stream",
     "text": [
      "Loading ../../models/iMM904.xml\n"
     ]
    }
   ],
   "source": [
    "infilename = '../../models/iMM904.xml'\n",
    "print(f\"Loading {infilename}\")\n",
    "#model = read_sbml_model(infilename)"
   ]
  },
  {
   "cell_type": "code",
   "execution_count": 3,
   "metadata": {},
   "outputs": [
    {
     "data": {
      "text/html": [
       "<strong><em>Optimal</em> solution with objective value 0.090</strong><br><div>\n",
       "<style scoped>\n",
       "    .dataframe tbody tr th:only-of-type {\n",
       "        vertical-align: middle;\n",
       "    }\n",
       "\n",
       "    .dataframe tbody tr th {\n",
       "        vertical-align: top;\n",
       "    }\n",
       "\n",
       "    .dataframe thead th {\n",
       "        text-align: right;\n",
       "    }\n",
       "</style>\n",
       "<table border=\"1\" class=\"dataframe\">\n",
       "  <thead>\n",
       "    <tr style=\"text-align: right;\">\n",
       "      <th></th>\n",
       "      <th>fluxes</th>\n",
       "      <th>reduced_costs</th>\n",
       "    </tr>\n",
       "  </thead>\n",
       "  <tbody>\n",
       "    <tr>\n",
       "      <th>r_0006</th>\n",
       "      <td>0.021510</td>\n",
       "      <td>5.551115e-17</td>\n",
       "    </tr>\n",
       "    <tr>\n",
       "      <th>r_0070</th>\n",
       "      <td>0.000000</td>\n",
       "      <td>-7.462395e-01</td>\n",
       "    </tr>\n",
       "    <tr>\n",
       "      <th>r_0094</th>\n",
       "      <td>0.000000</td>\n",
       "      <td>-5.551115e-17</td>\n",
       "    </tr>\n",
       "    <tr>\n",
       "      <th>r_0099</th>\n",
       "      <td>0.000000</td>\n",
       "      <td>5.551115e-17</td>\n",
       "    </tr>\n",
       "    <tr>\n",
       "      <th>r_0200</th>\n",
       "      <td>0.000000</td>\n",
       "      <td>6.938894e-18</td>\n",
       "    </tr>\n",
       "    <tr>\n",
       "      <th>...</th>\n",
       "      <td>...</td>\n",
       "      <td>...</td>\n",
       "    </tr>\n",
       "    <tr>\n",
       "      <th>draw_prot_P47096</th>\n",
       "      <td>0.000000</td>\n",
       "      <td>-1.568255e+01</td>\n",
       "    </tr>\n",
       "    <tr>\n",
       "      <th>draw_prot_P24521</th>\n",
       "      <td>0.000002</td>\n",
       "      <td>-3.552714e-15</td>\n",
       "    </tr>\n",
       "    <tr>\n",
       "      <th>draw_prot_P00899</th>\n",
       "      <td>0.000001</td>\n",
       "      <td>-3.552714e-15</td>\n",
       "    </tr>\n",
       "    <tr>\n",
       "      <th>draw_prot_P25340</th>\n",
       "      <td>0.000001</td>\n",
       "      <td>0.000000e+00</td>\n",
       "    </tr>\n",
       "    <tr>\n",
       "      <th>draw_prot_P36165</th>\n",
       "      <td>0.000000</td>\n",
       "      <td>-1.395115e+01</td>\n",
       "    </tr>\n",
       "  </tbody>\n",
       "</table>\n",
       "<p>6910 rows × 2 columns</p>\n",
       "</div>"
      ],
      "text/plain": [
       "<Solution 0.090 at 0x7ff4dd2623a0>"
      ]
     },
     "execution_count": 3,
     "metadata": {},
     "output_type": "execute_result"
    }
   ],
   "source": [
    "import geckopy\n",
    "from geckopy import GeckoModel\n",
    "import pandas\n",
    "some_measurements = pandas.Series({'P00549': 0.1, 'P31373': 0.1, 'P31382': 0.1})\n",
    "model = GeckoModel('multi-pool')\n",
    "model.limit_proteins(some_measurements)\n",
    "model.optimize()"
   ]
  },
  {
   "cell_type": "code",
   "execution_count": 5,
   "metadata": {},
   "outputs": [
    {
     "ename": "AttributeError",
     "evalue": "module 'geckopy' has no attribute 'io'",
     "output_type": "error",
     "traceback": [
      "\u001b[0;31m---------------------------------------------------------------------------\u001b[0m",
      "\u001b[0;31mAttributeError\u001b[0m                            Traceback (most recent call last)",
      "Cell \u001b[0;32mIn [5], line 1\u001b[0m\n\u001b[0;32m----> 1\u001b[0m model2 \u001b[39m=\u001b[39m geckopy\u001b[39m.\u001b[39;49mio\u001b[39m.\u001b[39mread_sbml_ec_model(join(DATA, infilename))\n",
      "\u001b[0;31mAttributeError\u001b[0m: module 'geckopy' has no attribute 'io'"
     ]
    }
   ],
   "source": [
    "model2 = geckopy.io.read_sbml_ec_model(join(DATA, infilename))"
   ]
  },
  {
   "cell_type": "code",
   "execution_count": 7,
   "metadata": {},
   "outputs": [
    {
     "ename": "AttributeError",
     "evalue": "module 'geckopy' has no attribute 'io'",
     "output_type": "error",
     "traceback": [
      "\u001b[0;31m---------------------------------------------------------------------------\u001b[0m",
      "\u001b[0;31mAttributeError\u001b[0m                            Traceback (most recent call last)",
      "Cell \u001b[0;32mIn [7], line 1\u001b[0m\n\u001b[0;32m----> 1\u001b[0m ec_model \u001b[39m=\u001b[39m geckopy\u001b[39m.\u001b[39;49mio\u001b[39m.\u001b[39mread_sbml_ec_model(join(DATA, infilename))\n",
      "\u001b[0;31mAttributeError\u001b[0m: module 'geckopy' has no attribute 'io'"
     ]
    }
   ],
   "source": [
    "ec_model = geckopy.io.read_sbml_ec_model(join(DATA, infilename))"
   ]
  }
 ],
 "metadata": {
  "kernelspec": {
   "display_name": "Python 3.8.15 ('ECMpy')",
   "language": "python",
   "name": "python3"
  },
  "language_info": {
   "codemirror_mode": {
    "name": "ipython",
    "version": 3
   },
   "file_extension": ".py",
   "mimetype": "text/x-python",
   "name": "python",
   "nbconvert_exporter": "python",
   "pygments_lexer": "ipython3",
   "version": "3.8.15"
  },
  "orig_nbformat": 4,
  "vscode": {
   "interpreter": {
    "hash": "4a20e157e77ad32132e0067cd1b7ea57d5710f1faf11ee7face072564fd3062b"
   }
  }
 },
 "nbformat": 4,
 "nbformat_minor": 2
}
