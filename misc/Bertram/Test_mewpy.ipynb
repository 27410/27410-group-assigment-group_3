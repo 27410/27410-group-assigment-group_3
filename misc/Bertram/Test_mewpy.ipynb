{
 "cells": [
  {
   "cell_type": "markdown",
   "metadata": {},
   "source": [
    "## Testing what we can do with mewpy\n",
    "\n",
    "https://mewpy.readthedocs.io/en/latest/main.html#:~:text=Metabolic%20Engineering%20Workbench%20in%20python,based%20models%20and%20simulation%20approaches.\n",
    "\n",
    "\n",
    "https://mewpy.readthedocs.io/en/latest/simulation.html\n",
    "\n",
    "Important for over and under expression of genes:\n",
    "https://github.com/BioSystemsUM/mewpy/blob/master/examples/optimization.ipynb\n"
   ]
  },
  {
   "cell_type": "code",
   "execution_count": 3,
   "metadata": {},
   "outputs": [],
   "source": [
    "#! pip install mewpy"
   ]
  },
  {
   "cell_type": "code",
   "execution_count": 4,
   "metadata": {},
   "outputs": [],
   "source": [
    "# Load libraries\n",
    "import numpy as np\n",
    "from cobra.io import read_sbml_model, write_sbml_model\n",
    "from cobra.util import create_stoichiometric_matrix\n",
    "from cobra import Reaction, Metabolite\n",
    "from cobra.core.gene import GPR"
   ]
  },
  {
   "cell_type": "code",
   "execution_count": 5,
   "metadata": {},
   "outputs": [
    {
     "name": "stdout",
     "output_type": "stream",
     "text": [
      "Loading ../../models/iMM904_progesterone_fixed.xml\n"
     ]
    }
   ],
   "source": [
    "infilename = '../../models/iMM904_progesterone_fixed.xml'\n",
    "print(f\"Loading {infilename}\")\n",
    "model = read_sbml_model(infilename)"
   ]
  },
  {
   "cell_type": "code",
   "execution_count": 6,
   "metadata": {},
   "outputs": [],
   "source": [
    "#model.objective = model.reactions.R02216\n",
    "#model.optimize().objective_value\n",
    "#model.add_boundary(model.metabolites.get_by_id('progesterone_c'), type='demand')\n"
   ]
  },
  {
   "cell_type": "code",
   "execution_count": 7,
   "metadata": {},
   "outputs": [
    {
     "name": "stdout",
     "output_type": "stream",
     "text": [
      "Adding reaction T_progesterone: progesterone_c --> progesterone_e\n"
     ]
    },
    {
     "data": {
      "text/html": [
       "\n",
       "        <table>\n",
       "            <tr>\n",
       "                <td><strong>Reaction identifier</strong></td><td>EX_progesterone_e</td>\n",
       "            </tr><tr>\n",
       "                <td><strong>Name</strong></td><td>EXprogesterone exchange</td>\n",
       "            </tr><tr>\n",
       "                <td><strong>Memory address</strong></td>\n",
       "                <td>0x07f63faa633d0</td>\n",
       "            </tr><tr>\n",
       "                <td><strong>Stoichiometry</strong></td>\n",
       "                <td>\n",
       "                    <p style='text-align:right'>progesterone_e <=></p>\n",
       "                    <p style='text-align:right'>EXprogesterone <=></p>\n",
       "                </td>\n",
       "            </tr><tr>\n",
       "                <td><strong>GPR</strong></td><td></td>\n",
       "            </tr><tr>\n",
       "                <td><strong>Lower bound</strong></td><td>-1000.0</td>\n",
       "            </tr><tr>\n",
       "                <td><strong>Upper bound</strong></td><td>1000.0</td>\n",
       "            </tr>\n",
       "        </table>\n",
       "        "
      ],
      "text/plain": [
       "<Reaction EX_progesterone_e at 0x7f63faa633d0>"
      ]
     },
     "execution_count": 7,
     "metadata": {},
     "output_type": "execute_result"
    }
   ],
   "source": [
    "m = Metabolite(\"progesterone_e\",formula=\"C21H30O2\",name=\"EXprogesterone\",compartment=\"e\")\n",
    "\n",
    "r = Reaction(\"T_progesterone\")\n",
    "model.add_reactions([r])\n",
    "r.name = \"T_progesterone\"\n",
    "r.lower_bound = 0.12698412\n",
    "r.upper_bound = 1000\n",
    "r.add_metabolites({\"progesterone_c\":-1,\n",
    "                    m:1})\n",
    "print(f'Adding reaction {r}')\n",
    "\n",
    "model.add_boundary(model.metabolites.get_by_id('progesterone_e'), type='exchange')"
   ]
  },
  {
   "cell_type": "code",
   "execution_count": 8,
   "metadata": {},
   "outputs": [],
   "source": [
    "# build a phenotype simulator\n",
    "from mewpy.simulation import get_simulator\n",
    "simul = get_simulator(model)"
   ]
  },
  {
   "cell_type": "code",
   "execution_count": 9,
   "metadata": {},
   "outputs": [
    {
     "data": {
      "text/plain": [
       "{'BIOMASS_SC5_notrace': 1.0}"
      ]
     },
     "execution_count": 9,
     "metadata": {},
     "output_type": "execute_result"
    }
   ],
   "source": [
    "simul.objective"
   ]
  },
  {
   "cell_type": "markdown",
   "metadata": {},
   "source": [
    "# Phenotype simulation\n",
    "\n",
    "Phenotype simulations are also run using the simulator instance using the simulate method."
   ]
  },
  {
   "cell_type": "markdown",
   "metadata": {},
   "source": [
    "## Lots of stuff"
   ]
  },
  {
   "cell_type": "code",
   "execution_count": 10,
   "metadata": {},
   "outputs": [
    {
     "data": {
      "text/plain": [
       "['2dr5p_c',\n",
       " '2hb_c',\n",
       " '2hb_e',\n",
       " '2hhxdal_c',\n",
       " '2hp6mbq_m',\n",
       " '2hp6mp_m',\n",
       " '2hpmhmbq_m',\n",
       " '2hpmmbq_m',\n",
       " '2ippm_c',\n",
       " '2kmb_c']"
      ]
     },
     "execution_count": 10,
     "metadata": {},
     "output_type": "execute_result"
    }
   ],
   "source": [
    "simul.metabolites[:10]"
   ]
  },
  {
   "cell_type": "code",
   "execution_count": 11,
   "metadata": {},
   "outputs": [
    {
     "data": {
      "text/plain": [
       "['CITtcp',\n",
       " '13BGH',\n",
       " '13BGHe',\n",
       " '13GS',\n",
       " '16GS',\n",
       " '23CAPPD',\n",
       " '2DDA7Ptm',\n",
       " '2DHPtm',\n",
       " '2DOXG6PP',\n",
       " '2HBO']"
      ]
     },
     "execution_count": 11,
     "metadata": {},
     "output_type": "execute_result"
    }
   ],
   "source": [
    "simul.reactions[:10]\n"
   ]
  },
  {
   "cell_type": "code",
   "execution_count": 12,
   "metadata": {},
   "outputs": [
    {
     "data": {
      "text/plain": [
       "{'c': 'cytosol',\n",
       " 'e': 'extracellular space',\n",
       " 'm': 'mitochondria',\n",
       " 'x': 'peroxisome/glyoxysome',\n",
       " 'r': 'endoplasmic reticulum',\n",
       " 'v': 'vacuole',\n",
       " 'g': 'golgi apparatus',\n",
       " 'n': 'nucleus'}"
      ]
     },
     "execution_count": 12,
     "metadata": {},
     "output_type": "execute_result"
    }
   ],
   "source": [
    "simul.compartments"
   ]
  },
  {
   "cell_type": "code",
   "execution_count": 13,
   "metadata": {},
   "outputs": [
    {
     "data": {
      "text/html": [
       "<div>\n",
       "<style scoped>\n",
       "    .dataframe tbody tr th:only-of-type {\n",
       "        vertical-align: middle;\n",
       "    }\n",
       "\n",
       "    .dataframe tbody tr th {\n",
       "        vertical-align: top;\n",
       "    }\n",
       "\n",
       "    .dataframe thead th {\n",
       "        text-align: right;\n",
       "    }\n",
       "</style>\n",
       "<table border=\"1\" class=\"dataframe\">\n",
       "  <thead>\n",
       "    <tr style=\"text-align: right;\">\n",
       "      <th></th>\n",
       "    </tr>\n",
       "  </thead>\n",
       "  <tbody>\n",
       "  </tbody>\n",
       "</table>\n",
       "</div>"
      ],
      "text/plain": [
       "Empty DataFrame\n",
       "Columns: []\n",
       "Index: []"
      ]
     },
     "execution_count": 13,
     "metadata": {},
     "output_type": "execute_result"
    }
   ],
   "source": [
    "# find reactions identified with a term containing 'biomass'\n",
    "simul.find('biomass', find_in='m')"
   ]
  },
  {
   "cell_type": "code",
   "execution_count": 14,
   "metadata": {},
   "outputs": [
    {
     "data": {
      "text/html": [
       "<div>\n",
       "<style scoped>\n",
       "    .dataframe tbody tr th:only-of-type {\n",
       "        vertical-align: middle;\n",
       "    }\n",
       "\n",
       "    .dataframe tbody tr th {\n",
       "        vertical-align: top;\n",
       "    }\n",
       "\n",
       "    .dataframe thead th {\n",
       "        text-align: right;\n",
       "    }\n",
       "</style>\n",
       "<table border=\"1\" class=\"dataframe\">\n",
       "  <thead>\n",
       "    <tr style=\"text-align: right;\">\n",
       "      <th></th>\n",
       "      <th>name</th>\n",
       "      <th>compartment</th>\n",
       "      <th>formula</th>\n",
       "    </tr>\n",
       "    <tr>\n",
       "      <th>id</th>\n",
       "      <th></th>\n",
       "      <th></th>\n",
       "      <th></th>\n",
       "    </tr>\n",
       "  </thead>\n",
       "  <tbody>\n",
       "    <tr>\n",
       "      <th>fadh2_m</th>\n",
       "      <td>Flavin adenine dinucleotide reduced</td>\n",
       "      <td>m</td>\n",
       "      <td>C27H33N9O15P2</td>\n",
       "    </tr>\n",
       "  </tbody>\n",
       "</table>\n",
       "</div>"
      ],
      "text/plain": [
       "                                        name compartment        formula\n",
       "id                                                                     \n",
       "fadh2_m  Flavin adenine dinucleotide reduced           m  C27H33N9O15P2"
      ]
     },
     "execution_count": 14,
     "metadata": {},
     "output_type": "execute_result"
    }
   ],
   "source": [
    "# find metabolites identified with a term containing 'o2'\n",
    "simul.find('fadh',find_in='m')"
   ]
  },
  {
   "cell_type": "markdown",
   "metadata": {},
   "source": [
    "A simulator may also be loaded considering environmental conditions, that will be considered during phenotype simulations. In the next example, glucose consumption is limited to 10 mmol/gDW/h while oxygen is set to unlimited.\n",
    "\n"
   ]
  },
  {
   "cell_type": "code",
   "execution_count": 17,
   "metadata": {},
   "outputs": [],
   "source": [
    "# environmental conditions\n",
    "envcond1 = {'EX_glc__D_e': (-50, 50),\n",
    "           'EX_o2_e':(-5,5)}\n",
    "\n",
    "envcond2 = {'EX_glc__D_e': (-0.000001, 100000.0),\n",
    "           'EX_o2_e':(-1000,1000)}\n",
    "\n",
    "envcond3 = {'EX_glc__D_e': (-100000.0, 100000.0),\n",
    "           'EX_o2_e':(-10000000,0.0001)}"
   ]
  },
  {
   "cell_type": "code",
   "execution_count": 18,
   "metadata": {},
   "outputs": [
    {
     "data": {
      "text/plain": [
       "objective: 1.1573827128273073\n",
       "Status: OPTIMAL\n",
       "Constraints: OrderedDict([('EX_glc__D_e', (-50, 50)), ('EX_o2_e', (-5, 5))])\n",
       "Method:SimulationMethod.FBA"
      ]
     },
     "execution_count": 18,
     "metadata": {},
     "output_type": "execute_result"
    }
   ],
   "source": [
    "simul1 = get_simulator(model,envcond=envcond1)\n",
    "result1 = simul1.simulate()\n",
    "result1"
   ]
  },
  {
   "cell_type": "code",
   "execution_count": null,
   "metadata": {},
   "outputs": [
    {
     "name": "stderr",
     "output_type": "stream",
     "text": [
      "/home/trinebera/miniconda3/lib/python3.9/site-packages/cobra/util/solver.py:554: UserWarning: Solver status is 'infeasible'.\n",
      "  warn(f\"Solver status is '{status}'.\", UserWarning)\n"
     ]
    },
    {
     "data": {
      "text/plain": [
       "objective: 0.026629505994517272\n",
       "Status: INFEASIBLE\n",
       "Constraints: OrderedDict([('EX_glc__D_e', (-1e-06, 100000.0)), ('EX_o2_e', (-1000, 1000))])\n",
       "Method:SimulationMethod.FBA"
      ]
     },
     "metadata": {},
     "output_type": "display_data"
    }
   ],
   "source": [
    "simul2 = get_simulator(model,envcond=envcond2)\n",
    "result2 = simul2.simulate()\n",
    "result2"
   ]
  },
  {
   "cell_type": "code",
   "execution_count": null,
   "metadata": {},
   "outputs": [
    {
     "data": {
      "text/plain": [
       "objective: 9806.493729368463\n",
       "Status: OPTIMAL\n",
       "Constraints: OrderedDict([('EX_glc__D_e', (-100000.0, 100000.0)), ('EX_o2_e', (-10000000, 0.0001))])\n",
       "Method:SimulationMethod.FBA"
      ]
     },
     "metadata": {},
     "output_type": "display_data"
    }
   ],
   "source": [
    "simul3= get_simulator(model,envcond=envcond3)\n",
    "result3 = simul3.simulate()\n",
    "result3"
   ]
  },
  {
   "cell_type": "markdown",
   "metadata": {},
   "source": [
    "All phenotype simulations will consider the imposed environmental conditions, and as such they only need to be set once. Also, these conditions do not persistently alter the model, which can be reused with a different simulator instance.\n",
    "\n"
   ]
  },
  {
   "cell_type": "code",
   "execution_count": 53,
   "metadata": {},
   "outputs": [
    {
     "data": {
      "text/plain": [
       "objective: 0.28786570370401676\n",
       "Status: OPTIMAL\n",
       "Constraints: OrderedDict()\n",
       "Method:FBA"
      ]
     },
     "execution_count": 53,
     "metadata": {},
     "output_type": "execute_result"
    }
   ],
   "source": [
    "# FBA \n",
    "result = simul.simulate(method='FBA')\n",
    "result\n",
    "# or \n",
    "# result1 = simul1.simulate(method='FBA')\n",
    "\n",
    "#objective: 0.28786570370401676\n"
   ]
  },
  {
   "cell_type": "markdown",
   "metadata": {},
   "source": [
    "Flux Balance Analysis (FBA) can be run without identifying any method, or by passing the ‘FBA’ as method parameter. Other phenotype simulation methods may also be run using one of the identifiers:\n",
    "\n",
    " - Flux Balance Analysis: method = 'FBA'\n",
    " - Parsimonious FBA:method = 'pFBA'\n",
    " - Minimization of Metabolic Adjustment:method = 'MOMA'\n",
    " - Linear MOMA: method = 'lMOMA'\n",
    " - Regulatory on/off minimization of metabolic flux: method = 'ROOM'"
   ]
  },
  {
   "cell_type": "code",
   "execution_count": 49,
   "metadata": {},
   "outputs": [
    {
     "data": {
      "text/plain": [
       "objective: 11.64705882352941\n",
       "Status: OPTIMAL\n",
       "Constraints: OrderedDict()\n",
       "Method:pFBA"
      ]
     },
     "execution_count": 49,
     "metadata": {},
     "output_type": "execute_result"
    }
   ],
   "source": [
    "# pFBA\n",
    "result = simul.simulate(method = 'pFBA')\n",
    "result"
   ]
  },
  {
   "cell_type": "code",
   "execution_count": 50,
   "metadata": {},
   "outputs": [
    {
     "data": {
      "text/plain": [
       "objective: 0.0\n",
       "Status: OPTIMAL\n",
       "Constraints: OrderedDict()\n",
       "Method:FBA"
      ]
     },
     "execution_count": 50,
     "metadata": {},
     "output_type": "execute_result"
    }
   ],
   "source": [
    "result = simul.simulate(method = 'FBA')\n",
    "result"
   ]
  },
  {
   "cell_type": "markdown",
   "metadata": {},
   "source": [
    "## Reaction fluxes\n",
    "\n",
    "The phenotype simulation result object, besides containing the objective value and solver status, also include reaction fluxes in the form of a dictionary:"
   ]
  },
  {
   "cell_type": "code",
   "execution_count": 107,
   "metadata": {},
   "outputs": [
    {
     "data": {
      "text/plain": [
       "<optlang.cplex_interface.Objective at 0x7fa1033ca550>"
      ]
     },
     "execution_count": 107,
     "metadata": {},
     "output_type": "execute_result"
    }
   ],
   "source": [
    "# FBA \n",
    "result = simul.simulate(method='FBA')\n",
    "model.objective"
   ]
  },
  {
   "cell_type": "code",
   "execution_count": null,
   "metadata": {},
   "outputs": [],
   "source": [
    "result.fluxes"
   ]
  },
  {
   "cell_type": "markdown",
   "metadata": {},
   "source": [
    "It is also to possible to retrieve reaction fluxes in the form of a data frame:"
   ]
  },
  {
   "cell_type": "code",
   "execution_count": null,
   "metadata": {},
   "outputs": [],
   "source": [
    "result.dataframe"
   ]
  },
  {
   "cell_type": "code",
   "execution_count": 20,
   "metadata": {},
   "outputs": [
    {
     "data": {
      "text/html": [
       "<div>\n",
       "<style scoped>\n",
       "    .dataframe tbody tr th:only-of-type {\n",
       "        vertical-align: middle;\n",
       "    }\n",
       "\n",
       "    .dataframe tbody tr th {\n",
       "        vertical-align: top;\n",
       "    }\n",
       "\n",
       "    .dataframe thead th {\n",
       "        text-align: right;\n",
       "    }\n",
       "</style>\n",
       "<table border=\"1\" class=\"dataframe\">\n",
       "  <thead>\n",
       "    <tr style=\"text-align: right;\">\n",
       "      <th></th>\n",
       "      <th>Flux rate</th>\n",
       "    </tr>\n",
       "    <tr>\n",
       "      <th>Reaction ID</th>\n",
       "      <th></th>\n",
       "    </tr>\n",
       "  </thead>\n",
       "  <tbody>\n",
       "    <tr>\n",
       "      <th>BIOMASS_SC5_notrace</th>\n",
       "      <td>1.157383</td>\n",
       "    </tr>\n",
       "    <tr>\n",
       "      <th>T_progesterone</th>\n",
       "      <td>0.126984</td>\n",
       "    </tr>\n",
       "    <tr>\n",
       "      <th>EX_progesterone_e</th>\n",
       "      <td>0.126984</td>\n",
       "    </tr>\n",
       "  </tbody>\n",
       "</table>\n",
       "</div>"
      ],
      "text/plain": [
       "                     Flux rate\n",
       "Reaction ID                   \n",
       "BIOMASS_SC5_notrace   1.157383\n",
       "T_progesterone        0.126984\n",
       "EX_progesterone_e     0.126984"
      ]
     },
     "execution_count": 20,
     "metadata": {},
     "output_type": "execute_result"
    }
   ],
   "source": [
    "# or using find to list specific fluxes ordered by their values\n",
    "result1.find('BIOMASS_SC5_notrace|progesterone')"
   ]
  },
  {
   "cell_type": "markdown",
   "metadata": {},
   "source": [
    "Individual reaction flux values can be obtained from the dictionary representation. For example, the Prephenate dehydratase reaction flux can be obtained from the previous pFBA simulation using the reaction identifier:"
   ]
  },
  {
   "cell_type": "code",
   "execution_count": 55,
   "metadata": {},
   "outputs": [
    {
     "data": {
      "text/plain": [
       "0.0"
      ]
     },
     "execution_count": 55,
     "metadata": {},
     "output_type": "execute_result"
    }
   ],
   "source": [
    "result.fluxes['R02216'] #intet progesterone produceres"
   ]
  },
  {
   "cell_type": "code",
   "execution_count": 56,
   "metadata": {},
   "outputs": [
    {
     "data": {
      "text/plain": [
       "0.28786570370401676"
      ]
     },
     "execution_count": 56,
     "metadata": {},
     "output_type": "execute_result"
    }
   ],
   "source": [
    "result.fluxes['BIOMASS_SC5_notrace'] #men der produceres biomasse!"
   ]
  },
  {
   "cell_type": "markdown",
   "metadata": {},
   "source": [
    "## Retrieving and setting the model objective\n",
    "The simulation objective, when running FBA or pFBA phenotype simulations, is, by default, the model objective which can be seen using the simulator."
   ]
  },
  {
   "cell_type": "code",
   "execution_count": 9,
   "metadata": {},
   "outputs": [],
   "source": [
    "# FBA \n",
    "result = simul.simulate(method='FBA')"
   ]
  },
  {
   "cell_type": "code",
   "execution_count": 10,
   "metadata": {},
   "outputs": [
    {
     "data": {
      "text/plain": [
       "{'BIOMASS_SC5_notrace': 1.0}"
      ]
     },
     "execution_count": 10,
     "metadata": {},
     "output_type": "execute_result"
    }
   ],
   "source": [
    "simul.objective"
   ]
  },
  {
   "cell_type": "code",
   "execution_count": 40,
   "metadata": {},
   "outputs": [],
   "source": [
    "#simul.objective = 'ATPM'\n",
    "# or\n",
    "#simul.objective = {'R02216':1}"
   ]
  },
  {
   "cell_type": "code",
   "execution_count": 20,
   "metadata": {},
   "outputs": [
    {
     "name": "stdout",
     "output_type": "stream",
     "text": [
      "flux of extracellular progesterone: 0.12698412\n",
      "flux of biomass: 0.14126793694328552\n"
     ]
    }
   ],
   "source": [
    "print('flux of extracellular progesterone:', result.fluxes['EX_progesterone_e']) #intet progesterone produceres\n",
    "print('flux of biomass:', result.fluxes['BIOMASS_SC5_notrace']) #intet progesterone produceres"
   ]
  },
  {
   "cell_type": "code",
   "execution_count": 43,
   "metadata": {},
   "outputs": [
    {
     "data": {
      "text/plain": [
       "0.0"
      ]
     },
     "execution_count": 43,
     "metadata": {},
     "output_type": "execute_result"
    }
   ],
   "source": [
    "result2.fluxes['BIOMASS_SC5_notrace'] #men der produceres biomasse!"
   ]
  },
  {
   "cell_type": "markdown",
   "metadata": {},
   "source": [
    "The simulator may also be used to change the model objective, for example, to optimize the ATP maintenance requirement (ATPM):"
   ]
  },
  {
   "cell_type": "markdown",
   "metadata": {},
   "source": [
    "## Adding additional constraints to phenotype simulations\n",
    "Simulations may include additional metabolic constraints on reaction fluxes. From the previous pFBA simulation one can observe that the organism does not produce L-tyrosine:"
   ]
  },
  {
   "cell_type": "code",
   "execution_count": 59,
   "metadata": {},
   "outputs": [
    {
     "data": {
      "text/plain": [
       "{'BIOMASS_SC5_notrace': 1.0}"
      ]
     },
     "execution_count": 59,
     "metadata": {},
     "output_type": "execute_result"
    }
   ],
   "source": [
    "simul.objective"
   ]
  },
  {
   "cell_type": "code",
   "execution_count": 62,
   "metadata": {},
   "outputs": [
    {
     "data": {
      "text/plain": [
       "0.0"
      ]
     },
     "execution_count": 62,
     "metadata": {},
     "output_type": "execute_result"
    }
   ],
   "source": [
    "result.fluxes['R02216']\n"
   ]
  },
  {
   "cell_type": "markdown",
   "metadata": {},
   "source": [
    "Additional constraints may be added to the model so that the organism start to produce this aromatic amino acid. We may alter, for example, the 3-dehydroquinate dehydratase reaction bounds, among others, starting by verifying its initial bounds:"
   ]
  },
  {
   "cell_type": "code",
   "execution_count": 63,
   "metadata": {},
   "outputs": [
    {
     "data": {
      "text/plain": [
       "(-999999.0, 999999.0)"
      ]
     },
     "execution_count": 63,
     "metadata": {},
     "output_type": "execute_result"
    }
   ],
   "source": [
    "# initial bounds\n",
    "simul.get_reaction_bounds('R02216')"
   ]
  },
  {
   "cell_type": "code",
   "execution_count": 68,
   "metadata": {},
   "outputs": [],
   "source": [
    "constraints = {'R02216' : (0.01, 10000)}"
   ]
  },
  {
   "cell_type": "code",
   "execution_count": 72,
   "metadata": {},
   "outputs": [
    {
     "data": {
      "text/plain": [
       "0.01"
      ]
     },
     "execution_count": 72,
     "metadata": {},
     "output_type": "execute_result"
    }
   ],
   "source": [
    "constraints = {'R02216' : (0.01, 10000)}\n",
    "result = simul.simulate(method='FBA',constraints=constraints)\n",
    "\n",
    "result.fluxes['DM_progesterone_c']"
   ]
  },
  {
   "cell_type": "markdown",
   "metadata": {},
   "source": [
    "We need to verify that the organism keeps groing"
   ]
  },
  {
   "cell_type": "code",
   "execution_count": 73,
   "metadata": {},
   "outputs": [
    {
     "data": {
      "text/plain": [
       "0.2797166409344213"
      ]
     },
     "execution_count": 73,
     "metadata": {},
     "output_type": "execute_result"
    }
   ],
   "source": [
    "result.fluxes['BIOMASS_SC5_notrace']"
   ]
  },
  {
   "cell_type": "code",
   "execution_count": 21,
   "metadata": {},
   "outputs": [
    {
     "data": {
      "text/html": [
       "\n",
       "        <table>\n",
       "            <tr>\n",
       "                <td><strong>Reaction identifier</strong></td><td>BIOMASS_SC5_notrace</td>\n",
       "            </tr><tr>\n",
       "                <td><strong>Name</strong></td><td>Biomass SC5 notrace</td>\n",
       "            </tr><tr>\n",
       "                <td><strong>Memory address</strong></td>\n",
       "                <td>0x07f63eda34940</td>\n",
       "            </tr><tr>\n",
       "                <td><strong>Stoichiometry</strong></td>\n",
       "                <td>\n",
       "                    <p style='text-align:right'>1.1348 13BDglcn_c + 0.4588 ala__L_c + 0.046 amp_c + 0.1607 arg__L_c + 0.1017 asn__L_c + 0.2975 asp__L_c + 59.276 atp_c + 0.0447 cmp_c + 0.0066 cys__L_c + 0.0036 damp_c + 0.0024 dcmp_c + 0.0024...</p>\n",
       "                    <p style='text-align:right'>1.1348 1 3 beta D Glucan C6H10O5 + 0.4588 L-Alanine + 0.046 AMP C10H12N5O7P + 0.1607 L-Arginine + 0.1017 L-Asparagine + 0.2975 L-Aspartate + 59.276 ATP C10H12N5O13P3 + 0.0447 CMP C9H12N3O8P +...</p>\n",
       "                </td>\n",
       "            </tr><tr>\n",
       "                <td><strong>GPR</strong></td><td></td>\n",
       "            </tr><tr>\n",
       "                <td><strong>Lower bound</strong></td><td>0.0</td>\n",
       "            </tr><tr>\n",
       "                <td><strong>Upper bound</strong></td><td>999999.0</td>\n",
       "            </tr>\n",
       "        </table>\n",
       "        "
      ],
      "text/plain": [
       "<Reaction BIOMASS_SC5_notrace at 0x7f63eda34940>"
      ]
     },
     "execution_count": 21,
     "metadata": {},
     "output_type": "execute_result"
    }
   ],
   "source": [
    "model.reactions.BIOMASS_SC5_notrace"
   ]
  },
  {
   "cell_type": "code",
   "execution_count": 21,
   "metadata": {},
   "outputs": [
    {
     "data": {
      "text/plain": [
       "<AxesSubplot: xlabel='BIOMASS_SC5_notrace', ylabel='EX_progesterone_e'>"
      ]
     },
     "execution_count": 21,
     "metadata": {},
     "output_type": "execute_result"
    },
    {
     "data": {
      "image/png": "[encoded data removed]",
      "text/plain": [
       "<Figure size 640x480 with 1 Axes>"
      ]
     },
     "metadata": {},
     "output_type": "display_data"
    }
   ],
   "source": [
    "from mewpy.visualization.envelope import plot_flux_envelope\n",
    "plot_flux_envelope(simul,'BIOMASS_SC5_notrace','EX_progesterone_e') #,constraints = constraints\n"
   ]
  },
  {
   "cell_type": "markdown",
   "metadata": {},
   "source": [
    "## Flux Variability Analysis\n",
    "\n",
    "The simulator interface also allows to perform Flux Variability Analysis (FVA) for L-tyrosine, returning a dictionary:"
   ]
  },
  {
   "cell_type": "code",
   "execution_count": 22,
   "metadata": {},
   "outputs": [
    {
     "data": {
      "text/html": [
       "<div>\n",
       "<style scoped>\n",
       "    .dataframe tbody tr th:only-of-type {\n",
       "        vertical-align: middle;\n",
       "    }\n",
       "\n",
       "    .dataframe tbody tr th {\n",
       "        vertical-align: top;\n",
       "    }\n",
       "\n",
       "    .dataframe thead th {\n",
       "        text-align: right;\n",
       "    }\n",
       "</style>\n",
       "<table border=\"1\" class=\"dataframe\">\n",
       "  <thead>\n",
       "    <tr style=\"text-align: right;\">\n",
       "      <th></th>\n",
       "      <th>Minimum</th>\n",
       "      <th>Maximum</th>\n",
       "    </tr>\n",
       "    <tr>\n",
       "      <th>Reaction ID</th>\n",
       "      <th></th>\n",
       "      <th></th>\n",
       "    </tr>\n",
       "  </thead>\n",
       "  <tbody>\n",
       "    <tr>\n",
       "      <th>EX_progesterone_e</th>\n",
       "      <td>0.126984</td>\n",
       "      <td>0.136542</td>\n",
       "    </tr>\n",
       "  </tbody>\n",
       "</table>\n",
       "</div>"
      ],
      "text/plain": [
       "                    Minimum   Maximum\n",
       "Reaction ID                          \n",
       "EX_progesterone_e  0.126984  0.136542"
      ]
     },
     "execution_count": 22,
     "metadata": {},
     "output_type": "execute_result"
    }
   ],
   "source": [
    "simul.FVA(reactions=['EX_progesterone_e'], format='df')\n",
    "#{'DM_progesterone_c': [0.0, 0.031056490194959083]}"
   ]
  },
  {
   "cell_type": "markdown",
   "metadata": {},
   "source": [
    "By default, MEWpy sets the model objective fraction to 90%, however this fraction may be altered. For example, one might want to consider a fraction of 10% from optimal growth:"
   ]
  },
  {
   "cell_type": "code",
   "execution_count": 24,
   "metadata": {},
   "outputs": [
    {
     "data": {
      "text/html": [
       "<div>\n",
       "<style scoped>\n",
       "    .dataframe tbody tr th:only-of-type {\n",
       "        vertical-align: middle;\n",
       "    }\n",
       "\n",
       "    .dataframe tbody tr th {\n",
       "        vertical-align: top;\n",
       "    }\n",
       "\n",
       "    .dataframe thead th {\n",
       "        text-align: right;\n",
       "    }\n",
       "</style>\n",
       "<table border=\"1\" class=\"dataframe\">\n",
       "  <thead>\n",
       "    <tr style=\"text-align: right;\">\n",
       "      <th></th>\n",
       "      <th>Minimum</th>\n",
       "      <th>Maximum</th>\n",
       "    </tr>\n",
       "    <tr>\n",
       "      <th>Reaction ID</th>\n",
       "      <th></th>\n",
       "      <th></th>\n",
       "    </tr>\n",
       "  </thead>\n",
       "  <tbody>\n",
       "    <tr>\n",
       "      <th>EX_progesterone_e</th>\n",
       "      <td>0.126984</td>\n",
       "      <td>0.142576</td>\n",
       "    </tr>\n",
       "  </tbody>\n",
       "</table>\n",
       "</div>"
      ],
      "text/plain": [
       "                    Minimum   Maximum\n",
       "Reaction ID                          \n",
       "EX_progesterone_e  0.126984  0.142576"
      ]
     },
     "execution_count": 24,
     "metadata": {},
     "output_type": "execute_result"
    }
   ],
   "source": [
    "simul.FVA(reactions=['EX_progesterone_e'], obj_frac=0.5, format='df')"
   ]
  },
  {
   "cell_type": "markdown",
   "metadata": {},
   "source": [
    "The FVA simulations are run considering the defined environmental conditions. Additional constraints may be added, or changed, such as the ones previously used.\n"
   ]
  },
  {
   "cell_type": "code",
   "execution_count": 82,
   "metadata": {},
   "outputs": [
    {
     "data": {
      "text/html": [
       "<div>\n",
       "<style scoped>\n",
       "    .dataframe tbody tr th:only-of-type {\n",
       "        vertical-align: middle;\n",
       "    }\n",
       "\n",
       "    .dataframe tbody tr th {\n",
       "        vertical-align: top;\n",
       "    }\n",
       "\n",
       "    .dataframe thead th {\n",
       "        text-align: right;\n",
       "    }\n",
       "</style>\n",
       "<table border=\"1\" class=\"dataframe\">\n",
       "  <thead>\n",
       "    <tr style=\"text-align: right;\">\n",
       "      <th></th>\n",
       "      <th>Minimum</th>\n",
       "      <th>Maximum</th>\n",
       "    </tr>\n",
       "    <tr>\n",
       "      <th>Reaction ID</th>\n",
       "      <th></th>\n",
       "      <th></th>\n",
       "    </tr>\n",
       "  </thead>\n",
       "  <tbody>\n",
       "    <tr>\n",
       "      <th>DM_progesterone_c</th>\n",
       "      <td>0.01</td>\n",
       "      <td>0.037104</td>\n",
       "    </tr>\n",
       "  </tbody>\n",
       "</table>\n",
       "</div>"
      ],
      "text/plain": [
       "                   Minimum   Maximum\n",
       "Reaction ID                         \n",
       "DM_progesterone_c     0.01  0.037104"
      ]
     },
     "execution_count": 82,
     "metadata": {},
     "output_type": "execute_result"
    }
   ],
   "source": [
    "simul.FVA(reactions=['DM_progesterone_c'], constraints=constraints, format='df')\n"
   ]
  },
  {
   "cell_type": "markdown",
   "metadata": {},
   "source": [
    "COBRApy users may have noticed that this same task would have required many additional coding lines if using the COBRApy API directly."
   ]
  },
  {
   "cell_type": "markdown",
   "metadata": {},
   "source": [
    "## Essential genes"
   ]
  },
  {
   "cell_type": "code",
   "execution_count": 5,
   "metadata": {},
   "outputs": [
    {
     "name": "stderr",
     "output_type": "stream",
     "text": [
      "100%|██████████| 1577/1577 [00:16<00:00, 97.48it/s] \n"
     ]
    },
    {
     "data": {
      "text/plain": [
       "['13GS',\n",
       " 'ACCOAC',\n",
       " 'AGAT_SC',\n",
       " 'AGPRim',\n",
       " 'AHCi',\n",
       " 'ACGKm',\n",
       " '2OXOADPtim',\n",
       " 'ACHBSm',\n",
       " 'ACLSm',\n",
       " 'AICART',\n",
       " 'AIRCr',\n",
       " 'ACOTAim',\n",
       " 'ACS',\n",
       " 'ADSK',\n",
       " 'ADSL1r',\n",
       " 'ADSL2r',\n",
       " 'ADSS',\n",
       " 'ANPRT',\n",
       " 'ANS',\n",
       " 'C14STR',\n",
       " 'C24STRer',\n",
       " 'C3STDH1',\n",
       " 'ARGSL',\n",
       " 'ARGSS',\n",
       " 'ASAD',\n",
       " 'C3STDH2',\n",
       " 'C3STKR1',\n",
       " 'C3STKR2',\n",
       " 'C4STMO1',\n",
       " 'C4STMO2',\n",
       " 'ASNS1',\n",
       " 'ASPCT',\n",
       " 'ASPK',\n",
       " 'CBPS',\n",
       " '3MOBtm',\n",
       " 'ATPPRT',\n",
       " 'CHORM',\n",
       " 'CHORS',\n",
       " 'CO2tm',\n",
       " 'CSm',\n",
       " 'DESAT18_2',\n",
       " 'DHAD1m',\n",
       " 'DHAD2m',\n",
       " 'DHFR',\n",
       " 'DHORTS',\n",
       " 'DHQS',\n",
       " 'DHQTi',\n",
       " 'DADK',\n",
       " 'DMATT',\n",
       " 'DOLPMMer',\n",
       " 'DB4PS',\n",
       " 'DOLPMTcer',\n",
       " 'DOLPt2er',\n",
       " 'DPMVD',\n",
       " 'DROPPRy',\n",
       " 'DRTPPD',\n",
       " 'ERGSTter',\n",
       " 'ERGTETROLter',\n",
       " '6PGLter',\n",
       " 'EX_glc__D_e',\n",
       " 'AATA',\n",
       " 'EX_so4_e',\n",
       " 'EX_nh4_e',\n",
       " 'EX_o2_e',\n",
       " 'EX_pi_e',\n",
       " 'FAS100COA',\n",
       " 'FAS120COA',\n",
       " 'G5SADs',\n",
       " 'GLUPRT',\n",
       " 'G6PDH2er',\n",
       " 'G6Pter',\n",
       " 'FAS80COA_L',\n",
       " 'GARFT',\n",
       " 'GMPS2',\n",
       " 'GND',\n",
       " 'GRTT',\n",
       " 'GLCt1',\n",
       " 'GLNS',\n",
       " 'GTPCII',\n",
       " 'H2Oter',\n",
       " 'HCITSm',\n",
       " 'HACNHm',\n",
       " 'HICITDm',\n",
       " 'IMPC',\n",
       " 'IMPD',\n",
       " 'HISTD',\n",
       " 'HISTP',\n",
       " 'HMGCOAR',\n",
       " 'IPDDI',\n",
       " 'IPMD',\n",
       " 'IPPMIa',\n",
       " 'IPPMIb',\n",
       " 'HSK',\n",
       " 'HSTPT',\n",
       " 'KARA1im',\n",
       " 'KARA2im',\n",
       " 'ICDHyr',\n",
       " 'LEUTA',\n",
       " 'IG3PS',\n",
       " 'IGPDH',\n",
       " 'IGPS',\n",
       " 'LNSTLS',\n",
       " 'MAN1PT',\n",
       " 'MAN6PI',\n",
       " 'MANNANter',\n",
       " 'MCITDm',\n",
       " 'METAT',\n",
       " 'MTHFR3',\n",
       " 'METS',\n",
       " 'MFAPS_SC',\n",
       " 'MI1PP',\n",
       " 'MI1PS',\n",
       " 'NDPK2',\n",
       " 'NH4t',\n",
       " 'PETOHM_SC',\n",
       " 'O2t',\n",
       " 'O2ter',\n",
       " 'OCBT',\n",
       " 'PGL',\n",
       " 'PGMT',\n",
       " 'OMCDC',\n",
       " 'OMPDC',\n",
       " 'ORNTACim',\n",
       " 'ORNt3m',\n",
       " 'PHETA1',\n",
       " 'ORPT',\n",
       " 'OXAGm',\n",
       " 'PPNDH',\n",
       " 'P5CR',\n",
       " 'PINOS_SC',\n",
       " 'PAPSR',\n",
       " 'PIt2r',\n",
       " 'PMANM',\n",
       " 'PMDPHT',\n",
       " 'PMETM_SC',\n",
       " 'PMEVK',\n",
       " 'PRAGSr',\n",
       " 'PRAIS',\n",
       " 'PRAIi',\n",
       " 'PRAMPC',\n",
       " 'PRASCSi',\n",
       " 'RBFSa',\n",
       " 'RBFSb',\n",
       " 'SO4ti',\n",
       " 'PRATPP',\n",
       " 'PRFGS',\n",
       " 'PRMICI',\n",
       " 'SQ23EPXter',\n",
       " 'SQLEr',\n",
       " 'SQLS',\n",
       " 'SQLter',\n",
       " 'RPI',\n",
       " 'SACCD1',\n",
       " 'SACCD2',\n",
       " 'SULR',\n",
       " 'PRPPS',\n",
       " 'SHK3Dr',\n",
       " 'SHKK',\n",
       " 'PSCVT',\n",
       " 'THRS',\n",
       " 'TMDS',\n",
       " 'TRDR',\n",
       " 'TRE6PP',\n",
       " 'TRE6PS',\n",
       " 'VALTA',\n",
       " 'TRPS1',\n",
       " 'BIOMASS_SC5_notrace',\n",
       " 'UMPK']"
      ]
     },
     "execution_count": 5,
     "metadata": {},
     "output_type": "execute_result"
    }
   ],
   "source": [
    "simul.essential_reactions()\n",
    "\n",
    "#interesting: some ERG reactions are here:  'ERGSTter', 'ERGTETROLter',\n"
   ]
  },
  {
   "cell_type": "code",
   "execution_count": 6,
   "metadata": {},
   "outputs": [
    {
     "name": "stderr",
     "output_type": "stream",
     "text": [
      "100%|██████████| 905/905 [00:12<00:00, 70.53it/s] \n"
     ]
    },
    {
     "data": {
      "text/plain": [
       "['YCR034W',\n",
       " 'YBR029C',\n",
       " 'YDR487C',\n",
       " 'YDR454C',\n",
       " 'YJR016C',\n",
       " 'YDR354W',\n",
       " 'YER090W',\n",
       " 'YKL211C',\n",
       " 'YHR018C',\n",
       " 'YOR236W',\n",
       " 'YOL058W',\n",
       " 'YKL216W',\n",
       " 'YCR053W',\n",
       " 'YDR127W',\n",
       " 'YDR158W',\n",
       " 'YGL154C',\n",
       " 'YBR115C',\n",
       " 'YJL167W',\n",
       " 'YPL028W',\n",
       " 'YNR016C',\n",
       " 'YJL130C',\n",
       " 'YER052C',\n",
       " 'YER069W',\n",
       " 'YMR062C',\n",
       " 'YMR108W',\n",
       " 'YCL009C',\n",
       " 'YER055C',\n",
       " 'YPR183W',\n",
       " 'YKL182W',\n",
       " 'YPL231W',\n",
       " 'YNR043W',\n",
       " 'YLR355C',\n",
       " 'YBR153W',\n",
       " 'YOL066C',\n",
       " 'YOL140W',\n",
       " 'YLR153C',\n",
       " 'YDR226W',\n",
       " 'YNL280C',\n",
       " 'YHR042W',\n",
       " 'YGL012W',\n",
       " 'YGL001C',\n",
       " 'YLR100W',\n",
       " 'YGR060W',\n",
       " 'YKL001C',\n",
       " 'YLR359W',\n",
       " 'YNL220W',\n",
       " 'YER043C',\n",
       " 'YGR037C',\n",
       " 'YOR128C',\n",
       " 'YPR060C',\n",
       " 'YGL148W',\n",
       " 'YMR217W',\n",
       " 'YGR204W',\n",
       " 'YOR130C',\n",
       " 'YPR167C',\n",
       " 'YBL033C',\n",
       " 'YDR234W',\n",
       " 'YGR157W',\n",
       " 'YDR408C',\n",
       " 'YIL094C',\n",
       " 'YCL030C',\n",
       " 'YFR025C',\n",
       " 'YPR035W',\n",
       " 'YML126C',\n",
       " 'YER023W',\n",
       " 'YJR139C',\n",
       " 'YPR113W',\n",
       " 'YHR025W',\n",
       " 'YIL116W',\n",
       " 'YMR300C',\n",
       " 'YLR174W',\n",
       " 'YBR248C',\n",
       " 'YOR202W',\n",
       " 'YFL045C',\n",
       " 'YOR074C',\n",
       " 'YJR148W',\n",
       " 'YMR220W',\n",
       " 'YDR074W',\n",
       " 'YBR126C',\n",
       " 'YNL316C',\n",
       " 'YPL117C',\n",
       " 'YGL026C',\n",
       " 'YGL234W',\n",
       " 'YDR007W',\n",
       " 'YCL018W',\n",
       " 'YGL009C',\n",
       " 'YAR015W',\n",
       " 'YGR061C',\n",
       " 'YIL020C',\n",
       " 'YKL024C',\n",
       " 'YER026C',\n",
       " 'YHR007C',\n",
       " 'YHR072W',\n",
       " 'YOL143C',\n",
       " 'YBR256C',\n",
       " 'YOR095C',\n",
       " 'YNR050C',\n",
       " 'YIR034C',\n",
       " 'YDL055C',\n",
       " 'YER003C',\n",
       " 'YER091C',\n",
       " 'YMR208W',\n",
       " 'YJR073C',\n",
       " 'YGR175C',\n",
       " 'YHR190W',\n",
       " 'YHR046C',\n",
       " 'YJL153C',\n",
       " 'YKL067W',\n",
       " 'YJL088W',\n",
       " 'YEL021W']"
      ]
     },
     "execution_count": 6,
     "metadata": {},
     "output_type": "execute_result"
    }
   ],
   "source": [
    "simul.essential_genes()"
   ]
  },
  {
   "cell_type": "markdown",
   "metadata": {},
   "source": [
    "## Strain optimization with mewpy\n",
    "\n",
    "First analyze the media :D"
   ]
  },
  {
   "cell_type": "code",
   "execution_count": 9,
   "metadata": {},
   "outputs": [],
   "source": [
    "from mewpy.simulation.environment import Environment\n",
    "import pandas as pd"
   ]
  },
  {
   "cell_type": "code",
   "execution_count": 13,
   "metadata": {},
   "outputs": [
    {
     "data": {
      "text/html": [
       "<div>\n",
       "<style scoped>\n",
       "    .dataframe tbody tr th:only-of-type {\n",
       "        vertical-align: middle;\n",
       "    }\n",
       "\n",
       "    .dataframe tbody tr th {\n",
       "        vertical-align: top;\n",
       "    }\n",
       "\n",
       "    .dataframe thead th {\n",
       "        text-align: right;\n",
       "    }\n",
       "</style>\n",
       "<table border=\"1\" class=\"dataframe\">\n",
       "  <thead>\n",
       "    <tr style=\"text-align: right;\">\n",
       "      <th></th>\n",
       "      <th>lb</th>\n",
       "      <th>ub</th>\n",
       "    </tr>\n",
       "  </thead>\n",
       "  <tbody>\n",
       "    <tr>\n",
       "      <th>EX_fe2_e</th>\n",
       "      <td>-10.0</td>\n",
       "      <td>inf</td>\n",
       "    </tr>\n",
       "    <tr>\n",
       "      <th>EX_glc__D_e</th>\n",
       "      <td>-10.0</td>\n",
       "      <td>inf</td>\n",
       "    </tr>\n",
       "    <tr>\n",
       "      <th>EX_h2o_e</th>\n",
       "      <td>-10.0</td>\n",
       "      <td>inf</td>\n",
       "    </tr>\n",
       "    <tr>\n",
       "      <th>EX_h_e</th>\n",
       "      <td>-10.0</td>\n",
       "      <td>inf</td>\n",
       "    </tr>\n",
       "    <tr>\n",
       "      <th>EX_k_e</th>\n",
       "      <td>-10.0</td>\n",
       "      <td>inf</td>\n",
       "    </tr>\n",
       "    <tr>\n",
       "      <th>EX_na1_e</th>\n",
       "      <td>-10.0</td>\n",
       "      <td>inf</td>\n",
       "    </tr>\n",
       "    <tr>\n",
       "      <th>EX_so4_e</th>\n",
       "      <td>-10.0</td>\n",
       "      <td>inf</td>\n",
       "    </tr>\n",
       "    <tr>\n",
       "      <th>EX_nh4_e</th>\n",
       "      <td>-10.0</td>\n",
       "      <td>inf</td>\n",
       "    </tr>\n",
       "    <tr>\n",
       "      <th>EX_o2_e</th>\n",
       "      <td>-10.0</td>\n",
       "      <td>inf</td>\n",
       "    </tr>\n",
       "    <tr>\n",
       "      <th>EX_pi_e</th>\n",
       "      <td>-10.0</td>\n",
       "      <td>inf</td>\n",
       "    </tr>\n",
       "  </tbody>\n",
       "</table>\n",
       "</div>"
      ],
      "text/plain": [
       "               lb   ub\n",
       "EX_fe2_e    -10.0  inf\n",
       "EX_glc__D_e -10.0  inf\n",
       "EX_h2o_e    -10.0  inf\n",
       "EX_h_e      -10.0  inf\n",
       "EX_k_e      -10.0  inf\n",
       "EX_na1_e    -10.0  inf\n",
       "EX_so4_e    -10.0  inf\n",
       "EX_nh4_e    -10.0  inf\n",
       "EX_o2_e     -10.0  inf\n",
       "EX_pi_e     -10.0  inf"
      ]
     },
     "execution_count": 13,
     "metadata": {},
     "output_type": "execute_result"
    }
   ],
   "source": [
    "medium = Environment.from_model(model).get_compounds()\n",
    "env = Environment.from_compounds(medium)\n",
    "pd.DataFrame(env,index=['lb','ub']).T    #just making a dataframe with the medium. \n",
    "#lb = lower boundaries\n",
    "#ub = upper boundaries"
   ]
  },
  {
   "cell_type": "markdown",
   "metadata": {},
   "source": [
    "## Upregulating genes with mewpy"
   ]
  },
  {
   "cell_type": "code",
   "execution_count": 3,
   "metadata": {},
   "outputs": [],
   "source": [
    "%matplotlib inline\n",
    "from cobra.io.sbml import read_sbml_model\n",
    "model = read_sbml_model(\"e_coli_core.xml.gz\")"
   ]
  },
  {
   "cell_type": "code",
   "execution_count": 5,
   "metadata": {},
   "outputs": [
    {
     "data": {
      "text/html": [
       "\n",
       "        <table>\n",
       "            <tr>\n",
       "                <td><strong>Name</strong></td>\n",
       "                <td>e_coli_core</td>\n",
       "            </tr><tr>\n",
       "                <td><strong>Memory address</strong></td>\n",
       "                <td>0x07fb63a189fa0</td>\n",
       "            </tr><tr>\n",
       "                <td><strong>Number of metabolites</strong></td>\n",
       "                <td>72</td>\n",
       "            </tr><tr>\n",
       "                <td><strong>Number of reactions</strong></td>\n",
       "                <td>95</td>\n",
       "            </tr><tr>\n",
       "                <td><strong>Number of groups</strong></td>\n",
       "                <td>9</td>\n",
       "            </tr><tr>\n",
       "                <td><strong>Objective expression</strong></td>\n",
       "                <td>1.0*BIOMASS_Ecoli_core_w_GAM - 1.0*BIOMASS_Ecoli_core_w_GAM_reverse_712e5</td>\n",
       "            </tr><tr>\n",
       "                <td><strong>Compartments</strong></td>\n",
       "                <td>cytosol, extracellular space</td>\n",
       "            </tr>\n",
       "          </table>"
      ],
      "text/plain": [
       "<Model e_coli_core at 0x7fb63a189fa0>"
      ]
     },
     "execution_count": 5,
     "metadata": {},
     "output_type": "execute_result"
    }
   ],
   "source": [
    "model"
   ]
  },
  {
   "cell_type": "markdown",
   "metadata": {},
   "source": [
    "## Optimization problem\n",
    "\n",
    "Before running any optimization let us verify the production rate as well as the theoretic maximum rate of succinate in anaerobic conditions. To ease the script reutilization we will define some reaction identifiers as constants:"
   ]
  },
  {
   "cell_type": "code",
   "execution_count": 39,
   "metadata": {},
   "outputs": [
    {
     "data": {
      "text/html": [
       "\n",
       "        <table>\n",
       "            <tr>\n",
       "                <td><strong>Reaction identifier</strong></td><td>DM_progesterone_c</td>\n",
       "            </tr><tr>\n",
       "                <td><strong>Name</strong></td><td>progesterone demand</td>\n",
       "            </tr><tr>\n",
       "                <td><strong>Memory address</strong></td>\n",
       "                <td>0x07fe1410ddf40</td>\n",
       "            </tr><tr>\n",
       "                <td><strong>Stoichiometry</strong></td>\n",
       "                <td>\n",
       "                    <p style='text-align:right'>progesterone_c --></p>\n",
       "                    <p style='text-align:right'>progesterone --></p>\n",
       "                </td>\n",
       "            </tr><tr>\n",
       "                <td><strong>GPR</strong></td><td></td>\n",
       "            </tr><tr>\n",
       "                <td><strong>Lower bound</strong></td><td>0</td>\n",
       "            </tr><tr>\n",
       "                <td><strong>Upper bound</strong></td><td>1000.0</td>\n",
       "            </tr>\n",
       "        </table>\n",
       "        "
      ],
      "text/plain": [
       "<Reaction DM_progesterone_c at 0x7fe1410ddf40>"
      ]
     },
     "execution_count": 39,
     "metadata": {},
     "output_type": "execute_result"
    }
   ],
   "source": [
    "#model.add_boundary(model.metabolites.get_by_id('progesterone_c'), type='demand')"
   ]
  },
  {
   "cell_type": "code",
   "execution_count": 40,
   "metadata": {},
   "outputs": [
    {
     "data": {
      "text/plain": [
       "0.14285714285714285"
      ]
     },
     "execution_count": 40,
     "metadata": {},
     "output_type": "execute_result"
    }
   ],
   "source": [
    "model.objective = model.reactions.DM_progesterone_c\n",
    "model.optimize().objective_value"
   ]
  },
  {
   "cell_type": "code",
   "execution_count": 41,
   "metadata": {},
   "outputs": [
    {
     "data": {
      "text/plain": [
       "0.14285714285714285"
      ]
     },
     "execution_count": 41,
     "metadata": {},
     "output_type": "execute_result"
    }
   ],
   "source": [
    "model.objective = model.reactions.R02216\n",
    "model.optimize().objective_value"
   ]
  },
  {
   "cell_type": "code",
   "execution_count": 46,
   "metadata": {},
   "outputs": [],
   "source": [
    "simul = get_simulator(model)"
   ]
  },
  {
   "cell_type": "code",
   "execution_count": 47,
   "metadata": {},
   "outputs": [
    {
     "data": {
      "text/plain": [
       "objective: 0.14285714285714285\n",
       "Status: OPTIMAL\n",
       "Constraints: OrderedDict()\n",
       "Method:FBA"
      ]
     },
     "execution_count": 47,
     "metadata": {},
     "output_type": "execute_result"
    }
   ],
   "source": [
    "result = simul.simulate(method='FBA')\n",
    "result"
   ]
  },
  {
   "cell_type": "code",
   "execution_count": 22,
   "metadata": {},
   "outputs": [],
   "source": [
    "BIOMASS = 'BIOMASS_SC5_notraceM'\n",
    "PRODUCT = 'DM_progesterone_c' #R02216\n",
    "O2 = 'EX_o2_e'\n",
    "GLC = 'EX_glc__D_e'"
   ]
  },
  {
   "cell_type": "code",
   "execution_count": 25,
   "metadata": {},
   "outputs": [],
   "source": [
    "anaerobic = {O2: (-1000, 1000)}"
   ]
  },
  {
   "cell_type": "code",
   "execution_count": 26,
   "metadata": {},
   "outputs": [
    {
     "data": {
      "text/html": [
       "<div>\n",
       "<style scoped>\n",
       "    .dataframe tbody tr th:only-of-type {\n",
       "        vertical-align: middle;\n",
       "    }\n",
       "\n",
       "    .dataframe tbody tr th {\n",
       "        vertical-align: top;\n",
       "    }\n",
       "\n",
       "    .dataframe thead th {\n",
       "        text-align: right;\n",
       "    }\n",
       "</style>\n",
       "<table border=\"1\" class=\"dataframe\">\n",
       "  <thead>\n",
       "    <tr style=\"text-align: right;\">\n",
       "      <th></th>\n",
       "      <th>Minimum</th>\n",
       "      <th>Maximum</th>\n",
       "    </tr>\n",
       "    <tr>\n",
       "      <th>Reaction ID</th>\n",
       "      <th></th>\n",
       "      <th></th>\n",
       "    </tr>\n",
       "  </thead>\n",
       "  <tbody>\n",
       "    <tr>\n",
       "      <th>DM_progesterone_c</th>\n",
       "      <td>0.888198</td>\n",
       "      <td>0.986887</td>\n",
       "    </tr>\n",
       "  </tbody>\n",
       "</table>\n",
       "</div>"
      ],
      "text/plain": [
       "                    Minimum   Maximum\n",
       "Reaction ID                          \n",
       "DM_progesterone_c  0.888198  0.986887"
      ]
     },
     "execution_count": 26,
     "metadata": {},
     "output_type": "execute_result"
    }
   ],
   "source": [
    "from mewpy.simulation import get_simulator\n",
    "sim = get_simulator(model,envcond=anaerobic)\n",
    "sim.FVA(reactions=[PRODUCT],format='df')\n",
    "\n",
    "#Hvad betyder minimum og maximum her????"
   ]
  },
  {
   "cell_type": "code",
   "execution_count": 27,
   "metadata": {},
   "outputs": [
    {
     "data": {
      "text/html": [
       "<div>\n",
       "<style scoped>\n",
       "    .dataframe tbody tr th:only-of-type {\n",
       "        vertical-align: middle;\n",
       "    }\n",
       "\n",
       "    .dataframe tbody tr th {\n",
       "        vertical-align: top;\n",
       "    }\n",
       "\n",
       "    .dataframe thead th {\n",
       "        text-align: right;\n",
       "    }\n",
       "</style>\n",
       "<table border=\"1\" class=\"dataframe\">\n",
       "  <thead>\n",
       "    <tr style=\"text-align: right;\">\n",
       "      <th></th>\n",
       "      <th>Flux rate</th>\n",
       "    </tr>\n",
       "    <tr>\n",
       "      <th>Reaction ID</th>\n",
       "      <th></th>\n",
       "    </tr>\n",
       "  </thead>\n",
       "  <tbody>\n",
       "    <tr>\n",
       "      <th>DM_progesterone_c</th>\n",
       "      <td>0.986887</td>\n",
       "    </tr>\n",
       "  </tbody>\n",
       "</table>\n",
       "</div>"
      ],
      "text/plain": [
       "                   Flux rate\n",
       "Reaction ID                 \n",
       "DM_progesterone_c   0.986887"
      ]
     },
     "execution_count": 27,
     "metadata": {},
     "output_type": "execute_result"
    }
   ],
   "source": [
    "sim.simulate(method='pFBA').find([BIOMASS,PRODUCT])"
   ]
  },
  {
   "cell_type": "markdown",
   "metadata": {},
   "source": [
    "The optimization problem requires the definition of one or more objective functions. In the next example, we define as objective the maximization of the Biomass-Product coupled yield and the maximization of the targeted product. MEWpy makes available other optimization objectives, please refer to the documentation."
   ]
  },
  {
   "cell_type": "code",
   "execution_count": 28,
   "metadata": {},
   "outputs": [],
   "source": [
    "from mewpy.optimization.evaluation import BPCY, TargetFlux\n",
    "\n",
    "objs = [ \n",
    "    BPCY(BIOMASS, PRODUCT),\n",
    "    TargetFlux(PRODUCT)\n",
    "]"
   ]
  },
  {
   "cell_type": "markdown",
   "metadata": {},
   "source": [
    "We can now define the growth medium and select the type of modification. We will begin by performing gene deletion (GKO) by selecting the appropriate problem instance, GKOProblem.\n",
    "\n"
   ]
  },
  {
   "cell_type": "code",
   "execution_count": 30,
   "metadata": {},
   "outputs": [],
   "source": [
    "from mewpy.problems import GKOProblem, GOUProblem\n",
    "\n",
    "problem = GOUProblem(model, objs, envcond=anaerobic, candidate_max_size=6)"
   ]
  },
  {
   "cell_type": "markdown",
   "metadata": {},
   "source": [
    "Other optimization methods/strategies may be used:\n",
    " - Reaction deletion: RKOProblem\n",
    " - Reaction under or over expression: ROUProblem\n",
    " - Gene under or over expression: GOUProblem\n",
    "\n",
    "A problem may include other parameters, such as the maximum number of genetic modification, a list of specitic targets, or non-targets (reactions/genes not to be modified)."
   ]
  },
  {
   "cell_type": "markdown",
   "metadata": {},
   "source": [
    "## Optimization algorithm\n",
    "\n",
    "An optimization engine to solve the problem need to be instanciated. MEWpy uses Evolutionary Algorithms (EA) for this task.\n",
    "\n",
    "EAs are algorithms that mimic the Darwinian evolutionary process, where a population of solutions evolves generation after generation. In the example we define a maximum of 50 generations."
   ]
  },
  {
   "cell_type": "code",
   "execution_count": 31,
   "metadata": {},
   "outputs": [],
   "source": [
    "from mewpy.optimization import EA\n",
    "ea = EA(problem, max_generations=50)\n",
    "# type help(EA) for more information"
   ]
  },
  {
   "cell_type": "markdown",
   "metadata": {},
   "source": [
    "The EA may contemplate aditional parameters such as the identification of a specific algorithm (e.g. SPEA2, NSGAII, NSGAIII, GDE3, etc.), multiprocessing options, initial seeding, etc.\n",
    "\n",
    "To start the optimization process invoke the run method:"
   ]
  },
  {
   "cell_type": "code",
   "execution_count": 33,
   "metadata": {},
   "outputs": [
    {
     "name": "stdout",
     "output_type": "stream",
     "text": [
      "Running NSGAII\n",
      "Eval(s)|     Worst      Best    Median   Average   Std Dev|     Worst      Best    Median   Average   Std Dev|\n",
      "    100|  0.000000  0.000000  0.000000  0.000000  0.000000|  0.000000  0.000000  0.000000  0.000000  0.000000|\n",
      "    200|  0.000000  0.000000  0.000000  0.000000  0.000000|  0.000000  0.000000  0.000000  0.000000  0.000000|\n",
      "    300|  0.000000  0.000000  0.000000  0.000000  0.000000|  0.000000  0.000000  0.000000  0.000000  0.000000|\n",
      "    400|  0.000000  0.000000  0.000000  0.000000  0.000000|  0.000000  0.000000  0.000000  0.000000  0.000000|\n",
      "    500|  0.000000  0.000000  0.000000  0.000000  0.000000|  0.000000  0.000000  0.000000  0.000000  0.000000|\n",
      "    600|  0.000000  0.000000  0.000000  0.000000  0.000000|  0.000000  0.000000  0.000000  0.000000  0.000000|\n",
      "    700|  0.000000  0.000000  0.000000  0.000000  0.000000|  0.000000  0.000000  0.000000  0.000000  0.000000|\n",
      "    800|  0.000000  0.000000  0.000000  0.000000  0.000000|  0.000000  0.000000  0.000000  0.000000  0.000000|\n",
      "    900|  0.000000  0.000000  0.000000  0.000000  0.000000|  0.000000  0.000000  0.000000  0.000000  0.000000|\n",
      "   1000|  0.000000  0.000000  0.000000  0.000000  0.000000|  0.000000  0.000000  0.000000  0.000000  0.000000|\n",
      "   1100|  0.000000  0.000000  0.000000  0.000000  0.000000|  0.000000  0.000000  0.000000  0.000000  0.000000|\n",
      "   1200|  0.000000  0.000000  0.000000  0.000000  0.000000|  0.000000  0.000000  0.000000  0.000000  0.000000|\n",
      "   1300|  0.000000  0.000000  0.000000  0.000000  0.000000|  0.000000  0.000000  0.000000  0.000000  0.000000|\n",
      "   1400|  0.000000  0.000000  0.000000  0.000000  0.000000|  0.000000  0.000000  0.000000  0.000000  0.000000|\n",
      "   1500|  0.000000  0.000000  0.000000  0.000000  0.000000|  0.000000  0.000000  0.000000  0.000000  0.000000|\n",
      "   1600|  0.000000  0.000000  0.000000  0.000000  0.000000|  0.000000  0.000000  0.000000  0.000000  0.000000|\n"
     ]
    },
    {
     "ename": "SystemExit",
     "evalue": "0",
     "output_type": "error",
     "traceback": [
      "An exception has occurred, use %tb to see the full traceback.\n",
      "\u001b[0;31mSystemExit\u001b[0m\u001b[0;31m:\u001b[0m 0\n"
     ]
    },
    {
     "name": "stderr",
     "output_type": "stream",
     "text": [
      "/home/trinebera/miniconda3/lib/python3.9/site-packages/IPython/core/interactiveshell.py:3406: UserWarning: To exit: use 'exit', 'quit', or Ctrl-D.\n",
      "  warn(\"To exit: use 'exit', 'quit', or Ctrl-D.\", stacklevel=1)\n"
     ]
    }
   ],
   "source": [
    "solutions = ea.run()"
   ]
  },
  {
   "cell_type": "markdown",
   "metadata": {},
   "source": [
    "We can now list the set of solutions:"
   ]
  },
  {
   "cell_type": "code",
   "execution_count": 34,
   "metadata": {},
   "outputs": [
    {
     "ename": "Exception",
     "evalue": "No solutions",
     "output_type": "error",
     "traceback": [
      "\u001b[0;31m---------------------------------------------------------------------------\u001b[0m",
      "\u001b[0;31mException\u001b[0m                                 Traceback (most recent call last)",
      "\u001b[1;32m/home/trinebera/github-classroom/27410/27410-group-assigment-group_3/misc/Bertram/Test_mewpy.ipynb Cell 51\u001b[0m in \u001b[0;36m<cell line: 1>\u001b[0;34m()\u001b[0m\n\u001b[0;32m----> <a href='vscode-notebook-cell://wsl%2Bubuntu/home/trinebera/github-classroom/27410/27410-group-assigment-group_3/misc/Bertram/Test_mewpy.ipynb#Y115sdnNjb2RlLXJlbW90ZQ%3D%3D?line=0'>1</a>\u001b[0m df\u001b[39m=\u001b[39mea\u001b[39m.\u001b[39;49mdataframe()\n\u001b[1;32m      <a href='vscode-notebook-cell://wsl%2Bubuntu/home/trinebera/github-classroom/27410/27410-group-assigment-group_3/misc/Bertram/Test_mewpy.ipynb#Y115sdnNjb2RlLXJlbW90ZQ%3D%3D?line=1'>2</a>\u001b[0m df\n",
      "File \u001b[0;32m~/miniconda3/lib/python3.9/site-packages/mewpy/optimization/ea.py:154\u001b[0m, in \u001b[0;36mAbstractEA.dataframe\u001b[0;34m(self)\u001b[0m\n\u001b[1;32m    147\u001b[0m \u001b[39m\"\"\"Returns a dataframe of the final population.\u001b[39;00m\n\u001b[1;32m    148\u001b[0m \n\u001b[1;32m    149\u001b[0m \u001b[39m:raises Exception: if the final population is empty or None.\u001b[39;00m\n\u001b[1;32m    150\u001b[0m \u001b[39m:return: Returns a dataframe of the final population\u001b[39;00m\n\u001b[1;32m    151\u001b[0m \u001b[39m:rtype: pandas.Dataframe\u001b[39;00m\n\u001b[1;32m    152\u001b[0m \u001b[39m\"\"\"\u001b[39;00m\n\u001b[1;32m    153\u001b[0m \u001b[39mif\u001b[39;00m \u001b[39mnot\u001b[39;00m \u001b[39mself\u001b[39m\u001b[39m.\u001b[39mfinal_population:\n\u001b[0;32m--> 154\u001b[0m     \u001b[39mraise\u001b[39;00m \u001b[39mException\u001b[39;00m(\u001b[39m\"\u001b[39m\u001b[39mNo solutions\u001b[39m\u001b[39m\"\u001b[39m)\n\u001b[1;32m    155\u001b[0m table \u001b[39m=\u001b[39m [[x\u001b[39m.\u001b[39mvalues, \u001b[39mlen\u001b[39m(x\u001b[39m.\u001b[39mvalues)]\u001b[39m+\u001b[39mx\u001b[39m.\u001b[39mfitness \u001b[39mfor\u001b[39;00m x \u001b[39min\u001b[39;00m \u001b[39mself\u001b[39m\u001b[39m.\u001b[39mfinal_population]\n\u001b[1;32m    156\u001b[0m \u001b[39mimport\u001b[39;00m \u001b[39mpandas\u001b[39;00m \u001b[39mas\u001b[39;00m \u001b[39mpd\u001b[39;00m\n",
      "\u001b[0;31mException\u001b[0m: No solutions"
     ]
    }
   ],
   "source": [
    "df=ea.dataframe()\n",
    "df"
   ]
  },
  {
   "cell_type": "markdown",
   "metadata": {},
   "source": [
    "Or view the best solutions on the objective space, the so called Pareto front:\n",
    "\n"
   ]
  },
  {
   "cell_type": "code",
   "execution_count": null,
   "metadata": {},
   "outputs": [],
   "source": [
    "ea.plot()"
   ]
  },
  {
   "cell_type": "markdown",
   "metadata": {},
   "source": [
    "# Strain optimization"
   ]
  },
  {
   "cell_type": "markdown",
   "metadata": {},
   "source": [
    "OBS! Here the code get's outdated. Therefore, change to this tutorial: https://github.com/BioSystemsUM/mewpy/blob/master/examples/optimization.ipynb\n",
    "\n",
    "MEWpy is a Computational Stain Optimization framework that uses Evolutionary Computation to find sets of metabolic modifications to favor a defined target. Optimization tasks are defined as optimization problems which encompass a metabolic model and optimization objectives. Additional arguments may be added depending on the problem specificities.\n",
    "\n"
   ]
  }
 ],
 "metadata": {
  "kernelspec": {
   "display_name": "Python 3.9.7 ('thedream')",
   "language": "python",
   "name": "python3"
  },
  "language_info": {
   "codemirror_mode": {
    "name": "ipython",
    "version": 3
   },
   "file_extension": ".py",
   "mimetype": "text/x-python",
   "name": "python",
   "nbconvert_exporter": "python",
   "pygments_lexer": "ipython3",
   "version": "3.9.7"
  },
  "orig_nbformat": 4,
  "vscode": {
   "interpreter": {
    "hash": "fda4ecd6cc57b5afa512adcd7f6c6e5bba31f69455292c4ced40ed9bda2cf5eb"
   }
  }
 },
 "nbformat": 4,
 "nbformat_minor": 2
}
