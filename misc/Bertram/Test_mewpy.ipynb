{
 "cells": [
  {
   "cell_type": "markdown",
   "metadata": {},
   "source": [
    "## Testing what we can do with mewpy\n",
    "\n",
    "https://mewpy.readthedocs.io/en/latest/main.html#:~:text=Metabolic%20Engineering%20Workbench%20in%20python,based%20models%20and%20simulation%20approaches.\n",
    "\n",
    "\n",
    "https://mewpy.readthedocs.io/en/latest/simulation.html\n"
   ]
  },
  {
   "cell_type": "code",
   "execution_count": null,
   "metadata": {},
   "outputs": [],
   "source": [
    "! pip install mewpy"
   ]
  },
  {
   "cell_type": "code",
   "execution_count": 3,
   "metadata": {},
   "outputs": [],
   "source": [
    "# Load libraries\n",
    "import numpy as np\n",
    "from cobra.io import read_sbml_model, write_sbml_model\n",
    "from cobra.util import create_stoichiometric_matrix\n",
    "from cobra import Reaction, Metabolite\n",
    "from cobra.core.gene import GPR"
   ]
  },
  {
   "cell_type": "code",
   "execution_count": 42,
   "metadata": {},
   "outputs": [
    {
     "name": "stdout",
     "output_type": "stream",
     "text": [
      "Loading ../../models/iMM904.xml\n"
     ]
    }
   ],
   "source": [
    "infilename = '../../models/iMM904.xml'\n",
    "print(f\"Loading {infilename}\")\n",
    "model = read_sbml_model(infilename)"
   ]
  },
  {
   "cell_type": "code",
   "execution_count": 43,
   "metadata": {},
   "outputs": [],
   "source": [
    "# build a phenotype simulator\n",
    "from mewpy.simulation import get_simulator\n",
    "simul = get_simulator(model)"
   ]
  },
  {
   "cell_type": "code",
   "execution_count": 6,
   "metadata": {},
   "outputs": [
    {
     "data": {
      "text/plain": [
       "['2dr5p_c',\n",
       " '2hb_c',\n",
       " '2hb_e',\n",
       " '2hhxdal_c',\n",
       " '2hp6mbq_m',\n",
       " '2hp6mp_m',\n",
       " '2hpmhmbq_m',\n",
       " '2hpmmbq_m',\n",
       " '2ippm_c',\n",
       " '2kmb_c']"
      ]
     },
     "execution_count": 6,
     "metadata": {},
     "output_type": "execute_result"
    }
   ],
   "source": [
    "simul.metabolites[:10]"
   ]
  },
  {
   "cell_type": "code",
   "execution_count": 7,
   "metadata": {},
   "outputs": [
    {
     "data": {
      "text/plain": [
       "['CITtcp',\n",
       " '13BGH',\n",
       " '13BGHe',\n",
       " '13GS',\n",
       " '16GS',\n",
       " '23CAPPD',\n",
       " '2DDA7Ptm',\n",
       " '2DHPtm',\n",
       " '2DOXG6PP',\n",
       " '2HBO']"
      ]
     },
     "execution_count": 7,
     "metadata": {},
     "output_type": "execute_result"
    }
   ],
   "source": [
    "simul.reactions[:10]\n"
   ]
  },
  {
   "cell_type": "code",
   "execution_count": 8,
   "metadata": {},
   "outputs": [
    {
     "data": {
      "text/plain": [
       "{'c': 'cytosol',\n",
       " 'e': 'extracellular space',\n",
       " 'm': 'mitochondria',\n",
       " 'x': 'peroxisome/glyoxysome',\n",
       " 'r': 'endoplasmic reticulum',\n",
       " 'v': 'vacuole',\n",
       " 'g': 'golgi apparatus',\n",
       " 'n': 'nucleus'}"
      ]
     },
     "execution_count": 8,
     "metadata": {},
     "output_type": "execute_result"
    }
   ],
   "source": [
    "simul.compartments"
   ]
  },
  {
   "cell_type": "code",
   "execution_count": 24,
   "metadata": {},
   "outputs": [
    {
     "data": {
      "text/html": [
       "<div>\n",
       "<style scoped>\n",
       "    .dataframe tbody tr th:only-of-type {\n",
       "        vertical-align: middle;\n",
       "    }\n",
       "\n",
       "    .dataframe tbody tr th {\n",
       "        vertical-align: top;\n",
       "    }\n",
       "\n",
       "    .dataframe thead th {\n",
       "        text-align: right;\n",
       "    }\n",
       "</style>\n",
       "<table border=\"1\" class=\"dataframe\">\n",
       "  <thead>\n",
       "    <tr style=\"text-align: right;\">\n",
       "      <th></th>\n",
       "    </tr>\n",
       "  </thead>\n",
       "  <tbody>\n",
       "  </tbody>\n",
       "</table>\n",
       "</div>"
      ],
      "text/plain": [
       "Empty DataFrame\n",
       "Columns: []\n",
       "Index: []"
      ]
     },
     "execution_count": 24,
     "metadata": {},
     "output_type": "execute_result"
    }
   ],
   "source": [
    "# find reactions identified with a term containing 'biomass'\n",
    "simul.find('biomass', find_in='m')"
   ]
  },
  {
   "cell_type": "code",
   "execution_count": 65,
   "metadata": {},
   "outputs": [
    {
     "data": {
      "text/html": [
       "<div>\n",
       "<style scoped>\n",
       "    .dataframe tbody tr th:only-of-type {\n",
       "        vertical-align: middle;\n",
       "    }\n",
       "\n",
       "    .dataframe tbody tr th {\n",
       "        vertical-align: top;\n",
       "    }\n",
       "\n",
       "    .dataframe thead th {\n",
       "        text-align: right;\n",
       "    }\n",
       "</style>\n",
       "<table border=\"1\" class=\"dataframe\">\n",
       "  <thead>\n",
       "    <tr style=\"text-align: right;\">\n",
       "      <th></th>\n",
       "      <th>name</th>\n",
       "      <th>compartment</th>\n",
       "      <th>formula</th>\n",
       "    </tr>\n",
       "    <tr>\n",
       "      <th>id</th>\n",
       "      <th></th>\n",
       "      <th></th>\n",
       "      <th></th>\n",
       "    </tr>\n",
       "  </thead>\n",
       "  <tbody>\n",
       "    <tr>\n",
       "      <th>co2_c</th>\n",
       "      <td>CO2 CO2</td>\n",
       "      <td>c</td>\n",
       "      <td>CO2</td>\n",
       "    </tr>\n",
       "    <tr>\n",
       "      <th>co2_e</th>\n",
       "      <td>CO2 CO2</td>\n",
       "      <td>e</td>\n",
       "      <td>CO2</td>\n",
       "    </tr>\n",
       "    <tr>\n",
       "      <th>co2_g</th>\n",
       "      <td>CO2 CO2</td>\n",
       "      <td>g</td>\n",
       "      <td>CO2</td>\n",
       "    </tr>\n",
       "    <tr>\n",
       "      <th>co2_m</th>\n",
       "      <td>CO2 CO2</td>\n",
       "      <td>m</td>\n",
       "      <td>CO2</td>\n",
       "    </tr>\n",
       "    <tr>\n",
       "      <th>co2_n</th>\n",
       "      <td>CO2 CO2</td>\n",
       "      <td>n</td>\n",
       "      <td>CO2</td>\n",
       "    </tr>\n",
       "    <tr>\n",
       "      <th>co2_v</th>\n",
       "      <td>CO2 CO2</td>\n",
       "      <td>v</td>\n",
       "      <td>CO2</td>\n",
       "    </tr>\n",
       "    <tr>\n",
       "      <th>co2_x</th>\n",
       "      <td>CO2 CO2</td>\n",
       "      <td>x</td>\n",
       "      <td>CO2</td>\n",
       "    </tr>\n",
       "    <tr>\n",
       "      <th>h2o2_c</th>\n",
       "      <td>Hydrogen peroxide</td>\n",
       "      <td>c</td>\n",
       "      <td>H2O2</td>\n",
       "    </tr>\n",
       "    <tr>\n",
       "      <th>h2o2_m</th>\n",
       "      <td>Hydrogen peroxide</td>\n",
       "      <td>m</td>\n",
       "      <td>H2O2</td>\n",
       "    </tr>\n",
       "    <tr>\n",
       "      <th>h2o2_n</th>\n",
       "      <td>Hydrogen peroxide</td>\n",
       "      <td>n</td>\n",
       "      <td>H2O2</td>\n",
       "    </tr>\n",
       "    <tr>\n",
       "      <th>h2o2_x</th>\n",
       "      <td>Hydrogen peroxide</td>\n",
       "      <td>x</td>\n",
       "      <td>H2O2</td>\n",
       "    </tr>\n",
       "    <tr>\n",
       "      <th>o2_m</th>\n",
       "      <td>O2 O2</td>\n",
       "      <td>m</td>\n",
       "      <td>O2</td>\n",
       "    </tr>\n",
       "    <tr>\n",
       "      <th>o2_r</th>\n",
       "      <td>O2 O2</td>\n",
       "      <td>r</td>\n",
       "      <td>O2</td>\n",
       "    </tr>\n",
       "    <tr>\n",
       "      <th>o2_x</th>\n",
       "      <td>O2 O2</td>\n",
       "      <td>x</td>\n",
       "      <td>O2</td>\n",
       "    </tr>\n",
       "    <tr>\n",
       "      <th>o2_c</th>\n",
       "      <td>O2 O2</td>\n",
       "      <td>c</td>\n",
       "      <td>O2</td>\n",
       "    </tr>\n",
       "    <tr>\n",
       "      <th>o2_e</th>\n",
       "      <td>O2 O2</td>\n",
       "      <td>e</td>\n",
       "      <td>O2</td>\n",
       "    </tr>\n",
       "  </tbody>\n",
       "</table>\n",
       "</div>"
      ],
      "text/plain": [
       "                     name compartment formula\n",
       "id                                           \n",
       "co2_c             CO2 CO2           c     CO2\n",
       "co2_e             CO2 CO2           e     CO2\n",
       "co2_g             CO2 CO2           g     CO2\n",
       "co2_m             CO2 CO2           m     CO2\n",
       "co2_n             CO2 CO2           n     CO2\n",
       "co2_v             CO2 CO2           v     CO2\n",
       "co2_x             CO2 CO2           x     CO2\n",
       "h2o2_c  Hydrogen peroxide           c    H2O2\n",
       "h2o2_m  Hydrogen peroxide           m    H2O2\n",
       "h2o2_n  Hydrogen peroxide           n    H2O2\n",
       "h2o2_x  Hydrogen peroxide           x    H2O2\n",
       "o2_m                O2 O2           m      O2\n",
       "o2_r                O2 O2           r      O2\n",
       "o2_x                O2 O2           x      O2\n",
       "o2_c                O2 O2           c      O2\n",
       "o2_e                O2 O2           e      O2"
      ]
     },
     "execution_count": 65,
     "metadata": {},
     "output_type": "execute_result"
    }
   ],
   "source": [
    "# find metabolites identified with a term containing 'o2'\n",
    "simul.find('o2',find_in='m')"
   ]
  },
  {
   "cell_type": "markdown",
   "metadata": {},
   "source": [
    "A simulator may also be loaded considering environmental conditions, that will be considered during phenotype simulations. In the next example, glucose consumption is limited to 10 mmol/gDW/h while oxygen is set to unlimited.\n",
    "\n"
   ]
  },
  {
   "cell_type": "code",
   "execution_count": 113,
   "metadata": {},
   "outputs": [],
   "source": [
    "# environmental conditions\n",
    "envcond1 = {'EX_glc__D_e': (-100000.0, 100000.0),\n",
    "           'EX_o2_e':(-1000,1000)}\n",
    "\n",
    "\n",
    "envcond2 = {'EX_glc__D_e': (-0.000001, 100000.0),\n",
    "           'EX_o2_e':(-1000,1000)}\n",
    "\n",
    "envcond3 = {'EX_glc__D_e': (-100000.0, 100000.0),\n",
    "           'EX_o2_e':(-10000000,0.0001)}"
   ]
  },
  {
   "cell_type": "code",
   "execution_count": 114,
   "metadata": {},
   "outputs": [
    {
     "data": {
      "text/plain": [
       "objective: 2244.6488764932446\n",
       "Status: OPTIMAL\n",
       "Constraints: OrderedDict([('EX_glc__D_e', (-100000.0, 100000.0)), ('EX_o2_e', (-1000, 1000))])\n",
       "Method:SimulationMethod.FBA"
      ]
     },
     "execution_count": 114,
     "metadata": {},
     "output_type": "execute_result"
    }
   ],
   "source": [
    "simul1 = get_simulator(model,envcond=envcond1)\n",
    "result1 = simul1.simulate()\n",
    "result1"
   ]
  },
  {
   "cell_type": "code",
   "execution_count": 115,
   "metadata": {},
   "outputs": [
    {
     "name": "stderr",
     "output_type": "stream",
     "text": [
      "/home/trinebera/miniconda3/lib/python3.9/site-packages/cobra/util/solver.py:554: UserWarning: Solver status is 'infeasible'.\n",
      "  warn(f\"Solver status is '{status}'.\", UserWarning)\n"
     ]
    },
    {
     "data": {
      "text/plain": [
       "objective: 0.026629505994517272\n",
       "Status: INFEASIBLE\n",
       "Constraints: OrderedDict([('EX_glc__D_e', (-1e-06, 100000.0)), ('EX_o2_e', (-1000, 1000))])\n",
       "Method:SimulationMethod.FBA"
      ]
     },
     "execution_count": 115,
     "metadata": {},
     "output_type": "execute_result"
    }
   ],
   "source": [
    "simul2 = get_simulator(model,envcond=envcond2)\n",
    "result2 = simul2.simulate()\n",
    "result2"
   ]
  },
  {
   "cell_type": "code",
   "execution_count": 106,
   "metadata": {},
   "outputs": [
    {
     "data": {
      "text/plain": [
       "objective: 9806.493729368463\n",
       "Status: OPTIMAL\n",
       "Constraints: OrderedDict([('EX_glc__D_e', (-100000.0, 100000.0)), ('EX_o2_e', (-10000000, 0.0001))])\n",
       "Method:SimulationMethod.FBA"
      ]
     },
     "execution_count": 106,
     "metadata": {},
     "output_type": "execute_result"
    }
   ],
   "source": [
    "simul3= get_simulator(model,envcond=envcond3)\n",
    "result3 = simul3.simulate()\n",
    "result3"
   ]
  },
  {
   "cell_type": "markdown",
   "metadata": {},
   "source": [
    "All phenotype simulations will consider the imposed environmental conditions, and as such they only need to be set once. Also, these conditions do not persistently alter the model, which can be reused with a different simulator instance.\n",
    "\n"
   ]
  },
  {
   "cell_type": "markdown",
   "metadata": {},
   "source": [
    "## Phenotype simulation\n",
    "\n",
    "Phenotype simulations are also run using the simulator instance using the simulate method."
   ]
  },
  {
   "cell_type": "code",
   "execution_count": 62,
   "metadata": {},
   "outputs": [],
   "source": [
    "# FBA \n",
    "result1 = simul1.simulate()\n",
    "result2 = simul2.simulate()\n",
    "result3 = simul3.simulate()\n",
    "\n",
    "# or \n",
    "# result1 = simul1.simulate(method='FBA')"
   ]
  },
  {
   "cell_type": "code",
   "execution_count": 63,
   "metadata": {},
   "outputs": [
    {
     "data": {
      "text/plain": [
       "objective: 2244.6488764932515\n",
       "Status: OPTIMAL\n",
       "Constraints: OrderedDict([('EX_glc__D_e', (1.0, 100000.0)), ('EX_o2_e', (-1000, 10))])\n",
       "Method:SimulationMethod.FBA"
      ]
     },
     "execution_count": 63,
     "metadata": {},
     "output_type": "execute_result"
    }
   ],
   "source": [
    "result1"
   ]
  },
  {
   "cell_type": "code",
   "execution_count": null,
   "metadata": {},
   "outputs": [],
   "source": []
  },
  {
   "cell_type": "code",
   "execution_count": 35,
   "metadata": {},
   "outputs": [
    {
     "data": {
      "text/plain": [
       "objective: 2244.648876493278\n",
       "Status: OPTIMAL\n",
       "Constraints: OrderedDict([('EX_glc__D_e', (0.0, 100000.0)), ('EX_o2_e', (-1000, 1000))])\n",
       "Method:SimulationMethod.FBA"
      ]
     },
     "execution_count": 35,
     "metadata": {},
     "output_type": "execute_result"
    }
   ],
   "source": [
    "result1 #objective: 2244.648876493278\n",
    "result2 #objective: 2244.648876493278\n",
    "\n",
    "# objective: 0.9748814206733505\n",
    "# Status: OPTIMAL\n",
    "# Constraints: OrderedDict([('EX_glc__D_e', (-10.0, 100000.0)), ('EX_o2_e', (-1000, 1000))])\n",
    "# Method:FBA"
   ]
  },
  {
   "cell_type": "code",
   "execution_count": 37,
   "metadata": {},
   "outputs": [
    {
     "data": {
      "text/plain": [
       "objective: 2244.648876493278\n",
       "Status: OPTIMAL\n",
       "Constraints: OrderedDict([('EX_glc__D_e', (-100000.0, 0.0)), ('EX_o2_e', (-1000, 1000))])\n",
       "Method:SimulationMethod.FBA"
      ]
     },
     "execution_count": 37,
     "metadata": {},
     "output_type": "execute_result"
    }
   ],
   "source": [
    "result3 # objective: 2244.648876493278"
   ]
  },
  {
   "cell_type": "markdown",
   "metadata": {},
   "source": [
    "Flux Balance Analysis (FBA) can be run without identifying any method, or by passing the ‘FBA’ as method parameter. Other phenotype simulation methods may also be run using one of the identifiers:\n",
    "\n",
    " - Flux Balance Analysis: method = 'FBA'\n",
    " - Parsimonious FBA:method = 'pFBA'\n",
    " - Minimization of Metabolic Adjustment:method = 'MOMA'\n",
    " - Linear MOMA: method = 'lMOMA'\n",
    " - Regulatory on/off minimization of metabolic flux: method = 'ROOM'"
   ]
  },
  {
   "cell_type": "code",
   "execution_count": 29,
   "metadata": {},
   "outputs": [
    {
     "data": {
      "text/plain": [
       "objective: 926.9119117145706\n",
       "Status: OPTIMAL\n",
       "Constraints: OrderedDict([('EX_glc__D_e', (-10.0, 100000.0)), ('EX_o2_e', (-1000, 1000))])\n",
       "Method:pFBA"
      ]
     },
     "execution_count": 29,
     "metadata": {},
     "output_type": "execute_result"
    }
   ],
   "source": [
    "# pFBA\n",
    "result = simul.simulate(method = 'pFBA')\n",
    "result"
   ]
  },
  {
   "cell_type": "markdown",
   "metadata": {},
   "source": [
    "## Reaction fluxes"
   ]
  },
  {
   "cell_type": "code",
   "execution_count": null,
   "metadata": {},
   "outputs": [],
   "source": []
  }
 ],
 "metadata": {
  "kernelspec": {
   "display_name": "Python 3.9.13 ('base')",
   "language": "python",
   "name": "python3"
  },
  "language_info": {
   "codemirror_mode": {
    "name": "ipython",
    "version": 3
   },
   "file_extension": ".py",
   "mimetype": "text/x-python",
   "name": "python",
   "nbconvert_exporter": "python",
   "pygments_lexer": "ipython3",
   "version": "3.9.13"
  },
  "orig_nbformat": 4,
  "vscode": {
   "interpreter": {
    "hash": "af0991ae4618b7e40aeffd4f5030c33b1dfac82aaa22e8d2e7e54204fdff3243"
   }
  }
 },
 "nbformat": 4,
 "nbformat_minor": 2
}
