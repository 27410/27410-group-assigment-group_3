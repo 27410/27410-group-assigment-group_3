{
 "cells": [
  {
   "cell_type": "markdown",
   "metadata": {},
   "source": [
    "Follow this tutorial\n",
    "https://notebook.community/biosustain/cameo-notebooks/other/co-factor-swapping\n"
   ]
  },
  {
   "cell_type": "code",
   "execution_count": 1,
   "metadata": {},
   "outputs": [],
   "source": [
    "from cameo import models\n",
    "model_orig = models.bigg.iJO1366"
   ]
  },
  {
   "cell_type": "code",
   "execution_count": 2,
   "metadata": {},
   "outputs": [],
   "source": [
    "from cameo.strain_design.heuristic.evolutionary.optimization import CofactorSwapOptimization\n",
    "from cameo.strain_design.heuristic.evolutionary.objective_functions import product_yield\n",
    "from cameo.strain_design.heuristic.evolutionary.objective_functions import biomass_product_coupled_yield\n",
    "from cameo.util import TimeMachine\n",
    "from cameo.flux_analysis.analysis import flux_variability_analysis as fva"
   ]
  },
  {
   "cell_type": "code",
   "execution_count": 3,
   "metadata": {},
   "outputs": [],
   "source": [
    "model = model_orig.copy()\n"
   ]
  },
  {
   "cell_type": "code",
   "execution_count": 5,
   "metadata": {},
   "outputs": [],
   "source": [
    "for rid in ['FHL', 'CAT', 'SPODM', 'SPODMpp']:\n",
    "    model.reactions.get_by_id(rid).knock_out()\n",
    "model.reactions.POR5.lower_bound = 0\n",
    "model.reactions.EX_glc__D_e.lower_bound = -10\n",
    "model.reactions.EX_o2_e.lower_bound = -10"
   ]
  },
  {
   "cell_type": "code",
   "execution_count": 6,
   "metadata": {},
   "outputs": [],
   "source": [
    "model.reactions.BIOMASS_Ec_iJO1366_core_53p95M.lower_bound = 0.1\n"
   ]
  },
  {
   "cell_type": "code",
   "execution_count": 8,
   "metadata": {},
   "outputs": [],
   "source": [
    "model.objective = model.reactions.EX_thr__L_e\n",
    "#b(model.solve().f * 4) / (model.reactions.EX_glc__D_e.flux * 6)"
   ]
  },
  {
   "cell_type": "code",
   "execution_count": 34,
   "metadata": {},
   "outputs": [
    {
     "ename": "NameError",
     "evalue": "name 'biomass_coupled_product_yield' is not defined",
     "output_type": "error",
     "traceback": [
      "\u001b[0;31m---------------------------------------------------------------------------\u001b[0m",
      "\u001b[0;31mNameError\u001b[0m                                 Traceback (most recent call last)",
      "Cell \u001b[0;32mIn [34], line 3\u001b[0m\n\u001b[1;32m      1\u001b[0m py \u001b[39m=\u001b[39m product_yield(model\u001b[39m.\u001b[39mreactions\u001b[39m.\u001b[39mEX_thr__L_e, model\u001b[39m.\u001b[39mreactions\u001b[39m.\u001b[39mEX_glc__D_e)\n\u001b[1;32m      2\u001b[0m optswap \u001b[39m=\u001b[39m CofactorSwapOptimization(model\u001b[39m=\u001b[39mmodel, objective_function\u001b[39m=\u001b[39mpy)\n\u001b[0;32m----> 3\u001b[0m optswap2 \u001b[39m=\u001b[39m biomass_coupled_product_yield(model\u001b[39m=\u001b[39mmodel, objective_function\u001b[39m=\u001b[39mpy)\n",
      "\u001b[0;31mNameError\u001b[0m: name 'biomass_coupled_product_yield' is not defined"
     ]
    }
   ],
   "source": [
    "py = product_yield(model.reactions.EX_thr__L_e, model.reactions.EX_glc__D_e)\n",
    "optswap = CofactorSwapOptimization(model=model, objective_function=py)\n",
    "optswap2 = biomass_coupled_product_yield(model=model, objective_function=py)"
   ]
  },
  {
   "cell_type": "code",
   "execution_count": 13,
   "metadata": {},
   "outputs": [
    {
     "name": "stdout",
     "output_type": "stream",
     "text": [
      "Starting optimization at Thu, 17 Nov 2022 17:27:28\n"
     ]
    },
    {
     "data": {
      "application/vnd.jupyter.widget-view+json": {
       "model_id": "a1a4d323350c4f899ad5a57442b973ce",
       "version_major": 2,
       "version_minor": 0
      },
      "text/plain": [
       "HBox()"
      ]
     },
     "metadata": {},
     "output_type": "display_data"
    },
    {
     "name": "stdout",
     "output_type": "stream",
     "text": [
      "Finished after 00:01:20\n"
     ]
    }
   ],
   "source": [
    "saved_swapped_reactions = optswap.run(max_evaluations=2000, max_size=2)\n"
   ]
  },
  {
   "cell_type": "code",
   "execution_count": 15,
   "metadata": {},
   "outputs": [
    {
     "data": {
      "text/html": [
       "\n",
       "        <h4>Result:</h4>\n",
       "        <ul>\n",
       "            <li>model: iJO1366</li>\n",
       "            <li>heuristic: GA</li>\n",
       "            <li>objective function: $$yield = \\frac{EX\\_thr\\_\\_L\\_e}{EX\\_glc\\_\\_D\\_e}$$</li>\n",
       "            <li>simulation method: pfba</li>\n",
       "            <li>target type: cofactor-swap</li>\n",
       "        <ul>\n",
       "        <div>\n",
       "<style scoped>\n",
       "    .dataframe tbody tr th:only-of-type {\n",
       "        vertical-align: middle;\n",
       "    }\n",
       "\n",
       "    .dataframe tbody tr th {\n",
       "        vertical-align: top;\n",
       "    }\n",
       "\n",
       "    .dataframe thead th {\n",
       "        text-align: right;\n",
       "    }\n",
       "</style>\n",
       "<table border=\"1\" class=\"dataframe\">\n",
       "  <thead>\n",
       "    <tr style=\"text-align: right;\">\n",
       "      <th></th>\n",
       "      <th>index</th>\n",
       "      <th>targets</th>\n",
       "      <th>fitness</th>\n",
       "    </tr>\n",
       "  </thead>\n",
       "  <tbody>\n",
       "    <tr>\n",
       "      <th>0</th>\n",
       "      <td>0</td>\n",
       "      <td>(TRSARr,)</td>\n",
       "      <td>0.805496</td>\n",
       "    </tr>\n",
       "    <tr>\n",
       "      <th>1</th>\n",
       "      <td>2</td>\n",
       "      <td>(GAPD, GLUDy)</td>\n",
       "      <td>0.804368</td>\n",
       "    </tr>\n",
       "    <tr>\n",
       "      <th>2</th>\n",
       "      <td>3</td>\n",
       "      <td>(PDH, GAPD)</td>\n",
       "      <td>0.799077</td>\n",
       "    </tr>\n",
       "    <tr>\n",
       "      <th>3</th>\n",
       "      <td>4</td>\n",
       "      <td>(PGCD, GAPD)</td>\n",
       "      <td>0.788334</td>\n",
       "    </tr>\n",
       "    <tr>\n",
       "      <th>4</th>\n",
       "      <td>5</td>\n",
       "      <td>(GAPD, IPMD)</td>\n",
       "      <td>0.788167</td>\n",
       "    </tr>\n",
       "    <tr>\n",
       "      <th>5</th>\n",
       "      <td>6</td>\n",
       "      <td>(GAPD, KARA2)</td>\n",
       "      <td>0.788146</td>\n",
       "    </tr>\n",
       "    <tr>\n",
       "      <th>6</th>\n",
       "      <td>7</td>\n",
       "      <td>(GTHOr, GAPD)</td>\n",
       "      <td>0.788141</td>\n",
       "    </tr>\n",
       "    <tr>\n",
       "      <th>7</th>\n",
       "      <td>8</td>\n",
       "      <td>(P5CR, GAPD)</td>\n",
       "      <td>0.788137</td>\n",
       "    </tr>\n",
       "    <tr>\n",
       "      <th>8</th>\n",
       "      <td>9</td>\n",
       "      <td>(GLYCL, GAPD)</td>\n",
       "      <td>0.788115</td>\n",
       "    </tr>\n",
       "    <tr>\n",
       "      <th>9</th>\n",
       "      <td>10</td>\n",
       "      <td>(GAPD,)</td>\n",
       "      <td>0.788108</td>\n",
       "    </tr>\n",
       "    <tr>\n",
       "      <th>10</th>\n",
       "      <td>14</td>\n",
       "      <td>(IMPD, GLUDy)</td>\n",
       "      <td>0.783223</td>\n",
       "    </tr>\n",
       "    <tr>\n",
       "      <th>11</th>\n",
       "      <td>15</td>\n",
       "      <td>(DHFR, GLUDy)</td>\n",
       "      <td>0.783200</td>\n",
       "    </tr>\n",
       "    <tr>\n",
       "      <th>12</th>\n",
       "      <td>16</td>\n",
       "      <td>(GLUDy,)</td>\n",
       "      <td>0.783197</td>\n",
       "    </tr>\n",
       "    <tr>\n",
       "      <th>13</th>\n",
       "      <td>17</td>\n",
       "      <td>(ASAD, TRDR)</td>\n",
       "      <td>0.782410</td>\n",
       "    </tr>\n",
       "    <tr>\n",
       "      <th>14</th>\n",
       "      <td>18</td>\n",
       "      <td>(ASAD, G5SD)</td>\n",
       "      <td>0.782407</td>\n",
       "    </tr>\n",
       "    <tr>\n",
       "      <th>15</th>\n",
       "      <td>19</td>\n",
       "      <td>(ASAD,)</td>\n",
       "      <td>0.782383</td>\n",
       "    </tr>\n",
       "    <tr>\n",
       "      <th>16</th>\n",
       "      <td>20</td>\n",
       "      <td>(HSDy,)</td>\n",
       "      <td>0.782343</td>\n",
       "    </tr>\n",
       "    <tr>\n",
       "      <th>17</th>\n",
       "      <td>22</td>\n",
       "      <td>(PDH,)</td>\n",
       "      <td>0.773008</td>\n",
       "    </tr>\n",
       "    <tr>\n",
       "      <th>18</th>\n",
       "      <td>25</td>\n",
       "      <td>(MDH, PGCD)</td>\n",
       "      <td>0.772791</td>\n",
       "    </tr>\n",
       "    <tr>\n",
       "      <th>19</th>\n",
       "      <td>26</td>\n",
       "      <td>(MDH,)</td>\n",
       "      <td>0.772543</td>\n",
       "    </tr>\n",
       "    <tr>\n",
       "      <th>20</th>\n",
       "      <td>27</td>\n",
       "      <td>(PGCD, DHDPRy)</td>\n",
       "      <td>0.769941</td>\n",
       "    </tr>\n",
       "    <tr>\n",
       "      <th>21</th>\n",
       "      <td>28</td>\n",
       "      <td>(PGCD,)</td>\n",
       "      <td>0.769901</td>\n",
       "    </tr>\n",
       "    <tr>\n",
       "      <th>22</th>\n",
       "      <td>29</td>\n",
       "      <td>(SULR,)</td>\n",
       "      <td>0.769797</td>\n",
       "    </tr>\n",
       "    <tr>\n",
       "      <th>23</th>\n",
       "      <td>32</td>\n",
       "      <td>(IMPD, SHK3Dr)</td>\n",
       "      <td>0.769784</td>\n",
       "    </tr>\n",
       "    <tr>\n",
       "      <th>24</th>\n",
       "      <td>33</td>\n",
       "      <td>(IMPD, TRDR)</td>\n",
       "      <td>0.769770</td>\n",
       "    </tr>\n",
       "    <tr>\n",
       "      <th>25</th>\n",
       "      <td>34</td>\n",
       "      <td>(IPMD,)</td>\n",
       "      <td>0.769766</td>\n",
       "    </tr>\n",
       "    <tr>\n",
       "      <th>26</th>\n",
       "      <td>35</td>\n",
       "      <td>(SHK3Dr,)</td>\n",
       "      <td>0.769758</td>\n",
       "    </tr>\n",
       "    <tr>\n",
       "      <th>27</th>\n",
       "      <td>36</td>\n",
       "      <td>(DHDPRy,)</td>\n",
       "      <td>0.769757</td>\n",
       "    </tr>\n",
       "    <tr>\n",
       "      <th>28</th>\n",
       "      <td>37</td>\n",
       "      <td>(AGPR,)</td>\n",
       "      <td>0.769749</td>\n",
       "    </tr>\n",
       "    <tr>\n",
       "      <th>29</th>\n",
       "      <td>38</td>\n",
       "      <td>(TRDR,)</td>\n",
       "      <td>0.769744</td>\n",
       "    </tr>\n",
       "    <tr>\n",
       "      <th>30</th>\n",
       "      <td>39</td>\n",
       "      <td>(GTHOr,)</td>\n",
       "      <td>0.769744</td>\n",
       "    </tr>\n",
       "    <tr>\n",
       "      <th>31</th>\n",
       "      <td>40</td>\n",
       "      <td>(IMPD,)</td>\n",
       "      <td>0.769743</td>\n",
       "    </tr>\n",
       "    <tr>\n",
       "      <th>32</th>\n",
       "      <td>41</td>\n",
       "      <td>(G5SD,)</td>\n",
       "      <td>0.769741</td>\n",
       "    </tr>\n",
       "    <tr>\n",
       "      <th>33</th>\n",
       "      <td>42</td>\n",
       "      <td>(P5CR,)</td>\n",
       "      <td>0.769741</td>\n",
       "    </tr>\n",
       "    <tr>\n",
       "      <th>34</th>\n",
       "      <td>43</td>\n",
       "      <td>(HISTD,)</td>\n",
       "      <td>0.769738</td>\n",
       "    </tr>\n",
       "    <tr>\n",
       "      <th>35</th>\n",
       "      <td>44</td>\n",
       "      <td>(G3PD2,)</td>\n",
       "      <td>0.769732</td>\n",
       "    </tr>\n",
       "    <tr>\n",
       "      <th>36</th>\n",
       "      <td>45</td>\n",
       "      <td>(3OAR140,)</td>\n",
       "      <td>0.769726</td>\n",
       "    </tr>\n",
       "    <tr>\n",
       "      <th>37</th>\n",
       "      <td>46</td>\n",
       "      <td>(GLYCL,)</td>\n",
       "      <td>0.769723</td>\n",
       "    </tr>\n",
       "    <tr>\n",
       "      <th>38</th>\n",
       "      <td>47</td>\n",
       "      <td>(UAPGR,)</td>\n",
       "      <td>0.769720</td>\n",
       "    </tr>\n",
       "    <tr>\n",
       "      <th>39</th>\n",
       "      <td>49</td>\n",
       "      <td>(GLUTRR,)</td>\n",
       "      <td>0.769718</td>\n",
       "    </tr>\n",
       "    <tr>\n",
       "      <th>40</th>\n",
       "      <td>50</td>\n",
       "      <td>(DXPRIi,)</td>\n",
       "      <td>0.769718</td>\n",
       "    </tr>\n",
       "  </tbody>\n",
       "</table>\n",
       "</div>"
      ],
      "text/plain": [
       "<cameo.strain_design.heuristic.evolutionary.optimization.TargetOptimizationResult at 0x7fa491cf1a30>"
      ]
     },
     "execution_count": 15,
     "metadata": {},
     "output_type": "execute_result"
    }
   ],
   "source": [
    "saved_swapped_reactions"
   ]
  },
  {
   "cell_type": "code",
   "execution_count": 17,
   "metadata": {},
   "outputs": [
    {
     "data": {
      "text/plain": [
       "[[('TRSARr',), 0.805496],\n",
       " [('GAPD', 'GLUDy'), 0.804368],\n",
       " [('PDH', 'GAPD'), 0.799077],\n",
       " [('PGCD', 'GAPD'), 0.788334],\n",
       " [('GAPD', 'IPMD'), 0.788167],\n",
       " [('GAPD', 'KARA2'), 0.788146],\n",
       " [('GTHOr', 'GAPD'), 0.788141],\n",
       " [('P5CR', 'GAPD'), 0.788137],\n",
       " [('GLYCL', 'GAPD'), 0.788115],\n",
       " [('GAPD',), 0.788108]]"
      ]
     },
     "execution_count": 17,
     "metadata": {},
     "output_type": "execute_result"
    }
   ],
   "source": [
    "list(saved_swapped_reactions)[0:10]"
   ]
  },
  {
   "cell_type": "code",
   "execution_count": 24,
   "metadata": {},
   "outputs": [],
   "source": [
    "optswap.model.objective = optswap.model.reactions.EX_thr__L_e"
   ]
  },
  {
   "cell_type": "code",
   "execution_count": 26,
   "metadata": {},
   "outputs": [
    {
     "data": {
      "text/html": [
       "\n",
       "        <table>\n",
       "            <tr>\n",
       "                <td><strong>Name</strong></td>\n",
       "                <td>iJO1366</td>\n",
       "            </tr><tr>\n",
       "                <td><strong>Memory address</strong></td>\n",
       "                <td>0x07fa4466e5160</td>\n",
       "            </tr><tr>\n",
       "                <td><strong>Number of metabolites</strong></td>\n",
       "                <td>1805</td>\n",
       "            </tr><tr>\n",
       "                <td><strong>Number of reactions</strong></td>\n",
       "                <td>2583</td>\n",
       "            </tr><tr>\n",
       "                <td><strong>Number of groups</strong></td>\n",
       "                <td>0</td>\n",
       "            </tr><tr>\n",
       "                <td><strong>Objective expression</strong></td>\n",
       "                <td>1.0*EX_thr__L_e - 1.0*EX_thr__L_e_reverse_ddaf9</td>\n",
       "            </tr><tr>\n",
       "                <td><strong>Compartments</strong></td>\n",
       "                <td>cytosol, extracellular space, periplasm</td>\n",
       "            </tr>\n",
       "          </table>"
      ],
      "text/plain": [
       "<Model iJO1366 at 0x7fa4466e5160>"
      ]
     },
     "execution_count": 26,
     "metadata": {},
     "output_type": "execute_result"
    }
   ],
   "source": [
    "optswap.model"
   ]
  },
  {
   "cell_type": "code",
   "execution_count": 27,
   "metadata": {},
   "outputs": [],
   "source": [
    "from sympy.solvers import solve"
   ]
  },
  {
   "cell_type": "code",
   "execution_count": 28,
   "metadata": {},
   "outputs": [
    {
     "ename": "AttributeError",
     "evalue": "'Model' object has no attribute 'solve'",
     "output_type": "error",
     "traceback": [
      "\u001b[0;31m---------------------------------------------------------------------------\u001b[0m",
      "\u001b[0;31mAttributeError\u001b[0m                            Traceback (most recent call last)",
      "Cell \u001b[0;32mIn [28], line 1\u001b[0m\n\u001b[0;32m----> 1\u001b[0m original \u001b[39m=\u001b[39m (optswap\u001b[39m.\u001b[39;49mmodel\u001b[39m.\u001b[39;49msolve()\u001b[39m.\u001b[39mf \u001b[39m*\u001b[39m \u001b[39m4\u001b[39m) \u001b[39m/\u001b[39m (\u001b[39m-\u001b[39moptswap\u001b[39m.\u001b[39mmodel\u001b[39m.\u001b[39mreactions\u001b[39m.\u001b[39mEX_glc__D_e\u001b[39m.\u001b[39mflux \u001b[39m*\u001b[39m \u001b[39m6\u001b[39m)\n",
      "\u001b[0;31mAttributeError\u001b[0m: 'Model' object has no attribute 'solve'"
     ]
    }
   ],
   "source": [
    "original = (optswap.model.solve().f * 4) / (-optswap.model.reactions.EX_glc__D_e.flux * 6)"
   ]
  },
  {
   "cell_type": "code",
   "execution_count": 18,
   "metadata": {},
   "outputs": [
    {
     "ename": "AttributeError",
     "evalue": "can't set attribute",
     "output_type": "error",
     "traceback": [
      "\u001b[0;31m---------------------------------------------------------------------------\u001b[0m",
      "\u001b[0;31mAttributeError\u001b[0m                            Traceback (most recent call last)",
      "Cell \u001b[0;32mIn [18], line 1\u001b[0m\n\u001b[0;32m----> 1\u001b[0m optswap\u001b[39m.\u001b[39;49mmodel\u001b[39m.\u001b[39;49mreactions\u001b[39m.\u001b[39;49mEX_thr__L_e\u001b[39m.\u001b[39;49mmodel \u001b[39m=\u001b[39m optswap\u001b[39m.\u001b[39mmodel\n\u001b[1;32m      2\u001b[0m optswap\u001b[39m.\u001b[39mmodel\u001b[39m.\u001b[39mobjective \u001b[39m=\u001b[39m optswap\u001b[39m.\u001b[39mmodel\u001b[39m.\u001b[39mreactions\u001b[39m.\u001b[39mEX_thr__L_e\n\u001b[1;32m      3\u001b[0m original \u001b[39m=\u001b[39m (optswap\u001b[39m.\u001b[39mmodel\u001b[39m.\u001b[39msolve()\u001b[39m.\u001b[39mf \u001b[39m*\u001b[39m \u001b[39m4\u001b[39m) \u001b[39m/\u001b[39m (\u001b[39m-\u001b[39moptswap\u001b[39m.\u001b[39mmodel\u001b[39m.\u001b[39mreactions\u001b[39m.\u001b[39mEX_glc__D_e\u001b[39m.\u001b[39mflux \u001b[39m*\u001b[39m \u001b[39m6\u001b[39m)\n",
      "\u001b[0;31mAttributeError\u001b[0m: can't set attribute"
     ]
    }
   ],
   "source": [
    "optswap.model.reactions.EX_thr__L_e.model = optswap.model\n",
    "optswap.model.objective = optswap.model.reactions.EX_thr__L_e\n",
    "original = (optswap.model.solve().f * 4) / (-optswap.model.reactions.EX_glc__D_e.flux * 6)\n",
    "with TimeMachine() as tm:\n",
    "    optswap.model.swap_reaction('GAPD', tm)\n",
    "    swapped = (optswap.model.solve().f * 4) / (-optswap.model.reactions.EX_glc__D_e.flux * 6)\n",
    "\n",
    "print(\"product/substrate yield without swap: {}\\nproduct/substrate yield with swap: {}\".format(original, swapped))"
   ]
  },
  {
   "cell_type": "code",
   "execution_count": 30,
   "metadata": {},
   "outputs": [],
   "source": [
    "reactions=saved_swapped_reactions.data_frame.targets\n"
   ]
  },
  {
   "cell_type": "code",
   "execution_count": 31,
   "metadata": {},
   "outputs": [
    {
     "name": "stdout",
     "output_type": "stream",
     "text": [
      "Reactions:\n",
      "2-Hydroxy-3-oxopropanoate + H+ + Nicotinamide adenine dinucleotide - reduced ==> (R)-Glycerate + Nicotinamide adenine dinucleotide\n",
      "\n",
      "Reactions:\n",
      "Glyceraldehyde 3-phosphate + Phosphate + Nicotinamide adenine dinucleotide ==> 3-Phospho-D-glyceroyl phosphate + H+ + Nicotinamide adenine dinucleotide - reduced\n",
      "\n",
      "L-Glutamate + H2O H2O + Nicotinamide adenine dinucleotide phosphate ==> 2-Oxoglutarate + H+ + Ammonium + Nicotinamide adenine dinucleotide phosphate - reduced\n",
      "\n",
      "Reactions:\n",
      "Coenzyme A + Pyruvate + Nicotinamide adenine dinucleotide ==> Acetyl-CoA + CO2 CO2 + Nicotinamide adenine dinucleotide - reduced\n",
      "\n",
      "Glyceraldehyde 3-phosphate + Phosphate + Nicotinamide adenine dinucleotide ==> 3-Phospho-D-glyceroyl phosphate + H+ + Nicotinamide adenine dinucleotide - reduced\n",
      "\n",
      "Reactions:\n",
      "3-Phospho-D-glycerate + Nicotinamide adenine dinucleotide ==> 3-Phosphohydroxypyruvate + H+ + Nicotinamide adenine dinucleotide - reduced\n",
      "\n",
      "Glyceraldehyde 3-phosphate + Phosphate + Nicotinamide adenine dinucleotide ==> 3-Phospho-D-glyceroyl phosphate + H+ + Nicotinamide adenine dinucleotide - reduced\n",
      "\n",
      "Reactions:\n",
      "Glyceraldehyde 3-phosphate + Phosphate + Nicotinamide adenine dinucleotide ==> 3-Phospho-D-glyceroyl phosphate + H+ + Nicotinamide adenine dinucleotide - reduced\n",
      "\n",
      "3-Carboxy-2-hydroxy-4-methylpentanoate + Nicotinamide adenine dinucleotide ==> 3-Carboxy-4-methyl-2-oxopentanoate + H+ + Nicotinamide adenine dinucleotide - reduced\n",
      "\n",
      "Reactions:\n",
      "Glyceraldehyde 3-phosphate + Phosphate + Nicotinamide adenine dinucleotide ==> 3-Phospho-D-glyceroyl phosphate + H+ + Nicotinamide adenine dinucleotide - reduced\n",
      "\n",
      "(S)-2-Aceto-2-hydroxybutanoate + H+ + Nicotinamide adenine dinucleotide phosphate - reduced ==> (R)-2,3-Dihydroxy-3-methylpentanoate + Nicotinamide adenine dinucleotide phosphate\n",
      "\n",
      "Reactions:\n",
      "Oxidized glutathione + H+ + Nicotinamide adenine dinucleotide phosphate - reduced ==> Reduced glutathione + Nicotinamide adenine dinucleotide phosphate\n",
      "\n",
      "Glyceraldehyde 3-phosphate + Phosphate + Nicotinamide adenine dinucleotide ==> 3-Phospho-D-glyceroyl phosphate + H+ + Nicotinamide adenine dinucleotide - reduced\n",
      "\n",
      "Reactions:\n",
      "1-Pyrroline-5-carboxylate + H+ + Nicotinamide adenine dinucleotide phosphate - reduced ==> L-Proline + Nicotinamide adenine dinucleotide phosphate\n",
      "\n",
      "Glyceraldehyde 3-phosphate + Phosphate + Nicotinamide adenine dinucleotide ==> 3-Phospho-D-glyceroyl phosphate + H+ + Nicotinamide adenine dinucleotide - reduced\n",
      "\n",
      "Reactions:\n",
      "Glycine + 5,6,7,8-Tetrahydrofolate + Nicotinamide adenine dinucleotide ==> CO2 CO2 + 5,10-Methylenetetrahydrofolate + Ammonium + Nicotinamide adenine dinucleotide - reduced\n",
      "\n",
      "Glyceraldehyde 3-phosphate + Phosphate + Nicotinamide adenine dinucleotide ==> 3-Phospho-D-glyceroyl phosphate + H+ + Nicotinamide adenine dinucleotide - reduced\n",
      "\n",
      "Reactions:\n",
      "Glyceraldehyde 3-phosphate + Phosphate + Nicotinamide adenine dinucleotide ==> 3-Phospho-D-glyceroyl phosphate + H+ + Nicotinamide adenine dinucleotide - reduced\n",
      "\n",
      "Reactions:\n",
      "H2O H2O + IMP C10H11N4O8P + Nicotinamide adenine dinucleotide ==> H+ + Xanthosine 5'-phosphate + Nicotinamide adenine dinucleotide - reduced\n",
      "\n",
      "L-Glutamate + H2O H2O + Nicotinamide adenine dinucleotide phosphate ==> 2-Oxoglutarate + H+ + Ammonium + Nicotinamide adenine dinucleotide phosphate - reduced\n",
      "\n",
      "Reactions:\n",
      "7,8-Dihydrofolate + H+ + Nicotinamide adenine dinucleotide phosphate - reduced ==> 5,6,7,8-Tetrahydrofolate + Nicotinamide adenine dinucleotide phosphate\n",
      "\n",
      "L-Glutamate + H2O H2O + Nicotinamide adenine dinucleotide phosphate ==> 2-Oxoglutarate + H+ + Ammonium + Nicotinamide adenine dinucleotide phosphate - reduced\n",
      "\n",
      "Reactions:\n",
      "L-Glutamate + H2O H2O + Nicotinamide adenine dinucleotide phosphate ==> 2-Oxoglutarate + H+ + Ammonium + Nicotinamide adenine dinucleotide phosphate - reduced\n",
      "\n",
      "Reactions:\n",
      "L-Aspartate 4-semialdehyde + Phosphate + Nicotinamide adenine dinucleotide phosphate ==> 4-Phospho-L-aspartate + H+ + Nicotinamide adenine dinucleotide phosphate - reduced\n",
      "\n",
      "H+ + Oxidized thioredoxin + Nicotinamide adenine dinucleotide phosphate - reduced ==> Reduced thioredoxin + Nicotinamide adenine dinucleotide phosphate\n",
      "\n",
      "Reactions:\n",
      "L-Aspartate 4-semialdehyde + Phosphate + Nicotinamide adenine dinucleotide phosphate ==> 4-Phospho-L-aspartate + H+ + Nicotinamide adenine dinucleotide phosphate - reduced\n",
      "\n",
      "L-Glutamate 5-phosphate + H+ + Nicotinamide adenine dinucleotide phosphate - reduced ==> L-Glutamate 5-semialdehyde + Phosphate + Nicotinamide adenine dinucleotide phosphate\n",
      "\n",
      "Reactions:\n",
      "L-Aspartate 4-semialdehyde + Phosphate + Nicotinamide adenine dinucleotide phosphate ==> 4-Phospho-L-aspartate + H+ + Nicotinamide adenine dinucleotide phosphate - reduced\n",
      "\n",
      "Reactions:\n",
      "L-Homoserine + Nicotinamide adenine dinucleotide phosphate ==> L-Aspartate 4-semialdehyde + H+ + Nicotinamide adenine dinucleotide phosphate - reduced\n",
      "\n",
      "Reactions:\n",
      "Coenzyme A + Pyruvate + Nicotinamide adenine dinucleotide ==> Acetyl-CoA + CO2 CO2 + Nicotinamide adenine dinucleotide - reduced\n",
      "\n",
      "Reactions:\n",
      "L-Malate + Nicotinamide adenine dinucleotide ==> H+ + Oxaloacetate + Nicotinamide adenine dinucleotide - reduced\n",
      "\n",
      "3-Phospho-D-glycerate + Nicotinamide adenine dinucleotide ==> 3-Phosphohydroxypyruvate + H+ + Nicotinamide adenine dinucleotide - reduced\n",
      "\n",
      "Reactions:\n",
      "L-Malate + Nicotinamide adenine dinucleotide ==> H+ + Oxaloacetate + Nicotinamide adenine dinucleotide - reduced\n",
      "\n",
      "Reactions:\n",
      "3-Phospho-D-glycerate + Nicotinamide adenine dinucleotide ==> 3-Phosphohydroxypyruvate + H+ + Nicotinamide adenine dinucleotide - reduced\n",
      "\n",
      "2,3-Dihydrodipicolinate + H+ + Nicotinamide adenine dinucleotide phosphate - reduced ==> 2,3,4,5-Tetrahydrodipicolinate + Nicotinamide adenine dinucleotide phosphate\n",
      "\n",
      "Reactions:\n",
      "3-Phospho-D-glycerate + Nicotinamide adenine dinucleotide ==> 3-Phosphohydroxypyruvate + H+ + Nicotinamide adenine dinucleotide - reduced\n",
      "\n",
      "Reactions:\n",
      "H+ + Sulfite + Nicotinamide adenine dinucleotide phosphate - reduced ==> H2O H2O + Hydrogen sulfide + Nicotinamide adenine dinucleotide phosphate\n",
      "\n",
      "Reactions:\n",
      "H2O H2O + IMP C10H11N4O8P + Nicotinamide adenine dinucleotide ==> H+ + Xanthosine 5'-phosphate + Nicotinamide adenine dinucleotide - reduced\n",
      "\n",
      "3-Dehydroshikimate + H+ + Nicotinamide adenine dinucleotide phosphate - reduced ==> Shikimate + Nicotinamide adenine dinucleotide phosphate\n",
      "\n",
      "Reactions:\n",
      "H2O H2O + IMP C10H11N4O8P + Nicotinamide adenine dinucleotide ==> H+ + Xanthosine 5'-phosphate + Nicotinamide adenine dinucleotide - reduced\n",
      "\n",
      "H+ + Oxidized thioredoxin + Nicotinamide adenine dinucleotide phosphate - reduced ==> Reduced thioredoxin + Nicotinamide adenine dinucleotide phosphate\n",
      "\n",
      "Reactions:\n",
      "3-Carboxy-2-hydroxy-4-methylpentanoate + Nicotinamide adenine dinucleotide ==> 3-Carboxy-4-methyl-2-oxopentanoate + H+ + Nicotinamide adenine dinucleotide - reduced\n",
      "\n",
      "Reactions:\n",
      "3-Dehydroshikimate + H+ + Nicotinamide adenine dinucleotide phosphate - reduced ==> Shikimate + Nicotinamide adenine dinucleotide phosphate\n",
      "\n",
      "Reactions:\n",
      "2,3-Dihydrodipicolinate + H+ + Nicotinamide adenine dinucleotide phosphate - reduced ==> 2,3,4,5-Tetrahydrodipicolinate + Nicotinamide adenine dinucleotide phosphate\n",
      "\n",
      "Reactions:\n",
      "N-Acetyl-L-glutamate 5-semialdehyde + Phosphate + Nicotinamide adenine dinucleotide phosphate ==> N-Acetyl-L-glutamyl 5-phosphate + H+ + Nicotinamide adenine dinucleotide phosphate - reduced\n",
      "\n",
      "Reactions:\n",
      "H+ + Oxidized thioredoxin + Nicotinamide adenine dinucleotide phosphate - reduced ==> Reduced thioredoxin + Nicotinamide adenine dinucleotide phosphate\n",
      "\n",
      "Reactions:\n",
      "Oxidized glutathione + H+ + Nicotinamide adenine dinucleotide phosphate - reduced ==> Reduced glutathione + Nicotinamide adenine dinucleotide phosphate\n",
      "\n",
      "Reactions:\n",
      "H2O H2O + IMP C10H11N4O8P + Nicotinamide adenine dinucleotide ==> H+ + Xanthosine 5'-phosphate + Nicotinamide adenine dinucleotide - reduced\n",
      "\n",
      "Reactions:\n",
      "L-Glutamate 5-phosphate + H+ + Nicotinamide adenine dinucleotide phosphate - reduced ==> L-Glutamate 5-semialdehyde + Phosphate + Nicotinamide adenine dinucleotide phosphate\n",
      "\n",
      "Reactions:\n",
      "1-Pyrroline-5-carboxylate + H+ + Nicotinamide adenine dinucleotide phosphate - reduced ==> L-Proline + Nicotinamide adenine dinucleotide phosphate\n",
      "\n",
      "Reactions:\n",
      "H2O H2O + L-Histidinol + Nicotinamide adenine dinucleotide ==> H+ + L-Histidine + Nicotinamide adenine dinucleotide - reduced\n",
      "\n",
      "Reactions:\n",
      "Glycerol 3-phosphate + Nicotinamide adenine dinucleotide phosphate ==> Dihydroxyacetone phosphate + H+ + Nicotinamide adenine dinucleotide phosphate - reduced\n",
      "\n",
      "Reactions:\n",
      "3-Oxotetradecanoyl-[acyl-carrier protein] + H+ + Nicotinamide adenine dinucleotide phosphate - reduced ==> (R)-3-Hydroxytetradecanoyl-[acyl-carrier protein] + Nicotinamide adenine dinucleotide phosphate\n",
      "\n",
      "Reactions:\n",
      "Glycine + 5,6,7,8-Tetrahydrofolate + Nicotinamide adenine dinucleotide ==> CO2 CO2 + 5,10-Methylenetetrahydrofolate + Ammonium + Nicotinamide adenine dinucleotide - reduced\n",
      "\n",
      "Reactions:\n",
      "H+ + UDP-N-acetyl-3-O-(1-carboxyvinyl)-D-glucosamine + Nicotinamide adenine dinucleotide phosphate - reduced ==> UDP-N-acetylmuramate + Nicotinamide adenine dinucleotide phosphate\n",
      "\n",
      "Reactions:\n",
      "L-Glutamyl-tRNA(Glu) + H+ + Nicotinamide adenine dinucleotide phosphate - reduced ==> L-Glutamate 1-semialdehyde + TRNA (Glu) + Nicotinamide adenine dinucleotide phosphate\n",
      "\n",
      "Reactions:\n",
      "1-deoxy-D-xylulose 5-phosphate + H+ + Nicotinamide adenine dinucleotide phosphate - reduced ==> 2-C-methyl-D-erythritol 4-phosphate + Nicotinamide adenine dinucleotide phosphate\n",
      "\n"
     ]
    }
   ],
   "source": [
    "#Fra Marks kode:b\n",
    "\n",
    "\n",
    "for t in reactions:\n",
    "    print(\"Reactions:\")\n",
    "    for id in t:\n",
    "        r=model.reactions.get_by_id(id)\n",
    "        #print(r.name, id+\",\",\"Fitness:\", solution.data_frame.fitness[id][10])\n",
    "        s=\"\"\n",
    "        for rea in range(len(r.reactants)):\n",
    "            if rea==len(r.reactants)-1:\n",
    "                s+=r.reactants[rea].name+\" ==> \"\n",
    "            else:\n",
    "                s+=r.reactants[rea].name+\" + \"\n",
    "        for p in range(len(r.products)):\n",
    "            if p==len(r.products)-1:\n",
    "                s+=r.products[p].name\n",
    "            else:\n",
    "                s+=r.products[p].name+\" + \"\n",
    "        print(s)\n",
    "        print()"
   ]
  },
  {
   "cell_type": "markdown",
   "metadata": {},
   "source": [
    "# Theoretical maximal yield\n",
    "From Marks report"
   ]
  },
  {
   "cell_type": "code",
   "execution_count": 33,
   "metadata": {},
   "outputs": [
    {
     "ename": "SyntaxError",
     "evalue": "invalid syntax (2811274944.py, line 2)",
     "output_type": "error",
     "traceback": [
      "\u001b[0;36m  Cell \u001b[0;32mIn [33], line 2\u001b[0;36m\u001b[0m\n\u001b[0;31m    model.objective = model.reactions.3OAR80 #Setting the objective to the reaction, which is producing Lycopene\u001b[0m\n\u001b[0m                                     ^\u001b[0m\n\u001b[0;31mSyntaxError\u001b[0m\u001b[0;31m:\u001b[0m invalid syntax\n"
     ]
    }
   ],
   "source": [
    "with model:\n",
    "    model.objective = model.reactions.3OAR80 #Setting the objective to the reaction, which is producing Lycopene\n",
    "    lycopene_production = model.optimize().objective_value\n",
    "    print('Maximum productivity of lycopene =', lycopene_production, 'mmol/gDW*h')\n",
    "\n",
    "    glc_uptake_flux = model.reactions.r_1714.flux \n",
    "    max_yield = lycopene_production / (-1*glc_uptake_flux)\n",
    "    print('Maximum theoretical yield =', max_yield, 'mmol-lyco/mmol-glc')"
   ]
  },
  {
   "cell_type": "code",
   "execution_count": null,
   "metadata": {},
   "outputs": [],
   "source": [
    "model.reactions.R"
   ]
  }
 ],
 "metadata": {
  "kernelspec": {
   "display_name": "Python 3.9.7 ('thedream')",
   "language": "python",
   "name": "python3"
  },
  "language_info": {
   "codemirror_mode": {
    "name": "ipython",
    "version": 3
   },
   "file_extension": ".py",
   "mimetype": "text/x-python",
   "name": "python",
   "nbconvert_exporter": "python",
   "pygments_lexer": "ipython3",
   "version": "3.9.7"
  },
  "orig_nbformat": 4,
  "vscode": {
   "interpreter": {
    "hash": "fda4ecd6cc57b5afa512adcd7f6c6e5bba31f69455292c4ced40ed9bda2cf5eb"
   }
  }
 },
 "nbformat": 4,
 "nbformat_minor": 2
}
