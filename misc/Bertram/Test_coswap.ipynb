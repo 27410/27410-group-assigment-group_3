{
 "cells": [
  {
   "cell_type": "markdown",
   "metadata": {},
   "source": [
    "Follow this tutorial\n",
    "https://notebook.community/biosustain/cameo-notebooks/other/co-factor-swapping\n"
   ]
  },
  {
   "cell_type": "code",
   "execution_count": 1,
   "metadata": {},
   "outputs": [
    {
     "ename": "KeyboardInterrupt",
     "evalue": "",
     "output_type": "error",
     "traceback": [
      "\u001b[0;31m---------------------------------------------------------------------------\u001b[0m",
      "\u001b[0;31mKeyError\u001b[0m                                  Traceback (most recent call last)",
      "File \u001b[0;32m~/miniconda3/envs/thedream/lib/python3.9/site-packages/sympy/core/assumptions.py:479\u001b[0m, in \u001b[0;36mmake_property.<locals>.getit\u001b[0;34m(self)\u001b[0m\n\u001b[1;32m    478\u001b[0m \u001b[39mtry\u001b[39;00m:\n\u001b[0;32m--> 479\u001b[0m     \u001b[39mreturn\u001b[39;00m \u001b[39mself\u001b[39;49m\u001b[39m.\u001b[39;49m_assumptions[fact]\n\u001b[1;32m    480\u001b[0m \u001b[39mexcept\u001b[39;00m \u001b[39mKeyError\u001b[39;00m:\n",
      "\u001b[0;31mKeyError\u001b[0m: 'zero'",
      "\nDuring handling of the above exception, another exception occurred:\n",
      "\u001b[0;31mKeyboardInterrupt\u001b[0m                         Traceback (most recent call last)",
      "Cell \u001b[0;32mIn [1], line 2\u001b[0m\n\u001b[1;32m      1\u001b[0m \u001b[39mfrom\u001b[39;00m \u001b[39mcameo\u001b[39;00m \u001b[39mimport\u001b[39;00m models\n\u001b[0;32m----> 2\u001b[0m model_orig \u001b[39m=\u001b[39m models\u001b[39m.\u001b[39;49mbigg\u001b[39m.\u001b[39;49miJO1366\n",
      "File \u001b[0;32m~/miniconda3/envs/thedream/lib/python3.9/site-packages/cameo/models/webmodels.py:194\u001b[0m, in \u001b[0;36mModelDB.__getattr__\u001b[0;34m(self, item)\u001b[0m\n\u001b[1;32m    192\u001b[0m     \u001b[39mself\u001b[39m\u001b[39m.\u001b[39m_index_models()\n\u001b[1;32m    193\u001b[0m \u001b[39mif\u001b[39;00m item \u001b[39min\u001b[39;00m \u001b[39mself\u001b[39m\u001b[39m.\u001b[39m_index[\u001b[39mself\u001b[39m\u001b[39m.\u001b[39m_index_key]\u001b[39m.\u001b[39mvalues:\n\u001b[0;32m--> 194\u001b[0m     \u001b[39mreturn\u001b[39;00m \u001b[39mself\u001b[39;49m\u001b[39m.\u001b[39;49m_get_model_method(item, \u001b[39mself\u001b[39;49m\u001b[39m.\u001b[39;49m_index)\n\u001b[1;32m    195\u001b[0m \u001b[39melse\u001b[39;00m:\n\u001b[1;32m    196\u001b[0m     \u001b[39msuper\u001b[39m(ModelDB, \u001b[39mself\u001b[39m)\u001b[39m.\u001b[39m\u001b[39m__getattribute__\u001b[39m(item)\n",
      "File \u001b[0;32m~/miniconda3/envs/thedream/lib/python3.9/site-packages/cameo/models/webmodels.py:199\u001b[0m, in \u001b[0;36m<lambda>\u001b[0;34m(q, idx)\u001b[0m\n\u001b[1;32m    195\u001b[0m         \u001b[39melse\u001b[39;00m:\n\u001b[1;32m    196\u001b[0m             \u001b[39msuper\u001b[39m(ModelDB, \u001b[39mself\u001b[39m)\u001b[39m.\u001b[39m\u001b[39m__getattribute__\u001b[39m(item)\n\u001b[0;32m--> 199\u001b[0m bigg \u001b[39m=\u001b[39m ModelDB(index_models_bigg, \u001b[39m'\u001b[39m\u001b[39mbigg_id\u001b[39m\u001b[39m'\u001b[39m, \u001b[39mlambda\u001b[39;00m q, idx: get_model_from_bigg(q))\n\u001b[1;32m    201\u001b[0m minho \u001b[39m=\u001b[39m ModelDB(index_models_minho, \u001b[39m'\u001b[39m\u001b[39mname\u001b[39m\u001b[39m'\u001b[39m, get_model_from_uminho)\n\u001b[1;32m    204\u001b[0m \u001b[39mdef\u001b[39;00m \u001b[39mvalidated_minho_names\u001b[39m():\n",
      "File \u001b[0;32m~/miniconda3/envs/thedream/lib/python3.9/site-packages/cameo/models/webmodels.py:161\u001b[0m, in \u001b[0;36mget_model_from_bigg\u001b[0;34m(id, solver_interface, sanitize)\u001b[0m\n\u001b[1;32m    159\u001b[0m \u001b[39mwith\u001b[39;00m io\u001b[39m.\u001b[39mStringIO(response\u001b[39m.\u001b[39mtext) \u001b[39mas\u001b[39;00m f:\n\u001b[1;32m    160\u001b[0m     model \u001b[39m=\u001b[39m load_json_model(f)\n\u001b[0;32m--> 161\u001b[0m     model\u001b[39m.\u001b[39;49msolver \u001b[39m=\u001b[39m solver_interface\n\u001b[1;32m    162\u001b[0m     \u001b[39mif\u001b[39;00m sanitize:\n\u001b[1;32m    163\u001b[0m         sanitize_ids(model)\n",
      "File \u001b[0;32m~/miniconda3/envs/thedream/lib/python3.9/site-packages/cobra/util/context.py:111\u001b[0m, in \u001b[0;36mresettable.<locals>.wrapper\u001b[0;34m(self, new_value)\u001b[0m\n\u001b[1;32m    108\u001b[0m         \u001b[39mreturn\u001b[39;00m\n\u001b[1;32m    109\u001b[0m     context(partial(func, \u001b[39mself\u001b[39m, old_value))\n\u001b[0;32m--> 111\u001b[0m func(\u001b[39mself\u001b[39;49m, new_value)\n",
      "File \u001b[0;32m~/miniconda3/envs/thedream/lib/python3.9/site-packages/cobra/core/model.py:148\u001b[0m, in \u001b[0;36mModel.solver\u001b[0;34m(self, value)\u001b[0m\n\u001b[1;32m    146\u001b[0m \u001b[39mif\u001b[39;00m \u001b[39mself\u001b[39m\u001b[39m.\u001b[39mproblem \u001b[39m==\u001b[39m interface:\n\u001b[1;32m    147\u001b[0m     \u001b[39mreturn\u001b[39;00m\n\u001b[0;32m--> 148\u001b[0m \u001b[39mself\u001b[39m\u001b[39m.\u001b[39m_solver \u001b[39m=\u001b[39m interface\u001b[39m.\u001b[39;49mModel\u001b[39m.\u001b[39;49mclone(\u001b[39mself\u001b[39;49m\u001b[39m.\u001b[39;49m_solver)\n",
      "File \u001b[0;32m~/miniconda3/envs/thedream/lib/python3.9/site-packages/optlang/interface.py:1141\u001b[0m, in \u001b[0;36mModel.clone\u001b[0;34m(cls, model, use_json, use_lp)\u001b[0m\n\u001b[1;32m   1138\u001b[0m     \u001b[39mreturn\u001b[39;00m new_model\n\u001b[1;32m   1140\u001b[0m \u001b[39mif\u001b[39;00m use_json:\n\u001b[0;32m-> 1141\u001b[0m     new_model \u001b[39m=\u001b[39m \u001b[39mcls\u001b[39;49m\u001b[39m.\u001b[39;49mfrom_json(model\u001b[39m.\u001b[39;49mto_json())\n\u001b[1;32m   1142\u001b[0m     new_model\u001b[39m.\u001b[39mconfiguration \u001b[39m=\u001b[39m interface\u001b[39m.\u001b[39mConfiguration\u001b[39m.\u001b[39mclone(model\u001b[39m.\u001b[39mconfiguration, problem\u001b[39m=\u001b[39mnew_model)\n\u001b[1;32m   1143\u001b[0m     \u001b[39mreturn\u001b[39;00m new_model\n",
      "File \u001b[0;32m~/miniconda3/envs/thedream/lib/python3.9/site-packages/optlang/interface.py:1634\u001b[0m, in \u001b[0;36mModel.from_json\u001b[0;34m(cls, json_obj)\u001b[0m\n\u001b[1;32m   1624\u001b[0m \u001b[39m\"\"\"\u001b[39;00m\n\u001b[1;32m   1625\u001b[0m \u001b[39mConstructs a Model from the provided json-object.\u001b[39;00m\n\u001b[1;32m   1626\u001b[0m \n\u001b[0;32m   (...)\u001b[0m\n\u001b[1;32m   1631\u001b[0m \u001b[39m>>>     model = Model.from_json(json.load(infile))\u001b[39;00m\n\u001b[1;32m   1632\u001b[0m \u001b[39m\"\"\"\u001b[39;00m\n\u001b[1;32m   1633\u001b[0m model \u001b[39m=\u001b[39m \u001b[39mcls\u001b[39m()\n\u001b[0;32m-> 1634\u001b[0m model\u001b[39m.\u001b[39;49m_init_from_json(json_obj)\n\u001b[1;32m   1635\u001b[0m \u001b[39mreturn\u001b[39;00m model\n",
      "File \u001b[0;32m~/miniconda3/envs/thedream/lib/python3.9/site-packages/optlang/interface.py:1646\u001b[0m, in \u001b[0;36mModel._init_from_json\u001b[0;34m(self, json_obj)\u001b[0m\n\u001b[1;32m   1644\u001b[0m \u001b[39mself\u001b[39m\u001b[39m.\u001b[39madd(variables)\n\u001b[1;32m   1645\u001b[0m \u001b[39mself\u001b[39m\u001b[39m.\u001b[39madd(constraints)\n\u001b[0;32m-> 1646\u001b[0m \u001b[39mself\u001b[39;49m\u001b[39m.\u001b[39;49mobjective \u001b[39m=\u001b[39m objective\n\u001b[1;32m   1647\u001b[0m \u001b[39mself\u001b[39m\u001b[39m.\u001b[39mupdate()\n",
      "File \u001b[0;32m~/miniconda3/envs/thedream/lib/python3.9/site-packages/optlang/glpk_interface.py:628\u001b[0m, in \u001b[0;36mModel.objective\u001b[0;34m(self, value)\u001b[0m\n\u001b[1;32m    626\u001b[0m         \u001b[39mif\u001b[39;00m variable\u001b[39m.\u001b[39m_index \u001b[39mis\u001b[39;00m \u001b[39mnot\u001b[39;00m \u001b[39mNone\u001b[39;00m:\n\u001b[1;32m    627\u001b[0m             glp_set_obj_coef(\u001b[39mself\u001b[39m\u001b[39m.\u001b[39mproblem, variable\u001b[39m.\u001b[39m_index, \u001b[39m0.\u001b[39m)\n\u001b[0;32m--> 628\u001b[0m \u001b[39msuper\u001b[39;49m(Model, \u001b[39mself\u001b[39;49m\u001b[39m.\u001b[39;49m\u001b[39m__class__\u001b[39;49m)\u001b[39m.\u001b[39;49mobjective\u001b[39m.\u001b[39;49mfset(\u001b[39mself\u001b[39;49m, value)\n\u001b[1;32m    629\u001b[0m \u001b[39mself\u001b[39m\u001b[39m.\u001b[39mupdate()\n\u001b[1;32m    631\u001b[0m offset, coef_dict, _ \u001b[39m=\u001b[39m parse_optimization_expression(value, linear\u001b[39m=\u001b[39m\u001b[39mTrue\u001b[39;00m)\n",
      "File \u001b[0;32m~/miniconda3/envs/thedream/lib/python3.9/site-packages/optlang/interface.py:1236\u001b[0m, in \u001b[0;36mModel.objective\u001b[0;34m(self, value)\u001b[0m\n\u001b[1;32m   1234\u001b[0m \u001b[39m@objective\u001b[39m\u001b[39m.\u001b[39msetter\n\u001b[1;32m   1235\u001b[0m \u001b[39mdef\u001b[39;00m \u001b[39mobjective\u001b[39m(\u001b[39mself\u001b[39m, value):\n\u001b[0;32m-> 1236\u001b[0m     \u001b[39mself\u001b[39;49m\u001b[39m.\u001b[39;49mupdate()\n\u001b[1;32m   1237\u001b[0m     \u001b[39mfor\u001b[39;00m atom \u001b[39min\u001b[39;00m \u001b[39msorted\u001b[39m(value\u001b[39m.\u001b[39mexpression\u001b[39m.\u001b[39matoms(Variable), key\u001b[39m=\u001b[39m\u001b[39mlambda\u001b[39;00m v: v\u001b[39m.\u001b[39mname):\n\u001b[1;32m   1238\u001b[0m         \u001b[39mif\u001b[39;00m \u001b[39misinstance\u001b[39m(atom, Variable) \u001b[39mand\u001b[39;00m (atom\u001b[39m.\u001b[39mproblem \u001b[39mis\u001b[39;00m \u001b[39mNone\u001b[39;00m \u001b[39mor\u001b[39;00m atom\u001b[39m.\u001b[39mproblem \u001b[39m!=\u001b[39m \u001b[39mself\u001b[39m):\n",
      "File \u001b[0;32m~/miniconda3/envs/thedream/lib/python3.9/site-packages/optlang/interface.py:1474\u001b[0m, in \u001b[0;36mModel.update\u001b[0;34m(self, callback)\u001b[0m\n\u001b[1;32m   1472\u001b[0m add_constr \u001b[39m=\u001b[39m \u001b[39mself\u001b[39m\u001b[39m.\u001b[39m_pending_modifications\u001b[39m.\u001b[39madd_constr\n\u001b[1;32m   1473\u001b[0m \u001b[39mif\u001b[39;00m \u001b[39mlen\u001b[39m(add_constr) \u001b[39m>\u001b[39m \u001b[39m0\u001b[39m:\n\u001b[0;32m-> 1474\u001b[0m     \u001b[39mself\u001b[39;49m\u001b[39m.\u001b[39;49m_add_constraints(add_constr)\n\u001b[1;32m   1475\u001b[0m     \u001b[39mself\u001b[39m\u001b[39m.\u001b[39m_pending_modifications\u001b[39m.\u001b[39madd_constr \u001b[39m=\u001b[39m []\n\u001b[1;32m   1477\u001b[0m add_constr_sloppy \u001b[39m=\u001b[39m \u001b[39mself\u001b[39m\u001b[39m.\u001b[39m_pending_modifications\u001b[39m.\u001b[39madd_constr_sloppy\n",
      "File \u001b[0;32m~/miniconda3/envs/thedream/lib/python3.9/site-packages/optlang/glpk_interface.py:770\u001b[0m, in \u001b[0;36mModel._add_constraints\u001b[0;34m(self, constraints, sloppy)\u001b[0m\n\u001b[1;32m    767\u001b[0m value_array \u001b[39m=\u001b[39m doubleArray(num_cols \u001b[39m+\u001b[39m \u001b[39m1\u001b[39m)\n\u001b[1;32m    768\u001b[0m num_vars \u001b[39m=\u001b[39m \u001b[39m0\u001b[39m  \u001b[39m# constraint.variables is too expensive for large problems\u001b[39;00m\n\u001b[0;32m--> 770\u001b[0m offset, coef_dict, _ \u001b[39m=\u001b[39m parse_optimization_expression(constraint, linear\u001b[39m=\u001b[39;49m\u001b[39mTrue\u001b[39;49;00m)\n\u001b[1;32m    772\u001b[0m num_vars \u001b[39m=\u001b[39m \u001b[39mlen\u001b[39m(coef_dict)\n\u001b[1;32m    773\u001b[0m \u001b[39mfor\u001b[39;00m i, (var, coef) \u001b[39min\u001b[39;00m \u001b[39menumerate\u001b[39m(coef_dict\u001b[39m.\u001b[39mitems()):\n",
      "File \u001b[0;32m~/miniconda3/envs/thedream/lib/python3.9/site-packages/optlang/expression_parsing.py:61\u001b[0m, in \u001b[0;36mparse_optimization_expression\u001b[0;34m(obj, linear, quadratic, expression, **kwargs)\u001b[0m\n\u001b[1;32m     59\u001b[0m     offset, linear_coefficients, quadratic_coefficients \u001b[39m=\u001b[39m _parse_quadratic_expression(expression, \u001b[39m*\u001b[39m\u001b[39m*\u001b[39mkwargs)\n\u001b[1;32m     60\u001b[0m \u001b[39melse\u001b[39;00m:\n\u001b[0;32m---> 61\u001b[0m     offset, linear_coefficients \u001b[39m=\u001b[39m _parse_linear_expression(expression, \u001b[39m*\u001b[39;49m\u001b[39m*\u001b[39;49mkwargs)\n\u001b[1;32m     62\u001b[0m     quadratic_coefficients \u001b[39m=\u001b[39m {}\n\u001b[1;32m     64\u001b[0m \u001b[39mreturn\u001b[39;00m offset, linear_coefficients, quadratic_coefficients\n",
      "File \u001b[0;32m~/miniconda3/envs/thedream/lib/python3.9/site-packages/optlang/expression_parsing.py:75\u001b[0m, in \u001b[0;36m_parse_linear_expression\u001b[0;34m(expression, expanded, **kwargs)\u001b[0m\n\u001b[1;32m     73\u001b[0m offset \u001b[39m=\u001b[39m \u001b[39m0\u001b[39m\n\u001b[1;32m     74\u001b[0m constant \u001b[39m=\u001b[39m \u001b[39mNone\u001b[39;00m\n\u001b[0;32m---> 75\u001b[0m expression \u001b[39m=\u001b[39m expression\u001b[39m.\u001b[39;49mexpand()\n\u001b[1;32m     77\u001b[0m \u001b[39mif\u001b[39;00m expression\u001b[39m.\u001b[39mis_Add:\n\u001b[1;32m     78\u001b[0m     coefficients \u001b[39m=\u001b[39m expression\u001b[39m.\u001b[39mas_coefficients_dict()\n",
      "File \u001b[0;32m~/miniconda3/envs/thedream/lib/python3.9/site-packages/sympy/core/cache.py:70\u001b[0m, in \u001b[0;36m__cacheit.<locals>.func_wrapper.<locals>.wrapper\u001b[0;34m(*args, **kwargs)\u001b[0m\n\u001b[1;32m     67\u001b[0m \u001b[39m@wraps\u001b[39m(func)\n\u001b[1;32m     68\u001b[0m \u001b[39mdef\u001b[39;00m \u001b[39mwrapper\u001b[39m(\u001b[39m*\u001b[39margs, \u001b[39m*\u001b[39m\u001b[39m*\u001b[39mkwargs):\n\u001b[1;32m     69\u001b[0m     \u001b[39mtry\u001b[39;00m:\n\u001b[0;32m---> 70\u001b[0m         retval \u001b[39m=\u001b[39m cfunc(\u001b[39m*\u001b[39;49margs, \u001b[39m*\u001b[39;49m\u001b[39m*\u001b[39;49mkwargs)\n\u001b[1;32m     71\u001b[0m     \u001b[39mexcept\u001b[39;00m \u001b[39mTypeError\u001b[39;00m \u001b[39mas\u001b[39;00m e:\n\u001b[1;32m     72\u001b[0m         \u001b[39mif\u001b[39;00m \u001b[39mnot\u001b[39;00m e\u001b[39m.\u001b[39margs \u001b[39mor\u001b[39;00m \u001b[39mnot\u001b[39;00m e\u001b[39m.\u001b[39margs[\u001b[39m0\u001b[39m]\u001b[39m.\u001b[39mstartswith(\u001b[39m'\u001b[39m\u001b[39munhashable type:\u001b[39m\u001b[39m'\u001b[39m):\n",
      "File \u001b[0;32m~/miniconda3/envs/thedream/lib/python3.9/site-packages/sympy/core/expr.py:3651\u001b[0m, in \u001b[0;36mExpr.expand\u001b[0;34m(self, deep, modulus, power_base, power_exp, mul, log, multinomial, basic, **hints)\u001b[0m\n\u001b[1;32m   3649\u001b[0m     \u001b[39mif\u001b[39;00m use_hint:\n\u001b[1;32m   3650\u001b[0m         hint \u001b[39m=\u001b[39m \u001b[39m'\u001b[39m\u001b[39m_eval_expand_\u001b[39m\u001b[39m'\u001b[39m \u001b[39m+\u001b[39m hint\n\u001b[0;32m-> 3651\u001b[0m         expr, hit \u001b[39m=\u001b[39m Expr\u001b[39m.\u001b[39;49m_expand_hint(expr, hint, deep\u001b[39m=\u001b[39;49mdeep, \u001b[39m*\u001b[39;49m\u001b[39m*\u001b[39;49mhints)\n\u001b[1;32m   3653\u001b[0m \u001b[39mwhile\u001b[39;00m \u001b[39mTrue\u001b[39;00m:\n\u001b[1;32m   3654\u001b[0m     was \u001b[39m=\u001b[39m expr\n",
      "File \u001b[0;32m~/miniconda3/envs/thedream/lib/python3.9/site-packages/sympy/core/expr.py:3584\u001b[0m, in \u001b[0;36mExpr._expand_hint\u001b[0;34m(expr, hint, deep, **hints)\u001b[0m\n\u001b[1;32m   3582\u001b[0m sargs \u001b[39m=\u001b[39m []\n\u001b[1;32m   3583\u001b[0m \u001b[39mfor\u001b[39;00m arg \u001b[39min\u001b[39;00m expr\u001b[39m.\u001b[39margs:\n\u001b[0;32m-> 3584\u001b[0m     arg, arghit \u001b[39m=\u001b[39m Expr\u001b[39m.\u001b[39;49m_expand_hint(arg, hint, \u001b[39m*\u001b[39;49m\u001b[39m*\u001b[39;49mhints)\n\u001b[1;32m   3585\u001b[0m     hit \u001b[39m|\u001b[39m\u001b[39m=\u001b[39m arghit\n\u001b[1;32m   3586\u001b[0m     sargs\u001b[39m.\u001b[39mappend(arg)\n",
      "File \u001b[0;32m~/miniconda3/envs/thedream/lib/python3.9/site-packages/sympy/core/expr.py:3592\u001b[0m, in \u001b[0;36mExpr._expand_hint\u001b[0;34m(expr, hint, deep, **hints)\u001b[0m\n\u001b[1;32m   3589\u001b[0m         expr \u001b[39m=\u001b[39m expr\u001b[39m.\u001b[39mfunc(\u001b[39m*\u001b[39msargs)\n\u001b[1;32m   3591\u001b[0m \u001b[39mif\u001b[39;00m \u001b[39mhasattr\u001b[39m(expr, hint):\n\u001b[0;32m-> 3592\u001b[0m     newexpr \u001b[39m=\u001b[39m \u001b[39mgetattr\u001b[39;49m(expr, hint)(\u001b[39m*\u001b[39;49m\u001b[39m*\u001b[39;49mhints)\n\u001b[1;32m   3593\u001b[0m     \u001b[39mif\u001b[39;00m newexpr \u001b[39m!=\u001b[39m expr:\n\u001b[1;32m   3594\u001b[0m         \u001b[39mreturn\u001b[39;00m (newexpr, \u001b[39mTrue\u001b[39;00m)\n",
      "File \u001b[0;32m~/miniconda3/envs/thedream/lib/python3.9/site-packages/sympy/core/mul.py:922\u001b[0m, in \u001b[0;36mMul._eval_expand_mul\u001b[0;34m(self, **hints)\u001b[0m\n\u001b[1;32m    919\u001b[0m \u001b[39m# Handle things like 1/(x*(x + 1)), which are automatically converted\u001b[39;00m\n\u001b[1;32m    920\u001b[0m \u001b[39m# to 1/x*1/(x + 1)\u001b[39;00m\n\u001b[1;32m    921\u001b[0m expr \u001b[39m=\u001b[39m \u001b[39mself\u001b[39m\n\u001b[0;32m--> 922\u001b[0m n, d \u001b[39m=\u001b[39m fraction(expr)\n\u001b[1;32m    923\u001b[0m \u001b[39mif\u001b[39;00m d\u001b[39m.\u001b[39mis_Mul:\n\u001b[1;32m    924\u001b[0m     n, d \u001b[39m=\u001b[39m [i\u001b[39m.\u001b[39m_eval_expand_mul(\u001b[39m*\u001b[39m\u001b[39m*\u001b[39mhints) \u001b[39mif\u001b[39;00m i\u001b[39m.\u001b[39mis_Mul \u001b[39melse\u001b[39;00m i\n\u001b[1;32m    925\u001b[0m         \u001b[39mfor\u001b[39;00m i \u001b[39min\u001b[39;00m (n, d)]\n",
      "File \u001b[0;32m~/miniconda3/envs/thedream/lib/python3.9/site-packages/sympy/simplify/radsimp.py:1141\u001b[0m, in \u001b[0;36mfraction\u001b[0;34m(expr, exact)\u001b[0m\n\u001b[1;32m   1139\u001b[0m     \u001b[39melse\u001b[39;00m:\n\u001b[1;32m   1140\u001b[0m         numer\u001b[39m.\u001b[39mappend(term)\n\u001b[0;32m-> 1141\u001b[0m \u001b[39mreturn\u001b[39;00m Mul(\u001b[39m*\u001b[39;49mnumer, evaluate\u001b[39m=\u001b[39;49m\u001b[39mnot\u001b[39;49;00m exact), Mul(\u001b[39m*\u001b[39mdenom, evaluate\u001b[39m=\u001b[39m\u001b[39mnot\u001b[39;00m exact)\n",
      "File \u001b[0;32m~/miniconda3/envs/thedream/lib/python3.9/site-packages/sympy/core/cache.py:70\u001b[0m, in \u001b[0;36m__cacheit.<locals>.func_wrapper.<locals>.wrapper\u001b[0;34m(*args, **kwargs)\u001b[0m\n\u001b[1;32m     67\u001b[0m \u001b[39m@wraps\u001b[39m(func)\n\u001b[1;32m     68\u001b[0m \u001b[39mdef\u001b[39;00m \u001b[39mwrapper\u001b[39m(\u001b[39m*\u001b[39margs, \u001b[39m*\u001b[39m\u001b[39m*\u001b[39mkwargs):\n\u001b[1;32m     69\u001b[0m     \u001b[39mtry\u001b[39;00m:\n\u001b[0;32m---> 70\u001b[0m         retval \u001b[39m=\u001b[39m cfunc(\u001b[39m*\u001b[39;49margs, \u001b[39m*\u001b[39;49m\u001b[39m*\u001b[39;49mkwargs)\n\u001b[1;32m     71\u001b[0m     \u001b[39mexcept\u001b[39;00m \u001b[39mTypeError\u001b[39;00m \u001b[39mas\u001b[39;00m e:\n\u001b[1;32m     72\u001b[0m         \u001b[39mif\u001b[39;00m \u001b[39mnot\u001b[39;00m e\u001b[39m.\u001b[39margs \u001b[39mor\u001b[39;00m \u001b[39mnot\u001b[39;00m e\u001b[39m.\u001b[39margs[\u001b[39m0\u001b[39m]\u001b[39m.\u001b[39mstartswith(\u001b[39m'\u001b[39m\u001b[39munhashable type:\u001b[39m\u001b[39m'\u001b[39m):\n",
      "File \u001b[0;32m~/miniconda3/envs/thedream/lib/python3.9/site-packages/sympy/core/operations.py:98\u001b[0m, in \u001b[0;36mAssocOp.__new__\u001b[0;34m(cls, evaluate, _sympify, *args)\u001b[0m\n\u001b[1;32m     95\u001b[0m \u001b[39mif\u001b[39;00m \u001b[39mlen\u001b[39m(args) \u001b[39m==\u001b[39m \u001b[39m1\u001b[39m:\n\u001b[1;32m     96\u001b[0m     \u001b[39mreturn\u001b[39;00m args[\u001b[39m0\u001b[39m]\n\u001b[0;32m---> 98\u001b[0m c_part, nc_part, order_symbols \u001b[39m=\u001b[39m \u001b[39mcls\u001b[39;49m\u001b[39m.\u001b[39;49mflatten(args)\n\u001b[1;32m     99\u001b[0m is_commutative \u001b[39m=\u001b[39m \u001b[39mnot\u001b[39;00m nc_part\n\u001b[1;32m    100\u001b[0m obj \u001b[39m=\u001b[39m \u001b[39mcls\u001b[39m\u001b[39m.\u001b[39m_from_args(c_part \u001b[39m+\u001b[39m nc_part, is_commutative)\n",
      "File \u001b[0;32m~/miniconda3/envs/thedream/lib/python3.9/site-packages/sympy/core/mul.py:285\u001b[0m, in \u001b[0;36mMul.flatten\u001b[0;34m(cls, seq)\u001b[0m\n\u001b[1;32m    283\u001b[0m     seq \u001b[39m=\u001b[39m [a, b]\n\u001b[1;32m    284\u001b[0m \u001b[39massert\u001b[39;00m a \u001b[39mis\u001b[39;00m \u001b[39mnot\u001b[39;00m S\u001b[39m.\u001b[39mOne\n\u001b[0;32m--> 285\u001b[0m \u001b[39mif\u001b[39;00m \u001b[39mnot\u001b[39;00m a\u001b[39m.\u001b[39;49mis_zero \u001b[39mand\u001b[39;00m a\u001b[39m.\u001b[39mis_Rational:\n\u001b[1;32m    286\u001b[0m     r, b \u001b[39m=\u001b[39m b\u001b[39m.\u001b[39mas_coeff_Mul()\n\u001b[1;32m    287\u001b[0m     \u001b[39mif\u001b[39;00m b\u001b[39m.\u001b[39mis_Add:\n",
      "File \u001b[0;32m~/miniconda3/envs/thedream/lib/python3.9/site-packages/sympy/core/assumptions.py:482\u001b[0m, in \u001b[0;36mmake_property.<locals>.getit\u001b[0;34m(self)\u001b[0m\n\u001b[1;32m    480\u001b[0m \u001b[39mexcept\u001b[39;00m \u001b[39mKeyError\u001b[39;00m:\n\u001b[1;32m    481\u001b[0m     \u001b[39mif\u001b[39;00m \u001b[39mself\u001b[39m\u001b[39m.\u001b[39m_assumptions \u001b[39mis\u001b[39;00m \u001b[39mself\u001b[39m\u001b[39m.\u001b[39mdefault_assumptions:\n\u001b[0;32m--> 482\u001b[0m         \u001b[39mself\u001b[39m\u001b[39m.\u001b[39m_assumptions \u001b[39m=\u001b[39m \u001b[39mself\u001b[39;49m\u001b[39m.\u001b[39;49mdefault_assumptions\u001b[39m.\u001b[39;49mcopy()\n\u001b[1;32m    483\u001b[0m     \u001b[39mreturn\u001b[39;00m _ask(fact, \u001b[39mself\u001b[39m)\n",
      "File \u001b[0;32m~/miniconda3/envs/thedream/lib/python3.9/site-packages/sympy/core/assumptions.py:462\u001b[0m, in \u001b[0;36mStdFactKB.copy\u001b[0;34m(self)\u001b[0m\n\u001b[1;32m    461\u001b[0m \u001b[39mdef\u001b[39;00m \u001b[39mcopy\u001b[39m(\u001b[39mself\u001b[39m):\n\u001b[0;32m--> 462\u001b[0m     \u001b[39mreturn\u001b[39;00m \u001b[39mself\u001b[39;49m\u001b[39m.\u001b[39;49m\u001b[39m__class__\u001b[39;49m(\u001b[39mself\u001b[39;49m)\n",
      "File \u001b[0;32m~/miniconda3/envs/thedream/lib/python3.9/site-packages/sympy/core/assumptions.py:459\u001b[0m, in \u001b[0;36mStdFactKB.__init__\u001b[0;34m(self, facts)\u001b[0m\n\u001b[1;32m    457\u001b[0m     \u001b[39mself\u001b[39m\u001b[39m.\u001b[39m_generator \u001b[39m=\u001b[39m facts\u001b[39m.\u001b[39mgenerator\n\u001b[1;32m    458\u001b[0m \u001b[39mif\u001b[39;00m facts:\n\u001b[0;32m--> 459\u001b[0m     \u001b[39mself\u001b[39;49m\u001b[39m.\u001b[39;49mdeduce_all_facts(facts)\n",
      "File \u001b[0;32m~/miniconda3/envs/thedream/lib/python3.9/site-packages/sympy/core/facts.py:524\u001b[0m, in \u001b[0;36mFactKB.deduce_all_facts\u001b[0;34m(self, facts)\u001b[0m\n\u001b[1;32m    521\u001b[0m     \u001b[39mcontinue\u001b[39;00m\n\u001b[1;32m    523\u001b[0m \u001b[39m# lookup routing tables\u001b[39;00m\n\u001b[0;32m--> 524\u001b[0m \u001b[39mfor\u001b[39;00m key, value \u001b[39min\u001b[39;00m full_implications[k, v]:\n\u001b[1;32m    525\u001b[0m     \u001b[39mself\u001b[39m\u001b[39m.\u001b[39m_tell(key, value)\n\u001b[1;32m    527\u001b[0m beta_maytrigger\u001b[39m.\u001b[39mupdate(beta_triggers[k, v])\n",
      "\u001b[0;31mKeyboardInterrupt\u001b[0m: "
     ]
    }
   ],
   "source": [
    "from cameo import models\n",
    "model_orig = models.bigg.iJO1366"
   ]
  },
  {
   "cell_type": "code",
   "execution_count": null,
   "metadata": {},
   "outputs": [],
   "source": [
    "from cameo.strain_design.heuristic.evolutionary.optimization import CofactorSwapOptimization\n",
    "from cameo.strain_design.heuristic.evolutionary.objective_functions import product_yield\n",
    "from cameo.strain_design.heuristic.evolutionary.objective_functions import biomass_product_coupled_yield\n",
    "from cameo.util import TimeMachine\n",
    "from cameo.flux_analysis.analysis import flux_variability_analysis as fva"
   ]
  },
  {
   "cell_type": "code",
   "execution_count": 3,
   "metadata": {},
   "outputs": [],
   "source": [
    "model = model_orig.copy()\n"
   ]
  },
  {
   "cell_type": "code",
   "execution_count": 5,
   "metadata": {},
   "outputs": [],
   "source": [
    "for rid in ['FHL', 'CAT', 'SPODM', 'SPODMpp']:\n",
    "    model.reactions.get_by_id(rid).knock_out()\n",
    "model.reactions.POR5.lower_bound = 0\n",
    "model.reactions.EX_glc__D_e.lower_bound = -10\n",
    "model.reactions.EX_o2_e.lower_bound = -10"
   ]
  },
  {
   "cell_type": "code",
   "execution_count": 6,
   "metadata": {},
   "outputs": [],
   "source": [
    "model.reactions.BIOMASS_Ec_iJO1366_core_53p95M.lower_bound = 0.1\n"
   ]
  },
  {
   "cell_type": "code",
   "execution_count": 8,
   "metadata": {},
   "outputs": [],
   "source": [
    "model.objective = model.reactions.EX_thr__L_e\n",
    "#b(model.solve().f * 4) / (model.reactions.EX_glc__D_e.flux * 6)"
   ]
  },
  {
   "cell_type": "code",
   "execution_count": 34,
   "metadata": {},
   "outputs": [
    {
     "ename": "NameError",
     "evalue": "name 'biomass_coupled_product_yield' is not defined",
     "output_type": "error",
     "traceback": [
      "\u001b[0;31m---------------------------------------------------------------------------\u001b[0m",
      "\u001b[0;31mNameError\u001b[0m                                 Traceback (most recent call last)",
      "Cell \u001b[0;32mIn [34], line 3\u001b[0m\n\u001b[1;32m      1\u001b[0m py \u001b[39m=\u001b[39m product_yield(model\u001b[39m.\u001b[39mreactions\u001b[39m.\u001b[39mEX_thr__L_e, model\u001b[39m.\u001b[39mreactions\u001b[39m.\u001b[39mEX_glc__D_e)\n\u001b[1;32m      2\u001b[0m optswap \u001b[39m=\u001b[39m CofactorSwapOptimization(model\u001b[39m=\u001b[39mmodel, objective_function\u001b[39m=\u001b[39mpy)\n\u001b[0;32m----> 3\u001b[0m optswap2 \u001b[39m=\u001b[39m biomass_coupled_product_yield(model\u001b[39m=\u001b[39mmodel, objective_function\u001b[39m=\u001b[39mpy)\n",
      "\u001b[0;31mNameError\u001b[0m: name 'biomass_coupled_product_yield' is not defined"
     ]
    }
   ],
   "source": [
    "py = product_yield(model.reactions.EX_thr__L_e, model.reactions.EX_glc__D_e)\n",
    "optswap = CofactorSwapOptimization(model=model, objective_function=py)\n",
    "optswap2 = biomass_coupled_product_yield(model=model, objective_function=py)"
   ]
  },
  {
   "cell_type": "code",
   "execution_count": 13,
   "metadata": {},
   "outputs": [
    {
     "name": "stdout",
     "output_type": "stream",
     "text": [
      "Starting optimization at Thu, 17 Nov 2022 17:27:28\n"
     ]
    },
    {
     "data": {
      "application/vnd.jupyter.widget-view+json": {
       "model_id": "a1a4d323350c4f899ad5a57442b973ce",
       "version_major": 2,
       "version_minor": 0
      },
      "text/plain": [
       "HBox()"
      ]
     },
     "metadata": {},
     "output_type": "display_data"
    },
    {
     "name": "stdout",
     "output_type": "stream",
     "text": [
      "Finished after 00:01:20\n"
     ]
    }
   ],
   "source": [
    "saved_swapped_reactions = optswap.run(max_evaluations=2000, max_size=2)\n"
   ]
  },
  {
   "cell_type": "code",
   "execution_count": 15,
   "metadata": {},
   "outputs": [
    {
     "data": {
      "text/html": [
       "\n",
       "        <h4>Result:</h4>\n",
       "        <ul>\n",
       "            <li>model: iJO1366</li>\n",
       "            <li>heuristic: GA</li>\n",
       "            <li>objective function: $$yield = \\frac{EX\\_thr\\_\\_L\\_e}{EX\\_glc\\_\\_D\\_e}$$</li>\n",
       "            <li>simulation method: pfba</li>\n",
       "            <li>target type: cofactor-swap</li>\n",
       "        <ul>\n",
       "        <div>\n",
       "<style scoped>\n",
       "    .dataframe tbody tr th:only-of-type {\n",
       "        vertical-align: middle;\n",
       "    }\n",
       "\n",
       "    .dataframe tbody tr th {\n",
       "        vertical-align: top;\n",
       "    }\n",
       "\n",
       "    .dataframe thead th {\n",
       "        text-align: right;\n",
       "    }\n",
       "</style>\n",
       "<table border=\"1\" class=\"dataframe\">\n",
       "  <thead>\n",
       "    <tr style=\"text-align: right;\">\n",
       "      <th></th>\n",
       "      <th>index</th>\n",
       "      <th>targets</th>\n",
       "      <th>fitness</th>\n",
       "    </tr>\n",
       "  </thead>\n",
       "  <tbody>\n",
       "    <tr>\n",
       "      <th>0</th>\n",
       "      <td>0</td>\n",
       "      <td>(TRSARr,)</td>\n",
       "      <td>0.805496</td>\n",
       "    </tr>\n",
       "    <tr>\n",
       "      <th>1</th>\n",
       "      <td>2</td>\n",
       "      <td>(GAPD, GLUDy)</td>\n",
       "      <td>0.804368</td>\n",
       "    </tr>\n",
       "    <tr>\n",
       "      <th>2</th>\n",
       "      <td>3</td>\n",
       "      <td>(PDH, GAPD)</td>\n",
       "      <td>0.799077</td>\n",
       "    </tr>\n",
       "    <tr>\n",
       "      <th>3</th>\n",
       "      <td>4</td>\n",
       "      <td>(PGCD, GAPD)</td>\n",
       "      <td>0.788334</td>\n",
       "    </tr>\n",
       "    <tr>\n",
       "      <th>4</th>\n",
       "      <td>5</td>\n",
       "      <td>(GAPD, IPMD)</td>\n",
       "      <td>0.788167</td>\n",
       "    </tr>\n",
       "    <tr>\n",
       "      <th>5</th>\n",
       "      <td>6</td>\n",
       "      <td>(GAPD, KARA2)</td>\n",
       "      <td>0.788146</td>\n",
       "    </tr>\n",
       "    <tr>\n",
       "      <th>6</th>\n",
       "      <td>7</td>\n",
       "      <td>(GTHOr, GAPD)</td>\n",
       "      <td>0.788141</td>\n",
       "    </tr>\n",
       "    <tr>\n",
       "      <th>7</th>\n",
       "      <td>8</td>\n",
       "      <td>(P5CR, GAPD)</td>\n",
       "      <td>0.788137</td>\n",
       "    </tr>\n",
       "    <tr>\n",
       "      <th>8</th>\n",
       "      <td>9</td>\n",
       "      <td>(GLYCL, GAPD)</td>\n",
       "      <td>0.788115</td>\n",
       "    </tr>\n",
       "    <tr>\n",
       "      <th>9</th>\n",
       "      <td>10</td>\n",
       "      <td>(GAPD,)</td>\n",
       "      <td>0.788108</td>\n",
       "    </tr>\n",
       "    <tr>\n",
       "      <th>10</th>\n",
       "      <td>14</td>\n",
       "      <td>(IMPD, GLUDy)</td>\n",
       "      <td>0.783223</td>\n",
       "    </tr>\n",
       "    <tr>\n",
       "      <th>11</th>\n",
       "      <td>15</td>\n",
       "      <td>(DHFR, GLUDy)</td>\n",
       "      <td>0.783200</td>\n",
       "    </tr>\n",
       "    <tr>\n",
       "      <th>12</th>\n",
       "      <td>16</td>\n",
       "      <td>(GLUDy,)</td>\n",
       "      <td>0.783197</td>\n",
       "    </tr>\n",
       "    <tr>\n",
       "      <th>13</th>\n",
       "      <td>17</td>\n",
       "      <td>(ASAD, TRDR)</td>\n",
       "      <td>0.782410</td>\n",
       "    </tr>\n",
       "    <tr>\n",
       "      <th>14</th>\n",
       "      <td>18</td>\n",
       "      <td>(ASAD, G5SD)</td>\n",
       "      <td>0.782407</td>\n",
       "    </tr>\n",
       "    <tr>\n",
       "      <th>15</th>\n",
       "      <td>19</td>\n",
       "      <td>(ASAD,)</td>\n",
       "      <td>0.782383</td>\n",
       "    </tr>\n",
       "    <tr>\n",
       "      <th>16</th>\n",
       "      <td>20</td>\n",
       "      <td>(HSDy,)</td>\n",
       "      <td>0.782343</td>\n",
       "    </tr>\n",
       "    <tr>\n",
       "      <th>17</th>\n",
       "      <td>22</td>\n",
       "      <td>(PDH,)</td>\n",
       "      <td>0.773008</td>\n",
       "    </tr>\n",
       "    <tr>\n",
       "      <th>18</th>\n",
       "      <td>25</td>\n",
       "      <td>(MDH, PGCD)</td>\n",
       "      <td>0.772791</td>\n",
       "    </tr>\n",
       "    <tr>\n",
       "      <th>19</th>\n",
       "      <td>26</td>\n",
       "      <td>(MDH,)</td>\n",
       "      <td>0.772543</td>\n",
       "    </tr>\n",
       "    <tr>\n",
       "      <th>20</th>\n",
       "      <td>27</td>\n",
       "      <td>(PGCD, DHDPRy)</td>\n",
       "      <td>0.769941</td>\n",
       "    </tr>\n",
       "    <tr>\n",
       "      <th>21</th>\n",
       "      <td>28</td>\n",
       "      <td>(PGCD,)</td>\n",
       "      <td>0.769901</td>\n",
       "    </tr>\n",
       "    <tr>\n",
       "      <th>22</th>\n",
       "      <td>29</td>\n",
       "      <td>(SULR,)</td>\n",
       "      <td>0.769797</td>\n",
       "    </tr>\n",
       "    <tr>\n",
       "      <th>23</th>\n",
       "      <td>32</td>\n",
       "      <td>(IMPD, SHK3Dr)</td>\n",
       "      <td>0.769784</td>\n",
       "    </tr>\n",
       "    <tr>\n",
       "      <th>24</th>\n",
       "      <td>33</td>\n",
       "      <td>(IMPD, TRDR)</td>\n",
       "      <td>0.769770</td>\n",
       "    </tr>\n",
       "    <tr>\n",
       "      <th>25</th>\n",
       "      <td>34</td>\n",
       "      <td>(IPMD,)</td>\n",
       "      <td>0.769766</td>\n",
       "    </tr>\n",
       "    <tr>\n",
       "      <th>26</th>\n",
       "      <td>35</td>\n",
       "      <td>(SHK3Dr,)</td>\n",
       "      <td>0.769758</td>\n",
       "    </tr>\n",
       "    <tr>\n",
       "      <th>27</th>\n",
       "      <td>36</td>\n",
       "      <td>(DHDPRy,)</td>\n",
       "      <td>0.769757</td>\n",
       "    </tr>\n",
       "    <tr>\n",
       "      <th>28</th>\n",
       "      <td>37</td>\n",
       "      <td>(AGPR,)</td>\n",
       "      <td>0.769749</td>\n",
       "    </tr>\n",
       "    <tr>\n",
       "      <th>29</th>\n",
       "      <td>38</td>\n",
       "      <td>(TRDR,)</td>\n",
       "      <td>0.769744</td>\n",
       "    </tr>\n",
       "    <tr>\n",
       "      <th>30</th>\n",
       "      <td>39</td>\n",
       "      <td>(GTHOr,)</td>\n",
       "      <td>0.769744</td>\n",
       "    </tr>\n",
       "    <tr>\n",
       "      <th>31</th>\n",
       "      <td>40</td>\n",
       "      <td>(IMPD,)</td>\n",
       "      <td>0.769743</td>\n",
       "    </tr>\n",
       "    <tr>\n",
       "      <th>32</th>\n",
       "      <td>41</td>\n",
       "      <td>(G5SD,)</td>\n",
       "      <td>0.769741</td>\n",
       "    </tr>\n",
       "    <tr>\n",
       "      <th>33</th>\n",
       "      <td>42</td>\n",
       "      <td>(P5CR,)</td>\n",
       "      <td>0.769741</td>\n",
       "    </tr>\n",
       "    <tr>\n",
       "      <th>34</th>\n",
       "      <td>43</td>\n",
       "      <td>(HISTD,)</td>\n",
       "      <td>0.769738</td>\n",
       "    </tr>\n",
       "    <tr>\n",
       "      <th>35</th>\n",
       "      <td>44</td>\n",
       "      <td>(G3PD2,)</td>\n",
       "      <td>0.769732</td>\n",
       "    </tr>\n",
       "    <tr>\n",
       "      <th>36</th>\n",
       "      <td>45</td>\n",
       "      <td>(3OAR140,)</td>\n",
       "      <td>0.769726</td>\n",
       "    </tr>\n",
       "    <tr>\n",
       "      <th>37</th>\n",
       "      <td>46</td>\n",
       "      <td>(GLYCL,)</td>\n",
       "      <td>0.769723</td>\n",
       "    </tr>\n",
       "    <tr>\n",
       "      <th>38</th>\n",
       "      <td>47</td>\n",
       "      <td>(UAPGR,)</td>\n",
       "      <td>0.769720</td>\n",
       "    </tr>\n",
       "    <tr>\n",
       "      <th>39</th>\n",
       "      <td>49</td>\n",
       "      <td>(GLUTRR,)</td>\n",
       "      <td>0.769718</td>\n",
       "    </tr>\n",
       "    <tr>\n",
       "      <th>40</th>\n",
       "      <td>50</td>\n",
       "      <td>(DXPRIi,)</td>\n",
       "      <td>0.769718</td>\n",
       "    </tr>\n",
       "  </tbody>\n",
       "</table>\n",
       "</div>"
      ],
      "text/plain": [
       "<cameo.strain_design.heuristic.evolutionary.optimization.TargetOptimizationResult at 0x7fa491cf1a30>"
      ]
     },
     "execution_count": 15,
     "metadata": {},
     "output_type": "execute_result"
    }
   ],
   "source": [
    "saved_swapped_reactions"
   ]
  },
  {
   "cell_type": "code",
   "execution_count": 17,
   "metadata": {},
   "outputs": [
    {
     "data": {
      "text/plain": [
       "[[('TRSARr',), 0.805496],\n",
       " [('GAPD', 'GLUDy'), 0.804368],\n",
       " [('PDH', 'GAPD'), 0.799077],\n",
       " [('PGCD', 'GAPD'), 0.788334],\n",
       " [('GAPD', 'IPMD'), 0.788167],\n",
       " [('GAPD', 'KARA2'), 0.788146],\n",
       " [('GTHOr', 'GAPD'), 0.788141],\n",
       " [('P5CR', 'GAPD'), 0.788137],\n",
       " [('GLYCL', 'GAPD'), 0.788115],\n",
       " [('GAPD',), 0.788108]]"
      ]
     },
     "execution_count": 17,
     "metadata": {},
     "output_type": "execute_result"
    }
   ],
   "source": [
    "list(saved_swapped_reactions)[0:10]"
   ]
  },
  {
   "cell_type": "code",
   "execution_count": 24,
   "metadata": {},
   "outputs": [],
   "source": [
    "optswap.model.objective = optswap.model.reactions.EX_thr__L_e"
   ]
  },
  {
   "cell_type": "code",
   "execution_count": 26,
   "metadata": {},
   "outputs": [
    {
     "data": {
      "text/html": [
       "\n",
       "        <table>\n",
       "            <tr>\n",
       "                <td><strong>Name</strong></td>\n",
       "                <td>iJO1366</td>\n",
       "            </tr><tr>\n",
       "                <td><strong>Memory address</strong></td>\n",
       "                <td>0x07fa4466e5160</td>\n",
       "            </tr><tr>\n",
       "                <td><strong>Number of metabolites</strong></td>\n",
       "                <td>1805</td>\n",
       "            </tr><tr>\n",
       "                <td><strong>Number of reactions</strong></td>\n",
       "                <td>2583</td>\n",
       "            </tr><tr>\n",
       "                <td><strong>Number of groups</strong></td>\n",
       "                <td>0</td>\n",
       "            </tr><tr>\n",
       "                <td><strong>Objective expression</strong></td>\n",
       "                <td>1.0*EX_thr__L_e - 1.0*EX_thr__L_e_reverse_ddaf9</td>\n",
       "            </tr><tr>\n",
       "                <td><strong>Compartments</strong></td>\n",
       "                <td>cytosol, extracellular space, periplasm</td>\n",
       "            </tr>\n",
       "          </table>"
      ],
      "text/plain": [
       "<Model iJO1366 at 0x7fa4466e5160>"
      ]
     },
     "execution_count": 26,
     "metadata": {},
     "output_type": "execute_result"
    }
   ],
   "source": [
    "optswap.model"
   ]
  },
  {
   "cell_type": "code",
   "execution_count": 27,
   "metadata": {},
   "outputs": [],
   "source": [
    "from sympy.solvers import solve"
   ]
  },
  {
   "cell_type": "code",
   "execution_count": 28,
   "metadata": {},
   "outputs": [
    {
     "ename": "AttributeError",
     "evalue": "'Model' object has no attribute 'solve'",
     "output_type": "error",
     "traceback": [
      "\u001b[0;31m---------------------------------------------------------------------------\u001b[0m",
      "\u001b[0;31mAttributeError\u001b[0m                            Traceback (most recent call last)",
      "Cell \u001b[0;32mIn [28], line 1\u001b[0m\n\u001b[0;32m----> 1\u001b[0m original \u001b[39m=\u001b[39m (optswap\u001b[39m.\u001b[39;49mmodel\u001b[39m.\u001b[39;49msolve()\u001b[39m.\u001b[39mf \u001b[39m*\u001b[39m \u001b[39m4\u001b[39m) \u001b[39m/\u001b[39m (\u001b[39m-\u001b[39moptswap\u001b[39m.\u001b[39mmodel\u001b[39m.\u001b[39mreactions\u001b[39m.\u001b[39mEX_glc__D_e\u001b[39m.\u001b[39mflux \u001b[39m*\u001b[39m \u001b[39m6\u001b[39m)\n",
      "\u001b[0;31mAttributeError\u001b[0m: 'Model' object has no attribute 'solve'"
     ]
    }
   ],
   "source": [
    "original = (optswap.model.solve().f * 4) / (-optswap.model.reactions.EX_glc__D_e.flux * 6)"
   ]
  },
  {
   "cell_type": "code",
   "execution_count": 18,
   "metadata": {},
   "outputs": [
    {
     "ename": "AttributeError",
     "evalue": "can't set attribute",
     "output_type": "error",
     "traceback": [
      "\u001b[0;31m---------------------------------------------------------------------------\u001b[0m",
      "\u001b[0;31mAttributeError\u001b[0m                            Traceback (most recent call last)",
      "Cell \u001b[0;32mIn [18], line 1\u001b[0m\n\u001b[0;32m----> 1\u001b[0m optswap\u001b[39m.\u001b[39;49mmodel\u001b[39m.\u001b[39;49mreactions\u001b[39m.\u001b[39;49mEX_thr__L_e\u001b[39m.\u001b[39;49mmodel \u001b[39m=\u001b[39m optswap\u001b[39m.\u001b[39mmodel\n\u001b[1;32m      2\u001b[0m optswap\u001b[39m.\u001b[39mmodel\u001b[39m.\u001b[39mobjective \u001b[39m=\u001b[39m optswap\u001b[39m.\u001b[39mmodel\u001b[39m.\u001b[39mreactions\u001b[39m.\u001b[39mEX_thr__L_e\n\u001b[1;32m      3\u001b[0m original \u001b[39m=\u001b[39m (optswap\u001b[39m.\u001b[39mmodel\u001b[39m.\u001b[39msolve()\u001b[39m.\u001b[39mf \u001b[39m*\u001b[39m \u001b[39m4\u001b[39m) \u001b[39m/\u001b[39m (\u001b[39m-\u001b[39moptswap\u001b[39m.\u001b[39mmodel\u001b[39m.\u001b[39mreactions\u001b[39m.\u001b[39mEX_glc__D_e\u001b[39m.\u001b[39mflux \u001b[39m*\u001b[39m \u001b[39m6\u001b[39m)\n",
      "\u001b[0;31mAttributeError\u001b[0m: can't set attribute"
     ]
    }
   ],
   "source": [
    "optswap.model.reactions.EX_thr__L_e.model = optswap.model\n",
    "optswap.model.objective = optswap.model.reactions.EX_thr__L_e\n",
    "original = (optswap.model.solve().f * 4) / (-optswap.model.reactions.EX_glc__D_e.flux * 6)\n",
    "with TimeMachine() as tm:\n",
    "    optswap.model.swap_reaction('GAPD', tm)\n",
    "    swapped = (optswap.model.solve().f * 4) / (-optswap.model.reactions.EX_glc__D_e.flux * 6)\n",
    "\n",
    "print(\"product/substrate yield without swap: {}\\nproduct/substrate yield with swap: {}\".format(original, swapped))"
   ]
  },
  {
   "cell_type": "code",
   "execution_count": 30,
   "metadata": {},
   "outputs": [],
   "source": [
    "reactions=saved_swapped_reactions.data_frame.targets\n"
   ]
  },
  {
   "cell_type": "code",
   "execution_count": 31,
   "metadata": {},
   "outputs": [
    {
     "name": "stdout",
     "output_type": "stream",
     "text": [
      "Reactions:\n",
      "2-Hydroxy-3-oxopropanoate + H+ + Nicotinamide adenine dinucleotide - reduced ==> (R)-Glycerate + Nicotinamide adenine dinucleotide\n",
      "\n",
      "Reactions:\n",
      "Glyceraldehyde 3-phosphate + Phosphate + Nicotinamide adenine dinucleotide ==> 3-Phospho-D-glyceroyl phosphate + H+ + Nicotinamide adenine dinucleotide - reduced\n",
      "\n",
      "L-Glutamate + H2O H2O + Nicotinamide adenine dinucleotide phosphate ==> 2-Oxoglutarate + H+ + Ammonium + Nicotinamide adenine dinucleotide phosphate - reduced\n",
      "\n",
      "Reactions:\n",
      "Coenzyme A + Pyruvate + Nicotinamide adenine dinucleotide ==> Acetyl-CoA + CO2 CO2 + Nicotinamide adenine dinucleotide - reduced\n",
      "\n",
      "Glyceraldehyde 3-phosphate + Phosphate + Nicotinamide adenine dinucleotide ==> 3-Phospho-D-glyceroyl phosphate + H+ + Nicotinamide adenine dinucleotide - reduced\n",
      "\n",
      "Reactions:\n",
      "3-Phospho-D-glycerate + Nicotinamide adenine dinucleotide ==> 3-Phosphohydroxypyruvate + H+ + Nicotinamide adenine dinucleotide - reduced\n",
      "\n",
      "Glyceraldehyde 3-phosphate + Phosphate + Nicotinamide adenine dinucleotide ==> 3-Phospho-D-glyceroyl phosphate + H+ + Nicotinamide adenine dinucleotide - reduced\n",
      "\n",
      "Reactions:\n",
      "Glyceraldehyde 3-phosphate + Phosphate + Nicotinamide adenine dinucleotide ==> 3-Phospho-D-glyceroyl phosphate + H+ + Nicotinamide adenine dinucleotide - reduced\n",
      "\n",
      "3-Carboxy-2-hydroxy-4-methylpentanoate + Nicotinamide adenine dinucleotide ==> 3-Carboxy-4-methyl-2-oxopentanoate + H+ + Nicotinamide adenine dinucleotide - reduced\n",
      "\n",
      "Reactions:\n",
      "Glyceraldehyde 3-phosphate + Phosphate + Nicotinamide adenine dinucleotide ==> 3-Phospho-D-glyceroyl phosphate + H+ + Nicotinamide adenine dinucleotide - reduced\n",
      "\n",
      "(S)-2-Aceto-2-hydroxybutanoate + H+ + Nicotinamide adenine dinucleotide phosphate - reduced ==> (R)-2,3-Dihydroxy-3-methylpentanoate + Nicotinamide adenine dinucleotide phosphate\n",
      "\n",
      "Reactions:\n",
      "Oxidized glutathione + H+ + Nicotinamide adenine dinucleotide phosphate - reduced ==> Reduced glutathione + Nicotinamide adenine dinucleotide phosphate\n",
      "\n",
      "Glyceraldehyde 3-phosphate + Phosphate + Nicotinamide adenine dinucleotide ==> 3-Phospho-D-glyceroyl phosphate + H+ + Nicotinamide adenine dinucleotide - reduced\n",
      "\n",
      "Reactions:\n",
      "1-Pyrroline-5-carboxylate + H+ + Nicotinamide adenine dinucleotide phosphate - reduced ==> L-Proline + Nicotinamide adenine dinucleotide phosphate\n",
      "\n",
      "Glyceraldehyde 3-phosphate + Phosphate + Nicotinamide adenine dinucleotide ==> 3-Phospho-D-glyceroyl phosphate + H+ + Nicotinamide adenine dinucleotide - reduced\n",
      "\n",
      "Reactions:\n",
      "Glycine + 5,6,7,8-Tetrahydrofolate + Nicotinamide adenine dinucleotide ==> CO2 CO2 + 5,10-Methylenetetrahydrofolate + Ammonium + Nicotinamide adenine dinucleotide - reduced\n",
      "\n",
      "Glyceraldehyde 3-phosphate + Phosphate + Nicotinamide adenine dinucleotide ==> 3-Phospho-D-glyceroyl phosphate + H+ + Nicotinamide adenine dinucleotide - reduced\n",
      "\n",
      "Reactions:\n",
      "Glyceraldehyde 3-phosphate + Phosphate + Nicotinamide adenine dinucleotide ==> 3-Phospho-D-glyceroyl phosphate + H+ + Nicotinamide adenine dinucleotide - reduced\n",
      "\n",
      "Reactions:\n",
      "H2O H2O + IMP C10H11N4O8P + Nicotinamide adenine dinucleotide ==> H+ + Xanthosine 5'-phosphate + Nicotinamide adenine dinucleotide - reduced\n",
      "\n",
      "L-Glutamate + H2O H2O + Nicotinamide adenine dinucleotide phosphate ==> 2-Oxoglutarate + H+ + Ammonium + Nicotinamide adenine dinucleotide phosphate - reduced\n",
      "\n",
      "Reactions:\n",
      "7,8-Dihydrofolate + H+ + Nicotinamide adenine dinucleotide phosphate - reduced ==> 5,6,7,8-Tetrahydrofolate + Nicotinamide adenine dinucleotide phosphate\n",
      "\n",
      "L-Glutamate + H2O H2O + Nicotinamide adenine dinucleotide phosphate ==> 2-Oxoglutarate + H+ + Ammonium + Nicotinamide adenine dinucleotide phosphate - reduced\n",
      "\n",
      "Reactions:\n",
      "L-Glutamate + H2O H2O + Nicotinamide adenine dinucleotide phosphate ==> 2-Oxoglutarate + H+ + Ammonium + Nicotinamide adenine dinucleotide phosphate - reduced\n",
      "\n",
      "Reactions:\n",
      "L-Aspartate 4-semialdehyde + Phosphate + Nicotinamide adenine dinucleotide phosphate ==> 4-Phospho-L-aspartate + H+ + Nicotinamide adenine dinucleotide phosphate - reduced\n",
      "\n",
      "H+ + Oxidized thioredoxin + Nicotinamide adenine dinucleotide phosphate - reduced ==> Reduced thioredoxin + Nicotinamide adenine dinucleotide phosphate\n",
      "\n",
      "Reactions:\n",
      "L-Aspartate 4-semialdehyde + Phosphate + Nicotinamide adenine dinucleotide phosphate ==> 4-Phospho-L-aspartate + H+ + Nicotinamide adenine dinucleotide phosphate - reduced\n",
      "\n",
      "L-Glutamate 5-phosphate + H+ + Nicotinamide adenine dinucleotide phosphate - reduced ==> L-Glutamate 5-semialdehyde + Phosphate + Nicotinamide adenine dinucleotide phosphate\n",
      "\n",
      "Reactions:\n",
      "L-Aspartate 4-semialdehyde + Phosphate + Nicotinamide adenine dinucleotide phosphate ==> 4-Phospho-L-aspartate + H+ + Nicotinamide adenine dinucleotide phosphate - reduced\n",
      "\n",
      "Reactions:\n",
      "L-Homoserine + Nicotinamide adenine dinucleotide phosphate ==> L-Aspartate 4-semialdehyde + H+ + Nicotinamide adenine dinucleotide phosphate - reduced\n",
      "\n",
      "Reactions:\n",
      "Coenzyme A + Pyruvate + Nicotinamide adenine dinucleotide ==> Acetyl-CoA + CO2 CO2 + Nicotinamide adenine dinucleotide - reduced\n",
      "\n",
      "Reactions:\n",
      "L-Malate + Nicotinamide adenine dinucleotide ==> H+ + Oxaloacetate + Nicotinamide adenine dinucleotide - reduced\n",
      "\n",
      "3-Phospho-D-glycerate + Nicotinamide adenine dinucleotide ==> 3-Phosphohydroxypyruvate + H+ + Nicotinamide adenine dinucleotide - reduced\n",
      "\n",
      "Reactions:\n",
      "L-Malate + Nicotinamide adenine dinucleotide ==> H+ + Oxaloacetate + Nicotinamide adenine dinucleotide - reduced\n",
      "\n",
      "Reactions:\n",
      "3-Phospho-D-glycerate + Nicotinamide adenine dinucleotide ==> 3-Phosphohydroxypyruvate + H+ + Nicotinamide adenine dinucleotide - reduced\n",
      "\n",
      "2,3-Dihydrodipicolinate + H+ + Nicotinamide adenine dinucleotide phosphate - reduced ==> 2,3,4,5-Tetrahydrodipicolinate + Nicotinamide adenine dinucleotide phosphate\n",
      "\n",
      "Reactions:\n",
      "3-Phospho-D-glycerate + Nicotinamide adenine dinucleotide ==> 3-Phosphohydroxypyruvate + H+ + Nicotinamide adenine dinucleotide - reduced\n",
      "\n",
      "Reactions:\n",
      "H+ + Sulfite + Nicotinamide adenine dinucleotide phosphate - reduced ==> H2O H2O + Hydrogen sulfide + Nicotinamide adenine dinucleotide phosphate\n",
      "\n",
      "Reactions:\n",
      "H2O H2O + IMP C10H11N4O8P + Nicotinamide adenine dinucleotide ==> H+ + Xanthosine 5'-phosphate + Nicotinamide adenine dinucleotide - reduced\n",
      "\n",
      "3-Dehydroshikimate + H+ + Nicotinamide adenine dinucleotide phosphate - reduced ==> Shikimate + Nicotinamide adenine dinucleotide phosphate\n",
      "\n",
      "Reactions:\n",
      "H2O H2O + IMP C10H11N4O8P + Nicotinamide adenine dinucleotide ==> H+ + Xanthosine 5'-phosphate + Nicotinamide adenine dinucleotide - reduced\n",
      "\n",
      "H+ + Oxidized thioredoxin + Nicotinamide adenine dinucleotide phosphate - reduced ==> Reduced thioredoxin + Nicotinamide adenine dinucleotide phosphate\n",
      "\n",
      "Reactions:\n",
      "3-Carboxy-2-hydroxy-4-methylpentanoate + Nicotinamide adenine dinucleotide ==> 3-Carboxy-4-methyl-2-oxopentanoate + H+ + Nicotinamide adenine dinucleotide - reduced\n",
      "\n",
      "Reactions:\n",
      "3-Dehydroshikimate + H+ + Nicotinamide adenine dinucleotide phosphate - reduced ==> Shikimate + Nicotinamide adenine dinucleotide phosphate\n",
      "\n",
      "Reactions:\n",
      "2,3-Dihydrodipicolinate + H+ + Nicotinamide adenine dinucleotide phosphate - reduced ==> 2,3,4,5-Tetrahydrodipicolinate + Nicotinamide adenine dinucleotide phosphate\n",
      "\n",
      "Reactions:\n",
      "N-Acetyl-L-glutamate 5-semialdehyde + Phosphate + Nicotinamide adenine dinucleotide phosphate ==> N-Acetyl-L-glutamyl 5-phosphate + H+ + Nicotinamide adenine dinucleotide phosphate - reduced\n",
      "\n",
      "Reactions:\n",
      "H+ + Oxidized thioredoxin + Nicotinamide adenine dinucleotide phosphate - reduced ==> Reduced thioredoxin + Nicotinamide adenine dinucleotide phosphate\n",
      "\n",
      "Reactions:\n",
      "Oxidized glutathione + H+ + Nicotinamide adenine dinucleotide phosphate - reduced ==> Reduced glutathione + Nicotinamide adenine dinucleotide phosphate\n",
      "\n",
      "Reactions:\n",
      "H2O H2O + IMP C10H11N4O8P + Nicotinamide adenine dinucleotide ==> H+ + Xanthosine 5'-phosphate + Nicotinamide adenine dinucleotide - reduced\n",
      "\n",
      "Reactions:\n",
      "L-Glutamate 5-phosphate + H+ + Nicotinamide adenine dinucleotide phosphate - reduced ==> L-Glutamate 5-semialdehyde + Phosphate + Nicotinamide adenine dinucleotide phosphate\n",
      "\n",
      "Reactions:\n",
      "1-Pyrroline-5-carboxylate + H+ + Nicotinamide adenine dinucleotide phosphate - reduced ==> L-Proline + Nicotinamide adenine dinucleotide phosphate\n",
      "\n",
      "Reactions:\n",
      "H2O H2O + L-Histidinol + Nicotinamide adenine dinucleotide ==> H+ + L-Histidine + Nicotinamide adenine dinucleotide - reduced\n",
      "\n",
      "Reactions:\n",
      "Glycerol 3-phosphate + Nicotinamide adenine dinucleotide phosphate ==> Dihydroxyacetone phosphate + H+ + Nicotinamide adenine dinucleotide phosphate - reduced\n",
      "\n",
      "Reactions:\n",
      "3-Oxotetradecanoyl-[acyl-carrier protein] + H+ + Nicotinamide adenine dinucleotide phosphate - reduced ==> (R)-3-Hydroxytetradecanoyl-[acyl-carrier protein] + Nicotinamide adenine dinucleotide phosphate\n",
      "\n",
      "Reactions:\n",
      "Glycine + 5,6,7,8-Tetrahydrofolate + Nicotinamide adenine dinucleotide ==> CO2 CO2 + 5,10-Methylenetetrahydrofolate + Ammonium + Nicotinamide adenine dinucleotide - reduced\n",
      "\n",
      "Reactions:\n",
      "H+ + UDP-N-acetyl-3-O-(1-carboxyvinyl)-D-glucosamine + Nicotinamide adenine dinucleotide phosphate - reduced ==> UDP-N-acetylmuramate + Nicotinamide adenine dinucleotide phosphate\n",
      "\n",
      "Reactions:\n",
      "L-Glutamyl-tRNA(Glu) + H+ + Nicotinamide adenine dinucleotide phosphate - reduced ==> L-Glutamate 1-semialdehyde + TRNA (Glu) + Nicotinamide adenine dinucleotide phosphate\n",
      "\n",
      "Reactions:\n",
      "1-deoxy-D-xylulose 5-phosphate + H+ + Nicotinamide adenine dinucleotide phosphate - reduced ==> 2-C-methyl-D-erythritol 4-phosphate + Nicotinamide adenine dinucleotide phosphate\n",
      "\n"
     ]
    }
   ],
   "source": [
    "#Fra Marks kode:b\n",
    "\n",
    "\n",
    "for t in reactions:\n",
    "    print(\"Reactions:\")\n",
    "    for id in t:\n",
    "        r=model.reactions.get_by_id(id)\n",
    "        #print(r.name, id+\",\",\"Fitness:\", solution.data_frame.fitness[id][10])\n",
    "        s=\"\"\n",
    "        for rea in range(len(r.reactants)):\n",
    "            if rea==len(r.reactants)-1:\n",
    "                s+=r.reactants[rea].name+\" ==> \"\n",
    "            else:\n",
    "                s+=r.reactants[rea].name+\" + \"\n",
    "        for p in range(len(r.products)):\n",
    "            if p==len(r.products)-1:\n",
    "                s+=r.products[p].name\n",
    "            else:\n",
    "                s+=r.products[p].name+\" + \"\n",
    "        print(s)\n",
    "        print()"
   ]
  },
  {
   "cell_type": "markdown",
   "metadata": {},
   "source": [
    "# Theoretical maximal yield\n",
    "From Marks report"
   ]
  },
  {
   "cell_type": "code",
   "execution_count": 33,
   "metadata": {},
   "outputs": [
    {
     "ename": "SyntaxError",
     "evalue": "invalid syntax (2811274944.py, line 2)",
     "output_type": "error",
     "traceback": [
      "\u001b[0;36m  Cell \u001b[0;32mIn [33], line 2\u001b[0;36m\u001b[0m\n\u001b[0;31m    model.objective = model.reactions.3OAR80 #Setting the objective to the reaction, which is producing Lycopene\u001b[0m\n\u001b[0m                                     ^\u001b[0m\n\u001b[0;31mSyntaxError\u001b[0m\u001b[0;31m:\u001b[0m invalid syntax\n"
     ]
    }
   ],
   "source": [
    "with model:\n",
    "    model.objective = model.reactions.3OAR80 #Setting the objective to the reaction, which is producing Lycopene\n",
    "    lycopene_production = model.optimize().objective_value\n",
    "    print('Maximum productivity of lycopene =', lycopene_production, 'mmol/gDW*h')\n",
    "\n",
    "    glc_uptake_flux = model.reactions.r_1714.flux \n",
    "    max_yield = lycopene_production / (-1*glc_uptake_flux)\n",
    "    print('Maximum theoretical yield =', max_yield, 'mmol-lyco/mmol-glc')"
   ]
  },
  {
   "cell_type": "code",
   "execution_count": null,
   "metadata": {},
   "outputs": [],
   "source": [
    "model.reactions.R"
   ]
  }
 ],
 "metadata": {
  "kernelspec": {
   "display_name": "Python 3.9.7 ('thedream')",
   "language": "python",
   "name": "python3"
  },
  "language_info": {
   "codemirror_mode": {
    "name": "ipython",
    "version": 3
   },
   "file_extension": ".py",
   "mimetype": "text/x-python",
   "name": "python",
   "nbconvert_exporter": "python",
   "pygments_lexer": "ipython3",
   "version": "3.9.7"
  },
  "orig_nbformat": 4,
  "vscode": {
   "interpreter": {
    "hash": "fda4ecd6cc57b5afa512adcd7f6c6e5bba31f69455292c4ced40ed9bda2cf5eb"
   }
  }
 },
 "nbformat": 4,
 "nbformat_minor": 2
}
