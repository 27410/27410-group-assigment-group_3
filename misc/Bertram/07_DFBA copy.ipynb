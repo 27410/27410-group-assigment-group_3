{
 "cells": [
  {
   "cell_type": "markdown",
   "metadata": {},
   "source": [
    "## Dynamic Flux Based Analysis\n"
   ]
  },
  {
   "cell_type": "code",
   "execution_count": 9,
   "metadata": {},
   "outputs": [],
   "source": [
    "from cobra.io import read_sbml_model\n",
    "from dfba.plot.matplotlib import *\n",
    "from dfba import DfbaModel, ExchangeFlux, KineticVariable"
   ]
  },
  {
   "cell_type": "code",
   "execution_count": 10,
   "metadata": {},
   "outputs": [],
   "source": [
    "model = read_sbml_model('models/iMM904_progesterone.xml')"
   ]
  },
  {
   "cell_type": "code",
   "execution_count": 11,
   "metadata": {},
   "outputs": [
    {
     "name": "stdout",
     "output_type": "stream",
     "text": [
      "Maximum growth: 0.287865703704015 mmol/gDW*h\n",
      "Maximum progesterone production: 0.16666666666666655 mmol/gDW*h\n",
      "Growth in complete model: 0.11872292252086913 mmol/gDW*h\n",
      "Progesterone production in complete model: 0.15620047742340093 mmol/gDW*h\n"
     ]
    }
   ],
   "source": [
    "# max growth and max progesterone production\n",
    "with model:\n",
    "    baseline_max_growth = model.optimize().objective_value\n",
    "    model.objective = model.reactions.DM_progesterone_c\n",
    "    baseline_max_production = model.optimize().objective_value\n",
    "print(f\"Maximum growth: {baseline_max_growth} mmol/gDW*h\")\n",
    "print(f\"Maximum progesterone production: {baseline_max_production} mmol/gDW*h\")\n",
    "\n",
    "with model:\n",
    "# growth and progesterone production when both are set to be objective\n",
    "    model.objective = {model.reactions.get_by_id('BIOMASS_SC5_notrace'): baseline_max_production, \n",
    "                    model.reactions.get_by_id('DM_progesterone_c'): baseline_max_growth} # objective is to lead flux through the reaction producing progesterone top maximise production\n",
    "    solution = model.optimize()\n",
    "    growth = solution.fluxes['BIOMASS_SC5_notrace']\n",
    "    progesterone = solution.fluxes['DM_progesterone_c']\n",
    "    print(f\"Growth in complete model: {growth} mmol/gDW*h\")\n",
    "    print(f\"Progesterone production in complete model: {progesterone} mmol/gDW*h\")\n",
    "model.reactions.DM_progesterone_c.lower_bound = progesterone * 1000 / 314.46"
   ]
  },
  {
   "cell_type": "code",
   "execution_count": 12,
   "metadata": {},
   "outputs": [],
   "source": [
    "model.solver = \"glpk\"\n",
    "dfba_model = DfbaModel(model)"
   ]
  },
  {
   "cell_type": "code",
   "execution_count": 14,
   "metadata": {},
   "outputs": [],
   "source": [
    "# instances of KineticVariable\n",
    "X = KineticVariable(\"Biomass\")\n",
    "Gluc = KineticVariable(\"Glucose\")\n",
    "Pro = KineticVariable(\"Progesterone\")\n",
    "# Oxy = KineticVariable(\"Oxygen\")\n",
    "\n",
    "# add kinetic variables to dfba_model\n",
    "dfba_model.add_kinetic_variables([X, Gluc, Pro])"
   ]
  },
  {
   "cell_type": "code",
   "execution_count": 15,
   "metadata": {},
   "outputs": [],
   "source": [
    "# instances of ExchangeFlux\n",
    "\n",
    "mu = ExchangeFlux(\"BIOMASS_SC5_notrace\")\n",
    "v_G = ExchangeFlux(\"EX_glc__D_e\")\n",
    "v_O = ExchangeFlux(\"EX_o2_e\")\n",
    "v_P = ExchangeFlux(\"DM_progesterone_c\")\n",
    "\n",
    "# add exchange fluxes to dfba_model\n",
    "dfba_model.add_exchange_fluxes([mu, v_G, v_O, v_P])"
   ]
  },
  {
   "cell_type": "code",
   "execution_count": 16,
   "metadata": {},
   "outputs": [],
   "source": [
    "# add rhs expressions for kinetic variables in dfba_model\n",
    "#ENHEDER?\n",
    "Vgmax = 8.5\n",
    "Kg = 0.5\n",
    "Gin = 100.0\n",
    "Vomax = 8.0\n",
    "\n",
    "#This is flux terms:\n",
    "#dfba_model.add_rhs_expression(\"Volume\", D)\n",
    "#dfba_model.add_rhs_expression(\"Oxygen\", 0) #keep O2 constant\n",
    "dfba_model.add_rhs_expression(\"Biomass\", mu * X )\n",
    "dfba_model.add_rhs_expression(\"Glucose\", v_G * X )#* 180.1559 / 1000 ) #+ D * (Gin - Gluc) / V\n",
    "dfba_model.add_rhs_expression(\"Progesterone\", v_P * X )#* 314.46 / 1000 ) # - D * Pro / V"
   ]
  },
  {
   "cell_type": "code",
   "execution_count": 17,
   "metadata": {},
   "outputs": [],
   "source": [
    "# add lower/upper bound expressions for exchange fluxes in dfba_model together\n",
    "# with expression that must be non-negative for correct evaluation of bounds\n",
    "dfba_model.add_exchange_flux_lb(\"EX_glc__D_e\", Vgmax * (Gluc / (Kg + Gluc)), Gluc)\n",
    "\n",
    "Oxy = 2\n",
    "vmax_o2 = 15 # [mmol gDW^-1 h^-1]\n",
    "Ko = 0.024 # mmol/L O2 Michaelis-Mentent constant\n",
    "dfba_model.add_exchange_flux_lb(\"EX_o2_e\", vmax_o2 * (Oxy / (Ko + Oxy)), Oxy)\n",
    "dfba_model.add_exchange_flux_lb(\"EX_glc__D_e\", Vgmax * (Gluc / (Kg + Gluc)), Gluc)"
   ]
  },
  {
   "cell_type": "code",
   "execution_count": 43,
   "metadata": {},
   "outputs": [],
   "source": [
    "# add initial conditions for kinetic variables in dfba_model biomass (gDW/L),\n",
    "# metabolites (g/L)\n",
    "#IS THIS TRUE???\n",
    "\n",
    "dfba_model.add_initial_conditions(\n",
    "    {\n",
    "        \"Biomass\": 0.05,\n",
    "        \"Glucose\": 10.0,\n",
    "        \"Progesterone\": 0\n",
    "    }\n",
    ")"
   ]
  },
  {
   "cell_type": "code",
   "execution_count": 44,
   "metadata": {},
   "outputs": [
    {
     "name": "stderr",
     "output_type": "stream",
     "text": [
      "cc1plus: warning: command line option '-Wstrict-prototypes' is valid for C/ObjC but not for C++\n"
     ]
    },
    {
     "name": "stdout",
     "output_type": "stream",
     "text": [
      "\n",
      "\n",
      "Final Run Statistics: \n",
      "\n",
      "Number of steps                    = 31\n",
      "Number of residual evaluations     = 102\n",
      "Number of Jacobian evaluations     = 18\n",
      "Number of nonlinear iterations     = 49\n",
      "Number of error test failures      = 3\n",
      "Number of nonlinear conv. failures = 0\n",
      "Number of root fn. evaluations     = 116\n",
      "\n",
      "\n",
      "Final Run Statistics: \n",
      "\n",
      "Number of steps                    = 3\n",
      "Number of residual evaluations     = 8\n",
      "Number of Jacobian evaluations     = 1\n",
      "Number of nonlinear iterations     = 4\n",
      "Number of error test failures      = 0\n",
      "Number of nonlinear conv. failures = 0\n",
      "Number of root fn. evaluations     = 7\n",
      "\n",
      "\n",
      "Final Run Statistics: \n",
      "\n",
      "Number of steps                    = 1\n",
      "Number of residual evaluations     = 4\n",
      "Number of Jacobian evaluations     = 1\n",
      "Number of nonlinear iterations     = 2\n",
      "Number of error test failures      = 0\n",
      "Number of nonlinear conv. failures = 0\n",
      "Number of root fn. evaluations     = 12\n",
      "\n",
      "\n",
      "Final Run Statistics: \n",
      "\n",
      "Number of steps                    = 9\n",
      "Number of residual evaluations     = 22\n",
      "Number of Jacobian evaluations     = 7\n",
      "Number of nonlinear iterations     = 11\n",
      "Number of error test failures      = 0\n",
      "Number of nonlinear conv. failures = 0\n",
      "Number of root fn. evaluations     = 19\n",
      "\n",
      "\n",
      "Final Run Statistics: \n",
      "\n",
      "Number of steps                    = 14\n",
      "Number of residual evaluations     = 36\n",
      "Number of Jacobian evaluations     = 10\n",
      "Number of nonlinear iterations     = 18\n",
      "Number of error test failures      = 0\n",
      "Number of nonlinear conv. failures = 0\n",
      "Number of root fn. evaluations     = 28\n",
      "\n",
      "\n",
      "Final Run Statistics: \n",
      "\n",
      "Number of steps                    = 1\n",
      "Number of residual evaluations     = 4\n",
      "Number of Jacobian evaluations     = 1\n",
      "Number of nonlinear iterations     = 2\n",
      "Number of error test failures      = 0\n",
      "Number of nonlinear conv. failures = 0\n",
      "Number of root fn. evaluations     = 12\n",
      "\n",
      "\n",
      "Final Run Statistics: \n",
      "\n",
      "Number of steps                    = 21\n",
      "Number of residual evaluations     = 58\n",
      "Number of Jacobian evaluations     = 12\n",
      "Number of nonlinear iterations     = 29\n",
      "Number of error test failures      = 1\n",
      "Number of nonlinear conv. failures = 0\n",
      "Number of root fn. evaluations     = 36\n",
      "\n",
      "Basis not feasible with primal status 4\n",
      "\n",
      "Final Run Statistics: \n",
      "\n",
      "Number of steps                    = 21\n",
      "Number of residual evaluations     = 58\n",
      "Number of Jacobian evaluations     = 12\n",
      "Number of nonlinear iterations     = 29\n",
      "Number of error test failures      = 1\n",
      "Number of nonlinear conv. failures = 0\n",
      "Number of root fn. evaluations     = 36\n",
      "\n",
      "Total simulation time was 5.5 seconds\n",
      "\n"
     ]
    }
   ],
   "source": [
    "# simulate model across interval t = [0.0,16.0](hours) with outputs for plotting\n",
    "# every 0.1h\n",
    "concentrations, trajectories = dfba_model.simulate(0.0, 100, 0.1, [\"BIOMASS_SC5_notrace\", \"EX_glc__D_e\", \"DM_progesterone_c\"])"
   ]
  },
  {
   "cell_type": "code",
   "execution_count": 45,
   "metadata": {},
   "outputs": [
    {
     "data": {
      "text/plain": [
       "Text(0.5, 1.0, ' \\n Batch fermentation in steady state\\n')"
      ]
     },
     "execution_count": 45,
     "metadata": {},
     "output_type": "execute_result"
    },
    {
     "data": {
      "image/png": "[encoded data removed]",
      "text/plain": [
       "<Figure size 640x480 with 2 Axes>"
      ]
     },
     "metadata": {},
     "output_type": "display_data"
    }
   ],
   "source": [
    "plot_concentrations(concentrations)\n",
    "plt.title(\" \\n Batch fermentation in steady state\\n\", size=15)"
   ]
  },
  {
   "cell_type": "code",
   "execution_count": 21,
   "metadata": {},
   "outputs": [
    {
     "data": {
      "text/html": [
       "<div>\n",
       "<style scoped>\n",
       "    .dataframe tbody tr th:only-of-type {\n",
       "        vertical-align: middle;\n",
       "    }\n",
       "\n",
       "    .dataframe tbody tr th {\n",
       "        vertical-align: top;\n",
       "    }\n",
       "\n",
       "    .dataframe thead th {\n",
       "        text-align: right;\n",
       "    }\n",
       "</style>\n",
       "<table border=\"1\" class=\"dataframe\">\n",
       "  <thead>\n",
       "    <tr style=\"text-align: right;\">\n",
       "      <th></th>\n",
       "      <th>time</th>\n",
       "      <th>Biomass</th>\n",
       "      <th>Glucose</th>\n",
       "      <th>Progesterone</th>\n",
       "    </tr>\n",
       "  </thead>\n",
       "  <tbody>\n",
       "    <tr>\n",
       "      <th>0</th>\n",
       "      <td>0.0</td>\n",
       "      <td>0.050000</td>\n",
       "      <td>10.000000</td>\n",
       "      <td>0.000000</td>\n",
       "    </tr>\n",
       "    <tr>\n",
       "      <th>1</th>\n",
       "      <td>0.1</td>\n",
       "      <td>0.051292</td>\n",
       "      <td>9.959006</td>\n",
       "      <td>0.002516</td>\n",
       "    </tr>\n",
       "    <tr>\n",
       "      <th>2</th>\n",
       "      <td>0.2</td>\n",
       "      <td>0.052618</td>\n",
       "      <td>9.916956</td>\n",
       "      <td>0.005097</td>\n",
       "    </tr>\n",
       "    <tr>\n",
       "      <th>3</th>\n",
       "      <td>0.3</td>\n",
       "      <td>0.053978</td>\n",
       "      <td>9.873806</td>\n",
       "      <td>0.007746</td>\n",
       "    </tr>\n",
       "    <tr>\n",
       "      <th>4</th>\n",
       "      <td>0.4</td>\n",
       "      <td>0.055373</td>\n",
       "      <td>9.829555</td>\n",
       "      <td>0.010463</td>\n",
       "    </tr>\n",
       "    <tr>\n",
       "      <th>...</th>\n",
       "      <td>...</td>\n",
       "      <td>...</td>\n",
       "      <td>...</td>\n",
       "      <td>...</td>\n",
       "    </tr>\n",
       "    <tr>\n",
       "      <th>74</th>\n",
       "      <td>7.4</td>\n",
       "      <td>0.317491</td>\n",
       "      <td>1.596175</td>\n",
       "      <td>0.545177</td>\n",
       "    </tr>\n",
       "    <tr>\n",
       "      <th>75</th>\n",
       "      <td>7.5</td>\n",
       "      <td>0.322792</td>\n",
       "      <td>1.392362</td>\n",
       "      <td>0.561082</td>\n",
       "    </tr>\n",
       "    <tr>\n",
       "      <th>76</th>\n",
       "      <td>7.6</td>\n",
       "      <td>0.327324</td>\n",
       "      <td>1.193239</td>\n",
       "      <td>0.577231</td>\n",
       "    </tr>\n",
       "    <tr>\n",
       "      <th>77</th>\n",
       "      <td>7.7</td>\n",
       "      <td>0.330868</td>\n",
       "      <td>1.001210</td>\n",
       "      <td>0.593582</td>\n",
       "    </tr>\n",
       "    <tr>\n",
       "      <th>78</th>\n",
       "      <td>7.8</td>\n",
       "      <td>0.333162</td>\n",
       "      <td>0.819220</td>\n",
       "      <td>0.610079</td>\n",
       "    </tr>\n",
       "  </tbody>\n",
       "</table>\n",
       "<p>79 rows × 4 columns</p>\n",
       "</div>"
      ],
      "text/plain": [
       "    time   Biomass    Glucose  Progesterone\n",
       "0    0.0  0.050000  10.000000      0.000000\n",
       "1    0.1  0.051292   9.959006      0.002516\n",
       "2    0.2  0.052618   9.916956      0.005097\n",
       "3    0.3  0.053978   9.873806      0.007746\n",
       "4    0.4  0.055373   9.829555      0.010463\n",
       "..   ...       ...        ...           ...\n",
       "74   7.4  0.317491   1.596175      0.545177\n",
       "75   7.5  0.322792   1.392362      0.561082\n",
       "76   7.6  0.327324   1.193239      0.577231\n",
       "77   7.7  0.330868   1.001210      0.593582\n",
       "78   7.8  0.333162   0.819220      0.610079\n",
       "\n",
       "[79 rows x 4 columns]"
      ]
     },
     "execution_count": 21,
     "metadata": {},
     "output_type": "execute_result"
    }
   ],
   "source": [
    "concentrations"
   ]
  },
  {
   "cell_type": "code",
   "execution_count": 39,
   "metadata": {},
   "outputs": [
    {
     "data": {
      "text/plain": [
       "Text(0.5, 1.0, '\\n Fluxes for batch fermentation in steady state \\n')"
      ]
     },
     "execution_count": 39,
     "metadata": {},
     "output_type": "execute_result"
    },
    {
     "data": {
      "image/png": "[encoded data removed]",
      "text/plain": [
       "<Figure size 640x480 with 1 Axes>"
      ]
     },
     "metadata": {},
     "output_type": "display_data"
    }
   ],
   "source": [
    "plot_trajectories(trajectories)\n",
    "plt.title(\"\\n Fluxes for batch fermentation in steady state \\n\", size=15)"
   ]
  },
  {
   "cell_type": "code",
   "execution_count": 23,
   "metadata": {},
   "outputs": [
    {
     "data": {
      "text/html": [
       "<div>\n",
       "<style scoped>\n",
       "    .dataframe tbody tr th:only-of-type {\n",
       "        vertical-align: middle;\n",
       "    }\n",
       "\n",
       "    .dataframe tbody tr th {\n",
       "        vertical-align: top;\n",
       "    }\n",
       "\n",
       "    .dataframe thead th {\n",
       "        text-align: right;\n",
       "    }\n",
       "</style>\n",
       "<table border=\"1\" class=\"dataframe\">\n",
       "  <thead>\n",
       "    <tr style=\"text-align: right;\">\n",
       "      <th></th>\n",
       "      <th>time</th>\n",
       "      <th>BIOMASS_SC5_notrace</th>\n",
       "      <th>EX_glc__D_e</th>\n",
       "      <th>DM_progesterone_c</th>\n",
       "    </tr>\n",
       "  </thead>\n",
       "  <tbody>\n",
       "    <tr>\n",
       "      <th>0</th>\n",
       "      <td>0.0</td>\n",
       "      <td>0.000000</td>\n",
       "      <td>0.000000</td>\n",
       "      <td>0.000000</td>\n",
       "    </tr>\n",
       "    <tr>\n",
       "      <th>1</th>\n",
       "      <td>0.1</td>\n",
       "      <td>0.255141</td>\n",
       "      <td>-8.093652</td>\n",
       "      <td>0.496726</td>\n",
       "    </tr>\n",
       "    <tr>\n",
       "      <th>2</th>\n",
       "      <td>0.2</td>\n",
       "      <td>0.255104</td>\n",
       "      <td>-8.092011</td>\n",
       "      <td>0.496726</td>\n",
       "    </tr>\n",
       "    <tr>\n",
       "      <th>3</th>\n",
       "      <td>0.3</td>\n",
       "      <td>0.255067</td>\n",
       "      <td>-8.090314</td>\n",
       "      <td>0.496726</td>\n",
       "    </tr>\n",
       "    <tr>\n",
       "      <th>4</th>\n",
       "      <td>0.4</td>\n",
       "      <td>0.255028</td>\n",
       "      <td>-8.088559</td>\n",
       "      <td>0.496726</td>\n",
       "    </tr>\n",
       "    <tr>\n",
       "      <th>...</th>\n",
       "      <td>...</td>\n",
       "      <td>...</td>\n",
       "      <td>...</td>\n",
       "      <td>...</td>\n",
       "    </tr>\n",
       "    <tr>\n",
       "      <th>74</th>\n",
       "      <td>7.4</td>\n",
       "      <td>0.177263</td>\n",
       "      <td>-6.472497</td>\n",
       "      <td>0.496726</td>\n",
       "    </tr>\n",
       "    <tr>\n",
       "      <th>75</th>\n",
       "      <td>7.5</td>\n",
       "      <td>0.153468</td>\n",
       "      <td>-6.254129</td>\n",
       "      <td>0.496726</td>\n",
       "    </tr>\n",
       "    <tr>\n",
       "      <th>76</th>\n",
       "      <td>7.6</td>\n",
       "      <td>0.124688</td>\n",
       "      <td>-5.990018</td>\n",
       "      <td>0.496726</td>\n",
       "    </tr>\n",
       "    <tr>\n",
       "      <th>77</th>\n",
       "      <td>7.7</td>\n",
       "      <td>0.089701</td>\n",
       "      <td>-5.668950</td>\n",
       "      <td>0.496726</td>\n",
       "    </tr>\n",
       "    <tr>\n",
       "      <th>78</th>\n",
       "      <td>7.8</td>\n",
       "      <td>0.047143</td>\n",
       "      <td>-5.278400</td>\n",
       "      <td>0.496726</td>\n",
       "    </tr>\n",
       "  </tbody>\n",
       "</table>\n",
       "<p>79 rows × 4 columns</p>\n",
       "</div>"
      ],
      "text/plain": [
       "    time  BIOMASS_SC5_notrace  EX_glc__D_e  DM_progesterone_c\n",
       "0    0.0             0.000000     0.000000           0.000000\n",
       "1    0.1             0.255141    -8.093652           0.496726\n",
       "2    0.2             0.255104    -8.092011           0.496726\n",
       "3    0.3             0.255067    -8.090314           0.496726\n",
       "4    0.4             0.255028    -8.088559           0.496726\n",
       "..   ...                  ...          ...                ...\n",
       "74   7.4             0.177263    -6.472497           0.496726\n",
       "75   7.5             0.153468    -6.254129           0.496726\n",
       "76   7.6             0.124688    -5.990018           0.496726\n",
       "77   7.7             0.089701    -5.668950           0.496726\n",
       "78   7.8             0.047143    -5.278400           0.496726\n",
       "\n",
       "[79 rows x 4 columns]"
      ]
     },
     "execution_count": 23,
     "metadata": {},
     "output_type": "execute_result"
    }
   ],
   "source": [
    "trajectories"
   ]
  }
 ],
 "metadata": {
  "kernelspec": {
   "display_name": "Python 3.7.15 ('dfba')",
   "language": "python",
   "name": "python3"
  },
  "language_info": {
   "codemirror_mode": {
    "name": "ipython",
    "version": 3
   },
   "file_extension": ".py",
   "mimetype": "text/x-python",
   "name": "python",
   "nbconvert_exporter": "python",
   "pygments_lexer": "ipython3",
   "version": "3.7.15"
  },
  "orig_nbformat": 4,
  "vscode": {
   "interpreter": {
    "hash": "42a0797e525a8ae3ad7e804c95ca6b98bbcaff3906d674ada8ed94b80acfad2f"
   }
  }
 },
 "nbformat": 4,
 "nbformat_minor": 2
}
