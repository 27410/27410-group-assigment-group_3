{
 "cells": [
  {
   "cell_type": "markdown",
   "metadata": {},
   "source": [
    "## DFBA of *S. cerevisiae* \n",
    "\n",
    "Based on this example: \n",
    "https://gitlab.com/davidtourigny/dynamic-fba/-/blob/main/examples/example3.py\n",
    "\n",
    "from:\n",
    "https://dynamic-fba.readthedocs.io/en/latest/examples.html\n",
    "\n",
    "REMEMBER to run in the dfba env\n",
    "\n",
    "\n",
    "CHECK THIS OUT: https://cobrapy.readthedocs.io/en/0.19.0/dfba.html\n",
    "\n"
   ]
  },
  {
   "cell_type": "code",
   "execution_count": 132,
   "metadata": {},
   "outputs": [],
   "source": [
    "# Copyright (C) 2018, 2019 Columbia University Irving Medical Center,\n",
    "#     New York, USA\n",
    "# Copyright (C) 2019 Novo Nordisk Foundation Center for Biosustainability,\n",
    "#     Technical University of Denmark\n",
    "\n",
    "# This program is free software: you can redistribute it and/or modify\n",
    "# it under the terms of the GNU General Public License as published by\n",
    "# the Free Software Foundation, either version 3 of the License, or\n",
    "# (at your option) any later version.\n",
    "\n",
    "# This program is distributed in the hope that it will be useful,\n",
    "# but WITHOUT ANY WARRANTY; without even the implied warranty of\n",
    "# MERCHANTABILITY or FITNESS FOR A PARTICULAR PURPOSE.  See the\n",
    "# GNU General Public License for more details.\n",
    "\n",
    "# You should have received a copy of the GNU General Public License\n",
    "# along with this program. If not, see <http://www.gnu.org/licenses/>.\n",
    "\n",
    "\"\"\"Aerobic growth of *S. cerevisiae* on glucose.\n",
    "\n",
    "Switch to anaerobic conditions at *t=7.7h*\n",
    "Organism -> Saccharomyces cerevisiae S288C\n",
    "Model stored in http://bigg.ucsd.edu/models/iND750\n",
    "\"\"\"\n",
    "\n",
    "from os.path import dirname, join, pardir\n",
    "\n",
    "from cobra.io import read_sbml_model\n",
    "\n",
    "from dfba import ControlParameter, DfbaModel, ExchangeFlux, KineticVariable\n"
   ]
  },
  {
   "cell_type": "code",
   "execution_count": 133,
   "metadata": {},
   "outputs": [],
   "source": [
    "from dfba.plot.matplotlib import *"
   ]
  },
  {
   "cell_type": "code",
   "execution_count": 134,
   "metadata": {},
   "outputs": [],
   "source": [
    "from dfba import DfbaModel, ExchangeFlux, KineticVariable\n",
    "from cobra import Model, Reaction, Metabolite"
   ]
  },
  {
   "cell_type": "code",
   "execution_count": 135,
   "metadata": {},
   "outputs": [
    {
     "name": "stderr",
     "output_type": "stream",
     "text": [
      "--- Logging error ---\n",
      "Traceback (most recent call last):\n",
      "  File \"/home/trinebera/miniconda3/envs/dfba/lib/python3.7/site-packages/cobra/core/model.py\", line 167, in tolerance\n",
      "    solver_tolerances.optimality = value\n",
      "  File \"/home/trinebera/miniconda3/envs/dfba/lib/python3.7/site-packages/optlang/util.py\", line 311, in __setattr__\n",
      "    raise AttributeError(key + \" is not an available tolerance parameter with this solver\")\n",
      "AttributeError: optimality is not an available tolerance parameter with this solver\n",
      "\n",
      "During handling of the above exception, another exception occurred:\n",
      "\n",
      "Traceback (most recent call last):\n",
      "  File \"/home/trinebera/miniconda3/envs/dfba/lib/python3.7/logging/__init__.py\", line 1028, in emit\n",
      "    stream.write(msg + self.terminator)\n",
      "  File \"/home/trinebera/miniconda3/envs/dfba/lib/python3.7/tempfile.py\", line 481, in func_wrapper\n",
      "    return func(*args, **kwargs)\n",
      "ValueError: I/O operation on closed file.\n",
      "Call stack:\n",
      "  File \"/home/trinebera/miniconda3/envs/dfba/lib/python3.7/runpy.py\", line 193, in _run_module_as_main\n",
      "    \"__main__\", mod_spec)\n",
      "  File \"/home/trinebera/miniconda3/envs/dfba/lib/python3.7/runpy.py\", line 85, in _run_code\n",
      "    exec(code, run_globals)\n",
      "  File \"/home/trinebera/miniconda3/envs/dfba/lib/python3.7/site-packages/ipykernel_launcher.py\", line 17, in <module>\n",
      "    app.launch_new_instance()\n",
      "  File \"/home/trinebera/miniconda3/envs/dfba/lib/python3.7/site-packages/traitlets/config/application.py\", line 982, in launch_instance\n",
      "    app.start()\n",
      "  File \"/home/trinebera/miniconda3/envs/dfba/lib/python3.7/site-packages/ipykernel/kernelapp.py\", line 712, in start\n",
      "    self.io_loop.start()\n",
      "  File \"/home/trinebera/miniconda3/envs/dfba/lib/python3.7/site-packages/tornado/platform/asyncio.py\", line 199, in start\n",
      "    self.asyncio_loop.run_forever()\n",
      "  File \"/home/trinebera/miniconda3/envs/dfba/lib/python3.7/asyncio/base_events.py\", line 541, in run_forever\n",
      "    self._run_once()\n",
      "  File \"/home/trinebera/miniconda3/envs/dfba/lib/python3.7/asyncio/base_events.py\", line 1786, in _run_once\n",
      "    handle._run()\n",
      "  File \"/home/trinebera/miniconda3/envs/dfba/lib/python3.7/asyncio/events.py\", line 88, in _run\n",
      "    self._context.run(self._callback, *self._args)\n",
      "  File \"/home/trinebera/miniconda3/envs/dfba/lib/python3.7/site-packages/ipykernel/kernelbase.py\", line 510, in dispatch_queue\n",
      "    await self.process_one()\n",
      "  File \"/home/trinebera/miniconda3/envs/dfba/lib/python3.7/site-packages/ipykernel/kernelbase.py\", line 499, in process_one\n",
      "    await dispatch(*args)\n",
      "  File \"/home/trinebera/miniconda3/envs/dfba/lib/python3.7/site-packages/ipykernel/kernelbase.py\", line 406, in dispatch_shell\n",
      "    await result\n",
      "  File \"/home/trinebera/miniconda3/envs/dfba/lib/python3.7/site-packages/ipykernel/kernelbase.py\", line 730, in execute_request\n",
      "    reply_content = await reply_content\n",
      "  File \"/home/trinebera/miniconda3/envs/dfba/lib/python3.7/site-packages/ipykernel/ipkernel.py\", line 387, in do_execute\n",
      "    cell_id=cell_id,\n",
      "  File \"/home/trinebera/miniconda3/envs/dfba/lib/python3.7/site-packages/ipykernel/zmqshell.py\", line 528, in run_cell\n",
      "    return super().run_cell(*args, **kwargs)\n",
      "  File \"/home/trinebera/miniconda3/envs/dfba/lib/python3.7/site-packages/IPython/core/interactiveshell.py\", line 2975, in run_cell\n",
      "    raw_cell, store_history, silent, shell_futures, cell_id\n",
      "  File \"/home/trinebera/miniconda3/envs/dfba/lib/python3.7/site-packages/IPython/core/interactiveshell.py\", line 3029, in _run_cell\n",
      "    return runner(coro)\n",
      "  File \"/home/trinebera/miniconda3/envs/dfba/lib/python3.7/site-packages/IPython/core/async_helpers.py\", line 78, in _pseudo_sync_runner\n",
      "    coro.send(None)\n",
      "  File \"/home/trinebera/miniconda3/envs/dfba/lib/python3.7/site-packages/IPython/core/interactiveshell.py\", line 3257, in run_cell_async\n",
      "    interactivity=interactivity, compiler=compiler, result=result)\n",
      "  File \"/home/trinebera/miniconda3/envs/dfba/lib/python3.7/site-packages/IPython/core/interactiveshell.py\", line 3472, in run_ast_nodes\n",
      "    if (await self.run_code(code, result,  async_=asy)):\n",
      "  File \"/home/trinebera/miniconda3/envs/dfba/lib/python3.7/site-packages/IPython/core/interactiveshell.py\", line 3552, in run_code\n",
      "    exec(code_obj, self.user_global_ns, self.user_ns)\n",
      "  File \"/tmp/ipykernel_1991/4227577734.py\", line 6, in <module>\n",
      "    fba_model = read_sbml_model('../../models/iMM904_progesterone.xml')\n",
      "  File \"/home/trinebera/miniconda3/envs/dfba/lib/python3.7/site-packages/cobra/io/sbml.py\", line 244, in read_sbml_model\n",
      "    return _sbml_to_model(doc, number=number, f_replace=f_replace, **kwargs)\n",
      "  File \"/home/trinebera/miniconda3/envs/dfba/lib/python3.7/site-packages/cobra/io/sbml.py\", line 366, in _sbml_to_model\n",
      "    cobra_model = Model(model_id)\n",
      "  File \"/home/trinebera/miniconda3/envs/dfba/lib/python3.7/site-packages/cobra/core/model.py\", line 118, in __init__\n",
      "    self.tolerance = configuration.tolerance\n",
      "  File \"/home/trinebera/miniconda3/envs/dfba/lib/python3.7/site-packages/cobra/core/model.py\", line 170, in tolerance\n",
      "    f\"The current solver interface {interface_to_str(self.problem)} \"\n",
      "Message: \"The current solver interface glpk doesn't support setting the optimality tolerance.\"\n",
      "Arguments: ()\n"
     ]
    }
   ],
   "source": [
    "# DfbaModel instance initialized with cobra model\n",
    "# fba_model = read_sbml_model(\n",
    "#     join(dirname(__file__), pardir, \"sbml-models\", \"iND750.xml.gz\")\n",
    "# )\n",
    "\n",
    "fba_model = read_sbml_model('../../models/iMM904_progesterone.xml')"
   ]
  },
  {
   "cell_type": "code",
   "execution_count": 131,
   "metadata": {},
   "outputs": [
    {
     "name": "stderr",
     "output_type": "stream",
     "text": [
      "--- Logging error ---\n",
      "Traceback (most recent call last):\n",
      "  File \"/home/trinebera/miniconda3/envs/dfba/lib/python3.7/logging/__init__.py\", line 1028, in emit\n",
      "    stream.write(msg + self.terminator)\n",
      "  File \"/home/trinebera/miniconda3/envs/dfba/lib/python3.7/tempfile.py\", line 481, in func_wrapper\n",
      "    return func(*args, **kwargs)\n",
      "ValueError: I/O operation on closed file.\n",
      "Call stack:\n",
      "  File \"/home/trinebera/miniconda3/envs/dfba/lib/python3.7/runpy.py\", line 193, in _run_module_as_main\n",
      "    \"__main__\", mod_spec)\n",
      "  File \"/home/trinebera/miniconda3/envs/dfba/lib/python3.7/runpy.py\", line 85, in _run_code\n",
      "    exec(code, run_globals)\n",
      "  File \"/home/trinebera/miniconda3/envs/dfba/lib/python3.7/site-packages/ipykernel_launcher.py\", line 17, in <module>\n",
      "    app.launch_new_instance()\n",
      "  File \"/home/trinebera/miniconda3/envs/dfba/lib/python3.7/site-packages/traitlets/config/application.py\", line 982, in launch_instance\n",
      "    app.start()\n",
      "  File \"/home/trinebera/miniconda3/envs/dfba/lib/python3.7/site-packages/ipykernel/kernelapp.py\", line 712, in start\n",
      "    self.io_loop.start()\n",
      "  File \"/home/trinebera/miniconda3/envs/dfba/lib/python3.7/site-packages/tornado/platform/asyncio.py\", line 199, in start\n",
      "    self.asyncio_loop.run_forever()\n",
      "  File \"/home/trinebera/miniconda3/envs/dfba/lib/python3.7/asyncio/base_events.py\", line 541, in run_forever\n",
      "    self._run_once()\n",
      "  File \"/home/trinebera/miniconda3/envs/dfba/lib/python3.7/asyncio/base_events.py\", line 1786, in _run_once\n",
      "    handle._run()\n",
      "  File \"/home/trinebera/miniconda3/envs/dfba/lib/python3.7/asyncio/events.py\", line 88, in _run\n",
      "    self._context.run(self._callback, *self._args)\n",
      "  File \"/home/trinebera/miniconda3/envs/dfba/lib/python3.7/site-packages/ipykernel/kernelbase.py\", line 510, in dispatch_queue\n",
      "    await self.process_one()\n",
      "  File \"/home/trinebera/miniconda3/envs/dfba/lib/python3.7/site-packages/ipykernel/kernelbase.py\", line 499, in process_one\n",
      "    await dispatch(*args)\n",
      "  File \"/home/trinebera/miniconda3/envs/dfba/lib/python3.7/site-packages/ipykernel/kernelbase.py\", line 406, in dispatch_shell\n",
      "    await result\n",
      "  File \"/home/trinebera/miniconda3/envs/dfba/lib/python3.7/site-packages/ipykernel/kernelbase.py\", line 730, in execute_request\n",
      "    reply_content = await reply_content\n",
      "  File \"/home/trinebera/miniconda3/envs/dfba/lib/python3.7/site-packages/ipykernel/ipkernel.py\", line 387, in do_execute\n",
      "    cell_id=cell_id,\n",
      "  File \"/home/trinebera/miniconda3/envs/dfba/lib/python3.7/site-packages/ipykernel/zmqshell.py\", line 528, in run_cell\n",
      "    return super().run_cell(*args, **kwargs)\n",
      "  File \"/home/trinebera/miniconda3/envs/dfba/lib/python3.7/site-packages/IPython/core/interactiveshell.py\", line 2975, in run_cell\n",
      "    raw_cell, store_history, silent, shell_futures, cell_id\n",
      "  File \"/home/trinebera/miniconda3/envs/dfba/lib/python3.7/site-packages/IPython/core/interactiveshell.py\", line 3029, in _run_cell\n",
      "    return runner(coro)\n",
      "  File \"/home/trinebera/miniconda3/envs/dfba/lib/python3.7/site-packages/IPython/core/async_helpers.py\", line 78, in _pseudo_sync_runner\n",
      "    coro.send(None)\n",
      "  File \"/home/trinebera/miniconda3/envs/dfba/lib/python3.7/site-packages/IPython/core/interactiveshell.py\", line 3257, in run_cell_async\n",
      "    interactivity=interactivity, compiler=compiler, result=result)\n",
      "  File \"/home/trinebera/miniconda3/envs/dfba/lib/python3.7/site-packages/IPython/core/interactiveshell.py\", line 3472, in run_ast_nodes\n",
      "    if (await self.run_code(code, result,  async_=asy)):\n",
      "  File \"/home/trinebera/miniconda3/envs/dfba/lib/python3.7/site-packages/IPython/core/interactiveshell.py\", line 3552, in run_code\n",
      "    exec(code_obj, self.user_global_ns, self.user_ns)\n",
      "  File \"/tmp/ipykernel_1991/123373668.py\", line 4, in <module>\n",
      "    fba_model.add_boundary(fba_model.metabolites.get_by_id('progesterone_c'), type='exchange')\n",
      "  File \"/home/trinebera/miniconda3/envs/dfba/lib/python3.7/site-packages/cobra/core/model.py\", line 610, in add_boundary\n",
      "    external = find_external_compartment(self)\n",
      "  File \"/home/trinebera/miniconda3/envs/dfba/lib/python3.7/site-packages/cobra/medium/boundary_types.py\", line 67, in find_external_compartment\n",
      "    f\"Compartment `{compartment}` sounds like an external compartment. \"\n",
      "Message: 'Compartment `e` sounds like an external compartment. Using this one without counting boundary reactions.'\n",
      "Arguments: ()\n"
     ]
    },
    {
     "ename": "ValueError",
     "evalue": "The metabolite is not an external metabolite (compartment is `c` but should be `e`). Did you mean to add a demand or sink? If not, either change its compartment or rename the model compartments to fix this.",
     "output_type": "error",
     "traceback": [
      "\u001b[0;31m---------------------------------------------------------------------------\u001b[0m",
      "\u001b[0;31mValueError\u001b[0m                                Traceback (most recent call last)",
      "\u001b[0;32m/tmp/ipykernel_1991/123373668.py\u001b[0m in \u001b[0;36m<module>\u001b[0;34m\u001b[0m\n\u001b[1;32m      2\u001b[0m \u001b[0;34m\u001b[0m\u001b[0m\n\u001b[1;32m      3\u001b[0m \u001b[0;34m\u001b[0m\u001b[0m\n\u001b[0;32m----> 4\u001b[0;31m \u001b[0mfba_model\u001b[0m\u001b[0;34m.\u001b[0m\u001b[0madd_boundary\u001b[0m\u001b[0;34m(\u001b[0m\u001b[0mfba_model\u001b[0m\u001b[0;34m.\u001b[0m\u001b[0mmetabolites\u001b[0m\u001b[0;34m.\u001b[0m\u001b[0mget_by_id\u001b[0m\u001b[0;34m(\u001b[0m\u001b[0;34m'progesterone_c'\u001b[0m\u001b[0;34m)\u001b[0m\u001b[0;34m,\u001b[0m \u001b[0mtype\u001b[0m\u001b[0;34m=\u001b[0m\u001b[0;34m'exchange'\u001b[0m\u001b[0;34m)\u001b[0m\u001b[0;34m\u001b[0m\u001b[0;34m\u001b[0m\u001b[0m\n\u001b[0m\u001b[1;32m      5\u001b[0m \u001b[0;34m\u001b[0m\u001b[0m\n\u001b[1;32m      6\u001b[0m \u001b[0;31m# fba_model.objective = fba_model.reactions.R02216\u001b[0m\u001b[0;34m\u001b[0m\u001b[0;34m\u001b[0m\u001b[0;34m\u001b[0m\u001b[0m\n",
      "\u001b[0;32m~/miniconda3/envs/dfba/lib/python3.7/site-packages/cobra/core/model.py\u001b[0m in \u001b[0;36madd_boundary\u001b[0;34m(self, metabolite, type, reaction_id, lb, ub, sbo_term)\u001b[0m\n\u001b[1;32m    616\u001b[0m                     \u001b[0;34m\"If not, either change its compartment or \"\u001b[0m\u001b[0;34m\u001b[0m\u001b[0;34m\u001b[0m\u001b[0m\n\u001b[1;32m    617\u001b[0m                     \u001b[0;34m\"rename the model compartments to fix this.\"\u001b[0m\u001b[0;34m\u001b[0m\u001b[0;34m\u001b[0m\u001b[0m\n\u001b[0;32m--> 618\u001b[0;31m                     \u001b[0;34m%\u001b[0m \u001b[0;34m(\u001b[0m\u001b[0mmetabolite\u001b[0m\u001b[0;34m.\u001b[0m\u001b[0mcompartment\u001b[0m\u001b[0;34m,\u001b[0m \u001b[0mexternal\u001b[0m\u001b[0;34m)\u001b[0m\u001b[0;34m\u001b[0m\u001b[0;34m\u001b[0m\u001b[0m\n\u001b[0m\u001b[1;32m    619\u001b[0m                 )\n\u001b[1;32m    620\u001b[0m         \u001b[0;32mif\u001b[0m \u001b[0mtype\u001b[0m \u001b[0;32min\u001b[0m \u001b[0mtypes\u001b[0m\u001b[0;34m:\u001b[0m\u001b[0;34m\u001b[0m\u001b[0;34m\u001b[0m\u001b[0m\n",
      "\u001b[0;31mValueError\u001b[0m: The metabolite is not an external metabolite (compartment is `c` but should be `e`). Did you mean to add a demand or sink? If not, either change its compartment or rename the model compartments to fix this."
     ]
    }
   ],
   "source": [
    "#fba_model.add_boundary(fba_model.metabolites.get_by_id('progesterone_e'), type='exchange')\n",
    "\n",
    "\n",
    "fba_model.add_boundary(fba_model.metabolites.get_by_id('progesterone_c'), type='exchange')\n",
    "\n",
    "# fba_model.objective = fba_model.reactions.R02216\n",
    "# fba_model.optimize().objective_value"
   ]
  },
  {
   "cell_type": "code",
   "execution_count": 114,
   "metadata": {},
   "outputs": [],
   "source": [
    "fba_model.solver = \"glpk\"\n",
    "dfba_model = DfbaModel(fba_model)"
   ]
  },
  {
   "cell_type": "code",
   "execution_count": 115,
   "metadata": {},
   "outputs": [
    {
     "data": {
      "text/html": [
       "\n",
       "        <table>\n",
       "            <tr>\n",
       "                <td><strong>Name</strong></td>\n",
       "                <td>iMM904_progesterone</td>\n",
       "            </tr><tr>\n",
       "                <td><strong>Memory address</strong></td>\n",
       "                <td>0x07fccbb84ca50</td>\n",
       "            </tr><tr>\n",
       "                <td><strong>Number of metabolites</strong></td>\n",
       "                <td>1234</td>\n",
       "            </tr><tr>\n",
       "                <td><strong>Number of reactions</strong></td>\n",
       "                <td>1587</td>\n",
       "            </tr><tr>\n",
       "                <td><strong>Number of groups</strong></td>\n",
       "                <td>0</td>\n",
       "            </tr><tr>\n",
       "                <td><strong>Objective expression</strong></td>\n",
       "                <td>1.0*BIOMASS_SC5_notrace - 1.0*BIOMASS_SC5_notrace_reverse_93090</td>\n",
       "            </tr><tr>\n",
       "                <td><strong>Compartments</strong></td>\n",
       "                <td>cytosol, extracellular space, mitochondria, peroxisome/glyoxysome, endoplasmic reticulum, vacuole, golgi apparatus, nucleus</td>\n",
       "            </tr>\n",
       "          </table>"
      ],
      "text/plain": [
       "<Model iMM904_progesterone at 0x7fccbb84ca50>"
      ]
     },
     "execution_count": 115,
     "metadata": {},
     "output_type": "execute_result"
    }
   ],
   "source": [
    "fba_model"
   ]
  },
  {
   "cell_type": "code",
   "execution_count": 116,
   "metadata": {},
   "outputs": [],
   "source": [
    "# instances of KineticVariable\n",
    "V = KineticVariable(\"Volume\")\n",
    "X = KineticVariable(\"Biomass\")\n",
    "Gluc = KineticVariable(\"Glucose\")\n",
    "Eth = KineticVariable(\"Ethanol\")\n",
    "Pro = KineticVariable(\"Progesterone\")\n",
    "Oxy = KineticVariable(\"Oxygen\")\n",
    "# add kinetic variables to dfba_model\n",
    "dfba_model.add_kinetic_variables([V, X, Gluc, Eth, Pro, Oxy])"
   ]
  },
  {
   "cell_type": "code",
   "execution_count": 117,
   "metadata": {},
   "outputs": [
    {
     "data": {
      "text/plain": [
       "[yval[0], yval[1], yval[2], yval[3], yval[4], yval[5]]"
      ]
     },
     "execution_count": 117,
     "metadata": {},
     "output_type": "execute_result"
    }
   ],
   "source": [
    "dfba_model.kinetic_variables"
   ]
  },
  {
   "cell_type": "code",
   "execution_count": 118,
   "metadata": {},
   "outputs": [],
   "source": [
    "# instances of ExchangeFlux\n",
    "mu = ExchangeFlux(\"BIOMASS_SC5_notrace\")\n",
    "v_G = ExchangeFlux(\"EX_glc__D_e\")\n",
    "v_E = ExchangeFlux(\"EX_etoh_e\")\n",
    "v_O = ExchangeFlux(\"EX_o2_e\")\n",
    "v_P = ExchangeFlux(\"DM_progesterone_c\")\n",
    "\n",
    "# add exchange fluxes to dfba_model\n",
    "dfba_model.add_exchange_fluxes([mu, v_G, v_E, v_O, v_P])"
   ]
  },
  {
   "cell_type": "code",
   "execution_count": 119,
   "metadata": {},
   "outputs": [
    {
     "data": {
      "text/plain": [
       "v1"
      ]
     },
     "execution_count": 119,
     "metadata": {},
     "output_type": "execute_result"
    }
   ],
   "source": [
    "v_P"
   ]
  },
  {
   "cell_type": "code",
   "execution_count": 120,
   "metadata": {},
   "outputs": [],
   "source": [
    "# add rhs expressions for kinetic variables in dfba_model\n",
    "Vgmax = 8.5\n",
    "Kg = 0.5\n",
    "D = 0 #for bath, there is no dilution.\n",
    "Gin = 100.0\n",
    "Vomax = 8.0\n",
    "#Oxy = ControlParameter(\"Oxygen\", [7.7], [Vomax, 0.0])\n",
    "\n",
    "#This is flux terms:\n",
    "dfba_model.add_rhs_expression(\"Volume\", D)\n",
    "dfba_model.add_rhs_expression(\"Oxygen\", 0) #keep O2 constant\n",
    "dfba_model.add_rhs_expression(\"Biomass\", mu * X )\n",
    "dfba_model.add_rhs_expression(\"Glucose\", v_G * X + D * (Gin - Gluc) / V)\n",
    "dfba_model.add_rhs_expression(\"Ethanol\", v_E * X - D * Eth / V)\n",
    "dfba_model.add_rhs_expression(\"Progesterone\", v_P * X - D * Pro / V)"
   ]
  },
  {
   "cell_type": "code",
   "execution_count": 121,
   "metadata": {},
   "outputs": [
    {
     "name": "stdout",
     "output_type": "stream",
     "text": [
      "\u001b[0;31mInit signature:\u001b[0m \u001b[0mControlParameter\u001b[0m\u001b[0;34m(\u001b[0m\u001b[0mname\u001b[0m\u001b[0;34m,\u001b[0m \u001b[0;34m*\u001b[0m\u001b[0margs\u001b[0m\u001b[0;34m,\u001b[0m \u001b[0;34m**\u001b[0m\u001b[0mkwargs\u001b[0m\u001b[0;34m)\u001b[0m\u001b[0;34m\u001b[0m\u001b[0;34m\u001b[0m\u001b[0m\n",
      "\u001b[0;31mDocstring:\u001b[0m     \n",
      "Holds information regarding a control parameter in a `DfbaModel` object.\n",
      "\n",
      "Attributes\n",
      "----------\n",
      "id: string\n",
      "    The identifier to associate with this control parameter.\n",
      "\n",
      "change_points: list\n",
      "    The time points at which this control parameter changes value.\n",
      "\n",
      "values: list\n",
      "    The values taken by this control parameter.\n",
      "\u001b[0;31mInit docstring:\u001b[0m `symbolics.Symbol` with list of change points and list of values.\n",
      "\u001b[0;31mFile:\u001b[0m           ~/miniconda3/envs/dfba/lib/python3.7/site-packages/dfba/control.py\n",
      "\u001b[0;31mType:\u001b[0m           type\n",
      "\u001b[0;31mSubclasses:\u001b[0m     \n"
     ]
    }
   ],
   "source": [
    "?ControlParameter"
   ]
  },
  {
   "cell_type": "code",
   "execution_count": 122,
   "metadata": {},
   "outputs": [],
   "source": [
    "# add lower/upper bound expressions for exchange fluxes in dfba_model together\n",
    "# with expression that must be non-negative for correct evaluation of bounds\n",
    "dfba_model.add_exchange_flux_lb(\"EX_glc__D_e\", Vgmax * (Gluc / (Kg + Gluc)), Gluc)\n",
    "# dfba_model.add_exchange_flux_lb(\"EX_o2_e\", Oxy, control_parameters=Oxy)\n",
    "\n",
    "\n",
    "vmax_o2 = 15 # [mmol gDW^-1 h^-1]\n",
    "Ko = 0.024 # mmol/L O2 Michaelis-Mentent constant\n",
    "dfba_model.add_exchange_flux_lb(\"EX_o2_e\", vmax_o2 * (Oxy / (Ko + Oxy)), Oxy)"
   ]
  },
  {
   "cell_type": "code",
   "execution_count": 123,
   "metadata": {},
   "outputs": [
    {
     "name": "stderr",
     "output_type": "stream",
     "text": [
      "Ignoring initial condition for Glycerol since it does notcorrespond to a kinetic variable in the model.\n"
     ]
    }
   ],
   "source": [
    "# add initial conditions for kinetic variables in dfba_model biomass (gDW/L),\n",
    "# metabolites (g/L)\n",
    "\n",
    "#old conditions: \n",
    "\n",
    "dfba_model.add_initial_conditions(\n",
    "    {\n",
    "        \"Volume\": 0.5,\n",
    "        \"Biomass\": 0.05,\n",
    "        \"Glucose\": 10.0,\n",
    "        \"Ethanol\": 0.0,\n",
    "        \"Glycerol\": 0.0,\n",
    "        \"Oxygen\": 2.0, \n",
    "        \"Progesterone\": 0.0\n",
    "    }\n",
    ")\n",
    "\n",
    "# dfba_model.add_initial_conditions(\n",
    "#     {\n",
    "#         \"Biomass\": 0.05,\n",
    "#         \"Glucose\": 10.0,\n",
    "#         \"Ethanol\": 0.0,\n",
    "#         \"Progesterone\": 0.0\n",
    "#     }\n",
    "# )\n",
    "\n",
    "#Oxygen since it does notcorrespond to a kinetic variable in the model.\n"
   ]
  },
  {
   "cell_type": "code",
   "execution_count": 124,
   "metadata": {},
   "outputs": [
    {
     "name": "stderr",
     "output_type": "stream",
     "text": [
      "cc1plus: warning: command line option '-Wstrict-prototypes' is valid for C/ObjC but not for C++\n"
     ]
    },
    {
     "name": "stdout",
     "output_type": "stream",
     "text": [
      "\n",
      "\n",
      "Final Run Statistics: \n",
      "\n",
      "Number of steps                    = 36\n",
      "Number of residual evaluations     = 124\n",
      "Number of Jacobian evaluations     = 18\n",
      "Number of nonlinear iterations     = 60\n",
      "Number of error test failures      = 3\n",
      "Number of nonlinear conv. failures = 0\n",
      "Number of root fn. evaluations     = 92\n",
      "\n",
      "\n",
      "Final Run Statistics: \n",
      "\n",
      "Number of steps                    = 4\n",
      "Number of residual evaluations     = 10\n",
      "Number of Jacobian evaluations     = 2\n",
      "Number of nonlinear iterations     = 5\n",
      "Number of error test failures      = 0\n",
      "Number of nonlinear conv. failures = 0\n",
      "Number of root fn. evaluations     = 8\n",
      "\n",
      "\n",
      "Final Run Statistics: \n",
      "\n",
      "Number of steps                    = 3\n",
      "Number of residual evaluations     = 8\n",
      "Number of Jacobian evaluations     = 1\n",
      "Number of nonlinear iterations     = 4\n",
      "Number of error test failures      = 0\n",
      "Number of nonlinear conv. failures = 0\n",
      "Number of root fn. evaluations     = 14\n",
      "\n",
      "\n",
      "Final Run Statistics: \n",
      "\n",
      "Number of steps                    = 43\n",
      "Number of residual evaluations     = 132\n",
      "Number of Jacobian evaluations     = 15\n",
      "Number of nonlinear iterations     = 66\n",
      "Number of error test failures      = 4\n",
      "Number of nonlinear conv. failures = 0\n",
      "Number of root fn. evaluations     = 60\n",
      "\n",
      "Basis not feasible with primal status 4\n",
      "\n",
      "Final Run Statistics: \n",
      "\n",
      "Number of steps                    = 43\n",
      "Number of residual evaluations     = 132\n",
      "Number of Jacobian evaluations     = 15\n",
      "Number of nonlinear iterations     = 66\n",
      "Number of error test failures      = 4\n",
      "Number of nonlinear conv. failures = 0\n",
      "Number of root fn. evaluations     = 60\n",
      "\n",
      "Total simulation time was 2.98437 seconds\n",
      "\n"
     ]
    }
   ],
   "source": [
    "# simulate model across interval t = [0.0,16.0](hours) with outputs for plotting\n",
    "# every 0.1h\n",
    "concentrations, trajectories = dfba_model.simulate(0.0, 48.0, 0.1, [\"BIOMASS_SC5_notrace\", \"EX_glc__D_e\", \"EX_etoh_e\", \"EX_o2_e\", \"DM_progesterone_c\"])\n",
    "\n",
    "\n",
    "# [IDA ERROR]  IDACalcIC\n",
    "#   The linesearch algorithm failed: step too small or too many backtracks.\n",
    "\n",
    "\n",
    "# SUNDIALS_ERROR: IDACalcIC() failed with flag = -13"
   ]
  },
  {
   "cell_type": "code",
   "execution_count": 125,
   "metadata": {},
   "outputs": [
    {
     "data": {
      "image/png": "[encoded data removed]",
      "text/plain": [
       "<Figure size 640x480 with 2 Axes>"
      ]
     },
     "metadata": {},
     "output_type": "display_data"
    }
   ],
   "source": [
    "plot_concentrations(concentrations)"
   ]
  },
  {
   "cell_type": "code",
   "execution_count": 108,
   "metadata": {},
   "outputs": [
    {
     "data": {
      "image/png": "[encoded data removed]",
      "text/plain": [
       "<Figure size 640x480 with 1 Axes>"
      ]
     },
     "metadata": {},
     "output_type": "display_data"
    }
   ],
   "source": [
    "plot_trajectories(trajectories)"
   ]
  }
 ],
 "metadata": {
  "kernelspec": {
   "display_name": "Python 3.7.15 ('dfba')",
   "language": "python",
   "name": "python3"
  },
  "language_info": {
   "codemirror_mode": {
    "name": "ipython",
    "version": 3
   },
   "file_extension": ".py",
   "mimetype": "text/x-python",
   "name": "python",
   "nbconvert_exporter": "python",
   "pygments_lexer": "ipython3",
   "version": "3.7.15"
  },
  "orig_nbformat": 4,
  "vscode": {
   "interpreter": {
    "hash": "42a0797e525a8ae3ad7e804c95ca6b98bbcaff3906d674ada8ed94b80acfad2f"
   }
  }
 },
 "nbformat": 4,
 "nbformat_minor": 2
}
