{
 "cells": [
  {
   "cell_type": "markdown",
   "metadata": {},
   "source": [
    "## DFBA with E. coli example\n",
    "\n",
    "The following notebook shows a simple, but slow example of implementing dFBA using COBRApy and scipy.integrate.solve_ivp. This notebook shows a static optimization approach (SOA) implementation and should not be considered production ready.\n",
    "\n",
    "The model considers only basic Michaelis-Menten limited growth on glucose."
   ]
  },
  {
   "cell_type": "code",
   "execution_count": 2,
   "metadata": {},
   "outputs": [],
   "source": [
    "import numpy as np\n",
    "from tqdm import tqdm\n",
    "\n",
    "from scipy.integrate import solve_ivp\n",
    "\n",
    "import matplotlib.pyplot as plt\n",
    "%matplotlib inline"
   ]
  },
  {
   "cell_type": "code",
   "execution_count": 3,
   "metadata": {},
   "outputs": [],
   "source": [
    "import cobra\n",
    "from cobra.test import create_test_model\n",
    "model = create_test_model('textbook')"
   ]
  },
  {
   "cell_type": "code",
   "execution_count": 4,
   "metadata": {},
   "outputs": [],
   "source": [
    "def add_dynamic_bounds(model, y):\n",
    "    \"\"\"Use external concentrations to bound the uptake flux of glucose.\"\"\"\n",
    "    biomass, glucose = y  # expand the boundary species\n",
    "    glucose_max_import = -10 * glucose / (5 + glucose)\n",
    "    model.reactions.EX_glc__D_e.lower_bound = glucose_max_import\n",
    "\n",
    "\n",
    "def dynamic_system(t, y):\n",
    "    \"\"\"Calculate the time derivative of external species.\"\"\"\n",
    "\n",
    "    biomass, glucose = y  # expand the boundary species\n",
    "\n",
    "    # Calculate the specific exchanges fluxes at the given external concentrations.\n",
    "    with model:\n",
    "        add_dynamic_bounds(model, y)\n",
    "\n",
    "        cobra.util.add_lp_feasibility(model)\n",
    "        feasibility = cobra.util.fix_objective_as_constraint(model)\n",
    "        lex_constraints = cobra.util.add_lexicographic_constraints(\n",
    "            model, ['Biomass_Ecoli_core', 'EX_glc__D_e'], ['max', 'max'])\n",
    "\n",
    "    # Since the calculated fluxes are specific rates, we multiply them by the\n",
    "    # biomass concentration to get the bulk exchange rates.\n",
    "    fluxes = lex_constraints.values\n",
    "    fluxes *= biomass\n",
    "\n",
    "    # This implementation is **not** efficient, so I display the current\n",
    "    # simulation time using a progress bar.\n",
    "    if dynamic_system.pbar is not None:\n",
    "        dynamic_system.pbar.update(1)\n",
    "        dynamic_system.pbar.set_description('t = {:.3f}'.format(t))\n",
    "\n",
    "    return fluxes\n",
    "\n",
    "dynamic_system.pbar = None\n",
    "\n",
    "\n",
    "def infeasible_event(t, y):\n",
    "    \"\"\"\n",
    "    Determine solution feasibility.\n",
    "\n",
    "    Avoiding infeasible solutions is handled by solve_ivp's built-in event detection.\n",
    "    This function re-solves the LP to determine whether or not the solution is feasible\n",
    "    (and if not, how far it is from feasibility). When the sign of this function changes\n",
    "    from -epsilon to positive, we know the solution is no longer feasible.\n",
    "\n",
    "    \"\"\"\n",
    "\n",
    "    with model:\n",
    "\n",
    "        add_dynamic_bounds(model, y)\n",
    "\n",
    "        cobra.util.add_lp_feasibility(model)\n",
    "        feasibility = cobra.util.fix_objective_as_constraint(model)\n",
    "\n",
    "    return feasibility - infeasible_event.epsilon\n",
    "\n",
    "infeasible_event.epsilon = 1E-6\n",
    "infeasible_event.direction = 1\n",
    "infeasible_event.terminal = True"
   ]
  },
  {
   "cell_type": "code",
   "execution_count": 5,
   "metadata": {},
   "outputs": [
    {
     "name": "stderr",
     "output_type": "stream",
     "text": [
      "t = 0.054: : 23it [00:04,  4.76it/s]\n"
     ]
    },
    {
     "ename": "KeyboardInterrupt",
     "evalue": "",
     "output_type": "error",
     "traceback": [
      "\u001b[0;31m---------------------------------------------------------------------------\u001b[0m",
      "\u001b[0;31mKeyboardInterrupt\u001b[0m                         Traceback (most recent call last)",
      "\u001b[1;32m/home/trinebera/github-classroom/27410/27410-group-assigment-group_3/misc/Bertram/Test_DFBA_cobra.ipynb Cell 5\u001b[0m in \u001b[0;36m<cell line: 4>\u001b[0;34m()\u001b[0m\n\u001b[1;32m      <a href='vscode-notebook-cell://wsl%2Bubuntu/home/trinebera/github-classroom/27410/27410-group-assigment-group_3/misc/Bertram/Test_DFBA_cobra.ipynb#W4sdnNjb2RlLXJlbW90ZQ%3D%3D?line=3'>4</a>\u001b[0m \u001b[39mwith\u001b[39;00m tqdm() \u001b[39mas\u001b[39;00m pbar:\n\u001b[1;32m      <a href='vscode-notebook-cell://wsl%2Bubuntu/home/trinebera/github-classroom/27410/27410-group-assigment-group_3/misc/Bertram/Test_DFBA_cobra.ipynb#W4sdnNjb2RlLXJlbW90ZQ%3D%3D?line=4'>5</a>\u001b[0m     dynamic_system\u001b[39m.\u001b[39mpbar \u001b[39m=\u001b[39m pbar\n\u001b[0;32m----> <a href='vscode-notebook-cell://wsl%2Bubuntu/home/trinebera/github-classroom/27410/27410-group-assigment-group_3/misc/Bertram/Test_DFBA_cobra.ipynb#W4sdnNjb2RlLXJlbW90ZQ%3D%3D?line=6'>7</a>\u001b[0m     sol \u001b[39m=\u001b[39m solve_ivp(\n\u001b[1;32m      <a href='vscode-notebook-cell://wsl%2Bubuntu/home/trinebera/github-classroom/27410/27410-group-assigment-group_3/misc/Bertram/Test_DFBA_cobra.ipynb#W4sdnNjb2RlLXJlbW90ZQ%3D%3D?line=7'>8</a>\u001b[0m         fun\u001b[39m=\u001b[39;49mdynamic_system,\n\u001b[1;32m      <a href='vscode-notebook-cell://wsl%2Bubuntu/home/trinebera/github-classroom/27410/27410-group-assigment-group_3/misc/Bertram/Test_DFBA_cobra.ipynb#W4sdnNjb2RlLXJlbW90ZQ%3D%3D?line=8'>9</a>\u001b[0m         events\u001b[39m=\u001b[39;49m[infeasible_event],\n\u001b[1;32m     <a href='vscode-notebook-cell://wsl%2Bubuntu/home/trinebera/github-classroom/27410/27410-group-assigment-group_3/misc/Bertram/Test_DFBA_cobra.ipynb#W4sdnNjb2RlLXJlbW90ZQ%3D%3D?line=9'>10</a>\u001b[0m         t_span\u001b[39m=\u001b[39;49m(ts\u001b[39m.\u001b[39;49mmin(), ts\u001b[39m.\u001b[39;49mmax()),\n\u001b[1;32m     <a href='vscode-notebook-cell://wsl%2Bubuntu/home/trinebera/github-classroom/27410/27410-group-assigment-group_3/misc/Bertram/Test_DFBA_cobra.ipynb#W4sdnNjb2RlLXJlbW90ZQ%3D%3D?line=10'>11</a>\u001b[0m         y0\u001b[39m=\u001b[39;49my0,\n\u001b[1;32m     <a href='vscode-notebook-cell://wsl%2Bubuntu/home/trinebera/github-classroom/27410/27410-group-assigment-group_3/misc/Bertram/Test_DFBA_cobra.ipynb#W4sdnNjb2RlLXJlbW90ZQ%3D%3D?line=11'>12</a>\u001b[0m         t_eval\u001b[39m=\u001b[39;49mts,\n\u001b[1;32m     <a href='vscode-notebook-cell://wsl%2Bubuntu/home/trinebera/github-classroom/27410/27410-group-assigment-group_3/misc/Bertram/Test_DFBA_cobra.ipynb#W4sdnNjb2RlLXJlbW90ZQ%3D%3D?line=12'>13</a>\u001b[0m         rtol\u001b[39m=\u001b[39;49m\u001b[39m1e-6\u001b[39;49m,\n\u001b[1;32m     <a href='vscode-notebook-cell://wsl%2Bubuntu/home/trinebera/github-classroom/27410/27410-group-assigment-group_3/misc/Bertram/Test_DFBA_cobra.ipynb#W4sdnNjb2RlLXJlbW90ZQ%3D%3D?line=13'>14</a>\u001b[0m         atol\u001b[39m=\u001b[39;49m\u001b[39m1e-8\u001b[39;49m,\n\u001b[1;32m     <a href='vscode-notebook-cell://wsl%2Bubuntu/home/trinebera/github-classroom/27410/27410-group-assigment-group_3/misc/Bertram/Test_DFBA_cobra.ipynb#W4sdnNjb2RlLXJlbW90ZQ%3D%3D?line=14'>15</a>\u001b[0m         method\u001b[39m=\u001b[39;49m\u001b[39m'\u001b[39;49m\u001b[39mBDF\u001b[39;49m\u001b[39m'\u001b[39;49m\n\u001b[1;32m     <a href='vscode-notebook-cell://wsl%2Bubuntu/home/trinebera/github-classroom/27410/27410-group-assigment-group_3/misc/Bertram/Test_DFBA_cobra.ipynb#W4sdnNjb2RlLXJlbW90ZQ%3D%3D?line=15'>16</a>\u001b[0m     )\n",
      "File \u001b[0;32m~/miniconda3/lib/python3.9/site-packages/scipy/integrate/_ivp/ivp.py:608\u001b[0m, in \u001b[0;36msolve_ivp\u001b[0;34m(fun, t_span, y0, method, t_eval, dense_output, events, vectorized, args, **options)\u001b[0m\n\u001b[1;32m    605\u001b[0m     sol \u001b[39m=\u001b[39m \u001b[39mNone\u001b[39;00m\n\u001b[1;32m    607\u001b[0m \u001b[39mif\u001b[39;00m events \u001b[39mis\u001b[39;00m \u001b[39mnot\u001b[39;00m \u001b[39mNone\u001b[39;00m:\n\u001b[0;32m--> 608\u001b[0m     g_new \u001b[39m=\u001b[39m [event(t, y) \u001b[39mfor\u001b[39;00m event \u001b[39min\u001b[39;00m events]\n\u001b[1;32m    609\u001b[0m     active_events \u001b[39m=\u001b[39m find_active_events(g, g_new, event_dir)\n\u001b[1;32m    610\u001b[0m     \u001b[39mif\u001b[39;00m active_events\u001b[39m.\u001b[39msize \u001b[39m>\u001b[39m \u001b[39m0\u001b[39m:\n",
      "File \u001b[0;32m~/miniconda3/lib/python3.9/site-packages/scipy/integrate/_ivp/ivp.py:608\u001b[0m, in \u001b[0;36m<listcomp>\u001b[0;34m(.0)\u001b[0m\n\u001b[1;32m    605\u001b[0m     sol \u001b[39m=\u001b[39m \u001b[39mNone\u001b[39;00m\n\u001b[1;32m    607\u001b[0m \u001b[39mif\u001b[39;00m events \u001b[39mis\u001b[39;00m \u001b[39mnot\u001b[39;00m \u001b[39mNone\u001b[39;00m:\n\u001b[0;32m--> 608\u001b[0m     g_new \u001b[39m=\u001b[39m [event(t, y) \u001b[39mfor\u001b[39;00m event \u001b[39min\u001b[39;00m events]\n\u001b[1;32m    609\u001b[0m     active_events \u001b[39m=\u001b[39m find_active_events(g, g_new, event_dir)\n\u001b[1;32m    610\u001b[0m     \u001b[39mif\u001b[39;00m active_events\u001b[39m.\u001b[39msize \u001b[39m>\u001b[39m \u001b[39m0\u001b[39m:\n",
      "\u001b[1;32m/home/trinebera/github-classroom/27410/27410-group-assigment-group_3/misc/Bertram/Test_DFBA_cobra.ipynb Cell 5\u001b[0m in \u001b[0;36minfeasible_event\u001b[0;34m(t, y)\u001b[0m\n\u001b[1;32m     <a href='vscode-notebook-cell://wsl%2Bubuntu/home/trinebera/github-classroom/27410/27410-group-assigment-group_3/misc/Bertram/Test_DFBA_cobra.ipynb#W4sdnNjb2RlLXJlbW90ZQ%3D%3D?line=48'>49</a>\u001b[0m \u001b[39mwith\u001b[39;00m model:\n\u001b[1;32m     <a href='vscode-notebook-cell://wsl%2Bubuntu/home/trinebera/github-classroom/27410/27410-group-assigment-group_3/misc/Bertram/Test_DFBA_cobra.ipynb#W4sdnNjb2RlLXJlbW90ZQ%3D%3D?line=50'>51</a>\u001b[0m     add_dynamic_bounds(model, y)\n\u001b[0;32m---> <a href='vscode-notebook-cell://wsl%2Bubuntu/home/trinebera/github-classroom/27410/27410-group-assigment-group_3/misc/Bertram/Test_DFBA_cobra.ipynb#W4sdnNjb2RlLXJlbW90ZQ%3D%3D?line=52'>53</a>\u001b[0m     cobra\u001b[39m.\u001b[39;49mutil\u001b[39m.\u001b[39;49madd_lp_feasibility(model)\n\u001b[1;32m     <a href='vscode-notebook-cell://wsl%2Bubuntu/home/trinebera/github-classroom/27410/27410-group-assigment-group_3/misc/Bertram/Test_DFBA_cobra.ipynb#W4sdnNjb2RlLXJlbW90ZQ%3D%3D?line=53'>54</a>\u001b[0m     feasibility \u001b[39m=\u001b[39m cobra\u001b[39m.\u001b[39mutil\u001b[39m.\u001b[39mfix_objective_as_constraint(model)\n\u001b[1;32m     <a href='vscode-notebook-cell://wsl%2Bubuntu/home/trinebera/github-classroom/27410/27410-group-assigment-group_3/misc/Bertram/Test_DFBA_cobra.ipynb#W4sdnNjb2RlLXJlbW90ZQ%3D%3D?line=55'>56</a>\u001b[0m \u001b[39mreturn\u001b[39;00m feasibility \u001b[39m-\u001b[39m infeasible_event\u001b[39m.\u001b[39mepsilon\n",
      "File \u001b[0;32m~/miniconda3/lib/python3.9/site-packages/cobra/util/solver.py:622\u001b[0m, in \u001b[0;36madd_lp_feasibility\u001b[0;34m(model)\u001b[0m\n\u001b[1;32m    620\u001b[0m \u001b[39mfor\u001b[39;00m met \u001b[39min\u001b[39;00m model\u001b[39m.\u001b[39mmetabolites:\n\u001b[1;32m    621\u001b[0m     s_plus \u001b[39m=\u001b[39m prob\u001b[39m.\u001b[39mVariable(\u001b[39m\"\u001b[39m\u001b[39ms_plus_\u001b[39m\u001b[39m\"\u001b[39m \u001b[39m+\u001b[39m met\u001b[39m.\u001b[39mid, lb\u001b[39m=\u001b[39m\u001b[39m0\u001b[39m)\n\u001b[0;32m--> 622\u001b[0m     s_minus \u001b[39m=\u001b[39m prob\u001b[39m.\u001b[39;49mVariable(\u001b[39m\"\u001b[39;49m\u001b[39ms_minus_\u001b[39;49m\u001b[39m\"\u001b[39;49m \u001b[39m+\u001b[39;49m met\u001b[39m.\u001b[39;49mid, lb\u001b[39m=\u001b[39;49m\u001b[39m0\u001b[39;49m)\n\u001b[1;32m    624\u001b[0m     model\u001b[39m.\u001b[39madd_cons_vars([s_plus, s_minus])\n\u001b[1;32m    625\u001b[0m     model\u001b[39m.\u001b[39mconstraints[met\u001b[39m.\u001b[39mid]\u001b[39m.\u001b[39mset_linear_coefficients({s_plus: \u001b[39m1.0\u001b[39m, s_minus: \u001b[39m-\u001b[39m\u001b[39m1.0\u001b[39m})\n",
      "File \u001b[0;32m~/miniconda3/lib/python3.9/site-packages/optlang/symbolics.py:127\u001b[0m, in \u001b[0;36mSymbol.__new__\u001b[0;34m(cls, name, **kwargs)\u001b[0m\n\u001b[1;32m    124\u001b[0m \u001b[39mif\u001b[39;00m \u001b[39mnot\u001b[39;00m \u001b[39misinstance\u001b[39m(name, six\u001b[39m.\u001b[39mstring_types):\n\u001b[1;32m    125\u001b[0m     \u001b[39mraise\u001b[39;00m \u001b[39mTypeError\u001b[39;00m(\u001b[39m\"\u001b[39m\u001b[39mname should be a string, not \u001b[39m\u001b[39m%s\u001b[39;00m\u001b[39m\"\u001b[39m \u001b[39m%\u001b[39m \u001b[39mrepr\u001b[39m(\u001b[39mtype\u001b[39m(name)))\n\u001b[0;32m--> 127\u001b[0m obj \u001b[39m=\u001b[39m sympy\u001b[39m.\u001b[39;49mSymbol\u001b[39m.\u001b[39;49m\u001b[39m__new__\u001b[39;49m(\u001b[39mcls\u001b[39;49m, \u001b[39mstr\u001b[39;49m(uuid\u001b[39m.\u001b[39;49muuid1()))\n\u001b[1;32m    129\u001b[0m obj\u001b[39m.\u001b[39mname \u001b[39m=\u001b[39m name\n\u001b[1;32m    130\u001b[0m obj\u001b[39m.\u001b[39m_assumptions \u001b[39m=\u001b[39m FactKB(_assume_rules)\n",
      "File \u001b[0;32m~/miniconda3/lib/python3.9/site-packages/sympy/core/symbol.py:296\u001b[0m, in \u001b[0;36mSymbol.__new__\u001b[0;34m(cls, name, **assumptions)\u001b[0m\n\u001b[1;32m    286\u001b[0m \u001b[39m\"\"\"Symbols are identified by name and assumptions::\u001b[39;00m\n\u001b[1;32m    287\u001b[0m \n\u001b[1;32m    288\u001b[0m \u001b[39m>>> from sympy import Symbol\u001b[39;00m\n\u001b[0;32m   (...)\u001b[0m\n\u001b[1;32m    293\u001b[0m \n\u001b[1;32m    294\u001b[0m \u001b[39m\"\"\"\u001b[39;00m\n\u001b[1;32m    295\u001b[0m \u001b[39mcls\u001b[39m\u001b[39m.\u001b[39m_sanitize(assumptions, \u001b[39mcls\u001b[39m)\n\u001b[0;32m--> 296\u001b[0m \u001b[39mreturn\u001b[39;00m Symbol\u001b[39m.\u001b[39;49m__xnew_cached_(\u001b[39mcls\u001b[39;49m, name, \u001b[39m*\u001b[39;49m\u001b[39m*\u001b[39;49massumptions)\n",
      "File \u001b[0;32m~/miniconda3/lib/python3.9/site-packages/sympy/core/cache.py:70\u001b[0m, in \u001b[0;36m__cacheit.<locals>.func_wrapper.<locals>.wrapper\u001b[0;34m(*args, **kwargs)\u001b[0m\n\u001b[1;32m     67\u001b[0m \u001b[39m@wraps\u001b[39m(func)\n\u001b[1;32m     68\u001b[0m \u001b[39mdef\u001b[39;00m \u001b[39mwrapper\u001b[39m(\u001b[39m*\u001b[39margs, \u001b[39m*\u001b[39m\u001b[39m*\u001b[39mkwargs):\n\u001b[1;32m     69\u001b[0m     \u001b[39mtry\u001b[39;00m:\n\u001b[0;32m---> 70\u001b[0m         retval \u001b[39m=\u001b[39m cfunc(\u001b[39m*\u001b[39;49margs, \u001b[39m*\u001b[39;49m\u001b[39m*\u001b[39;49mkwargs)\n\u001b[1;32m     71\u001b[0m     \u001b[39mexcept\u001b[39;00m \u001b[39mTypeError\u001b[39;00m \u001b[39mas\u001b[39;00m e:\n\u001b[1;32m     72\u001b[0m         \u001b[39mif\u001b[39;00m \u001b[39mnot\u001b[39;00m e\u001b[39m.\u001b[39margs \u001b[39mor\u001b[39;00m \u001b[39mnot\u001b[39;00m e\u001b[39m.\u001b[39margs[\u001b[39m0\u001b[39m]\u001b[39m.\u001b[39mstartswith(\u001b[39m'\u001b[39m\u001b[39munhashable type:\u001b[39m\u001b[39m'\u001b[39m):\n",
      "File \u001b[0;32m~/miniconda3/lib/python3.9/site-packages/sympy/core/symbol.py:323\u001b[0m, in \u001b[0;36mSymbol.__xnew_cached_\u001b[0;34m(cls, name, **assumptions)\u001b[0m\n\u001b[1;32m    320\u001b[0m     obj\u001b[39m.\u001b[39m_assumptions\u001b[39m.\u001b[39m_generator \u001b[39m=\u001b[39m tmp_asm_copy  \u001b[39m# Issue #8873\u001b[39;00m\n\u001b[1;32m    321\u001b[0m     \u001b[39mreturn\u001b[39;00m obj\n\u001b[0;32m--> 323\u001b[0m \u001b[39m@staticmethod\u001b[39m\n\u001b[1;32m    324\u001b[0m \u001b[39m@cacheit\u001b[39m\n\u001b[1;32m    325\u001b[0m \u001b[39mdef\u001b[39;00m \u001b[39m__xnew_cached_\u001b[39m(\u001b[39mcls\u001b[39m, name, \u001b[39m*\u001b[39m\u001b[39m*\u001b[39massumptions):  \u001b[39m# symbols are always cached\u001b[39;00m\n\u001b[1;32m    326\u001b[0m     \u001b[39mreturn\u001b[39;00m Symbol\u001b[39m.\u001b[39m__xnew__(\u001b[39mcls\u001b[39m, name, \u001b[39m*\u001b[39m\u001b[39m*\u001b[39massumptions)\n\u001b[1;32m    328\u001b[0m \u001b[39mdef\u001b[39;00m \u001b[39m__getnewargs_ex__\u001b[39m(\u001b[39mself\u001b[39m):\n",
      "\u001b[0;31mKeyboardInterrupt\u001b[0m: "
     ]
    }
   ],
   "source": [
    "ts = np.linspace(0, 15, 100)  # Desired integration resolution and interval\n",
    "y0 = [0.1, 10]\n",
    "\n",
    "with tqdm() as pbar:\n",
    "    dynamic_system.pbar = pbar\n",
    "\n",
    "    sol = solve_ivp(\n",
    "        fun=dynamic_system,\n",
    "        events=[infeasible_event],\n",
    "        t_span=(ts.min(), ts.max()),\n",
    "        y0=y0,\n",
    "        t_eval=ts,\n",
    "        rtol=1e-6,\n",
    "        atol=1e-8,\n",
    "        method='BDF'\n",
    "    )"
   ]
  },
  {
   "cell_type": "code",
   "execution_count": null,
   "metadata": {},
   "outputs": [
    {
     "data": {
      "text/plain": [
       "  message: 'A termination event occurred.'\n",
       "     nfev: 236\n",
       "     njev: 5\n",
       "      nlu: 21\n",
       "      sol: None\n",
       "   status: 1\n",
       "  success: True\n",
       "        t: array([ 0.        ,  0.15151515,  0.3030303 ,  0.45454545,  0.60606061,\n",
       "        0.75757576,  0.90909091,  1.06060606,  1.21212121,  1.36363636,\n",
       "        1.51515152,  1.66666667,  1.81818182,  1.96969697,  2.12121212,\n",
       "        2.27272727,  2.42424242,  2.57575758,  2.72727273,  2.87878788,\n",
       "        3.03030303,  3.18181818,  3.33333333,  3.48484848,  3.63636364,\n",
       "        3.78787879,  3.93939394,  4.09090909,  4.24242424,  4.39393939,\n",
       "        4.54545455,  4.6969697 ,  4.84848485,  5.        ,  5.15151515,\n",
       "        5.3030303 ,  5.45454545,  5.60606061,  5.75757576,  5.90909091,\n",
       "        6.06060606,  6.21212121,  6.36363636,  6.51515152,  6.66666667,\n",
       "        6.81818182,  6.96969697,  7.12121212,  7.27272727,  7.42424242,\n",
       "        7.57575758,  7.72727273,  7.87878788,  8.03030303,  8.18181818,\n",
       "        8.33333333,  8.48484848,  8.63636364,  8.78787879,  8.93939394,\n",
       "        9.09090909,  9.24242424,  9.39393939,  9.54545455,  9.6969697 ,\n",
       "        9.84848485, 10.        , 10.15151515, 10.3030303 , 10.45454545,\n",
       "       10.60606061, 10.75757576, 10.90909091, 11.06060606, 11.21212121,\n",
       "       11.36363636, 11.51515152, 11.66666667, 11.81818182, 11.96969697,\n",
       "       12.12121212, 12.27272727, 12.42424242])\n",
       " t_events: [array([12.47694831])]\n",
       "        y: array([[ 0.1       ,  0.10320807,  0.10651001,  0.10990793,  0.11340384,\n",
       "         0.11699975,  0.12069762,  0.12449939,  0.1284069 ,  0.13242201,\n",
       "         0.1365464 ,  0.14078178,  0.14512967,  0.14959152,  0.15416866,\n",
       "         0.15886221,  0.16367324,  0.16860247,  0.17365055,  0.17881784,\n",
       "         0.18410447,  0.18951027,  0.19503473,  0.20067705,  0.20643601,\n",
       "         0.21230999,  0.21829696,  0.22439438,  0.23059921,  0.23690788,\n",
       "         0.2433162 ,  0.24981941,  0.25641207,  0.26308805,  0.26984053,\n",
       "         0.27666198,  0.28354409,  0.29047788,  0.29745352,  0.30446059,\n",
       "         0.31148795,  0.31852387,  0.32555609,  0.33257192,  0.33955831,\n",
       "         0.34650211,  0.35339014,  0.36020943,  0.36694744,  0.37359224,\n",
       "         0.38013277,  0.38655905,  0.39286239,  0.39903555,  0.4050729 ,\n",
       "         0.41096995,  0.41672136,  0.42232393,  0.42777859,  0.43308907,\n",
       "         0.43826018,  0.44329766,  0.44820857,  0.45300107,  0.45767702,\n",
       "         0.46196277,  0.46574178,  0.4690521 ,  0.47193399,  0.47442686,\n",
       "         0.47656869,  0.47839566,  0.47994172,  0.48123835,  0.48231435,\n",
       "         0.48319591,  0.48390667,  0.4844678 ,  0.48489814,  0.48521442,\n",
       "         0.48543139,  0.48556205,  0.48561786],\n",
       "       [10.        ,  9.89755157,  9.79219484,  9.68387302,  9.57253163,\n",
       "         9.45811847,  9.34058261,  9.2198767 ,  9.09595556,  8.9687761 ,\n",
       "         8.83830185,  8.70449625,  8.56733146,  8.42678239,  8.28282989,\n",
       "         8.13546435,  7.98467781,  7.83047771,  7.67287511,  7.51189286,\n",
       "         7.34756399,  7.17993327,  7.00906084,  6.83501845,  6.65789472,\n",
       "         6.47779482,  6.29484108,  6.10917651,  5.92096327,  5.73038621,\n",
       "         5.53765371,  5.34299803,  5.14667749,  4.94897751,  4.75021102,\n",
       "         4.55071853,  4.35087042,  4.15106301,  3.95172416,  3.75330539,\n",
       "         3.55628336,  3.36115621,  3.16844103,  2.97866904,  2.79238131,\n",
       "         2.61012086,  2.43242592,  2.25982274,  2.09281537,  1.93187741,\n",
       "         1.77744273,  1.62989651,  1.4895668 ,  1.35671703,  1.23154025,\n",
       "         1.11415549,  1.00460617,  0.90286073,  0.80881519,  0.72229695,\n",
       "         0.6430714 ,  0.57085056,  0.50530251,  0.44606103,  0.39273532,\n",
       "         0.34493091,  0.30226467,  0.2643412 ,  0.23075922,  0.20112113,\n",
       "         0.17504206,  0.15215596,  0.13211943,  0.11461384,  0.09934746,\n",
       "         0.08605509,  0.0744974 ,  0.06445995,  0.05575172,  0.04820332,\n",
       "         0.04166518,  0.03600564,  0.03110925]])\n",
       " y_events: [array([[0.48562223, 0.02956596]])]"
      ]
     },
     "execution_count": 19,
     "metadata": {},
     "output_type": "execute_result"
    }
   ],
   "source": [
    "sol"
   ]
  },
  {
   "cell_type": "code",
   "execution_count": null,
   "metadata": {},
   "outputs": [
    {
     "data": {
      "text/plain": [
       "Text(0, 0.5, 'Glucose')"
      ]
     },
     "execution_count": 20,
     "metadata": {},
     "output_type": "execute_result"
    },
    {
     "data": {
      "image/png": "[encoded data removed]",
      "text/plain": [
       "<Figure size 640x480 with 2 Axes>"
      ]
     },
     "metadata": {},
     "output_type": "display_data"
    }
   ],
   "source": [
    "ax = plt.subplot(111)\n",
    "ax.plot(sol.t, sol.y.T[:, 0])\n",
    "ax2 = plt.twinx(ax)\n",
    "ax2.plot(sol.t, sol.y.T[:, 1], color='r')\n",
    "\n",
    "ax.set_ylabel('Biomass', color='b')\n",
    "ax2.set_ylabel('Glucose', color='r')\n"
   ]
  },
  {
   "cell_type": "markdown",
   "metadata": {},
   "source": [
    "## DFBA with our model"
   ]
  },
  {
   "cell_type": "code",
   "execution_count": 6,
   "metadata": {},
   "outputs": [],
   "source": [
    "from cobra.io import read_sbml_model"
   ]
  },
  {
   "cell_type": "code",
   "execution_count": 7,
   "metadata": {},
   "outputs": [
    {
     "data": {
      "text/plain": [
       "0.14285714285714285"
      ]
     },
     "execution_count": 7,
     "metadata": {},
     "output_type": "execute_result"
    }
   ],
   "source": [
    "model = read_sbml_model('../../models/iMM904_progesterone_fixed.xml')\n",
    "\n",
    "#fba_model.add_boundary(fba_model.metabolites.get_by_id('progesterone_e'), type='exchange')\n",
    "model.add_boundary(model.metabolites.get_by_id('progesterone_c'), type='demand')\n",
    "\n",
    "model.objective = model.reactions.R02216\n",
    "model.optimize().objective_value"
   ]
  },
  {
   "cell_type": "code",
   "execution_count": 10,
   "metadata": {},
   "outputs": [
    {
     "data": {
      "text/plain": [
       "[<Reaction EX_epistest_SC_e at 0x7f477d6dd9d0>,\n",
       " <Reaction EX_epist_e at 0x7f477d6dd9a0>,\n",
       " <Reaction EX_ergst_e at 0x7f477d31fee0>,\n",
       " <Reaction EX_ergstest_SC_e at 0x7f477d31f880>,\n",
       " <Reaction EX_13BDglcn_e at 0x7f477d330250>,\n",
       " <Reaction EX_etha_e at 0x7f477d330970>,\n",
       " <Reaction EX_2hb_e at 0x7f477d330a00>,\n",
       " <Reaction EX_etoh_e at 0x7f477d3307f0>,\n",
       " <Reaction EX_fe2_e at 0x7f477d330a90>,\n",
       " <Reaction EX_fecost_e at 0x7f477d330c10>,\n",
       " <Reaction EX_2mbac_e at 0x7f477d330df0>,\n",
       " <Reaction EX_2mbald_e at 0x7f477d330040>,\n",
       " <Reaction EX_2mbtoh_e at 0x7f477d330b50>,\n",
       " <Reaction EX_2mppal_e at 0x7f477d330e80>,\n",
       " <Reaction EX_2phetoh_e at 0x7f477d330850>,\n",
       " <Reaction EX_fecostest_SC_e at 0x7f477d3300d0>,\n",
       " <Reaction EX_fmn_e at 0x7f477d330730>,\n",
       " <Reaction EX_3c3hmp_e at 0x7f477d330820>,\n",
       " <Reaction EX_3mbald_e at 0x7f477d2c0340>,\n",
       " <Reaction EX_for_e at 0x7f477d2c04c0>,\n",
       " <Reaction EX_fru_e at 0x7f477d2c06a0>,\n",
       " <Reaction EX_3mop_e at 0x7f477d2c0220>,\n",
       " <Reaction EX_4abut_e at 0x7f477d2c0730>,\n",
       " <Reaction EX_fum_e at 0x7f477d3304c0>,\n",
       " <Reaction EX_g3pc_e at 0x7f477d2c0190>,\n",
       " <Reaction EX_4abz_e at 0x7f477d2c0c40>,\n",
       " <Reaction EX_5aop_e at 0x7f477d2c0ac0>,\n",
       " <Reaction EX_g3pi_e at 0x7f477d2c0f70>,\n",
       " <Reaction EX_gal_e at 0x7f477d2c0fa0>,\n",
       " <Reaction EX_8aonn_e at 0x7f477d2c0f10>,\n",
       " <Reaction EX_Nbfortyr_e at 0x7f477d2c0af0>,\n",
       " <Reaction EX_abt_e at 0x7f477d2c01c0>,\n",
       " <Reaction EX_ac_e at 0x7f477d2c09d0>,\n",
       " <Reaction EX_acald_e at 0x7f477d2d2250>,\n",
       " <Reaction EX_aces_e at 0x7f477d2d22b0>,\n",
       " <Reaction EX_galur_e at 0x7f477d2d2370>,\n",
       " <Reaction EX_gam6p_e at 0x7f477d2d2430>,\n",
       " <Reaction EX_gcald_e at 0x7f477d2d24f0>,\n",
       " <Reaction EX_glc__D_e at 0x7f477d2d25b0>,\n",
       " <Reaction EX_gln__L_e at 0x7f477d2d2670>,\n",
       " <Reaction EX_glu__L_e at 0x7f477d2d2730>,\n",
       " <Reaction EX_glx_e at 0x7f477d2d27f0>,\n",
       " <Reaction EX_ade_e at 0x7f477d2d28b0>,\n",
       " <Reaction EX_adn_e at 0x7f477d2d2970>,\n",
       " <Reaction EX_akg_e at 0x7f477d2d2a30>,\n",
       " <Reaction EX_ala__L_e at 0x7f477d2d2af0>,\n",
       " <Reaction EX_gly_e at 0x7f477d2d2bb0>,\n",
       " <Reaction EX_glyc_e at 0x7f477d2d2c70>,\n",
       " <Reaction EX_gsn_e at 0x7f477d2d2df0>,\n",
       " <Reaction EX_gthox_e at 0x7f477d2d21f0>,\n",
       " <Reaction EX_gthrd_e at 0x7f477d2d2040>,\n",
       " <Reaction EX_alltn_e at 0x7f477d2d2100>,\n",
       " <Reaction EX_alltt_e at 0x7f477d2d20a0>,\n",
       " <Reaction EX_amet_e at 0x7f477d2d2070>,\n",
       " <Reaction EX_arab__D_e at 0x7f477d2e53a0>,\n",
       " <Reaction EX_arab__L_e at 0x7f477d2e5460>,\n",
       " <Reaction EX_gua_e at 0x7f477d2e5520>,\n",
       " <Reaction EX_arg__L_e at 0x7f477d2e55e0>,\n",
       " <Reaction EX_h2o_e at 0x7f477d2e56a0>,\n",
       " <Reaction EX_h_e at 0x7f477d2e5820>,\n",
       " <Reaction EX_hdca_e at 0x7f477d2c0a90>,\n",
       " <Reaction EX_hdcea_e at 0x7f477d2e52e0>,\n",
       " <Reaction EX_asn__L_e at 0x7f477d2e5c70>,\n",
       " <Reaction EX_asp__L_e at 0x7f477d2e5ee0>,\n",
       " <Reaction EX_btd_RR_e at 0x7f477d2e5cd0>,\n",
       " <Reaction EX_btn_e at 0x7f477d2e5070>,\n",
       " <Reaction EX_hexc_e at 0x7f477d2e5d00>,\n",
       " <Reaction EX_his__L_e at 0x7f477d2f8220>,\n",
       " <Reaction EX_hxan_e at 0x7f477d2e5c40>,\n",
       " <Reaction EX_iamac_e at 0x7f477d2f80a0>,\n",
       " <Reaction EX_iamoh_e at 0x7f477d2f8850>,\n",
       " <Reaction EX_ibutac_e at 0x7f477d2f8790>,\n",
       " <Reaction EX_chol_e at 0x7f477d2f8610>,\n",
       " <Reaction EX_cit_e at 0x7f477d2f89d0>,\n",
       " <Reaction EX_co2_e at 0x7f477d2f8a00>,\n",
       " <Reaction EX_crn_e at 0x7f477d2f8a60>,\n",
       " <Reaction EX_csn_e at 0x7f477d2f8b20>,\n",
       " <Reaction EX_cys__L_e at 0x7f477d2f8be0>,\n",
       " <Reaction EX_cytd_e at 0x7f477d2f8ca0>,\n",
       " <Reaction EX_dad_2_e at 0x7f477d2f8d60>,\n",
       " <Reaction EX_dann_e at 0x7f477d2f8e20>,\n",
       " <Reaction EX_ibutoh_e at 0x7f477d2f8910>,\n",
       " <Reaction EX_id3acald_e at 0x7f477d2f86a0>,\n",
       " <Reaction EX_ile__L_e at 0x7f477d2f8160>,\n",
       " <Reaction EX_ind3eth_e at 0x7f477d2f8ee0>,\n",
       " <Reaction EX_inost_e at 0x7f477d28e280>,\n",
       " <Reaction EX_dca_e at 0x7f477d28e2e0>,\n",
       " <Reaction EX_dcyt_e at 0x7f477d28e3a0>,\n",
       " <Reaction EX_ddca_e at 0x7f477d28e460>,\n",
       " <Reaction EX_ins_e at 0x7f477d28e520>,\n",
       " <Reaction EX_k_e at 0x7f477d28e5e0>,\n",
       " <Reaction EX_dgsn_e at 0x7f477d28e6a0>,\n",
       " <Reaction EX_din_e at 0x7f477d28e760>,\n",
       " <Reaction EX_lac__D_e at 0x7f477d28e820>,\n",
       " <Reaction EX_lac__L_e at 0x7f477d28e9a0>,\n",
       " <Reaction EX_lanost_e at 0x7f477d28ed30>,\n",
       " <Reaction EX_lanostest_SC_e at 0x7f477d28ed60>,\n",
       " <Reaction EX_dttp_e at 0x7f477d28ecd0>,\n",
       " <Reaction EX_duri_e at 0x7f477d28ed00>,\n",
       " <Reaction EX_leu__L_e at 0x7f477d28edf0>,\n",
       " <Reaction EX_lys__L_e at 0x7f477d28e130>,\n",
       " <Reaction EX_mal__L_e at 0x7f477d2f8730>,\n",
       " <Reaction EX_malt_e at 0x7f477d2f85e0>,\n",
       " <Reaction EX_ribflv_e at 0x7f477d2f8070>,\n",
       " <Reaction EX_sbt__D_e at 0x7f477d28e070>,\n",
       " <Reaction EX_man_e at 0x7f477d2a5280>,\n",
       " <Reaction EX_melib_e at 0x7f477d2a55e0>,\n",
       " <Reaction EX_met__L_e at 0x7f477d2a5760>,\n",
       " <Reaction EX_mmet_e at 0x7f477d2a5940>,\n",
       " <Reaction EX_na1_e at 0x7f477d2a5130>,\n",
       " <Reaction EX_nac_e at 0x7f477d2a56a0>,\n",
       " <Reaction EX_sbt__L_e at 0x7f477d2a59d0>,\n",
       " <Reaction EX_ser__L_e at 0x7f477d2a5a90>,\n",
       " <Reaction EX_so3_e at 0x7f477d2a5b50>,\n",
       " <Reaction EX_so4_e at 0x7f477d2a5c10>,\n",
       " <Reaction EX_spmd_e at 0x7f477d2a5cd0>,\n",
       " <Reaction EX_sprm_e at 0x7f477d2a5d90>,\n",
       " <Reaction EX_srb__L_e at 0x7f477d2a5370>,\n",
       " <Reaction EX_succ_e at 0x7f477d2a53a0>,\n",
       " <Reaction EX_nadp_e at 0x7f477d2a5520>,\n",
       " <Reaction EX_nh4_e at 0x7f477d2a54f0>,\n",
       " <Reaction EX_nmn_e at 0x7f477d2a5160>,\n",
       " <Reaction EX_sucr_e at 0x7f477d2b92b0>,\n",
       " <Reaction EX_o2_e at 0x7f477d2b9310>,\n",
       " <Reaction EX_taur_e at 0x7f477d2b93d0>,\n",
       " <Reaction EX_thm_e at 0x7f477d2b9550>,\n",
       " <Reaction EX_oaa_e at 0x7f477d2a5310>,\n",
       " <Reaction EX_ocdca_e at 0x7f477d2b90a0>,\n",
       " <Reaction EX_ocdcea_e at 0x7f477d2b9c40>,\n",
       " <Reaction EX_ocdcya_e at 0x7f477d2b9940>,\n",
       " <Reaction EX_orn_e at 0x7f477d2b9f10>,\n",
       " <Reaction EX_thmmp_e at 0x7f477d2b9e20>,\n",
       " <Reaction EX_thmpp_e at 0x7f477d2b9100>,\n",
       " <Reaction EX_thr__L_e at 0x7f477d2b98e0>,\n",
       " <Reaction EX_thym_e at 0x7f477d2b9190>,\n",
       " <Reaction EX_pacald_e at 0x7f477d2b99d0>,\n",
       " <Reaction EX_pap_e at 0x7f477d2b9f70>,\n",
       " <Reaction EX_thymd_e at 0x7f477d24c3d0>,\n",
       " <Reaction EX_tre_e at 0x7f477d24c4f0>,\n",
       " <Reaction EX_trp__L_e at 0x7f477d2b9eb0>,\n",
       " <Reaction EX_pc_SC_e at 0x7f477d24c0a0>,\n",
       " <Reaction EX_pectin_e at 0x7f477d24c9d0>,\n",
       " <Reaction EX_pepd_e at 0x7f477d24ca60>,\n",
       " <Reaction EX_phe__L_e at 0x7f477d24c850>,\n",
       " <Reaction EX_pheac_e at 0x7f477d24ca90>,\n",
       " <Reaction EX_pi_e at 0x7f477d24caf0>,\n",
       " <Reaction EX_pnto__R_e at 0x7f477d24cbb0>,\n",
       " <Reaction EX_ttdca_e at 0x7f477d24cc70>,\n",
       " <Reaction EX_tyr__L_e at 0x7f477d24cd30>,\n",
       " <Reaction EX_ura_e at 0x7f477d24cdf0>,\n",
       " <Reaction EX_urea_e at 0x7f477d24ceb0>,\n",
       " <Reaction EX_uri_e at 0x7f477d24c880>,\n",
       " <Reaction EX_val__L_e at 0x7f477d24c160>,\n",
       " <Reaction EX_xan_e at 0x7f477d24c040>,\n",
       " <Reaction EX_xtsn_e at 0x7f477d25e250>,\n",
       " <Reaction EX_pro__L_e at 0x7f477d25e2b0>,\n",
       " <Reaction EX_ptd1ino_SC_e at 0x7f477d25e370>,\n",
       " <Reaction EX_ptrc_e at 0x7f477d25e430>,\n",
       " <Reaction EX_pyr_e at 0x7f477d25e4f0>,\n",
       " <Reaction EX_xyl__D_e at 0x7f477d25e5b0>,\n",
       " <Reaction EX_xylt_e at 0x7f477d25e670>,\n",
       " <Reaction EX_rib__D_e at 0x7f477d25e730>,\n",
       " <Reaction EX_zymst_e at 0x7f477d25e8b0>,\n",
       " <Reaction EX_zymstest_SC_e at 0x7f477d24c670>]"
      ]
     },
     "execution_count": 10,
     "metadata": {},
     "output_type": "execute_result"
    }
   ],
   "source": [
    "model.exchanges"
   ]
  },
  {
   "cell_type": "code",
   "execution_count": null,
   "metadata": {},
   "outputs": [],
   "source": [
    "def add_dynamic_bounds(model, y):\n",
    "    \"\"\"Use external concentrations to bound the uptake flux of glucose.\"\"\"\n",
    "    biomass, glucose = y  # expand the boundary species\n",
    "    glucose_max_import = -10 * glucose / (5 + glucose)\n",
    "    model.reactions.EX_glc__D_e.lower_bound = glucose_max_import\n",
    "\n",
    "\n",
    "def dynamic_system(t, y):\n",
    "    \"\"\"Calculate the time derivative of external species.\"\"\"\n",
    "\n",
    "    biomass, glucose = y  # expand the boundary species\n",
    "\n",
    "    # Calculate the specific exchanges fluxes at the given external concentrations.\n",
    "    with model:\n",
    "        add_dynamic_bounds(model, y)\n",
    "\n",
    "        cobra.util.add_lp_feasibility(model)\n",
    "        feasibility = cobra.util.fix_objective_as_constraint(model)\n",
    "        lex_constraints = cobra.util.add_lexicographic_constraints(\n",
    "            model, ['BIOMASS_SC5_notrace', 'EX_glc__D_e'], ['max', 'max'])\n",
    "\n",
    "    # Since the calculated fluxes are specific rates, we multiply them by the\n",
    "    # biomass concentration to get the bulk exchange rates.\n",
    "    fluxes = lex_constraints.values\n",
    "    fluxes *= biomass\n",
    "\n",
    "    # This implementation is **not** efficient, so I display the current\n",
    "    # simulation time using a progress bar.\n",
    "    if dynamic_system.pbar is not None:\n",
    "        dynamic_system.pbar.update(1)\n",
    "        dynamic_system.pbar.set_description('t = {:.3f}'.format(t))\n",
    "\n",
    "    return fluxes\n",
    "\n",
    "dynamic_system.pbar = None\n",
    "\n",
    "\n",
    "def infeasible_event(t, y):\n",
    "    \"\"\"\n",
    "    Determine solution feasibility.\n",
    "\n",
    "    Avoiding infeasible solutions is handled by solve_ivp's built-in event detection.\n",
    "    This function re-solves the LP to determine whether or not the solution is feasible\n",
    "    (and if not, how far it is from feasibility). When the sign of this function changes\n",
    "    from -epsilon to positive, we know the solution is no longer feasible.\n",
    "\n",
    "    \"\"\"\n",
    "\n",
    "    with model:\n",
    "\n",
    "        add_dynamic_bounds(model, y)\n",
    "\n",
    "        cobra.util.add_lp_feasibility(model)\n",
    "        feasibility = cobra.util.fix_objective_as_constraint(model)\n",
    "\n",
    "    return feasibility - infeasible_event.epsilon\n",
    "\n",
    "infeasible_event.epsilon = 1E-6\n",
    "infeasible_event.direction = 1\n",
    "infeasible_event.terminal = True"
   ]
  },
  {
   "cell_type": "code",
   "execution_count": null,
   "metadata": {},
   "outputs": [
    {
     "name": "stderr",
     "output_type": "stream",
     "text": [
      "t = 12.487: : 251it [20:18,  4.86s/it]\n"
     ]
    }
   ],
   "source": [
    "ts = np.linspace(0, 15, 100)  # Desired integration resolution and interval\n",
    "y0 = [0.1, 10]\n",
    "\n",
    "with tqdm() as pbar:\n",
    "    dynamic_system.pbar = pbar\n",
    "\n",
    "    sol = solve_ivp(\n",
    "        fun=dynamic_system,\n",
    "        events=[infeasible_event],\n",
    "        t_span=(ts.min(), ts.max()),\n",
    "        y0=y0,\n",
    "        t_eval=ts,\n",
    "        rtol=1e-6,\n",
    "        atol=1e-8,\n",
    "        method='BDF'\n",
    "    )"
   ]
  },
  {
   "cell_type": "code",
   "execution_count": null,
   "metadata": {},
   "outputs": [
    {
     "data": {
      "text/plain": [
       "  message: 'A termination event occurred.'\n",
       "     nfev: 236\n",
       "     njev: 5\n",
       "      nlu: 21\n",
       "      sol: None\n",
       "   status: 1\n",
       "  success: True\n",
       "        t: array([ 0.        ,  0.15151515,  0.3030303 ,  0.45454545,  0.60606061,\n",
       "        0.75757576,  0.90909091,  1.06060606,  1.21212121,  1.36363636,\n",
       "        1.51515152,  1.66666667,  1.81818182,  1.96969697,  2.12121212,\n",
       "        2.27272727,  2.42424242,  2.57575758,  2.72727273,  2.87878788,\n",
       "        3.03030303,  3.18181818,  3.33333333,  3.48484848,  3.63636364,\n",
       "        3.78787879,  3.93939394,  4.09090909,  4.24242424,  4.39393939,\n",
       "        4.54545455,  4.6969697 ,  4.84848485,  5.        ,  5.15151515,\n",
       "        5.3030303 ,  5.45454545,  5.60606061,  5.75757576,  5.90909091,\n",
       "        6.06060606,  6.21212121,  6.36363636,  6.51515152,  6.66666667,\n",
       "        6.81818182,  6.96969697,  7.12121212,  7.27272727,  7.42424242,\n",
       "        7.57575758,  7.72727273,  7.87878788,  8.03030303,  8.18181818,\n",
       "        8.33333333,  8.48484848,  8.63636364,  8.78787879,  8.93939394,\n",
       "        9.09090909,  9.24242424,  9.39393939,  9.54545455,  9.6969697 ,\n",
       "        9.84848485, 10.        , 10.15151515, 10.3030303 , 10.45454545,\n",
       "       10.60606061, 10.75757576, 10.90909091, 11.06060606, 11.21212121,\n",
       "       11.36363636, 11.51515152, 11.66666667, 11.81818182, 11.96969697,\n",
       "       12.12121212, 12.27272727, 12.42424242])\n",
       " t_events: [array([12.47694831])]\n",
       "        y: array([[ 0.1       ,  0.10320807,  0.10651001,  0.10990793,  0.11340384,\n",
       "         0.11699975,  0.12069762,  0.12449939,  0.1284069 ,  0.13242201,\n",
       "         0.1365464 ,  0.14078178,  0.14512967,  0.14959152,  0.15416866,\n",
       "         0.15886221,  0.16367324,  0.16860247,  0.17365055,  0.17881784,\n",
       "         0.18410447,  0.18951027,  0.19503473,  0.20067705,  0.20643601,\n",
       "         0.21230999,  0.21829696,  0.22439438,  0.23059921,  0.23690788,\n",
       "         0.2433162 ,  0.24981941,  0.25641207,  0.26308805,  0.26984053,\n",
       "         0.27666198,  0.28354409,  0.29047788,  0.29745352,  0.30446059,\n",
       "         0.31148795,  0.31852387,  0.32555609,  0.33257192,  0.33955831,\n",
       "         0.34650211,  0.35339014,  0.36020943,  0.36694744,  0.37359224,\n",
       "         0.38013277,  0.38655905,  0.39286239,  0.39903555,  0.4050729 ,\n",
       "         0.41096995,  0.41672136,  0.42232393,  0.42777859,  0.43308907,\n",
       "         0.43826018,  0.44329766,  0.44820857,  0.45300107,  0.45767702,\n",
       "         0.46196277,  0.46574178,  0.4690521 ,  0.47193399,  0.47442686,\n",
       "         0.47656869,  0.47839566,  0.47994172,  0.48123835,  0.48231435,\n",
       "         0.48319591,  0.48390667,  0.4844678 ,  0.48489814,  0.48521442,\n",
       "         0.48543139,  0.48556205,  0.48561786],\n",
       "       [10.        ,  9.89755157,  9.79219484,  9.68387302,  9.57253163,\n",
       "         9.45811847,  9.34058261,  9.2198767 ,  9.09595556,  8.9687761 ,\n",
       "         8.83830185,  8.70449625,  8.56733146,  8.42678239,  8.28282989,\n",
       "         8.13546435,  7.98467781,  7.83047771,  7.67287511,  7.51189286,\n",
       "         7.34756399,  7.17993327,  7.00906084,  6.83501845,  6.65789472,\n",
       "         6.47779482,  6.29484108,  6.10917651,  5.92096327,  5.73038621,\n",
       "         5.53765371,  5.34299803,  5.14667749,  4.94897751,  4.75021102,\n",
       "         4.55071853,  4.35087042,  4.15106301,  3.95172416,  3.75330539,\n",
       "         3.55628336,  3.36115621,  3.16844103,  2.97866904,  2.79238131,\n",
       "         2.61012086,  2.43242592,  2.25982274,  2.09281537,  1.93187741,\n",
       "         1.77744273,  1.62989651,  1.4895668 ,  1.35671703,  1.23154025,\n",
       "         1.11415549,  1.00460617,  0.90286073,  0.80881519,  0.72229695,\n",
       "         0.6430714 ,  0.57085056,  0.50530251,  0.44606103,  0.39273532,\n",
       "         0.34493091,  0.30226467,  0.2643412 ,  0.23075922,  0.20112113,\n",
       "         0.17504206,  0.15215596,  0.13211943,  0.11461384,  0.09934746,\n",
       "         0.08605509,  0.0744974 ,  0.06445995,  0.05575172,  0.04820332,\n",
       "         0.04166518,  0.03600564,  0.03110925]])\n",
       " y_events: [array([[0.48562223, 0.02956596]])]"
      ]
     },
     "execution_count": 25,
     "metadata": {},
     "output_type": "execute_result"
    }
   ],
   "source": [
    "sol"
   ]
  },
  {
   "cell_type": "code",
   "execution_count": null,
   "metadata": {},
   "outputs": [
    {
     "data": {
      "text/plain": [
       "Text(0, 0.5, 'Glucose')"
      ]
     },
     "execution_count": 26,
     "metadata": {},
     "output_type": "execute_result"
    },
    {
     "data": {
      "image/png": "[encoded data removed]",
      "text/plain": [
       "<Figure size 640x480 with 2 Axes>"
      ]
     },
     "metadata": {},
     "output_type": "display_data"
    }
   ],
   "source": [
    "ax = plt.subplot(111)\n",
    "ax.plot(sol.t, sol.y.T[:, 0])\n",
    "ax2 = plt.twinx(ax)\n",
    "ax2.plot(sol.t, sol.y.T[:, 1], color='r')\n",
    "\n",
    "ax.set_ylabel('Biomass', color='b')\n",
    "ax2.set_ylabel('Glucose', color='r')"
   ]
  },
  {
   "cell_type": "markdown",
   "metadata": {},
   "source": [
    "## DFBA with out model and progesterone production"
   ]
  },
  {
   "cell_type": "code",
   "execution_count": null,
   "metadata": {},
   "outputs": [],
   "source": [
    "from cobra.io import read_sbml_model"
   ]
  },
  {
   "cell_type": "code",
   "execution_count": null,
   "metadata": {},
   "outputs": [],
   "source": []
  },
  {
   "cell_type": "code",
   "execution_count": 1,
   "metadata": {},
   "outputs": [
    {
     "ename": "NameError",
     "evalue": "name 'read_sbml_model' is not defined",
     "output_type": "error",
     "traceback": [
      "\u001b[0;31m---------------------------------------------------------------------------\u001b[0m",
      "\u001b[0;31mNameError\u001b[0m                                 Traceback (most recent call last)",
      "\u001b[1;32m/home/trinebera/github-classroom/27410/27410-group-assigment-group_3/misc/Bertram/Test_DFBA_cobra.ipynb Cell 18\u001b[0m in \u001b[0;36m<cell line: 1>\u001b[0;34m()\u001b[0m\n\u001b[0;32m----> <a href='vscode-notebook-cell://wsl%2Bubuntu/home/trinebera/github-classroom/27410/27410-group-assigment-group_3/misc/Bertram/Test_DFBA_cobra.ipynb#X22sdnNjb2RlLXJlbW90ZQ%3D%3D?line=0'>1</a>\u001b[0m model \u001b[39m=\u001b[39m read_sbml_model(\u001b[39m'\u001b[39m\u001b[39m../../models/iMM904_progesterone_fixed.xml\u001b[39m\u001b[39m'\u001b[39m)\n\u001b[1;32m      <a href='vscode-notebook-cell://wsl%2Bubuntu/home/trinebera/github-classroom/27410/27410-group-assigment-group_3/misc/Bertram/Test_DFBA_cobra.ipynb#X22sdnNjb2RlLXJlbW90ZQ%3D%3D?line=2'>3</a>\u001b[0m \u001b[39m#fba_model.add_boundary(fba_model.metabolites.get_by_id('progesterone_e'), type='exchange')\u001b[39;00m\n\u001b[1;32m      <a href='vscode-notebook-cell://wsl%2Bubuntu/home/trinebera/github-classroom/27410/27410-group-assigment-group_3/misc/Bertram/Test_DFBA_cobra.ipynb#X22sdnNjb2RlLXJlbW90ZQ%3D%3D?line=3'>4</a>\u001b[0m model\u001b[39m.\u001b[39madd_boundary(model\u001b[39m.\u001b[39mmetabolites\u001b[39m.\u001b[39mget_by_id(\u001b[39m'\u001b[39m\u001b[39mprogesterone_c\u001b[39m\u001b[39m'\u001b[39m), \u001b[39mtype\u001b[39m\u001b[39m=\u001b[39m\u001b[39m'\u001b[39m\u001b[39mdemand\u001b[39m\u001b[39m'\u001b[39m)\n",
      "\u001b[0;31mNameError\u001b[0m: name 'read_sbml_model' is not defined"
     ]
    }
   ],
   "source": [
    "model = read_sbml_model('../../models/iMM904_progesterone_fixed.xml')\n",
    "\n",
    "#fba_model.add_boundary(fba_model.metabolites.get_by_id('progesterone_e'), type='exchange')\n",
    "model.add_boundary(model.metabolites.get_by_id('progesterone_c'), type='demand')\n",
    "\n",
    "model.objective = model.reactions.R02216\n",
    "model.optimize().objective_value"
   ]
  },
  {
   "cell_type": "code",
   "execution_count": 29,
   "metadata": {},
   "outputs": [],
   "source": [
    "def add_dynamic_bounds(model, y):\n",
    "    \"\"\"Use external concentrations to bound the uptake flux of glucose.\"\"\"\n",
    "    biomass, glucose = y  # expand the boundary species\n",
    "    glucose_max_import = -10 * glucose / (5 + glucose)\n",
    "    model.reactions.EX_glc__D_e.lower_bound = glucose_max_import\n",
    "\n",
    "def dynamic_system(t, y):\n",
    "    \"\"\"Calculate the time derivative of external species.\"\"\"\n",
    "\n",
    "    biomass, glucose = y  # expand the boundary species\n",
    "\n",
    "    # Calculate the specific exchanges fluxes at the given external concentrations.\n",
    "    with model:\n",
    "        add_dynamic_bounds(model, y)\n",
    "        \n",
    "        cobra.util.add_lp_feasibility(model)\n",
    "        feasibility = cobra.util.fix_objective_as_constraint(model)\n",
    "        lex_constraints = cobra.util.add_lexicographic_constraints(\n",
    "            model, ['BIOMASSE', 'EX_glc__D_e', 'progesterone_c'], ['max','max','max'])\n",
    "\n",
    "    # Since the calculated fluxes are specific rates, we multiply them by the\n",
    "    # biomass concentration to get the bulk exchange rates.\n",
    "    fluxes = lex_constraints.values\n",
    "    fluxes *= biomass\n",
    "\n",
    "    # This implementation is **not** efficient, so I display the current\n",
    "    # simulation time using a progress bar.\n",
    "    if dynamic_system.pbar is not None:\n",
    "        dynamic_system.pbar.update(1)\n",
    "        dynamic_system.pbar.set_description('t = {:.3f}'.format(t))\n",
    "\n",
    "    return fluxes\n",
    "\n",
    "dynamic_system.pbar = None\n",
    "\n",
    "def infeasible_event(t, y):\n",
    "    \"\"\"\n",
    "    Determine solution feasibility.\n",
    "\n",
    "    Avoiding infeasible solutions is handled by solve_ivp's built-in event detection.\n",
    "    This function re-solves the LP to determine whether or not the solution is feasible\n",
    "    (and if not, how far it is from feasibility). When the sign of this function changes\n",
    "    from -epsilon to positive, we know the solution is no longer feasible.\n",
    "\n",
    "    \"\"\"\n",
    "\n",
    "    with model:\n",
    "\n",
    "        add_dynamic_bounds(model, y)\n",
    "\n",
    "        cobra.util.add_lp_feasibility(model)\n",
    "        feasibility = cobra.util.fix_objective_as_constraint(model)\n",
    "\n",
    "    return feasibility - infeasible_event.epsilon\n",
    "\n",
    "infeasible_event.epsilon = 1E-6\n",
    "infeasible_event.direction = 1\n",
    "infeasible_event.terminal = True"
   ]
  },
  {
   "cell_type": "code",
   "execution_count": 33,
   "metadata": {},
   "outputs": [
    {
     "name": "stderr",
     "output_type": "stream",
     "text": [
      "t = 14.322: : 348it [23:04,  3.98s/it]\n"
     ]
    }
   ],
   "source": [
    "ts = np.linspace(0, 15, 100)  # Desired integration resolution and interval\n",
    "y0 = [0.1, 10]\n",
    "\n",
    "with tqdm() as pbar:\n",
    "    dynamic_system.pbar = pbar\n",
    "\n",
    "    sol = solve_ivp(\n",
    "        fun=dynamic_system,\n",
    "        events=[infeasible_event],\n",
    "        t_span=(ts.min(), ts.max()),\n",
    "        y0=y0,\n",
    "        t_eval=ts,\n",
    "        rtol=1e-6,\n",
    "        atol=1e-8,\n",
    "        method='BDF'\n",
    "    )"
   ]
  },
  {
   "cell_type": "code",
   "execution_count": 34,
   "metadata": {},
   "outputs": [
    {
     "data": {
      "text/plain": [
       "  message: 'A termination event occurred.'\n",
       "     nfev: 335\n",
       "     njev: 4\n",
       "      nlu: 25\n",
       "      sol: None\n",
       "   status: 1\n",
       "  success: True\n",
       "        t: array([ 0.        ,  0.15151515,  0.3030303 ,  0.45454545,  0.60606061,\n",
       "        0.75757576,  0.90909091,  1.06060606,  1.21212121,  1.36363636,\n",
       "        1.51515152,  1.66666667,  1.81818182,  1.96969697,  2.12121212,\n",
       "        2.27272727,  2.42424242,  2.57575758,  2.72727273,  2.87878788,\n",
       "        3.03030303,  3.18181818,  3.33333333,  3.48484848,  3.63636364,\n",
       "        3.78787879,  3.93939394,  4.09090909,  4.24242424,  4.39393939,\n",
       "        4.54545455,  4.6969697 ,  4.84848485,  5.        ,  5.15151515,\n",
       "        5.3030303 ,  5.45454545,  5.60606061,  5.75757576,  5.90909091,\n",
       "        6.06060606,  6.21212121,  6.36363636,  6.51515152,  6.66666667,\n",
       "        6.81818182,  6.96969697,  7.12121212,  7.27272727,  7.42424242,\n",
       "        7.57575758,  7.72727273,  7.87878788,  8.03030303,  8.18181818,\n",
       "        8.33333333,  8.48484848,  8.63636364,  8.78787879,  8.93939394,\n",
       "        9.09090909,  9.24242424,  9.39393939,  9.54545455,  9.6969697 ,\n",
       "        9.84848485, 10.        , 10.15151515, 10.3030303 , 10.45454545,\n",
       "       10.60606061, 10.75757576, 10.90909091, 11.06060606, 11.21212121,\n",
       "       11.36363636, 11.51515152, 11.66666667, 11.81818182, 11.96969697,\n",
       "       12.12121212, 12.27272727, 12.42424242, 12.57575758, 12.72727273,\n",
       "       12.87878788, 13.03030303, 13.18181818, 13.33333333, 13.48484848,\n",
       "       13.63636364, 13.78787879, 13.93939394, 14.09090909, 14.24242424])\n",
       " t_events: [array([14.27722743])]\n",
       "        y: array([[ 0.1       ,  0.10218816,  0.10442416,  0.10670909,  0.10904401,\n",
       "         0.11143001,  0.11386822,  0.11635978,  0.11890585,  0.12150764,\n",
       "         0.12416637,  0.12688326,  0.1296596 ,  0.13249669,  0.13539587,\n",
       "         0.13835848,  0.14138591,  0.14447959,  0.14764097,  0.15087151,\n",
       "         0.15417273,  0.15754621,  0.1609935 ,  0.1645162 ,  0.16811598,\n",
       "         0.17179454,  0.17555359,  0.17939489,  0.18332025,  0.18733149,\n",
       "         0.19143051,  0.19561921,  0.19989957,  0.20427357,  0.2087433 ,\n",
       "         0.21331082,  0.2179783 ,  0.22274789,  0.22762185,  0.23260244,\n",
       "         0.23769201,  0.24289294,  0.24820767,  0.2536387 ,  0.25918853,\n",
       "         0.26484204,  0.27057844,  0.2763961 ,  0.28229326,  0.28826795,\n",
       "         0.29431803,  0.30042282,  0.30654876,  0.31268878,  0.31883548,\n",
       "         0.32498126,  0.33111865,  0.33724026,  0.34333787,  0.349401  ,\n",
       "         0.35542006,  0.36138783,  0.36729887,  0.37314815,  0.37893138,\n",
       "         0.38464524,  0.39028746,  0.39585681,  0.40135309,  0.40677714,\n",
       "         0.41213076,  0.41741667,  0.42263838,  0.42780009,  0.43290657,\n",
       "         0.43778246,  0.44215742,  0.446058  ,  0.44951721,  0.45256984,\n",
       "         0.45525018,  0.45759199,  0.45962783,  0.46138633,  0.46288462,\n",
       "         0.46414559,  0.46519721,  0.46606354,  0.46676608,  0.46732449,\n",
       "         0.46775642,  0.46807751,  0.46829874,  0.46842908,  0.46847996],\n",
       "       [10.        ,  9.92633203,  9.85105321,  9.77412732,  9.69551839,\n",
       "         9.61518977,  9.53310311,  9.44922086,  9.36350294,  9.27590934,\n",
       "         9.18639904,  9.09493024,  9.00146025,  8.90594464,  8.80833896,\n",
       "         8.70859776,  8.60667451,  8.50252041,  8.39608737,  8.28732577,\n",
       "         8.17618462,  8.06261097,  7.94655232,  7.82795458,  7.70676194,\n",
       "         7.58291712,  7.45636245,  7.32703865,  7.19488504,  7.05983974,\n",
       "         6.92183953,  6.7808198 ,  6.63671457,  6.48945644,  6.33897572,\n",
       "         6.18520224,  6.02806404,  5.86748758,  5.70339773,  5.53571774,\n",
       "         5.36436892,  5.18927089,  5.01034163,  4.82749715,  4.64065555,\n",
       "         4.45161904,  4.26275953,  4.07438281,  3.88680551,  3.70036266,\n",
       "         3.51540562,  3.33230302,  3.15146288,  2.97330607,  2.79826085,\n",
       "         2.62675813,  2.45922602,  2.29608599,  2.13774888,  1.98460404,\n",
       "         1.83701632,  1.69532166,  1.55981138,  1.43073521,  1.30829237,\n",
       "         1.19262869,  1.08383238,  0.98193369,  0.8869057 ,  0.79866609,\n",
       "         0.71707688,  0.64195436,  0.57307212,  0.51016688,  0.45294555,\n",
       "         0.40109823,  0.35432827,  0.31232224,  0.27474596,  0.24125524,\n",
       "         0.21150513,  0.18515683,  0.16188372,  0.14137637,  0.12334493,\n",
       "         0.10752084,  0.09365735,  0.08152941,  0.07093333,  0.06168596,\n",
       "         0.05362339,  0.04659964,  0.04048523,  0.03516568,  0.03054002]])\n",
       " y_events: [array([[0.46848168, 0.02956596]])]"
      ]
     },
     "execution_count": 34,
     "metadata": {},
     "output_type": "execute_result"
    }
   ],
   "source": [
    "sol"
   ]
  },
  {
   "cell_type": "code",
   "execution_count": 36,
   "metadata": {},
   "outputs": [
    {
     "data": {
      "text/plain": [
       "Text(0, 0.5, 'Glucose')"
      ]
     },
     "execution_count": 36,
     "metadata": {},
     "output_type": "execute_result"
    },
    {
     "data": {
      "image/png": "[encoded data removed]",
      "text/plain": [
       "<Figure size 640x480 with 2 Axes>"
      ]
     },
     "metadata": {},
     "output_type": "display_data"
    }
   ],
   "source": [
    "ax = plt.subplot(111)\n",
    "ax.plot(sol.t, sol.y.T[:, 0])\n",
    "ax2 = plt.twinx(ax)\n",
    "ax2.plot(sol.t, sol.y.T[:, 1], color='r')\n",
    "\n",
    "ax.set_ylabel('Progesterone', color='b')\n",
    "ax2.set_ylabel('Glucose', color='r')\n",
    "\n",
    "model.metabolites.progesterone_c"
   ]
  }
 ],
 "metadata": {
  "kernelspec": {
   "display_name": "Python 3.9.13 ('base')",
   "language": "python",
   "name": "python3"
  },
  "language_info": {
   "codemirror_mode": {
    "name": "ipython",
    "version": 3
   },
   "file_extension": ".py",
   "mimetype": "text/x-python",
   "name": "python",
   "nbconvert_exporter": "python",
   "pygments_lexer": "ipython3",
   "version": "3.9.13"
  },
  "orig_nbformat": 4,
  "vscode": {
   "interpreter": {
    "hash": "af0991ae4618b7e40aeffd4f5030c33b1dfac82aaa22e8d2e7e54204fdff3243"
   }
  }
 },
 "nbformat": 4,
 "nbformat_minor": 2
}
