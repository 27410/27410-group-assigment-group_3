{
 "cells": [
  {
   "cell_type": "code",
   "execution_count": 74,
   "metadata": {},
   "outputs": [],
   "source": [
    "#Get help here: https://dynamic-fba.readthedocs.io/en/latest/examples.html\n",
    "\n",
    "#Important! This code needs to be run in a different environment! \n",
    "# On Trine's computer, the environment is called dfba"
   ]
  },
  {
   "cell_type": "code",
   "execution_count": 140,
   "metadata": {},
   "outputs": [],
   "source": [
    "from dfba import DfbaModel, ExchangeFlux, KineticVariable\n",
    "from os.path import dirname, join, pardir\n",
    "from cobra.io import read_sbml_model\n",
    "from cobra import Model, Reaction, Metabolite"
   ]
  },
  {
   "cell_type": "markdown",
   "metadata": {},
   "source": [
    "## 1. Generate dfba model"
   ]
  },
  {
   "cell_type": "code",
   "execution_count": 138,
   "metadata": {},
   "outputs": [
    {
     "name": "stderr",
     "output_type": "stream",
     "text": [
      "--- Logging error ---\n",
      "Traceback (most recent call last):\n",
      "  File \"/home/trinebera/miniconda3/envs/dfba/lib/python3.7/site-packages/cobra/core/model.py\", line 167, in tolerance\n",
      "    solver_tolerances.optimality = value\n",
      "  File \"/home/trinebera/miniconda3/envs/dfba/lib/python3.7/site-packages/optlang/util.py\", line 311, in __setattr__\n",
      "    raise AttributeError(key + \" is not an available tolerance parameter with this solver\")\n",
      "AttributeError: optimality is not an available tolerance parameter with this solver\n",
      "\n",
      "During handling of the above exception, another exception occurred:\n",
      "\n",
      "Traceback (most recent call last):\n",
      "  File \"/home/trinebera/miniconda3/envs/dfba/lib/python3.7/logging/__init__.py\", line 1028, in emit\n",
      "    stream.write(msg + self.terminator)\n",
      "  File \"/home/trinebera/miniconda3/envs/dfba/lib/python3.7/tempfile.py\", line 481, in func_wrapper\n",
      "    return func(*args, **kwargs)\n",
      "ValueError: I/O operation on closed file.\n",
      "Call stack:\n",
      "  File \"/home/trinebera/miniconda3/envs/dfba/lib/python3.7/runpy.py\", line 193, in _run_module_as_main\n",
      "    \"__main__\", mod_spec)\n",
      "  File \"/home/trinebera/miniconda3/envs/dfba/lib/python3.7/runpy.py\", line 85, in _run_code\n",
      "    exec(code, run_globals)\n",
      "  File \"/home/trinebera/miniconda3/envs/dfba/lib/python3.7/site-packages/ipykernel_launcher.py\", line 17, in <module>\n",
      "    app.launch_new_instance()\n",
      "  File \"/home/trinebera/miniconda3/envs/dfba/lib/python3.7/site-packages/traitlets/config/application.py\", line 982, in launch_instance\n",
      "    app.start()\n",
      "  File \"/home/trinebera/miniconda3/envs/dfba/lib/python3.7/site-packages/ipykernel/kernelapp.py\", line 712, in start\n",
      "    self.io_loop.start()\n",
      "  File \"/home/trinebera/miniconda3/envs/dfba/lib/python3.7/site-packages/tornado/platform/asyncio.py\", line 199, in start\n",
      "    self.asyncio_loop.run_forever()\n",
      "  File \"/home/trinebera/miniconda3/envs/dfba/lib/python3.7/asyncio/base_events.py\", line 541, in run_forever\n",
      "    self._run_once()\n",
      "  File \"/home/trinebera/miniconda3/envs/dfba/lib/python3.7/asyncio/base_events.py\", line 1786, in _run_once\n",
      "    handle._run()\n",
      "  File \"/home/trinebera/miniconda3/envs/dfba/lib/python3.7/asyncio/events.py\", line 88, in _run\n",
      "    self._context.run(self._callback, *self._args)\n",
      "  File \"/home/trinebera/miniconda3/envs/dfba/lib/python3.7/site-packages/ipykernel/kernelbase.py\", line 510, in dispatch_queue\n",
      "    await self.process_one()\n",
      "  File \"/home/trinebera/miniconda3/envs/dfba/lib/python3.7/site-packages/ipykernel/kernelbase.py\", line 499, in process_one\n",
      "    await dispatch(*args)\n",
      "  File \"/home/trinebera/miniconda3/envs/dfba/lib/python3.7/site-packages/ipykernel/kernelbase.py\", line 406, in dispatch_shell\n",
      "    await result\n",
      "  File \"/home/trinebera/miniconda3/envs/dfba/lib/python3.7/site-packages/ipykernel/kernelbase.py\", line 730, in execute_request\n",
      "    reply_content = await reply_content\n",
      "  File \"/home/trinebera/miniconda3/envs/dfba/lib/python3.7/site-packages/ipykernel/ipkernel.py\", line 387, in do_execute\n",
      "    cell_id=cell_id,\n",
      "  File \"/home/trinebera/miniconda3/envs/dfba/lib/python3.7/site-packages/ipykernel/zmqshell.py\", line 528, in run_cell\n",
      "    return super().run_cell(*args, **kwargs)\n",
      "  File \"/home/trinebera/miniconda3/envs/dfba/lib/python3.7/site-packages/IPython/core/interactiveshell.py\", line 2975, in run_cell\n",
      "    raw_cell, store_history, silent, shell_futures, cell_id\n",
      "  File \"/home/trinebera/miniconda3/envs/dfba/lib/python3.7/site-packages/IPython/core/interactiveshell.py\", line 3029, in _run_cell\n",
      "    return runner(coro)\n",
      "  File \"/home/trinebera/miniconda3/envs/dfba/lib/python3.7/site-packages/IPython/core/async_helpers.py\", line 78, in _pseudo_sync_runner\n",
      "    coro.send(None)\n",
      "  File \"/home/trinebera/miniconda3/envs/dfba/lib/python3.7/site-packages/IPython/core/interactiveshell.py\", line 3257, in run_cell_async\n",
      "    interactivity=interactivity, compiler=compiler, result=result)\n",
      "  File \"/home/trinebera/miniconda3/envs/dfba/lib/python3.7/site-packages/IPython/core/interactiveshell.py\", line 3472, in run_ast_nodes\n",
      "    if (await self.run_code(code, result,  async_=asy)):\n",
      "  File \"/home/trinebera/miniconda3/envs/dfba/lib/python3.7/site-packages/IPython/core/interactiveshell.py\", line 3552, in run_code\n",
      "    exec(code_obj, self.user_global_ns, self.user_ns)\n",
      "  File \"/tmp/ipykernel_26632/1539228823.py\", line 1, in <module>\n",
      "    fba_model = read_sbml_model('../../models/iMM904_progesterone_fixed.xml')\n",
      "  File \"/home/trinebera/miniconda3/envs/dfba/lib/python3.7/site-packages/cobra/io/sbml.py\", line 244, in read_sbml_model\n",
      "    return _sbml_to_model(doc, number=number, f_replace=f_replace, **kwargs)\n",
      "  File \"/home/trinebera/miniconda3/envs/dfba/lib/python3.7/site-packages/cobra/io/sbml.py\", line 366, in _sbml_to_model\n",
      "    cobra_model = Model(model_id)\n",
      "  File \"/home/trinebera/miniconda3/envs/dfba/lib/python3.7/site-packages/cobra/core/model.py\", line 118, in __init__\n",
      "    self.tolerance = configuration.tolerance\n",
      "  File \"/home/trinebera/miniconda3/envs/dfba/lib/python3.7/site-packages/cobra/core/model.py\", line 170, in tolerance\n",
      "    f\"The current solver interface {interface_to_str(self.problem)} \"\n",
      "Message: \"The current solver interface glpk doesn't support setting the optimality tolerance.\"\n",
      "Arguments: ()\n"
     ]
    },
    {
     "data": {
      "text/html": [
       "\n",
       "        <table>\n",
       "            <tr>\n",
       "                <td><strong>Name</strong></td>\n",
       "                <td>iMM904</td>\n",
       "            </tr><tr>\n",
       "                <td><strong>Memory address</strong></td>\n",
       "                <td>0x07f70747ce550</td>\n",
       "            </tr><tr>\n",
       "                <td><strong>Number of metabolites</strong></td>\n",
       "                <td>1235</td>\n",
       "            </tr><tr>\n",
       "                <td><strong>Number of reactions</strong></td>\n",
       "                <td>1587</td>\n",
       "            </tr><tr>\n",
       "                <td><strong>Number of groups</strong></td>\n",
       "                <td>0</td>\n",
       "            </tr><tr>\n",
       "                <td><strong>Objective expression</strong></td>\n",
       "                <td>1.0*BIOMASS_SC5_notrace - 1.0*BIOMASS_SC5_notrace_reverse_93090</td>\n",
       "            </tr><tr>\n",
       "                <td><strong>Compartments</strong></td>\n",
       "                <td>cytosol, extracellular space, mitochondria, peroxisome/glyoxysome, endoplasmic reticulum, vacuole, golgi apparatus, nucleus</td>\n",
       "            </tr>\n",
       "          </table>"
      ],
      "text/plain": [
       "<Model iMM904 at 0x7f70747ce550>"
      ]
     },
     "execution_count": 138,
     "metadata": {},
     "output_type": "execute_result"
    }
   ],
   "source": [
    "fba_model = read_sbml_model('../../models/iMM904_progesterone_fixed.xml')\n",
    "fba_model"
   ]
  },
  {
   "cell_type": "code",
   "execution_count": 139,
   "metadata": {},
   "outputs": [],
   "source": [
    "progesterone_e = Metabolite(\n",
    "    'progesterone_e',\n",
    "    formula='C11H21N2O7PRS',\n",
    "    name='progesterone',\n",
    "    compartment='e')\n",
    "\n",
    "fba_model.add_metabolites(progesterone_e)"
   ]
  },
  {
   "cell_type": "code",
   "execution_count": 136,
   "metadata": {},
   "outputs": [
    {
     "name": "stderr",
     "output_type": "stream",
     "text": [
      "--- Logging error ---\n",
      "Traceback (most recent call last):\n",
      "  File \"/home/trinebera/miniconda3/envs/dfba/lib/python3.7/logging/__init__.py\", line 1028, in emit\n",
      "    stream.write(msg + self.terminator)\n",
      "  File \"/home/trinebera/miniconda3/envs/dfba/lib/python3.7/tempfile.py\", line 481, in func_wrapper\n",
      "    return func(*args, **kwargs)\n",
      "ValueError: I/O operation on closed file.\n",
      "Call stack:\n",
      "  File \"/home/trinebera/miniconda3/envs/dfba/lib/python3.7/runpy.py\", line 193, in _run_module_as_main\n",
      "    \"__main__\", mod_spec)\n",
      "  File \"/home/trinebera/miniconda3/envs/dfba/lib/python3.7/runpy.py\", line 85, in _run_code\n",
      "    exec(code, run_globals)\n",
      "  File \"/home/trinebera/miniconda3/envs/dfba/lib/python3.7/site-packages/ipykernel_launcher.py\", line 17, in <module>\n",
      "    app.launch_new_instance()\n",
      "  File \"/home/trinebera/miniconda3/envs/dfba/lib/python3.7/site-packages/traitlets/config/application.py\", line 982, in launch_instance\n",
      "    app.start()\n",
      "  File \"/home/trinebera/miniconda3/envs/dfba/lib/python3.7/site-packages/ipykernel/kernelapp.py\", line 712, in start\n",
      "    self.io_loop.start()\n",
      "  File \"/home/trinebera/miniconda3/envs/dfba/lib/python3.7/site-packages/tornado/platform/asyncio.py\", line 199, in start\n",
      "    self.asyncio_loop.run_forever()\n",
      "  File \"/home/trinebera/miniconda3/envs/dfba/lib/python3.7/asyncio/base_events.py\", line 541, in run_forever\n",
      "    self._run_once()\n",
      "  File \"/home/trinebera/miniconda3/envs/dfba/lib/python3.7/asyncio/base_events.py\", line 1786, in _run_once\n",
      "    handle._run()\n",
      "  File \"/home/trinebera/miniconda3/envs/dfba/lib/python3.7/asyncio/events.py\", line 88, in _run\n",
      "    self._context.run(self._callback, *self._args)\n",
      "  File \"/home/trinebera/miniconda3/envs/dfba/lib/python3.7/site-packages/ipykernel/kernelbase.py\", line 510, in dispatch_queue\n",
      "    await self.process_one()\n",
      "  File \"/home/trinebera/miniconda3/envs/dfba/lib/python3.7/site-packages/ipykernel/kernelbase.py\", line 499, in process_one\n",
      "    await dispatch(*args)\n",
      "  File \"/home/trinebera/miniconda3/envs/dfba/lib/python3.7/site-packages/ipykernel/kernelbase.py\", line 406, in dispatch_shell\n",
      "    await result\n",
      "  File \"/home/trinebera/miniconda3/envs/dfba/lib/python3.7/site-packages/ipykernel/kernelbase.py\", line 730, in execute_request\n",
      "    reply_content = await reply_content\n",
      "  File \"/home/trinebera/miniconda3/envs/dfba/lib/python3.7/site-packages/ipykernel/ipkernel.py\", line 387, in do_execute\n",
      "    cell_id=cell_id,\n",
      "  File \"/home/trinebera/miniconda3/envs/dfba/lib/python3.7/site-packages/ipykernel/zmqshell.py\", line 528, in run_cell\n",
      "    return super().run_cell(*args, **kwargs)\n",
      "  File \"/home/trinebera/miniconda3/envs/dfba/lib/python3.7/site-packages/IPython/core/interactiveshell.py\", line 2975, in run_cell\n",
      "    raw_cell, store_history, silent, shell_futures, cell_id\n",
      "  File \"/home/trinebera/miniconda3/envs/dfba/lib/python3.7/site-packages/IPython/core/interactiveshell.py\", line 3029, in _run_cell\n",
      "    return runner(coro)\n",
      "  File \"/home/trinebera/miniconda3/envs/dfba/lib/python3.7/site-packages/IPython/core/async_helpers.py\", line 78, in _pseudo_sync_runner\n",
      "    coro.send(None)\n",
      "  File \"/home/trinebera/miniconda3/envs/dfba/lib/python3.7/site-packages/IPython/core/interactiveshell.py\", line 3257, in run_cell_async\n",
      "    interactivity=interactivity, compiler=compiler, result=result)\n",
      "  File \"/home/trinebera/miniconda3/envs/dfba/lib/python3.7/site-packages/IPython/core/interactiveshell.py\", line 3472, in run_ast_nodes\n",
      "    if (await self.run_code(code, result,  async_=asy)):\n",
      "  File \"/home/trinebera/miniconda3/envs/dfba/lib/python3.7/site-packages/IPython/core/interactiveshell.py\", line 3552, in run_code\n",
      "    exec(code_obj, self.user_global_ns, self.user_ns)\n",
      "  File \"/tmp/ipykernel_26632/2376167139.py\", line 1, in <module>\n",
      "    fba_model.add_boundary(fba_model.metabolites.get_by_id('progesterone_e'), type='exchange')\n",
      "  File \"/home/trinebera/miniconda3/envs/dfba/lib/python3.7/site-packages/cobra/core/model.py\", line 610, in add_boundary\n",
      "    external = find_external_compartment(self)\n",
      "  File \"/home/trinebera/miniconda3/envs/dfba/lib/python3.7/site-packages/cobra/medium/boundary_types.py\", line 67, in find_external_compartment\n",
      "    f\"Compartment `{compartment}` sounds like an external compartment. \"\n",
      "Message: 'Compartment `e` sounds like an external compartment. Using this one without counting boundary reactions.'\n",
      "Arguments: ()\n"
     ]
    },
    {
     "ename": "ValueError",
     "evalue": "Boundary reaction 'EX_progesterone_e' already exists.",
     "output_type": "error",
     "traceback": [
      "\u001b[0;31m---------------------------------------------------------------------------\u001b[0m",
      "\u001b[0;31mValueError\u001b[0m                                Traceback (most recent call last)",
      "\u001b[0;32m/tmp/ipykernel_26632/2376167139.py\u001b[0m in \u001b[0;36m<module>\u001b[0;34m\u001b[0m\n\u001b[0;32m----> 1\u001b[0;31m \u001b[0mfba_model\u001b[0m\u001b[0;34m.\u001b[0m\u001b[0madd_boundary\u001b[0m\u001b[0;34m(\u001b[0m\u001b[0mfba_model\u001b[0m\u001b[0;34m.\u001b[0m\u001b[0mmetabolites\u001b[0m\u001b[0;34m.\u001b[0m\u001b[0mget_by_id\u001b[0m\u001b[0;34m(\u001b[0m\u001b[0;34m'progesterone_e'\u001b[0m\u001b[0;34m)\u001b[0m\u001b[0;34m,\u001b[0m \u001b[0mtype\u001b[0m\u001b[0;34m=\u001b[0m\u001b[0;34m'exchange'\u001b[0m\u001b[0;34m)\u001b[0m\u001b[0;34m\u001b[0m\u001b[0;34m\u001b[0m\u001b[0m\n\u001b[0m\u001b[1;32m      2\u001b[0m \u001b[0mfba_model\u001b[0m\u001b[0;34m.\u001b[0m\u001b[0mobjective\u001b[0m \u001b[0;34m=\u001b[0m \u001b[0mfba_model\u001b[0m\u001b[0;34m.\u001b[0m\u001b[0mreactions\u001b[0m\u001b[0;34m.\u001b[0m\u001b[0mR02216\u001b[0m\u001b[0;34m\u001b[0m\u001b[0;34m\u001b[0m\u001b[0m\n\u001b[1;32m      3\u001b[0m \u001b[0mfba_model\u001b[0m\u001b[0;34m.\u001b[0m\u001b[0moptimize\u001b[0m\u001b[0;34m(\u001b[0m\u001b[0;34m)\u001b[0m\u001b[0;34m.\u001b[0m\u001b[0mobjective_value\u001b[0m\u001b[0;34m\u001b[0m\u001b[0;34m\u001b[0m\u001b[0m\n",
      "\u001b[0;32m~/miniconda3/envs/dfba/lib/python3.7/site-packages/cobra/core/model.py\u001b[0m in \u001b[0;36madd_boundary\u001b[0;34m(self, metabolite, type, reaction_id, lb, ub, sbo_term)\u001b[0m\n\u001b[1;32m    631\u001b[0m         \u001b[0;32mif\u001b[0m \u001b[0mreaction_id\u001b[0m \u001b[0;32min\u001b[0m \u001b[0mself\u001b[0m\u001b[0;34m.\u001b[0m\u001b[0mreactions\u001b[0m\u001b[0;34m:\u001b[0m\u001b[0;34m\u001b[0m\u001b[0;34m\u001b[0m\u001b[0m\n\u001b[1;32m    632\u001b[0m             raise ValueError(\n\u001b[0;32m--> 633\u001b[0;31m                 \u001b[0;34m\"Boundary reaction '{}' already exists.\"\u001b[0m\u001b[0;34m.\u001b[0m\u001b[0mformat\u001b[0m\u001b[0;34m(\u001b[0m\u001b[0mreaction_id\u001b[0m\u001b[0;34m)\u001b[0m\u001b[0;34m\u001b[0m\u001b[0;34m\u001b[0m\u001b[0m\n\u001b[0m\u001b[1;32m    634\u001b[0m             )\n\u001b[1;32m    635\u001b[0m         \u001b[0mname\u001b[0m \u001b[0;34m=\u001b[0m \u001b[0;34m\"{} {}\"\u001b[0m\u001b[0;34m.\u001b[0m\u001b[0mformat\u001b[0m\u001b[0;34m(\u001b[0m\u001b[0mmetabolite\u001b[0m\u001b[0;34m.\u001b[0m\u001b[0mname\u001b[0m\u001b[0;34m,\u001b[0m \u001b[0mtype\u001b[0m\u001b[0;34m)\u001b[0m\u001b[0;34m\u001b[0m\u001b[0;34m\u001b[0m\u001b[0m\n",
      "\u001b[0;31mValueError\u001b[0m: Boundary reaction 'EX_progesterone_e' already exists."
     ]
    }
   ],
   "source": [
    "fba_model.add_boundary(fba_model.metabolites.get_by_id('progesterone_e'), type='exchange')\n",
    "fba_model.objective = fba_model.reactions.R02216\n",
    "fba_model.optimize().objective_value"
   ]
  },
  {
   "cell_type": "code",
   "execution_count": 137,
   "metadata": {},
   "outputs": [
    {
     "name": "stdout",
     "output_type": "stream",
     "text": [
      "0.0\n"
     ]
    }
   ],
   "source": [
    "print(fba_model.optimize().objective_value)"
   ]
  },
  {
   "cell_type": "code",
   "execution_count": null,
   "metadata": {},
   "outputs": [],
   "source": [
    "fba_model.solver = \"cpex\"\n",
    "dfba_model = DfbaModel(fba_model)"
   ]
  },
  {
   "cell_type": "markdown",
   "metadata": {},
   "source": []
  },
  {
   "cell_type": "markdown",
   "metadata": {},
   "source": [
    "## 2. Kinetic variables\n",
    "\n",
    " - The metabolites *j* in the medium will be XX\n",
    " - Later we will establish kinetic rules for the uptakes of these metabolites. \n",
    " - In addition, we need to set a variable to keep track of biomass.\n",
    " - Instantiate kinetic variables to appear in model. The last command adds the kinetic variables to the model. "
   ]
  },
  {
   "cell_type": "code",
   "execution_count": 94,
   "metadata": {},
   "outputs": [],
   "source": [
    "#Does these variables have to have the same name as in the model???\n",
    "\n",
    "X = KineticVariable(\"Biomass\")\n",
    "Gluc = KineticVariable(\"Glucose\")\n",
    "Xyl = KineticVariable(\"Xylose\")\n",
    "Oxy = KineticVariable(\"Oxygen\")\n",
    "Eth = KineticVariable(\"Ethanol\")\n",
    "Pro = KineticVariable(\"Progesterone\")\n",
    "\n",
    "dfba_model.add_kinetic_variables([X, Gluc, Xyl, Oxy, Eth, Pro])"
   ]
  },
  {
   "cell_type": "code",
   "execution_count": 95,
   "metadata": {},
   "outputs": [
    {
     "name": "stdout",
     "output_type": "stream",
     "text": [
      "[yval[0], yval[1], yval[2], yval[3], yval[4], yval[5]]\n"
     ]
    }
   ],
   "source": [
    "print(dfba_model.kinetic_variables) #what does this mean."
   ]
  },
  {
   "cell_type": "code",
   "execution_count": 96,
   "metadata": {},
   "outputs": [
    {
     "data": {
      "text/html": [
       "\n",
       "        <table>\n",
       "            <tr>\n",
       "                <td><strong>Reaction identifier</strong></td><td>EX_progesterone_e</td>\n",
       "            </tr><tr>\n",
       "                <td><strong>Name</strong></td><td>progesterone exchange</td>\n",
       "            </tr><tr>\n",
       "                <td><strong>Memory address</strong></td>\n",
       "                <td>0x07f7077499050</td>\n",
       "            </tr><tr>\n",
       "                <td><strong>Stoichiometry</strong></td>\n",
       "                <td>\n",
       "                    <p style='text-align:right'>progesterone_e <=></p>\n",
       "                    <p style='text-align:right'>progesterone <=></p>\n",
       "                </td>\n",
       "            </tr><tr>\n",
       "                <td><strong>GPR</strong></td><td></td>\n",
       "            </tr><tr>\n",
       "                <td><strong>Lower bound</strong></td><td>-1000.0</td>\n",
       "            </tr><tr>\n",
       "                <td><strong>Upper bound</strong></td><td>1000.0</td>\n",
       "            </tr>\n",
       "        </table>\n",
       "        "
      ],
      "text/plain": [
       "<Reaction EX_progesterone_e at 0x7f7077499050>"
      ]
     },
     "execution_count": 96,
     "metadata": {},
     "output_type": "execute_result"
    }
   ],
   "source": [
    "dfba_model.reactions.EX_progesterone_e"
   ]
  },
  {
   "cell_type": "markdown",
   "metadata": {},
   "source": [
    "## 3. Exchange fluxes\n",
    "\n",
    "Instantiate exchange fluxes to appear in model, with ids corresponding to exchange reactions of the cobrapy model. \n",
    "\n",
    "The last command adds the exchange fluxes to the model"
   ]
  },
  {
   "cell_type": "code",
   "execution_count": null,
   "metadata": {},
   "outputs": [],
   "source": []
  },
  {
   "cell_type": "code",
   "execution_count": 97,
   "metadata": {},
   "outputs": [],
   "source": [
    "mu = ExchangeFlux(\"BIOMASS_SC5_notrace\")  #IS THIS THE CORRECT BIOMASS???\n",
    "v_G = ExchangeFlux(\"EX_glc__D_e\")\n",
    "v_Z = ExchangeFlux(\"EX_xyl__D_e\")\n",
    "v_O = ExchangeFlux(\"EX_o2_e\")\n",
    "v_E = ExchangeFlux(\"EX_etoh_e\")\n",
    "v_P = ExchangeFlux(\"EX_progesterone_e\")\n",
    "\n",
    "#dfba_model.reactions.EX_progesterone_e\n",
    "#dfba_model.reactions.EX_glc__D_e\n",
    "#dfba_model.reactions.DM_progesterone_c\n",
    "\n",
    "dfba_model.add_exchange_fluxes([mu, v_G, v_Z, v_O, v_E, v_P])"
   ]
  },
  {
   "cell_type": "code",
   "execution_count": 80,
   "metadata": {},
   "outputs": [],
   "source": [
    "#dfba_model.reactions.DM_progesterone_c"
   ]
  },
  {
   "cell_type": "markdown",
   "metadata": {},
   "source": [
    "## 4. Rhs expressions\n",
    "Provide symbolic expression for calculating the time derivtive of each kinetic variable currently in the model. \n",
    "\n",
    "See how these correspond to our ODE system:\n",
    "\n",
    "\\begin{align}\n",
    "    \\frac{dX}{dt} &= v_{BM}X \\\\\n",
    "    \\frac{dC_j}{dt} &= v_jX\n",
    "\\end{align}"
   ]
  },
  {
   "cell_type": "code",
   "execution_count": 99,
   "metadata": {},
   "outputs": [],
   "source": [
    "dfba_model.add_rhs_expression(\"Biomass\", mu * X)\n",
    "dfba_model.add_rhs_expression(\"Glucose\", v_G * 180.1559/1000 * X) # v_G [mmol gDW^-1 h^-1] * 0.18 g/mmol * gDW/L\n",
    "dfba_model.add_rhs_expression(\"Xylose\", v_Z * 150.13/1000 * X)\n",
    "dfba_model.add_rhs_expression(\"Oxygen\", 0) # O2 is kept constant\n",
    "dfba_model.add_rhs_expression(\"Ethanol\", v_E * 46.06844/1000 * X)\n",
    "dfba_model.add_rhs_expression(\"Progesterone\", v_P * 46.06844/1000 * X)    \n",
    "#HVORDAN UDREGNER MAN KINETISK VARIABLE???\n"
   ]
  },
  {
   "cell_type": "markdown",
   "metadata": {},
   "source": [
    "## Lower/upper bound expressions"
   ]
  },
  {
   "cell_type": "code",
   "execution_count": 100,
   "metadata": {},
   "outputs": [],
   "source": [
    "#WHERE DOES THESE NUMBERS COME FROM????\n",
    "\n",
    "vmax_o2 = 15 # [mmol gDW^-1 h^-1]\n",
    "Ko = 0.024 # mmol/L O2 Michaelis-Mentent constant\n",
    "dfba_model.add_exchange_flux_lb(\"EX_o2_e\", vmax_o2 * (Oxy / (Ko + Oxy)), Oxy)"
   ]
  },
  {
   "cell_type": "code",
   "execution_count": 101,
   "metadata": {},
   "outputs": [],
   "source": [
    "vmax_glc = 10.5 # [mmol gDW^-1 h^-1]\n",
    "Kg = 0.0027 # g/L Glucose Michaelis-Mentent constant\n",
    "Kie = 20 # g/L Ethanol inhibition constant\n",
    "dfba_model.add_exchange_flux_lb(\n",
    "    \"EX_glc__D_e\",\n",
    "    vmax_glc * (Gluc / (Kg + Gluc)) * (1 / (1 + Eth / Kie)),\n",
    "    Gluc\n",
    ")"
   ]
  },
  {
   "cell_type": "code",
   "execution_count": 102,
   "metadata": {},
   "outputs": [],
   "source": [
    "vmax_xyl = 6 # [mmol gDW^-1 h^-1]\n",
    "Kz = 0.0165 # g/L Glucose Michaelis-Mentent constant\n",
    "Kie = 20 # g/L Ethanol inhibition constant\n",
    "Kig = 0.005 # g/L Glucose inhibition constant\n",
    "dfba_model.add_exchange_flux_lb(\n",
    "    \"EX_xyl__D_e\",\n",
    "    vmax_xyl * (Xyl / (0.0165 + Xyl)) * (1 / (1 + Eth / Kie)) * (1 / (1 + Gluc / 0.005)),\n",
    "    Xyl,\n",
    ")"
   ]
  },
  {
   "cell_type": "markdown",
   "metadata": {},
   "source": [
    "## 6. Add initial conditions to the model and launch the simulation\n",
    "\n",
    "Initial values for each kinetic variable are provided in dictionary form. \n",
    "\n",
    "The model is simulated using the `simulate` method. This simulation covers the interval $[0.0, 25.0]$ hours, with results stored every $0.1$ hours. Results (trajectories of kinetic variables) will be returned as [pandas.DataFrame](https://pandas.pydata.org/). Optionally, the user can also provide a list of reaction ids whose flux trajectories will also be returned as a separate [pandas.DataFrame](https://pandas.pydata.org/), in this case three exchange fluxes in the model."
   ]
  },
  {
   "cell_type": "code",
   "execution_count": 119,
   "metadata": {},
   "outputs": [],
   "source": [
    "dfba_model.add_initial_conditions(\n",
    "    {\n",
    "        \"Biomass\": 0.01, # (gDW/L)\n",
    "        \"Glucose\": 30.0, # (g/L)\n",
    "        \"Xylose\": 8.0,   # (g/L)\n",
    "        \"Oxygen\": 1.0,  # (mmol/L)\n",
    "        \"Ethanol\": 0.0,  # (g/L)\n",
    "        \"Progesterone\": 0.0, #g/L ???\n",
    "    }\n",
    ")\n",
    "\n",
    "#dfba_model.reactions.DM_progesterone_c"
   ]
  },
  {
   "cell_type": "markdown",
   "metadata": {},
   "source": [
    "The model is simulated using the `simulate` method. This simulation covers the interval $[0.0, 25.0]$ hours, with results stored every $0.1$ hours (written as dfba_model.simulate(0.0, 25.0, 0.1), )."
   ]
  },
  {
   "cell_type": "code",
   "execution_count": 120,
   "metadata": {},
   "outputs": [
    {
     "name": "stderr",
     "output_type": "stream",
     "text": [
      "cc1plus: warning: command line option '-Wstrict-prototypes' is valid for C/ObjC but not for C++\n"
     ]
    },
    {
     "name": "stdout",
     "output_type": "stream",
     "text": [
      "\n",
      "\n",
      "Final Run Statistics: \n",
      "\n",
      "Number of steps                    = 25\n",
      "Number of residual evaluations     = 84\n",
      "Number of Jacobian evaluations     = 16\n",
      "Number of nonlinear iterations     = 40\n",
      "Number of error test failures      = 0\n",
      "Number of nonlinear conv. failures = 0\n",
      "Number of root fn. evaluations     = 73\n",
      "\n",
      "\n",
      "Final Run Statistics: \n",
      "\n",
      "Number of steps                    = 12\n",
      "Number of residual evaluations     = 26\n",
      "Number of Jacobian evaluations     = 10\n",
      "Number of nonlinear iterations     = 13\n",
      "Number of error test failures      = 0\n",
      "Number of nonlinear conv. failures = 0\n",
      "Number of root fn. evaluations     = 22\n",
      "\n",
      "\n",
      "Final Run Statistics: \n",
      "\n",
      "Number of steps                    = 25\n",
      "Number of residual evaluations     = 102\n",
      "Number of Jacobian evaluations     = 18\n",
      "Number of nonlinear iterations     = 51\n",
      "Number of error test failures      = 4\n",
      "Number of nonlinear conv. failures = 2\n",
      "Number of root fn. evaluations     = 53\n",
      "\n",
      "\n",
      "Final Run Statistics: \n",
      "\n",
      "Number of steps                    = 2\n",
      "Number of residual evaluations     = 6\n",
      "Number of Jacobian evaluations     = 1\n",
      "Number of nonlinear iterations     = 3\n",
      "Number of error test failures      = 0\n",
      "Number of nonlinear conv. failures = 0\n",
      "Number of root fn. evaluations     = 12\n",
      "\n",
      "\n",
      "Final Run Statistics: \n",
      "\n",
      "Number of steps                    = 17\n",
      "Number of residual evaluations     = 58\n",
      "Number of Jacobian evaluations     = 8\n",
      "Number of nonlinear iterations     = 29\n",
      "Number of error test failures      = 3\n",
      "Number of nonlinear conv. failures = 0\n",
      "Number of root fn. evaluations     = 26\n",
      "\n",
      "\n",
      "Final Run Statistics: \n",
      "\n",
      "Number of steps                    = 1\n",
      "Number of residual evaluations     = 8\n",
      "Number of Jacobian evaluations     = 2\n",
      "Number of nonlinear iterations     = 4\n",
      "Number of error test failures      = 1\n",
      "Number of nonlinear conv. failures = 0\n",
      "Number of root fn. evaluations     = 11\n",
      "\n",
      "\n",
      "Final Run Statistics: \n",
      "\n",
      "Number of steps                    = 1\n",
      "Number of residual evaluations     = 8\n",
      "Number of Jacobian evaluations     = 2\n",
      "Number of nonlinear iterations     = 4\n",
      "Number of error test failures      = 1\n",
      "Number of nonlinear conv. failures = 0\n",
      "Number of root fn. evaluations     = 9\n",
      "\n",
      "\n",
      "Final Run Statistics: \n",
      "\n",
      "Number of steps                    = 2\n",
      "Number of residual evaluations     = 12\n",
      "Number of Jacobian evaluations     = 2\n",
      "Number of nonlinear iterations     = 6\n",
      "Number of error test failures      = 1\n",
      "Number of nonlinear conv. failures = 0\n",
      "Number of root fn. evaluations     = 12\n",
      "\n",
      "\n",
      "Final Run Statistics: \n",
      "\n",
      "Number of steps                    = 1\n",
      "Number of residual evaluations     = 8\n",
      "Number of Jacobian evaluations     = 2\n",
      "Number of nonlinear iterations     = 4\n",
      "Number of error test failures      = 1\n",
      "Number of nonlinear conv. failures = 0\n",
      "Number of root fn. evaluations     = 12\n",
      "\n",
      "\n",
      "Final Run Statistics: \n",
      "\n",
      "Number of steps                    = 11\n",
      "Number of residual evaluations     = 40\n",
      "Number of Jacobian evaluations     = 7\n",
      "Number of nonlinear iterations     = 20\n",
      "Number of error test failures      = 2\n",
      "Number of nonlinear conv. failures = 0\n",
      "Number of root fn. evaluations     = 23\n",
      "\n",
      "\n",
      "Final Run Statistics: \n",
      "\n",
      "Number of steps                    = 1\n",
      "Number of residual evaluations     = 12\n",
      "Number of Jacobian evaluations     = 3\n",
      "Number of nonlinear iterations     = 6\n",
      "Number of error test failures      = 2\n",
      "Number of nonlinear conv. failures = 0\n",
      "Number of root fn. evaluations     = 10\n",
      "\n",
      "\n",
      "Final Run Statistics: \n",
      "\n",
      "Number of steps                    = 9\n",
      "Number of residual evaluations     = 36\n",
      "Number of Jacobian evaluations     = 7\n",
      "Number of nonlinear iterations     = 18\n",
      "Number of error test failures      = 2\n",
      "Number of nonlinear conv. failures = 0\n",
      "Number of root fn. evaluations     = 21\n",
      "\n",
      "\n",
      "Final Run Statistics: \n",
      "\n",
      "Number of steps                    = 1\n",
      "Number of residual evaluations     = 12\n",
      "Number of Jacobian evaluations     = 3\n",
      "Number of nonlinear iterations     = 6\n",
      "Number of error test failures      = 2\n",
      "Number of nonlinear conv. failures = 0\n",
      "Number of root fn. evaluations     = 9\n",
      "\n",
      "\n",
      "Final Run Statistics: \n",
      "\n",
      "Number of steps                    = 32\n",
      "Number of residual evaluations     = 122\n",
      "Number of Jacobian evaluations     = 10\n",
      "Number of nonlinear iterations     = 61\n",
      "Number of error test failures      = 3\n",
      "Number of nonlinear conv. failures = 0\n",
      "Number of root fn. evaluations     = 40\n",
      "\n",
      "\n",
      "Final Run Statistics: \n",
      "\n",
      "Number of steps                    = 8\n",
      "Number of residual evaluations     = 46\n",
      "Number of Jacobian evaluations     = 12\n",
      "Number of nonlinear iterations     = 23\n",
      "Number of error test failures      = 5\n",
      "Number of nonlinear conv. failures = 0\n",
      "Number of root fn. evaluations     = 18\n",
      "\n",
      "\n",
      "Final Run Statistics: \n",
      "\n",
      "Number of steps                    = 1\n",
      "Number of residual evaluations     = 26\n",
      "Number of Jacobian evaluations     = 6\n",
      "Number of nonlinear iterations     = 13\n",
      "Number of error test failures      = 5\n",
      "Number of nonlinear conv. failures = 0\n",
      "Number of root fn. evaluations     = 9\n",
      "\n",
      "\n",
      "Final Run Statistics: \n",
      "\n",
      "Number of steps                    = 2\n",
      "Number of residual evaluations     = 34\n",
      "Number of Jacobian evaluations     = 7\n",
      "Number of nonlinear iterations     = 17\n",
      "Number of error test failures      = 6\n",
      "Number of nonlinear conv. failures = 0\n",
      "Number of root fn. evaluations     = 10\n",
      "\n",
      "\n",
      "Final Run Statistics: \n",
      "\n",
      "Number of steps                    = 21\n",
      "Number of residual evaluations     = 98\n",
      "Number of Jacobian evaluations     = 15\n",
      "Number of nonlinear iterations     = 49\n",
      "Number of error test failures      = 7\n",
      "Number of nonlinear conv. failures = 0\n",
      "Number of root fn. evaluations     = 29\n",
      "\n",
      "\n",
      "Final Run Statistics: \n",
      "\n",
      "Number of steps                    = 180\n",
      "Number of residual evaluations     = 840\n",
      "Number of Jacobian evaluations     = 180\n",
      "Number of nonlinear iterations     = 420\n",
      "Number of error test failures      = 19\n",
      "Number of nonlinear conv. failures = 49\n",
      "Number of root fn. evaluations     = 196\n",
      "\n",
      "\n",
      "Final Run Statistics: \n",
      "\n",
      "Number of steps                    = 16\n",
      "Number of residual evaluations     = 60\n",
      "Number of Jacobian evaluations     = 10\n",
      "Number of nonlinear iterations     = 30\n",
      "Number of error test failures      = 3\n",
      "Number of nonlinear conv. failures = 0\n",
      "Number of root fn. evaluations     = 23\n",
      "\n",
      "\n",
      "Final Run Statistics: \n",
      "\n",
      "Number of steps                    = 4\n",
      "Number of residual evaluations     = 22\n",
      "Number of Jacobian evaluations     = 6\n",
      "Number of nonlinear iterations     = 11\n",
      "Number of error test failures      = 3\n",
      "Number of nonlinear conv. failures = 0\n",
      "Number of root fn. evaluations     = 13\n",
      "\n",
      "\n",
      "Final Run Statistics: \n",
      "\n",
      "Number of steps                    = 1\n",
      "Number of residual evaluations     = 12\n",
      "Number of Jacobian evaluations     = 3\n",
      "Number of nonlinear iterations     = 6\n",
      "Number of error test failures      = 2\n",
      "Number of nonlinear conv. failures = 0\n",
      "Number of root fn. evaluations     = 10\n",
      "\n",
      "\n",
      "Final Run Statistics: \n",
      "\n",
      "Number of steps                    = 2\n",
      "Number of residual evaluations     = 16\n",
      "Number of Jacobian evaluations     = 3\n",
      "Number of nonlinear iterations     = 8\n",
      "Number of error test failures      = 2\n",
      "Number of nonlinear conv. failures = 0\n",
      "Number of root fn. evaluations     = 10\n",
      "\n",
      "\n",
      "Final Run Statistics: \n",
      "\n",
      "Number of steps                    = 1\n",
      "Number of residual evaluations     = 12\n",
      "Number of Jacobian evaluations     = 3\n",
      "Number of nonlinear iterations     = 6\n",
      "Number of error test failures      = 2\n",
      "Number of nonlinear conv. failures = 0\n",
      "Number of root fn. evaluations     = 10\n",
      "\n",
      "\n",
      "Final Run Statistics: \n",
      "\n",
      "Number of steps                    = 11\n",
      "Number of residual evaluations     = 50\n",
      "Number of Jacobian evaluations     = 8\n",
      "Number of nonlinear iterations     = 25\n",
      "Number of error test failures      = 3\n",
      "Number of nonlinear conv. failures = 0\n",
      "Number of root fn. evaluations     = 23\n",
      "\n",
      "Basis not feasible with primal status 4\n",
      "\n",
      "Final Run Statistics: \n",
      "\n",
      "Number of steps                    = 11\n",
      "Number of residual evaluations     = 50\n",
      "Number of Jacobian evaluations     = 8\n",
      "Number of nonlinear iterations     = 25\n",
      "Number of error test failures      = 3\n",
      "Number of nonlinear conv. failures = 0\n",
      "Number of root fn. evaluations     = 23\n",
      "\n",
      "Total simulation time was 27.3594 seconds\n",
      "\n"
     ]
    }
   ],
   "source": [
    "concentrations, trajectories = dfba_model.simulate(0.0, 48.0, 0.2, [\"EX_glc__D_e\", \"EX_xyl__D_e\", \"EX_o2_e\", \"EX_progesterone_e\"])"
   ]
  },
  {
   "cell_type": "markdown",
   "metadata": {},
   "source": [
    "## 7. Plotting the results"
   ]
  },
  {
   "cell_type": "code",
   "execution_count": 111,
   "metadata": {},
   "outputs": [],
   "source": [
    "# from dfba.plot.plotly import *\n",
    "from dfba.plot.matplotlib import *\n",
    "\n",
    "import matplotlib.pyplot as plt"
   ]
  },
  {
   "cell_type": "code",
   "execution_count": 121,
   "metadata": {},
   "outputs": [
    {
     "data": {
      "image/png": "[encoded data removed]",
      "text/plain": [
       "<Figure size 640x480 with 2 Axes>"
      ]
     },
     "metadata": {},
     "output_type": "display_data"
    }
   ],
   "source": [
    "plot_concentrations(concentrations)"
   ]
  },
  {
   "cell_type": "code",
   "execution_count": 118,
   "metadata": {},
   "outputs": [
    {
     "name": "stdout",
     "output_type": "stream",
     "text": [
      "\u001b[0;31mSignature:\u001b[0m\n",
      "\u001b[0mplot_concentrations\u001b[0m\u001b[0;34m(\u001b[0m\u001b[0;34m\u001b[0m\n",
      "\u001b[0;34m\u001b[0m    \u001b[0mresults\u001b[0m\u001b[0;34m:\u001b[0m \u001b[0mpandas\u001b[0m\u001b[0;34m.\u001b[0m\u001b[0mcore\u001b[0m\u001b[0;34m.\u001b[0m\u001b[0mframe\u001b[0m\u001b[0;34m.\u001b[0m\u001b[0mDataFrame\u001b[0m\u001b[0;34m,\u001b[0m\u001b[0;34m\u001b[0m\n",
      "\u001b[0;34m\u001b[0m    \u001b[0mmetabolites\u001b[0m\u001b[0;34m:\u001b[0m \u001b[0mUnion\u001b[0m\u001b[0;34m[\u001b[0m\u001b[0mList\u001b[0m\u001b[0;34m[\u001b[0m\u001b[0mstr\u001b[0m\u001b[0;34m]\u001b[0m\u001b[0;34m,\u001b[0m \u001b[0mNoneType\u001b[0m\u001b[0;34m]\u001b[0m \u001b[0;34m=\u001b[0m \u001b[0;32mNone\u001b[0m\u001b[0;34m,\u001b[0m\u001b[0;34m\u001b[0m\n",
      "\u001b[0;34m\u001b[0m    \u001b[0mbiomass\u001b[0m\u001b[0;34m:\u001b[0m \u001b[0mstr\u001b[0m \u001b[0;34m=\u001b[0m \u001b[0;34m'Biomass'\u001b[0m\u001b[0;34m,\u001b[0m\u001b[0;34m\u001b[0m\n",
      "\u001b[0;34m\u001b[0m    \u001b[0mtime\u001b[0m\u001b[0;34m:\u001b[0m \u001b[0mstr\u001b[0m \u001b[0;34m=\u001b[0m \u001b[0;34m'time'\u001b[0m\u001b[0;34m,\u001b[0m\u001b[0;34m\u001b[0m\n",
      "\u001b[0;34m\u001b[0m    \u001b[0mlabels\u001b[0m\u001b[0;34m:\u001b[0m \u001b[0mUnion\u001b[0m\u001b[0;34m[\u001b[0m\u001b[0mDict\u001b[0m\u001b[0;34m[\u001b[0m\u001b[0mstr\u001b[0m\u001b[0;34m,\u001b[0m \u001b[0mstr\u001b[0m\u001b[0;34m]\u001b[0m\u001b[0;34m,\u001b[0m \u001b[0mNoneType\u001b[0m\u001b[0;34m]\u001b[0m \u001b[0;34m=\u001b[0m \u001b[0;32mNone\u001b[0m\u001b[0;34m,\u001b[0m\u001b[0;34m\u001b[0m\n",
      "\u001b[0;34m\u001b[0m    \u001b[0mx_axis_title\u001b[0m\u001b[0;34m:\u001b[0m \u001b[0mstr\u001b[0m \u001b[0;34m=\u001b[0m \u001b[0;34m'Time $\\\\left[ \\\\mathrm{h} \\\\right]$'\u001b[0m\u001b[0;34m,\u001b[0m\u001b[0;34m\u001b[0m\n",
      "\u001b[0;34m\u001b[0m    \u001b[0mleft_y_axis_title\u001b[0m\u001b[0;34m:\u001b[0m \u001b[0mstr\u001b[0m \u001b[0;34m=\u001b[0m \u001b[0;34m'Biomass $\\\\left[ \\\\mathrm{g} \\\\, \\\\mathrm{L}^{-1} \\\\right]$'\u001b[0m\u001b[0;34m,\u001b[0m\u001b[0;34m\u001b[0m\n",
      "\u001b[0;34m\u001b[0m    \u001b[0mright_y_axis_title\u001b[0m\u001b[0;34m:\u001b[0m \u001b[0mstr\u001b[0m \u001b[0;34m=\u001b[0m \u001b[0;34m'Metabolites $\\\\left[ \\\\mathrm{mmol} \\\\, \\\\mathrm{L}^{-1} \\\\right]$'\u001b[0m\u001b[0;34m,\u001b[0m\u001b[0;34m\u001b[0m\n",
      "\u001b[0;34m\u001b[0m\u001b[0;34m)\u001b[0m \u001b[0;34m->\u001b[0m \u001b[0;32mNone\u001b[0m\u001b[0;34m\u001b[0m\u001b[0;34m\u001b[0m\u001b[0m\n",
      "\u001b[0;31mDocstring:\u001b[0m\n",
      "Plot the concentration results of a dynamic FBA simulation.\n",
      "\n",
      "The resulting plot can be further customized using ``matplotlib.pyplot``.\n",
      "\n",
      "Parameters\n",
      "----------\n",
      "results : pandas.DataFrame\n",
      "    The concentration results of a simulation.\n",
      "metabolites : list of strings, optional\n",
      "    The names of the metabolites in the data frame (default: all columns\n",
      "    except for time and biomass).\n",
      "biomass : str, optional\n",
      "    The name of biomass in the results (default \"Biomass\").\n",
      "time : str, optional\n",
      "    The name of the time column in the results (default \"time\").\n",
      "labels : dict, optional\n",
      "    A mapping from columns names to legend labels (default is the same).\n",
      "x_axis_title : str, optional\n",
      "    The axis title for the horizontal axis (default time).\n",
      "left_y_axis_title : str, optional\n",
      "    The left vertical axis title (default biomass).\n",
      "right_y_axis_title : str, optional\n",
      "    The right vertical axis title (default metabolite concentration).\n",
      "\u001b[0;31mFile:\u001b[0m      ~/miniconda3/envs/dfba/lib/python3.7/site-packages/dfba/plot/matplotlib.py\n",
      "\u001b[0;31mType:\u001b[0m      function\n"
     ]
    }
   ],
   "source": [
    "?plot_concentrations"
   ]
  },
  {
   "cell_type": "code",
   "execution_count": 113,
   "metadata": {},
   "outputs": [
    {
     "data": {
      "image/png": "[encoded data removed]",
      "text/plain": [
       "<Figure size 640x480 with 1 Axes>"
      ]
     },
     "metadata": {},
     "output_type": "display_data"
    }
   ],
   "source": [
    "plot_trajectories(trajectories)"
   ]
  },
  {
   "cell_type": "markdown",
   "metadata": {},
   "source": []
  }
 ],
 "metadata": {
  "kernelspec": {
   "display_name": "Python 3.7.15 ('dfba')",
   "language": "python",
   "name": "python3"
  },
  "language_info": {
   "codemirror_mode": {
    "name": "ipython",
    "version": 3
   },
   "file_extension": ".py",
   "mimetype": "text/x-python",
   "name": "python",
   "nbconvert_exporter": "python",
   "pygments_lexer": "ipython3",
   "version": "3.7.15"
  },
  "orig_nbformat": 4,
  "vscode": {
   "interpreter": {
    "hash": "42a0797e525a8ae3ad7e804c95ca6b98bbcaff3906d674ada8ed94b80acfad2f"
   }
  }
 },
 "nbformat": 4,
 "nbformat_minor": 2
}
