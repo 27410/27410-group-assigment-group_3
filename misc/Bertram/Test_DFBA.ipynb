{
 "cells": [
  {
   "cell_type": "code",
   "execution_count": 2,
   "metadata": {},
   "outputs": [
    {
     "name": "stdout",
     "output_type": "stream",
     "text": [
      "Collecting package metadata (current_repodata.json): done\n",
      "Solving environment: failed with initial frozen solve. Retrying with flexible solve.\n",
      "Solving environment: failed with repodata from current_repodata.json, will retry with next repodata source.\n",
      "Collecting package metadata (repodata.json): done\n",
      "Solving environment: failed with initial frozen solve. Retrying with flexible solve.\n",
      "Solving environment: \n",
      "Found conflicts! Looking for incompatible packages.\n",
      "This can take several minutes.  Press CTRL-C to abort./ \n",
      "                                                                               ]/ failed\n",
      "\n",
      "UnsatisfiableError: The following specifications were found\n",
      "to be incompatible with the existing python installation in your environment:\n",
      "\n",
      "Specifications:\n",
      "\n",
      "  - dfba -> python[version='>=3.6,<3.7.0a0|>=3.7,<3.8.0a0|>=3.8,<3.9.0a0']\n",
      "\n",
      "Your python: python==3.9.7=h12debd9_1\n",
      "\n",
      "If python is on the left-most side of the chain, that's the version you've asked for.\n",
      "When python appears to the right, that indicates that the thing on the left is somehow\n",
      "not available for the python version you are constrained to. Note that conda will not\n",
      "change your python version to a different minor version unless you explicitly specify\n",
      "that.\n",
      "\n",
      "The following specifications were found to be incompatible with your system:\n",
      "\n",
      "  - feature:/linux-64::__glibc==2.31=0\n",
      "  - feature:|@/linux-64::__glibc==2.31=0\n",
      "  - dfba -> libgcc-ng[version='>=9.3.0'] -> __glibc[version='>=2.17']\n",
      "\n",
      "Your installed version is: 2.31\n",
      "\n",
      "\n"
     ]
    }
   ],
   "source": [
    "#Get help here: https://dynamic-fba.readthedocs.io/en/latest/examples.html\n",
    "\n",
    "#Important! This code needs to be run in a different environment! \n",
    "# On Trine's computer, the environment is called dfba"
   ]
  },
  {
   "cell_type": "code",
   "execution_count": 5,
   "metadata": {},
   "outputs": [],
   "source": [
    "from dfba import DfbaModel, ExchangeFlux, KineticVariable\n",
    "from os.path import dirname, join, pardir\n",
    "from cobra.io import read_sbml_model"
   ]
  },
  {
   "cell_type": "markdown",
   "metadata": {},
   "source": [
    "## 1. Generate dfba model"
   ]
  },
  {
   "cell_type": "code",
   "execution_count": 8,
   "metadata": {},
   "outputs": [
    {
     "name": "stdout",
     "output_type": "stream",
     "text": [
      "Loading ../../models/iMM904_progesterone_fixed.xml\n"
     ]
    }
   ],
   "source": [
    "infilename = '../../models/iMM904_progesterone_fixed.xml'\n",
    "print(f\"Loading {infilename}\")\n",
    "\n",
    "fba_model = read_sbml_model(infilename)\n",
    "fba_model.solver = \"glpk\"\n",
    "dfba_model = DfbaModel(fba_model)"
   ]
  },
  {
   "cell_type": "markdown",
   "metadata": {},
   "source": [
    "## 2. Kinetic variables\n",
    "\n",
    " - The metabolites *j* in the medium will be XX\n",
    " - Later we will establish kinetic rules for the uptakes of these metabolites. \n",
    " - In addition, we need to set a variable to keep track of biomass.\n",
    " - Instantiate kinetic variables to appear in model. The last command adds the kinetic variables to the model. "
   ]
  },
  {
   "cell_type": "code",
   "execution_count": 10,
   "metadata": {},
   "outputs": [],
   "source": [
    "#Does these variables have to have the same name as in the model???\n",
    "\n",
    "X = KineticVariable(\"Biomass\")\n",
    "Gluc = KineticVariable(\"Glucose\")\n",
    "Xyl = KineticVariable(\"Xylose\")\n",
    "Oxy = KineticVariable(\"Oxygen\")\n",
    "Eth = KineticVariable(\"Ethanol\")\n",
    "\n",
    "dfba_model.add_kinetic_variables([X, Gluc, Xyl, Oxy, Eth])"
   ]
  },
  {
   "cell_type": "code",
   "execution_count": 23,
   "metadata": {},
   "outputs": [
    {
     "data": {
      "text/plain": [
       "yval[0]"
      ]
     },
     "execution_count": 23,
     "metadata": {},
     "output_type": "execute_result"
    }
   ],
   "source": [
    "X"
   ]
  },
  {
   "cell_type": "code",
   "execution_count": 16,
   "metadata": {},
   "outputs": [
    {
     "name": "stdout",
     "output_type": "stream",
     "text": [
      "[yval[0], yval[1], yval[2], yval[3], yval[4]]\n"
     ]
    }
   ],
   "source": [
    "print(dfba_model.kinetic_variables) #what does this mean."
   ]
  },
  {
   "cell_type": "markdown",
   "metadata": {},
   "source": [
    "## 3. Exchange fluxes\n",
    "\n",
    "Instantiate exchange fluxes to appear in model, with ids corresponding to exchange reactions of the cobrapy model. \n",
    "\n",
    "The last command adds the exchange fluxes to the model"
   ]
  },
  {
   "cell_type": "code",
   "execution_count": 21,
   "metadata": {},
   "outputs": [
    {
     "name": "stderr",
     "output_type": "stream",
     "text": [
      "Ignoring exchange flux BIOMASS_SC5_notrace since italready exists in the model.\n",
      "Ignoring exchange flux EX_glc__D_e since italready exists in the model.\n",
      "Ignoring exchange flux EX_xyl__D_e since italready exists in the model.\n",
      "Ignoring exchange flux EX_o2_e since italready exists in the model.\n",
      "Ignoring exchange flux EX_etoh_e since italready exists in the model.\n"
     ]
    }
   ],
   "source": [
    "mu = ExchangeFlux(\"BIOMASS_SC5_notrace\")  #IS THIS THE CORRECT BIOMASS???\n",
    "v_G = ExchangeFlux(\"EX_glc__D_e\")\n",
    "v_Z = ExchangeFlux(\"EX_xyl__D_e\")\n",
    "v_O = ExchangeFlux(\"EX_o2_e\")\n",
    "v_E = ExchangeFlux(\"EX_etoh_e\")\n",
    "\n",
    "#model.reactions.EX_etoh_e\n",
    "\n",
    "dfba_model.add_exchange_fluxes([mu, v_G, v_Z, v_O, v_E])"
   ]
  },
  {
   "cell_type": "markdown",
   "metadata": {},
   "source": [
    "## 4. Rhs expressions\n",
    "Provide symbolic expression for calculating the time derivtive of each kinetic variable currently in the model. \n",
    "\n",
    "See how these correspond to our ODE system:\n",
    "\n",
    "\\begin{align}\n",
    "    \\frac{dX}{dt} &= v_{BM}X \\\\\n",
    "    \\frac{dC_j}{dt} &= v_jX\n",
    "\\end{align}"
   ]
  },
  {
   "cell_type": "code",
   "execution_count": null,
   "metadata": {},
   "outputs": [],
   "source": [
    "dfba_model.add_rhs_expression(\"Biomass\", mu * X)\n",
    "dfba_model.add_rhs_expression(\"Glucose\", v_G * 180.1559/1000 * X) # v_G [mmol gDW^-1 h^-1] * 0.18 g/mmol * gDW/L\n",
    "dfba_model.add_rhs_expression(\"Xylose\", v_Z * 150.13/1000 * X)\n",
    "dfba_model.add_rhs_expression(\"Oxygen\", 0) # O2 is kept constant\n",
    "dfba_model.add_rhs_expression(\"Ethanol\", v_E * 46.06844/1000 * X)"
   ]
  },
  {
   "cell_type": "code",
   "execution_count": null,
   "metadata": {},
   "outputs": [],
   "source": []
  }
 ],
 "metadata": {
  "kernelspec": {
   "display_name": "Python 3.7.15 ('dfba')",
   "language": "python",
   "name": "python3"
  },
  "language_info": {
   "codemirror_mode": {
    "name": "ipython",
    "version": 3
   },
   "file_extension": ".py",
   "mimetype": "text/x-python",
   "name": "python",
   "nbconvert_exporter": "python",
   "pygments_lexer": "ipython3",
   "version": "3.7.15"
  },
  "orig_nbformat": 4,
  "vscode": {
   "interpreter": {
    "hash": "42a0797e525a8ae3ad7e804c95ca6b98bbcaff3906d674ada8ed94b80acfad2f"
   }
  }
 },
 "nbformat": 4,
 "nbformat_minor": 2
}
