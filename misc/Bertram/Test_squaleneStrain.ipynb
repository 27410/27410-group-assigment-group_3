{
 "cells": [
  {
   "cell_type": "markdown",
   "metadata": {},
   "source": [
    "## Implement modificaitons in squalene producing *S. cerevisiae* strain\n",
    "\n",
    "As mentioned in the introduction, we partly chose to work with *S. cerevisiae* since heaps of efforts have been made to make this well-known yeast to overproduce squalene; the precusor for all steroids. Therefore, this yeast currently holds the record in producing the highest titre of squalene, reaching 21 g/L in a highly engineered strain (Zhu et al. 2021; Paramasivan et al. 2022).\n",
    "\n",
    "We decided to test the effect of over- and underexpressing genes commonly targeted for overproduction of squalene in *S. cerevisiae* as reviewed by Zhu et al. 2021.\n",
    "\n",
    "Gene targets for overexpression:\n",
    " - ERG genes: ERG10, ERG13, ERG12, ERG8, ERG19, ERG20, ERG9\n",
    " - Other genes: HMG1, IDI1, MVD1\n",
    "\n",
    "Gene targets for underexpression: \n",
    " - ERG genes: ERG1, ERG7, ERG11, ERG24, ERG25, ... gider ikke lige"
   ]
  },
  {
   "cell_type": "code",
   "execution_count": null,
   "metadata": {},
   "outputs": [],
   "source": []
  },
  {
   "cell_type": "code",
   "execution_count": 1,
   "metadata": {},
   "outputs": [],
   "source": [
    "# Load libraries\n",
    "import numpy as np\n",
    "from cobra.io import read_sbml_model, write_sbml_model\n",
    "from cobra.util import create_stoichiometric_matrix\n",
    "from cobra import Reaction, Metabolite\n",
    "from cobra.core.gene import GPR"
   ]
  },
  {
   "cell_type": "code",
   "execution_count": 2,
   "metadata": {},
   "outputs": [
    {
     "name": "stdout",
     "output_type": "stream",
     "text": [
      "Loading ../../models/iMM904_progesterone_fixed.xml\n"
     ]
    }
   ],
   "source": [
    "# Loading model\n",
    "infilename = '../../models/iMM904_progesterone_fixed.xml'\n",
    "print(f\"Loading {infilename}\")\n",
    "model = read_sbml_model(infilename)"
   ]
  },
  {
   "cell_type": "markdown",
   "metadata": {},
   "source": [
    "Choose 'Problem' command for specific optimizations strategies:\n",
    "\n",
    " - Reaction deletion: RKOProblem\n",
    " - Reaction under or over expression: ROUProblem\n",
    " - Gene under or over expression: GOUProblem\n",
    "\n",
    "\"A problem may include other parameters, such as the maximum number of genetic modification, a list of specitic targets, or non-targets (reactions/genes not to be modified).\""
   ]
  },
  {
   "cell_type": "code",
   "execution_count": null,
   "metadata": {},
   "outputs": [],
   "source": [
    "from mewpy.problems import GOUProblem\n",
    "\n",
    "problem = GOUProblem(model, objs, envcond=anaerobic, candidate_max_size=6)"
   ]
  },
  {
   "cell_type": "code",
   "execution_count": 9,
   "metadata": {},
   "outputs": [
    {
     "ename": "NameError",
     "evalue": "name 'Problem' is not defined",
     "output_type": "error",
     "traceback": [
      "\u001b[0;31m---------------------------------------------------------------------------\u001b[0m",
      "\u001b[0;31mNameError\u001b[0m                                 Traceback (most recent call last)",
      "Cell \u001b[0;32mIn [9], line 1\u001b[0m\n\u001b[0;32m----> 1\u001b[0m Problem(model,[f_obj_1,f_obj_2,f_obj_3],\u001b[39m*\u001b[39m\u001b[39m*\u001b[39mkwargs)\n",
      "\u001b[0;31mNameError\u001b[0m: name 'Problem' is not defined"
     ]
    }
   ],
   "source": [
    "Problem(model,[f_obj_1,f_obj_2,f_obj_3],**kwargs)"
   ]
  },
  {
   "cell_type": "code",
   "execution_count": null,
   "metadata": {},
   "outputs": [],
   "source": [
    "from mewpy.optimization import EA\n",
    "ea = EA(problem, max_generations=100,algorithm='NSGAIII')\n",
    "ea.run()"
   ]
  },
  {
   "cell_type": "markdown",
   "metadata": {},
   "source": []
  }
 ],
 "metadata": {
  "kernelspec": {
   "display_name": "Python 3.9.7 ('thedream')",
   "language": "python",
   "name": "python3"
  },
  "language_info": {
   "codemirror_mode": {
    "name": "ipython",
    "version": 3
   },
   "file_extension": ".py",
   "mimetype": "text/x-python",
   "name": "python",
   "nbconvert_exporter": "python",
   "pygments_lexer": "ipython3",
   "version": "3.9.7"
  },
  "orig_nbformat": 4,
  "vscode": {
   "interpreter": {
    "hash": "fda4ecd6cc57b5afa512adcd7f6c6e5bba31f69455292c4ced40ed9bda2cf5eb"
   }
  }
 },
 "nbformat": 4,
 "nbformat_minor": 2
}
