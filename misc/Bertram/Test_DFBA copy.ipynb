{
 "cells": [
  {
   "cell_type": "code",
   "execution_count": 74,
   "metadata": {},
   "outputs": [],
   "source": [
    "#Get help here: https://dynamic-fba.readthedocs.io/en/latest/examples.html\n",
    "\n",
    "#Important! This code needs to be run in a different environment! \n",
    "# On Trine's computer, the environment is called dfba"
   ]
  },
  {
   "cell_type": "code",
   "execution_count": 1,
   "metadata": {},
   "outputs": [],
   "source": [
    "from dfba import DfbaModel, ExchangeFlux, KineticVariable\n",
    "from os.path import dirname, join, pardir\n",
    "from cobra.io import read_sbml_model\n",
    "from cobra import Model, Reaction, Metabolite\n",
    "\n",
    "# from dfba.plot.plotly import *\n",
    "from dfba.plot.matplotlib import *\n",
    "import matplotlib.pyplot as plt"
   ]
  },
  {
   "cell_type": "markdown",
   "metadata": {},
   "source": [
    "## 1. Generate dfba model"
   ]
  },
  {
   "cell_type": "code",
   "execution_count": 2,
   "metadata": {},
   "outputs": [
    {
     "data": {
      "text/html": [
       "\n",
       "        <table>\n",
       "            <tr>\n",
       "                <td><strong>Name</strong></td>\n",
       "                <td>iMM904</td>\n",
       "            </tr><tr>\n",
       "                <td><strong>Memory address</strong></td>\n",
       "                <td>0x07f44fcbe3d50</td>\n",
       "            </tr><tr>\n",
       "                <td><strong>Number of metabolites</strong></td>\n",
       "                <td>1235</td>\n",
       "            </tr><tr>\n",
       "                <td><strong>Number of reactions</strong></td>\n",
       "                <td>1587</td>\n",
       "            </tr><tr>\n",
       "                <td><strong>Number of groups</strong></td>\n",
       "                <td>0</td>\n",
       "            </tr><tr>\n",
       "                <td><strong>Objective expression</strong></td>\n",
       "                <td>1.0*BIOMASS_SC5_notrace - 1.0*BIOMASS_SC5_notrace_reverse_93090</td>\n",
       "            </tr><tr>\n",
       "                <td><strong>Compartments</strong></td>\n",
       "                <td>cytosol, extracellular space, mitochondria, peroxisome/glyoxysome, endoplasmic reticulum, vacuole, golgi apparatus, nucleus</td>\n",
       "            </tr>\n",
       "          </table>"
      ],
      "text/plain": [
       "<Model iMM904 at 0x7f44fcbe3d50>"
      ]
     },
     "execution_count": 2,
     "metadata": {},
     "output_type": "execute_result"
    }
   ],
   "source": [
    "fba_model = read_sbml_model('../../models/iMM904_progesterone_fixed.xml')\n",
    "fba_model"
   ]
  },
  {
   "cell_type": "code",
   "execution_count": 3,
   "metadata": {},
   "outputs": [],
   "source": [
    "# progesterone_e = Metabolite(\n",
    "#     'progesterone_e',\n",
    "#     formula='C11H21N2O7PRS',\n",
    "#     name='progesterone',\n",
    "#     compartment='e')\n",
    "\n",
    "# fba_model.add_metabolites(progesterone_e)"
   ]
  },
  {
   "cell_type": "code",
   "execution_count": 4,
   "metadata": {},
   "outputs": [
    {
     "data": {
      "text/plain": [
       "0.14285714285714288"
      ]
     },
     "execution_count": 4,
     "metadata": {},
     "output_type": "execute_result"
    }
   ],
   "source": [
    "#fba_model.add_boundary(fba_model.metabolites.get_by_id('progesterone_e'), type='exchange')\n",
    "fba_model.add_boundary(fba_model.metabolites.get_by_id('progesterone_c'), type='demand')\n",
    "\n",
    "fba_model.objective = fba_model.reactions.R02216\n",
    "fba_model.optimize().objective_value"
   ]
  },
  {
   "cell_type": "code",
   "execution_count": 5,
   "metadata": {},
   "outputs": [
    {
     "name": "stdout",
     "output_type": "stream",
     "text": [
      "0.14285714285714288\n"
     ]
    }
   ],
   "source": [
    "print(fba_model.optimize().objective_value)"
   ]
  },
  {
   "cell_type": "code",
   "execution_count": 6,
   "metadata": {},
   "outputs": [],
   "source": [
    "fba_model.solver = \"glpk\"\n",
    "dfba_model = DfbaModel(fba_model)"
   ]
  },
  {
   "cell_type": "markdown",
   "metadata": {},
   "source": [
    "## 2. Kinetic variables\n",
    "\n",
    " - The metabolites *j* in the medium will be XX\n",
    " - Later we will establish kinetic rules for the uptakes of these metabolites. \n",
    " - In addition, we need to set a variable to keep track of biomass.\n",
    " - Instantiate kinetic variables to appear in model. The last command adds the kinetic variables to the model. "
   ]
  },
  {
   "cell_type": "code",
   "execution_count": 7,
   "metadata": {},
   "outputs": [],
   "source": [
    "#Does these variables have to have the same name as in the model???\n",
    "\n",
    "X = KineticVariable(\"Biomass\")\n",
    "Gluc = KineticVariable(\"Glucose\")\n",
    "Xyl = KineticVariable(\"Xylose\")\n",
    "Oxy = KineticVariable(\"Oxygen\")\n",
    "Eth = KineticVariable(\"Ethanol\")\n",
    "Pro = KineticVariable(\"Progesterone\")\n",
    "\n",
    "dfba_model.add_kinetic_variables([X, Gluc, Xyl, Oxy, Eth, Pro])"
   ]
  },
  {
   "cell_type": "code",
   "execution_count": 8,
   "metadata": {},
   "outputs": [
    {
     "name": "stdout",
     "output_type": "stream",
     "text": [
      "[yval[0], yval[1], yval[2], yval[3], yval[4], yval[5]]\n"
     ]
    }
   ],
   "source": [
    "print(dfba_model.kinetic_variables) #what does this mean."
   ]
  },
  {
   "cell_type": "code",
   "execution_count": 9,
   "metadata": {},
   "outputs": [
    {
     "ename": "AttributeError",
     "evalue": "DictList has no attribute or entry EX_progesterone_e",
     "output_type": "error",
     "traceback": [
      "\u001b[0;31m---------------------------------------------------------------------------\u001b[0m",
      "\u001b[0;31mKeyError\u001b[0m                                  Traceback (most recent call last)",
      "\u001b[0;32m~/miniconda3/envs/dfba/lib/python3.7/site-packages/cobra/core/dictlist.py\u001b[0m in \u001b[0;36m__getattr__\u001b[0;34m(self, attr)\u001b[0m\n\u001b[1;32m    451\u001b[0m         \u001b[0;32mtry\u001b[0m\u001b[0;34m:\u001b[0m\u001b[0;34m\u001b[0m\u001b[0;34m\u001b[0m\u001b[0m\n\u001b[0;32m--> 452\u001b[0;31m             \u001b[0;32mreturn\u001b[0m \u001b[0mDictList\u001b[0m\u001b[0;34m.\u001b[0m\u001b[0mget_by_id\u001b[0m\u001b[0;34m(\u001b[0m\u001b[0mself\u001b[0m\u001b[0;34m,\u001b[0m \u001b[0mattr\u001b[0m\u001b[0;34m)\u001b[0m\u001b[0;34m\u001b[0m\u001b[0;34m\u001b[0m\u001b[0m\n\u001b[0m\u001b[1;32m    453\u001b[0m         \u001b[0;32mexcept\u001b[0m \u001b[0mKeyError\u001b[0m\u001b[0;34m:\u001b[0m\u001b[0;34m\u001b[0m\u001b[0;34m\u001b[0m\u001b[0m\n",
      "\u001b[0;32m~/miniconda3/envs/dfba/lib/python3.7/site-packages/cobra/core/dictlist.py\u001b[0m in \u001b[0;36mget_by_id\u001b[0;34m(self, id)\u001b[0m\n\u001b[1;32m     56\u001b[0m         \u001b[0;34m\"\"\"return the element with a matching id\"\"\"\u001b[0m\u001b[0;34m\u001b[0m\u001b[0;34m\u001b[0m\u001b[0m\n\u001b[0;32m---> 57\u001b[0;31m         \u001b[0;32mreturn\u001b[0m \u001b[0mlist\u001b[0m\u001b[0;34m.\u001b[0m\u001b[0m__getitem__\u001b[0m\u001b[0;34m(\u001b[0m\u001b[0mself\u001b[0m\u001b[0;34m,\u001b[0m \u001b[0mself\u001b[0m\u001b[0;34m.\u001b[0m\u001b[0m_dict\u001b[0m\u001b[0;34m[\u001b[0m\u001b[0mid\u001b[0m\u001b[0;34m]\u001b[0m\u001b[0;34m)\u001b[0m\u001b[0;34m\u001b[0m\u001b[0;34m\u001b[0m\u001b[0m\n\u001b[0m\u001b[1;32m     58\u001b[0m \u001b[0;34m\u001b[0m\u001b[0m\n",
      "\u001b[0;31mKeyError\u001b[0m: 'EX_progesterone_e'",
      "\nDuring handling of the above exception, another exception occurred:\n",
      "\u001b[0;31mAttributeError\u001b[0m                            Traceback (most recent call last)",
      "\u001b[0;32m/tmp/ipykernel_4973/839925595.py\u001b[0m in \u001b[0;36m<module>\u001b[0;34m\u001b[0m\n\u001b[0;32m----> 1\u001b[0;31m \u001b[0mdfba_model\u001b[0m\u001b[0;34m.\u001b[0m\u001b[0mreactions\u001b[0m\u001b[0;34m.\u001b[0m\u001b[0mEX_progesterone_e\u001b[0m\u001b[0;34m\u001b[0m\u001b[0;34m\u001b[0m\u001b[0m\n\u001b[0m",
      "\u001b[0;32m~/miniconda3/envs/dfba/lib/python3.7/site-packages/cobra/core/dictlist.py\u001b[0m in \u001b[0;36m__getattr__\u001b[0;34m(self, attr)\u001b[0m\n\u001b[1;32m    452\u001b[0m             \u001b[0;32mreturn\u001b[0m \u001b[0mDictList\u001b[0m\u001b[0;34m.\u001b[0m\u001b[0mget_by_id\u001b[0m\u001b[0;34m(\u001b[0m\u001b[0mself\u001b[0m\u001b[0;34m,\u001b[0m \u001b[0mattr\u001b[0m\u001b[0;34m)\u001b[0m\u001b[0;34m\u001b[0m\u001b[0;34m\u001b[0m\u001b[0m\n\u001b[1;32m    453\u001b[0m         \u001b[0;32mexcept\u001b[0m \u001b[0mKeyError\u001b[0m\u001b[0;34m:\u001b[0m\u001b[0;34m\u001b[0m\u001b[0;34m\u001b[0m\u001b[0m\n\u001b[0;32m--> 454\u001b[0;31m             \u001b[0;32mraise\u001b[0m \u001b[0mAttributeError\u001b[0m\u001b[0;34m(\u001b[0m\u001b[0;34m\"DictList has no attribute or entry %s\"\u001b[0m \u001b[0;34m%\u001b[0m \u001b[0mattr\u001b[0m\u001b[0;34m)\u001b[0m\u001b[0;34m\u001b[0m\u001b[0;34m\u001b[0m\u001b[0m\n\u001b[0m\u001b[1;32m    455\u001b[0m \u001b[0;34m\u001b[0m\u001b[0m\n\u001b[1;32m    456\u001b[0m     \u001b[0;32mdef\u001b[0m \u001b[0m__dir__\u001b[0m\u001b[0;34m(\u001b[0m\u001b[0mself\u001b[0m\u001b[0;34m)\u001b[0m\u001b[0;34m:\u001b[0m\u001b[0;34m\u001b[0m\u001b[0;34m\u001b[0m\u001b[0m\n",
      "\u001b[0;31mAttributeError\u001b[0m: DictList has no attribute or entry EX_progesterone_e"
     ]
    }
   ],
   "source": [
    "dfba_model.reactions.EX_progesterone_e"
   ]
  },
  {
   "cell_type": "code",
   "execution_count": 10,
   "metadata": {},
   "outputs": [
    {
     "data": {
      "text/html": [
       "\n",
       "        <table>\n",
       "            <tr>\n",
       "                <td><strong>Reaction identifier</strong></td><td>DM_progesterone_c</td>\n",
       "            </tr><tr>\n",
       "                <td><strong>Name</strong></td><td>progesterone demand</td>\n",
       "            </tr><tr>\n",
       "                <td><strong>Memory address</strong></td>\n",
       "                <td>0x07f457ff68410</td>\n",
       "            </tr><tr>\n",
       "                <td><strong>Stoichiometry</strong></td>\n",
       "                <td>\n",
       "                    <p style='text-align:right'>progesterone_c --></p>\n",
       "                    <p style='text-align:right'>progesterone --></p>\n",
       "                </td>\n",
       "            </tr><tr>\n",
       "                <td><strong>GPR</strong></td><td></td>\n",
       "            </tr><tr>\n",
       "                <td><strong>Lower bound</strong></td><td>0</td>\n",
       "            </tr><tr>\n",
       "                <td><strong>Upper bound</strong></td><td>1000.0</td>\n",
       "            </tr>\n",
       "        </table>\n",
       "        "
      ],
      "text/plain": [
       "<Reaction DM_progesterone_c at 0x7f457ff68410>"
      ]
     },
     "execution_count": 10,
     "metadata": {},
     "output_type": "execute_result"
    }
   ],
   "source": [
    "dfba_model.reactions.DM_progesterone_c"
   ]
  },
  {
   "cell_type": "markdown",
   "metadata": {},
   "source": [
    "## 3. Exchange fluxes\n",
    "\n",
    "Instantiate exchange fluxes to appear in model, with ids corresponding to exchange reactions of the cobrapy model. \n",
    "\n",
    "The last command adds the exchange fluxes to the model"
   ]
  },
  {
   "cell_type": "code",
   "execution_count": 11,
   "metadata": {},
   "outputs": [],
   "source": [
    "mu = ExchangeFlux(\"BIOMASS_SC5_notrace\")  #IS THIS THE CORRECT BIOMASS???\n",
    "v_G = ExchangeFlux(\"EX_glc__D_e\")\n",
    "v_Z = ExchangeFlux(\"EX_xyl__D_e\")\n",
    "v_O = ExchangeFlux(\"EX_o2_e\")\n",
    "v_E = ExchangeFlux(\"EX_etoh_e\")\n",
    "v_P = ExchangeFlux(\"DM_progesterone_c\")\n",
    "\n",
    "#dfba_model.reactions.EX_progesterone_e\n",
    "#dfba_model.reactions.EX_glc__D_e\n",
    "#dfba_model.reactions.DM_progesterone_c\n",
    "\n",
    "dfba_model.add_exchange_fluxes([mu, v_G, v_Z, v_O, v_E, v_P])"
   ]
  },
  {
   "cell_type": "code",
   "execution_count": 80,
   "metadata": {},
   "outputs": [],
   "source": [
    "#dfba_model.reactions.DM_progesterone_c"
   ]
  },
  {
   "cell_type": "markdown",
   "metadata": {},
   "source": [
    "## 4. Rhs expressions\n",
    "Provide symbolic expression for calculating the time derivtive of each kinetic variable currently in the model. \n",
    "\n",
    "See how these correspond to our ODE system:\n",
    "\n",
    "\\begin{align}\n",
    "    \\frac{dX}{dt} &= v_{BM}X \\\\\n",
    "    \\frac{dC_j}{dt} &= v_jX\n",
    "\\end{align}"
   ]
  },
  {
   "cell_type": "code",
   "execution_count": 22,
   "metadata": {},
   "outputs": [],
   "source": [
    "dfba_model.add_rhs_expression(\"Biomass\", mu * X)\n",
    "dfba_model.add_rhs_expression(\"Glucose\", v_G * 180.1559/1000 * X) # v_G [mmol gDW^-1 h^-1] * 0.18 g/mmol * gDW/L\n",
    "dfba_model.add_rhs_expression(\"Xylose\", v_Z * 150.13/1000 * X)\n",
    "dfba_model.add_rhs_expression(\"Oxygen\", 0) # O2 is kept constant\n",
    "dfba_model.add_rhs_expression(\"Ethanol\", v_E * 46.06844/1000 * X)\n",
    "dfba_model.add_rhs_expression(\"Progesterone\", v_P * 2000/1000 * X)    \n",
    "#HVORDAN UDREGNER MAN KINETISK VARIABLE???\n"
   ]
  },
  {
   "cell_type": "markdown",
   "metadata": {},
   "source": [
    "## Lower/upper bound expressions"
   ]
  },
  {
   "cell_type": "code",
   "execution_count": 23,
   "metadata": {},
   "outputs": [],
   "source": [
    "#WHERE DOES THESE NUMBERS COME FROM????\n",
    "\n",
    "vmax_o2 = 15 # [mmol gDW^-1 h^-1]\n",
    "Ko = 0.024 # mmol/L O2 Michaelis-Mentent constant\n",
    "dfba_model.add_exchange_flux_lb(\"EX_o2_e\", vmax_o2 * (Oxy / (Ko + Oxy)), Oxy)"
   ]
  },
  {
   "cell_type": "code",
   "execution_count": 24,
   "metadata": {},
   "outputs": [],
   "source": [
    "vmax_glc = 10.5 # [mmol gDW^-1 h^-1]\n",
    "Kg = 0.0027 # g/L Glucose Michaelis-Mentent constant\n",
    "Kie = 20 # g/L Ethanol inhibition constant\n",
    "dfba_model.add_exchange_flux_lb(\n",
    "    \"EX_glc__D_e\",\n",
    "    vmax_glc * (Gluc / (Kg + Gluc)) * (1 / (1 + Eth / Kie)),\n",
    "    Gluc\n",
    ")"
   ]
  },
  {
   "cell_type": "code",
   "execution_count": 25,
   "metadata": {},
   "outputs": [],
   "source": [
    "vmax_xyl = 6 # [mmol gDW^-1 h^-1]\n",
    "Kz = 0.0165 # g/L Glucose Michaelis-Mentent constant\n",
    "Kie = 20 # g/L Ethanol inhibition constant\n",
    "Kig = 0.005 # g/L Glucose inhibition constant\n",
    "dfba_model.add_exchange_flux_lb(\n",
    "    \"EX_xyl__D_e\",\n",
    "    vmax_xyl * (Xyl / (0.0165 + Xyl)) * (1 / (1 + Eth / Kie)) * (1 / (1 + Gluc / 0.005)),\n",
    "    Xyl,\n",
    ")"
   ]
  },
  {
   "cell_type": "markdown",
   "metadata": {},
   "source": [
    "## 6. Add initial conditions to the model and launch the simulation\n",
    "\n",
    "Initial values for each kinetic variable are provided in dictionary form. \n",
    "\n",
    "The model is simulated using the `simulate` method. This simulation covers the interval $[0.0, 25.0]$ hours, with results stored every $0.1$ hours. Results (trajectories of kinetic variables) will be returned as [pandas.DataFrame](https://pandas.pydata.org/). Optionally, the user can also provide a list of reaction ids whose flux trajectories will also be returned as a separate [pandas.DataFrame](https://pandas.pydata.org/), in this case three exchange fluxes in the model."
   ]
  },
  {
   "cell_type": "code",
   "execution_count": 26,
   "metadata": {},
   "outputs": [],
   "source": [
    "dfba_model.add_initial_conditions(\n",
    "    {\n",
    "        \"Biomass\": 0.01, # (gDW/L)\n",
    "        \"Glucose\": 30.0, # (g/L)\n",
    "        \"Xylose\": 8.0,   # (g/L)\n",
    "        \"Oxygen\": 1.0,  # (mmol/L)\n",
    "        \"Ethanol\": 0.0,  # (g/L)\n",
    "        \"Progesterone\": 0.0, #g/L ???\n",
    "    }\n",
    ")\n",
    "\n",
    "#dfba_model.reactions.DM_progesterone_c"
   ]
  },
  {
   "cell_type": "markdown",
   "metadata": {},
   "source": [
    "The model is simulated using the `simulate` method. This simulation covers the interval $[0.0, 25.0]$ hours, with results stored every $0.1$ hours (written as dfba_model.simulate(0.0, 25.0, 0.1), )."
   ]
  },
  {
   "cell_type": "code",
   "execution_count": 27,
   "metadata": {},
   "outputs": [
    {
     "name": "stderr",
     "output_type": "stream",
     "text": [
      "cc1plus: warning: command line option '-Wstrict-prototypes' is valid for C/ObjC but not for C++\n"
     ]
    },
    {
     "name": "stdout",
     "output_type": "stream",
     "text": [
      "\n",
      "\n",
      "Final Run Statistics: \n",
      "\n",
      "Number of steps                    = 52\n",
      "Number of residual evaluations     = 212\n",
      "Number of Jacobian evaluations     = 37\n",
      "Number of nonlinear iterations     = 104\n",
      "Number of error test failures      = 16\n",
      "Number of nonlinear conv. failures = 1\n",
      "Number of root fn. evaluations     = 17745\n",
      "\n",
      "\n",
      "Final Run Statistics: \n",
      "\n",
      "Number of steps                    = 8\n",
      "Number of residual evaluations     = 16\n",
      "Number of Jacobian evaluations     = 6\n",
      "Number of nonlinear iterations     = 8\n",
      "Number of error test failures      = 0\n",
      "Number of nonlinear conv. failures = 0\n",
      "Number of root fn. evaluations     = 18\n",
      "\n",
      "\n",
      "Final Run Statistics: \n",
      "\n",
      "Number of steps                    = 23\n",
      "Number of residual evaluations     = 62\n",
      "Number of Jacobian evaluations     = 15\n",
      "Number of nonlinear iterations     = 31\n",
      "Number of error test failures      = 1\n",
      "Number of nonlinear conv. failures = 0\n",
      "Number of root fn. evaluations     = 42\n",
      "\n",
      "\n",
      "Final Run Statistics: \n",
      "\n",
      "Number of steps                    = 16\n",
      "Number of residual evaluations     = 42\n",
      "Number of Jacobian evaluations     = 10\n",
      "Number of nonlinear iterations     = 21\n",
      "Number of error test failures      = 1\n",
      "Number of nonlinear conv. failures = 0\n",
      "Number of root fn. evaluations     = 29\n",
      "\n",
      "\n",
      "Final Run Statistics: \n",
      "\n",
      "Number of steps                    = 1\n",
      "Number of residual evaluations     = 4\n",
      "Number of Jacobian evaluations     = 1\n",
      "Number of nonlinear iterations     = 2\n",
      "Number of error test failures      = 0\n",
      "Number of nonlinear conv. failures = 0\n",
      "Number of root fn. evaluations     = 8\n",
      "\n",
      "\n",
      "Final Run Statistics: \n",
      "\n",
      "Number of steps                    = 1\n",
      "Number of residual evaluations     = 4\n",
      "Number of Jacobian evaluations     = 1\n",
      "Number of nonlinear iterations     = 2\n",
      "Number of error test failures      = 0\n",
      "Number of nonlinear conv. failures = 0\n",
      "Number of root fn. evaluations     = 7\n",
      "\n",
      "\n",
      "Final Run Statistics: \n",
      "\n",
      "Number of steps                    = 1\n",
      "Number of residual evaluations     = 4\n",
      "Number of Jacobian evaluations     = 1\n",
      "Number of nonlinear iterations     = 2\n",
      "Number of error test failures      = 0\n",
      "Number of nonlinear conv. failures = 0\n",
      "Number of root fn. evaluations     = 10\n",
      "\n",
      "\n",
      "Final Run Statistics: \n",
      "\n",
      "Number of steps                    = 1\n",
      "Number of residual evaluations     = 4\n",
      "Number of Jacobian evaluations     = 1\n",
      "Number of nonlinear iterations     = 2\n",
      "Number of error test failures      = 0\n",
      "Number of nonlinear conv. failures = 0\n",
      "Number of root fn. evaluations     = 9\n",
      "\n",
      "\n",
      "Final Run Statistics: \n",
      "\n",
      "Number of steps                    = 1\n",
      "Number of residual evaluations     = 4\n",
      "Number of Jacobian evaluations     = 1\n",
      "Number of nonlinear iterations     = 2\n",
      "Number of error test failures      = 0\n",
      "Number of nonlinear conv. failures = 0\n",
      "Number of root fn. evaluations     = 10\n",
      "\n",
      "\n",
      "Final Run Statistics: \n",
      "\n",
      "Number of steps                    = 9\n",
      "Number of residual evaluations     = 22\n",
      "Number of Jacobian evaluations     = 7\n",
      "Number of nonlinear iterations     = 11\n",
      "Number of error test failures      = 0\n",
      "Number of nonlinear conv. failures = 0\n",
      "Number of root fn. evaluations     = 17\n",
      "\n",
      "\n",
      "Final Run Statistics: \n",
      "\n",
      "Number of steps                    = 15\n",
      "Number of residual evaluations     = 36\n",
      "Number of Jacobian evaluations     = 9\n",
      "Number of nonlinear iterations     = 18\n",
      "Number of error test failures      = 0\n",
      "Number of nonlinear conv. failures = 0\n",
      "Number of root fn. evaluations     = 27\n",
      "\n",
      "\n",
      "Final Run Statistics: \n",
      "\n",
      "Number of steps                    = 140\n",
      "Number of residual evaluations     = 538\n",
      "Number of Jacobian evaluations     = 79\n",
      "Number of nonlinear iterations     = 269\n",
      "Number of error test failures      = 10\n",
      "Number of nonlinear conv. failures = 12\n",
      "Number of root fn. evaluations     = 11114\n",
      "\n",
      "\n",
      "Final Run Statistics: \n",
      "\n",
      "Number of steps                    = 20\n",
      "Number of residual evaluations     = 48\n",
      "Number of Jacobian evaluations     = 13\n",
      "Number of nonlinear iterations     = 24\n",
      "Number of error test failures      = 0\n",
      "Number of nonlinear conv. failures = 0\n",
      "Number of root fn. evaluations     = 52\n",
      "\n",
      "\n",
      "Final Run Statistics: \n",
      "\n",
      "Number of steps                    = 7\n",
      "Number of residual evaluations     = 14\n",
      "Number of Jacobian evaluations     = 5\n",
      "Number of nonlinear iterations     = 7\n",
      "Number of error test failures      = 0\n",
      "Number of nonlinear conv. failures = 0\n",
      "Number of root fn. evaluations     = 16\n",
      "\n",
      "\n",
      "Final Run Statistics: \n",
      "\n",
      "Number of steps                    = 18\n",
      "Number of residual evaluations     = 38\n",
      "Number of Jacobian evaluations     = 15\n",
      "Number of nonlinear iterations     = 19\n",
      "Number of error test failures      = 0\n",
      "Number of nonlinear conv. failures = 0\n",
      "Number of root fn. evaluations     = 34\n",
      "\n",
      "\n",
      "Final Run Statistics: \n",
      "\n",
      "Number of steps                    = 15\n",
      "Number of residual evaluations     = 32\n",
      "Number of Jacobian evaluations     = 13\n",
      "Number of nonlinear iterations     = 16\n",
      "Number of error test failures      = 0\n",
      "Number of nonlinear conv. failures = 0\n",
      "Number of root fn. evaluations     = 29\n",
      "\n",
      "Basis not feasible with primal status 4\n",
      "\n",
      "Final Run Statistics: \n",
      "\n",
      "Number of steps                    = 15\n",
      "Number of residual evaluations     = 32\n",
      "Number of Jacobian evaluations     = 13\n",
      "Number of nonlinear iterations     = 16\n",
      "Number of error test failures      = 0\n",
      "Number of nonlinear conv. failures = 0\n",
      "Number of root fn. evaluations     = 29\n",
      "\n",
      "Total simulation time was 15.5937 seconds\n",
      "\n"
     ]
    }
   ],
   "source": [
    "concentrations, trajectories = dfba_model.simulate(0.0, 3000.0, 0.1, [\"EX_glc__D_e\", \"EX_xyl__D_e\", \"EX_o2_e\", \"DM_progesterone_c\"])"
   ]
  },
  {
   "cell_type": "markdown",
   "metadata": {},
   "source": [
    "## 7. Plotting the results"
   ]
  },
  {
   "cell_type": "code",
   "execution_count": 18,
   "metadata": {},
   "outputs": [
    {
     "data": {
      "image/png": "[encoded data removed]",
      "text/plain": [
       "<Figure size 640x480 with 2 Axes>"
      ]
     },
     "metadata": {},
     "output_type": "display_data"
    }
   ],
   "source": [
    "plot_concentrations(concentrations)"
   ]
  },
  {
   "cell_type": "code",
   "execution_count": 118,
   "metadata": {},
   "outputs": [
    {
     "name": "stdout",
     "output_type": "stream",
     "text": [
      "\u001b[0;31mSignature:\u001b[0m\n",
      "\u001b[0mplot_concentrations\u001b[0m\u001b[0;34m(\u001b[0m\u001b[0;34m\u001b[0m\n",
      "\u001b[0;34m\u001b[0m    \u001b[0mresults\u001b[0m\u001b[0;34m:\u001b[0m \u001b[0mpandas\u001b[0m\u001b[0;34m.\u001b[0m\u001b[0mcore\u001b[0m\u001b[0;34m.\u001b[0m\u001b[0mframe\u001b[0m\u001b[0;34m.\u001b[0m\u001b[0mDataFrame\u001b[0m\u001b[0;34m,\u001b[0m\u001b[0;34m\u001b[0m\n",
      "\u001b[0;34m\u001b[0m    \u001b[0mmetabolites\u001b[0m\u001b[0;34m:\u001b[0m \u001b[0mUnion\u001b[0m\u001b[0;34m[\u001b[0m\u001b[0mList\u001b[0m\u001b[0;34m[\u001b[0m\u001b[0mstr\u001b[0m\u001b[0;34m]\u001b[0m\u001b[0;34m,\u001b[0m \u001b[0mNoneType\u001b[0m\u001b[0;34m]\u001b[0m \u001b[0;34m=\u001b[0m \u001b[0;32mNone\u001b[0m\u001b[0;34m,\u001b[0m\u001b[0;34m\u001b[0m\n",
      "\u001b[0;34m\u001b[0m    \u001b[0mbiomass\u001b[0m\u001b[0;34m:\u001b[0m \u001b[0mstr\u001b[0m \u001b[0;34m=\u001b[0m \u001b[0;34m'Biomass'\u001b[0m\u001b[0;34m,\u001b[0m\u001b[0;34m\u001b[0m\n",
      "\u001b[0;34m\u001b[0m    \u001b[0mtime\u001b[0m\u001b[0;34m:\u001b[0m \u001b[0mstr\u001b[0m \u001b[0;34m=\u001b[0m \u001b[0;34m'time'\u001b[0m\u001b[0;34m,\u001b[0m\u001b[0;34m\u001b[0m\n",
      "\u001b[0;34m\u001b[0m    \u001b[0mlabels\u001b[0m\u001b[0;34m:\u001b[0m \u001b[0mUnion\u001b[0m\u001b[0;34m[\u001b[0m\u001b[0mDict\u001b[0m\u001b[0;34m[\u001b[0m\u001b[0mstr\u001b[0m\u001b[0;34m,\u001b[0m \u001b[0mstr\u001b[0m\u001b[0;34m]\u001b[0m\u001b[0;34m,\u001b[0m \u001b[0mNoneType\u001b[0m\u001b[0;34m]\u001b[0m \u001b[0;34m=\u001b[0m \u001b[0;32mNone\u001b[0m\u001b[0;34m,\u001b[0m\u001b[0;34m\u001b[0m\n",
      "\u001b[0;34m\u001b[0m    \u001b[0mx_axis_title\u001b[0m\u001b[0;34m:\u001b[0m \u001b[0mstr\u001b[0m \u001b[0;34m=\u001b[0m \u001b[0;34m'Time $\\\\left[ \\\\mathrm{h} \\\\right]$'\u001b[0m\u001b[0;34m,\u001b[0m\u001b[0;34m\u001b[0m\n",
      "\u001b[0;34m\u001b[0m    \u001b[0mleft_y_axis_title\u001b[0m\u001b[0;34m:\u001b[0m \u001b[0mstr\u001b[0m \u001b[0;34m=\u001b[0m \u001b[0;34m'Biomass $\\\\left[ \\\\mathrm{g} \\\\, \\\\mathrm{L}^{-1} \\\\right]$'\u001b[0m\u001b[0;34m,\u001b[0m\u001b[0;34m\u001b[0m\n",
      "\u001b[0;34m\u001b[0m    \u001b[0mright_y_axis_title\u001b[0m\u001b[0;34m:\u001b[0m \u001b[0mstr\u001b[0m \u001b[0;34m=\u001b[0m \u001b[0;34m'Metabolites $\\\\left[ \\\\mathrm{mmol} \\\\, \\\\mathrm{L}^{-1} \\\\right]$'\u001b[0m\u001b[0;34m,\u001b[0m\u001b[0;34m\u001b[0m\n",
      "\u001b[0;34m\u001b[0m\u001b[0;34m)\u001b[0m \u001b[0;34m->\u001b[0m \u001b[0;32mNone\u001b[0m\u001b[0;34m\u001b[0m\u001b[0;34m\u001b[0m\u001b[0m\n",
      "\u001b[0;31mDocstring:\u001b[0m\n",
      "Plot the concentration results of a dynamic FBA simulation.\n",
      "\n",
      "The resulting plot can be further customized using ``matplotlib.pyplot``.\n",
      "\n",
      "Parameters\n",
      "----------\n",
      "results : pandas.DataFrame\n",
      "    The concentration results of a simulation.\n",
      "metabolites : list of strings, optional\n",
      "    The names of the metabolites in the data frame (default: all columns\n",
      "    except for time and biomass).\n",
      "biomass : str, optional\n",
      "    The name of biomass in the results (default \"Biomass\").\n",
      "time : str, optional\n",
      "    The name of the time column in the results (default \"time\").\n",
      "labels : dict, optional\n",
      "    A mapping from columns names to legend labels (default is the same).\n",
      "x_axis_title : str, optional\n",
      "    The axis title for the horizontal axis (default time).\n",
      "left_y_axis_title : str, optional\n",
      "    The left vertical axis title (default biomass).\n",
      "right_y_axis_title : str, optional\n",
      "    The right vertical axis title (default metabolite concentration).\n",
      "\u001b[0;31mFile:\u001b[0m      ~/miniconda3/envs/dfba/lib/python3.7/site-packages/dfba/plot/matplotlib.py\n",
      "\u001b[0;31mType:\u001b[0m      function\n"
     ]
    }
   ],
   "source": [
    "?plot_concentrations"
   ]
  },
  {
   "cell_type": "code",
   "execution_count": 20,
   "metadata": {},
   "outputs": [
    {
     "data": {
      "image/png": "[encoded data removed]",
      "text/plain": [
       "<Figure size 640x480 with 1 Axes>"
      ]
     },
     "metadata": {},
     "output_type": "display_data"
    }
   ],
   "source": [
    "plot_trajectories(trajectories)"
   ]
  },
  {
   "cell_type": "markdown",
   "metadata": {},
   "source": []
  }
 ],
 "metadata": {
  "kernelspec": {
   "display_name": "Python 3.7.15 ('dfba')",
   "language": "python",
   "name": "python3"
  },
  "language_info": {
   "codemirror_mode": {
    "name": "ipython",
    "version": 3
   },
   "file_extension": ".py",
   "mimetype": "text/x-python",
   "name": "python",
   "nbconvert_exporter": "python",
   "pygments_lexer": "ipython3",
   "version": "3.7.15"
  },
  "orig_nbformat": 4,
  "vscode": {
   "interpreter": {
    "hash": "42a0797e525a8ae3ad7e804c95ca6b98bbcaff3906d674ada8ed94b80acfad2f"
   }
  }
 },
 "nbformat": 4,
 "nbformat_minor": 2
}
