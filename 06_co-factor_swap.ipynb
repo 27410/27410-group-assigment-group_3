{
 "cells": [
  {
   "cell_type": "markdown",
   "metadata": {},
   "source": [
    "# Co-factor swap"
   ]
  },
  {
   "cell_type": "markdown",
   "metadata": {},
   "source": [
    "<!-- The balance of co-factors within the cells is important \n",
    "In the implementated pathway of progesterone nine NADP and one NAD molecules \n",
    "In order for the cell to produce one pregesterone molecule through the implementated pathway nine NADPH molecules and one NAD $^+$ molecules are needed. \n",
    " -->\n",
    "\n",
    "\n",
    "\n",
    "The balance of co-factors within a cell is important to obtain a high theoretical yield of a given product (King, Zachary A., and Adam M. Feist, 2014). The NADP(H) and NAD(H) co-factors are needed in order for a cell to produce progesterone through the implemented pathway. Therefore, by increasing the concentration of available NADP(H) and NAD(H) co-factors in the cell, it should be theoretically possible to increase the yield of progesterone. \n",
    "This can be done using the “CofactorSwapOptimization” algorithm where possible target reactions to swap co-factors can be found.\n",
    "The obvious choice would be to increase available NAD(H) and NADP(H) on the cost of FAD(H2). However, no FADH2 in the cytosol is included in the model which makes this approach impossible. Therefore, we instead used the algorithm to increase the concentration of available NADP(H) on the cost of NAD(H). Since nine NADP(H) and only one NAD(H) are used in the implemented pathway, this approach should also theoretically increase the yield of progesterone.\n",
    "\n",
    "In the code the following was done:\n",
    "- Model iMM904_progesterone was loaded\n",
    "- A demand for progesterone was made \n",
    "- The objective was set to maximize the production of progesterone\n",
    "- The theoretical yield was set to production of progesterone divided by the optake of glucose\n",
    "- The algorithm was run and the result was visualized"
   ]
  },
  {
   "cell_type": "code",
   "execution_count": 455,
   "metadata": {},
   "outputs": [],
   "source": [
    "# Load libraries\n",
    "import numpy as np\n",
    "from cobra.io import read_sbml_model, write_sbml_model\n",
    "from cobra.util import create_stoichiometric_matrix\n",
    "from cobra import Reaction, Metabolite\n",
    "from cobra.core.gene import GPR\n",
    "from cameo.strain_design.heuristic.evolutionary_based import CofactorSwapOptimization\n",
    "from cameo.strain_design.heuristic.evolutionary.optimization import CofactorSwapOptimization\n",
    "from cameo.strain_design.heuristic.evolutionary.objective_functions import product_yield, biomass_product_coupled_yield\n",
    "from cameo.util import TimeMachine\n",
    "from cameo.flux_analysis.analysis import flux_variability_analysis as fva\n",
    "from cameo import load_model"
   ]
  },
  {
   "cell_type": "code",
   "execution_count": 456,
   "metadata": {},
   "outputs": [
    {
     "name": "stdout",
     "output_type": "stream",
     "text": [
      "Loading models/iMM904_progesterone.xml\n"
     ]
    }
   ],
   "source": [
    "# Loading model\n",
    "infilename = 'models/iMM904_progesterone.xml'\n",
    "print(f\"Loading {infilename}\")\n",
    "model = load_model(infilename)"
   ]
  },
  {
   "cell_type": "code",
   "execution_count": 457,
   "metadata": {},
   "outputs": [
    {
     "name": "stdout",
     "output_type": "stream",
     "text": [
      "Adding reaction progesterone demand: progesterone_c --> \n"
     ]
    }
   ],
   "source": [
    "# Add demand reaction for progesterone\n",
    "model.add_boundary(model.metabolites.get_by_id('progesterone_c'), type='demand')\n",
    "print(f'Adding reaction {model.reactions.DM_progesterone_c.name}: {model.reactions.DM_progesterone_c.reaction}')"
   ]
  },
  {
   "cell_type": "code",
   "execution_count": 458,
   "metadata": {},
   "outputs": [
    {
     "name": "stdout",
     "output_type": "stream",
     "text": [
      "Objective set to maximize R02216: nad_c + pregnenolone_c <=> h_c + nadh_c + progesterone_c\n"
     ]
    }
   ],
   "source": [
    "# Choose the reaction that produced progesterone as the objective.\n",
    "objective_reaction = model.reactions.R02216\n",
    "model.objective = objective_reaction\n",
    "print(f'Objective set to maximize {objective_reaction.id}: {objective_reaction.reaction}')"
   ]
  },
  {
   "cell_type": "code",
   "execution_count": 459,
   "metadata": {},
   "outputs": [
    {
     "data": {
      "text/latex": [
       "$$yield = \\frac{R02216}{EX\\_glc\\_\\_D\\_e}$$"
      ],
      "text/plain": [
       "<cameo.strain_design.heuristic.evolutionary.objective_functions.product_yield at 0x7f5c3016ae20>"
      ]
     },
     "execution_count": 459,
     "metadata": {},
     "output_type": "execute_result"
    }
   ],
   "source": [
    "# Setting the progesterone yield as the formation of progesterone divided by the optake of glucose\n",
    "py = product_yield(model.reactions.R02216, model.exchanges.EX_glc__D_e)\n",
    "py"
   ]
  },
  {
   "cell_type": "code",
   "execution_count": 460,
   "metadata": {},
   "outputs": [
    {
     "name": "stdout",
     "output_type": "stream",
     "text": [
      "Co-factor swap optimization of the model iMM904_progesterone used to increase available nadp_c and nadph_c on the cost of nad_c and nadh_c\n",
      "Starting optimization at Wed, 23 Nov 2022 15:00:13\n"
     ]
    },
    {
     "data": {
      "application/vnd.jupyter.widget-view+json": {
       "model_id": "1c37c659ebfc49f8ba1815fcd7721ef5",
       "version_major": 2,
       "version_minor": 0
      },
      "text/plain": [
       "HBox()"
      ]
     },
     "metadata": {},
     "output_type": "display_data"
    },
    {
     "name": "stdout",
     "output_type": "stream",
     "text": [
      "Finished after 00:03:52\n"
     ]
    }
   ],
   "source": [
    "# Running the CofactorSwapOptimization Algorithm\n",
    "# Find reactions that all have the targeted co-factor pairs and add reactions that have the co-factors swapped.\n",
    "swap = CofactorSwapOptimization(model=model, cofactor_id_swaps=([\"nadp_c\",\"nadph_c\"],[\"nad_c\",\"nadh_c\"]),objective_function=py)\n",
    "print(f'Co-factor swap optimization of the model {model.id} used to increase available {swap._metadata[\"swap_pairs\"][0][0]} and {swap._metadata[\"swap_pairs\"][0][1]} on the cost of {swap._metadata[\"swap_pairs\"][1][0]} and {swap._metadata[\"swap_pairs\"][1][1]}')\n",
    "solution_1 = swap.run(max_size = 10)"
   ]
  },
  {
   "cell_type": "code",
   "execution_count": 461,
   "metadata": {},
   "outputs": [
    {
     "data": {
      "text/html": [
       "\n",
       "        <h4>Result:</h4>\n",
       "        <ul>\n",
       "            <li>model: iMM904_progesterone</li>\n",
       "            <li>heuristic: GA</li>\n",
       "            <li>objective function: $$yield = \\frac{R02216}{EX\\_glc\\_\\_D\\_e}$$</li>\n",
       "            <li>simulation method: pfba</li>\n",
       "            <li>target type: cofactor-swap</li>\n",
       "        <ul>\n",
       "        <div>\n",
       "<style scoped>\n",
       "    .dataframe tbody tr th:only-of-type {\n",
       "        vertical-align: middle;\n",
       "    }\n",
       "\n",
       "    .dataframe tbody tr th {\n",
       "        vertical-align: top;\n",
       "    }\n",
       "\n",
       "    .dataframe thead th {\n",
       "        text-align: right;\n",
       "    }\n",
       "</style>\n",
       "<table border=\"1\" class=\"dataframe\">\n",
       "  <thead>\n",
       "    <tr style=\"text-align: right;\">\n",
       "      <th></th>\n",
       "      <th>index</th>\n",
       "      <th>targets</th>\n",
       "      <th>fitness</th>\n",
       "    </tr>\n",
       "  </thead>\n",
       "  <tbody>\n",
       "    <tr>\n",
       "      <th>0</th>\n",
       "      <td>0</td>\n",
       "      <td>(GAPD,)</td>\n",
       "      <td>0.323077</td>\n",
       "    </tr>\n",
       "    <tr>\n",
       "      <th>1</th>\n",
       "      <td>1</td>\n",
       "      <td>(ALCD2x_copy1,)</td>\n",
       "      <td>0.323077</td>\n",
       "    </tr>\n",
       "    <tr>\n",
       "      <th>2</th>\n",
       "      <td>2</td>\n",
       "      <td>(MTHFD, MTHFD2i)</td>\n",
       "      <td>0.323077</td>\n",
       "    </tr>\n",
       "    <tr>\n",
       "      <th>3</th>\n",
       "      <td>4</td>\n",
       "      <td>(MDH, HMGCOAR)</td>\n",
       "      <td>0.323077</td>\n",
       "    </tr>\n",
       "    <tr>\n",
       "      <th>4</th>\n",
       "      <td>8</td>\n",
       "      <td>(ALCD2x_copy2,)</td>\n",
       "      <td>0.323077</td>\n",
       "    </tr>\n",
       "    <tr>\n",
       "      <th>5</th>\n",
       "      <td>13</td>\n",
       "      <td>(MDH, C3STDH2, R01456)</td>\n",
       "      <td>0.262500</td>\n",
       "    </tr>\n",
       "    <tr>\n",
       "      <th>6</th>\n",
       "      <td>14</td>\n",
       "      <td>(MDH, C3STDH2, C3STKR1)</td>\n",
       "      <td>0.262500</td>\n",
       "    </tr>\n",
       "    <tr>\n",
       "      <th>7</th>\n",
       "      <td>15</td>\n",
       "      <td>(HMGCOAR,)</td>\n",
       "      <td>0.253012</td>\n",
       "    </tr>\n",
       "    <tr>\n",
       "      <th>8</th>\n",
       "      <td>17</td>\n",
       "      <td>(MDH,)</td>\n",
       "      <td>0.253012</td>\n",
       "    </tr>\n",
       "    <tr>\n",
       "      <th>9</th>\n",
       "      <td>23</td>\n",
       "      <td>(SQLS, ECYP11A1, C3STKR2, C3STDH2)</td>\n",
       "      <td>0.240000</td>\n",
       "    </tr>\n",
       "    <tr>\n",
       "      <th>10</th>\n",
       "      <td>24</td>\n",
       "      <td>(SQLS, ECYP11A1)</td>\n",
       "      <td>0.232044</td>\n",
       "    </tr>\n",
       "    <tr>\n",
       "      <th>11</th>\n",
       "      <td>25</td>\n",
       "      <td>(ECYP11A1,)</td>\n",
       "      <td>0.228261</td>\n",
       "    </tr>\n",
       "    <tr>\n",
       "      <th>12</th>\n",
       "      <td>26</td>\n",
       "      <td>(C4STMO2, R02216, SQLS)</td>\n",
       "      <td>0.224599</td>\n",
       "    </tr>\n",
       "    <tr>\n",
       "      <th>13</th>\n",
       "      <td>27</td>\n",
       "      <td>(SQLS, C4STMO1)</td>\n",
       "      <td>0.221052</td>\n",
       "    </tr>\n",
       "    <tr>\n",
       "      <th>14</th>\n",
       "      <td>28</td>\n",
       "      <td>(C3STDH2, C4STMO1)</td>\n",
       "      <td>0.221052</td>\n",
       "    </tr>\n",
       "    <tr>\n",
       "      <th>15</th>\n",
       "      <td>29</td>\n",
       "      <td>(C4STMO2,)</td>\n",
       "      <td>0.217616</td>\n",
       "    </tr>\n",
       "    <tr>\n",
       "      <th>16</th>\n",
       "      <td>32</td>\n",
       "      <td>(C4STMO1,)</td>\n",
       "      <td>0.217616</td>\n",
       "    </tr>\n",
       "    <tr>\n",
       "      <th>17</th>\n",
       "      <td>33</td>\n",
       "      <td>(SQLS, R05703, C14STR)</td>\n",
       "      <td>0.217616</td>\n",
       "    </tr>\n",
       "    <tr>\n",
       "      <th>18</th>\n",
       "      <td>35</td>\n",
       "      <td>(R05703, R01456)</td>\n",
       "      <td>0.214286</td>\n",
       "    </tr>\n",
       "    <tr>\n",
       "      <th>19</th>\n",
       "      <td>36</td>\n",
       "      <td>(SQLS, R05703)</td>\n",
       "      <td>0.214286</td>\n",
       "    </tr>\n",
       "    <tr>\n",
       "      <th>20</th>\n",
       "      <td>37</td>\n",
       "      <td>(R07498, SQLS)</td>\n",
       "      <td>0.214286</td>\n",
       "    </tr>\n",
       "    <tr>\n",
       "      <th>21</th>\n",
       "      <td>38</td>\n",
       "      <td>(C3STKR1,)</td>\n",
       "      <td>0.211055</td>\n",
       "    </tr>\n",
       "    <tr>\n",
       "      <th>22</th>\n",
       "      <td>39</td>\n",
       "      <td>(R07215,)</td>\n",
       "      <td>0.211055</td>\n",
       "    </tr>\n",
       "    <tr>\n",
       "      <th>23</th>\n",
       "      <td>41</td>\n",
       "      <td>(R07498,)</td>\n",
       "      <td>0.211055</td>\n",
       "    </tr>\n",
       "    <tr>\n",
       "      <th>24</th>\n",
       "      <td>42</td>\n",
       "      <td>(R01456,)</td>\n",
       "      <td>0.211055</td>\n",
       "    </tr>\n",
       "    <tr>\n",
       "      <th>25</th>\n",
       "      <td>43</td>\n",
       "      <td>(C3STDH2,)</td>\n",
       "      <td>0.211055</td>\n",
       "    </tr>\n",
       "    <tr>\n",
       "      <th>26</th>\n",
       "      <td>44</td>\n",
       "      <td>(C3STDH1,)</td>\n",
       "      <td>0.211055</td>\n",
       "    </tr>\n",
       "    <tr>\n",
       "      <th>27</th>\n",
       "      <td>50</td>\n",
       "      <td>(R02216,)</td>\n",
       "      <td>0.211055</td>\n",
       "    </tr>\n",
       "  </tbody>\n",
       "</table>\n",
       "</div>"
      ],
      "text/plain": [
       "<cameo.strain_design.heuristic.evolutionary.optimization.TargetOptimizationResult at 0x7f5c1fc56b80>"
      ]
     },
     "execution_count": 461,
     "metadata": {},
     "output_type": "execute_result"
    }
   ],
   "source": [
    "# Printing results\n",
    "solution_1"
   ]
  },
  {
   "cell_type": "markdown",
   "metadata": {},
   "source": [
    "The reactions listed above can be used as targets for co-factor swapping to increase the theoretical yield of progesterone. The reaction with the highest fitness is GAPD which corospond with finding by King, Zachary A. and Adam M. Feist. This gene was therefore investigated further: "
   ]
  },
  {
   "cell_type": "code",
   "execution_count": 462,
   "metadata": {},
   "outputs": [
    {
     "data": {
      "text/html": [
       "\n",
       "        <table>\n",
       "            <tr>\n",
       "                <td><strong>Reaction identifier</strong></td><td>GAPD</td>\n",
       "            </tr><tr>\n",
       "                <td><strong>Name</strong></td><td>Glyceraldehyde-3-phosphate dehydrogenase</td>\n",
       "            </tr><tr>\n",
       "                <td><strong>Memory address</strong></td>\n",
       "                <td>0x07f5c219fd3a0</td>\n",
       "            </tr><tr>\n",
       "                <td><strong>Stoichiometry</strong></td>\n",
       "                <td>\n",
       "                    <p style='text-align:right'>g3p_c + nad_c + pi_c <=> 13dpg_c + h_c + nadh_c</p>\n",
       "                    <p style='text-align:right'>Glyceraldehyde 3-phosphate + Nicotinamide adenine dinucleotide + Phosphate <=> 3-Phospho-D-glyceroyl phosphate + H+ + Nicotinamide adenine dinucleotide - reduced</p>\n",
       "                </td>\n",
       "            </tr><tr>\n",
       "                <td><strong>GPR</strong></td><td>YJL052W or YJR009C or YGR192C</td>\n",
       "            </tr><tr>\n",
       "                <td><strong>Lower bound</strong></td><td>-999999.0</td>\n",
       "            </tr><tr>\n",
       "                <td><strong>Upper bound</strong></td><td>999999.0</td>\n",
       "            </tr>\n",
       "        </table>\n",
       "        "
      ],
      "text/plain": [
       "<Reaction GAPD at 0x7f5c219fd3a0>"
      ]
     },
     "execution_count": 462,
     "metadata": {},
     "output_type": "execute_result"
    }
   ],
   "source": [
    "# Stats of the GAPD reaction\n",
    "model.reactions.GAPD"
   ]
  },
  {
   "cell_type": "markdown",
   "metadata": {},
   "source": [
    "NAP(+) is converted into NADH in the GAPD reaction, however, by swapping the co-factor into NADP(H) it should be possible to get a higher concentration of available NADPH in the cell and thereby increasing the yield of progesterone. As seen above three genes in the model are able to make the GAPD. Thus, to be able to make co-factor swapping these genes have to be knocked out and a NADP(+) dependent GAPD needs to be implemented in the model. This is done in the following code: "
   ]
  },
  {
   "cell_type": "code",
   "execution_count": 463,
   "metadata": {},
   "outputs": [
    {
     "name": "stdout",
     "output_type": "stream",
     "text": [
      "Loading models/iMM904_progesterone.xml\n"
     ]
    }
   ],
   "source": [
    "# Loading model\n",
    "infilename = 'models/iMM904_progesterone.xml'\n",
    "print(f\"Loading {infilename}\")\n",
    "model = load_model(infilename)"
   ]
  },
  {
   "cell_type": "code",
   "execution_count": 464,
   "metadata": {},
   "outputs": [
    {
     "name": "stdout",
     "output_type": "stream",
     "text": [
      "Model iMM904_progesterone_coswap were made as a copy of iMM904_progesterone\n",
      "For model iMM904_progesterone_coswap:\n",
      "YJL052W were knocked out\n",
      "YJR009C were knocked out\n",
      "YGR192C were knocked out\n"
     ]
    }
   ],
   "source": [
    "# Knock out of GAPD genes\n",
    "KOs = [\"YJL052W\",\"YJR009C\",\"YGR192C\"]\n",
    "model_coswap = model.copy()\n",
    "model_coswap.id = \"iMM904_progesterone_coswap\"\n",
    "print(f\"Model {model_coswap.id} were made as a copy of {model.id}\")\n",
    "print(f\"For model {model_coswap.id}:\")\n",
    "for KO in KOs:\n",
    "    model_coswap.genes.get_by_id(KO).knock_out()\n",
    "    print(f\"{KO} were knocked out\")"
   ]
  },
  {
   "cell_type": "code",
   "execution_count": 465,
   "metadata": {},
   "outputs": [
    {
     "name": "stdout",
     "output_type": "stream",
     "text": [
      "For model iMM904_progesterone_coswap:\n",
      "Adding reaction R01063: g3p_c + nadp_c + pi_c <=> 13dpg_c + h_c + nadph_c | enzyme GDP1\n"
     ]
    }
   ],
   "source": [
    "# Adding NADP dependent GAPD reaction\n",
    "print(f\"For model {model_coswap.id}:\")\n",
    "with open(\"data/co-factor_swap_reactions.csv\",\"r\") as infile:\n",
    "    infile.readline()\n",
    "    for line in infile:\n",
    "        line = line.rstrip().split(\",\")\n",
    "        r = Reaction(line[0])\n",
    "        r.name = line[2]\n",
    "        if line[3] != \"\":\n",
    "            r.subsystem = line[3]\n",
    "        r.lower_bound = float(line[4])\n",
    "        r.upper_bound = float(line[5])\n",
    "        if line[1] != \"\":\n",
    "            r.gpr = GPR.from_string(line[1])\n",
    "        for i in range(int(len(line[6:])/2)):\n",
    "            metaboliteID = line[6+i*2]\n",
    "            if metaboliteID != \"\":\n",
    "                metaboliteID = model_coswap.metabolites.get_by_id(metaboliteID)\n",
    "                bin = float(line[7+i*2])\n",
    "                r.add_metabolites({metaboliteID:bin})\n",
    "        print(f'Adding reaction {r} | enzyme {r.gpr}')\n",
    "        model_coswap.add_reactions([r])"
   ]
  },
  {
   "cell_type": "code",
   "execution_count": 466,
   "metadata": {},
   "outputs": [
    {
     "name": "stdout",
     "output_type": "stream",
     "text": [
      "Model iMM904_progesterone: Adding reaction progesterone demand: progesterone_c --> \n",
      "Model iMM904_progesterone_coswap: Adding reaction progesterone demand: progesterone_c --> \n"
     ]
    }
   ],
   "source": [
    "# Add demand reaction for progesterone\n",
    "models = [model,model_coswap]\n",
    "for model in models:\n",
    "    model.add_boundary(model.metabolites.get_by_id('progesterone_c'), type='demand')\n",
    "    print(f'Model {model.id}: Adding reaction {model.reactions.DM_progesterone_c.name}: {model.reactions.DM_progesterone_c.reaction}')"
   ]
  },
  {
   "cell_type": "code",
   "execution_count": 467,
   "metadata": {},
   "outputs": [
    {
     "name": "stdout",
     "output_type": "stream",
     "text": [
      "iMM904_progesterone: µ = 0.2878657037040161\n",
      "iMM904_progesterone_coswap: µ = 0.29373393760455596\n"
     ]
    }
   ],
   "source": [
    "# Calculate µ\n",
    "biomass = []\n",
    "for i, model in enumerate(models):\n",
    "    biomass.append(model.optimize().objective_value)\n",
    "    print(f'{model.id}: µ = {biomass[i]}')\n"
   ]
  },
  {
   "cell_type": "code",
   "execution_count": 468,
   "metadata": {},
   "outputs": [
    {
     "name": "stdout",
     "output_type": "stream",
     "text": [
      "iMM904_progesterone_coswap: progesterone flux = 0.14285714285714285\n",
      "iMM904_progesterone_coswap_coswap: progesterone flux = 0.14285714285714285\n"
     ]
    }
   ],
   "source": [
    "# Calculate flux towards progesterone\n",
    "pp = []\n",
    "for model in models:\n",
    "    with model:\n",
    "        objective_reaction = model.reactions.R02216\n",
    "        model.objective = objective_reaction\n",
    "        pp.append(model.optimize())\n",
    "\n",
    "print(f'{model.id}: progesterone flux = {pp[0].objective_value}')\n",
    "print(f'{model_coswap.id}_coswap: progesterone flux = {pp[1].objective_value}')"
   ]
  },
  {
   "cell_type": "code",
   "execution_count": 469,
   "metadata": {},
   "outputs": [
    {
     "name": "stdout",
     "output_type": "stream",
     "text": [
      "Procentage increase in µ: 2.04%\n"
     ]
    }
   ],
   "source": [
    "# Calculate procentage increase in µ\n",
    "print(f\"Procentage increase in µ: {round((biomass[1]/biomass[0]-1)*100,2)}%\")"
   ]
  },
  {
   "cell_type": "markdown",
   "metadata": {},
   "source": [
    "From the results it is clear that the flux towards progesterone does not change by the co-factor swapping, however, the growth rate does."
   ]
  },
  {
   "cell_type": "code",
   "execution_count": 470,
   "metadata": {},
   "outputs": [
    {
     "name": "stdout",
     "output_type": "stream",
     "text": [
      "Saving to models/iMM904_progesterone_coswap.xml\n"
     ]
    }
   ],
   "source": [
    "# Saving new model\n",
    "outfilename = \"models/iMM904_progesterone_coswap.xml\"\n",
    "print(f\"Saving to {outfilename}\")\n",
    "write_sbml_model(model_coswap, outfilename)"
   ]
  },
  {
   "cell_type": "markdown",
   "metadata": {},
   "source": [
    "### References\n",
    "King, Zachary A., and Adam M. Feist. \"Optimal cofactor swapping can increase the theoretical yield for chemical production in Escherichia coli and Saccharomyces cerevisiae.\" Metabolic Engineering 24 (2014): 117-128."
   ]
  },
  {
   "cell_type": "markdown",
   "metadata": {},
   "source": [
    "# RESTEN ER BARE JUNK"
   ]
  },
  {
   "cell_type": "code",
   "execution_count": 471,
   "metadata": {},
   "outputs": [
    {
     "name": "stdout",
     "output_type": "stream",
     "text": [
      "The following reactions can be used as targets for co-factor swapping:\n",
      "\n",
      "C4STMO2: 4mzym_c + 3.0 h_c + 3.0 nadph_c + 3.0 o2_c --> 4.0 h2o_c + 3.0 nadp_c + zym_int1_c\n",
      "ALCD2x_copy1: etoh_c + nad_c --> acald_c + h_c + nadh_c\n",
      "C14STR: 44mctr_c + h_c + nadph_c --> 44mzym_c + nadp_c\n",
      "R01456: dehydrocholesterol_c + h_c + nadph_c --> cholesterol_c + nadp_c\n",
      "C3STKR1: 4mzym_int2_c + h_c + nadph_c --> 4mzym_c + nadp_c\n",
      "ALCD2x_copy2: etoh_c + nad_c <=> acald_c + h_c + nadh_c\n",
      "HMGCOAR: coa_c + mev__R_c + 2.0 nadp_c <=> 2.0 h_c + hmgcoa_c + 2.0 nadph_c\n",
      "R07215: h_c + lathosterol_c + nadph_c + o2_c --> dehydrocholesterol_c + 2.0 h2o_c + nadp_c\n",
      "ECYP11A1: cholesterol_c + 6.0 h_c + 6.0 nadph_c + 3.0 o2_c --> 4.0 h2o_c + methylpentanal_c + 6.0 nadp_c + pregnenolone_c\n",
      "C3STDH1: 4mzym_int1_c + nad_c --> 4mzym_int2_c + co2_c + h_c + nadh_c\n",
      "R05703: cholesta724dien3betaol_c + h_c + nadph_c <=> lathosterol_c + nadp_c\n",
      "C3STKR2: h_c + nadph_c + zym_int2_c --> nadp_c + zymst_c\n",
      "SQLS: 2.0 frdp_c + h_c + nadph_c --> nadp_c + 2.0 ppi_c + sql_c\n",
      "GAPD: g3p_c + nad_c + pi_c --> 13dpg_c + h_c + nadh_c\n",
      "R07498: h_c + nadph_c + zymst_c <=> cholesta8en3betaol_c + nadp_c\n",
      "MTHFD2i: mlthf_c + nad_c --> methf_c + nadh_c\n",
      "MDH: mal__L_c + nad_c <=> h_c + nadh_c + oaa_c\n",
      "C4STMO1: 44mzym_c + 3.0 h_c + 3.0 nadph_c + 3.0 o2_c --> 4mzym_int1_c + 4.0 h2o_c + 3.0 nadp_c\n",
      "C3STDH2: nad_c + zym_int1_c --> co2_c + h_c + nadh_c + zym_int2_c\n",
      "MTHFD: mlthf_c + nadp_c <=> methf_c + nadph_c\n",
      "R02216: nad_c + pregnenolone_c <=> h_c + nadh_c + progesterone_c\n"
     ]
    }
   ],
   "source": [
    "# Printing result\n",
    "print(\"The following reactions can be used as targets for co-factor swapping:\\n\")\n",
    "target_set = set()\n",
    "for target in solution_1.data_frame.targets:\n",
    "    for id in target:\n",
    "        target_set.add(id)\n",
    "for id in target_set:\n",
    "    print(model.reactions.get_by_id(id))"
   ]
  },
  {
   "cell_type": "markdown",
   "metadata": {},
   "source": [
    "The reactions listed above can be used as targets for co-factor swapping to increase the theoretical yield of progesterone. From the "
   ]
  },
  {
   "cell_type": "code",
   "execution_count": 472,
   "metadata": {},
   "outputs": [
    {
     "data": {
      "text/html": [
       "\n",
       "        <table>\n",
       "            <tr>\n",
       "                <td><strong>Gene identifier</strong></td><td>YGR192C</td>\n",
       "            </tr><tr>\n",
       "                <td><strong>Name</strong></td><td>TDH3</td>\n",
       "            </tr><tr>\n",
       "                <td><strong>Memory address</strong></td>\n",
       "                <td>0x07f5c15b956d0</td>\n",
       "            </tr><tr>\n",
       "                <td><strong>Functional</strong></td><td>False</td>\n",
       "            </tr><tr>\n",
       "                <td><strong>In 1 reaction(s)</strong></td><td>\n",
       "                    GAPD</td>\n",
       "            </tr>\n",
       "        </table>"
      ],
      "text/plain": [
       "<Gene YGR192C at 0x7f5c15b956d0>"
      ]
     },
     "execution_count": 472,
     "metadata": {},
     "output_type": "execute_result"
    }
   ],
   "source": [
    "model.genes.YGR192C  \n"
   ]
  },
  {
   "cell_type": "code",
   "execution_count": 473,
   "metadata": {},
   "outputs": [
    {
     "data": {
      "text/html": [
       "\n",
       "        <table>\n",
       "            <tr>\n",
       "                <td><strong>Reaction identifier</strong></td><td>ALCD2x_copy2</td>\n",
       "            </tr><tr>\n",
       "                <td><strong>Name</strong></td><td>Alcohol dehydrogenase (ethanol)</td>\n",
       "            </tr><tr>\n",
       "                <td><strong>Memory address</strong></td>\n",
       "                <td>0x07f5c15f71d00</td>\n",
       "            </tr><tr>\n",
       "                <td><strong>Stoichiometry</strong></td>\n",
       "                <td>\n",
       "                    <p style='text-align:right'>etoh_c + nad_c <=> acald_c + h_c + nadh_c</p>\n",
       "                    <p style='text-align:right'>Ethanol + Nicotinamide adenine dinucleotide <=> Acetaldehyde + H+ + Nicotinamide adenine dinucleotide - reduced</p>\n",
       "                </td>\n",
       "            </tr><tr>\n",
       "                <td><strong>GPR</strong></td><td>YDL168W</td>\n",
       "            </tr><tr>\n",
       "                <td><strong>Lower bound</strong></td><td>-999999.0</td>\n",
       "            </tr><tr>\n",
       "                <td><strong>Upper bound</strong></td><td>999999.0</td>\n",
       "            </tr>\n",
       "        </table>\n",
       "        "
      ],
      "text/plain": [
       "<Reaction ALCD2x_copy2 at 0x7f5c15f71d00>"
      ]
     },
     "execution_count": 473,
     "metadata": {},
     "output_type": "execute_result"
    }
   ],
   "source": [
    "model.reactions.ALCD2x_copy2"
   ]
  },
  {
   "cell_type": "code",
   "execution_count": 474,
   "metadata": {},
   "outputs": [
    {
     "data": {
      "text/html": [
       "\n",
       "        <table>\n",
       "            <tr>\n",
       "                <td><strong>Metabolite identifier</strong></td><td>nad_c</td>\n",
       "            </tr><tr>\n",
       "                <td><strong>Name</strong></td><td>Nicotinamide adenine dinucleotide</td>\n",
       "            </tr><tr>\n",
       "                <td><strong>Memory address</strong></td>\n",
       "                <td>0x07f5c1b4037c0</td>\n",
       "            </tr><tr>\n",
       "                <td><strong>Formula</strong></td><td>C21H26N7O14P2</td>\n",
       "            </tr><tr>\n",
       "                <td><strong>Compartment</strong></td><td>c</td>\n",
       "            </tr><tr>\n",
       "                <td><strong>In 48 reaction(s)</strong></td><td>\n",
       "                    GAPD, PGCD, LNS14DMx, C3STDH2, GLUSx, ALCD25xi, GLUDxi, ALCD23xi, ALCD24xi, G3PD1ir, NMNAT, XYLTD_D, C22STDSx, R02216, NABTNO, SBTD_D2, NADN, PPND, SBTD_L, C3STDH1, G5SD2, LCADi, NADS1, FMNRx,...</td>\n",
       "            </tr>\n",
       "        </table>"
      ],
      "text/plain": [
       "<Metabolite nad_c at 0x7f5c1b4037c0>"
      ]
     },
     "execution_count": 474,
     "metadata": {},
     "output_type": "execute_result"
    }
   ],
   "source": [
    "model.metabolites.nad_c"
   ]
  },
  {
   "cell_type": "code",
   "execution_count": 475,
   "metadata": {},
   "outputs": [
    {
     "data": {
      "text/html": [
       "\n",
       "        <table>\n",
       "            <tr>\n",
       "                <td><strong>Gene identifier</strong></td><td>YGR192C</td>\n",
       "            </tr><tr>\n",
       "                <td><strong>Name</strong></td><td>TDH3</td>\n",
       "            </tr><tr>\n",
       "                <td><strong>Memory address</strong></td>\n",
       "                <td>0x07f5c15b956d0</td>\n",
       "            </tr><tr>\n",
       "                <td><strong>Functional</strong></td><td>False</td>\n",
       "            </tr><tr>\n",
       "                <td><strong>In 1 reaction(s)</strong></td><td>\n",
       "                    GAPD</td>\n",
       "            </tr>\n",
       "        </table>"
      ],
      "text/plain": [
       "<Gene YGR192C at 0x7f5c15b956d0>"
      ]
     },
     "execution_count": 475,
     "metadata": {},
     "output_type": "execute_result"
    }
   ],
   "source": [
    "model.genes.YGR192C"
   ]
  },
  {
   "cell_type": "code",
   "execution_count": 476,
   "metadata": {},
   "outputs": [
    {
     "data": {
      "text/plain": [
       "frozenset({<Gene YGR192C at 0x7f5c15b956d0>,\n",
       "           <Gene YJL052W at 0x7f5c15b95790>,\n",
       "           <Gene YJR009C at 0x7f5c15b957f0>})"
      ]
     },
     "execution_count": 476,
     "metadata": {},
     "output_type": "execute_result"
    }
   ],
   "source": [
    "model.reactions.GAPD.genes"
   ]
  },
  {
   "cell_type": "code",
   "execution_count": 477,
   "metadata": {},
   "outputs": [
    {
     "data": {
      "text/html": [
       "\n",
       "        <table>\n",
       "            <tr>\n",
       "                <td><strong>Gene identifier</strong></td><td>YJL052W</td>\n",
       "            </tr><tr>\n",
       "                <td><strong>Name</strong></td><td>TDH1</td>\n",
       "            </tr><tr>\n",
       "                <td><strong>Memory address</strong></td>\n",
       "                <td>0x07f5c15b95790</td>\n",
       "            </tr><tr>\n",
       "                <td><strong>Functional</strong></td><td>False</td>\n",
       "            </tr><tr>\n",
       "                <td><strong>In 1 reaction(s)</strong></td><td>\n",
       "                    GAPD</td>\n",
       "            </tr>\n",
       "        </table>"
      ],
      "text/plain": [
       "<Gene YJL052W at 0x7f5c15b95790>"
      ]
     },
     "execution_count": 477,
     "metadata": {},
     "output_type": "execute_result"
    }
   ],
   "source": [
    "model.genes.get_by_id(\"YJL052W\")"
   ]
  },
  {
   "cell_type": "code",
   "execution_count": 478,
   "metadata": {},
   "outputs": [
    {
     "name": "stdout",
     "output_type": "stream",
     "text": [
      "Loading models/iMM904_progesterone.xml\n",
      "YJL052W were knocked out\n",
      "YJR009C were knocked out\n",
      "YGR192C were knocked out\n"
     ]
    },
    {
     "ename": "FileNotFoundError",
     "evalue": "[Errno 2] No such file or directory: 'data/co-factor_swap_reactions2.csv'",
     "output_type": "error",
     "traceback": [
      "\u001b[0;31m---------------------------------------------------------------------------\u001b[0m",
      "\u001b[0;31mFileNotFoundError\u001b[0m                         Traceback (most recent call last)",
      "\u001b[1;32m/home/rune/github-classroom/27410/27410-group-assigment-group_3/06_co-factor_swap.ipynb Cell 32\u001b[0m in \u001b[0;36m<cell line: 14>\u001b[0;34m()\u001b[0m\n\u001b[1;32m     <a href='vscode-notebook-cell://wsl%2Bubuntu-20.04/home/rune/github-classroom/27410/27410-group-assigment-group_3/06_co-factor_swap.ipynb#X36sdnNjb2RlLXJlbW90ZQ%3D%3D?line=10'>11</a>\u001b[0m     \u001b[39mprint\u001b[39m(\u001b[39mf\u001b[39m\u001b[39m\"\u001b[39m\u001b[39m{\u001b[39;00mKO\u001b[39m}\u001b[39;00m\u001b[39m were knocked out\u001b[39m\u001b[39m\"\u001b[39m)\n\u001b[1;32m     <a href='vscode-notebook-cell://wsl%2Bubuntu-20.04/home/rune/github-classroom/27410/27410-group-assigment-group_3/06_co-factor_swap.ipynb#X36sdnNjb2RlLXJlbW90ZQ%3D%3D?line=12'>13</a>\u001b[0m \u001b[39m# Adding NADP dependent GAPD reaction and NADP dependent alcohol dehydrogenase:\u001b[39;00m\n\u001b[0;32m---> <a href='vscode-notebook-cell://wsl%2Bubuntu-20.04/home/rune/github-classroom/27410/27410-group-assigment-group_3/06_co-factor_swap.ipynb#X36sdnNjb2RlLXJlbW90ZQ%3D%3D?line=13'>14</a>\u001b[0m \u001b[39mwith\u001b[39;00m \u001b[39mopen\u001b[39;49m(\u001b[39m\"\u001b[39;49m\u001b[39mdata/co-factor_swap_reactions2.csv\u001b[39;49m\u001b[39m\"\u001b[39;49m,\u001b[39m\"\u001b[39;49m\u001b[39mr\u001b[39;49m\u001b[39m\"\u001b[39;49m) \u001b[39mas\u001b[39;00m infile:\n\u001b[1;32m     <a href='vscode-notebook-cell://wsl%2Bubuntu-20.04/home/rune/github-classroom/27410/27410-group-assigment-group_3/06_co-factor_swap.ipynb#X36sdnNjb2RlLXJlbW90ZQ%3D%3D?line=14'>15</a>\u001b[0m     infile\u001b[39m.\u001b[39mreadline()\n\u001b[1;32m     <a href='vscode-notebook-cell://wsl%2Bubuntu-20.04/home/rune/github-classroom/27410/27410-group-assigment-group_3/06_co-factor_swap.ipynb#X36sdnNjb2RlLXJlbW90ZQ%3D%3D?line=15'>16</a>\u001b[0m     \u001b[39mfor\u001b[39;00m line \u001b[39min\u001b[39;00m infile:\n",
      "\u001b[0;31mFileNotFoundError\u001b[0m: [Errno 2] No such file or directory: 'data/co-factor_swap_reactions2.csv'"
     ]
    }
   ],
   "source": [
    "\n",
    "\n",
    "# Loading model\n",
    "infilename = 'models/iMM904_progesterone.xml'\n",
    "print(f\"Loading {infilename}\")\n",
    "model = load_model(infilename)\n",
    "\n",
    "# Knock out of GAPD genes\n",
    "KOs = [\"YJL052W\",\"YJR009C\",\"YGR192C\"]\n",
    "model_coswap = model.copy()\n",
    "for KO in KOs:\n",
    "    model_coswap.genes.get_by_id(KO).knock_out()\n",
    "    print(f\"{KO} were knocked out\")\n",
    "\n",
    "# Adding NADP dependent GAPD reaction and NADP dependent alcohol dehydrogenase:\n",
    "with open(\"data/co-factor_swap_reactions2.csv\",\"r\") as infile:\n",
    "    infile.readline()\n",
    "    for line in infile:\n",
    "        line = line.rstrip().split(\",\")\n",
    "        r = Reaction(line[0])\n",
    "        r.name = line[2]\n",
    "        if line[3] != \"\":\n",
    "            r.subsystem = line[3]\n",
    "        r.lower_bound = float(line[4])\n",
    "        r.upper_bound = float(line[5])\n",
    "        if line[1] != \"\":\n",
    "            r.gpr = GPR.from_string(line[1])\n",
    "        for i in range(int(len(line[6:])/2)):\n",
    "            metaboliteID = line[6+i*2]\n",
    "            if metaboliteID != \"\":\n",
    "                metaboliteID = model_coswap.metabolites.get_by_id(metaboliteID)\n",
    "                bin = float(line[7+i*2])\n",
    "                r.add_metabolites({metaboliteID:bin})\n",
    "        print(f'Adding reaction {r} | enzyme {r.gpr}')\n",
    "        model_coswap.add_reactions([r])\n",
    "\n",
    "# Add demand reaction for progesterone\n",
    "model.add_boundary(model.metabolites.get_by_id('progesterone_c'), type='demand')\n",
    "print(f'Adding reaction {model.reactions.DM_progesterone_c.name}: {model.reactions.DM_progesterone_c.reaction}')\n",
    "# Add demand reaction for progesterone\n",
    "model_coswap.add_boundary(model_coswap.metabolites.get_by_id('progesterone_c'), type='demand')\n",
    "print(f'Adding reaction {model_coswap.reactions.DM_progesterone_c.name}: {model_coswap.reactions.DM_progesterone_c.reaction}')\n",
    "\n",
    "biomass = [model.optimize(),model_coswap.optimize()]\n",
    "\n",
    "print(f'{model.id}: µ = {biomass[0].objective_value}')\n",
    "print(f'{model_coswap.id}_coswap: µ = {biomass[1].objective_value}')\n",
    "\n",
    "# Choose the reaction that produced progesterone as the objective.\n",
    "objective_reaction = model.reactions.R02216\n",
    "model.objective = objective_reaction\n",
    "print(f'Model: {model.id} Objective set to maximize {objective_reaction.id}: {objective_reaction.reaction}')\n",
    "objective_reaction = model_coswap.reactions.R02216\n",
    "model_coswap.objective = objective_reaction\n",
    "print(f'Model: {model_coswap.id}_coswap Objective set to maximize {objective_reaction.id}: {objective_reaction.reaction}')\n",
    "\n",
    "\n",
    "pp = [model.optimize(),model_coswap.optimize()]\n",
    "\n",
    "print(f'{model.id}: progesterone flux = {pp[0].objective_value}')\n",
    "print(f'{model_coswap.id}: progesterone flux = {pp[1].objective_value}')\n",
    "\n",
    "\n",
    "pp[0]\n"
   ]
  },
  {
   "cell_type": "code",
   "execution_count": null,
   "metadata": {},
   "outputs": [
    {
     "data": {
      "text/plain": [
       "2.0385317962620553"
      ]
     },
     "execution_count": 401,
     "metadata": {},
     "output_type": "execute_result"
    }
   ],
   "source": [
    "(biomass[1].objective_value / biomass[0].objective_value - 1)*100"
   ]
  },
  {
   "cell_type": "code",
   "execution_count": null,
   "metadata": {},
   "outputs": [
    {
     "ename": "AttributeError",
     "evalue": "'Solution' object has no attribute 'items'",
     "output_type": "error",
     "traceback": [
      "\u001b[0;31m---------------------------------------------------------------------------\u001b[0m",
      "\u001b[0;31mAttributeError\u001b[0m                            Traceback (most recent call last)",
      "\u001b[1;32m/home/rune/github-classroom/27410/27410-group-assigment-group_3/06_co-factor_swap.ipynb Cell 20\u001b[0m in \u001b[0;36m<cell line: 1>\u001b[0;34m()\u001b[0m\n\u001b[0;32m----> <a href='vscode-notebook-cell://wsl%2Bubuntu-20.04/home/rune/github-classroom/27410/27410-group-assigment-group_3/06_co-factor_swap.ipynb#X50sdnNjb2RlLXJlbW90ZQ%3D%3D?line=0'>1</a>\u001b[0m \u001b[39mfor\u001b[39;00m i, v \u001b[39min\u001b[39;00m biomass[\u001b[39m0\u001b[39;49m]\u001b[39m.\u001b[39;49mitems():\n\u001b[1;32m      <a href='vscode-notebook-cell://wsl%2Bubuntu-20.04/home/rune/github-classroom/27410/27410-group-assigment-group_3/06_co-factor_swap.ipynb#X50sdnNjb2RlLXJlbW90ZQ%3D%3D?line=1'>2</a>\u001b[0m     \u001b[39mprint\u001b[39m(\u001b[39m'\u001b[39m\u001b[39mindex: \u001b[39m\u001b[39m'\u001b[39m, i, \u001b[39m'\u001b[39m\u001b[39mvalue: \u001b[39m\u001b[39m'\u001b[39m, v)\n",
      "\u001b[0;31mAttributeError\u001b[0m: 'Solution' object has no attribute 'items'"
     ]
    }
   ],
   "source": [
    "for i, v in biomass[0].items():\n",
    "    print('index: ', i, 'value: ', v)"
   ]
  },
  {
   "cell_type": "code",
   "execution_count": null,
   "metadata": {},
   "outputs": [
    {
     "ename": "AttributeError",
     "evalue": "'Solution' object has no attribute 'index'",
     "output_type": "error",
     "traceback": [
      "\u001b[0;31m---------------------------------------------------------------------------\u001b[0m",
      "\u001b[0;31mAttributeError\u001b[0m                            Traceback (most recent call last)",
      "\u001b[1;32m/home/rune/github-classroom/27410/27410-group-assigment-group_3/06_co-factor_swap.ipynb Cell 21\u001b[0m in \u001b[0;36m<cell line: 1>\u001b[0;34m()\u001b[0m\n\u001b[0;32m----> <a href='vscode-notebook-cell://wsl%2Bubuntu-20.04/home/rune/github-classroom/27410/27410-group-assigment-group_3/06_co-factor_swap.ipynb#X51sdnNjb2RlLXJlbW90ZQ%3D%3D?line=0'>1</a>\u001b[0m biomass[\u001b[39m0\u001b[39;49m]\u001b[39m.\u001b[39;49mindex()\n",
      "\u001b[0;31mAttributeError\u001b[0m: 'Solution' object has no attribute 'index'"
     ]
    }
   ],
   "source": [
    "biomass[0].index()"
   ]
  },
  {
   "cell_type": "code",
   "execution_count": null,
   "metadata": {},
   "outputs": [
    {
     "data": {
      "text/plain": [
       "pandas.core.series.Series"
      ]
     },
     "execution_count": 351,
     "metadata": {},
     "output_type": "execute_result"
    }
   ],
   "source": [
    "# for index,flux in biomass[0].fluxes:\n",
    "#     print(index,flux)\n",
    "\n",
    "# for x in biomass[0].fluxes.__dict__.items():\n",
    "#     print(x[1].index())\n",
    "\n",
    "type(biomass[0].fluxes)"
   ]
  },
  {
   "cell_type": "code",
   "execution_count": null,
   "metadata": {},
   "outputs": [
    {
     "data": {
      "text/plain": [
       "pandas.core.frame.DataFrame"
      ]
     },
     "execution_count": 354,
     "metadata": {},
     "output_type": "execute_result"
    }
   ],
   "source": [
    "type(biomass[0].to_frame())"
   ]
  },
  {
   "cell_type": "code",
   "execution_count": null,
   "metadata": {},
   "outputs": [
    {
     "name": "stdout",
     "output_type": "stream",
     "text": [
      "EX_glc__D_e \t -10.0\n"
     ]
    }
   ],
   "source": [
    "test = pp[0].to_frame().fluxes.to_frame()\n",
    "# print(test)\n",
    "# for x in test.fluxes:\n",
    "#     print(x)\n",
    "for key, value in zip(test.index,test.fluxes):\n",
    "    if key == \"EX_glc__D_e\":\n",
    "        print(key,\"\\t\",value)"
   ]
  },
  {
   "cell_type": "code",
   "execution_count": null,
   "metadata": {},
   "outputs": [
    {
     "name": "stdout",
     "output_type": "stream",
     "text": [
      "{<Metabolite lathosterol_c at 0x7f5c264bc400>: -1.0, <Metabolite nadph_c at 0x7f5c246cf0d0>: -1.0, <Metabolite o2_c at 0x7f5c246d8a90>: -1.0, <Metabolite h_c at 0x7f5c2473f640>: -1.0, <Metabolite dehydrocholesterol_c at 0x7f5c2488c9d0>: 1.0, <Metabolite nadp_c at 0x7f5c246cfee0>: 1.0, <Metabolite h2o_c at 0x7f5c24737ee0>: 2.0}\n",
      "R07215: h_c + lathosterol_c + nadph_c + o2_c --> dehydrocholesterol_c + 2.0 h2o_c + nadp_c\n",
      "halli nad_c\n",
      "0\n"
     ]
    },
    {
     "ename": "AttributeError",
     "evalue": "'Reaction' object has no attribute 'sub_reaction'",
     "output_type": "error",
     "traceback": [
      "\u001b[0;31m---------------------------------------------------------------------------\u001b[0m",
      "\u001b[0;31mAttributeError\u001b[0m                            Traceback (most recent call last)",
      "\u001b[1;32m/home/rune/github-classroom/27410/27410-group-assigment-group_3/06_co-factor_swap.ipynb Cell 12\u001b[0m in \u001b[0;36m<cell line: 5>\u001b[0;34m()\u001b[0m\n\u001b[1;32m      <a href='vscode-notebook-cell://wsl%2Bubuntu-20.04/home/rune/github-classroom/27410/27410-group-assigment-group_3/06_co-factor_swap.ipynb#X33sdnNjb2RlLXJlbW90ZQ%3D%3D?line=5'>6</a>\u001b[0m \u001b[39mprint\u001b[39m(i)\n\u001b[1;32m      <a href='vscode-notebook-cell://wsl%2Bubuntu-20.04/home/rune/github-classroom/27410/27410-group-assigment-group_3/06_co-factor_swap.ipynb#X33sdnNjb2RlLXJlbW90ZQ%3D%3D?line=6'>7</a>\u001b[0m \u001b[39m# print()\u001b[39;00m\n\u001b[0;32m----> <a href='vscode-notebook-cell://wsl%2Bubuntu-20.04/home/rune/github-classroom/27410/27410-group-assigment-group_3/06_co-factor_swap.ipynb#X33sdnNjb2RlLXJlbW90ZQ%3D%3D?line=7'>8</a>\u001b[0m r\u001b[39m.\u001b[39;49msub_reaction()\n\u001b[1;32m      <a href='vscode-notebook-cell://wsl%2Bubuntu-20.04/home/rune/github-classroom/27410/27410-group-assigment-group_3/06_co-factor_swap.ipynb#X33sdnNjb2RlLXJlbW90ZQ%3D%3D?line=8'>9</a>\u001b[0m \u001b[39mprint\u001b[39m(metabolite)\n\u001b[1;32m     <a href='vscode-notebook-cell://wsl%2Bubuntu-20.04/home/rune/github-classroom/27410/27410-group-assigment-group_3/06_co-factor_swap.ipynb#X33sdnNjb2RlLXJlbW90ZQ%3D%3D?line=9'>10</a>\u001b[0m \u001b[39mprint\u001b[39m(\u001b[39m\"\u001b[39m\u001b[39mjkjwlk\u001b[39m\u001b[39m\"\u001b[39m,r\u001b[39m.\u001b[39mmetabolites)\n",
      "\u001b[0;31mAttributeError\u001b[0m: 'Reaction' object has no attribute 'sub_reaction'"
     ]
    }
   ],
   "source": [
    "r = model.reactions.get_by_id(\"R07215\")\n",
    "print(r.__dict__[\"_metabolites\"])\n",
    "print(r)\n",
    "print(\"halli\",model.metabolites.get_by_id(\"nad_c\"))\n",
    "modified_r = dict()\n",
    "model_3betaHSD.genes.HSD3B.knock_out()\n",
    "for i, metabolite in enumerate(r.metabolites):\n",
    "    print(i)\n",
    "    # print()\n",
    "    r.sub_reaction()\n",
    "    print(metabolite)\n",
    "    print(\"jkjwlk\",r.metabolites)\n",
    "    if str(metabolite) in (\"nad_c\",\"nadh_c\",\"nadp_c\",\"nadph_c\"):\n",
    "        print(metabolite)\n",
    "        print(model.metabolites.get_by_id(str(metabolite)))\n",
    "        if str(metabolite) == \"nad_c\":\n",
    "            print(\"hej\")\n",
    "            # model.metabolites.get_by_id(str(metabolite)) = \n",
    "            r.metabolites.metabolite = \"nadh_c\"\n",
    "        elif str(metabolite) == \"nadh_c\":\n",
    "            r.metabolites.metabolite = \"nad_c\"\n",
    "        elif str(metabolite) == \"nadp_c\":\n",
    "            print(r.metabolites.nadp_c)\n",
    "            r.metabolites.nadp_c = model.metabolites.nadph_c\n",
    "        elif str(metabolite) == \"nadph_c\":\n",
    "            print(list(r.__dict__[\"_metabolites\"])[i])\n",
    "            print(\"hej\",list(r.metabolites)[i])\n",
    "            r.metabolites.nadph_c = model.metabolites.nadp\n",
    "        else:\n",
    "            modified_r[metabolite] = \n",
    "print(r)\n"
   ]
  },
  {
   "cell_type": "code",
   "execution_count": null,
   "metadata": {},
   "outputs": [
    {
     "name": "stdout",
     "output_type": "stream",
     "text": [
      "Loading models/iMM904.xml\n"
     ]
    }
   ],
   "source": [
    "# Loading model\n",
    "infilename = 'models/iMM904.xml'\n",
    "print(f\"Loading {infilename}\")\n",
    "model = read_sbml_model(infilename)"
   ]
  },
  {
   "cell_type": "code",
   "execution_count": null,
   "metadata": {},
   "outputs": [
    {
     "name": "stdout",
     "output_type": "stream",
     "text": [
      "Adding metabolite cholesterol (id: cholesterol_c)\n",
      "Adding metabolite 7-dehydrocholesterol (id: dehydrocholesterol_c)\n",
      "Adding metabolite pregnenolone (id: pregnenolone_c)\n",
      "Adding metabolite progesterone (id: progesterone_c)\n",
      "Adding metabolite 5alpha-Cholesta-7_24-dien-3beta-ol (id: cholesta724dien3betaol_c)\n",
      "Adding metabolite 5alpha-Cholest-8-en-3beta-ol (id: cholesta8en3betaol_c)\n",
      "Adding metabolite lathosterol (id: lathosterol_c)\n",
      "Adding metabolite 4-methylpentanal (id: methylpentanal_c)\n"
     ]
    }
   ],
   "source": [
    "# Add all new metabolites from metabolites.csv\n",
    "new_metabolites = dict()\n",
    "with open(\"data/metabolites.csv\",\"r\") as infile:\n",
    "    infile.readline()\n",
    "    for line in infile:\n",
    "        line = line.rstrip().split(\",\")\n",
    "        m = Metabolite(\n",
    "            line[0],\n",
    "            formula=line[1],\n",
    "            name=line[2],\n",
    "            compartment=line[3])\n",
    "        print(f'Adding metabolite {m.name} (id: {m})')\n",
    "        new_metabolites[line[0]] = m"
   ]
  },
  {
   "cell_type": "code",
   "execution_count": null,
   "metadata": {},
   "outputs": [
    {
     "name": "stdout",
     "output_type": "stream",
     "text": [
      "Adding reaction R07498: h_c + nadh_c + zymst_c <=> cholesta8en3betaol_c + nad_c | enzyme DHCR24\n",
      "Adding reaction R05703: cholesta724dien3betaol_c + h_c + nadh_c <=> lathosterol_c + nad_c | enzyme DHCR24\n",
      "Adding reaction R01456: dehydrocholesterol_c + h_c + nadh_c --> cholesterol_c + nad_c | enzyme DHCR7\n",
      "Adding reaction ECYP11A1: cholesterol_c + 6.0 h_c + 6.0 nadh_c + 3.0 o2_c --> 4.0 h2o_c + methylpentanal_c + 6.0 nad_c + pregnenolone_c | enzyme CYP11A1\n",
      "Adding reaction R02216: nadp_c + pregnenolone_c <=> h_c + nadph_c + progesterone_c | enzyme HSD3B\n",
      "Adding reaction R03353: cholesta8en3betaol_c --> lathosterol_c | enzyme YMR202W\n",
      "Adding reaction R07215: h_c + lathosterol_c + nadph_c + o2_c --> dehydrocholesterol_c + 2.0 h2o_c + nadp_c | enzyme YLR056W\n",
      "Adding reaction R04804: zymst_c --> cholesta724dien3betaol_c | enzyme YMR202W\n",
      "Adding gene annotation (EBP) to reaction: CHLSTI: amet_c + o2_c + zymst_c --> ahcys_c + ergtetrol_c + 2.0 h2o_c + h_c\n",
      "Adding reaction 4-methylpentanal sink: methylpentanal_c <=> \n"
     ]
    }
   ],
   "source": [
    "# Make co-factor swap with DHCR7 all new reactions from reactions.csv\n",
    "with open(\"data/co-factor_swap_reactions.csv\",\"r\") as infile:\n",
    "    infile.readline()\n",
    "    for line in infile:\n",
    "        line = line.rstrip().split(\",\")\n",
    "        r = Reaction(line[0])\n",
    "        r.name = line[2]\n",
    "        if line[3] != \"\":\n",
    "            r.subsystem = line[3]\n",
    "        r.lower_bound = float(line[4])\n",
    "        r.upper_bound = float(line[5])\n",
    "        if line[1] != \"\":\n",
    "            r.gpr = GPR.from_string(line[1])\n",
    "        for i in range(int(len(line[6:])/2)):\n",
    "            metaboliteID = line[6+i*2]\n",
    "            if metaboliteID != \"\":\n",
    "                if metaboliteID in model.metabolites:\n",
    "                    metaboliteID = model.metabolites.get_by_id(metaboliteID)\n",
    "                else:\n",
    "                    metaboliteID = new_metabolites[metaboliteID]\n",
    "                bin = float(line[7+i*2])\n",
    "                r.add_metabolites({metaboliteID:bin})\n",
    "        print(f'Adding reaction {r} | enzyme {r.gpr}')\n",
    "        model.add_reactions([r])\n",
    "\n",
    "model.reactions.CHLSTI.gpr = GPR.from_string(\"EBP\")\n",
    "print(f'Adding gene annotation (EBP) to reaction: {model.reactions.CHLSTI}')\n",
    "\n",
    "model.add_boundary(model.metabolites.get_by_id(\"methylpentanal_c\"), type=\"sink\")\n",
    "print(f'Adding reaction {model.reactions.SK_methylpentanal_c.name}: {model.reactions.SK_methylpentanal_c.reaction}')"
   ]
  },
  {
   "cell_type": "code",
   "execution_count": null,
   "metadata": {},
   "outputs": [
    {
     "name": "stdout",
     "output_type": "stream",
     "text": [
      "Saving to models/iMM904_progesterone_coswap.xml\n"
     ]
    }
   ],
   "source": [
    "# Saving new model\n",
    "outfilename = \"models/iMM904_progesterone_coswap.xml\"\n",
    "model.id = outfilename.split(\"/\")[-1].split(\".\")[0]\n",
    "print(f\"Saving to {outfilename}\")\n",
    "write_sbml_model(model, outfilename)"
   ]
  },
  {
   "cell_type": "code",
   "execution_count": null,
   "metadata": {},
   "outputs": [
    {
     "name": "stdout",
     "output_type": "stream",
     "text": [
      "Loading models/iMM904_progesterone.xml\n",
      "Loading models/iMM904_progesterone_coswap.xml\n"
     ]
    }
   ],
   "source": [
    "# Loading models\n",
    "infilename = 'models/iMM904_progesterone.xml'\n",
    "print(f\"Loading {infilename}\")\n",
    "model_progesterone = read_sbml_model(infilename)\n",
    "infilename = 'models/iMM904_progesterone_coswap.xml'\n",
    "print(f\"Loading {infilename}\")\n",
    "model_progesterone_coswap = read_sbml_model(infilename)"
   ]
  },
  {
   "cell_type": "code",
   "execution_count": null,
   "metadata": {},
   "outputs": [
    {
     "name": "stdout",
     "output_type": "stream",
     "text": [
      "Adding reaction progesterone demand: progesterone_c --> \n",
      "Adding reaction progesterone demand: progesterone_c --> \n"
     ]
    }
   ],
   "source": [
    "# Add demand reaction for progesterone\n",
    "model_progesterone.add_boundary(model.metabolites.get_by_id('progesterone_c'), type='demand')\n",
    "print(f'Adding reaction {model_progesterone.reactions.DM_progesterone_c.name}: {model_progesterone.reactions.DM_progesterone_c.reaction}')\n",
    "model_progesterone_coswap.add_boundary(model.metabolites.get_by_id('progesterone_c'), type='demand')\n",
    "print(f'Adding reaction {model_progesterone_coswap.reactions.DM_progesterone_c.name}: {model_progesterone_coswap.reactions.DM_progesterone_c.reaction}')"
   ]
  },
  {
   "cell_type": "code",
   "execution_count": null,
   "metadata": {},
   "outputs": [
    {
     "name": "stdout",
     "output_type": "stream",
     "text": [
      "iMM904_progesterone: µ = 0.2878657037040161\n",
      "iMM904_progesterone_coswap: µ = 0.28786570370401676\n"
     ]
    }
   ],
   "source": [
    "print(f'{model_progesterone.id}: µ = {model_progesterone.optimize().objective_value}')\n",
    "print(f'{model_progesterone_coswap.id}: µ = {model_progesterone_coswap.optimize().objective_value}')"
   ]
  },
  {
   "cell_type": "code",
   "execution_count": null,
   "metadata": {},
   "outputs": [
    {
     "name": "stdout",
     "output_type": "stream",
     "text": [
      "Objective set to maximize R02216: nad_c + pregnenolone_c <=> h_c + nadh_c + progesterone_c\n",
      "Objective set to maximize R02216: nadp_c + pregnenolone_c <=> h_c + nadph_c + progesterone_c\n"
     ]
    }
   ],
   "source": [
    "# Choose the reaction that produced progesterone as the objective.\n",
    "objective_reaction = model_progesterone.reactions.R02216\n",
    "model_progesterone.objective = objective_reaction\n",
    "print(f'Objective set to maximize {objective_reaction.id}: {objective_reaction.reaction}')\n",
    "objective_reaction = model_progesterone_coswap.reactions.R02216\n",
    "model_progesterone_coswap.objective = objective_reaction\n",
    "print(f'Objective set to maximize {objective_reaction.id}: {objective_reaction.reaction}')"
   ]
  },
  {
   "cell_type": "code",
   "execution_count": null,
   "metadata": {},
   "outputs": [
    {
     "name": "stdout",
     "output_type": "stream",
     "text": [
      "iMM904_progesterone: progesterone flux = 0.14285714285714285\n",
      "iMM904_progesterone_coswap: progesterone flux = 0.14285714285714288\n"
     ]
    }
   ],
   "source": [
    "print(f'{model_progesterone.id}: progesterone flux = {model_progesterone.optimize().objective_value}')\n",
    "print(f'{model_progesterone_coswap.id}: progesterone flux = {model_progesterone_coswap.optimize().objective_value}')"
   ]
  },
  {
   "cell_type": "code",
   "execution_count": null,
   "metadata": {},
   "outputs": [
    {
     "name": "stdout",
     "output_type": "stream",
     "text": [
      "frozenset({<Reaction R01456 at 0x7f5c22aeea00>})\n",
      "frozenset({<Reaction R01456 at 0x7f5c21c2ac40>})\n"
     ]
    }
   ],
   "source": [
    "print(model_progesterone.genes.DHCR7.reactions)\n",
    "print(model_progesterone_coswap.genes.DHCR7.reactions)"
   ]
  },
  {
   "cell_type": "code",
   "execution_count": null,
   "metadata": {},
   "outputs": [
    {
     "data": {
      "text/html": [
       "\n",
       "        <table>\n",
       "            <tr>\n",
       "                <td><strong>Reaction identifier</strong></td><td>R01456</td>\n",
       "            </tr><tr>\n",
       "                <td><strong>Name</strong></td><td>Cholesterol:NAD+ delta7-oxidoreductase</td>\n",
       "            </tr><tr>\n",
       "                <td><strong>Memory address</strong></td>\n",
       "                <td>0x07f5c22aeea00</td>\n",
       "            </tr><tr>\n",
       "                <td><strong>Stoichiometry</strong></td>\n",
       "                <td>\n",
       "                    <p style='text-align:right'>dehydrocholesterol_c + h_c + nadph_c --> cholesterol_c + nadp_c</p>\n",
       "                    <p style='text-align:right'>7-dehydrocholesterol + H+ + Nicotinamide adenine dinucleotide phosphate - reduced --> cholesterol + Nicotinamide adenine dinucleotide phosphate</p>\n",
       "                </td>\n",
       "            </tr><tr>\n",
       "                <td><strong>GPR</strong></td><td>DHCR7</td>\n",
       "            </tr><tr>\n",
       "                <td><strong>Lower bound</strong></td><td>0.0</td>\n",
       "            </tr><tr>\n",
       "                <td><strong>Upper bound</strong></td><td>999999.0</td>\n",
       "            </tr>\n",
       "        </table>\n",
       "        "
      ],
      "text/plain": [
       "<Reaction R01456 at 0x7f5c22aeea00>"
      ]
     },
     "execution_count": 208,
     "metadata": {},
     "output_type": "execute_result"
    }
   ],
   "source": [
    "model_progesterone.reactions.R01456"
   ]
  },
  {
   "cell_type": "code",
   "execution_count": null,
   "metadata": {},
   "outputs": [
    {
     "data": {
      "text/html": [
       "\n",
       "        <table>\n",
       "            <tr>\n",
       "                <td><strong>Reaction identifier</strong></td><td>GAPD</td>\n",
       "            </tr><tr>\n",
       "                <td><strong>Name</strong></td><td>Glyceraldehyde-3-phosphate dehydrogenase</td>\n",
       "            </tr><tr>\n",
       "                <td><strong>Memory address</strong></td>\n",
       "                <td>0x07f5c22352c10</td>\n",
       "            </tr><tr>\n",
       "                <td><strong>Stoichiometry</strong></td>\n",
       "                <td>\n",
       "                    <p style='text-align:right'>g3p_c + nad_c + pi_c <=> 13dpg_c + h_c + nadh_c</p>\n",
       "                    <p style='text-align:right'>Glyceraldehyde 3-phosphate + Nicotinamide adenine dinucleotide + Phosphate <=> 3-Phospho-D-glyceroyl phosphate + H+ + Nicotinamide adenine dinucleotide - reduced</p>\n",
       "                </td>\n",
       "            </tr><tr>\n",
       "                <td><strong>GPR</strong></td><td>YJL052W or YJR009C or YGR192C</td>\n",
       "            </tr><tr>\n",
       "                <td><strong>Lower bound</strong></td><td>-999999.0</td>\n",
       "            </tr><tr>\n",
       "                <td><strong>Upper bound</strong></td><td>999999.0</td>\n",
       "            </tr>\n",
       "        </table>\n",
       "        "
      ],
      "text/plain": [
       "<Reaction GAPD at 0x7f5c22352c10>"
      ]
     },
     "execution_count": 209,
     "metadata": {},
     "output_type": "execute_result"
    }
   ],
   "source": [
    "model_progesterone_coswap.reactions.GAPD"
   ]
  },
  {
   "cell_type": "markdown",
   "metadata": {},
   "source": []
  }
 ],
 "metadata": {
  "kernelspec": {
   "display_name": "Python 3.9.13 ('base')",
   "language": "python",
   "name": "python3"
  },
  "language_info": {
   "codemirror_mode": {
    "name": "ipython",
    "version": 3
   },
   "file_extension": ".py",
   "mimetype": "text/x-python",
   "name": "python",
   "nbconvert_exporter": "python",
   "pygments_lexer": "ipython3",
   "version": "3.9.13"
  },
  "orig_nbformat": 4,
  "vscode": {
   "interpreter": {
    "hash": "1c61bb7f5e5b8317d1eec5b8bcaa12241e8a88d5b6ba26b6e318bf21311ddd01"
   }
  }
 },
 "nbformat": 4,
 "nbformat_minor": 2
}
