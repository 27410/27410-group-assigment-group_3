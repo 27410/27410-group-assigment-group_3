{
 "cells": [
  {
   "cell_type": "markdown",
   "metadata": {},
   "source": [
    "# Co-factor swap"
   ]
  },
  {
   "cell_type": "markdown",
   "metadata": {},
   "source": [
    "<!-- The balance of co-factors within the cells is important \n",
    "In the implementated pathway of progesterone nine NADP and one NAD molecules \n",
    "In order for the cell to produce one pregesterone molecule through the implementated pathway nine NADPH molecules and one NAD $^+$ molecules are needed. \n",
    " -->\n",
    "\n",
    "\n",
    "\n",
    "The balance of co-factors within a cell is important to obtain a high theoretical yield of a given product (King, Zachary A., and Adam M. Feist, 2014). The NADP(H) and NAD(H) co-factors are needed in order for a cell to produce progesterone through the implemented pathway. Therefore, by increasing the concentration of available NADP(H) and NAD(H) co-factors in the cell, it should be theoretically possible to increase the yield of progesterone. \n",
    "This can be done using the “CofactorSwapOptimization” algorithm where possible target reactions to swap co-factors can be found.\n",
    "The obvious choice would be to increase available NAD(H) and NADP(H) on the cost of FAD(H2). However, no FADH2 in the cytosol is included in the model which makes this approach impossible. Therefore, we instead used the algorithm to increase the concentration of available NADP(H) on the cost of NAD(H). Since four NADPH and only one NAD(+) are used in the implemented pathway, this approach should also theoretically increase the yield of progesterone.\n",
    "\n",
    "In the code the following was done:\n",
    "- Model iMM904_progesterone was loaded\n",
    "- The objective was set to maximize the production of progesterone\n",
    "- The theoretical yield was set to production of progesterone divided by the optake of glucose\n",
    "- The algorithm was run and the result was visualized"
   ]
  },
  {
   "cell_type": "code",
   "execution_count": 1,
   "metadata": {},
   "outputs": [],
   "source": [
    "# Load libraries\n",
    "import numpy as np\n",
    "from cobra.io import read_sbml_model, write_sbml_model\n",
    "from cobra.util import create_stoichiometric_matrix\n",
    "from cobra import Reaction, Metabolite\n",
    "from cobra.core.gene import GPR\n",
    "from cameo.strain_design.heuristic.evolutionary_based import CofactorSwapOptimization\n",
    "from cameo.strain_design.heuristic.evolutionary.optimization import CofactorSwapOptimization\n",
    "from cameo.strain_design.heuristic.evolutionary.objective_functions import product_yield, biomass_product_coupled_yield\n",
    "from cameo.util import TimeMachine\n",
    "from cameo.flux_analysis.analysis import flux_variability_analysis as fva\n",
    "from cameo import load_model\n",
    "from matplotlib import pyplot as plt"
   ]
  },
  {
   "cell_type": "code",
   "execution_count": 2,
   "metadata": {},
   "outputs": [
    {
     "name": "stdout",
     "output_type": "stream",
     "text": [
      "Loading models/iMM904_progesterone.xml\n"
     ]
    }
   ],
   "source": [
    "# Loading model\n",
    "infilename = 'models/iMM904_progesterone.xml'\n",
    "print(f\"Loading {infilename}\")\n",
    "model = load_model(infilename)"
   ]
  },
  {
   "cell_type": "code",
   "execution_count": 3,
   "metadata": {},
   "outputs": [
    {
     "name": "stdout",
     "output_type": "stream",
     "text": [
      "Objective set to maximize DM_progesterone_c: progesterone_c --> \n"
     ]
    }
   ],
   "source": [
    "# Choose the reaction that produced progesterone as the objective.\n",
    "objective_reaction = model.reactions.DM_progesterone_c\n",
    "model.objective = objective_reaction\n",
    "print(f'Objective set to maximize {objective_reaction.id}: {objective_reaction.reaction}')"
   ]
  },
  {
   "cell_type": "code",
   "execution_count": 4,
   "metadata": {},
   "outputs": [
    {
     "data": {
      "text/latex": [
       "$$yield = \\frac{DM\\_progesterone\\_c}{EX\\_glc\\_\\_D\\_e}$$"
      ],
      "text/plain": [
       "<cameo.strain_design.heuristic.evolutionary.objective_functions.product_yield at 0x7ffea861c3d0>"
      ]
     },
     "execution_count": 4,
     "metadata": {},
     "output_type": "execute_result"
    }
   ],
   "source": [
    "# Setting the progesterone yield as the formation of progesterone divided by the optake of glucose\n",
    "py = product_yield(model.reactions.DM_progesterone_c, model.exchanges.EX_glc__D_e)\n",
    "py"
   ]
  },
  {
   "cell_type": "code",
   "execution_count": 5,
   "metadata": {},
   "outputs": [
    {
     "name": "stdout",
     "output_type": "stream",
     "text": [
      "Co-factor swap optimization of the model iMM904_progesterone used to increase available nadp_c and nadph_c on the cost of nad_c and nadh_c\n",
      "Starting optimization at Mon, 28 Nov 2022 20:45:05\n"
     ]
    },
    {
     "data": {
      "application/vnd.jupyter.widget-view+json": {
       "model_id": "055b1af6d7974478bbd8b77d86929c4c",
       "version_major": 2,
       "version_minor": 0
      },
      "text/plain": [
       "HBox()"
      ]
     },
     "metadata": {},
     "output_type": "display_data"
    },
    {
     "name": "stdout",
     "output_type": "stream",
     "text": [
      "Finished after 00:00:23\n"
     ]
    }
   ],
   "source": [
    "# Running the CofactorSwapOptimization Algorithm\n",
    "# Find reactions that all have the targeted co-factor pairs and add reactions that have the co-factors swapped.\n",
    "swap = CofactorSwapOptimization(model=model, cofactor_id_swaps=([\"nadp_c\",\"nadph_c\"],[\"nad_c\",\"nadh_c\"]),objective_function=py)\n",
    "print(f'Co-factor swap optimization of the model {model.id} used to increase available {swap._metadata[\"swap_pairs\"][0][0]} and {swap._metadata[\"swap_pairs\"][0][1]} on the cost of {swap._metadata[\"swap_pairs\"][1][0]} and {swap._metadata[\"swap_pairs\"][1][1]}')\n",
    "solution_1 = swap.run(max_size = 10)"
   ]
  },
  {
   "cell_type": "code",
   "execution_count": 6,
   "metadata": {},
   "outputs": [
    {
     "data": {
      "text/html": [
       "\n",
       "        <h4>Result:</h4>\n",
       "        <ul>\n",
       "            <li>model: iMM904_progesterone</li>\n",
       "            <li>heuristic: GA</li>\n",
       "            <li>objective function: $$yield = \\frac{DM\\_progesterone\\_c}{EX\\_glc\\_\\_D\\_e}$$</li>\n",
       "            <li>simulation method: pfba</li>\n",
       "            <li>target type: cofactor-swap</li>\n",
       "        <ul>\n",
       "        <div>\n",
       "<style scoped>\n",
       "    .dataframe tbody tr th:only-of-type {\n",
       "        vertical-align: middle;\n",
       "    }\n",
       "\n",
       "    .dataframe tbody tr th {\n",
       "        vertical-align: top;\n",
       "    }\n",
       "\n",
       "    .dataframe thead th {\n",
       "        text-align: right;\n",
       "    }\n",
       "</style>\n",
       "<table border=\"1\" class=\"dataframe\">\n",
       "  <thead>\n",
       "    <tr style=\"text-align: right;\">\n",
       "      <th></th>\n",
       "      <th>index</th>\n",
       "      <th>targets</th>\n",
       "      <th>fitness</th>\n",
       "    </tr>\n",
       "  </thead>\n",
       "  <tbody>\n",
       "    <tr>\n",
       "      <th>0</th>\n",
       "      <td>0</td>\n",
       "      <td>(GAPD,)</td>\n",
       "      <td>0.141892</td>\n",
       "    </tr>\n",
       "    <tr>\n",
       "      <th>1</th>\n",
       "      <td>3</td>\n",
       "      <td>(ALCD2x_copy2,)</td>\n",
       "      <td>0.133758</td>\n",
       "    </tr>\n",
       "    <tr>\n",
       "      <th>2</th>\n",
       "      <td>4</td>\n",
       "      <td>(ALCD2x_copy1,)</td>\n",
       "      <td>0.133758</td>\n",
       "    </tr>\n",
       "    <tr>\n",
       "      <th>3</th>\n",
       "      <td>5</td>\n",
       "      <td>(C4STMO1, HMGCOAR)</td>\n",
       "      <td>0.133758</td>\n",
       "    </tr>\n",
       "    <tr>\n",
       "      <th>4</th>\n",
       "      <td>12</td>\n",
       "      <td>(HMGCOAR, C3STKR1)</td>\n",
       "      <td>0.131250</td>\n",
       "    </tr>\n",
       "    <tr>\n",
       "      <th>5</th>\n",
       "      <td>13</td>\n",
       "      <td>(HMGCOAR,)</td>\n",
       "      <td>0.128835</td>\n",
       "    </tr>\n",
       "    <tr>\n",
       "      <th>6</th>\n",
       "      <td>14</td>\n",
       "      <td>(MDH,)</td>\n",
       "      <td>0.117978</td>\n",
       "    </tr>\n",
       "    <tr>\n",
       "      <th>7</th>\n",
       "      <td>15</td>\n",
       "      <td>(R07498, C4STMO1)</td>\n",
       "      <td>0.112300</td>\n",
       "    </tr>\n",
       "    <tr>\n",
       "      <th>8</th>\n",
       "      <td>17</td>\n",
       "      <td>(C4STMO2,)</td>\n",
       "      <td>0.110527</td>\n",
       "    </tr>\n",
       "    <tr>\n",
       "      <th>9</th>\n",
       "      <td>19</td>\n",
       "      <td>(SQLS, C3STDH2)</td>\n",
       "      <td>0.108809</td>\n",
       "    </tr>\n",
       "    <tr>\n",
       "      <th>10</th>\n",
       "      <td>20</td>\n",
       "      <td>(C3STDH2, C3STKR1)</td>\n",
       "      <td>0.108809</td>\n",
       "    </tr>\n",
       "    <tr>\n",
       "      <th>11</th>\n",
       "      <td>21</td>\n",
       "      <td>(SQLS, C14STR)</td>\n",
       "      <td>0.108809</td>\n",
       "    </tr>\n",
       "    <tr>\n",
       "      <th>12</th>\n",
       "      <td>22</td>\n",
       "      <td>(R01456,)</td>\n",
       "      <td>0.107143</td>\n",
       "    </tr>\n",
       "    <tr>\n",
       "      <th>13</th>\n",
       "      <td>23</td>\n",
       "      <td>(C3STKR1,)</td>\n",
       "      <td>0.107143</td>\n",
       "    </tr>\n",
       "    <tr>\n",
       "      <th>14</th>\n",
       "      <td>24</td>\n",
       "      <td>(C3STDH2,)</td>\n",
       "      <td>0.107143</td>\n",
       "    </tr>\n",
       "    <tr>\n",
       "      <th>15</th>\n",
       "      <td>25</td>\n",
       "      <td>(R07498,)</td>\n",
       "      <td>0.107143</td>\n",
       "    </tr>\n",
       "    <tr>\n",
       "      <th>16</th>\n",
       "      <td>27</td>\n",
       "      <td>(R02216,)</td>\n",
       "      <td>0.107143</td>\n",
       "    </tr>\n",
       "    <tr>\n",
       "      <th>17</th>\n",
       "      <td>28</td>\n",
       "      <td>(C3STDH1,)</td>\n",
       "      <td>0.107143</td>\n",
       "    </tr>\n",
       "    <tr>\n",
       "      <th>18</th>\n",
       "      <td>30</td>\n",
       "      <td>(R05703,)</td>\n",
       "      <td>0.107143</td>\n",
       "    </tr>\n",
       "    <tr>\n",
       "      <th>19</th>\n",
       "      <td>31</td>\n",
       "      <td>(SQLS,)</td>\n",
       "      <td>0.107143</td>\n",
       "    </tr>\n",
       "    <tr>\n",
       "      <th>20</th>\n",
       "      <td>32</td>\n",
       "      <td>(R07215,)</td>\n",
       "      <td>0.107143</td>\n",
       "    </tr>\n",
       "  </tbody>\n",
       "</table>\n",
       "</div>"
      ],
      "text/plain": [
       "<cameo.strain_design.heuristic.evolutionary.optimization.TargetOptimizationResult at 0x7f91254a20a0>"
      ]
     },
     "execution_count": 6,
     "metadata": {},
     "output_type": "execute_result"
    }
   ],
   "source": [
    "# Printing results\n",
    "solution_1"
   ]
  },
  {
   "cell_type": "markdown",
   "metadata": {},
   "source": [
    "The reactions listed above can be used as targets for co-factor swapping to increase the theoretical yield of progesterone. The single reaction with the highest fitness is GAPD which corospond with finding by King, Zachary A. and Adam M. Feist. This gene was therefore investigated further: "
   ]
  },
  {
   "cell_type": "code",
   "execution_count": 5,
   "metadata": {},
   "outputs": [
    {
     "data": {
      "text/html": [
       "\n",
       "        <table>\n",
       "            <tr>\n",
       "                <td><strong>Reaction identifier</strong></td><td>GAPD</td>\n",
       "            </tr><tr>\n",
       "                <td><strong>Name</strong></td><td>Glyceraldehyde-3-phosphate dehydrogenase</td>\n",
       "            </tr><tr>\n",
       "                <td><strong>Memory address</strong></td>\n",
       "                <td>0x07ffe2392ef10</td>\n",
       "            </tr><tr>\n",
       "                <td><strong>Stoichiometry</strong></td>\n",
       "                <td>\n",
       "                    <p style='text-align:right'>g3p_c + nad_c + pi_c <=> 13dpg_c + h_c + nadh_c</p>\n",
       "                    <p style='text-align:right'>Glyceraldehyde 3-phosphate + Nicotinamide adenine dinucleotide + Phosphate <=> 3-Phospho-D-glyceroyl phosphate + H+ + Nicotinamide adenine dinucleotide - reduced</p>\n",
       "                </td>\n",
       "            </tr><tr>\n",
       "                <td><strong>GPR</strong></td><td>YJL052W or YJR009C or YGR192C</td>\n",
       "            </tr><tr>\n",
       "                <td><strong>Lower bound</strong></td><td>-999999.0</td>\n",
       "            </tr><tr>\n",
       "                <td><strong>Upper bound</strong></td><td>999999.0</td>\n",
       "            </tr>\n",
       "        </table>\n",
       "        "
      ],
      "text/plain": [
       "<Reaction GAPD at 0x7ffe2392ef10>"
      ]
     },
     "execution_count": 5,
     "metadata": {},
     "output_type": "execute_result"
    }
   ],
   "source": [
    "# Stats of the GAPD reaction\n",
    "model.reactions.GAPD"
   ]
  },
  {
   "cell_type": "markdown",
   "metadata": {},
   "source": [
    "NAP(+) is converted into NADH in the GAPD reaction, however, by swapping the co-factor into NADP(H) it should be possible to get a higher concentration of available NADPH in the cell and thereby increasing the yield of progesterone. As seen above three genes in the model are able to make the GAPD reaction. Thus, to be able to make co-factor swapping these genes have to be knocked out and a NADP(+) dependent GAPD needs to be implemented in the model. This is done in the following code: "
   ]
  },
  {
   "cell_type": "code",
   "execution_count": 6,
   "metadata": {},
   "outputs": [
    {
     "name": "stdout",
     "output_type": "stream",
     "text": [
      "Loading models/iMM904_progesterone.xml\n"
     ]
    }
   ],
   "source": [
    "# Loading model\n",
    "infilename = 'models/iMM904_progesterone.xml'\n",
    "print(f\"Loading {infilename}\")\n",
    "model = load_model(infilename)"
   ]
  },
  {
   "cell_type": "code",
   "execution_count": 7,
   "metadata": {},
   "outputs": [
    {
     "name": "stdout",
     "output_type": "stream",
     "text": [
      "Model iMM904_progesterone_coswap1 were made as a copy of iMM904_progesterone\n",
      "For model iMM904_progesterone_coswap1:\n",
      "TDH1 were knocked out\n",
      "TDH2 were knocked out\n",
      "TDH3 were knocked out\n"
     ]
    }
   ],
   "source": [
    "# Knock out of GAPD genes\n",
    "KOs = [\"YJL052W\",\"YJR009C\",\"YGR192C\"]\n",
    "model_coswap1 = model.copy()\n",
    "model_coswap1.id = \"iMM904_progesterone_coswap1\"\n",
    "print(f\"Model {model_coswap1.id} were made as a copy of {model.id}\")\n",
    "print(f\"For model {model_coswap1.id}:\")\n",
    "for KO in KOs:\n",
    "    model_coswap1.genes.get_by_id(KO).knock_out()\n",
    "    if model_coswap1.genes.get_by_id(KO).functional == False:\n",
    "        print(f\"{model_coswap1.genes.get_by_id(KO).name} were knocked out\")"
   ]
  },
  {
   "cell_type": "code",
   "execution_count": 8,
   "metadata": {},
   "outputs": [
    {
     "name": "stdout",
     "output_type": "stream",
     "text": [
      "For model iMM904_progesterone_coswap1:\n",
      "Adding reaction R01063: g3p_c + nadp_c + pi_c <=> 13dpg_c + h_c + nadph_c | enzyme GDP1\n"
     ]
    }
   ],
   "source": [
    "# Adding NADP dependent GAPD reaction\n",
    "def import_reactions(reaction_dict,infilename):\n",
    "    for m, reactions in reaction_dict.items():\n",
    "        print(f\"For model {m.id}:\")\n",
    "        with open(infilename,\"r\") as infile:\n",
    "            infile.readline()\n",
    "            for line in infile:\n",
    "                line = line.rstrip().split(\",\")\n",
    "                if line[0] in reactions:\n",
    "                    r = Reaction(line[0])\n",
    "                    r.name = line[2]\n",
    "                    if line[3] != \"\":\n",
    "                        r.subsystem = line[3]\n",
    "                    r.lower_bound = float(line[4])\n",
    "                    r.upper_bound = float(line[5])\n",
    "                    if line[1] != \"\":\n",
    "                        r.gpr = GPR.from_string(line[1])\n",
    "                    for i in range(int(len(line[6:])/2)):\n",
    "                        metaboliteID = line[6+i*2]\n",
    "                        if metaboliteID != \"\":\n",
    "                            metaboliteID = m.metabolites.get_by_id(metaboliteID)\n",
    "                            bin = float(line[7+i*2])\n",
    "                            r.add_metabolites({metaboliteID:bin})\n",
    "                    print(f'Adding reaction {r} | enzyme {r.gpr}')\n",
    "                    m.add_reactions([r])\n",
    "\n",
    "reaction_dict = {model_coswap1:(\"R01063\")}\n",
    "import_reactions(reaction_dict,\"data/co-factor_swap_reactions.csv\")"
   ]
  },
  {
   "cell_type": "code",
   "execution_count": 9,
   "metadata": {},
   "outputs": [
    {
     "name": "stdout",
     "output_type": "stream",
     "text": [
      "iMM904_progesterone | Maximum growth: 0.288 gDW/h\n",
      "iMM904_progesterone_coswap1 | Maximum growth: 0.294 gDW/h\n"
     ]
    }
   ],
   "source": [
    "# Calculate maximum growth\n",
    "models = [model,model_coswap1]\n",
    "biomass = []\n",
    "for i, m in enumerate(models):\n",
    "    biomass.append(m.optimize().objective_value)\n",
    "    print(f'{m.id} | Maximum growth: {round(biomass[i],3)} gDW/h')"
   ]
  },
  {
   "cell_type": "code",
   "execution_count": 10,
   "metadata": {},
   "outputs": [
    {
     "name": "stdout",
     "output_type": "stream",
     "text": [
      "iMM904_progesterone | Maximum progesterone productivity: 0.167 mmol/gDW*h\n",
      "iMM904_progesterone_coswap1 | Maximum progesterone productivity: 0.167 mmol/gDW*h\n"
     ]
    }
   ],
   "source": [
    "# Calculate flux towards progesterone\n",
    "pp = []\n",
    "for i, m in enumerate(models):\n",
    "    with m:\n",
    "        objective_reaction = m.reactions.DM_progesterone_c\n",
    "        m.objective = objective_reaction\n",
    "        pp.append(m.optimize().objective_value)\n",
    "    print(f'{m.id} | Maximum progesterone productivity: {round(pp[i],3)} mmol/gDW*h')"
   ]
  },
  {
   "cell_type": "code",
   "execution_count": 11,
   "metadata": {},
   "outputs": [
    {
     "name": "stdout",
     "output_type": "stream",
     "text": [
      "Procentage increase in maximum growth: 2.04%\n"
     ]
    }
   ],
   "source": [
    "# Calculate procentage increase in µ\n",
    "print(f\"Procentage increase in maximum growth: {round((biomass[1]/biomass[0]-1)*100,2)}%\")"
   ]
  },
  {
   "cell_type": "code",
   "execution_count": 14,
   "metadata": {},
   "outputs": [
    {
     "data": {
      "image/png": "[encoded data removed]",
      "text/plain": [
       "<Figure size 640x480 with 1 Axes>"
      ]
     },
     "metadata": {},
     "output_type": "display_data"
    }
   ],
   "source": [
    "# Phase plane\n",
    "for md in models:\n",
    "    with md as m:\n",
    "        m.objective = m.reactions.DM_progesterone_c\n",
    "        m.optimize()\n",
    "        max_prog = m.reactions.DM_progesterone_c.flux\n",
    "        m.objective = m.reactions.BIOMASS_SC5_notrace\n",
    "        len = 100\n",
    "        pp = []\n",
    "        biomass = []\n",
    "        for i in range(len):\n",
    "            pp.append((i/(len-1))*max_prog)\n",
    "            m.reactions.DM_progesterone_c.lower_bound = pp[i]\n",
    "            biomass.append(m.optimize().objective_value)\n",
    "        plt.plot(biomass,pp)\n",
    "plt.legend([\"Native model\",\"Model with swapped co-factors\"])\n",
    "plt.xlabel(\"BIOMASS\")\n",
    "plt.ylabel(\"PROGESTERONE\")\n",
    "plt.title(\"PHASE PLANE\")\n",
    "plt.savefig('figures/06_phase_plane.png',bbox_inches='tight')\n",
    "plt.show()"
   ]
  },
  {
   "cell_type": "markdown",
   "metadata": {},
   "source": [
    "From the results it is clear that the maximum flux towards progesterone does not change by the co-factor swapping, however, the growth rate does. Interestingly, the co-factor swapping have a major effect on the phase plane, such that a 60% higher growth rate can be obtained with maximum progesterone productivity."
   ]
  },
  {
   "cell_type": "code",
   "execution_count": null,
   "metadata": {},
   "outputs": [
    {
     "name": "stdout",
     "output_type": "stream",
     "text": [
      "Saving to models/iMM904_progesterone_coswap1.xml\n"
     ]
    }
   ],
   "source": [
    "# Saving new model\n",
    "outfilename = \"models/\"+model_coswap1.id+\".xml\"\n",
    "print(f\"Saving to {outfilename}\")\n",
    "write_sbml_model(model_coswap1, outfilename)"
   ]
  },
  {
   "cell_type": "markdown",
   "metadata": {},
   "source": [
    "### References\n",
    "King, Zachary A., and Adam M. Feist. \"Optimal cofactor swapping can increase the theoretical yield for chemical production in Escherichia coli and Saccharomyces cerevisiae.\" Metabolic Engineering 24 (2014): 117-128."
   ]
  }
 ],
 "metadata": {
  "kernelspec": {
   "display_name": "Python 3.9.13 ('base')",
   "language": "python",
   "name": "python3"
  },
  "language_info": {
   "codemirror_mode": {
    "name": "ipython",
    "version": 3
   },
   "file_extension": ".py",
   "mimetype": "text/x-python",
   "name": "python",
   "nbconvert_exporter": "python",
   "pygments_lexer": "ipython3",
   "version": "3.9.13"
  },
  "orig_nbformat": 4,
  "vscode": {
   "interpreter": {
    "hash": "1c61bb7f5e5b8317d1eec5b8bcaa12241e8a88d5b6ba26b6e318bf21311ddd01"
   }
  }
 },
 "nbformat": 4,
 "nbformat_minor": 2
}
