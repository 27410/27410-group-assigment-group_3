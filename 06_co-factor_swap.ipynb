{
 "cells": [
  {
   "cell_type": "markdown",
   "metadata": {},
   "source": [
    "# Co-factor swap"
   ]
  },
  {
   "cell_type": "markdown",
   "metadata": {},
   "source": [
    "<!-- The balance of co-factors within the cells is important \n",
    "In the implementated pathway of progesterone nine NADP and one NAD molecules \n",
    "In order for the cell to produce one pregesterone molecule through the implementated pathway nine NADPH molecules and one NAD $^+$ molecules are needed. \n",
    " -->\n",
    "\n",
    "The balance of co-factors within a cell is important to obtain a high theoretical yield of a given product (https://www.sciencedirect.com/science/article/pii/S1096717614000688?fbclid=IwAR0k-nxrJ6UHrpNyxBcCXlJg58Ioj6N3e5nuFrbhUYAPYHiFNivh4yG3Zds#bib44). Nine NADPH molecules and one NAD $^+$ molecule are needed in order for a cell to produce one progesterone molecule through the implementated pathway. Therefore, by increasing the concentration of avaliable NADPH/NADP $^+$ and NADH/NAD $^+$ co-factors in the the cell, it should be theoretically possible to increase of the yield of progesterone. \n",
    "The CofactorSwapOptimization algorithm was used to obtain possible targets"
   ]
  },
  {
   "cell_type": "code",
   "execution_count": 1,
   "metadata": {},
   "outputs": [],
   "source": [
    "# Load libraries\n",
    "import numpy as np\n",
    "from cobra.io import read_sbml_model, write_sbml_model\n",
    "from cobra.util import create_stoichiometric_matrix\n",
    "from cobra import Reaction, Metabolite\n",
    "from cobra.core.gene import GPR\n",
    "from cameo.strain_design.heuristic.evolutionary_based import CofactorSwapOptimization\n",
    "from cameo.strain_design.heuristic.evolutionary.optimization import CofactorSwapOptimization\n",
    "from cameo.strain_design.heuristic.evolutionary.objective_functions import product_yield, biomass_product_coupled_yield\n",
    "from cameo.util import TimeMachine\n",
    "from cameo.flux_analysis.analysis import flux_variability_analysis as fva\n",
    "from cameo import load_model"
   ]
  },
  {
   "cell_type": "code",
   "execution_count": 2,
   "metadata": {},
   "outputs": [
    {
     "name": "stdout",
     "output_type": "stream",
     "text": [
      "Loading models/iMM904_progesterone.xml\n"
     ]
    }
   ],
   "source": [
    "# Loading model\n",
    "infilename = 'models/iMM904_progesterone.xml'\n",
    "print(f\"Loading {infilename}\")\n",
    "model = load_model(infilename)"
   ]
  },
  {
   "cell_type": "code",
   "execution_count": 3,
   "metadata": {},
   "outputs": [
    {
     "name": "stdout",
     "output_type": "stream",
     "text": [
      "Adding reaction progesterone demand: progesterone_c --> \n"
     ]
    }
   ],
   "source": [
    "# Add demand reaction for progesterone\n",
    "model.add_boundary(model.metabolites.get_by_id('progesterone_c'), type='demand')\n",
    "print(f'Adding reaction {model.reactions.DM_progesterone_c.name}: {model.reactions.DM_progesterone_c.reaction}')"
   ]
  },
  {
   "cell_type": "code",
   "execution_count": 5,
   "metadata": {},
   "outputs": [
    {
     "name": "stdout",
     "output_type": "stream",
     "text": [
      "Objective set to maximize R02216: nad_c + pregnenolone_c <=> h_c + nadh_c + progesterone_c\n"
     ]
    }
   ],
   "source": [
    "# Choose the reaction that produced progesterone as the objective.\n",
    "objective_reaction = model.reactions.R02216\n",
    "model.objective = objective_reaction\n",
    "print(f'Objective set to maximize {objective_reaction.id}: {objective_reaction.reaction}')"
   ]
  },
  {
   "cell_type": "code",
   "execution_count": 6,
   "metadata": {},
   "outputs": [
    {
     "data": {
      "text/latex": [
       "$$yield = \\frac{R02216}{EX\\_glc\\_\\_D\\_e}$$"
      ],
      "text/plain": [
       "<cameo.strain_design.heuristic.evolutionary.objective_functions.product_yield at 0x7fb179fdc370>"
      ]
     },
     "execution_count": 6,
     "metadata": {},
     "output_type": "execute_result"
    }
   ],
   "source": [
    "# Setting the progesterone yield as the formation of progesterone divided by the optake of glucose\n",
    "py = product_yield(model.reactions.R02216, model.exchanges.EX_glc__D_e)\n",
    "py"
   ]
  },
  {
   "cell_type": "code",
   "execution_count": 58,
   "metadata": {},
   "outputs": [
    {
     "name": "stdout",
     "output_type": "stream",
     "text": [
      "Co-factor swap optimization of the model iMM904_progesterone used to increase available nadp_c and nadph_c on the cost of nad_c and nadh_c\n",
      "Starting optimization at Mon, 21 Nov 2022 20:13:04\n"
     ]
    },
    {
     "data": {
      "application/vnd.jupyter.widget-view+json": {
       "model_id": "ff725b0cfadb4839921146fda13ee6e5",
       "version_major": 2,
       "version_minor": 0
      },
      "text/plain": [
       "HBox()"
      ]
     },
     "metadata": {},
     "output_type": "display_data"
    },
    {
     "name": "stdout",
     "output_type": "stream",
     "text": [
      "Finished after 00:03:44\n"
     ]
    }
   ],
   "source": [
    "# Running the CofactorSwapOptimization Algorithm\n",
    "# Find reactions that all have the targeted co-factor pairs and add reactions that have the co-factors swapped.\n",
    "swap_1 = CofactorSwapOptimization(model=model, cofactor_id_swaps=([\"nadp_c\",\"nadph_c\"],[\"nad_c\",\"nadh_c\"]),objective_function=py)\n",
    "print(f'Co-factor swap optimization of the model {model.id} used to increase available {swap_1._metadata[\"swap_pairs\"][0][0]} and {swap_1._metadata[\"swap_pairs\"][0][1]} on the cost of {swap_1._metadata[\"swap_pairs\"][1][0]} and {swap_1._metadata[\"swap_pairs\"][1][1]}')\n",
    "solution_1 = swap_1.run(max_size = 10)\n",
    "print(\"\\n\")\n",
    "swap_2 = CofactorSwapOptimization(model=model, cofactor_id_swaps=([\"nadp_c\",\"nadph_c\"],[\"fad_c\",\"fadh2_m\"]),objective_function=py)\n",
    "print(f'Co-factor swap optimization of the model {model.id} used to increase available {swap_1._metadata[\"swap_pairs\"][0][0]} and {swap_1._metadata[\"swap_pairs\"][0][1]} on the cost of {swap_1._metadata[\"swap_pairs\"][1][0]} and {swap_1._metadata[\"swap_pairs\"][1][1]}')\n",
    "solution_2 = swap_2.run(max_size = 10)\n",
    "print(\"\\n\")\n",
    "swap_3 = CofactorSwapOptimization(model=model, cofactor_id_swaps=([\"nad_c\",\"nadh_c\"],[\"fad_c\",\"fadh2_c\"]),objective_function=py)\n",
    "print(f'Co-factor swap optimization of the model {model.id} used to increase available {swap_1._metadata[\"swap_pairs\"][0][0]} and {swap_1._metadata[\"swap_pairs\"][0][1]} on the cost of {swap_1._metadata[\"swap_pairs\"][1][0]} and {swap_1._metadata[\"swap_pairs\"][1][1]}')\n",
    "solution_3 = swap_2.run(max_size = 10)"
   ]
  },
  {
   "cell_type": "code",
   "execution_count": null,
   "metadata": {},
   "outputs": [
    {
     "name": "stdout",
     "output_type": "stream",
     "text": [
      "The following reaction can be used as targets for co-factor swaping:\n",
      "\n",
      "R01456: dehydrocholesterol_c + h_c + nadph_c --> cholesterol_c + nadp_c\n",
      "GAPD: g3p_c + nad_c + pi_c <=> 13dpg_c + h_c + nadh_c\n",
      "C4STMO2: 4mzym_c + 3.0 h_c + 3.0 nadph_c + 3.0 o2_c --> 4.0 h2o_c + 3.0 nadp_c + zym_int1_c\n",
      "ALCD2x_copy2: etoh_c + nad_c <=> acald_c + h_c + nadh_c\n",
      "GLUDy: glu__L_c + h2o_c + nadp_c <-- akg_c + h_c + nadph_c + nh4_c\n",
      "C14STR: 44mctr_c + h_c + nadph_c --> 44mzym_c + nadp_c\n",
      "ALCD2x_copy1: etoh_c + nad_c --> acald_c + h_c + nadh_c\n",
      "MDH: mal__L_c + nad_c <=> h_c + nadh_c + oaa_c\n",
      "ECYP11A1: cholesterol_c + 6.0 h_c + 6.0 nadph_c + 3.0 o2_c --> 4.0 h2o_c + methylpentanal_c + 6.0 nadp_c + pregnenolone_c\n",
      "R07215: h_c + lathosterol_c + nadph_c + o2_c --> dehydrocholesterol_c + 2.0 h2o_c + nadp_c\n",
      "R07498: h_c + nadph_c + zymst_c <=> cholesta8en3betaol_c + nadp_c\n",
      "C3STKR2: h_c + nadph_c + zym_int2_c --> nadp_c + zymst_c\n",
      "R02216: nad_c + pregnenolone_c <=> h_c + nadh_c + progesterone_c\n",
      "C4STMO1: 44mzym_c + 3.0 h_c + 3.0 nadph_c + 3.0 o2_c --> 4mzym_int1_c + 4.0 h2o_c + 3.0 nadp_c\n",
      "C3STDH2: nad_c + zym_int1_c --> co2_c + h_c + nadh_c + zym_int2_c\n",
      "SBTR: glc__D_c + h_c + nadph_c --> nadp_c + sbt__D_c\n",
      "R05703: cholesta724dien3betaol_c + h_c + nadph_c <=> lathosterol_c + nadp_c\n",
      "SBTD_D2: nad_c + sbt__D_c --> fru_c + h_c + nadh_c\n",
      "SQLS: 2.0 frdp_c + h_c + nadph_c --> nadp_c + 2.0 ppi_c + sql_c\n",
      "C3STKR1: 4mzym_int2_c + h_c + nadph_c --> 4mzym_c + nadp_c\n",
      "HMGCOAR: coa_c + mev__R_c + 2.0 nadp_c <=> 2.0 h_c + hmgcoa_c + 2.0 nadph_c\n",
      "C3STDH1: 4mzym_int1_c + nad_c --> 4mzym_int2_c + co2_c + h_c + nadh_c\n"
     ]
    }
   ],
   "source": [
    "# Printing result\n",
    "print(\"The following reactions can be used as targets for co-factor swaping:\\n\")\n",
    "target_set = set()\n",
    "for target in solution_1.data_frame.targets:\n",
    "    for id in target:\n",
    "        target_set.add(id)\n",
    "for id in target_set:\n",
    "    print(model.reactions.get_by_id(id))\n",
    "print(\"\\n\")\n",
    "print(\"The following reactions can be used as targets for co-factor swaping:\\n\")\n",
    "target_set = set()\n",
    "for target in solution_2.data_frame.targets:\n",
    "    for id in target:\n",
    "        target_set.add(id)\n",
    "for id in target_set:\n",
    "    print(model.reactions.get_by_id(id))\n",
    "print(\"\\n\")\n",
    "print(\"The following reactions can be used as targets for co-factor swaping:\\n\")\n",
    "target_set = set()\n",
    "for target in solution_3.data_frame.targets:\n",
    "    for id in target:\n",
    "        target_set.add(id)\n",
    "for id in target_set:\n",
    "    print(model.reactions.get_by_id(id))\n",
    "print(\"\\n\")"
   ]
  },
  {
   "cell_type": "code",
   "execution_count": 16,
   "metadata": {},
   "outputs": [
    {
     "data": {
      "text/latex": [
       "$$yield = \\frac{R02216}{EX\\_glc\\_\\_D\\_e}$$"
      ],
      "text/plain": [
       "<cameo.strain_design.heuristic.evolutionary.objective_functions.product_yield at 0x7fb179fdc370>"
      ]
     },
     "execution_count": 16,
     "metadata": {},
     "output_type": "execute_result"
    }
   ],
   "source": [
    "# Finding the optimal fluxes through each reaction when the objective is biomass production \n",
    "Fluxes = model.optimize()\n",
    "Fluxes"
   ]
  }
 ],
 "metadata": {
  "kernelspec": {
   "display_name": "Python 3.9.13 ('base')",
   "language": "python",
   "name": "python3"
  },
  "language_info": {
   "codemirror_mode": {
    "name": "ipython",
    "version": 3
   },
   "file_extension": ".py",
   "mimetype": "text/x-python",
   "name": "python",
   "nbconvert_exporter": "python",
   "pygments_lexer": "ipython3",
   "version": "3.9.13"
  },
  "orig_nbformat": 4,
  "vscode": {
   "interpreter": {
    "hash": "1c61bb7f5e5b8317d1eec5b8bcaa12241e8a88d5b6ba26b6e318bf21311ddd01"
   }
  }
 },
 "nbformat": 4,
 "nbformat_minor": 2
}
