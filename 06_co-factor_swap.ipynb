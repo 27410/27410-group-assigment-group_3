{
 "cells": [
  {
   "cell_type": "markdown",
   "metadata": {},
   "source": [
    "# Co-factor swap"
   ]
  },
  {
   "cell_type": "markdown",
   "metadata": {},
   "source": [
    "Some text"
   ]
  },
  {
   "cell_type": "code",
   "execution_count": 1,
   "metadata": {},
   "outputs": [],
   "source": [
    "# Load libraries\n",
    "import numpy as np\n",
    "from cobra.io import read_sbml_model, write_sbml_model\n",
    "from cobra.util import create_stoichiometric_matrix\n",
    "from cobra import Reaction, Metabolite\n",
    "from cobra.core.gene import GPR\n",
    "from cameo.strain_design.heuristic.evolutionary_based import CofactorSwapOptimization\n",
    "from cameo.strain_design.heuristic.evolutionary.optimization import CofactorSwapOptimization\n",
    "from cameo.strain_design.heuristic.evolutionary.objective_functions import product_yield, biomass_product_coupled_yield\n",
    "from cameo.util import TimeMachine\n",
    "from cameo.flux_analysis.analysis import flux_variability_analysis as fva\n",
    "from cameo import load_model"
   ]
  },
  {
   "cell_type": "code",
   "execution_count": 2,
   "metadata": {},
   "outputs": [
    {
     "name": "stdout",
     "output_type": "stream",
     "text": [
      "Loading models/iMM904_progesterone.xml\n"
     ]
    }
   ],
   "source": [
    "# Loading model\n",
    "infilename = 'models/iMM904_progesterone.xml'\n",
    "print(f\"Loading {infilename}\")\n",
    "model = load_model(infilename)"
   ]
  },
  {
   "cell_type": "code",
   "execution_count": 3,
   "metadata": {},
   "outputs": [
    {
     "name": "stdout",
     "output_type": "stream",
     "text": [
      "Adding reaction progesterone demand: progesterone_c --> \n"
     ]
    }
   ],
   "source": [
    "# Add demand reaction for progesterone\n",
    "model.add_boundary(model.metabolites.get_by_id('progesterone_c'), type='demand')\n",
    "print(f'Adding reaction {model.reactions.DM_progesterone_c.name}: {model.reactions.DM_progesterone_c.reaction}')"
   ]
  },
  {
   "cell_type": "code",
   "execution_count": 4,
   "metadata": {},
   "outputs": [
    {
     "data": {
      "text/html": [
       "<strong><em>Optimal</em> solution with objective value 0.288</strong><br><div>\n",
       "<style scoped>\n",
       "    .dataframe tbody tr th:only-of-type {\n",
       "        vertical-align: middle;\n",
       "    }\n",
       "\n",
       "    .dataframe tbody tr th {\n",
       "        vertical-align: top;\n",
       "    }\n",
       "\n",
       "    .dataframe thead th {\n",
       "        text-align: right;\n",
       "    }\n",
       "</style>\n",
       "<table border=\"1\" class=\"dataframe\">\n",
       "  <thead>\n",
       "    <tr style=\"text-align: right;\">\n",
       "      <th></th>\n",
       "      <th>fluxes</th>\n",
       "      <th>reduced_costs</th>\n",
       "    </tr>\n",
       "  </thead>\n",
       "  <tbody>\n",
       "    <tr>\n",
       "      <th>CITtcp</th>\n",
       "      <td>0.00000</td>\n",
       "      <td>0.000000</td>\n",
       "    </tr>\n",
       "    <tr>\n",
       "      <th>13BGH</th>\n",
       "      <td>0.00000</td>\n",
       "      <td>-0.047516</td>\n",
       "    </tr>\n",
       "    <tr>\n",
       "      <th>13BGHe</th>\n",
       "      <td>0.00000</td>\n",
       "      <td>0.000000</td>\n",
       "    </tr>\n",
       "    <tr>\n",
       "      <th>13GS</th>\n",
       "      <td>0.32667</td>\n",
       "      <td>0.000000</td>\n",
       "    </tr>\n",
       "    <tr>\n",
       "      <th>16GS</th>\n",
       "      <td>0.00000</td>\n",
       "      <td>0.000000</td>\n",
       "    </tr>\n",
       "    <tr>\n",
       "      <th>...</th>\n",
       "      <td>...</td>\n",
       "      <td>...</td>\n",
       "    </tr>\n",
       "    <tr>\n",
       "      <th>R03353</th>\n",
       "      <td>0.00000</td>\n",
       "      <td>0.000000</td>\n",
       "    </tr>\n",
       "    <tr>\n",
       "      <th>R07215</th>\n",
       "      <td>0.00000</td>\n",
       "      <td>0.000000</td>\n",
       "    </tr>\n",
       "    <tr>\n",
       "      <th>R04804</th>\n",
       "      <td>0.00000</td>\n",
       "      <td>0.000000</td>\n",
       "    </tr>\n",
       "    <tr>\n",
       "      <th>SK_methylpentanal_c</th>\n",
       "      <td>0.00000</td>\n",
       "      <td>0.000000</td>\n",
       "    </tr>\n",
       "    <tr>\n",
       "      <th>DM_progesterone_c</th>\n",
       "      <td>0.00000</td>\n",
       "      <td>-1.617116</td>\n",
       "    </tr>\n",
       "  </tbody>\n",
       "</table>\n",
       "<p>1587 rows × 2 columns</p>\n",
       "</div>"
      ],
      "text/plain": [
       "<Solution 0.288 at 0x7fde293b71f0>"
      ]
     },
     "execution_count": 4,
     "metadata": {},
     "output_type": "execute_result"
    }
   ],
   "source": [
    "# Finding the optimal fluxes through each reaction when the objective is biomass production \n",
    "Fluxes = model.optimize()\n",
    "Fluxes"
   ]
  },
  {
   "cell_type": "code",
   "execution_count": 5,
   "metadata": {},
   "outputs": [
    {
     "name": "stdout",
     "output_type": "stream",
     "text": [
      "Objective set to maximize R02216: nad_c + pregnenolone_c <=> h_c + nadh_c + progesterone_c\n"
     ]
    }
   ],
   "source": [
    "# Choose the reaction that produced progesterone as the objective.\n",
    "objective_reaction = model.reactions.R02216\n",
    "model.objective = objective_reaction\n",
    "print(f'Objective set to maximize {objective_reaction.id}: {objective_reaction.reaction}')"
   ]
  },
  {
   "cell_type": "code",
   "execution_count": 6,
   "metadata": {},
   "outputs": [
    {
     "data": {
      "text/latex": [
       "$$yield = \\frac{R02216}{EX\\_glc\\_\\_D\\_e}$$"
      ],
      "text/plain": [
       "<cameo.strain_design.heuristic.evolutionary.objective_functions.product_yield at 0x7fddb2463e80>"
      ]
     },
     "execution_count": 6,
     "metadata": {},
     "output_type": "execute_result"
    }
   ],
   "source": [
    "# Setting the progesterone yield from glucose as substrate\n",
    "py = product_yield(model.reactions.R02216, model.exchanges.EX_glc__D_e)\n",
    "py"
   ]
  },
  {
   "cell_type": "code",
   "execution_count": 7,
   "metadata": {},
   "outputs": [],
   "source": [
    "#optswap"
   ]
  },
  {
   "cell_type": "code",
   "execution_count": 8,
   "metadata": {},
   "outputs": [
    {
     "data": {
      "text/plain": [
       "<cameo.strain_design.heuristic.evolutionary.optimization.CofactorSwapOptimization at 0x7fddb26cd340>"
      ]
     },
     "execution_count": 8,
     "metadata": {},
     "output_type": "execute_result"
    }
   ],
   "source": [
    "# Find reactions that all have the targeted co-factor pairs and add reactions that have the co-factors swapped.\n",
    "swap_1 = CofactorSwapOptimization(model=model, cofactor_id_swaps=([\"nad_c\",\"nadh_c\"],[\"nadp_c\",\"nadph_c\"]),objective_function=py)\n",
    "\n",
    "swap_1"
   ]
  },
  {
   "cell_type": "code",
   "execution_count": null,
   "metadata": {},
   "outputs": [],
   "source": []
  },
  {
   "cell_type": "code",
   "execution_count": 9,
   "metadata": {},
   "outputs": [
    {
     "name": "stdout",
     "output_type": "stream",
     "text": [
      "Starting optimization at Fri, 18 Nov 2022 15:10:08\n"
     ]
    },
    {
     "data": {
      "application/vnd.jupyter.widget-view+json": {
       "model_id": "7e90322cfdb24b688a255eb6151f950f",
       "version_major": 2,
       "version_minor": 0
      },
      "text/plain": [
       "HBox()"
      ]
     },
     "metadata": {},
     "output_type": "display_data"
    },
    {
     "name": "stdout",
     "output_type": "stream",
     "text": [
      "Finished after 00:03:44\n"
     ]
    }
   ],
   "source": [
    "# Identify the reactions that when swapped to another co-factor improve the production of progesterone\n",
    "solution = swap_1.run(max_size = 20)"
   ]
  },
  {
   "cell_type": "code",
   "execution_count": 10,
   "metadata": {},
   "outputs": [
    {
     "data": {
      "text/html": [
       "\n",
       "        <h4>Result:</h4>\n",
       "        <ul>\n",
       "            <li>model: iMM904_progesterone</li>\n",
       "            <li>heuristic: GA</li>\n",
       "            <li>objective function: $$yield = \\frac{R02216}{EX\\_glc\\_\\_D\\_e}$$</li>\n",
       "            <li>simulation method: pfba</li>\n",
       "            <li>target type: cofactor-swap</li>\n",
       "        <ul>\n",
       "        <div>\n",
       "<style scoped>\n",
       "    .dataframe tbody tr th:only-of-type {\n",
       "        vertical-align: middle;\n",
       "    }\n",
       "\n",
       "    .dataframe tbody tr th {\n",
       "        vertical-align: top;\n",
       "    }\n",
       "\n",
       "    .dataframe thead th {\n",
       "        text-align: right;\n",
       "    }\n",
       "</style>\n",
       "<table border=\"1\" class=\"dataframe\">\n",
       "  <thead>\n",
       "    <tr style=\"text-align: right;\">\n",
       "      <th></th>\n",
       "      <th>index</th>\n",
       "      <th>targets</th>\n",
       "      <th>fitness</th>\n",
       "    </tr>\n",
       "  </thead>\n",
       "  <tbody>\n",
       "    <tr>\n",
       "      <th>0</th>\n",
       "      <td>0</td>\n",
       "      <td>(GAPD, LNS14DMx)</td>\n",
       "      <td>0.351464</td>\n",
       "    </tr>\n",
       "    <tr>\n",
       "      <th>1</th>\n",
       "      <td>1</td>\n",
       "      <td>(GAPD,)</td>\n",
       "      <td>0.342857</td>\n",
       "    </tr>\n",
       "    <tr>\n",
       "      <th>2</th>\n",
       "      <td>5</td>\n",
       "      <td>(ALCD2x_copy1,)</td>\n",
       "      <td>0.323077</td>\n",
       "    </tr>\n",
       "    <tr>\n",
       "      <th>3</th>\n",
       "      <td>6</td>\n",
       "      <td>(ALCD2x_copy2,)</td>\n",
       "      <td>0.323077</td>\n",
       "    </tr>\n",
       "    <tr>\n",
       "      <th>4</th>\n",
       "      <td>12</td>\n",
       "      <td>(MTHFD, MTHFD2i)</td>\n",
       "      <td>0.323077</td>\n",
       "    </tr>\n",
       "    <tr>\n",
       "      <th>5</th>\n",
       "      <td>23</td>\n",
       "      <td>(MDH, ECYP11A1, R07215)</td>\n",
       "      <td>0.289655</td>\n",
       "    </tr>\n",
       "    <tr>\n",
       "      <th>6</th>\n",
       "      <td>24</td>\n",
       "      <td>(GLUDy, C3STDH1, MDH, G3PD1ir)</td>\n",
       "      <td>0.271844</td>\n",
       "    </tr>\n",
       "    <tr>\n",
       "      <th>7</th>\n",
       "      <td>25</td>\n",
       "      <td>(C4STMO2, MDH)</td>\n",
       "      <td>0.258461</td>\n",
       "    </tr>\n",
       "    <tr>\n",
       "      <th>8</th>\n",
       "      <td>26</td>\n",
       "      <td>(R07498, HMGCOAR)</td>\n",
       "      <td>0.257668</td>\n",
       "    </tr>\n",
       "    <tr>\n",
       "      <th>9</th>\n",
       "      <td>27</td>\n",
       "      <td>(MDH,)</td>\n",
       "      <td>0.253012</td>\n",
       "    </tr>\n",
       "    <tr>\n",
       "      <th>10</th>\n",
       "      <td>28</td>\n",
       "      <td>(C4STMO1, R05703, ECYP11A1)</td>\n",
       "      <td>0.244186</td>\n",
       "    </tr>\n",
       "    <tr>\n",
       "      <th>11</th>\n",
       "      <td>30</td>\n",
       "      <td>(C3STKR1, ECYP11A1)</td>\n",
       "      <td>0.232044</td>\n",
       "    </tr>\n",
       "    <tr>\n",
       "      <th>12</th>\n",
       "      <td>31</td>\n",
       "      <td>(ECYP11A1,)</td>\n",
       "      <td>0.228261</td>\n",
       "    </tr>\n",
       "    <tr>\n",
       "      <th>13</th>\n",
       "      <td>32</td>\n",
       "      <td>(C3STKR1, C4STMO1, SQLS)</td>\n",
       "      <td>0.224599</td>\n",
       "    </tr>\n",
       "    <tr>\n",
       "      <th>14</th>\n",
       "      <td>33</td>\n",
       "      <td>(C4STMO2, C3STDH2, R07215)</td>\n",
       "      <td>0.224599</td>\n",
       "    </tr>\n",
       "    <tr>\n",
       "      <th>15</th>\n",
       "      <td>34</td>\n",
       "      <td>(R07215, C4STMO1, C3STKR2)</td>\n",
       "      <td>0.224599</td>\n",
       "    </tr>\n",
       "    <tr>\n",
       "      <th>16</th>\n",
       "      <td>35</td>\n",
       "      <td>(C4STMO2, SQLS, R01456)</td>\n",
       "      <td>0.224599</td>\n",
       "    </tr>\n",
       "    <tr>\n",
       "      <th>17</th>\n",
       "      <td>36</td>\n",
       "      <td>(C3STDH1, C3STKR1, C14STR, R07215)</td>\n",
       "      <td>0.221052</td>\n",
       "    </tr>\n",
       "    <tr>\n",
       "      <th>18</th>\n",
       "      <td>37</td>\n",
       "      <td>(C4STMO2,)</td>\n",
       "      <td>0.217616</td>\n",
       "    </tr>\n",
       "    <tr>\n",
       "      <th>19</th>\n",
       "      <td>39</td>\n",
       "      <td>(C4STMO1,)</td>\n",
       "      <td>0.217616</td>\n",
       "    </tr>\n",
       "    <tr>\n",
       "      <th>20</th>\n",
       "      <td>40</td>\n",
       "      <td>(C3STKR1, R01456, R07215)</td>\n",
       "      <td>0.217616</td>\n",
       "    </tr>\n",
       "    <tr>\n",
       "      <th>21</th>\n",
       "      <td>41</td>\n",
       "      <td>(C3STKR1, R05703, R02216)</td>\n",
       "      <td>0.217616</td>\n",
       "    </tr>\n",
       "    <tr>\n",
       "      <th>22</th>\n",
       "      <td>44</td>\n",
       "      <td>(SQLS, C14STR)</td>\n",
       "      <td>0.214286</td>\n",
       "    </tr>\n",
       "    <tr>\n",
       "      <th>23</th>\n",
       "      <td>45</td>\n",
       "      <td>(SQLS, R02216)</td>\n",
       "      <td>0.214286</td>\n",
       "    </tr>\n",
       "    <tr>\n",
       "      <th>24</th>\n",
       "      <td>47</td>\n",
       "      <td>(MDH, G6PDH2r, R07498)</td>\n",
       "      <td>0.214286</td>\n",
       "    </tr>\n",
       "    <tr>\n",
       "      <th>25</th>\n",
       "      <td>49</td>\n",
       "      <td>(C3STDH1,)</td>\n",
       "      <td>0.211055</td>\n",
       "    </tr>\n",
       "    <tr>\n",
       "      <th>26</th>\n",
       "      <td>50</td>\n",
       "      <td>(R01456,)</td>\n",
       "      <td>0.211055</td>\n",
       "    </tr>\n",
       "    <tr>\n",
       "      <th>27</th>\n",
       "      <td>51</td>\n",
       "      <td>(R05703,)</td>\n",
       "      <td>0.211055</td>\n",
       "    </tr>\n",
       "    <tr>\n",
       "      <th>28</th>\n",
       "      <td>52</td>\n",
       "      <td>(R07498,)</td>\n",
       "      <td>0.211055</td>\n",
       "    </tr>\n",
       "    <tr>\n",
       "      <th>29</th>\n",
       "      <td>53</td>\n",
       "      <td>(R02216,)</td>\n",
       "      <td>0.211055</td>\n",
       "    </tr>\n",
       "    <tr>\n",
       "      <th>30</th>\n",
       "      <td>54</td>\n",
       "      <td>(C3STKR1,)</td>\n",
       "      <td>0.211055</td>\n",
       "    </tr>\n",
       "    <tr>\n",
       "      <th>31</th>\n",
       "      <td>55</td>\n",
       "      <td>(C14STR,)</td>\n",
       "      <td>0.211055</td>\n",
       "    </tr>\n",
       "  </tbody>\n",
       "</table>\n",
       "</div>"
      ],
      "text/plain": [
       "<cameo.strain_design.heuristic.evolutionary.optimization.TargetOptimizationResult at 0x7fddb20f4850>"
      ]
     },
     "execution_count": 10,
     "metadata": {},
     "output_type": "execute_result"
    }
   ],
   "source": [
    "solution"
   ]
  },
  {
   "cell_type": "code",
   "execution_count": 11,
   "metadata": {},
   "outputs": [
    {
     "data": {
      "text/html": [
       "\n",
       "        <table>\n",
       "            <tr>\n",
       "                <td><strong>Name</strong></td>\n",
       "                <td>iMM904_progesterone</td>\n",
       "            </tr><tr>\n",
       "                <td><strong>Memory address</strong></td>\n",
       "                <td>0x07fde380c1310</td>\n",
       "            </tr><tr>\n",
       "                <td><strong>Number of metabolites</strong></td>\n",
       "                <td>1234</td>\n",
       "            </tr><tr>\n",
       "                <td><strong>Number of reactions</strong></td>\n",
       "                <td>1587</td>\n",
       "            </tr><tr>\n",
       "                <td><strong>Number of groups</strong></td>\n",
       "                <td>0</td>\n",
       "            </tr><tr>\n",
       "                <td><strong>Objective expression</strong></td>\n",
       "                <td>1.0*R02216 - 1.0*R02216_reverse_2ed70</td>\n",
       "            </tr><tr>\n",
       "                <td><strong>Compartments</strong></td>\n",
       "                <td>cytosol, extracellular space, mitochondria, peroxisome/glyoxysome, endoplasmic reticulum, vacuole, golgi apparatus, nucleus</td>\n",
       "            </tr>\n",
       "          </table>"
      ],
      "text/plain": [
       "<Model iMM904_progesterone at 0x7fde380c1310>"
      ]
     },
     "execution_count": 11,
     "metadata": {},
     "output_type": "execute_result"
    }
   ],
   "source": [
    "solution.model"
   ]
  },
  {
   "cell_type": "code",
   "execution_count": 12,
   "metadata": {},
   "outputs": [
    {
     "data": {
      "text/html": [
       "\n",
       "        <table>\n",
       "            <tr>\n",
       "                <td><strong>Name</strong></td>\n",
       "                <td>iMM904_progesterone</td>\n",
       "            </tr><tr>\n",
       "                <td><strong>Memory address</strong></td>\n",
       "                <td>0x07fde380c1310</td>\n",
       "            </tr><tr>\n",
       "                <td><strong>Number of metabolites</strong></td>\n",
       "                <td>1234</td>\n",
       "            </tr><tr>\n",
       "                <td><strong>Number of reactions</strong></td>\n",
       "                <td>1587</td>\n",
       "            </tr><tr>\n",
       "                <td><strong>Number of groups</strong></td>\n",
       "                <td>0</td>\n",
       "            </tr><tr>\n",
       "                <td><strong>Objective expression</strong></td>\n",
       "                <td>1.0*R02216 - 1.0*R02216_reverse_2ed70</td>\n",
       "            </tr><tr>\n",
       "                <td><strong>Compartments</strong></td>\n",
       "                <td>cytosol, extracellular space, mitochondria, peroxisome/glyoxysome, endoplasmic reticulum, vacuole, golgi apparatus, nucleus</td>\n",
       "            </tr>\n",
       "          </table>"
      ],
      "text/plain": [
       "<Model iMM904_progesterone at 0x7fde380c1310>"
      ]
     },
     "execution_count": 12,
     "metadata": {},
     "output_type": "execute_result"
    }
   ],
   "source": [
    "solution.model"
   ]
  },
  {
   "cell_type": "code",
   "execution_count": 13,
   "metadata": {},
   "outputs": [
    {
     "data": {
      "text/plain": [
       "0                       (GAPD, LNS14DMx)\n",
       "1                                (GAPD,)\n",
       "2                        (ALCD2x_copy1,)\n",
       "3                        (ALCD2x_copy2,)\n",
       "4                       (MTHFD, MTHFD2i)\n",
       "5                (MDH, ECYP11A1, R07215)\n",
       "6         (GLUDy, C3STDH1, MDH, G3PD1ir)\n",
       "7                         (C4STMO2, MDH)\n",
       "8                      (R07498, HMGCOAR)\n",
       "9                                 (MDH,)\n",
       "10           (C4STMO1, R05703, ECYP11A1)\n",
       "11                   (C3STKR1, ECYP11A1)\n",
       "12                           (ECYP11A1,)\n",
       "13              (C3STKR1, C4STMO1, SQLS)\n",
       "14            (C4STMO2, C3STDH2, R07215)\n",
       "15            (R07215, C4STMO1, C3STKR2)\n",
       "16               (C4STMO2, SQLS, R01456)\n",
       "17    (C3STDH1, C3STKR1, C14STR, R07215)\n",
       "18                            (C4STMO2,)\n",
       "19                            (C4STMO1,)\n",
       "20             (C3STKR1, R01456, R07215)\n",
       "21             (C3STKR1, R05703, R02216)\n",
       "22                        (SQLS, C14STR)\n",
       "23                        (SQLS, R02216)\n",
       "24                (MDH, G6PDH2r, R07498)\n",
       "25                            (C3STDH1,)\n",
       "26                             (R01456,)\n",
       "27                             (R05703,)\n",
       "28                             (R07498,)\n",
       "29                             (R02216,)\n",
       "30                            (C3STKR1,)\n",
       "31                             (C14STR,)\n",
       "Name: targets, dtype: object"
      ]
     },
     "execution_count": 13,
     "metadata": {},
     "output_type": "execute_result"
    }
   ],
   "source": [
    "reactions=solution.data_frame.targets\n",
    "reactions"
   ]
  },
  {
   "cell_type": "code",
   "execution_count": 14,
   "metadata": {},
   "outputs": [
    {
     "name": "stdout",
     "output_type": "stream",
     "text": [
      "Reactions:\n",
      "Glyceraldehyde 3-phosphate + Phosphate + Nicotinamide adenine dinucleotide ==> 3-Phospho-D-glyceroyl phosphate + H+ + Nicotinamide adenine dinucleotide - reduced\n",
      "\n",
      "H+ + Lanosterol C30H50O + O2 O2 + Nicotinamide adenine dinucleotide - reduced ==> 4 4 dimethylcholesta 8 14 24 trienol C29H46O + Formate + H2O H2O + Nicotinamide adenine dinucleotide\n",
      "\n",
      "Reactions:\n",
      "Glyceraldehyde 3-phosphate + Phosphate + Nicotinamide adenine dinucleotide ==> 3-Phospho-D-glyceroyl phosphate + H+ + Nicotinamide adenine dinucleotide - reduced\n",
      "\n",
      "Reactions:\n",
      "Ethanol + Nicotinamide adenine dinucleotide ==> Acetaldehyde + H+ + Nicotinamide adenine dinucleotide - reduced\n",
      "\n",
      "Reactions:\n",
      "Ethanol + Nicotinamide adenine dinucleotide ==> Acetaldehyde + H+ + Nicotinamide adenine dinucleotide - reduced\n",
      "\n",
      "Reactions:\n",
      "5,10-Methylenetetrahydrofolate + Nicotinamide adenine dinucleotide phosphate ==> 5,10-Methenyltetrahydrofolate + Nicotinamide adenine dinucleotide phosphate - reduced\n",
      "\n",
      "5,10-Methylenetetrahydrofolate + Nicotinamide adenine dinucleotide ==> 5,10-Methenyltetrahydrofolate + Nicotinamide adenine dinucleotide - reduced\n",
      "\n",
      "Reactions:\n",
      "L-Malate + Nicotinamide adenine dinucleotide ==> H+ + Oxaloacetate + Nicotinamide adenine dinucleotide - reduced\n",
      "\n",
      "cholesterol + O2 O2 + H+ + Nicotinamide adenine dinucleotide phosphate - reduced ==> pregnenolone + 4-methylpentanal + H2O H2O + Nicotinamide adenine dinucleotide phosphate\n",
      "\n",
      "lathosterol + O2 O2 + H+ + Nicotinamide adenine dinucleotide phosphate - reduced ==> 7-dehydrocholesterol + H2O H2O + Nicotinamide adenine dinucleotide phosphate\n",
      "\n",
      "Reactions:\n",
      "L-Glutamate + H2O H2O + Nicotinamide adenine dinucleotide phosphate ==> 2-Oxoglutarate + H+ + Ammonium + Nicotinamide adenine dinucleotide phosphate - reduced\n",
      "\n",
      "4 Methylzymosterol intermediate 1 C29H46O3 + Nicotinamide adenine dinucleotide ==> 4 Methylzymosterol intermediate 2 C28H44O + CO2 CO2 + H+ + Nicotinamide adenine dinucleotide - reduced\n",
      "\n",
      "L-Malate + Nicotinamide adenine dinucleotide ==> H+ + Oxaloacetate + Nicotinamide adenine dinucleotide - reduced\n",
      "\n",
      "Dihydroxyacetone phosphate + H+ + Nicotinamide adenine dinucleotide - reduced ==> Glycerol 3-phosphate + Nicotinamide adenine dinucleotide\n",
      "\n",
      "Reactions:\n",
      "4 methylzymosterol C28H46O + H+ + O2 O2 + Nicotinamide adenine dinucleotide phosphate - reduced ==> H2O H2O + Zymosterol intermediate 1 C28H44O3 + Nicotinamide adenine dinucleotide phosphate\n",
      "\n",
      "L-Malate + Nicotinamide adenine dinucleotide ==> H+ + Oxaloacetate + Nicotinamide adenine dinucleotide - reduced\n",
      "\n",
      "Reactions:\n",
      "Zymosterol C27H44O + H+ + Nicotinamide adenine dinucleotide phosphate - reduced ==> 5alpha-Cholest-8-en-3beta-ol + Nicotinamide adenine dinucleotide phosphate\n",
      "\n",
      "Coenzyme A +  R  Mevalonate C6H11O4 + Nicotinamide adenine dinucleotide phosphate ==> H+ + Hydroxymethylglutaryl CoA C27H39N7O20P3S + Nicotinamide adenine dinucleotide phosphate - reduced\n",
      "\n",
      "Reactions:\n",
      "L-Malate + Nicotinamide adenine dinucleotide ==> H+ + Oxaloacetate + Nicotinamide adenine dinucleotide - reduced\n",
      "\n",
      "Reactions:\n",
      "4 4 dimethylzymosterol C29H48O + H+ + O2 O2 + Nicotinamide adenine dinucleotide phosphate - reduced ==> 4 Methylzymosterol intermediate 1 C29H46O3 + H2O H2O + Nicotinamide adenine dinucleotide phosphate\n",
      "\n",
      "5alpha-Cholesta-7_24-dien-3beta-ol + H+ + Nicotinamide adenine dinucleotide phosphate - reduced ==> lathosterol + Nicotinamide adenine dinucleotide phosphate\n",
      "\n",
      "cholesterol + O2 O2 + H+ + Nicotinamide adenine dinucleotide phosphate - reduced ==> pregnenolone + 4-methylpentanal + H2O H2O + Nicotinamide adenine dinucleotide phosphate\n",
      "\n",
      "Reactions:\n",
      "4 Methylzymosterol intermediate 2 C28H44O + H+ + Nicotinamide adenine dinucleotide phosphate - reduced ==> 4 methylzymosterol C28H46O + Nicotinamide adenine dinucleotide phosphate\n",
      "\n",
      "cholesterol + O2 O2 + H+ + Nicotinamide adenine dinucleotide phosphate - reduced ==> pregnenolone + 4-methylpentanal + H2O H2O + Nicotinamide adenine dinucleotide phosphate\n",
      "\n",
      "Reactions:\n",
      "cholesterol + O2 O2 + H+ + Nicotinamide adenine dinucleotide phosphate - reduced ==> pregnenolone + 4-methylpentanal + H2O H2O + Nicotinamide adenine dinucleotide phosphate\n",
      "\n",
      "Reactions:\n",
      "4 Methylzymosterol intermediate 2 C28H44O + H+ + Nicotinamide adenine dinucleotide phosphate - reduced ==> 4 methylzymosterol C28H46O + Nicotinamide adenine dinucleotide phosphate\n",
      "\n",
      "4 4 dimethylzymosterol C29H48O + H+ + O2 O2 + Nicotinamide adenine dinucleotide phosphate - reduced ==> 4 Methylzymosterol intermediate 1 C29H46O3 + H2O H2O + Nicotinamide adenine dinucleotide phosphate\n",
      "\n",
      "Farnesyl diphosphate + H+ + Nicotinamide adenine dinucleotide phosphate - reduced ==> Diphosphate + Squalene C30H50 + Nicotinamide adenine dinucleotide phosphate\n",
      "\n",
      "Reactions:\n",
      "4 methylzymosterol C28H46O + H+ + O2 O2 + Nicotinamide adenine dinucleotide phosphate - reduced ==> H2O H2O + Zymosterol intermediate 1 C28H44O3 + Nicotinamide adenine dinucleotide phosphate\n",
      "\n",
      "Zymosterol intermediate 1 C28H44O3 + Nicotinamide adenine dinucleotide ==> CO2 CO2 + H+ + Zymosterol intermediate 2 C27H42O + Nicotinamide adenine dinucleotide - reduced\n",
      "\n",
      "lathosterol + O2 O2 + H+ + Nicotinamide adenine dinucleotide phosphate - reduced ==> 7-dehydrocholesterol + H2O H2O + Nicotinamide adenine dinucleotide phosphate\n",
      "\n",
      "Reactions:\n",
      "lathosterol + O2 O2 + H+ + Nicotinamide adenine dinucleotide phosphate - reduced ==> 7-dehydrocholesterol + H2O H2O + Nicotinamide adenine dinucleotide phosphate\n",
      "\n",
      "4 4 dimethylzymosterol C29H48O + H+ + O2 O2 + Nicotinamide adenine dinucleotide phosphate - reduced ==> 4 Methylzymosterol intermediate 1 C29H46O3 + H2O H2O + Nicotinamide adenine dinucleotide phosphate\n",
      "\n",
      "H+ + Zymosterol intermediate 2 C27H42O + Nicotinamide adenine dinucleotide phosphate - reduced ==> Zymosterol C27H44O + Nicotinamide adenine dinucleotide phosphate\n",
      "\n",
      "Reactions:\n",
      "4 methylzymosterol C28H46O + H+ + O2 O2 + Nicotinamide adenine dinucleotide phosphate - reduced ==> H2O H2O + Zymosterol intermediate 1 C28H44O3 + Nicotinamide adenine dinucleotide phosphate\n",
      "\n",
      "Farnesyl diphosphate + H+ + Nicotinamide adenine dinucleotide phosphate - reduced ==> Diphosphate + Squalene C30H50 + Nicotinamide adenine dinucleotide phosphate\n",
      "\n",
      "7-dehydrocholesterol + H+ + Nicotinamide adenine dinucleotide phosphate - reduced ==> cholesterol + Nicotinamide adenine dinucleotide phosphate\n",
      "\n",
      "Reactions:\n",
      "4 Methylzymosterol intermediate 1 C29H46O3 + Nicotinamide adenine dinucleotide ==> 4 Methylzymosterol intermediate 2 C28H44O + CO2 CO2 + H+ + Nicotinamide adenine dinucleotide - reduced\n",
      "\n",
      "4 Methylzymosterol intermediate 2 C28H44O + H+ + Nicotinamide adenine dinucleotide phosphate - reduced ==> 4 methylzymosterol C28H46O + Nicotinamide adenine dinucleotide phosphate\n",
      "\n",
      "4 4 dimethylcholesta 8 14 24 trienol C29H46O + H+ + Nicotinamide adenine dinucleotide phosphate - reduced ==> 4 4 dimethylzymosterol C29H48O + Nicotinamide adenine dinucleotide phosphate\n",
      "\n",
      "lathosterol + O2 O2 + H+ + Nicotinamide adenine dinucleotide phosphate - reduced ==> 7-dehydrocholesterol + H2O H2O + Nicotinamide adenine dinucleotide phosphate\n",
      "\n",
      "Reactions:\n",
      "4 methylzymosterol C28H46O + H+ + O2 O2 + Nicotinamide adenine dinucleotide phosphate - reduced ==> H2O H2O + Zymosterol intermediate 1 C28H44O3 + Nicotinamide adenine dinucleotide phosphate\n",
      "\n",
      "Reactions:\n",
      "4 4 dimethylzymosterol C29H48O + H+ + O2 O2 + Nicotinamide adenine dinucleotide phosphate - reduced ==> 4 Methylzymosterol intermediate 1 C29H46O3 + H2O H2O + Nicotinamide adenine dinucleotide phosphate\n",
      "\n",
      "Reactions:\n",
      "4 Methylzymosterol intermediate 2 C28H44O + H+ + Nicotinamide adenine dinucleotide phosphate - reduced ==> 4 methylzymosterol C28H46O + Nicotinamide adenine dinucleotide phosphate\n",
      "\n",
      "7-dehydrocholesterol + H+ + Nicotinamide adenine dinucleotide phosphate - reduced ==> cholesterol + Nicotinamide adenine dinucleotide phosphate\n",
      "\n",
      "lathosterol + O2 O2 + H+ + Nicotinamide adenine dinucleotide phosphate - reduced ==> 7-dehydrocholesterol + H2O H2O + Nicotinamide adenine dinucleotide phosphate\n",
      "\n",
      "Reactions:\n",
      "4 Methylzymosterol intermediate 2 C28H44O + H+ + Nicotinamide adenine dinucleotide phosphate - reduced ==> 4 methylzymosterol C28H46O + Nicotinamide adenine dinucleotide phosphate\n",
      "\n",
      "5alpha-Cholesta-7_24-dien-3beta-ol + H+ + Nicotinamide adenine dinucleotide phosphate - reduced ==> lathosterol + Nicotinamide adenine dinucleotide phosphate\n",
      "\n",
      "pregnenolone + Nicotinamide adenine dinucleotide ==> progesterone + H+ + Nicotinamide adenine dinucleotide - reduced\n",
      "\n",
      "Reactions:\n",
      "Farnesyl diphosphate + H+ + Nicotinamide adenine dinucleotide phosphate - reduced ==> Diphosphate + Squalene C30H50 + Nicotinamide adenine dinucleotide phosphate\n",
      "\n",
      "4 4 dimethylcholesta 8 14 24 trienol C29H46O + H+ + Nicotinamide adenine dinucleotide phosphate - reduced ==> 4 4 dimethylzymosterol C29H48O + Nicotinamide adenine dinucleotide phosphate\n",
      "\n",
      "Reactions:\n",
      "Farnesyl diphosphate + H+ + Nicotinamide adenine dinucleotide phosphate - reduced ==> Diphosphate + Squalene C30H50 + Nicotinamide adenine dinucleotide phosphate\n",
      "\n",
      "pregnenolone + Nicotinamide adenine dinucleotide ==> progesterone + H+ + Nicotinamide adenine dinucleotide - reduced\n",
      "\n",
      "Reactions:\n",
      "L-Malate + Nicotinamide adenine dinucleotide ==> H+ + Oxaloacetate + Nicotinamide adenine dinucleotide - reduced\n",
      "\n",
      "D-Glucose 6-phosphate + Nicotinamide adenine dinucleotide phosphate ==> 6-phospho-D-glucono-1,5-lactone + H+ + Nicotinamide adenine dinucleotide phosphate - reduced\n",
      "\n",
      "Zymosterol C27H44O + H+ + Nicotinamide adenine dinucleotide phosphate - reduced ==> 5alpha-Cholest-8-en-3beta-ol + Nicotinamide adenine dinucleotide phosphate\n",
      "\n",
      "Reactions:\n",
      "4 Methylzymosterol intermediate 1 C29H46O3 + Nicotinamide adenine dinucleotide ==> 4 Methylzymosterol intermediate 2 C28H44O + CO2 CO2 + H+ + Nicotinamide adenine dinucleotide - reduced\n",
      "\n",
      "Reactions:\n",
      "7-dehydrocholesterol + H+ + Nicotinamide adenine dinucleotide phosphate - reduced ==> cholesterol + Nicotinamide adenine dinucleotide phosphate\n",
      "\n",
      "Reactions:\n",
      "5alpha-Cholesta-7_24-dien-3beta-ol + H+ + Nicotinamide adenine dinucleotide phosphate - reduced ==> lathosterol + Nicotinamide adenine dinucleotide phosphate\n",
      "\n",
      "Reactions:\n",
      "Zymosterol C27H44O + H+ + Nicotinamide adenine dinucleotide phosphate - reduced ==> 5alpha-Cholest-8-en-3beta-ol + Nicotinamide adenine dinucleotide phosphate\n",
      "\n",
      "Reactions:\n",
      "pregnenolone + Nicotinamide adenine dinucleotide ==> progesterone + H+ + Nicotinamide adenine dinucleotide - reduced\n",
      "\n",
      "Reactions:\n",
      "4 Methylzymosterol intermediate 2 C28H44O + H+ + Nicotinamide adenine dinucleotide phosphate - reduced ==> 4 methylzymosterol C28H46O + Nicotinamide adenine dinucleotide phosphate\n",
      "\n",
      "Reactions:\n",
      "4 4 dimethylcholesta 8 14 24 trienol C29H46O + H+ + Nicotinamide adenine dinucleotide phosphate - reduced ==> 4 4 dimethylzymosterol C29H48O + Nicotinamide adenine dinucleotide phosphate\n",
      "\n"
     ]
    }
   ],
   "source": [
    "for t in reactions:\n",
    "    print(\"Reactions:\")\n",
    "    for id in t:\n",
    "        r=model.reactions.get_by_id(id)\n",
    "        #print(r.name, id+\",\",\"Fitness:\", solution.data_frame.fitness[id][10])\n",
    "        s=\"\"\n",
    "        for rea in range(len(r.reactants)):\n",
    "            if rea==len(r.reactants)-1:\n",
    "                s+=r.reactants[rea].name+\" ==> \"\n",
    "            else:\n",
    "                s+=r.reactants[rea].name+\" + \"\n",
    "        for p in range(len(r.products)):\n",
    "            if p==len(r.products)-1:\n",
    "                s+=r.products[p].name\n",
    "            else:\n",
    "                s+=r.products[p].name+\" + \"\n",
    "        print(s)\n",
    "        print()"
   ]
  },
  {
   "cell_type": "code",
   "execution_count": 15,
   "metadata": {},
   "outputs": [
    {
     "data": {
      "text/latex": [
       "$$yield = \\frac{R02216}{EX\\_glc\\_\\_D\\_e}$$"
      ],
      "text/plain": [
       "<cameo.strain_design.heuristic.evolutionary.objective_functions.product_yield at 0x7fddb2463e80>"
      ]
     },
     "execution_count": 15,
     "metadata": {},
     "output_type": "execute_result"
    }
   ],
   "source": [
    "py"
   ]
  }
 ],
 "metadata": {
  "kernelspec": {
   "display_name": "Python 3.9.13 ('base')",
   "language": "python",
   "name": "python3"
  },
  "language_info": {
   "codemirror_mode": {
    "name": "ipython",
    "version": 3
   },
   "file_extension": ".py",
   "mimetype": "text/x-python",
   "name": "python",
   "nbconvert_exporter": "python",
   "pygments_lexer": "ipython3",
   "version": "3.9.13"
  },
  "orig_nbformat": 4,
  "vscode": {
   "interpreter": {
    "hash": "1c61bb7f5e5b8317d1eec5b8bcaa12241e8a88d5b6ba26b6e318bf21311ddd01"
   }
  }
 },
 "nbformat": 4,
 "nbformat_minor": 2
}
